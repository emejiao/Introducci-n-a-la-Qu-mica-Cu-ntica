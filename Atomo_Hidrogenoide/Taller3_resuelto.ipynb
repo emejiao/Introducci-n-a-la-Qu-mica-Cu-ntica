{
 "cells": [
  {
   "cell_type": "code",
   "execution_count": 1,
   "metadata": {},
   "outputs": [],
   "source": [
    "from IPython.display import HTML"
   ]
  },
  {
   "cell_type": "markdown",
   "metadata": {
    "slideshow": {
     "slide_type": "slide"
    }
   },
   "source": [
    "<div class=\"alert alert-success\" role=\"alert\">\n",
    "  <h2 class=\"alert-heading\">Introducción a la Química Cuántica: Taller 3: Átomos Hidrogenoides</h2>\n",
    "  <h3 class=\"alert-heading\">Prof. Enrique Mejía Ospino, emejia@uis.edu.co</h3>\n",
    "  <h3 class=\"alert-heading\">Escuela de Química</h3>\n",
    "  <h3 class=\"alert-heading\">Universidad Industrial de Santander</h3>\n",
    "  <p>\n",
    "  </div>"
   ]
  },
  {
   "cell_type": "markdown",
   "metadata": {
    "slideshow": {
     "slide_type": "slide"
    }
   },
   "source": [
    "### <div class=\"alert alert-info\"><font color='blue'> <h2 class=\"alert-heading\">Preguntas</h2>"
   ]
  },
  {
   "cell_type": "code",
   "execution_count": 34,
   "metadata": {
    "colab": {},
    "colab_type": "code",
    "id": "OP2gXkjPMVK3",
    "outputId": "68f28da0-d99a-4e93-b278-871fcf9006f0"
   },
   "outputs": [
    {
     "data": {
      "image/png": "[encoded data removed]",
      "text/latex": [
       "$\\displaystyle \\left( \\frac{15 \\sin^{4}{\\left(\\theta \\right)}}{16 \\pi}, \\  0, \\  \\frac{15 \\sin^{4}{\\left(\\theta \\right)}}{16 \\pi}, \\  0\\right)$"
      ],
      "text/plain": [
       "⎛      4              4      ⎞\n",
       "⎜15⋅sin (θ)     15⋅sin (θ)   ⎟\n",
       "⎜──────────, 0, ──────────, 0⎟\n",
       "⎝   16⋅π           16⋅π      ⎠"
      ]
     },
     "execution_count": 34,
     "metadata": {},
     "output_type": "execute_result"
    }
   ],
   "source": [
    "dx2y22=dx2y2**2\n",
    "dx2y22.subs(phi,fi4[0]), dx2y22.subs(phi,fi4[1]), dx2y22.subs(phi,fi4[2]), dx2y22.subs(phi,fi4[3]) "
   ]
  },
  {
   "cell_type": "markdown",
   "metadata": {
    "slideshow": {
     "slide_type": "subslide"
    }
   },
   "source": [
    "**<div class=\"alert alert-warning\">1. Para el estado fundamental del hidrógeno. a) Calcular la probabilidad de encontrar el electrón a una distancia del núcleo superior a 2 veces el radio de Bohr. b) Calcular el radio de la esfera dentro de la cual la probabilidad de encontrar el electrón es del 90%.**\n",
    "\n",
    "**<div class=\"alert alert-info\">2. Para el orbital 2s del hidrógeno, calcular la distancia más probable del electrón al núcleo.**\n",
    "\n",
    "**<div class=\"alert alert-warning\">3. Localice los nodos radiales en el orbital 3s del átomo de hidrógeno.**\n",
    "\n",
    "**<div class=\"alert alert-warning\">4.  Para el electrón en el orbital 1s del átomo de hidrógeno calcular $<r>$ y $<r^2>$. Calcular la incertidumbre en la distancia al núcleo.**\n",
    "    \n",
    "**<div class=\"alert alert-success\">5.  El operador para la energía potencial de un electrón en el átomo de hidrógeno o un ion hidrogenoide es $V(r) = \\frac{-Ze^2}{4πε_0r}$. Calcule el valor <V> para un electrón en el nivel fundamental. B) ¿Cuál es el valor de $<E_c>$ ?.** \n",
    "    \n",
    "**<div class=\"alert alert-success\">6.  La serie de Humphreys del espectro del átomo de hidrógeno empieza a 12368 nm y se ha seguido hasta 3281.4 nm. ¿Qué tipo de transiciones están implicadas y cuáles son los valores de longitud de onda de las transiciones intermedias?**\n",
    "    \n",
    "**<div class=\"alert alert-danger\">7.  Calcule los ángulos que los vectores momento angular forman con el eje $z$ para los orbitales $2p_{+1}$, $2p_0$ y $2p_{-1}$**\n",
    "\n",
    "**<div class=\"alert alert-danger\">8.  ¿Cuáles son los puntos de máxima probabilidad de encontrar al electrón para un átomo hidrogenoide en el orbital $2p_z$?**\n",
    "$$\\Psi_{2p_z}=\\frac{1}{\\sqrt{32\\pi}}\\left(\\frac{Z}{a_0}\\right)^{\\frac{3}{2}} \\frac{Zr}{a_0}e^{-\\frac{Zr}{2a_0}}cos \\theta$$\n",
    "    \n",
    "**<div class=\"alert alert-danger\">9 Para el átomo de hidrógeno en el orbital $2p_z$ la probabilidad de encontrar al electrón en el cuadrante comprendido entre las partes positivas de los ejes $(+x, +y, +z)$, es 0.125. Demuéstrelo.**\n",
    "\n",
    "**<div class=\"alert alert-danger\">10.  Las orientaciones de máxima densidad de probabilidad del orbital $3d_{x^2 - y^2}$ − coinciden con las direcciones de los ejes $X$ e $Y$. Demuéstrelo.\n",
    "$ψ(3d_{x^2 - y^2})=NR(r)sen^2θ·cos2φ$**\n",
    "\n",
    "**<div class=\"alert alert-danger\">11. El estado del átomo de hidrógeno descrito por el orbital 2px viene dado por la siguiente combinación lineal:**\n",
    "\n",
    "$$2p_x=\\frac{1}{\\sqrt{2}}(\\Psi_{211} + \\Psi_{21-1})=\\frac{1}{\\sqrt{32\\pi}}\\left(\\frac{Z}{a_0}\\right)^{\\frac{3}{2}} \\frac{Zr}{a_0}e^{-\\frac{Zr}{2a_0}}sen \\theta cos \\phi$$\n",
    "    \n",
    "**<div class=\"alert alert-danger\"> a) Determine los valores medios del módulo y de la componente $z$ del momento angular orbital para el hidrógeno en ese estado. b) ¿Es autofunción de los operadores $\\hat{L}^2$ y $\\hat{L}_z$?**"
   ]
  },
  {
   "cell_type": "code",
   "execution_count": 2,
   "metadata": {},
   "outputs": [],
   "source": [
    "import matplotlib as mpl # matplotlib library for plotting and visualization\n",
    "import matplotlib.pylab as plt # matplotlib library for plotting and visualization\n",
    "import numpy as np #numpy library for numerical manipulation, especially suited for data arrays\n",
    "from sympy import *\n",
    "from sympy.physics.hydrogen import Psi_nlm, R_nl\n",
    "init_printing(use_unicode=True)"
   ]
  },
  {
   "cell_type": "markdown",
   "metadata": {},
   "source": [
    "**<div class=\"alert alert-warning\">1. Para el estado fundamental del hidrógeno. a) Calcular la probabilidad de encontrar el electrón a una distancia del núcleo superior a 2 veces el radio de Bohr. b) Calcular el radio de la esfera dentro de la cual la probabilidad de encontrar el electrón es del 90%.**\n",
    "$$P_r(r_1 \\leq r \\leq r_2)=\\int_{r_1}^{r_2} |R_{1s}|^2 r^2 dr$$"
   ]
  },
  {
   "cell_type": "code",
   "execution_count": 3,
   "metadata": {},
   "outputs": [
    {
     "data": {
      "image/png": "[encoded data removed]",
      "text/latex": [
       "$\\displaystyle \\left( \\int\\limits_{2}^{\\infty} 4 r^{2} e^{- 2 r}\\, dr, \\  0.238103305553544\\right)$"
      ],
      "text/plain": [
       "⎛∞                                 ⎞\n",
       "⎜⌠                                 ⎟\n",
       "⎜⎮    2  -2⋅r                      ⎟\n",
       "⎜⎮ 4⋅r ⋅ℯ     dr, 0.238103305553544⎟\n",
       "⎜⌡                                 ⎟\n",
       "⎝2                                 ⎠"
      ]
     },
     "execution_count": 3,
     "metadata": {},
     "output_type": "execute_result"
    }
   ],
   "source": [
    "a, n=symbols('a n')\n",
    "var(\"r Z\")\n",
    "(r, Z)\n",
    "#R_nl(n, l, r, Z)\n",
    "Pr=Integral(R_nl(1, 0, r, 1)**2 * r**2, (r, 2, oo))\n",
    "Pr, Pr.evalf()"
   ]
  },
  {
   "cell_type": "code",
   "execution_count": 4,
   "metadata": {},
   "outputs": [
    {
     "data": {
      "image/png": "[encoded data removed]",
      "text/latex": [
       "$\\displaystyle 0.238103305553544$"
      ],
      "text/plain": [
       "0.238103305553544"
      ]
     },
     "execution_count": 4,
     "metadata": {},
     "output_type": "execute_result"
    }
   ],
   "source": [
    "Pr.evalf()"
   ]
  },
  {
   "cell_type": "code",
   "execution_count": 5,
   "metadata": {},
   "outputs": [
    {
     "data": {
      "image/png": "[encoded data removed]",
      "text/latex": [
       "$\\displaystyle \\left( \\int\\limits_{0}^{r} 4 r^{2} e^{- 2 r}\\, dr, \\  \\left(- 2 r^{2} - 2 r - 1\\right) e^{- 2 r} + 1\\right)$"
      ],
      "text/plain": [
       "⎛r                                            ⎞\n",
       "⎜⌠                                            ⎟\n",
       "⎜⎮    2  -2⋅r     ⎛     2          ⎞  -2⋅r    ⎟\n",
       "⎜⎮ 4⋅r ⋅ℯ     dr, ⎝- 2⋅r  - 2⋅r - 1⎠⋅ℯ     + 1⎟\n",
       "⎜⌡                                            ⎟\n",
       "⎝0                                            ⎠"
      ]
     },
     "execution_count": 5,
     "metadata": {},
     "output_type": "execute_result"
    }
   ],
   "source": [
    "a, n, r=symbols('a n r')\n",
    "var(\"r Z phi theta\")\n",
    "(r, Z)\n",
    "#R_nl(n, l, r, Z)\n",
    "Pr1=Integral(R_nl(1, 0, r, 1)**2 * r**2, (r, 0, r))\n",
    "Pr1, Pr1.doit()"
   ]
  },
  {
   "cell_type": "code",
   "execution_count": 6,
   "metadata": {},
   "outputs": [
    {
     "data": {
      "image/png": "[encoded data removed]",
      "text/latex": [
       "$\\displaystyle \\left( 2.661160168917105, \\  6\\right)$"
      ],
      "text/plain": [
       "(2.661160168917105, 6)"
      ]
     },
     "execution_count": 6,
     "metadata": {},
     "output_type": "execute_result"
    }
   ],
   "source": [
    "from scipy import optimize\n",
    "def f(x):\n",
    "    return (-2*x**2 - 2*x - 1)*np.e**(-2*x) + 0.1  # only one real root at x =1\n",
    "def fprime(x):\n",
    "    return (4*x**2)*np.e**(-2*x) #Derivada de la función\n",
    "sol = optimize.root_scalar(f, x0=1, fprime=fprime, method='newton')\n",
    "sol.root, sol.iterations"
   ]
  },
  {
   "cell_type": "markdown",
   "metadata": {},
   "source": [
    "**<div class=\"alert alert-info\">2. Para el orbital 2s del hidrógeno, calcular la distancia más probable del electrón al núcleo.**"
   ]
  },
  {
   "cell_type": "code",
   "execution_count": 7,
   "metadata": {},
   "outputs": [
    {
     "data": {
      "image/png": "[encoded data removed]",
      "text/latex": [
       "$\\displaystyle \\left( \\frac{r^{2} \\left(2 - r\\right)^{2} e^{- r}}{8}, \\  \\frac{r \\left(r - 2\\right) \\left(- r \\left(r - 2\\right) + 4 r - 4\\right) e^{- r}}{8}, \\  \\frac{\\left(r^{4} - 12 r^{3} + 40 r^{2} - 40 r + 8\\right) e^{- r}}{8}\\right)$"
      ],
      "text/plain": [
       "⎛ 2        2  -r                                    -r  ⎛ 4       3       2   \n",
       "⎜r ⋅(2 - r) ⋅ℯ    r⋅(r - 2)⋅(-r⋅(r - 2) + 4⋅r - 4)⋅ℯ    ⎝r  - 12⋅r  + 40⋅r  - \n",
       "⎜───────────────, ────────────────────────────────────, ──────────────────────\n",
       "⎝       8                          8                                     8    \n",
       "\n",
       "        ⎞  -r⎞\n",
       "40⋅r + 8⎠⋅ℯ  ⎟\n",
       "─────────────⎟\n",
       "             ⎠"
      ]
     },
     "execution_count": 7,
     "metadata": {},
     "output_type": "execute_result"
    }
   ],
   "source": [
    "# calculamos la primera y segunda derivada de  f(x)  mediante la función diff:\n",
    "f1=R_nl(2, 0, r, 1)**2 * r**2\n",
    "df1 = diff(f1, r) # 1era. derivada\n",
    "d2f1 = diff(f1,r,2) # Segunda derivada\n",
    "f1, df1.simplify(), d2f1.simplify()"
   ]
  },
  {
   "cell_type": "code",
   "execution_count": 8,
   "metadata": {},
   "outputs": [
    {
     "data": {
      "image/png": "[encoded data removed]",
      "text/latex": [
       "$\\displaystyle \\left[ 0, \\  2, \\  3 - \\sqrt{5}, \\  \\sqrt{5} + 3\\right]$"
      ],
      "text/plain": [
       "[0, 2, 3 - √5, √5 + 3]"
      ]
     },
     "execution_count": 8,
     "metadata": {},
     "output_type": "execute_result"
    }
   ],
   "source": [
    "#Los puntos críticos los calculamos resolviendo la ecuación  f′(x)=0\n",
    "pc1 = solve(Eq(df1, 0))\n",
    "pc1"
   ]
  },
  {
   "cell_type": "code",
   "execution_count": 9,
   "metadata": {},
   "outputs": [
    {
     "data": {
      "image/png": "[encoded data removed]",
      "text/latex": [
       "$\\displaystyle \\left( 0.76393202250021, \\  5.23606797749979\\right)$"
      ],
      "text/plain": [
       "(0.76393202250021, 5.23606797749979)"
      ]
     },
     "execution_count": 9,
     "metadata": {},
     "output_type": "execute_result"
    }
   ],
   "source": [
    "pc1[2].evalf(), pc1[3].evalf()"
   ]
  },
  {
   "cell_type": "code",
   "execution_count": 10,
   "metadata": {},
   "outputs": [
    {
     "data": {
      "image/png": "[encoded data removed]",
      "text/latex": [
       "$\\displaystyle \\left( 1.0, \\  0.135335283236613, \\  -0.245895521783261, \\  -0.0504025481775792\\right)$"
      ],
      "text/plain": [
       "(1.0, 0.135335283236613, -0.245895521783261, -0.0504025481775792)"
      ]
     },
     "execution_count": 10,
     "metadata": {},
     "output_type": "execute_result"
    }
   ],
   "source": [
    "p1=d2f1.subs(r,pc1[0]) # Primer punto crítico\n",
    "p2=d2f1.subs(r,pc1[1]) # Segundo punto crítico\n",
    "p3=d2f1.subs(r,pc1[2]) # Tercer punto crítico\n",
    "p4=d2f1.subs(r,pc1[3]) # Cuarto punto crítico\n",
    "p1.evalf(),p2.evalf(),p3.evalf(),p4.evalf()"
   ]
  },
  {
   "cell_type": "code",
   "execution_count": 11,
   "metadata": {},
   "outputs": [
    {
     "data": {
      "image/png": "[encoded data removed]",
      "text/plain": [
       "<Figure size 432x288 with 1 Axes>"
      ]
     },
     "metadata": {
      "needs_background": "light"
     },
     "output_type": "display_data"
    },
    {
     "data": {
      "text/plain": [
       "<sympy.plotting.plot.Plot at 0x1653e9683c8>"
      ]
     },
     "execution_count": 11,
     "metadata": {},
     "output_type": "execute_result"
    }
   ],
   "source": [
    "plot(f1, (r, 0, 20))"
   ]
  },
  {
   "cell_type": "code",
   "execution_count": 12,
   "metadata": {},
   "outputs": [],
   "source": [
    "#Podemos automatizar este proceso definiendo una función que realice el procedimiento descrito.\n",
    "def maxminf(f):\n",
    "    \"\"\" Calcula los máximos y mínimos de una función f(r) \"\"\"\n",
    "    df = diff(f, r) # 1era. derivada\n",
    "    d2f = diff(f, r, 2) # 2da. derivada\n",
    "    pcs = solve(Eq(df,0)) # puntos críticos\n",
    "    for p in pcs:\n",
    "        if d2f.subs(r,p)>0: \n",
    "            tipo=\"Min\"\n",
    "        elif d2f.subs(r,p)<0: \n",
    "            tipo=\"Max\"\n",
    "        else: \n",
    "            tipo=\"Indefinido\"\n",
    "        print(\"x = %f (%s)\"%(p,tipo))"
   ]
  },
  {
   "cell_type": "code",
   "execution_count": 13,
   "metadata": {},
   "outputs": [
    {
     "name": "stdout",
     "output_type": "stream",
     "text": [
      "x = 0.000000 (Min)\n",
      "x = 2.000000 (Min)\n",
      "x = 0.763932 (Max)\n",
      "x = 5.236068 (Max)\n"
     ]
    }
   ],
   "source": [
    "maxminf(R_nl(2, 0, r, 1)**2 * r**2)"
   ]
  },
  {
   "cell_type": "markdown",
   "metadata": {},
   "source": [
    "**<div class=\"alert alert-warning\">3. Localice los nodos radiales en el orbital 3s del átomo de hidrógeno.**"
   ]
  },
  {
   "cell_type": "code",
   "execution_count": 14,
   "metadata": {},
   "outputs": [
    {
     "data": {
      "image/png": "[encoded data removed]",
      "text/plain": [
       "<Figure size 432x288 with 1 Axes>"
      ]
     },
     "metadata": {
      "needs_background": "light"
     },
     "output_type": "display_data"
    },
    {
     "data": {
      "text/plain": [
       "<sympy.plotting.plot.Plot at 0x165402a6408>"
      ]
     },
     "execution_count": 14,
     "metadata": {},
     "output_type": "execute_result"
    }
   ],
   "source": [
    "plot(R_nl(3, 0, r, 1)**2*r**2, (r, 0, 30.0))"
   ]
  },
  {
   "cell_type": "code",
   "execution_count": 15,
   "metadata": {},
   "outputs": [
    {
     "name": "stdout",
     "output_type": "stream",
     "text": [
      "x = 1.901924 (Min)\n",
      "x = 3.531373 (Max)\n",
      "x = 7.098076 (Min)\n",
      "x = 11.468627 (Max)\n"
     ]
    }
   ],
   "source": [
    "maxminf((R_nl(3, 0, r, 1)**2))"
   ]
  },
  {
   "cell_type": "markdown",
   "metadata": {},
   "source": [
    "**<div class=\"alert alert-warning\">4.  Para el electrón en el orbital 1s del átomo de hidrógeno calcular $<r>$ y $<r^2>$. Calcular la incertidumbre en la distancia al núcleo.**"
   ]
  },
  {
   "cell_type": "code",
   "execution_count": 16,
   "metadata": {},
   "outputs": [
    {
     "data": {
      "image/png": "[encoded data removed]",
      "text/latex": [
       "$\\displaystyle \\left( \\int\\limits_{0}^{\\infty} 4 r^{3} e^{- 2 r}\\, dr, \\  \\int\\limits_{0}^{\\infty} 4 r^{4} e^{- 2 r}\\, dr, \\  \\frac{3}{2}, \\  3, \\  0.866025403784439\\right)$"
      ],
      "text/plain": [
       "⎛∞                ∞                                         ⎞\n",
       "⎜⌠                ⌠                                         ⎟\n",
       "⎜⎮    3  -2⋅r     ⎮    4  -2⋅r                              ⎟\n",
       "⎜⎮ 4⋅r ⋅ℯ     dr, ⎮ 4⋅r ⋅ℯ     dr, 3/2, 3, 0.866025403784439⎟\n",
       "⎜⌡                ⌡                                         ⎟\n",
       "⎝0                0                                         ⎠"
      ]
     },
     "execution_count": 16,
     "metadata": {},
     "output_type": "execute_result"
    }
   ],
   "source": [
    "a, n, r=symbols('a n r')\n",
    "var(\"r Z\")\n",
    "(r, Z)\n",
    "#R_nl(n, l, r, Z)\n",
    "Prr=Integral(R_nl(1, 0, r, 1)**2 * r**3, (r, 0, oo))\n",
    "Prr2=Integral(R_nl(1, 0, r, 1)**2 * r**4, (r, 0, oo))\n",
    "Prr, Prr2, Prr.doit(), Prr2.doit(), sqrt(Prr2.doit() - (Prr.doit())**2).evalf()"
   ]
  },
  {
   "cell_type": "code",
   "execution_count": 17,
   "metadata": {},
   "outputs": [
    {
     "data": {
      "image/png": "[encoded data removed]",
      "text/plain": [
       "<Figure size 432x288 with 1 Axes>"
      ]
     },
     "metadata": {
      "needs_background": "light"
     },
     "output_type": "display_data"
    },
    {
     "data": {
      "text/plain": [
       "<sympy.plotting.plot.Plot at 0x165405cfc08>"
      ]
     },
     "execution_count": 17,
     "metadata": {},
     "output_type": "execute_result"
    }
   ],
   "source": [
    "plot(R_nl(1, 0, r, 1)**2*r**2, (r, 0, 5.0))"
   ]
  },
  {
   "cell_type": "markdown",
   "metadata": {},
   "source": [
    "**<div class=\"alert alert-success\">5.  El operador para la energía potencial de un electrón en el átomo de hidrógeno o un ion hidrogenoide es $V(r) = \\frac{-Ze^2}{4πε_0r}$. Calcule el valor <V> para un electrón en el nivel fundamental. B) ¿Cuál es el valor de $<E_c>$ ?.**"
   ]
  },
  {
   "cell_type": "code",
   "execution_count": 18,
   "metadata": {},
   "outputs": [
    {
     "data": {
      "image/png": "[encoded data removed]",
      "text/latex": [
       "$\\displaystyle \\left( \\int\\limits_{0}^{\\infty} \\left(- 4 r e^{- 2 r}\\right)\\, dr, \\  -1, \\  0.5\\right)$"
      ],
      "text/plain": [
       "⎛∞                       ⎞\n",
       "⎜⌠                       ⎟\n",
       "⎜⎮       -2⋅r            ⎟\n",
       "⎜⎮ -4⋅r⋅ℯ     dr, -1, 0.5⎟\n",
       "⎜⌡                       ⎟\n",
       "⎝0                       ⎠"
      ]
     },
     "execution_count": 18,
     "metadata": {},
     "output_type": "execute_result"
    }
   ],
   "source": [
    "a, n, r=symbols('a n r')\n",
    "var(\"r Z\")\n",
    "(r, Z)\n",
    "#R_nl(n, l, r, Z)\n",
    "Vr=Integral(R_nl(1, 0, r, 1)**2 * (-r), (r, 0, oo))\n",
    "\n",
    "Vr, Vr.doit(), -0.5-Vr.doit()"
   ]
  },
  {
   "cell_type": "markdown",
   "metadata": {},
   "source": [
    "**<div class=\"alert alert-success\">6.  La serie de Humphreys del espectro del átomo de hidrógeno empieza a 12368 nm y se ha seguido hasta 3281.4 nm. ¿Qué tipo de transiciones están implicadas y cuáles son los valores de longitud de onda de las transiciones intermedias?**\n",
    "$$\\large \\Delta E = E_{n_f} - E_{n_i}= -0.5 \\left (\\frac{1}{n_f^2} - \\frac{1}{n_i^2} \\right ) = h\\nu = \\frac{hc}{\\lambda} \\Longrightarrow$$\n",
    "$$\\large \\frac{1}{\\lambda}= \\frac{-0.5}{hc} \\left (\\frac{1}{n_f^2} - \\frac{1}{n_i^2} \\right )=R \\left (\\frac{1}{n_f^2} - \\frac{1}{n_i^2} \\right )$$"
   ]
  },
  {
   "cell_type": "code",
   "execution_count": 19,
   "metadata": {},
   "outputs": [
    {
     "data": {
      "image/png": "[encoded data removed]",
      "text/latex": [
       "$\\displaystyle \\left( 6, \\  7501, \\  5907, \\  5128, \\  4672\\right)$"
      ],
      "text/plain": [
       "(6, 7501, 5907, 5128, 4672)"
      ]
     },
     "execution_count": 19,
     "metadata": {},
     "output_type": "execute_result"
    }
   ],
   "source": [
    "R=1.097*10**7\n",
    "lamb=3281.2*10**(-9)\n",
    "nf=sqrt(R*lamb)\n",
    "DE1=1/(R*(1/(6**2)-1/(8**2)))\n",
    "DE2=1/(R*(1/(6**2)-1/(9**2)))\n",
    "DE3=1/(R*(1/(6**2)-1/(10**2)))\n",
    "DE4=1/(R*(1/(6**2)-1/(11**2)))\n",
    "round(nf), round(DE1*10**9), round(DE2*10**9), round(DE3*10**9), round(DE4*10**9) # En nanometros"
   ]
  },
  {
   "cell_type": "markdown",
   "metadata": {},
   "source": [
    "**<div class=\"alert alert-danger\">7.  Calcule los ángulos que los vectores momento angular forman con el eje $z$ para los orbitales $2p_{+1}$, $2p_0$ y $2p_{-1}$**\n",
    "$$\\large L_z=m\\hbar$$\n",
    "$$\\large |L|=\\sqrt{l(l+1)}\\hbar$$\n",
    "$$\\large cos(\\alpha)=\\frac{L_z}{|L|} \\Longrightarrow \\alpha = arccos \\left (\\frac{L_z}{|L|} \\right )$$"
   ]
  },
  {
   "cell_type": "code",
   "execution_count": 27,
   "metadata": {},
   "outputs": [
    {
     "data": {
      "image/png": "[encoded data removed]",
      "text/latex": [
       "$\\displaystyle \\left( \\frac{\\pi}{4}, \\  \\frac{\\pi}{2}, \\  \\frac{3 \\pi}{4}\\right)$"
      ],
      "text/plain": [
       "⎛π  π  3⋅π⎞\n",
       "⎜─, ─, ───⎟\n",
       "⎝4  2   4 ⎠"
      ]
     },
     "execution_count": 27,
     "metadata": {},
     "output_type": "execute_result"
    }
   ],
   "source": [
    "apmas1=acos(1/(sqrt(2)))\n",
    "ap0=acos(0)\n",
    "apmenos1=acos(-1/(sqrt(2)))\n",
    "apmas1, ap0, apmenos1"
   ]
  },
  {
   "cell_type": "markdown",
   "metadata": {},
   "source": [
    "**<div class=\"alert alert-danger\">8.  ¿Cuáles son los puntos de máxima probabilidad de encontrar al electrón para un átomo hidrogenoide en el orbital $2p_z$?**\n",
    "$$\\Psi_{2p_z}=\\frac{1}{\\sqrt{32\\pi}}\\left(\\frac{Z}{a_0}\\right)^{\\frac{3}{2}} \\frac{Zr}{a_0}e^{-\\frac{Zr}{2a_0}}cos \\theta$$"
   ]
  },
  {
   "cell_type": "code",
   "execution_count": 20,
   "metadata": {},
   "outputs": [
    {
     "data": {
      "image/png": "[encoded data removed]",
      "text/latex": [
       "$\\displaystyle \\left( - \\frac{r^{2} e^{- r} \\cos^{2}{\\left(\\theta \\right)}}{32 \\pi} + \\frac{r e^{- r} \\cos^{2}{\\left(\\theta \\right)}}{16 \\pi}, \\  \\left[ 0, \\  2\\right], \\  \\left[ 0, \\  \\frac{\\pi}{2}, \\  \\pi, \\  \\frac{3 \\pi}{2}\\right]\\right)$"
      ],
      "text/plain": [
       "⎛   2  -r    2         -r    2                           ⎞\n",
       "⎜  r ⋅ℯ  ⋅cos (θ)   r⋅ℯ  ⋅cos (θ)          ⎡   π     3⋅π⎤⎟\n",
       "⎜- ────────────── + ─────────────, [0, 2], ⎢0, ─, π, ───⎥⎟\n",
       "⎝       32⋅π             16⋅π              ⎣   2      2 ⎦⎠"
      ]
     },
     "execution_count": 20,
     "metadata": {},
     "output_type": "execute_result"
    }
   ],
   "source": [
    "r3=solve(diff((Psi_nlm(2,1,0,r,phi,theta,1)**2), r), r)\n",
    "tta3=solve(diff((Psi_nlm(2,1,0,r,phi,theta,1)**2), theta), theta)\n",
    "diff((Psi_nlm(2,1,0,r,phi,theta,1)**2), r), r3, tta3"
   ]
  },
  {
   "cell_type": "code",
   "execution_count": 21,
   "metadata": {},
   "outputs": [
    {
     "data": {
      "image/png": "[encoded data removed]",
      "text/latex": [
       "$\\displaystyle 0$"
      ],
      "text/plain": [
       "0"
      ]
     },
     "execution_count": 21,
     "metadata": {},
     "output_type": "execute_result"
    }
   ],
   "source": [
    "Psi_nlm(2,1,0,r,phi,pi/2,1)**2"
   ]
  },
  {
   "cell_type": "markdown",
   "metadata": {},
   "source": [
    "**<div class=\"alert alert-danger\">9 Para el átomo de hidrógeno en el orbital $2p_z$ la probabilidad de encontrar al electrón en el cuadrante comprendido entre las partes positivas de los ejes $(+x, +y, +z)$, es 0.125. Demuéstrelo.**"
   ]
  },
  {
   "cell_type": "code",
   "execution_count": 22,
   "metadata": {},
   "outputs": [
    {
     "data": {
      "image/png": "[encoded data removed]",
      "text/latex": [
       "$\\displaystyle \\left( \\int\\limits_{0}^{\\frac{\\pi}{2}}\\int\\limits_{0}^{\\frac{\\pi}{2}}\\int\\limits_{0}^{\\infty} \\frac{r^{4} e^{- r} \\sin{\\left(\\theta \\right)} \\cos^{2}{\\left(\\theta \\right)}}{32 \\pi}\\, dr\\, d\\phi\\, d\\theta, \\  0.125\\right)$"
      ],
      "text/plain": [
       "⎛π π                                        ⎞\n",
       "⎜─ ─                                        ⎟\n",
       "⎜2 2 ∞                                      ⎟\n",
       "⎜⌠ ⌠ ⌠                                      ⎟\n",
       "⎜⎮ ⎮ ⎮  4  -r           2                   ⎟\n",
       "⎜⎮ ⎮ ⎮ r ⋅ℯ  ⋅sin(θ)⋅cos (θ)                ⎟\n",
       "⎜⎮ ⎮ ⎮ ───────────────────── dr dφ dθ, 0.125⎟\n",
       "⎜⎮ ⎮ ⎮          32⋅π                        ⎟\n",
       "⎜⌡ ⌡ ⌡                                      ⎟\n",
       "⎝0 0 0                                      ⎠"
      ]
     },
     "execution_count": 22,
     "metadata": {},
     "output_type": "execute_result"
    }
   ],
   "source": [
    "Pr5=Integral((Psi_nlm(2,1,0,r,phi,theta,1))**2 * r**2 * sin(theta), (r, 0, oo), (phi, 0, pi/2), (theta, 0, pi/2))\n",
    "Pr6=Pr5.doit()\n",
    "Pr5, Pr6.evalf()"
   ]
  },
  {
   "cell_type": "markdown",
   "metadata": {},
   "source": [
    "**<div class=\"alert alert-danger\">10.  Las orientaciones de máxima densidad de probabilidad del orbital $3d_{x^2 - y^2}$ − coinciden con las direcciones de los ejes $X$ e $Y$. Demuéstrelo.\n",
    "$ψ(3d_{x^2 - y^2})=NR(r)sen^2θ·cos2φ$**"
   ]
  },
  {
   "cell_type": "code",
   "execution_count": 88,
   "metadata": {},
   "outputs": [
    {
     "data": {
      "image/png": "[encoded data removed]",
      "text/latex": [
       "$\\displaystyle \\left( \\frac{\\sqrt{15} \\sin^{2}{\\left(\\theta \\right)} \\cos{\\left(2 \\phi \\right)}}{4 \\sqrt{\\pi}}, \\  - \\frac{15 \\sin{\\left(2 \\phi \\right)} \\sin^{4}{\\left(\\theta \\right)} \\cos{\\left(2 \\phi \\right)}}{4 \\pi}\\right)$"
      ],
      "text/plain": [
       "⎛       2                              4             ⎞\n",
       "⎜√15⋅sin (θ)⋅cos(2⋅φ)  -15⋅sin(2⋅φ)⋅sin (θ)⋅cos(2⋅φ) ⎟\n",
       "⎜────────────────────, ──────────────────────────────⎟\n",
       "⎝        4⋅√π                       4⋅π              ⎠"
      ]
     },
     "execution_count": 88,
     "metadata": {},
     "output_type": "execute_result"
    }
   ],
   "source": [
    "from sympy import Ynm, Znm, Symbol, simplify\n",
    "from sympy.abc import n,m\n",
    "theta = Symbol(\"theta\")\n",
    "phi = Symbol(\"phi\")\n",
    "dx2y2=simplify(Znm(2, 2, theta, phi).expand(func=True))\n",
    "dx2y2, diff(((dx2y2)**2), phi)"
   ]
  },
  {
   "cell_type": "code",
   "execution_count": 83,
   "metadata": {},
   "outputs": [
    {
     "data": {
      "image/png": "[encoded data removed]",
      "text/latex": [
       "$\\displaystyle \\left( \\left[ 0, \\  \\frac{\\pi}{4}, \\  \\frac{\\pi}{2}, \\  \\frac{3 \\pi}{4}\\right], \\  \\left[ 0, \\  \\frac{\\pi}{2}, \\  \\pi, \\  \\frac{3 \\pi}{2}\\right]\\right)$"
      ],
      "text/plain": [
       "⎛⎡   π  π  3⋅π⎤  ⎡   π     3⋅π⎤⎞\n",
       "⎜⎢0, ─, ─, ───⎥, ⎢0, ─, π, ───⎥⎟\n",
       "⎝⎣   4  2   4 ⎦  ⎣   2      2 ⎦⎠"
      ]
     },
     "execution_count": 83,
     "metadata": {},
     "output_type": "execute_result"
    }
   ],
   "source": [
    "fi4=solve(diff(((dx2y2)**2), phi), phi)\n",
    "tta4=solve(diff(((dx2y2)**2), theta), theta)\n",
    "fi4, tta4"
   ]
  },
  {
   "cell_type": "code",
   "execution_count": 85,
   "metadata": {},
   "outputs": [
    {
     "data": {
      "image/png": "[encoded data removed]",
      "text/latex": [
       "$\\displaystyle \\left( \\frac{15 \\sin^{4}{\\left(\\theta \\right)}}{16 \\pi}, \\  0, \\  \\frac{15 \\sin^{4}{\\left(\\theta \\right)}}{16 \\pi}, \\  0\\right)$"
      ],
      "text/plain": [
       "⎛      4              4      ⎞\n",
       "⎜15⋅sin (θ)     15⋅sin (θ)   ⎟\n",
       "⎜──────────, 0, ──────────, 0⎟\n",
       "⎝   16⋅π           16⋅π      ⎠"
      ]
     },
     "execution_count": 85,
     "metadata": {},
     "output_type": "execute_result"
    }
   ],
   "source": [
    "dx2y22=dx2y2**2\n",
    "dx2y22.subs(phi,fi4[0]), dx2y22.subs(phi,fi4[1]), dx2y22.subs(phi,fi4[2]), dx2y22.subs(phi,fi4[3]) "
   ]
  },
  {
   "cell_type": "code",
   "execution_count": 87,
   "metadata": {},
   "outputs": [
    {
     "data": {
      "image/png": "[encoded data removed]",
      "text/latex": [
       "$\\displaystyle \\left( 0, \\  \\frac{15 \\cos^{2}{\\left(2 \\phi \\right)}}{16 \\pi}, \\  0\\right)$"
      ],
      "text/plain": [
       "⎛         2        ⎞\n",
       "⎜   15⋅cos (2⋅φ)   ⎟\n",
       "⎜0, ────────────, 0⎟\n",
       "⎝       16⋅π       ⎠"
      ]
     },
     "execution_count": 87,
     "metadata": {},
     "output_type": "execute_result"
    }
   ],
   "source": [
    "dx2y22=dx2y2**2\n",
    "dx2y22.subs(theta,tta4[0]), dx2y22.subs(theta,tta4[1]), dx2y22.subs(theta,tta4[2]) "
   ]
  },
  {
   "cell_type": "markdown",
   "metadata": {},
   "source": [
    "**<div class=\"alert alert-danger\">11. El estado del átomo de hidrógeno descrito por el orbital $2p_x$ viene dado por la siguiente combinación lineal:**\n",
    "\n",
    "$$2p_x=\\frac{1}{\\sqrt{2}}(\\Psi_{211} + \\Psi_{21-1})=\\frac{1}{\\sqrt{32\\pi}}\\left(\\frac{Z}{a_0}\\right)^{\\frac{3}{2}} \\frac{Zr}{a_0}e^{-\\frac{Zr}{2a_0}}sen \\theta cos \\phi$$\n",
    "\n",
    "**<div class=\"alert alert-danger\"> a) Determine los valores medios del módulo y de la componente $z$ del momento angular orbital para el hidrógeno en ese estado. b) ¿Es autofunción de los operadores $\\hat{L}^2$ y $\\hat{L}_z$?**"
   ]
  },
  {
   "cell_type": "markdown",
   "metadata": {},
   "source": [
    "$$\\large \\hat{L}_z \\Psi_{211}=+1\\hbar \\Psi_{211}$$\n",
    "$$\\large \\hat{L}^2\\Psi_{211}=1(1+1)\\hbar^2 \\Psi_{211} = 2 \\hbar^2 \\Psi_{211}$$\n",
    "$$\\large \\hat{L}_z \\Psi_{21-1}=-1\\hbar \\Psi_{21-1}$$\n",
    "$$\\large \\hat{L}^2\\Psi_{21-1}=1(1+1)\\hbar^2 \\Psi_{21-1} = 2 \\hbar^2 \\Psi_{21-1}$$\n",
    "$$\\hat{L}^2(2p_x)=\\frac{1}{\\sqrt{2}}\\hat{L}^2(\\Psi_{211} + \\Psi_{21-1})= \\frac{1}{\\sqrt{2}}(2\\hbar^2\\Psi_{211} + 2\\hbar^2\\Psi_{21-1})=2\\hbar^2(2p_x)$$\n",
    "$$\\hat{L}_z(2p_x)=\\frac{1}{\\sqrt{2}}\\hat{L}_z(\\Psi_{211} + \\Psi_{21-1})= \\frac{1}{\\sqrt{2}}(+1\\hbar\\Psi_{211} -1\\hbar\\Psi_{21-1})=\\hbar\\frac{1}{\\sqrt{2}}(\\Psi_{211} - \\Psi_{21-1})=\\hbar(2p_y)$$"
   ]
  },
  {
   "cell_type": "code",
   "execution_count": null,
   "metadata": {},
   "outputs": [],
   "source": []
  }
 ],
 "metadata": {
  "kernelspec": {
   "display_name": "Python 3",
   "language": "python",
   "name": "python3"
  },
  "language_info": {
   "codemirror_mode": {
    "name": "ipython",
    "version": 3
   },
   "file_extension": ".py",
   "mimetype": "text/x-python",
   "name": "python",
   "nbconvert_exporter": "python",
   "pygments_lexer": "ipython3",
   "version": "3.7.4"
  }
 },
 "nbformat": 4,
 "nbformat_minor": 4
}

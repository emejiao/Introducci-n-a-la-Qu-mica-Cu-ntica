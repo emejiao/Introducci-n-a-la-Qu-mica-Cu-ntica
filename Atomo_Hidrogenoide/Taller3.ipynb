{
 "cells": [
  {
   "cell_type": "code",
   "execution_count": 1,
   "metadata": {},
   "outputs": [],
   "source": [
    "from IPython.display import HTML"
   ]
  },
  {
   "cell_type": "markdown",
   "metadata": {
    "slideshow": {
     "slide_type": "slide"
    }
   },
   "source": [
    "<div class=\"alert alert-success\" role=\"alert\">\n",
    "  <h2 class=\"alert-heading\">Introducción a la Química Cuántica: Taller 3: Átomos Hidrogenoides</h2>\n",
    "  <h3 class=\"alert-heading\">Prof. Enrique Mejía Ospino, emejia@uis.edu.co</h3>\n",
    "  <h3 class=\"alert-heading\">Escuela de Química</h3>\n",
    "  <h3 class=\"alert-heading\">Universidad Industrial de Santander</h3>\n",
    "  <p>\n",
    "  </div>"
   ]
  },
  {
   "cell_type": "markdown",
   "metadata": {
    "slideshow": {
     "slide_type": "slide"
    }
   },
   "source": [
    "### <div class=\"alert alert-info\"><font color='blue'> <h2 class=\"alert-heading\">Preguntas</h2>"
   ]
  },
  {
   "cell_type": "markdown",
   "metadata": {
    "slideshow": {
     "slide_type": "subslide"
    }
   },
   "source": [
    "**<div class=\"alert alert-warning\">1. Para el estado fundamental del hidrógeno. a) Calcular la probabilidad de encontrar el electrón a una distancia del núcleo superior a 2 veces el radio de Bohr. b) Calcular el radio de la esfera dentro de la cual la probabilidad de encontrar el electrón es del 90%.**\n",
    "\n",
    "**<div class=\"alert alert-info\">2. Para el orbital 2s del hidrógeno, calcular la distancia más probable del electrón al núcleo.**\n",
    "\n",
    "**<div class=\"alert alert-warning\">3. Localice los nodos radiales en el orbital 3s del átomo de hidrógeno.**\n",
    "\n",
    "**<div class=\"alert alert-warning\">4.  Para el electrón en el orbital 1s del átomo de hidrógeno calcular $<r>$ y $<r^2>$. Calcular la incertidumbre en la distancia al núcleo.**\n",
    "    \n",
    "**<div class=\"alert alert-success\">5.  El operador para la energía potencial de un electrón en el átomo de hidrógeno o un ion hidrogenoide es $V(r) = \\frac{-Ze^2}{4πε_0r}$. Calcule el valor <V> para un electrón en el nivel fundamental. B) ¿Cuál es el valor de $<E_c>$ ?.** \n",
    "    \n",
    "**<div class=\"alert alert-success\">6.  La serie de Humphreys del espectro del átomo de hidrógeno empieza a 12368 nm y se ha seguido hasta 3281.4 nm. ¿Qué tipo de transiciones están implicadas y cuáles son los valores de longitud de onda de las transiciones intermedias?**\n",
    "    \n",
    "**<div class=\"alert alert-danger\">7.  Calcule los ángulos que los vectores momento angular forman con el eje $z$ para los orbitales $2p_{+1}$, $2p_0$ y $2p_{-1}$**\n",
    "\n",
    "**<div class=\"alert alert-danger\">8.  ¿Cuáles son los puntos de máxima probabilidad de encontrar al electrón para un átomo hidrogenoide en el orbital $2p_z$?**\n",
    "$$\\Psi_{2p_z}=\\frac{1}{\\sqrt{32\\pi}}\\left(\\frac{Z}{a_0}\\right)^{\\frac{3}{2}} \\frac{Zr}{a_0}e^{-\\frac{Zr}{2a_0}}cos \\theta$$\n",
    "    \n",
    "**<div class=\"alert alert-danger\">9 Para el átomo de hidrógeno en el orbital $2p_z$ la probabilidad de encontrar al electrón en el cuadrante comprendido entre las partes positivas de los ejes $(+x, +y, +z)$, es 0.125. Demuéstrelo.**\n",
    "\n",
    "**<div class=\"alert alert-danger\">10.  Las orientaciones de máxima densidad de probabilidad del orbital $3d_{x^2 - y^2}$ − coinciden con las direcciones de los ejes $X$ e $Y$. Demuéstrelo.\n",
    "$ψ(3d_{x^2 - y^2})=NR(r)sen^2θ·cos2φ$**\n",
    "\n",
    "**<div class=\"alert alert-danger\">11. El estado del átomo de hidrógeno descrito por el orbital 2px viene dado por la siguiente combinación lineal:**\n",
    "\n",
    "$$2p_x=\\frac{1}{\\sqrt{2}}(\\Psi_{211} + \\Psi_{21-1})=\\frac{1}{\\sqrt{32\\pi}}\\left(\\frac{Z}{a_0}\\right)^{\\frac{3}{2}} \\frac{Zr}{a_0}e^{-\\frac{Zr}{2a_0}}sen \\theta cos \\phi$$\n",
    "    \n",
    "**<div class=\"alert alert-danger\"> a) Determine los valores medios del módulo y de la componente $z$ del momento angular orbital para el hidrógeno en ese estado. b) ¿Es autofunción de los operadores $\\hat{L}^2$ y $\\hat{L}_z$?**"
   ]
  },
  {
   "cell_type": "code",
   "execution_count": 2,
   "metadata": {},
   "outputs": [],
   "source": [
    "import matplotlib as mpl # matplotlib library for plotting and visualization\n",
    "import matplotlib.pylab as plt # matplotlib library for plotting and visualization\n",
    "import numpy as np #numpy library for numerical manipulation, especially suited for data arrays\n",
    "from sympy import *\n",
    "from sympy.physics.hydrogen import Psi_nlm, R_nl\n",
    "init_printing(use_unicode=True)"
   ]
  }
 ],
 "metadata": {
  "kernelspec": {
   "display_name": "Python 3",
   "language": "python",
   "name": "python3"
  },
  "language_info": {
   "codemirror_mode": {
    "name": "ipython",
    "version": 3
   },
   "file_extension": ".py",
   "mimetype": "text/x-python",
   "name": "python",
   "nbconvert_exporter": "python",
   "pygments_lexer": "ipython3",
   "version": "3.7.4"
  }
 },
 "nbformat": 4,
 "nbformat_minor": 4
}

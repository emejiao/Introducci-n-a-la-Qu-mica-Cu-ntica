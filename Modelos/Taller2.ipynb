{
 "cells": [
  {
   "cell_type": "code",
   "execution_count": 1,
   "metadata": {},
   "outputs": [],
   "source": [
    "from IPython.display import HTML"
   ]
  },
  {
   "cell_type": "markdown",
   "metadata": {
    "slideshow": {
     "slide_type": "slide"
    }
   },
   "source": [
    "<div class=\"alert alert-success\" role=\"alert\">\n",
    "  <h2 class=\"alert-heading\">Introducción a la Química Cuántica: Taller 2-Modelos Mecánico-Cuánticos Simples</h2>\n",
    "  <h3 class=\"alert-heading\">Prof. Enrique Mejía Ospino, emejia@uis.edu.co</h3>\n",
    "  <h3 class=\"alert-heading\">Escuela de Química</h3>\n",
    "  <h3 class=\"alert-heading\">Universidad Industrial de Santander</h3>\n",
    "  <p>\n",
    "  </div>"
   ]
  },
  {
   "cell_type": "markdown",
   "metadata": {
    "slideshow": {
     "slide_type": "slide"
    }
   },
   "source": [
    "### <div class=\"alert alert-info\"><font color='blue'> <h2 class=\"alert-heading\">Preguntas</h2>"
   ]
  },
  {
   "cell_type": "markdown",
   "metadata": {
    "slideshow": {
     "slide_type": "subslide"
    }
   },
   "source": [
    "**<div class=\"alert alert-warning\">1. Calcular las posiciones más probables para una partícula en una caja de longitud L en el nivel n=3.**\n",
    "\n",
    "**<div class=\"alert alert-info\">2. Suponga una partícula en una caja monodimensional de longitud a=10 nm en el segundo nivel energético. Calcular la probabilidad de encontrar la partícula : a) en la mitad derecha de la caja, b) en el tercio central de la caja.**\n",
    "\n",
    "**<div class=\"alert alert-warning\">3. Suponga un electrón en una caja de potencial monodimensional descrito por la función de onda siguiente: $Ψ = \\sqrt{\\frac{2}{L}}sen(\\frac{2\\pi x}{l})$ , donde L = 10 nm es la longitud de la caja.\n",
    "a) Halle la constante de normalización. b) Calcule el valor medio de la energía cinética. c)\n",
    "Localice los nodos de esta función de onda.**\n",
    "\n",
    "**<div class=\"alert alert-warning\">4. El caroteno es un polieno lineal que contiene 22 átomos de carbono conjugados separados por una distancia media de 140 pm. Los electrones π en este tipo de sistema se pueden considerar, en una aproximación cruda al problema, como partículas en una caja monodimensional con la longitud total de la molécula, en donde cada estado hasta el n=11 se encuentra ocupado por 2 electrones.\n",
    "Calcule: a) la diferencia de energía entre el estado fundamental de la molécula y el primer estado excitado, en el que un electrón ha pasado desde el nivel n=11 hasta el nivel n=12 ; b) la frecuencia de la radiación requerida para producir dicha transición.**\n",
    "    \n",
    "**<div class=\"alert alert-success\">5. Teniendo en cuenta las condiciones de continuidad que la función de onda debe satisfacer, que pasaría a los niveles de energía de una partícula en una caja monodimensional si la longitud de la caja cambia de L a L/2.** \n",
    "    \n",
    "**<div class=\"alert alert-success\">6. Para una partícula en una caja cúbica de lado L: a) ¿Cuántos estados tienen energía dentro del intervalo $0$ a $\\frac{16h^2}{8mL^2}$? b) Cuántos niveles de energía hay dentro de ese intervalo?**\n",
    "    \n",
    "**<div class=\"alert alert-danger\">7. Cuál es la diferencia de energías entre los dos primeros niveles energéticos (entre el estado fundamental y el primer estado excitado) de un electrón confinado en una caja cúbica de 1 radio de Bohr ($a_0$) de arista? ¿Cuál es la frecuencia de la radiación capaz de excitar a este electrón desde el estado fundamental al primer estado excitado?**\n",
    "\n",
    "**<div class=\"alert alert-danger\">8. Una molécula de nitrógeno está confinada en una caja cúbica con un volumen de $1 m^3$. Suponiendo que la molécula tiene una energía de $3/2kT$ a $300K$, a) ¿cuál es el valor de $n=(n_x^2+n_y^2+n_z^2)^{1/2}$ para esta partícula? b) ¿Cuál es la separación en energía entre los niveles $n$ y $n+1$? c)¿Cuál es su longitud de onda de De Broglie? d) Es apropiado describir el movimiento de esta partícula utilizando la Mecánica Clásica?**\n",
    "    \n",
    "**<div class=\"alert alert-danger\">9 Una masa de $1g$ oscila en un muelle cuya constante de fuerza es de $2000 dinas·cm^{-1}$ con una amplitud de $1 cm$. Suponiendo que la energía está cuantizada de acuerdo con la relación $E=(v+1/2)hν$, calcular el valor del número cuántico v para este sistema. ¿Cuál es la fracción de la energía a añadir al oscilador para excitarlo al siguiente nivel cuántico (es decir, para incrementar v en una unidad) ?**\n",
    "\n",
    "**<div class=\"alert alert-danger\">10. Calcule los valores de las cantidades $∆x=(<x^2> − <x>^2\n",
    ")^{1/2}$ y $∆p_x=(<p_x^2> − <p_x>^2)^{1/2}$ para un oscilador armónico. Discuta los resultados de acuerdo con el principio de incertidumbre.**\n",
    "\n",
    "**<div class=\"alert alert-danger\">11. Calcule los valores medios de las energías cinética y potencial de un oscilador armónico en el nivel fundamental.**\n",
    "\n",
    "    \n",
    "**<div class=\"alert alert-danger\"> 12. El espectro infrarrojo del <sup>75</sup>Br<sup>19</sup>F consiste en una línea intensa a $380 cm^{-1}$. Utilizando la aproximación del oscilador armónico para las vibraciones de la molécula, calcular la constante de fuerza del enlace del <sup>75</sup>Br<sup>19</sup>F.**\n",
    "\n",
    "**<div class=\"alert alert-danger\">13. En una buena aproximación, la región microondas del espectro de H<sup>35</sup>Cl consiste en una serie de líneas igualmente espaciadas, separadas por $6.26x10^{11}Hz$. Calcule la longitud del enlace del H<sup>35</sup>Cl.**\n",
    "    \n",
    "**<div class=\"alert alert-danger\">14. El espectro de vibración del <sup>14</sup>N<sup>16</sup>O consiste aproximadamente en única una línea intensa a 1876 $cm^{-1}$. Utilizando la aproximación del oscilador armónico, determine la constante de fuerza del enlace de esta molécula.**\n",
    "    \n",
    "**<div class=\"alert alert-danger\">15. Conociendo que la distancia de enlace del NO es de 1.18 Å y considerándola como un rotor rígido ¿cuál será la separación aproximada entre dos líneas consecutivas del espectro de rotación de esta molécula?**\n",
    "    \n",
    "**<div class=\"alert alert-danger\">16. El espectro de infrarrojo de cada uno de los tres haluros de hidrógeno <sup>1</sup>H<sup>35</sup>Cl, <sup>1</sup>H<sup>79</sup>Br y <sup>1</sup>H<sup>127</sup>I da una banda de absorción a los siguientes números de ondas respectivamente: 2990 $cm^{-1}$, 2650 $cm^{-1}$ y 2310 $cm^{-1}$. Utilizando la aproximación del oscilador armónico, calcule las constantes de fuerza y ordénelos según la fortaleza de sus enlaces.** "
   ]
  },
  {
   "cell_type": "code",
   "execution_count": 2,
   "metadata": {},
   "outputs": [],
   "source": [
    "import matplotlib as mpl # Libreria para graficación y visualización\n",
    "import matplotlib.pylab as plt # Libreria para graficación y visualización\n",
    "import numpy as np # Librería para manipulación numerica, especialmente para arreglos de datos\n",
    "import sympy as sp\n",
    "sp.init_printing()"
   ]
  },
  {
   "cell_type": "markdown",
   "metadata": {},
   "source": [
    "**<div class=\"alert alert-warning\">1. Calcular las posiciones más probables para una partícula en una caja de longitud L en el nivel n=3.**"
   ]
  },
  {
   "cell_type": "code",
   "execution_count": 3,
   "metadata": {},
   "outputs": [
    {
     "data": {
      "image/png": "[encoded data removed]",
      "text/latex": [
       "$\\displaystyle \\left( \\frac{12 \\pi \\sin{\\left(\\frac{3 \\pi x}{L} \\right)} \\cos{\\left(\\frac{3 \\pi x}{L} \\right)}}{L^{2}}, \\  \\left[ \\frac{L}{6}, \\  \\frac{L}{3}, \\  \\frac{L}{2}\\right], \\  \\frac{2}{L}\\right)$"
      ],
      "text/plain": [
       "⎛        ⎛3⋅π⋅x⎞    ⎛3⋅π⋅x⎞              ⎞\n",
       "⎜12⋅π⋅sin⎜─────⎟⋅cos⎜─────⎟              ⎟\n",
       "⎜        ⎝  L  ⎠    ⎝  L  ⎠  ⎡L  L  L⎤  2⎟\n",
       "⎜──────────────────────────, ⎢─, ─, ─⎥, ─⎟\n",
       "⎜             2              ⎣6  3  2⎦  L⎟\n",
       "⎝            L                           ⎠"
      ]
     },
     "execution_count": 3,
     "metadata": {},
     "output_type": "execute_result"
    }
   ],
   "source": [
    "# d)\n",
    "x, L= sp.symbols('x L', positive=True)\n",
    "F1=sp.sqrt(2/L)*sp.sin(3*sp.pi*x/L)\n",
    "F12=(sp.sqrt(2/L)*sp.sin(3*sp.pi*x/L))**2\n",
    "Pr=sp.integrate(F1**2, (x, 0, L))\n",
    "DFPr=sp.diff(F12, x)#Pr2=sp.integrate(F1**2, (x, /4, a/2))\n",
    "RDF=sp.solve(DFPr, x)\n",
    "eval1 = F12.subs(x, RDF[0])\n",
    "DFPr, RDF, eval1"
   ]
  },
  {
   "cell_type": "code",
   "execution_count": 16,
   "metadata": {},
   "outputs": [
    {
     "data": {
      "image/png": "[encoded data removed]",
      "text/latex": [
       "$\\displaystyle 0.195501109477885$"
      ],
      "text/plain": [
       "0.195501109477885"
      ]
     },
     "execution_count": 16,
     "metadata": {},
     "output_type": "execute_result"
    }
   ],
   "source": [
    "F1=sp.sqrt(2/L)*sp.sin(2*np.pi*x/L)\n",
    "Pr=sp.integrate(F1**2, (x, L/3, 2*L/3))\n",
    "sp.simplify(Pr)"
   ]
  },
  {
   "cell_type": "markdown",
   "metadata": {},
   "source": [
    "**<div class=\"alert alert-warning\">4. El caroteno es un polieno lineal que contiene 22 átomos de carbono conjugados separados por una distancia media de 140 pm. Los electrones π en este tipo de sistema se pueden considerar, en una aproximación cruda al problema, como partículas en una caja monodimensional con la longitud total de la molécula, en donde cada estado hasta el n=11 se encuentra ocupado por 2 electrones.\n",
    "Calcule: a) la diferencia de energía entre el estado fundamental de la molécula y el primer estado excitado, en el que un electrón ha pasado desde el nivel n=11 hasta el nivel n=12 ; b) la frecuencia de la radiación requerida para producir dicha transición.**"
   ]
  },
  {
   "cell_type": "code",
   "execution_count": 18,
   "metadata": {},
   "outputs": [
    {
     "name": "stdout",
     "output_type": "stream",
     "text": [
      "Delta E: 1.6031207367363936e-19 Julios\n",
      "La frecuencia es: 241941412743360 Hertz\n"
     ]
    }
   ],
   "source": [
    "h=6.62607e-34    #Constante de Planck en joules\n",
    "me=9.1093837e-31  # masa del electrón en kg\n",
    "N=22 # Número de átomos de carbono\n",
    "L=(1.4e-10)*21 # Longitud de onda en m\n",
    "#v=5.05e15 # Frecuencia en Hertz\n",
    "R=154740 # Constante de Rydberg en cm-1\n",
    "c=3.0e8 # Velocidad de la luz en m/s\n",
    "#DE=((h**2)/((8*mp)*(L**2)))*(n2**2-n1**2)=hc/l # Diferencia de energía entre las dos estados en Julios (hv)\n",
    "DE=((h**2)/((8*me)*(L**2)))*(N+1)\n",
    "#dn2=((v)*(8*me*l**2))/(h)\n",
    "nu=DE/h\n",
    "l=c/nu*1e9\n",
    "Err=(l-217)/217*100\n",
    "print('Delta E: ' + str((DE)) + ' Julios' )\n",
    "print('La frecuencia es: ' + str(round(nu)) + ' Hertz' )"
   ]
  },
  {
   "cell_type": "code",
   "execution_count": 20,
   "metadata": {},
   "outputs": [
    {
     "name": "stdout",
     "output_type": "stream",
     "text": [
      "Delta E: 6.434318758054713e-17 Julios\n",
      "La frecuencia es: 97106109021708384 Hertz\n"
     ]
    }
   ],
   "source": [
    "h=6.62607e-34    #Constante de Planck en joules\n",
    "me=9.1093837e-31  # masa del electrón en kg\n",
    "N=22 # Número de átomos de carbono\n",
    "a0=(0.53e-10) # Longitud de onda en m\n",
    "#v=5.05e15 # Frecuencia en Hertz\n",
    "R=154740 # Constante de Rydberg en cm-1\n",
    "c=3.0e8 # Velocidad de la luz en m/s\n",
    "#DE=((h**2)/((8*mp)*(L**2)))*(n2**2-n1**2)=hc/l # Diferencia de energía entre las dos estados en Julios (hv)\n",
    "DE=((h**2)/((8*me)*(a0**2)))*(3)\n",
    "#dn2=((v)*(8*me*l**2))/(h)\n",
    "nu=DE/h\n",
    "#l=c/nu*1e9\n",
    "#Err=(l-217)/217*100\n",
    "print('Delta E: ' + str((DE)) + ' Julios' )\n",
    "print('La frecuencia es: ' + str(round(nu)) + ' Hertz' )"
   ]
  },
  {
   "cell_type": "code",
   "execution_count": 23,
   "metadata": {},
   "outputs": [
    {
     "name": "stdout",
     "output_type": "stream",
     "text": [
      "v es: 2.1203563291787513e+29 \n",
      "Deta es: 4.716188436060256e-33 Julios\n"
     ]
    }
   ],
   "source": [
    "h=6.62607e-34    #Constante de Planck en joules\n",
    "me=9.1093837e-31  # masa del electrón en kg\n",
    "N=22 # Número de átomos de carbono\n",
    "a0=(0.53e-10) # Longitud de onda en m\n",
    "m=1.0e-3 # masa en kg\n",
    "E=1.0e-3 # energía en julios\n",
    "k=2 # constante de fuerza, J/m\n",
    "R=154740 # Constante de Rydberg en cm-1\n",
    "c=3.0e8 # Velocidad de la luz en m/s\n",
    "nu = (1/(2*np.pi))*(k/m)**(0.5)\n",
    "v=(E/(h*nu))-0.5\n",
    "DE=h*nu\n",
    "print('v es: ' + str((v)) + ' ' )\n",
    "print('Deta es: ' + str((DE)) + ' Julios' )"
   ]
  },
  {
   "cell_type": "code",
   "execution_count": 98,
   "metadata": {},
   "outputs": [
    {
     "data": {
      "image/png": "[encoded data removed]",
      "text/latex": [
       "$\\displaystyle 0$"
      ],
      "text/plain": [
       "0"
      ]
     },
     "execution_count": 98,
     "metadata": {},
     "output_type": "execute_result"
    }
   ],
   "source": [
    "x, ξ, N, hbar, beta, omega, m = sp.symbols('x ξ N hbar beta omega m')\n",
    "#Psi = sp.Function('Psi', complex=True)(x)\n",
    "H0=sp.hermite(0, ξ)\n",
    "G=sp.exp(-(ξ**2)/2)\n",
    "N0=((sp.pi)**(-0.25))*(2**(-0.5*0))*((sp.factorial(0))**(-0.5))*((beta)**(0.25))\n",
    "ψ0=N0*H0*G\n",
    "H1=sp.hermite(1, ξ)\n",
    "G=sp.exp(-(ξ**2)/2)\n",
    "N1=((sp.pi)**(-0.25))*(2**(-0.5*1))*((sp.factorial(1))**(-0.5))*((beta)**(0.25))\n",
    "ψ1=N1*H1*G\n",
    "PN1=sp.integrate(ψ0*ψ1, (ξ, -sp.oo, sp.oo))\n",
    "#PD1=sp.integrate((beta**(-0.5))*ψ_v*Psi2, (ξ, -sp.oo, sp.oo))\n",
    "\n",
    "PN1"
   ]
  },
  {
   "cell_type": "code",
   "execution_count": 28,
   "metadata": {},
   "outputs": [
    {
     "data": {
      "image/png": "[encoded data removed]",
      "text/latex": [
       "$\\displaystyle \\left( 0.5 \\beta^{0.5}, \\  0, \\  0.707106781186548 \\beta^{0.25}\\right)$"
      ],
      "text/plain": [
       "⎛     0.5                        0.25⎞\n",
       "⎝0.5⋅β   , 0, 0.707106781186548⋅β    ⎠"
      ]
     },
     "execution_count": 28,
     "metadata": {},
     "output_type": "execute_result"
    }
   ],
   "source": [
    "x, ξ, N, hbar, beta, omega, m = sp.symbols('x ξ N hbar beta omega m')\n",
    "#Psi = sp.Function('Psi', complex=True)(x)\n",
    "H0=sp.hermite(0, ξ)\n",
    "G=sp.exp(-(ξ**2)/2)\n",
    "N0=((sp.pi)**(-0.25))*(2**(-0.5*0))*((sp.factorial(0))**(-0.5))*((beta)**(0.25))\n",
    "ψ0=N0*H0*G\n",
    "xp2=sp.integrate(ψ0*ξ**2*ψ0, (ξ, -sp.oo, sp.oo))\n",
    "xp=sp.integrate(ψ0*ξ*ψ0, (ξ, -sp.oo, sp.oo))\n",
    "inc_x=(xp2-xp**2)**(0.5)\n",
    "xp2, xp**2, inc_x"
   ]
  },
  {
   "cell_type": "code",
   "execution_count": 29,
   "metadata": {},
   "outputs": [
    {
     "data": {
      "image/png": "[encoded data removed]",
      "text/latex": [
       "$\\displaystyle \\frac{1.0 \\beta^{0.25} e^{- \\frac{ξ^{2}}{2}}}{\\pi^{0.25}}$"
      ],
      "text/plain": [
       "                    2 \n",
       "                  -ξ  \n",
       "                  ────\n",
       "     -0.25  0.25   2  \n",
       "1.0⋅π     ⋅β    ⋅ℯ    "
      ]
     },
     "execution_count": 29,
     "metadata": {},
     "output_type": "execute_result"
    }
   ],
   "source": [
    "#Sympy permite obtener los Polinomios de Hermite y por tanto la Función de Onda vibracional\n",
    "#v = int(input(\"Introduzca el valor del número cuántico v = \"))\n",
    "x, ξ, N, hbar, beta, omega, m = sp.symbols('x ξ N hbar beta omega m')\n",
    "v=0\n",
    "H_v=sp.hermite(v, ξ)\n",
    "G=sp.exp(-(ξ**2)/2)\n",
    "N=((sp.pi)**(-0.25))*(2**(-0.5*v))*((sp.factorial(v))**(-0.5))*((beta)**(0.25))\n",
    "ψ_v=N*H_v*G\n",
    "ψ_v"
   ]
  },
  {
   "cell_type": "code",
   "execution_count": 31,
   "metadata": {},
   "outputs": [
    {
     "data": {
      "image/png": "[encoded data removed]",
      "text/latex": [
       "$\\displaystyle \\left( \\frac{0.25 \\beta^{1.0} \\hbar^{2}}{m}, \\  \\frac{0.5}{\\beta}\\right)$"
      ],
      "text/plain": [
       "⎛      1.0  2     ⎞\n",
       "⎜0.25⋅β   ⋅h̅   0.5⎟\n",
       "⎜────────────, ───⎟\n",
       "⎝     m         β ⎠"
      ]
     },
     "execution_count": 31,
     "metadata": {},
     "output_type": "execute_result"
    }
   ],
   "source": [
    "x, ξ, N, hbar, beta, omega, m = sp.symbols('x ξ N hbar beta omega m')\n",
    "#Psi = sp.Function('Psi', complex=True)(x)\n",
    "Psi2=(-beta*hbar**2/(2*m))*(sp.diff(ψ_v, ξ, 2))\n",
    "PN=sp.integrate((beta**(-0.5))*ψ_v**2*(0.5*k*ξ**2/beta), (ξ, -sp.oo, sp.oo))\n",
    "PD=sp.integrate((beta**(-0.5))*ψ_v*Psi2, (ξ, -sp.oo, sp.oo))\n",
    "#Pm=PN/PD\n",
    "PD, PN"
   ]
  },
  {
   "cell_type": "code",
   "execution_count": 32,
   "metadata": {},
   "outputs": [
    {
     "name": "stdout",
     "output_type": "stream",
     "text": [
      "La constante de fuerza de la molécula es: 129.15 N/m\n"
     ]
    }
   ],
   "source": [
    "no=380 #Numero de onda en cm-1\n",
    "c=3e10 # Velocidad de la luz en cm/s\n",
    "mr=((75*19)/(75+19))*(1/6.02214e26)\n",
    "DV=h*c*no # DEv=hv=h*(1/2pi)sqrt(k/mr)\n",
    "k=(DV**2)*mr*4*np.pi**2/h**2\n",
    "print('La constante de fuerza de la molécula es: ' + str(round(k, 2)) + ' N/m' )"
   ]
  },
  {
   "cell_type": "code",
   "execution_count": null,
   "metadata": {},
   "outputs": [],
   "source": []
  }
 ],
 "metadata": {
  "kernelspec": {
   "display_name": "Python 3",
   "language": "python",
   "name": "python3"
  },
  "language_info": {
   "codemirror_mode": {
    "name": "ipython",
    "version": 3
   },
   "file_extension": ".py",
   "mimetype": "text/x-python",
   "name": "python",
   "nbconvert_exporter": "python",
   "pygments_lexer": "ipython3",
   "version": "3.8.5"
  }
 },
 "nbformat": 4,
 "nbformat_minor": 4
}

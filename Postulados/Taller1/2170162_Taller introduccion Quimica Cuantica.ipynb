{
 "cells": [
  {
   "cell_type": "code",
   "execution_count": 1,
   "metadata": {},
   "outputs": [],
   "source": [
    "from IPython.display import HTML"
   ]
  },
  {
   "cell_type": "markdown",
   "metadata": {
    "slideshow": {
     "slide_type": "slide"
    }
   },
   "source": [
    "<div class=\"alert alert-success\" role=\"alert\">\n",
    "  <h2 class=\"alert-heading\">Introducción a la Química Cuántica: Taller 1-Postulados de la Mecánica Cuántica</h2>\n",
    "  <h3 class=\"alert-heading\">Prof. Enrique Mejía Ospino, emejia@uis.edu.co</h3>\n",
    "  <h3 class=\"alert-heading\">Escuela de Química</h3>\n",
    "  <h3 class=\"alert-heading\">Universidad Industrial de Santander</h3>\n",
    "  <p>\n",
    "  </div>"
   ]
  },
  {
   "cell_type": "markdown",
   "metadata": {},
   "source": [
    "## <font color=red> NOTA: 3.5"
   ]
  },
  {
   "cell_type": "code",
   "execution_count": 2,
   "metadata": {},
   "outputs": [],
   "source": [
    "import matplotlib as mpl\n",
    "import matplotlib.pylab as plt\n",
    "import numpy as np\n",
    "import sympy as sp\n",
    "sp.init_printing(use_unicode=True)"
   ]
  },
  {
   "cell_type": "markdown",
   "metadata": {
    "slideshow": {
     "slide_type": "slide"
    }
   },
   "source": [
    "### <div class=\"alert alert-info\"><font color='blue'> <h2 class=\"alert-heading\">Preguntas</h2>"
   ]
  },
  {
   "cell_type": "markdown",
   "metadata": {
    "slideshow": {
     "slide_type": "subslide"
    }
   },
   "source": [
    "**<div class=\"alert alert-warning\">1. Determinar cuáles de las siguientes funciones son aceptables como funciones de onda, definidas en los intervalos indicados.**\n",
    "**<div class=\"alert alert-warning\">a) $\\large \\frac{1}{x} [0,\\infty)$**\n",
    "**<div class=\"alert alert-warning\">b) $\\large e^{-|x|} (-\\infty, +\\infty)$**\n",
    "**<div class=\"alert alert-warning\">c) $\\large sen(x) [-4π, 4π]$**\n",
    "**<div class=\"alert alert-warning\">d) $\\large e^{-x} [0, \\infty)$**\n",
    "**<div class=\"alert alert-warning\">e) $\\large e^{-x}sen(x) [0, \\infty)$**\n",
    "\n",
    "**<div class=\"alert alert-info\">2. De las siguientes funciones, normalice aquellas en que la normalización sea posible:**\n",
    "**<div class=\"alert alert-info\">a) $\\large e^{-x} [0, \\infty)$**\n",
    "**<div class=\"alert alert-info\">b) $\\large e^{i\\theta} [0, 2\\pi]$**\n",
    "**<div class=\"alert alert-info\">c) $\\large xe^{-x} [0, \\infty)$**\n",
    "\n",
    "\n",
    "**<div class=\"alert alert-warning\">3. La función de onda para una partícula en un sistema monodimensional definido entre $\\large x = 0$ y $\\large x = \\infty$, a $\\large t=0$ es $\\large \\Psi = \\sqrt{\\frac{2}{a}}e^{\\frac{-x}{a}}$ donde $\\large a$ es 1.0 nm. A $\\large t=0$ se mide la posición de la partícula.\n",
    "a) Calcular la probabilidad de que la partícula se encuentre entre $\\large x=1.5000 nm$ y $\\large x=1.5001\n",
    "nm$. b) Calcular la probabilidad de que la partícula se encuentre entre $\\large x=0$ y $\\large x=2 nm$. c)\n",
    "Verifique que la función de onda está normalizada.**\n",
    "\n",
    "**<div class=\"alert alert-warning\">4. Indique cuál de los siguientes operadores es lineal:**\n",
    "**<div class=\"alert alert-warning\">a) $\\large \\hat{A}f(x)=\\frac{df(x)}{dx}$ (derivada de $\\large f(x)$)**\n",
    "**<div class=\"alert alert-warning\">b) $\\large \\hat{A}f(x)=f^*(x)$ (forma la compleja conjugada de $\\large f(x)$)**\n",
    "**<div class=\"alert alert-warning\">c) $\\large \\hat{A}f(x)=ln f(x)$ (toma el logaritmo de $\\large f(x)$)**\n",
    "**<div class=\"alert alert-warning\">d) $\\large \\hat{A}f(x)= \\int f(x)dx$ (f (integral de $\\large f(x)$)**\n",
    "    \n",
    "**<div class=\"alert alert-success\">5. a) Cuál de las siguientes funciones es autofunción del operador $\\large d/dx$:** \n",
    "**<div class=\"alert alert-success\">a) $\\large e^{ikx}$ ; b) $\\large cos(kx)$ ; c) $\\large k$, d) $\\large kx$ ; e) $\\large e^{−ax^{2}}$. ¿Cuáles son sus autovalores? b) Determine cuáles de las funciones anteriores es también autofunción del operador $\\large \\frac{d^2}{dx^2}$ y dé los autovalores correspondientes.**\n",
    "    \n",
    "**<div class=\"alert alert-success\">6. Halle los conmutadores siguientes:**\n",
    "**<div class=\"alert alert-success\">a) $\\large [\\hat{x}^2,\\frac{d^2}{dx^2}]$**\n",
    "**<div class=\"alert alert-success\">b) $\\large [\\hat{x},\\hat{p}_x]$**\n",
    "**<div class=\"alert alert-success\">c) $\\large [\\hat{p}_x,\\hat{H}_x]$**\n",
    "    \n",
    "**<div class=\"alert alert-danger\">7. Calcule $\\large [\\hat{x}^2,\\frac{d^2}{dx^2}](e^{x^2}+cos(2x))$:**\n",
    "\n",
    "**<div class=\"alert alert-danger\">8. Deduzca si cada una de las expresiones siguientes es un operador o una función.**\n",
    "**<div class=\"alert alert-danger\">a) $\\large \\hat{A}\\hat{B}g(x)$ ; b) $\\large \\hat{A}\\hat{B}+\\hat{B}\\hat{A}$ ; c) $\\large \\hat{B^2}f(x)$, d) $\\large f(x)^*\\hat{A}f(x)$**\n",
    "    \n",
    "**<div class=\"alert alert-danger\">9. Si la posición de un electrón se mide con una precisión de ±0.001 Å ¿Cuál será la máxima precisión para el momento?**\n",
    "\n",
    "**<div class=\"alert alert-danger\">10. Demuestre que en el intervalo 0 ≤ θ ≤ 2π, las funciones $\\large e^{inθ}$, donde n=0, ±1, ±2, ..., forman un conjunto de funciones ortogonales. Halle la constante de normalización para este conjunto de funciones.**"
   ]
  },
  {
   "cell_type": "markdown",
   "metadata": {},
   "source": [
    "### Integrantes del grupo\n",
    "   Sebastian Quintero 2172028\n",
    "   \n",
    "  \n",
    "   Julieth Thalia Trigos Rodriguez 2170162\n",
    "   \n",
    "   \n",
    "   Juan José Blanco Prada 2142286"
   ]
  },
  {
   "cell_type": "markdown",
   "metadata": {},
   "source": [
    "# Respuesta del taller"
   ]
  },
  {
   "cell_type": "markdown",
   "metadata": {},
   "source": [
    "#### 1er punto"
   ]
  },
  {
   "cell_type": "markdown",
   "metadata": {},
   "source": [
    " **<div class=\"alert alert-warning\">a) $\\large \\frac{1}{x} [0,\\infty)$**\n"
   ]
  },
  {
   "cell_type": "code",
   "execution_count": 4,
   "metadata": {},
   "outputs": [
    {
     "data": {
      "text/plain": [
       "Text(0, 0.5, 'f(x)')"
      ]
     },
     "execution_count": 4,
     "metadata": {},
     "output_type": "execute_result"
    },
    {
     "data": {
      "image/png": "[encoded data removed]",
      "text/plain": [
       "<Figure size 432x288 with 1 Axes>"
      ]
     },
     "metadata": {
      "needs_background": "light"
     },
     "output_type": "display_data"
    }
   ],
   "source": [
    "x= np.arange (0.1, 4.0, 0.01)\n",
    "f= 1/x\n",
    "plt.plot(x, f, 'b', linewidth=2)\n",
    "plt.title('f(x)=1/x')\n",
    "plt.xlabel('x')\n",
    "plt.ylabel('f(x)')"
   ]
  },
  {
   "cell_type": "code",
   "execution_count": 5,
   "metadata": {},
   "outputs": [
    {
     "data": {
      "image/png": "[encoded data removed]",
      "text/latex": [
       "$\\displaystyle \\left( \\frac{d}{d x} \\frac{1}{x}, \\  - \\frac{1}{x^{2}}\\right)$"
      ],
      "text/plain": [
       "⎛d ⎛1⎞  -1 ⎞\n",
       "⎜──⎜─⎟, ───⎟\n",
       "⎜dx⎝x⎠    2⎟\n",
       "⎝        x ⎠"
      ]
     },
     "execution_count": 5,
     "metadata": {},
     "output_type": "execute_result"
    }
   ],
   "source": [
    "x=sp.Symbol('x')\n",
    "DF=sp.Derivative((1/x), x)\n",
    "DF, DF.doit()"
   ]
  },
  {
   "cell_type": "code",
   "execution_count": 6,
   "metadata": {},
   "outputs": [
    {
     "data": {
      "image/png": "[encoded data removed]",
      "text/latex": [
       "$\\displaystyle \\left( \\frac{d^{2}}{d x^{2}} \\frac{1}{x}, \\  \\frac{2}{x^{3}}\\right)$"
      ],
      "text/plain": [
       "⎛  2       ⎞\n",
       "⎜ d ⎛1⎞  2 ⎟\n",
       "⎜───⎜─⎟, ──⎟\n",
       "⎜  2⎝x⎠   3⎟\n",
       "⎝dx      x ⎠"
      ]
     },
     "execution_count": 6,
     "metadata": {},
     "output_type": "execute_result"
    }
   ],
   "source": [
    "x=sp.Symbol('x')\n",
    "D2F=sp.Derivative((1/x), x, 2)\n",
    "D2F, D2F.doit()"
   ]
  },
  {
   "cell_type": "code",
   "execution_count": 7,
   "metadata": {},
   "outputs": [
    {
     "data": {
      "image/png": "[encoded data removed]",
      "text/latex": [
       "$\\displaystyle \\left( \\int\\limits_{0}^{\\infty} \\frac{1}{x^{2}}\\, dx, \\  \\infty\\right)$"
      ],
      "text/plain": [
       "⎛∞         ⎞\n",
       "⎜⌠         ⎟\n",
       "⎜⎮ 1       ⎟\n",
       "⎜⎮ ── dx, ∞⎟\n",
       "⎜⎮  2      ⎟\n",
       "⎜⎮ x       ⎟\n",
       "⎜⌡         ⎟\n",
       "⎝0         ⎠"
      ]
     },
     "execution_count": 7,
     "metadata": {},
     "output_type": "execute_result"
    }
   ],
   "source": [
    "x=sp.Symbol('x')\n",
    "DF=sp.Integral((1/x)**2, (x, 0, sp.oo))\n",
    "DF, DF.doit()"
   ]
  },
  {
   "cell_type": "markdown",
   "metadata": {},
   "source": [
    "### la función cumplio los 4 filtros por lo tanto si es una función de onda aceptable"
   ]
  },
  {
   "cell_type": "markdown",
   "metadata": {},
   "source": [
    "**<div class=\"alert alert-warning\">b) $\\large e^{-|x|} (-\\infty, +\\infty)$**"
   ]
  },
  {
   "cell_type": "code",
   "execution_count": 8,
   "metadata": {},
   "outputs": [
    {
     "data": {
      "text/plain": [
       "Text(0, 0.5, 'f(x)')"
      ]
     },
     "execution_count": 8,
     "metadata": {},
     "output_type": "execute_result"
    },
    {
     "data": {
      "image/png": "[encoded data removed]",
      "text/plain": [
       "<Figure size 432x288 with 1 Axes>"
      ]
     },
     "metadata": {
      "needs_background": "light"
     },
     "output_type": "display_data"
    }
   ],
   "source": [
    "\n",
    "x= np.arange (-1, 4.0, 0.01)\n",
    "f= np.exp(-abs(x))\n",
    "plt.plot(x, f, 'r', linewidth=2)\n",
    "plt.title('f(x)=e^-|x|')\n",
    "plt.xlabel('x')\n",
    "plt.ylabel('f(x)')\n"
   ]
  },
  {
   "cell_type": "code",
   "execution_count": 9,
   "metadata": {},
   "outputs": [
    {
     "data": {
      "image/png": "[encoded data removed]",
      "text/latex": [
       "$\\displaystyle \\left( \\frac{d}{d x} e^{- \\left|{x}\\right|}, \\  - \\frac{\\left(\\operatorname{re}{\\left(x\\right)} \\frac{d}{d x} \\operatorname{re}{\\left(x\\right)} + \\operatorname{im}{\\left(x\\right)} \\frac{d}{d x} \\operatorname{im}{\\left(x\\right)}\\right) e^{- \\left|{x}\\right|} \\operatorname{sign}{\\left(x \\right)}}{x}\\right)$"
      ],
      "text/plain": [
       "⎛            ⎛      d                 d        ⎞  -│x│         ⎞\n",
       "⎜           -⎜re(x)⋅──(re(x)) + im(x)⋅──(im(x))⎟⋅ℯ    ⋅sign(x) ⎟\n",
       "⎜d ⎛ -│x│⎞   ⎝      dx                dx       ⎠               ⎟\n",
       "⎜──⎝ℯ    ⎠, ───────────────────────────────────────────────────⎟\n",
       "⎝dx                                  x                         ⎠"
      ]
     },
     "execution_count": 9,
     "metadata": {},
     "output_type": "execute_result"
    }
   ],
   "source": [
    "x=sp.Symbol('x')\n",
    "DF=sp.Derivative (sp.exp(-abs(x)), x)\n",
    "DF, DF.doit()"
   ]
  },
  {
   "cell_type": "markdown",
   "metadata": {},
   "source": [
    "### La función no tiene una derivada conocida en los reales por lo tanto no cumple como función de onda **<font color=red> bien comportada**."
   ]
  },
  {
   "cell_type": "markdown",
   "metadata": {},
   "source": [
    "**<div class=\"alert alert-warning\">c) $\\large sen(x) [-4π, 4π]$**"
   ]
  },
  {
   "cell_type": "code",
   "execution_count": 10,
   "metadata": {},
   "outputs": [
    {
     "data": {
      "image/png": "[encoded data removed]",
      "text/plain": [
       "<Figure size 432x288 with 1 Axes>"
      ]
     },
     "metadata": {
      "needs_background": "light"
     },
     "output_type": "display_data"
    }
   ],
   "source": [
    "x= np.arange(-4*np.pi, 4*np.pi ,0.1)\n",
    "f= np.sin(x)\n",
    "plt.plot(x, f, 'g', linewidth=2)\n",
    "plt.title('$f(x)=sen(x)$')\n",
    "plt.show()"
   ]
  },
  {
   "cell_type": "code",
   "execution_count": 11,
   "metadata": {},
   "outputs": [
    {
     "data": {
      "image/png": "[encoded data removed]",
      "text/latex": [
       "$\\displaystyle \\left( \\frac{d}{d x} \\sin{\\left(x \\right)}, \\  \\cos{\\left(x \\right)}\\right)$"
      ],
      "text/plain": [
       "⎛d                 ⎞\n",
       "⎜──(sin(x)), cos(x)⎟\n",
       "⎝dx                ⎠"
      ]
     },
     "execution_count": 11,
     "metadata": {},
     "output_type": "execute_result"
    }
   ],
   "source": [
    "x=sp.Symbol('x')\n",
    "f=sp.sin(x)\n",
    "DF=sp.Derivative(f, x)\n",
    "DF, DF.doit()"
   ]
  },
  {
   "cell_type": "code",
   "execution_count": 12,
   "metadata": {},
   "outputs": [
    {
     "data": {
      "image/png": "[encoded data removed]",
      "text/latex": [
       "$\\displaystyle \\left( \\frac{d^{2}}{d x^{2}} \\sin{\\left(x \\right)}, \\  - \\sin{\\left(x \\right)}\\right)$"
      ],
      "text/plain": [
       "⎛  2                 ⎞\n",
       "⎜ d                  ⎟\n",
       "⎜───(sin(x)), -sin(x)⎟\n",
       "⎜  2                 ⎟\n",
       "⎝dx                  ⎠"
      ]
     },
     "execution_count": 12,
     "metadata": {},
     "output_type": "execute_result"
    }
   ],
   "source": [
    "x=sp.Symbol('x')\n",
    "f=sp.sin(x)\n",
    "D2F=sp.Derivative(f, x, 2)\n",
    "D2F, D2F.doit()"
   ]
  },
  {
   "cell_type": "code",
   "execution_count": 13,
   "metadata": {},
   "outputs": [
    {
     "data": {
      "image/png": "[encoded data removed]",
      "text/latex": [
       "$\\displaystyle \\left( \\int\\limits_{-12.5663706143592}^{12.5663706143592} \\sin^{2}{\\left(x \\right)}\\, dx, \\  12.5663706143592\\right)$"
      ],
      "text/plain": [
       "⎛ 12.5663706143592                             ⎞\n",
       "⎜        ⌠                                     ⎟\n",
       "⎜        ⎮            2                        ⎟\n",
       "⎜        ⎮         sin (x) dx, 12.5663706143592⎟\n",
       "⎜        ⌡                                     ⎟\n",
       "⎝-12.5663706143592                             ⎠"
      ]
     },
     "execution_count": 13,
     "metadata": {},
     "output_type": "execute_result"
    }
   ],
   "source": [
    "x=sp.Symbol('x')\n",
    "f=sp.sin(x)\n",
    "DF=sp.Integral((f)**2, (x, -4*np.pi, 4*np.pi))\n",
    "DF, DF.doit()"
   ]
  },
  {
   "cell_type": "markdown",
   "metadata": {},
   "source": [
    "### la función cumplio los 4 filtros por lo tanto si es una función de onda aceptable"
   ]
  },
  {
   "cell_type": "markdown",
   "metadata": {},
   "source": [
    "**<div class=\"alert alert-warning\">d) $\\large e^{-x} [0, \\infty)$**"
   ]
  },
  {
   "cell_type": "code",
   "execution_count": 14,
   "metadata": {},
   "outputs": [
    {
     "data": {
      "text/plain": [
       "Text(0, 0.5, 'f(x)')"
      ]
     },
     "execution_count": 14,
     "metadata": {},
     "output_type": "execute_result"
    },
    {
     "data": {
      "image/png": "[encoded data removed]",
      "text/plain": [
       "<Figure size 432x288 with 1 Axes>"
      ]
     },
     "metadata": {
      "needs_background": "light"
     },
     "output_type": "display_data"
    }
   ],
   "source": [
    "x= np.arange (-1, 4.0, 0.01)\n",
    "f= np.exp(-x)\n",
    "plt.plot(x, f, 'purple', linewidth=2)\n",
    "plt.title('f(x)=e^-x')\n",
    "plt.xlabel('x')\n",
    "plt.ylabel('f(x)')"
   ]
  },
  {
   "cell_type": "code",
   "execution_count": 15,
   "metadata": {},
   "outputs": [
    {
     "data": {
      "image/png": "[encoded data removed]",
      "text/latex": [
       "$\\displaystyle \\left( \\frac{d}{d x} e^{- x}, \\  - e^{- x}\\right)$"
      ],
      "text/plain": [
       "⎛d ⎛ -x⎞    -x⎞\n",
       "⎜──⎝ℯ  ⎠, -ℯ  ⎟\n",
       "⎝dx           ⎠"
      ]
     },
     "execution_count": 15,
     "metadata": {},
     "output_type": "execute_result"
    }
   ],
   "source": [
    "x=sp.Symbol('x')\n",
    "DF=sp.Derivative (sp.exp(-x), x)\n",
    "DF, DF.doit()"
   ]
  },
  {
   "cell_type": "code",
   "execution_count": 16,
   "metadata": {},
   "outputs": [
    {
     "data": {
      "image/png": "[encoded data removed]",
      "text/latex": [
       "$\\displaystyle \\left( \\frac{d^{2}}{d x^{2}} e^{- x}, \\  e^{- x}\\right)$"
      ],
      "text/plain": [
       "⎛  2          ⎞\n",
       "⎜ d ⎛ -x⎞   -x⎟\n",
       "⎜───⎝ℯ  ⎠, ℯ  ⎟\n",
       "⎜  2          ⎟\n",
       "⎝dx           ⎠"
      ]
     },
     "execution_count": 16,
     "metadata": {},
     "output_type": "execute_result"
    }
   ],
   "source": [
    "x=sp.Symbol('x')\n",
    "D2F=sp.Derivative(sp.exp(-x), x, 2)\n",
    "D2F, D2F.doit()"
   ]
  },
  {
   "cell_type": "code",
   "execution_count": 17,
   "metadata": {},
   "outputs": [
    {
     "data": {
      "image/png": "[encoded data removed]",
      "text/latex": [
       "$\\displaystyle \\left( \\int\\limits_{0}^{\\infty} e^{- 2 x}\\, dx, \\  \\frac{1}{2}\\right)$"
      ],
      "text/plain": [
       "⎛∞              ⎞\n",
       "⎜⌠              ⎟\n",
       "⎜⎮  -2⋅x        ⎟\n",
       "⎜⎮ ℯ     dx, 1/2⎟\n",
       "⎜⌡              ⎟\n",
       "⎝0              ⎠"
      ]
     },
     "execution_count": 17,
     "metadata": {},
     "output_type": "execute_result"
    }
   ],
   "source": [
    "x=sp.Symbol('x')\n",
    "DF=sp.Integral((sp.exp(-x)**2), (x, 0, sp.oo ))\n",
    "DF, DF.doit()"
   ]
  },
  {
   "cell_type": "markdown",
   "metadata": {},
   "source": [
    "### Al cumplir todos los postulados se comprueba que esa función de onda es aceptable"
   ]
  },
  {
   "cell_type": "markdown",
   "metadata": {},
   "source": [
    "**<div class=\"alert alert-warning\">e) $\\large e^{-x}sen(x) [0, \\infty)$**"
   ]
  },
  {
   "cell_type": "code",
   "execution_count": 18,
   "metadata": {},
   "outputs": [
    {
     "data": {
      "text/plain": [
       "Text(0, 0.5, 'f(x)')"
      ]
     },
     "execution_count": 18,
     "metadata": {},
     "output_type": "execute_result"
    },
    {
     "data": {
      "image/png": "[encoded data removed]",
      "text/plain": [
       "<Figure size 432x288 with 1 Axes>"
      ]
     },
     "metadata": {
      "needs_background": "light"
     },
     "output_type": "display_data"
    }
   ],
   "source": [
    "x= np.arange (-1, 4.0, 0.01)\n",
    "f= np.exp(-x)*np.sin(x)\n",
    "plt.plot(x, f, 'orange', linewidth=2)\n",
    "plt.title('f(x)=e^-x*sen(x)')\n",
    "plt.xlabel('x')\n",
    "plt.ylabel('f(x)')"
   ]
  },
  {
   "cell_type": "code",
   "execution_count": 19,
   "metadata": {},
   "outputs": [
    {
     "data": {
      "image/png": "[encoded data removed]",
      "text/latex": [
       "$\\displaystyle \\left( \\frac{d}{d x} e^{- x} \\sin{\\left(x \\right)}, \\  - e^{- x} \\sin{\\left(x \\right)} + e^{- x} \\cos{\\left(x \\right)}\\right)$"
      ],
      "text/plain": [
       "⎛d ⎛ -x       ⎞     -x           -x       ⎞\n",
       "⎜──⎝ℯ  ⋅sin(x)⎠, - ℯ  ⋅sin(x) + ℯ  ⋅cos(x)⎟\n",
       "⎝dx                                       ⎠"
      ]
     },
     "execution_count": 19,
     "metadata": {},
     "output_type": "execute_result"
    }
   ],
   "source": [
    "x=sp.Symbol('x')\n",
    "DF=sp.Derivative (sp.exp(-x)*sp.sin(x), x)\n",
    "DF, DF.doit()"
   ]
  },
  {
   "cell_type": "code",
   "execution_count": 20,
   "metadata": {},
   "outputs": [
    {
     "data": {
      "image/png": "[encoded data removed]",
      "text/latex": [
       "$\\displaystyle \\left( \\frac{d^{2}}{d x^{2}} e^{- x} \\sin{\\left(x \\right)}, \\  - 2 e^{- x} \\cos{\\left(x \\right)}\\right)$"
      ],
      "text/plain": [
       "⎛  2                           ⎞\n",
       "⎜ d ⎛ -x       ⎞      -x       ⎟\n",
       "⎜───⎝ℯ  ⋅sin(x)⎠, -2⋅ℯ  ⋅cos(x)⎟\n",
       "⎜  2                           ⎟\n",
       "⎝dx                            ⎠"
      ]
     },
     "execution_count": 20,
     "metadata": {},
     "output_type": "execute_result"
    }
   ],
   "source": [
    "x=sp.Symbol('x')\n",
    "D2F=sp.Derivative(sp.exp(-x)*sp.sin(x), x, 2)\n",
    "D2F, D2F.doit()"
   ]
  },
  {
   "cell_type": "code",
   "execution_count": 21,
   "metadata": {},
   "outputs": [
    {
     "data": {
      "image/png": "[encoded data removed]",
      "text/latex": [
       "$\\displaystyle \\left( \\int\\limits_{0}^{\\infty} e^{- 2 x} \\sin^{2}{\\left(x \\right)}\\, dx, \\  \\frac{1}{8}\\right)$"
      ],
      "text/plain": [
       "⎛∞                      ⎞\n",
       "⎜⌠                      ⎟\n",
       "⎜⎮  -2⋅x    2           ⎟\n",
       "⎜⎮ ℯ    ⋅sin (x) dx, 1/8⎟\n",
       "⎜⌡                      ⎟\n",
       "⎝0                      ⎠"
      ]
     },
     "execution_count": 21,
     "metadata": {},
     "output_type": "execute_result"
    }
   ],
   "source": [
    "x=sp.Symbol('x')\n",
    "DF=sp.Integral(((sp.exp(-x)*sp.sin(x))**2), (x, 0, sp.oo ))\n",
    "DF, DF.doit()"
   ]
  },
  {
   "cell_type": "markdown",
   "metadata": {},
   "source": [
    "### Al cumplir todos los parametros la funcion de onda es aceptable."
   ]
  },
  {
   "cell_type": "markdown",
   "metadata": {},
   "source": [
    "#### 2do punto."
   ]
  },
  {
   "cell_type": "markdown",
   "metadata": {},
   "source": [
    "**<div class=\"alert alert-info\">a) $\\large e^{-x} [0, \\infty)$**"
   ]
  },
  {
   "cell_type": "code",
   "execution_count": 22,
   "metadata": {},
   "outputs": [
    {
     "data": {
      "image/png": "[encoded data removed]",
      "text/latex": [
       "$\\displaystyle \\left( \\int\\limits_{0}^{\\infty} e^{- 2 x}\\, dx, \\  \\frac{1}{2}\\right)$"
      ],
      "text/plain": [
       "⎛∞              ⎞\n",
       "⎜⌠              ⎟\n",
       "⎜⎮  -2⋅x        ⎟\n",
       "⎜⎮ ℯ     dx, 1/2⎟\n",
       "⎜⌡              ⎟\n",
       "⎝0              ⎠"
      ]
     },
     "execution_count": 22,
     "metadata": {},
     "output_type": "execute_result"
    }
   ],
   "source": [
    "x=sp.Symbol('x')\n",
    "DF=sp.Integral((sp.exp(-x)**2), (x, 0, sp.oo ))\n",
    "DF, DF.doit()"
   ]
  },
  {
   "cell_type": "markdown",
   "metadata": {},
   "source": [
    "$$\\large A=\\frac{1}{\\sqrt{0.5}}$$"
   ]
  },
  {
   "cell_type": "code",
   "execution_count": 23,
   "metadata": {},
   "outputs": [
    {
     "data": {
      "image/png": "[encoded data removed]",
      "text/latex": [
       "$\\displaystyle \\left( \\int\\limits_{0}^{\\infty} 2.0 e^{- 2 x}\\, dx, \\  1.0\\right)$"
      ],
      "text/plain": [
       "⎛∞                  ⎞\n",
       "⎜⌠                  ⎟\n",
       "⎜⎮      -2⋅x        ⎟\n",
       "⎜⎮ 2.0⋅ℯ     dx, 1.0⎟\n",
       "⎜⌡                  ⎟\n",
       "⎝0                  ⎠"
      ]
     },
     "execution_count": 23,
     "metadata": {},
     "output_type": "execute_result"
    }
   ],
   "source": [
    "A=1/((0.5)**0.5)\n",
    "fn=A*sp.exp(-x)\n",
    "Ifn=sp.Integral(fn**2, (x, 0, sp.oo))\n",
    "Ifn, Ifn.doit()"
   ]
  },
  {
   "cell_type": "markdown",
   "metadata": {},
   "source": [
    "### al integrar en todo el espacio y su resultado dar 0 significa que esta normalizada la función\n",
    "\n",
    "**<font color=red> No 0, 1**"
   ]
  },
  {
   "cell_type": "markdown",
   "metadata": {},
   "source": [
    "**<div class=\"alert alert-info\">b) $\\large e^{i\\theta} [0, 2\\pi]$**"
   ]
  },
  {
   "cell_type": "code",
   "execution_count": 24,
   "metadata": {},
   "outputs": [
    {
     "data": {
      "image/png": "[encoded data removed]",
      "text/latex": [
       "$\\displaystyle \\left( \\int\\limits_{0}^{2 \\pi} 1\\, dx, \\  2 \\pi\\right)$"
      ],
      "text/plain": [
       "⎛2⋅π          ⎞\n",
       "⎜ ⌠           ⎟\n",
       "⎜ ⎮  1 dx, 2⋅π⎟\n",
       "⎜ ⌡           ⎟\n",
       "⎝ 0           ⎠"
      ]
     },
     "execution_count": 24,
     "metadata": {},
     "output_type": "execute_result"
    }
   ],
   "source": [
    "x=sp.Symbol('x')\n",
    "z=1j\n",
    "DF=sp.Integral((sp.exp(x*z)*sp.exp(x*-z)), (x, 0, 2*sp.pi ))\n",
    "DF, DF.doit()"
   ]
  },
  {
   "cell_type": "markdown",
   "metadata": {},
   "source": [
    "$$\\large A=\\frac{1}{\\sqrt{2 pi}}$$\n",
    "**<font color=red> La forma correcta de escribir el resultado es: $A=\\frac{1}{\\sqrt{2\\pi}}$**"
   ]
  },
  {
   "cell_type": "code",
   "execution_count": 25,
   "metadata": {},
   "outputs": [
    {
     "data": {
      "image/png": "[encoded data removed]",
      "text/latex": [
       "$\\displaystyle \\left( \\int\\limits_{0}^{2 \\pi} \\frac{0.707106781186547}{\\pi^{0.5}}\\, dx, \\  1.41421356237309 \\pi^{0.5}\\right)$"
      ],
      "text/plain": [
       "⎛2⋅π                                                  ⎞\n",
       "⎜ ⌠                                                   ⎟\n",
       "⎜ ⎮                     -0.5                       0.5⎟\n",
       "⎜ ⎮  0.707106781186547⋅π     dx, 1.41421356237309⋅π   ⎟\n",
       "⎜ ⌡                                                   ⎟\n",
       "⎝ 0                                                   ⎠"
      ]
     },
     "execution_count": 25,
     "metadata": {},
     "output_type": "execute_result"
    }
   ],
   "source": [
    "A=1/((2*sp.pi)**0.5)\n",
    "fn=(sp.exp(x*z)*sp.exp(x*-z))\n",
    "Ifn=sp.Integral(A*fn, (x, 0, 2*sp.pi))\n",
    "Ifn, Ifn.doit()"
   ]
  },
  {
   "cell_type": "markdown",
   "metadata": {},
   "source": [
    "**<font color=red> Ningún comentario?**"
   ]
  },
  {
   "cell_type": "markdown",
   "metadata": {},
   "source": [
    "**<div class=\"alert alert-info\">c) $\\large xe^{-x} [0, \\infty)$**"
   ]
  },
  {
   "cell_type": "code",
   "execution_count": 26,
   "metadata": {},
   "outputs": [
    {
     "data": {
      "image/png": "[encoded data removed]",
      "text/latex": [
       "$\\displaystyle \\left( \\int\\limits_{0}^{\\infty} x e^{- 2 x}\\, dx, \\  \\frac{1}{4}\\right)$"
      ],
      "text/plain": [
       "⎛∞                ⎞\n",
       "⎜⌠                ⎟\n",
       "⎜⎮    -2⋅x        ⎟\n",
       "⎜⎮ x⋅ℯ     dx, 1/4⎟\n",
       "⎜⌡                ⎟\n",
       "⎝0                ⎠"
      ]
     },
     "execution_count": 26,
     "metadata": {},
     "output_type": "execute_result"
    }
   ],
   "source": [
    "x=sp.Symbol('x')\n",
    "DF=sp.Integral((x*sp.exp(-x)**2), (x, 0, sp.oo ))\n",
    "DF, DF.doit()"
   ]
  },
  {
   "cell_type": "markdown",
   "metadata": {},
   "source": [
    "$$\\large A=\\frac{1}{\\sqrt{0.25}}$$"
   ]
  },
  {
   "cell_type": "code",
   "execution_count": 27,
   "metadata": {},
   "outputs": [
    {
     "data": {
      "image/png": "[encoded data removed]",
      "text/latex": [
       "$\\displaystyle \\left( \\int\\limits_{0}^{\\infty} 4.0 x^{2} e^{- 2 x}\\, dx, \\  1.0\\right)$"
      ],
      "text/plain": [
       "⎛∞                     ⎞\n",
       "⎜⌠                     ⎟\n",
       "⎜⎮      2  -2⋅x        ⎟\n",
       "⎜⎮ 4.0⋅x ⋅ℯ     dx, 1.0⎟\n",
       "⎜⌡                     ⎟\n",
       "⎝0                     ⎠"
      ]
     },
     "execution_count": 27,
     "metadata": {},
     "output_type": "execute_result"
    }
   ],
   "source": [
    "A=1/((0.25)**0.5)\n",
    "fn=A*x*sp.exp(-x)\n",
    "Ifn=sp.Integral(fn**2, (x, 0, sp.oo))\n",
    "Ifn, Ifn.doit()"
   ]
  },
  {
   "cell_type": "markdown",
   "metadata": {},
   "source": [
    "### 3er punto"
   ]
  },
  {
   "cell_type": "markdown",
   "metadata": {},
   "source": [
    "**<div class=\"alert alert-warning\"> La función de onda para una partícula en un sistema monodimensional definido entre $\\large x = 0$ y $\\large x = \\infty$, a $\\large t=0$ es $\\large \\Psi = \\sqrt{\\frac{2}{a}}e^{\\frac{-x}{a}}$ donde $\\large a$ es 1.0 nm. A $\\large t=0$ se mide la posición de la partícula.\n",
    "a) Calcular la probabilidad de que la partícula se encuentre entre $\\large x=1.5000 nm$ y $\\large x=1.5001\n",
    "nm$. b) Calcular la probabilidad de que la partícula se encuentre entre $\\large x=0$ y $\\large x=2 nm$. c)\n",
    "Verifique que la función de onda está normalizada.**"
   ]
  },
  {
   "cell_type": "markdown",
   "metadata": {},
   "source": [
    "### a) "
   ]
  },
  {
   "cell_type": "code",
   "execution_count": 28,
   "metadata": {},
   "outputs": [
    {
     "data": {
      "image/png": "[encoded data removed]",
      "text/latex": [
       "$\\displaystyle \\left( \\int\\limits_{1.5}^{1.5001} 2.0 e^{- 2.0 x}\\, dx, \\  9.9564179985856 \\cdot 10^{-6}\\right)$"
      ],
      "text/plain": [
       "⎛1.5001                                   ⎞\n",
       "⎜  ⌠                                      ⎟\n",
       "⎜  ⎮         -2.0⋅x                       ⎟\n",
       "⎜  ⎮    2.0⋅ℯ       dx, 9.9564179985856e-6⎟\n",
       "⎜  ⌡                                      ⎟\n",
       "⎝ 1.5                                     ⎠"
      ]
     },
     "execution_count": 28,
     "metadata": {},
     "output_type": "execute_result"
    }
   ],
   "source": [
    "A=((2/1.0)**0.5)*sp.exp(-x/1.0)\n",
    "Ifn=sp.Integral(A**2, (x, 1.500, 1.5001))\n",
    "Ifn, Ifn.doit()"
   ]
  },
  {
   "cell_type": "markdown",
   "metadata": {},
   "source": [
    "### por lo tanto la probabilidad de encontrar entre ese intervalo es de 9.9564179985856*10^-6\n",
    "\n",
    "**<font color=red> Qué signífica?**"
   ]
  },
  {
   "cell_type": "markdown",
   "metadata": {},
   "source": [
    "### b)"
   ]
  },
  {
   "cell_type": "code",
   "execution_count": 29,
   "metadata": {},
   "outputs": [
    {
     "data": {
      "image/png": "[encoded data removed]",
      "text/latex": [
       "$\\displaystyle \\left( \\int\\limits_{0}^{2} 2.0 e^{- 2.0 x}\\, dx, \\  0.981684361111266\\right)$"
      ],
      "text/plain": [
       "⎛2                                  ⎞\n",
       "⎜⌠                                  ⎟\n",
       "⎜⎮      -2.0⋅x                      ⎟\n",
       "⎜⎮ 2.0⋅ℯ       dx, 0.981684361111266⎟\n",
       "⎜⌡                                  ⎟\n",
       "⎝0                                  ⎠"
      ]
     },
     "execution_count": 29,
     "metadata": {},
     "output_type": "execute_result"
    }
   ],
   "source": [
    "A=((2/1.0)**0.5)*sp.exp(-x/1.0)\n",
    "Ifn=sp.Integral(A**2, (x, 0, 2))\n",
    "Ifn, Ifn.doit()"
   ]
  },
  {
   "cell_type": "markdown",
   "metadata": {},
   "source": [
    "### por lo tanto la probabilidad de encontrar entre ese intervalo es de 0.981684361111266\n",
    "\n",
    "**<font color=red> Merece algún comentario el resultado obtenido**"
   ]
  },
  {
   "cell_type": "markdown",
   "metadata": {},
   "source": [
    "### C)"
   ]
  },
  {
   "cell_type": "code",
   "execution_count": 30,
   "metadata": {},
   "outputs": [
    {
     "data": {
      "image/png": "[encoded data removed]",
      "text/latex": [
       "$\\displaystyle \\left( \\int\\limits_{0}^{\\infty} 2.0 e^{- 2.0 x}\\, dx, \\  1.0\\right)$"
      ],
      "text/plain": [
       "⎛∞                    ⎞\n",
       "⎜⌠                    ⎟\n",
       "⎜⎮      -2.0⋅x        ⎟\n",
       "⎜⎮ 2.0⋅ℯ       dx, 1.0⎟\n",
       "⎜⌡                    ⎟\n",
       "⎝0                    ⎠"
      ]
     },
     "execution_count": 30,
     "metadata": {},
     "output_type": "execute_result"
    }
   ],
   "source": [
    "A=((2/1.0)**0.5)*sp.exp(-x/1.0)\n",
    "Ifn=sp.Integral(A**2, (x, 0, sp.oo))\n",
    "Ifn, Ifn.doit()"
   ]
  },
  {
   "cell_type": "markdown",
   "metadata": {},
   "source": [
    "### al integrarse en todo el espacio el resultado es 1 por lo tanto si esta normalizada la función de onda"
   ]
  },
  {
   "cell_type": "markdown",
   "metadata": {},
   "source": [
    "### 4to punto"
   ]
  },
  {
   "cell_type": "markdown",
   "metadata": {},
   "source": [
    "**<div class=\"alert alert-warning\">c) $\\large \\hat{A}f(x)=ln f(x)$ (toma el logaritmo de $\\large f(x)$)**"
   ]
  },
  {
   "cell_type": "code",
   "execution_count": 31,
   "metadata": {},
   "outputs": [
    {
     "data": {
      "image/png": "[encoded data removed]",
      "text/latex": [
       "$\\displaystyle \\left( f{\\left(x \\right)}, \\  s{\\left(x \\right)}, \\  p{\\left(x \\right)}\\right)$"
      ],
      "text/plain": [
       "(f(x), s(x), p(x))"
      ]
     },
     "execution_count": 31,
     "metadata": {},
     "output_type": "execute_result"
    }
   ],
   "source": [
    "x, a, b, c=sp.symbols('x a b c', complex=True)\n",
    "f=sp.Function('f')(x)\n",
    "s=sp.Function('s')(x)\n",
    "p=sp.Function('p')(x)\n",
    "f, s, p"
   ]
  },
  {
   "cell_type": "code",
   "execution_count": 32,
   "metadata": {},
   "outputs": [
    {
     "data": {
      "image/png": "[encoded data removed]",
      "text/latex": [
       "$\\displaystyle \\left( \\log{\\left(a f{\\left(x \\right)} \\right)}, \\  \\log{\\left(a f{\\left(x \\right)} \\right)}\\right)$"
      ],
      "text/plain": [
       "(log(a⋅f(x)), log(a⋅f(x)))"
      ]
     },
     "execution_count": 32,
     "metadata": {},
     "output_type": "execute_result"
    }
   ],
   "source": [
    "L1=sp.log(a*f)\n",
    "L1, L1.doit()"
   ]
  },
  {
   "cell_type": "markdown",
   "metadata": {},
   "source": [
    "no es un operador lineal, por que la constante esta actuando sobre el operador.\n",
    "**<font color=red> Al contrario, el operador actúa sobre la constante**"
   ]
  },
  {
   "cell_type": "markdown",
   "metadata": {},
   "source": [
    "### 5to punto\n"
   ]
  },
  {
   "cell_type": "code",
   "execution_count": 33,
   "metadata": {},
   "outputs": [
    {
     "data": {
      "image/png": "[encoded data removed]",
      "text/latex": [
       "$\\displaystyle \\left( \\frac{\\partial}{\\partial x} \\cos{\\left(k x \\right)}, \\  - k \\sin{\\left(k x \\right)}\\right)$"
      ],
      "text/plain": [
       "⎛∂                        ⎞\n",
       "⎜──(cos(k⋅x)), -k⋅sin(k⋅x)⎟\n",
       "⎝∂x                       ⎠"
      ]
     },
     "execution_count": 33,
     "metadata": {},
     "output_type": "execute_result"
    }
   ],
   "source": [
    "x, k=sp.symbols('x k')\n",
    "Y3=sp.cos(k*x)\n",
    "D1=sp.Derivative(Y3, x)\n",
    "D1, D1.doit()"
   ]
  },
  {
   "cell_type": "code",
   "execution_count": 34,
   "metadata": {},
   "outputs": [
    {
     "data": {
      "image/png": "[encoded data removed]",
      "text/latex": [
       "$\\displaystyle \\left( \\frac{\\partial^{2}}{\\partial x^{2}} \\cos{\\left(k x \\right)}, \\  - k^{2} \\cos{\\left(k x \\right)}\\right)$"
      ],
      "text/plain": [
       "⎛  2                        ⎞\n",
       "⎜ ∂               2         ⎟\n",
       "⎜───(cos(k⋅x)), -k ⋅cos(k⋅x)⎟\n",
       "⎜  2                        ⎟\n",
       "⎝∂x                         ⎠"
      ]
     },
     "execution_count": 34,
     "metadata": {},
     "output_type": "execute_result"
    }
   ],
   "source": [
    "x, k=sp.symbols('x k')\n",
    "Y3=sp.cos(k*x)\n",
    "D1=sp.Derivative(Y3, x, 2)\n",
    "D1, D1.doit()"
   ]
  },
  {
   "cell_type": "markdown",
   "metadata": {},
   "source": [
    "**<font color=red> Los resultados de la solución de un problema merecen un comentario, especialmente un problema matemático**"
   ]
  },
  {
   "cell_type": "markdown",
   "metadata": {},
   "source": [
    "### 6to punto"
   ]
  },
  {
   "cell_type": "markdown",
   "metadata": {},
   "source": [
    "**<div class=\"alert alert-success\">a) $\\large [\\hat{x}^2,\\frac{d^2}{dx^2}]$**"
   ]
  },
  {
   "cell_type": "code",
   "execution_count": 35,
   "metadata": {},
   "outputs": [
    {
     "data": {
      "image/png": "[encoded data removed]",
      "text/latex": [
       "$\\displaystyle f{\\left(x \\right)}$"
      ],
      "text/plain": [
       "f(x)"
      ]
     },
     "execution_count": 35,
     "metadata": {},
     "output_type": "execute_result"
    }
   ],
   "source": [
    "x, hbar=sp.symbols('x hbar')\n",
    "f=sp.Function('f')(x)\n",
    "f"
   ]
  },
  {
   "cell_type": "code",
   "execution_count": 36,
   "metadata": {},
   "outputs": [
    {
     "data": {
      "image/png": "[encoded data removed]",
      "text/latex": [
       "$\\displaystyle - i \\hbar x \\frac{d}{d x} f{\\left(x \\right)}$"
      ],
      "text/plain": [
       "       d       \n",
       "-ⅈ⋅h̅⋅x⋅──(f(x))\n",
       "       dx      "
      ]
     },
     "execution_count": 36,
     "metadata": {},
     "output_type": "execute_result"
    }
   ],
   "source": [
    "c1=(-sp.I*hbar)*x*sp.Derivative(f,x)\n",
    "c1"
   ]
  },
  {
   "cell_type": "code",
   "execution_count": 37,
   "metadata": {},
   "outputs": [
    {
     "data": {
      "image/png": "[encoded data removed]",
      "text/latex": [
       "$\\displaystyle - i \\hbar \\frac{d}{d x} x f{\\left(x \\right)}$"
      ],
      "text/plain": [
       "     d         \n",
       "-ⅈ⋅h̅⋅──(x⋅f(x))\n",
       "     dx        "
      ]
     },
     "execution_count": 37,
     "metadata": {},
     "output_type": "execute_result"
    }
   ],
   "source": [
    "c2=(-sp.I*hbar)*sp.Derivative(x*f,x)\n",
    "c2"
   ]
  },
  {
   "cell_type": "code",
   "execution_count": 38,
   "metadata": {},
   "outputs": [
    {
     "data": {
      "image/png": "[encoded data removed]",
      "text/latex": [
       "$\\displaystyle - i \\hbar x \\frac{d}{d x} f{\\left(x \\right)}$"
      ],
      "text/plain": [
       "       d       \n",
       "-ⅈ⋅h̅⋅x⋅──(f(x))\n",
       "       dx      "
      ]
     },
     "execution_count": 38,
     "metadata": {},
     "output_type": "execute_result"
    }
   ],
   "source": [
    "c3=c1.doit()\n",
    "c3"
   ]
  },
  {
   "cell_type": "code",
   "execution_count": 39,
   "metadata": {},
   "outputs": [
    {
     "data": {
      "image/png": "[encoded data removed]",
      "text/latex": [
       "$\\displaystyle - i \\hbar \\left(x \\frac{d}{d x} f{\\left(x \\right)} + f{\\left(x \\right)}\\right)$"
      ],
      "text/plain": [
       "     ⎛  d              ⎞\n",
       "-ⅈ⋅h̅⋅⎜x⋅──(f(x)) + f(x)⎟\n",
       "     ⎝  dx             ⎠"
      ]
     },
     "execution_count": 39,
     "metadata": {},
     "output_type": "execute_result"
    }
   ],
   "source": [
    "c4=c2.doit()\n",
    "c4"
   ]
  },
  {
   "cell_type": "code",
   "execution_count": 40,
   "metadata": {},
   "outputs": [
    {
     "data": {
      "image/png": "[encoded data removed]",
      "text/latex": [
       "$\\displaystyle - i \\hbar x \\frac{d}{d x} f{\\left(x \\right)} + i \\hbar \\left(x \\frac{d}{d x} f{\\left(x \\right)} + f{\\left(x \\right)}\\right)$"
      ],
      "text/plain": [
       "        d              ⎛  d              ⎞\n",
       "- ⅈ⋅h̅⋅x⋅──(f(x)) + ⅈ⋅h̅⋅⎜x⋅──(f(x)) + f(x)⎟\n",
       "        dx             ⎝  dx             ⎠"
      ]
     },
     "execution_count": 40,
     "metadata": {},
     "output_type": "execute_result"
    }
   ],
   "source": [
    "c3-c4"
   ]
  },
  {
   "cell_type": "code",
   "execution_count": 41,
   "metadata": {},
   "outputs": [
    {
     "data": {
      "image/png": "[encoded data removed]",
      "text/latex": [
       "$\\displaystyle i \\hbar f{\\left(x \\right)}$"
      ],
      "text/plain": [
       "ⅈ⋅h̅⋅f(x)"
      ]
     },
     "execution_count": 41,
     "metadata": {},
     "output_type": "execute_result"
    }
   ],
   "source": [
    "sp.simplify(c3-c4)"
   ]
  },
  {
   "cell_type": "markdown",
   "metadata": {},
   "source": [
    "### el conmutador de los operadores es ihbar\n",
    "\n",
    "**<font color=red> Se escribe así:  $i\\hbar$**"
   ]
  },
  {
   "cell_type": "markdown",
   "metadata": {},
   "source": [
    "**<div class=\"alert alert-success\">b) $\\large [\\hat{x},\\hat{p}_x]$**"
   ]
  },
  {
   "cell_type": "markdown",
   "metadata": {},
   "source": [
    " [x^2,d^2/dx^2]= x^2*d^2/dx^2-d^2/dx^2*x^2\n",
    " \n",
    " [x^2,d^2/dx^2]f(x)=  [x^2*d^2/dx^2-d^2/dx^2*x^2]\n",
    " \n",
    "                    = x^2*d^2/dx^2*f(x)-[d^2/dx^2*x^2*f(x)]\n",
    "                    \n",
    "                    = x^2*f\"(x)-2f(x)-2xf'(x)-2xf'(x)-x^2*f\"(x)\n",
    "                    \n",
    "                    =-2f(x)-2xf'(x)-2xf'(x)\n",
    "                    \n",
    "                    =-2f(x)-4xf'(x)"
   ]
  },
  {
   "cell_type": "markdown",
   "metadata": {},
   "source": [
    "**<font color=red> Por favor utilizar la escritura de ecuaciones matemáticas en formato latex que empleamos en los cuadernos del curso**"
   ]
  },
  {
   "cell_type": "markdown",
   "metadata": {},
   "source": [
    "**<div class=\"alert alert-success\">c) $\\large [\\hat{p}_x,\\hat{H}_x]$**"
   ]
  },
  {
   "cell_type": "markdown",
   "metadata": {},
   "source": [
    "[Px,Hx]= PxHx-HxPx\n",
    "\n",
    "\n",
    "[Px,Hx] f(x) = [(-ih*d/dx)(-h^2*d^2/dx^2+v(x))-(-ihd*d/dx)]f(x)\n",
    "\n",
    "\n",
    " =ih^3/2m*d/dx*d^2/dx^2*f(x)-ih*d/dx*v(x)f(x)-ih^3/2m*d^2/dx^2*d/dx*f(x)+ihv(x)*d/dx*f(x)\n",
    " \n",
    " \n",
    "=ihv(x)f'(x)-ih[v'(x)f(x)+v(x)f'(x)]\n",
    "\n",
    "\n",
    " =-ihv'(x)f(x)"
   ]
  },
  {
   "cell_type": "markdown",
   "metadata": {},
   "source": [
    "**<font color=red> Por favor utilizar la escritura de ecuaciones matemáticas en formato latex que empleamos en los cuadernos del curso**"
   ]
  },
  {
   "cell_type": "markdown",
   "metadata": {},
   "source": [
    "### 7mo punto"
   ]
  },
  {
   "cell_type": "markdown",
   "metadata": {},
   "source": [
    "**<div class=\"alert alert-danger\">Calcule $\\large [\\hat{x}^2,\\frac{d^2}{dx^2}](e^{x^2}+cos(2x))$:**"
   ]
  },
  {
   "cell_type": "code",
   "execution_count": 42,
   "metadata": {},
   "outputs": [
    {
     "data": {
      "image/png": "[encoded data removed]",
      "text/latex": [
       "$\\displaystyle e^{x^{2}} + \\cos{\\left(2 x \\right)}$"
      ],
      "text/plain": [
       " ⎛ 2⎞           \n",
       " ⎝x ⎠           \n",
       "ℯ     + cos(2⋅x)"
      ]
     },
     "execution_count": 42,
     "metadata": {},
     "output_type": "execute_result"
    }
   ],
   "source": [
    "x= sp.symbols ('x')\n",
    "f= sp.exp(x**2)+sp.cos(2*x)\n",
    "f"
   ]
  },
  {
   "cell_type": "code",
   "execution_count": 43,
   "metadata": {},
   "outputs": [
    {
     "data": {
      "image/png": "[encoded data removed]",
      "text/latex": [
       "$\\displaystyle x^{2} \\frac{d^{2}}{d x^{2}} \\left(e^{x^{2}} + \\cos{\\left(2 x \\right)}\\right)$"
      ],
      "text/plain": [
       "     2⎛ ⎛ 2⎞           ⎞\n",
       " 2  d ⎜ ⎝x ⎠           ⎟\n",
       "x ⋅───⎝ℯ     + cos(2⋅x)⎠\n",
       "     2                  \n",
       "   dx                   "
      ]
     },
     "execution_count": 43,
     "metadata": {},
     "output_type": "execute_result"
    }
   ],
   "source": [
    "Y1=x**2*sp.Derivative(f,x,2)\n",
    "Y1"
   ]
  },
  {
   "cell_type": "code",
   "execution_count": 44,
   "metadata": {},
   "outputs": [
    {
     "data": {
      "image/png": "[encoded data removed]",
      "text/latex": [
       "$\\displaystyle \\frac{d^{2}}{d x^{2}} x^{2} \\left(e^{x^{2}} + \\cos{\\left(2 x \\right)}\\right)$"
      ],
      "text/plain": [
       "  2⎛   ⎛ ⎛ 2⎞           ⎞⎞\n",
       " d ⎜ 2 ⎜ ⎝x ⎠           ⎟⎟\n",
       "───⎝x ⋅⎝ℯ     + cos(2⋅x)⎠⎠\n",
       "  2                       \n",
       "dx                        "
      ]
     },
     "execution_count": 44,
     "metadata": {},
     "output_type": "execute_result"
    }
   ],
   "source": [
    "Y2= sp.Derivative(x**2*f,x,2)\n",
    "Y2"
   ]
  },
  {
   "cell_type": "code",
   "execution_count": 45,
   "metadata": {},
   "outputs": [
    {
     "data": {
      "image/png": "[encoded data removed]",
      "text/latex": [
       "$\\displaystyle 2 x^{2} \\left(2 x^{2} e^{x^{2}} + e^{x^{2}} - 2 \\cos{\\left(2 x \\right)}\\right)$"
      ],
      "text/plain": [
       "     ⎛      ⎛ 2⎞    ⎛ 2⎞             ⎞\n",
       "   2 ⎜   2  ⎝x ⎠    ⎝x ⎠             ⎟\n",
       "2⋅x ⋅⎝2⋅x ⋅ℯ     + ℯ     - 2⋅cos(2⋅x)⎠"
      ]
     },
     "execution_count": 45,
     "metadata": {},
     "output_type": "execute_result"
    }
   ],
   "source": [
    "Y3=Y1.doit()\n",
    "Y3"
   ]
  },
  {
   "cell_type": "code",
   "execution_count": 46,
   "metadata": {},
   "outputs": [
    {
     "data": {
      "image/png": "[encoded data removed]",
      "text/latex": [
       "$\\displaystyle 2 \\left(x^{2} \\left(2 x^{2} e^{x^{2}} + e^{x^{2}} - 2 \\cos{\\left(2 x \\right)}\\right) + 4 x \\left(x e^{x^{2}} - \\sin{\\left(2 x \\right)}\\right) + e^{x^{2}} + \\cos{\\left(2 x \\right)}\\right)$"
      ],
      "text/plain": [
       "  ⎛   ⎛      ⎛ 2⎞    ⎛ 2⎞             ⎞       ⎛   ⎛ 2⎞           ⎞    ⎛ 2⎞    \n",
       "  ⎜ 2 ⎜   2  ⎝x ⎠    ⎝x ⎠             ⎟       ⎜   ⎝x ⎠           ⎟    ⎝x ⎠    \n",
       "2⋅⎝x ⋅⎝2⋅x ⋅ℯ     + ℯ     - 2⋅cos(2⋅x)⎠ + 4⋅x⋅⎝x⋅ℯ     - sin(2⋅x)⎠ + ℯ     + c\n",
       "\n",
       "       ⎞\n",
       "       ⎟\n",
       "os(2⋅x)⎠"
      ]
     },
     "execution_count": 46,
     "metadata": {},
     "output_type": "execute_result"
    }
   ],
   "source": [
    "Y4=Y2.doit()\n",
    "Y4"
   ]
  },
  {
   "cell_type": "markdown",
   "metadata": {},
   "source": [
    "Y3-Y4"
   ]
  },
  {
   "cell_type": "code",
   "execution_count": 47,
   "metadata": {},
   "outputs": [
    {
     "data": {
      "image/png": "[encoded data removed]",
      "text/latex": [
       "$\\displaystyle - 8 x \\left(x e^{x^{2}} - \\sin{\\left(2 x \\right)}\\right) - 2 e^{x^{2}} - 2 \\cos{\\left(2 x \\right)}$"
      ],
      "text/plain": [
       "      ⎛   ⎛ 2⎞           ⎞      ⎛ 2⎞             \n",
       "      ⎜   ⎝x ⎠           ⎟      ⎝x ⎠             \n",
       "- 8⋅x⋅⎝x⋅ℯ     - sin(2⋅x)⎠ - 2⋅ℯ     - 2⋅cos(2⋅x)"
      ]
     },
     "execution_count": 47,
     "metadata": {},
     "output_type": "execute_result"
    }
   ],
   "source": [
    "sp.simplify(Y3-Y4)"
   ]
  },
  {
   "cell_type": "markdown",
   "metadata": {},
   "source": [
    "### este sería el resultado del calculo"
   ]
  },
  {
   "cell_type": "markdown",
   "metadata": {},
   "source": [
    "**<font color=red> Que significado tiene el resultado?**"
   ]
  },
  {
   "cell_type": "markdown",
   "metadata": {},
   "source": [
    "### 8vo Punto "
   ]
  },
  {
   "cell_type": "markdown",
   "metadata": {},
   "source": [
    "### Cuando un operador actua sobre una función el resultado es otro función. Cuando un operador actua sobre un operador el resultado es otro operador"
   ]
  },
  {
   "cell_type": "markdown",
   "metadata": {},
   "source": [
    "**<div class=\"alert alert-danger\">a) $\\large \\hat{A}\\hat{B}g(x)$**"
   ]
  },
  {
   "cell_type": "markdown",
   "metadata": {},
   "source": [
    "### Es una función"
   ]
  },
  {
   "cell_type": "markdown",
   "metadata": {},
   "source": [
    "<div class=\"alert alert-danger\">\n",
    "b) $\\large \\hat{A}\\hat{B}+\\hat{B}\\hat{A}$"
   ]
  },
  {
   "cell_type": "markdown",
   "metadata": {},
   "source": [
    "### Es un operador"
   ]
  },
  {
   "cell_type": "markdown",
   "metadata": {},
   "source": [
    "**<div class=\"alert alert-danger\">\n",
    "c) $\\large \\hat{B^2}f(x)$\n",
    "$**"
   ]
  },
  {
   "cell_type": "markdown",
   "metadata": {},
   "source": [
    "### Es una función"
   ]
  },
  {
   "cell_type": "markdown",
   "metadata": {},
   "source": [
    "**<div class=\"alert alert-danger\">\n",
    "d) $\\large f(x)^*\\hat{A}f(x)$**"
   ]
  },
  {
   "cell_type": "markdown",
   "metadata": {},
   "source": [
    "### Es una función"
   ]
  },
  {
   "cell_type": "markdown",
   "metadata": {},
   "source": [
    "### 9no punto"
   ]
  },
  {
   "cell_type": "markdown",
   "metadata": {},
   "source": [
    "**<div class=\"alert alert-danger\"> Si la posición de un electrón se mide con una precisión de ±0.001 Å ¿Cuál será la máxima precisión para el momento?**"
   ]
  },
  {
   "cell_type": "markdown",
   "metadata": {},
   "source": [
    "Utilizaremos la ecuación de principio de incertidumbre la cual es Δx * Δpx ≥ (h/2)\n",
    "\n",
    "\n",
    "Donde=  Δx= 1x10^-13 h= 1.055*10^-34\n",
    "\n",
    "Δpx ≥ 1.055*10^-34\n",
    "\n",
    "\n",
    "Δpx ≥ 5.27*10^-22 [kg*m/s]"
   ]
  },
  {
   "cell_type": "markdown",
   "metadata": {},
   "source": [
    "### 10mo punto"
   ]
  },
  {
   "cell_type": "markdown",
   "metadata": {},
   "source": [
    "**<div class=\"alert alert-danger\"> Demuestre que en el intervalo 0 ≤ θ ≤ 2π, las funciones $\\large e^{inθ}$, donde n=0, ±1, ±2, ..., forman un conjunto de funciones ortogonales. Halle la constante de normalización para este conjunto de funciones.**"
   ]
  },
  {
   "cell_type": "code",
   "execution_count": 48,
   "metadata": {},
   "outputs": [
    {
     "data": {
      "text/latex": [
       "$\\displaystyle \\left( \\int\\limits_{0}^{2 \\pi} e^{1.0 i n x} e^{- 1.0 i n_{1} x}\\, dx, \\  \\begin{cases} - \\frac{1.0 i e^{2.0 i \\pi n}}{1.0 n e^{2.0 i \\pi n_{1}} - 1.0 n_{1} e^{2.0 i \\pi n_{1}}} + \\frac{1.0 i}{1.0 n - 1.0 n_{1}} & \\text{for}\\: n \\neq n_{1} \\\\2 \\pi & \\text{otherwise} \\end{cases}\\right)$"
      ],
      "text/plain": [
       "⎛2⋅π                             ⎧                    2.0⋅ⅈ⋅π⋅n               \n",
       "⎜ ⌠                              ⎪             1.0⋅ⅈ⋅ℯ                        \n",
       "⎜ ⎮   1.0⋅ⅈ⋅n⋅x  -1.0⋅ⅈ⋅n₁⋅x     ⎪- ────────────────────────────────────── + ─\n",
       "⎜ ⎮  ℯ         ⋅ℯ            dx, ⎨         2.0⋅ⅈ⋅π⋅n₁           2.0⋅ⅈ⋅π⋅n₁   1\n",
       "⎜ ⌡                              ⎪  1.0⋅n⋅ℯ           - 1.0⋅n₁⋅ℯ              \n",
       "⎜ 0                              ⎪                                            \n",
       "⎝                                ⎩                           2⋅π              \n",
       "\n",
       "                         ⎞\n",
       "   1.0⋅ⅈ                 ⎟\n",
       "─────────────  for n ≠ n₁⎟\n",
       ".0⋅n - 1.0⋅n₁            ⎟\n",
       "                         ⎟\n",
       "                         ⎟\n",
       "               otherwise ⎠"
      ]
     },
     "execution_count": 48,
     "metadata": {},
     "output_type": "execute_result"
    }
   ],
   "source": [
    "x, n, n1=sp.symbols (\"x n n1\")\n",
    "z=1j\n",
    "P1=sp.exp(n*z*x)\n",
    "P2=sp.exp(n1*z*x)\n",
    "P2C=sp.exp(-n1*z*x)\n",
    "fn=sp.Integral(P1*P2C, (x, 0, 2*sp.pi))\n",
    "fn, fn.doit()"
   ]
  },
  {
   "cell_type": "code",
   "execution_count": null,
   "metadata": {},
   "outputs": [],
   "source": []
  }
 ],
 "metadata": {
  "kernelspec": {
   "display_name": "Python 3",
   "language": "python",
   "name": "python3"
  },
  "language_info": {
   "codemirror_mode": {
    "name": "ipython",
    "version": 3
   },
   "file_extension": ".py",
   "mimetype": "text/x-python",
   "name": "python",
   "nbconvert_exporter": "python",
   "pygments_lexer": "ipython3",
   "version": "3.8.3"
  }
 },
 "nbformat": 4,
 "nbformat_minor": 4
}

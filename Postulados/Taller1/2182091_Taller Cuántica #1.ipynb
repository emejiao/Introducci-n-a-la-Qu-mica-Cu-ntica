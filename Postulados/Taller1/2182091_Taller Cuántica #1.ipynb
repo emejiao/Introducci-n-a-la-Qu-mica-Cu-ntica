{
 "cells": [
  {
   "cell_type": "code",
   "execution_count": 1,
   "metadata": {
    "id": "AANr6QDH5Dk3"
   },
   "outputs": [],
   "source": [
    "from IPython.display import HTML"
   ]
  },
  {
   "cell_type": "markdown",
   "metadata": {
    "id": "HyL9vQYr5Dk6"
   },
   "source": [
    "<div class=\"alert alert-success\" role=\"alert\">\n",
    "  <h2 class=\"alert-heading\">Introducción a la Química Cuántica: Taller 1-Postulados de la Mecánica Cuántica</h2>\n",
    "  <h3 class=\"alert-heading\">Prof. Enrique Mejía Ospino, emejia@uis.edu.co</h3>\n",
    "  <h3 class=\"alert-heading\">Escuela de Química</h3>\n",
    "  <h3 class=\"alert-heading\">Universidad Industrial de Santander</h3>\n",
    "  <p>\n",
    "  </div>"
   ]
  },
  {
   "cell_type": "markdown",
   "metadata": {},
   "source": [
    "## <font color=red> NOTA: 4.0"
   ]
  },
  {
   "cell_type": "markdown",
   "metadata": {
    "id": "-dSXtYHw5Dk6"
   },
   "source": [
    "### <div class=\"alert alert-info\"><font color='blue'> <h2 class=\"alert-heading\">Preguntas</h2>"
   ]
  },
  {
   "cell_type": "markdown",
   "metadata": {
    "id": "C_97Rk6U5Dk7"
   },
   "source": [
    "**<div class=\"alert alert-warning\">1. Determinar cuáles de las siguientes funciones son aceptables como funciones de onda, definidas en los intervalos indicados.**\n",
    "**<div class=\"alert alert-warning\">a) $\\large \\frac{1}{x} [0,\\infty)$**\n",
    "**<div class=\"alert alert-warning\">b) $\\large e^{-|x|} (-\\infty, +\\infty)$**\n",
    "**<div class=\"alert alert-warning\">c) $\\large sen(x) [-4π, 4π]$**\n",
    "**<div class=\"alert alert-warning\">d) $\\large e^{-x} [0, \\infty)$**\n",
    "**<div class=\"alert alert-warning\">e) $\\large e^{-x}sen(x) [0, \\infty)$**\n",
    "\n",
    "**<div class=\"alert alert-info\">2. De las siguientes funciones, normalice aquellas en que la normalización sea posible:**\n",
    "**<div class=\"alert alert-info\">a) $\\large e^{-x} [0, \\infty)$**\n",
    "**<div class=\"alert alert-info\">b) $\\large e^{i\\theta} [0, 2\\pi]$**\n",
    "**<div class=\"alert alert-info\">c) $\\large xe^{-x} [0, \\infty)$**\n",
    "\n",
    "\n",
    "**<div class=\"alert alert-warning\">3. La función de onda para una partícula en un sistema monodimensional definido entre $\\large x = 0$ y $\\large x = \\infty$, a $\\large t=0$ es $\\large \\Psi = \\sqrt{\\frac{2}{a}}e^{\\frac{-x}{a}}$ donde $\\large a$ es 1.0 nm. A $\\large t=0$ se mide la posición de la partícula.\n",
    "a) Calcular la probabilidad de que la partícula se encuentre entre $\\large x=1.5000 nm$ y $\\large x=1.5001\n",
    "nm$. b) Calcular la probabilidad de que la partícula se encuentre entre $\\large x=0$ y $\\large x=2 nm$. c)\n",
    "Verifique que la función de onda está normalizada.**\n",
    "\n",
    "**<div class=\"alert alert-warning\">4. Indique cuál de los siguientes operadores es lineal:**\n",
    "**<div class=\"alert alert-warning\">a) $\\large \\hat{A}f(x)=\\frac{df(x)}{dx}$ (derivada de $\\large f(x)$)**\n",
    "**<div class=\"alert alert-warning\">b) $\\large \\hat{A}f(x)=f^*(x)$ (forma la compleja conjugada de $\\large f(x)$)**\n",
    "**<div class=\"alert alert-warning\">c) $\\large \\hat{A}f(x)=ln f(x)$ (toma el logaritmo de $\\large f(x)$)**\n",
    "**<div class=\"alert alert-warning\">d) $\\large \\hat{A}f(x)= \\int f(x)dx$ (f (integral de $\\large f(x)$)**\n",
    "    \n",
    "**<div class=\"alert alert-success\">5. a) Cuál de las siguientes funciones es autofunción del operador $\\large d/dx$:** \n",
    "**<div class=\"alert alert-success\">a) $\\large e^{ikx}$ ; b) $\\large cos(kx)$ ; c) $\\large k$, d) $\\large kx$ ; e) $\\large e^{−ax^{2}}$. ¿Cuáles son sus autovalores? b) Determine cuáles de las funciones anteriores es también autofunción del operador $\\large \\frac{d^2}{dx^2}$ y dé los autovalores correspondientes.**\n",
    "    \n",
    "**<div class=\"alert alert-success\">6. Halle los conmutadores siguientes:**\n",
    "**<div class=\"alert alert-success\">a) $\\large [\\hat{x}^2,\\frac{d^2}{dx^2}]$**\n",
    "**<div class=\"alert alert-success\">b) $\\large [\\hat{x},\\hat{p}_x]$**\n",
    "**<div class=\"alert alert-success\">c) $\\large [\\hat{p}_x,\\hat{H}_x]$**\n",
    "    \n",
    "**<div class=\"alert alert-danger\">7. Calcule $\\large [\\hat{x}^2,\\frac{d^2}{dx^2}](e^{x^2}+cos(2x))$:**\n",
    "\n",
    "**<div class=\"alert alert-danger\">8. Deduzca si cada una de las expresiones siguientes es un operador o una función.**\n",
    "**<div class=\"alert alert-danger\">a) $\\large \\hat{A}\\hat{B}g(x)$ ; b) $\\large \\hat{A}\\hat{B}+\\hat{B}\\hat{A}$ ; c) $\\large \\hat{B^2}f(x)$, d) $\\large f(x)^*\\hat{A}f(x)$**\n",
    "    \n",
    "**<div class=\"alert alert-danger\">9. Si la posición de un electrón se mide con una precisión de ±0.001 Å ¿Cuál será la máxima precisión para el momento?**\n",
    "\n",
    "**<div class=\"alert alert-danger\">10. Demuestre que en el intervalo 0 ≤ θ ≤ 2π, las funciones $\\large e^{inθ}$, donde n=0, ±1, ±2, ..., forman un conjunto de funciones ortogonales. Halle la constante de normalización para este conjunto de funciones.**"
   ]
  },
  {
   "cell_type": "code",
   "execution_count": 2,
   "metadata": {
    "executionInfo": {
     "elapsed": 3368,
     "status": "ok",
     "timestamp": 1606669760146,
     "user": {
      "displayName": "Yenny Velandia",
      "photoUrl": "https://lh3.googleusercontent.com/a-/AOh14GiJIA0AkPnU2mQac-S8Piph1CFmfay0Wnz1Z0XFxX8=s64",
      "userId": "00840882074132216599"
     },
     "user_tz": 300
    },
    "id": "nJsOgqtu5Dk7"
   },
   "outputs": [],
   "source": [
    "import numpy as np\n",
    "import pylab as pl\n",
    "import sympy as sp\n",
    "from sympy import sin\n",
    "from scipy import interpolate, signal\n",
    "import matplotlib.font_manager as fm\n",
    "import matplotlib as mpl\n",
    "import matplotlib.pylab as plt\n",
    "import matplotlib.pyplot as plt\n",
    "from sympy import *\n",
    "init_printing(use_unicode=True)\n",
    "import math"
   ]
  },
  {
   "cell_type": "markdown",
   "metadata": {},
   "source": [
    "**INTEGRANTES**\n",
    "---\n",
    "*Zaireth Lizeth García Rodríguez - 2182089*\n",
    "--\n",
    "*Yenny fernanda velandia hernandez - 2180095*\n",
    "--\n",
    "*Christian Camilo Quijano Carrillo - 2182091*\n",
    "--"
   ]
  },
  {
   "cell_type": "markdown",
   "metadata": {
    "id": "Dk-DeXq15Dk7"
   },
   "source": [
    "## <font color='red'>*SOLUCIÓN*  "
   ]
  },
  {
   "cell_type": "markdown",
   "metadata": {
    "id": "WAqSmYCY5Dk7"
   },
   "source": [
    "### <font color='purple'>PRIMER PUNTO. PUNTO A"
   ]
  },
  {
   "cell_type": "code",
   "execution_count": 3,
   "metadata": {
    "id": "N087Hp_U5Dk7",
    "outputId": "14d78159-d940-40f3-f4b8-1e70833627ee"
   },
   "outputs": [
    {
     "data": {
      "text/plain": [
       "Text(0.5, 1.0, '$f(x)=1/x$')"
      ]
     },
     "execution_count": 3,
     "metadata": {},
     "output_type": "execute_result"
    },
    {
     "data": {
      "image/png": "[encoded data removed]",
      "text/plain": [
       "<Figure size 432x288 with 1 Axes>"
      ]
     },
     "metadata": {
      "needs_background": "light"
     },
     "output_type": "display_data"
    }
   ],
   "source": [
    "x= np.arange(0.1, 2.0, 0.01)\n",
    "f= 1/x\n",
    "plt.plot(x, f, 'r', linewidth=2)\n",
    "plt.title('$f(x)=1/x$')"
   ]
  },
  {
   "cell_type": "markdown",
   "metadata": {
    "id": "e7ZnZSUB5Dk7"
   },
   "source": [
    "$La\\ funcion\\ es\\ univaluada\\ por\\ lo\\ tanto\\ cumple\\ con\\ el\\ primer\\ requisito\\ del\\ postulado\\ numero\\ uno\\ para\\ que\\ sea\\ funcion\\ de\\ onda$"
   ]
  },
  {
   "cell_type": "code",
   "execution_count": 5,
   "metadata": {
    "id": "iim_u2ih5Dk7",
    "outputId": "e4ff084b-d068-4344-c8ee-495678fe9886"
   },
   "outputs": [
    {
     "data": {
      "image/png": "[encoded data removed]",
      "text/latex": [
       "$\\displaystyle \\left( \\frac{d}{d x} \\frac{1}{x}, \\  - \\frac{1}{x^{2}}, \\  \\frac{d^{2}}{d x^{2}} \\frac{1}{x}, \\  \\frac{2}{x^{3}}, \\  \\int\\limits_{0}^{\\infty} \\frac{1}{x^{2}}\\, dx, \\  \\infty\\right)$"
      ],
      "text/plain": [
       "⎛                        ∞         ⎞\n",
       "⎜              2         ⌠         ⎟\n",
       "⎜d ⎛1⎞  -1    d ⎛1⎞  2   ⎮ 1       ⎟\n",
       "⎜──⎜─⎟, ───, ───⎜─⎟, ──, ⎮ ── dx, ∞⎟\n",
       "⎜dx⎝x⎠    2    2⎝x⎠   3  ⎮  2      ⎟\n",
       "⎜        x   dx      x   ⎮ x       ⎟\n",
       "⎜                        ⌡         ⎟\n",
       "⎝                        0         ⎠"
      ]
     },
     "execution_count": 5,
     "metadata": {},
     "output_type": "execute_result"
    }
   ],
   "source": [
    "x=sp.Symbol('x')\n",
    "f=(1/x)\n",
    "Df=sp.Derivative(f,x)\n",
    "Df2=sp.Derivative(f, x, 2)\n",
    "If=sp.Integral(f**2, (x, 0, sp.oo))\n",
    "Df, Df.doit(), Df2, Df2.doit(), If, If.doit()"
   ]
  },
  {
   "cell_type": "markdown",
   "metadata": {
    "id": "L8vztRV15Dk8"
   },
   "source": [
    "$La\\ primera\\ operacion\\ corresponde\\ a\\ la\\ primera\\ derivada\\ por\\ lo\\ cual\\ la\\ funcion\\ es\\ continua\\ por\\ lo\\ tanto\\ cumple\\ con\\ el\\ segundo\\ requisito\\ del\\ postulado\\ numero\\ uno$\n",
    "$La\\ segunda\\ operacion\\ corresponde\\ a\\ la\\ segunda\\ derivada\\ por\\ lo\\ cual\\ la\\ funcion\\ tiene\\ derivadas\\ continuas\\ por\\ lo\\ tanto\\ cumple\\ con\\ el\\ tercer\\ requisito\\ del\\ postulado\\ numero\\ uno$\n",
    "$La\\ tercera\\ operacion\\ corresponde\\ a\\ la\\ integral\\ por\\ lo\\ cual\\ la\\ funcion\\ de\\ onda\\ no\\ es\\ cuadrado\\ integrable\\ por\\ lo\\ tanto\\ no\\ cumple\\ con\\ el\\ cuarto\\ requisito\\ del\\ postulado\\ numero\\ uno$"
   ]
  },
  {
   "cell_type": "markdown",
   "metadata": {
    "id": "F_GniWpD5Dk8"
   },
   "source": [
    "## CONCLUSIÓN: \n",
    "$La\\ funcion\\ 1/x\\ no\\ es\\ una\\ funcion\\ de\\ onda\\ ya\\ que\\ no\\ cumple\\ con\\ todos\\ los\\ requisitos$\n",
    "\n",
    "**<font color=red> No es una función de onda bien comportada o aceptable** "
   ]
  },
  {
   "cell_type": "markdown",
   "metadata": {
    "id": "hMDb-RC_5Dk8"
   },
   "source": [
    "### <font color='purple'>PRIMER PUNTO. PUNTO B \n",
    "    "
   ]
  },
  {
   "cell_type": "code",
   "execution_count": 6,
   "metadata": {
    "id": "BPOqkSm95Dk8",
    "outputId": "e39e43a6-904d-4779-ad8d-14588a29faf5"
   },
   "outputs": [
    {
     "data": {
      "text/plain": [
       "Text(0.5, 0, 'x')"
      ]
     },
     "execution_count": 6,
     "metadata": {},
     "output_type": "execute_result"
    },
    {
     "data": {
      "image/png": "[encoded data removed]",
      "text/plain": [
       "<Figure size 432x288 with 1 Axes>"
      ]
     },
     "metadata": {
      "needs_background": "light"
     },
     "output_type": "display_data"
    }
   ],
   "source": [
    "x= np.arange(-2.0, 2.0, 0.01)\n",
    "f= math.e**(-abs(x))\n",
    "plt.plot(x,math.e**(-abs(x)), 'r')\n",
    "plt.xlabel('x')"
   ]
  },
  {
   "cell_type": "markdown",
   "metadata": {
    "id": "zY89wlBv5Dk8"
   },
   "source": [
    "$La\\ funcion\\ es\\ univaluada\\ por\\ lo\\ tanto\\ cumple\\ con\\ el\\ primer\\ requisito\\ del\\ postulado\\ numero\\ uno\\ para\\ que\\ sea\\ funcion\\ de\\ onda$"
   ]
  },
  {
   "cell_type": "code",
   "execution_count": 7,
   "metadata": {
    "colab": {
     "base_uri": "https://localhost:8080/",
     "height": 47
    },
    "executionInfo": {
     "elapsed": 1141,
     "status": "ok",
     "timestamp": 1606617984973,
     "user": {
      "displayName": "Yenny Velandia",
      "photoUrl": "https://lh3.googleusercontent.com/a-/AOh14GiJIA0AkPnU2mQac-S8Piph1CFmfay0Wnz1Z0XFxX8=s64",
      "userId": "00840882074132216599"
     },
     "user_tz": 300
    },
    "id": "hmCUSqxn5Dk8",
    "outputId": "1373500a-6f75-46f4-c14b-9938b8652c58"
   },
   "outputs": [
    {
     "data": {
      "image/png": "[encoded data removed]",
      "text/latex": [
       "$\\displaystyle \\left( \\frac{d}{d x} e^{- \\left|{x}\\right|}, \\  - \\frac{\\left(\\operatorname{re}{\\left(x\\right)} \\frac{d}{d x} \\operatorname{re}{\\left(x\\right)} + \\operatorname{im}{\\left(x\\right)} \\frac{d}{d x} \\operatorname{im}{\\left(x\\right)}\\right) e^{- \\left|{x}\\right|} \\operatorname{sign}{\\left(x \\right)}}{x}\\right)$"
      ],
      "text/plain": [
       "⎛            ⎛      d                 d        ⎞  -│x│         ⎞\n",
       "⎜           -⎜re(x)⋅──(re(x)) + im(x)⋅──(im(x))⎟⋅ℯ    ⋅sign(x) ⎟\n",
       "⎜d ⎛ -│x│⎞   ⎝      dx                dx       ⎠               ⎟\n",
       "⎜──⎝ℯ    ⎠, ───────────────────────────────────────────────────⎟\n",
       "⎝dx                                  x                         ⎠"
      ]
     },
     "execution_count": 7,
     "metadata": {},
     "output_type": "execute_result"
    }
   ],
   "source": [
    "x=sp.Symbol('x')\n",
    "f=sp.exp(-abs(x))\n",
    "Df=sp.Derivative(f, x)\n",
    "Df, Df.doit()"
   ]
  },
  {
   "cell_type": "markdown",
   "metadata": {
    "id": "RnpnGYp-5Dk9"
   },
   "source": [
    "$La\\ funcion\\ no\\ es\\ continua\\ por\\ lo\\ tanto\\ no\\ cumple\\ con\\ el\\ segundo\\ requisito\\ del\\ postulado\\ numero\\ uno\\ para\\ que\\ sea\\ funcion\\ de\\ onda$"
   ]
  },
  {
   "cell_type": "markdown",
   "metadata": {
    "id": "YQnamIjD5Dk9"
   },
   "source": [
    "## CONCLUSIÓN: \n",
    "$la\\ funcion\\ e^{-|x|}\\ no\\ es\\ una\\ funcion\\ de\\ onda\\ ya\\ que\\ no\\ cumple\\ con\\ todos\\ los\\ requisitos$ \n",
    "\n",
    "**<font color=red> No es una función de onda bien comportada o aceptable** "
   ]
  },
  {
   "cell_type": "markdown",
   "metadata": {
    "id": "45H2fcr_5Dk9"
   },
   "source": [
    "### <font color='purple'>PRIMER PUNTO. PUNTO C "
   ]
  },
  {
   "cell_type": "code",
   "execution_count": 6,
   "metadata": {
    "id": "01rZrNG_5Dk9",
    "outputId": "58f6f4f1-32dd-48b7-e39f-2eacf8cc6619"
   },
   "outputs": [
    {
     "data": {
      "image/png": "[encoded data removed]",
      "text/plain": [
       "<Figure size 432x288 with 1 Axes>"
      ]
     },
     "metadata": {
      "needs_background": "light"
     },
     "output_type": "display_data"
    }
   ],
   "source": [
    "x= np.arange(-4*math.pi, 4*math.pi , 0.1)\n",
    "f= np.sin(x)\n",
    "plt.plot(x, f, 'r', linewidth=2)\n",
    "plt.title('$f(x)=sen(x)$')\n",
    "plt.show()"
   ]
  },
  {
   "cell_type": "markdown",
   "metadata": {
    "id": "HQDS9XLw5Dk-"
   },
   "source": [
    "$La\\ funcion\\ es\\ univaluada\\ por\\ lo\\ tanto\\ cumple\\ con\\ el\\ primer\\ requisito\\ del\\ postulado\\ numero\\ uno\\ para\\ que\\ sea\\ funcion\\ de\\ onda$"
   ]
  },
  {
   "cell_type": "code",
   "execution_count": 7,
   "metadata": {
    "id": "AkcK_xw25Dk-",
    "jupyter": {
     "source_hidden": true
    },
    "outputId": "0a52a162-7546-4776-c29c-712c6737079b"
   },
   "outputs": [
    {
     "data": {
      "image/png": "[encoded data removed]",
      "text/latex": [
       "$\\displaystyle \\left( \\frac{d}{d x} \\sin{\\left(x \\right)}, \\  \\cos{\\left(x \\right)}, \\  \\frac{d^{2}}{d x^{2}} \\sin{\\left(x \\right)}, \\  - \\sin{\\left(x \\right)}, \\  \\int\\limits_{- 4 \\pi}^{4 \\pi} \\sin^{2}{\\left(x \\right)}\\, dx, \\  4 \\pi\\right)$"
      ],
      "text/plain": [
       "⎛                                          4⋅π                 ⎞\n",
       "⎜                      2                    ⌠                  ⎟\n",
       "⎜d                    d                     ⎮      2           ⎟\n",
       "⎜──(sin(x)), cos(x), ───(sin(x)), -sin(x),  ⎮   sin (x) dx, 4⋅π⎟\n",
       "⎜dx                    2                    ⌡                  ⎟\n",
       "⎝                    dx                    -4⋅π                ⎠"
      ]
     },
     "execution_count": 7,
     "metadata": {},
     "output_type": "execute_result"
    }
   ],
   "source": [
    "x=sp.Symbol('x')\n",
    "f=sin(x)\n",
    "Df=sp.Derivative(f, x)\n",
    "Df2=sp.Derivative(f, x, 2)\n",
    "If=sp.Integral(f**2, (x, -4*pi, 4*pi))\n",
    "Df, Df.doit(), Df2, Df2.doit(), If, If.doit()"
   ]
  },
  {
   "cell_type": "markdown",
   "metadata": {
    "id": "hRx7F2t-5Dk-"
   },
   "source": [
    "$La\\ primera\\ operacion\\ corresponde\\ a\\ la\\ primera\\ derivada\\ por\\ lo\\ cual\\ la\\ funcion\\ es\\ continua\\ por\\ lo\\ tanto\\ cumple\\ con\\ el\\ segundo\\ requisito\\ del\\ postulado\\ numero\\ uno$\n",
    "$La\\ segunda\\ operacion\\ corresponde\\ a\\ la\\ segunda\\ derivada\\ por\\ lo\\ cual\\ la\\ funcion\\ tiene\\ derivadas\\ continuas\\ por\\ lo\\ tanto\\ cumple\\ con\\ el\\ tercer\\ requisito\\ del\\ postulado\\ numero\\ uno$\n",
    "$La\\ tercera\\ operacion\\ corresponde\\ a\\ la\\ integral\\ por\\ lo\\ cual\\ la\\ funcion\\ de\\ onda\\ no\\ es\\ cuadrado\\ integrable\\ por\\ lo\\ tanto\\ no\\ cumple\\ con\\ el\\ cuarto\\ requisito\\ del\\ postulado\\ numero\\ uno$"
   ]
  },
  {
   "cell_type": "markdown",
   "metadata": {
    "id": "p6gEgDIB5Dk-"
   },
   "source": [
    "## CONCLUSIÓN: \n",
    "$la\\ funcion\\ sen(x)\\ es\\ una\\ funcion\\ de\\ onda\\ en\\ el\\ intervalo\\ escogido\\ ya\\ que\\ cumple\\ con\\ todos\\ los\\ requisitos$ \n",
    "\n",
    "**<font color=red> Es una función de onda bien comportada o aceptable** "
   ]
  },
  {
   "cell_type": "markdown",
   "metadata": {
    "id": "8RO4rDLI5Dk-"
   },
   "source": [
    "### <font color='purple'>PRIMER PUNTO. PUNTO D "
   ]
  },
  {
   "cell_type": "code",
   "execution_count": 8,
   "metadata": {
    "id": "AGJ5UEXQ5Dk-",
    "jupyter": {
     "source_hidden": true
    },
    "outputId": "805b04b5-9526-4ab4-fd43-205ffcff33bd"
   },
   "outputs": [
    {
     "data": {
      "text/plain": [
       "Text(0.5, 1.0, '$f(x)= e^{-x}$')"
      ]
     },
     "execution_count": 8,
     "metadata": {},
     "output_type": "execute_result"
    },
    {
     "data": {
      "image/png": "[encoded data removed]",
      "text/plain": [
       "<Figure size 432x288 with 1 Axes>"
      ]
     },
     "metadata": {
      "needs_background": "light"
     },
     "output_type": "display_data"
    }
   ],
   "source": [
    "x=np.arange(0, 10, 0.01)\n",
    "f=math.e**(-x)\n",
    "plt.plot(x, f, 'r', linewidth=2)\n",
    "plt.title('$f(x)= e^{-x}$')"
   ]
  },
  {
   "cell_type": "markdown",
   "metadata": {
    "id": "s4jQJqJG5Dk-"
   },
   "source": [
    "$La\\ funcion\\ es\\ univaluada\\ por\\ lo\\ tanto\\ cumple\\ con\\ el\\ primer\\ requisito\\ del\\ postulado\\ numero\\ uno\\ para\\ que\\ sea\\ funcion\\ de\\ onda$"
   ]
  },
  {
   "cell_type": "code",
   "execution_count": 9,
   "metadata": {
    "id": "iti5zU8g5Dk-",
    "jupyter": {
     "source_hidden": true
    },
    "outputId": "54042470-2cdb-4138-84a6-245baec25fa1"
   },
   "outputs": [
    {
     "data": {
      "image/png": "[encoded data removed]",
      "text/latex": [
       "$\\displaystyle \\left( \\frac{d}{d x} e^{- x}, \\  - e^{- x}, \\  \\frac{d^{2}}{d x^{2}} e^{- x}, \\  e^{- x}, \\  \\int\\limits_{0}^{\\infty} e^{- 2 x}\\, dx, \\  \\frac{1}{2}\\right)$"
      ],
      "text/plain": [
       "⎛                              ∞              ⎞\n",
       "⎜                 2            ⌠              ⎟\n",
       "⎜d ⎛ -x⎞    -x   d ⎛ -x⎞   -x  ⎮  -2⋅x        ⎟\n",
       "⎜──⎝ℯ  ⎠, -ℯ  , ───⎝ℯ  ⎠, ℯ  , ⎮ ℯ     dx, 1/2⎟\n",
       "⎜dx               2            ⌡              ⎟\n",
       "⎝               dx             0              ⎠"
      ]
     },
     "execution_count": 9,
     "metadata": {},
     "output_type": "execute_result"
    }
   ],
   "source": [
    "x=sp.Symbol('x')\n",
    "f=sp.exp(-x)\n",
    "Df=sp.Derivative(f, x)\n",
    "Df2=sp.Derivative(f, x, 2)\n",
    "If=sp.Integral(f**2, (x, 0, sp.oo))\n",
    "Df, Df.doit(), Df2, Df2.doit(), If, If.doit()"
   ]
  },
  {
   "cell_type": "markdown",
   "metadata": {
    "id": "7o47b9nY5Dk_"
   },
   "source": [
    "$La\\ primera\\ operacion\\ corresponde\\ a\\ la\\ primera\\ derivada\\ por\\ lo\\ cual\\ la\\ funcion\\ es\\ continua\\ por\\ lo\\ tanto\\ cumple\\ con\\ el\\ segundo\\ requisito\\ del\\ postulado\\ numero\\ uno$\n",
    "$La\\ segunda\\ operacion\\ corresponde\\ a\\ la\\ segunda\\ derivada\\ por\\ lo\\ cual\\ la\\ funcion\\ tiene\\ derivadas\\ continuas\\ por\\ lo\\ tanto\\ cumple\\ con\\ el\\ tercer\\ requisito\\ del\\ postulado\\ numero\\ uno$\n",
    "$La\\ tercera\\ operacion\\ corresponde\\ a\\ la\\ integral\\ por\\ lo\\ cual\\ la\\ funcion\\ de\\ onda\\ no\\ es\\ cuadrado\\ integrable\\ por\\ lo\\ tanto\\ no\\ cumple\\ con\\ el\\ cuarto\\ requisito\\ del\\ postulado\\ numero\\ uno$"
   ]
  },
  {
   "cell_type": "markdown",
   "metadata": {
    "id": "xbvuFd6d5Dk_"
   },
   "source": [
    "## CONCLUSIÓN: \n",
    "$la\\ funcion\\ e^{-x}\\ es\\ una\\ funcion\\ de\\ onda\\ en\\ el\\ intervalo\\ escogido\\ ya\\ que\\ cumple\\ con\\ todos\\ los\\ requisitos$ \n",
    "\n",
    "**<font color=red> Es una función de onda bien comportada o aceptable** "
   ]
  },
  {
   "cell_type": "markdown",
   "metadata": {
    "id": "X0kfbGlL5Dk_"
   },
   "source": [
    "### <font color='purple'>PRIMER PUNTO. PUNTO E "
   ]
  },
  {
   "cell_type": "code",
   "execution_count": 8,
   "metadata": {
    "id": "iPrV4gjM5Dk_",
    "outputId": "c5f763e0-d6ae-47c6-f603-9ec64ea1d881"
   },
   "outputs": [
    {
     "data": {
      "text/plain": [
       "Text(0.5, 1.0, '$f(x)= e^{-x}sen(x)$')"
      ]
     },
     "execution_count": 8,
     "metadata": {},
     "output_type": "execute_result"
    },
    {
     "data": {
      "image/png": "[encoded data removed]",
      "text/plain": [
       "<Figure size 432x288 with 1 Axes>"
      ]
     },
     "metadata": {
      "needs_background": "light"
     },
     "output_type": "display_data"
    }
   ],
   "source": [
    "x=np.arange(0, 10, 0.01)\n",
    "f=math.e**(-x)*np.sin(x)\n",
    "plt.plot(x, f, 'r', linewidth=2)\n",
    "plt.title('$f(x)= e^{-x}sen(x)$')"
   ]
  },
  {
   "cell_type": "code",
   "execution_count": 9,
   "metadata": {
    "id": "mJwAHOAv5Dk_",
    "outputId": "33d6c5a0-2cf4-4055-da17-73c1d77b7de0"
   },
   "outputs": [
    {
     "data": {
      "image/png": "[encoded data removed]",
      "text/latex": [
       "$\\displaystyle \\left( \\frac{d}{d x} e^{- x} \\sin{\\left(x \\right)}, \\  - e^{- x} \\sin{\\left(x \\right)} + e^{- x} \\cos{\\left(x \\right)}, \\  \\frac{d^{2}}{d x^{2}} \\frac{1}{x}, \\  \\frac{2}{x^{3}}, \\  \\int\\limits_{0}^{\\infty} e^{- 2 x} \\sin^{2}{\\left(x \\right)}\\, dx, \\  \\frac{1}{8}\\right)$"
      ],
      "text/plain": [
       "⎛                                                       ∞                     \n",
       "⎜                                             2         ⌠                     \n",
       "⎜d ⎛ -x       ⎞     -x           -x          d ⎛1⎞  2   ⎮  -2⋅x    2          \n",
       "⎜──⎝ℯ  ⋅sin(x)⎠, - ℯ  ⋅sin(x) + ℯ  ⋅cos(x), ───⎜─⎟, ──, ⎮ ℯ    ⋅sin (x) dx, 1/\n",
       "⎜dx                                           2⎝x⎠   3  ⌡                     \n",
       "⎝                                           dx      x   0                     \n",
       "\n",
       " ⎞\n",
       " ⎟\n",
       " ⎟\n",
       "8⎟\n",
       " ⎟\n",
       " ⎠"
      ]
     },
     "execution_count": 9,
     "metadata": {},
     "output_type": "execute_result"
    }
   ],
   "source": [
    "x=sp.Symbol('x')\n",
    "f=sp.exp(-x)*sp.sin(x)\n",
    "Df=sp.Derivative(f,x)\n",
    "D2f=sp.Derivative(f,x, 2)\n",
    "If=sp.Integral(f**2, (x, 0, sp.oo))\n",
    "Df, Df.doit(), Df2, Df2.doit(), If, If.doit()"
   ]
  },
  {
   "cell_type": "markdown",
   "metadata": {
    "id": "Byj3bclk5Dk_"
   },
   "source": [
    "$La\\ primera\\ operacion\\ corresponde\\ a\\ la\\ primera\\ derivada\\ por\\ lo\\ cual\\ la\\ funcion\\ es\\ continua\\ por\\ lo\\ tanto\\ cumple\\ con\\ el\\ segundo\\ requisito\\ del\\ postulado\\ numero\\ uno$\n",
    "$La\\ segunda\\ operacion\\ corresponde\\ a\\ la\\ segunda\\ derivada\\ por\\ lo\\ cual\\ la\\ funcion\\ tiene\\ derivadas\\ continuas\\ por\\ lo\\ tanto\\ cumple\\ con\\ el\\ tercer\\ requisito\\ del\\ postulado\\ numero\\ uno$\n",
    "$La\\ tercera\\ operacion\\ corresponde\\ a\\ la\\ integral\\ por\\ lo\\ cual\\ la\\ funcion\\ de\\ onda\\ no\\ es\\ cuadrado\\ integrable\\ por\\ lo\\ tanto\\ no\\ cumple\\ con\\ el\\ cuarto\\ requisito\\ del\\ postulado\\ numero\\ uno$"
   ]
  },
  {
   "cell_type": "markdown",
   "metadata": {
    "id": "s8o7dv8n5Dk_"
   },
   "source": [
    "## CONCLUSIÓN: \n",
    "$la\\ funcion\\ e^{-x}sen(x)\\ es\\ una\\ funcion\\ de\\ onda\\ en\\ el\\ intervalo\\ escogido\\ ya\\ que\\ cumple\\ con\\ todos\\ los\\ requisitos$ "
   ]
  },
  {
   "cell_type": "markdown",
   "metadata": {
    "id": "PAivCkn65DlA"
   },
   "source": [
    "### <font color='purple'>SEGUNDO PUNTO. PUNTO A \n",
    "$\\large e^{-X} [0, \\infty]$"
   ]
  },
  {
   "cell_type": "markdown",
   "metadata": {
    "id": "qDVN_Bjf5DlA"
   },
   "source": [
    "$primero\\ miramos\\ si\\ es\\ cuadrado\\ integrable.$\n",
    "$Lo\\ cual\\ vemos\\ que\\ cumple\\ y\\ se\\ procede\\ a\\ hallar\\ la\\ constante\\ de\\ normalización$\n"
   ]
  },
  {
   "cell_type": "code",
   "execution_count": 10,
   "metadata": {
    "colab": {
     "base_uri": "https://localhost:8080/",
     "height": 38
    },
    "executionInfo": {
     "elapsed": 830,
     "status": "ok",
     "timestamp": 1606624941255,
     "user": {
      "displayName": "Yenny Velandia",
      "photoUrl": "https://lh3.googleusercontent.com/a-/AOh14GiJIA0AkPnU2mQac-S8Piph1CFmfay0Wnz1Z0XFxX8=s64",
      "userId": "00840882074132216599"
     },
     "user_tz": 300
    },
    "id": "3wiYNVRd5DlA",
    "outputId": "92a1a1c6-67c5-42e7-c6ba-e85e40825976"
   },
   "outputs": [
    {
     "data": {
      "image/png": "[encoded data removed]",
      "text/latex": [
       "$\\displaystyle \\left( \\int\\limits_{0}^{\\infty} e^{- 2 x}\\, dx, \\  \\frac{1}{2}\\right)$"
      ],
      "text/plain": [
       "⎛∞              ⎞\n",
       "⎜⌠              ⎟\n",
       "⎜⎮  -2⋅x        ⎟\n",
       "⎜⎮ ℯ     dx, 1/2⎟\n",
       "⎜⌡              ⎟\n",
       "⎝0              ⎠"
      ]
     },
     "execution_count": 10,
     "metadata": {},
     "output_type": "execute_result"
    }
   ],
   "source": [
    "x=sp.Symbol('x')\n",
    "f=sp.exp(-x)\n",
    "If=sp.Integral(f**2, (x, 0, sp.oo))\n",
    "If, If.doit()"
   ]
  },
  {
   "cell_type": "markdown",
   "metadata": {
    "id": "f409sf5j5DlA"
   },
   "source": [
    "$$\\large A=\\frac{1}{\\sqrt{0.5}}$$"
   ]
  },
  {
   "cell_type": "code",
   "execution_count": 11,
   "metadata": {
    "colab": {
     "base_uri": "https://localhost:8080/",
     "height": 38
    },
    "executionInfo": {
     "elapsed": 1022,
     "status": "ok",
     "timestamp": 1606624999830,
     "user": {
      "displayName": "Yenny Velandia",
      "photoUrl": "https://lh3.googleusercontent.com/a-/AOh14GiJIA0AkPnU2mQac-S8Piph1CFmfay0Wnz1Z0XFxX8=s64",
      "userId": "00840882074132216599"
     },
     "user_tz": 300
    },
    "id": "O2Bl0kX15DlA",
    "outputId": "8f490423-2339-4f05-d23a-2106e318d7a3"
   },
   "outputs": [
    {
     "data": {
      "image/png": "[encoded data removed]",
      "text/latex": [
       "$\\displaystyle \\left( \\int\\limits_{0}^{\\infty} 2.0 e^{- 2 x}\\, dx, \\  1.0\\right)$"
      ],
      "text/plain": [
       "⎛∞                  ⎞\n",
       "⎜⌠                  ⎟\n",
       "⎜⎮      -2⋅x        ⎟\n",
       "⎜⎮ 2.0⋅ℯ     dx, 1.0⎟\n",
       "⎜⌡                  ⎟\n",
       "⎝0                  ⎠"
      ]
     },
     "execution_count": 11,
     "metadata": {},
     "output_type": "execute_result"
    }
   ],
   "source": [
    "A=1/((0.5)**0.5)\n",
    "f=sp.exp(-x)\n",
    "fn=A*f\n",
    "Ifn=sp.Integral(fn**2, (x, 0, sp.oo))\n",
    "Ifn, Ifn.doit()"
   ]
  },
  {
   "cell_type": "markdown",
   "metadata": {
    "id": "-X6VdEOO5DlA"
   },
   "source": [
    "$$\\large Funcion\\ normalizada=\\sqrt{2}e^{-x}$$"
   ]
  },
  {
   "cell_type": "markdown",
   "metadata": {
    "id": "L_Ia0WNv5DlA"
   },
   "source": [
    "### <font color='purple'>SEGUNDO PUNTO. PUNTO B \n",
    "$\\large e^{ix} [0, 2\\pi]$"
   ]
  },
  {
   "cell_type": "code",
   "execution_count": 12,
   "metadata": {
    "id": "xz3uMNvD5DlA",
    "outputId": "c434e22f-a55b-4942-b468-419d6f36cd96"
   },
   "outputs": [
    {
     "data": {
      "image/png": "[encoded data removed]",
      "text/latex": [
       "$\\displaystyle \\left( \\int\\limits_{0}^{\\infty} e^{- 2 x}\\, dx, \\  \\frac{1}{2}\\right)$"
      ],
      "text/plain": [
       "⎛∞              ⎞\n",
       "⎜⌠              ⎟\n",
       "⎜⎮  -2⋅x        ⎟\n",
       "⎜⎮ ℯ     dx, 1/2⎟\n",
       "⎜⌡              ⎟\n",
       "⎝0              ⎠"
      ]
     },
     "execution_count": 12,
     "metadata": {},
     "output_type": "execute_result"
    }
   ],
   "source": [
    "x=sp.Symbol('x')\n",
    "z=1j\n",
    "Ifn=sp.Integral(sp.exp(x*z)*sp.exp(x*-z), (x, 0, 2*sp.pi))\n",
    "If, If.doit()"
   ]
  },
  {
   "cell_type": "markdown",
   "metadata": {
    "id": "eTEWcgdY5DlB"
   },
   "source": [
    "$Como\\ es\\ cuadrado\\ integrable, se\\ procede\\ a\\ hallar\\ la\\ constante\\ de\\ normalizacion\\$\n"
   ]
  },
  {
   "cell_type": "markdown",
   "metadata": {
    "id": "mXiADSid5DlB"
   },
   "source": [
    "$$\\large A=\\frac{1}{\\sqrt{2\\pi}}$$"
   ]
  },
  {
   "cell_type": "code",
   "execution_count": 13,
   "metadata": {
    "colab": {
     "base_uri": "https://localhost:8080/",
     "height": 47
    },
    "executionInfo": {
     "elapsed": 1175,
     "status": "ok",
     "timestamp": 1606625226962,
     "user": {
      "displayName": "Yenny Velandia",
      "photoUrl": "https://lh3.googleusercontent.com/a-/AOh14GiJIA0AkPnU2mQac-S8Piph1CFmfay0Wnz1Z0XFxX8=s64",
      "userId": "00840882074132216599"
     },
     "user_tz": 300
    },
    "id": "CZ9apOVO5DlB",
    "outputId": "773212de-73e1-4929-e15b-6c1566f414a8"
   },
   "outputs": [
    {
     "data": {
      "image/png": "[encoded data removed]",
      "text/latex": [
       "$\\displaystyle \\left( \\int\\limits_{0}^{2 \\pi} \\frac{0.5}{\\pi^{1.0}}\\, dx, \\  1.0\\right)$"
      ],
      "text/plain": [
       "⎛2⋅π                  ⎞\n",
       "⎜ ⌠                   ⎟\n",
       "⎜ ⎮       -1.0        ⎟\n",
       "⎜ ⎮  0.5⋅π     dx, 1.0⎟\n",
       "⎜ ⌡                   ⎟\n",
       "⎝ 0                   ⎠"
      ]
     },
     "execution_count": 13,
     "metadata": {},
     "output_type": "execute_result"
    }
   ],
   "source": [
    "A=1/((2*sp.pi)**0.5)\n",
    "z=1j\n",
    "f=sp.exp(z*x)\n",
    "fn=A*f\n",
    "fn2=A*sp.exp(-z*x)\n",
    "Ifn=sp.Integral(fn*fn2, (x, 0, 2*sp.pi))\n",
    "Ifn, Ifn.doit()"
   ]
  },
  {
   "cell_type": "markdown",
   "metadata": {
    "id": "oCQanJiN5DlB"
   },
   "source": [
    "$$\\large Funcion\\ normalizada=\\frac{1}{\\sqrt{2\\pi}}e^{ix}$$"
   ]
  },
  {
   "cell_type": "markdown",
   "metadata": {
    "id": "rGI6LMBO5DlB"
   },
   "source": [
    "### <font color='purple'>SEGUNDO PUNTO. PUNTO C \n",
    "$\\large xe^{-x} [0, \\infty]$"
   ]
  },
  {
   "cell_type": "code",
   "execution_count": 14,
   "metadata": {
    "colab": {
     "base_uri": "https://localhost:8080/",
     "height": 38
    },
    "executionInfo": {
     "elapsed": 966,
     "status": "ok",
     "timestamp": 1606625484010,
     "user": {
      "displayName": "Yenny Velandia",
      "photoUrl": "https://lh3.googleusercontent.com/a-/AOh14GiJIA0AkPnU2mQac-S8Piph1CFmfay0Wnz1Z0XFxX8=s64",
      "userId": "00840882074132216599"
     },
     "user_tz": 300
    },
    "id": "SdIbV3fm5DlB",
    "outputId": "b27f485e-969d-4c58-f195-b1b3e0514d82"
   },
   "outputs": [
    {
     "data": {
      "image/png": "[encoded data removed]",
      "text/latex": [
       "$\\displaystyle \\left( \\int\\limits_{0}^{\\infty} x^{2} e^{- 2 x}\\, dx, \\  \\frac{1}{4}\\right)$"
      ],
      "text/plain": [
       "⎛∞                 ⎞\n",
       "⎜⌠                 ⎟\n",
       "⎜⎮  2  -2⋅x        ⎟\n",
       "⎜⎮ x ⋅ℯ     dx, 1/4⎟\n",
       "⎜⌡                 ⎟\n",
       "⎝0                 ⎠"
      ]
     },
     "execution_count": 14,
     "metadata": {},
     "output_type": "execute_result"
    }
   ],
   "source": [
    "x=sp.Symbol('x')\n",
    "f=sp.exp(-x)*x\n",
    "If=sp.Integral(f**2, (x, 0, sp.oo))\n",
    "If, If.doit()"
   ]
  },
  {
   "cell_type": "markdown",
   "metadata": {
    "id": "YClVlJbG5DlC"
   },
   "source": [
    "$Como\\ es\\ cuadrado\\ integrable, se\\ procede\\ a\\ hallar\\ la\\ constante de normalización.$"
   ]
  },
  {
   "cell_type": "markdown",
   "metadata": {
    "id": "27y1NoKp5DlC"
   },
   "source": [
    "### constante de normalización\n",
    "$$\\large A=\\frac{1}{\\sqrt{\\frac{1}{4}}}$$"
   ]
  },
  {
   "cell_type": "code",
   "execution_count": 15,
   "metadata": {
    "id": "70YVr-Qe5DlC",
    "outputId": "907fe919-0710-46c7-db86-40f743664c37"
   },
   "outputs": [
    {
     "data": {
      "image/png": "[encoded data removed]",
      "text/latex": [
       "$\\displaystyle \\left( \\int\\limits_{0}^{\\infty} 4.0 x^{2} e^{- 2 x}\\, dx, \\  1.0\\right)$"
      ],
      "text/plain": [
       "⎛∞                     ⎞\n",
       "⎜⌠                     ⎟\n",
       "⎜⎮      2  -2⋅x        ⎟\n",
       "⎜⎮ 4.0⋅x ⋅ℯ     dx, 1.0⎟\n",
       "⎜⌡                     ⎟\n",
       "⎝0                     ⎠"
      ]
     },
     "execution_count": 15,
     "metadata": {},
     "output_type": "execute_result"
    }
   ],
   "source": [
    "A=1/((0.25)**0.5)\n",
    "f=sp.exp(-x)*x\n",
    "fn=A*f\n",
    "Ifn=sp.Integral(fn**2, (x, 0, sp.oo))\n",
    "Ifn, Ifn.doit()"
   ]
  },
  {
   "cell_type": "markdown",
   "metadata": {
    "id": "SbOWgmtl5DlC"
   },
   "source": [
    "$$\\large Funcion\\ normalizada=2xe^{-x}$$"
   ]
  },
  {
   "cell_type": "markdown",
   "metadata": {
    "id": "r9_K2k9A5DlC"
   },
   "source": [
    "### <font color='purple'>TERCER PUNTO. "
   ]
  },
  {
   "cell_type": "markdown",
   "metadata": {
    "id": "PGeertET5DlC"
   },
   "source": [
    " $\\large \\Psi = \\sqrt{\\frac{2}{a}}e^{\\frac{-x}{a}}$ donde $\\large a$ es 1.0 nm"
   ]
  },
  {
   "cell_type": "markdown",
   "metadata": {
    "id": "tMALA5gR5DlC"
   },
   "source": [
    "### <font color='purple'>PUNTO A\n",
    "Calcular la probabilidad de que la partícula se encuentre entre $\\large x=1.5000 nm$ y $\\large x=1.5001 nm$"
   ]
  },
  {
   "cell_type": "code",
   "execution_count": 16,
   "metadata": {
    "id": "9m7wUJnG5DlC",
    "outputId": "444b5a10-e14e-4014-d68b-62e3ff9d4fda"
   },
   "outputs": [
    {
     "data": {
      "image/png": "[encoded data removed]",
      "text/latex": [
       "$\\displaystyle \\left( \\int\\limits_{1.5}^{1.5001} 2.0 e^{- 2.0 x}\\, dx, \\  9.9564179985856 \\cdot 10^{-6}\\right)$"
      ],
      "text/plain": [
       "⎛1.5001                                   ⎞\n",
       "⎜  ⌠                                      ⎟\n",
       "⎜  ⎮         -2.0⋅x                       ⎟\n",
       "⎜  ⎮    2.0⋅ℯ       dx, 9.9564179985856e-6⎟\n",
       "⎜  ⌡                                      ⎟\n",
       "⎝ 1.5                                     ⎠"
      ]
     },
     "execution_count": 16,
     "metadata": {},
     "output_type": "execute_result"
    }
   ],
   "source": [
    "f=((2/1.0)**0.5)*sp.exp(-x/1.0)\n",
    "Ifn=sp.Integral(f**2, (x, 1.5000, 1.5001))\n",
    "Ifn, Ifn.doit()"
   ]
  },
  {
   "cell_type": "markdown",
   "metadata": {
    "id": "jQxftaFp5DlD"
   },
   "source": [
    "$ La\\ probabilidad\\ de\\ encontrar\\ la\\ particula\\ entre\\ x=1.5000nm\\ y\\ x=1.5001nm\\ es\\ de\\ 9.956*10^{-6}$\n",
    "\n",
    "**<font color=red> Qué significado tiene este valor, qué podría decir del valor encontrado??** "
   ]
  },
  {
   "cell_type": "markdown",
   "metadata": {
    "id": "4eC8L3JZ5DlD"
   },
   "source": [
    "### <font color='purple'>PUNTO B"
   ]
  },
  {
   "cell_type": "code",
   "execution_count": 17,
   "metadata": {
    "id": "sM2Jbcyj5DlD",
    "outputId": "64625db9-b922-4500-d74e-2f2246f0ed77"
   },
   "outputs": [
    {
     "data": {
      "image/png": "[encoded data removed]",
      "text/latex": [
       "$\\displaystyle \\left( \\int\\limits_{0}^{2} 2.0 e^{- 2.0 x}\\, dx, \\  0.981684361111266\\right)$"
      ],
      "text/plain": [
       "⎛2                                  ⎞\n",
       "⎜⌠                                  ⎟\n",
       "⎜⎮      -2.0⋅x                      ⎟\n",
       "⎜⎮ 2.0⋅ℯ       dx, 0.981684361111266⎟\n",
       "⎜⌡                                  ⎟\n",
       "⎝0                                  ⎠"
      ]
     },
     "execution_count": 17,
     "metadata": {},
     "output_type": "execute_result"
    }
   ],
   "source": [
    "f=((2/1.0)**0.5)*sp.exp(-x/1.0)\n",
    "Ifn=sp.Integral(f**2, (x, 0, 2))\n",
    "Ifn, Ifn.doit()"
   ]
  },
  {
   "cell_type": "markdown",
   "metadata": {
    "id": "RpXrZCJB5DlD"
   },
   "source": [
    "$ La\\ probabilidad\\ de\\ encontrar\\ la\\ particula\\ entre\\ x=0nm\\ y\\ x=2nm\\ es\\ de\\ 0.982$\n",
    "\n",
    "**<font color=red> Debería haber algún comentario en relación al valor encontrado porque sino las calculos pierden todo significado** "
   ]
  },
  {
   "cell_type": "markdown",
   "metadata": {
    "id": "lHbEX2hC5DlD"
   },
   "source": [
    "### <font color='purple'>PUNTO C"
   ]
  },
  {
   "cell_type": "code",
   "execution_count": 18,
   "metadata": {
    "id": "eaDFpFTq5DlD",
    "outputId": "7bb96831-c380-4725-d0dc-2bf3f67d35be"
   },
   "outputs": [
    {
     "data": {
      "image/png": "[encoded data removed]",
      "text/latex": [
       "$\\displaystyle \\left( \\int\\limits_{0}^{\\infty} 2.0 e^{- 2.0 x}\\, dx, \\  1.0\\right)$"
      ],
      "text/plain": [
       "⎛∞                    ⎞\n",
       "⎜⌠                    ⎟\n",
       "⎜⎮      -2.0⋅x        ⎟\n",
       "⎜⎮ 2.0⋅ℯ       dx, 1.0⎟\n",
       "⎜⌡                    ⎟\n",
       "⎝0                    ⎠"
      ]
     },
     "execution_count": 18,
     "metadata": {},
     "output_type": "execute_result"
    }
   ],
   "source": [
    "f=((2/1.0)**0.5)*sp.exp(-x/1.0)\n",
    "Ifn=sp.Integral(f**2, (x, 0, sp.oo))\n",
    "Ifn, Ifn.doit()"
   ]
  },
  {
   "cell_type": "markdown",
   "metadata": {
    "id": "f0ZSk1Z15DlD"
   },
   "source": [
    "$La\\ funci\\acute{o}n\\ de\\ onda\\ esta\\ normalizada\\ en\\ el\\ espacio\\ definido\\ para\\ el\\ sistema\\ monodimensional$"
   ]
  },
  {
   "cell_type": "markdown",
   "metadata": {
    "id": "K3n4FPs35DlE"
   },
   "source": [
    "### <font color='purple'>CUARTO PUNTO. PUNTO A\n",
    "    \n",
    "$\\large \\hat{A}f(x)=\\frac{df(x)}{dx} derivada\\ de\\ \\large f(x)$"
   ]
  },
  {
   "cell_type": "code",
   "execution_count": 19,
   "metadata": {
    "id": "PppbP95l5DlE",
    "outputId": "8022d25b-0bc8-4427-88c3-f82b1eca7f86"
   },
   "outputs": [
    {
     "data": {
      "image/png": "[encoded data removed]",
      "text/latex": [
       "$\\displaystyle \\left( f{\\left(x \\right)}, \\  s{\\left(x \\right)}, \\  p{\\left(x \\right)}\\right)$"
      ],
      "text/plain": [
       "(f(x), s(x), p(x))"
      ]
     },
     "execution_count": 19,
     "metadata": {},
     "output_type": "execute_result"
    }
   ],
   "source": [
    "x, a, b, c=sp.symbols('x a b c', complex=True)\n",
    "f=sp.Function('f')(x)\n",
    "s=sp.Function('s')(x)\n",
    "p=sp.Function('p')(x)\n",
    "f, s, p"
   ]
  },
  {
   "cell_type": "code",
   "execution_count": 20,
   "metadata": {
    "id": "iSOL7UaD5DlE",
    "outputId": "05b340df-7d0e-4f8e-ffcf-14930ec26e06"
   },
   "outputs": [
    {
     "data": {
      "image/png": "[encoded data removed]",
      "text/latex": [
       "$\\displaystyle \\left( \\frac{\\partial}{\\partial x} a f{\\left(x \\right)}, \\  a \\frac{d}{d x} f{\\left(x \\right)}\\right)$"
      ],
      "text/plain": [
       "⎛∂             d       ⎞\n",
       "⎜──(a⋅f(x)), a⋅──(f(x))⎟\n",
       "⎝∂x            dx      ⎠"
      ]
     },
     "execution_count": 20,
     "metadata": {},
     "output_type": "execute_result"
    }
   ],
   "source": [
    "D1=sp.Derivative(a*f, x)\n",
    "D1, D1.doit()"
   ]
  },
  {
   "cell_type": "code",
   "execution_count": 21,
   "metadata": {
    "id": "xTI87NC45DlE",
    "outputId": "d53736ab-870c-47c9-f07c-259854a36e69"
   },
   "outputs": [
    {
     "data": {
      "image/png": "[encoded data removed]",
      "text/latex": [
       "$\\displaystyle \\left( \\frac{\\partial}{\\partial x} \\left(a f{\\left(x \\right)} + b s{\\left(x \\right)} + c p{\\left(x \\right)}\\right), \\  a \\frac{d}{d x} f{\\left(x \\right)} + b \\frac{d}{d x} s{\\left(x \\right)} + c \\frac{d}{d x} p{\\left(x \\right)}\\right)$"
      ],
      "text/plain": [
       "⎛∂                               d            d            d       ⎞\n",
       "⎜──(a⋅f(x) + b⋅s(x) + c⋅p(x)), a⋅──(f(x)) + b⋅──(s(x)) + c⋅──(p(x))⎟\n",
       "⎝∂x                              dx           dx           dx      ⎠"
      ]
     },
     "execution_count": 21,
     "metadata": {},
     "output_type": "execute_result"
    }
   ],
   "source": [
    "D1=sp.Derivative((a*f+b*s+c*p), x)\n",
    "D1, D1.doit()"
   ]
  },
  {
   "cell_type": "markdown",
   "metadata": {
    "id": "_yABCSRK5DlE"
   },
   "source": [
    "$ Si\\ es\\ un\\ operador\\ lineal\\ ya\\ que\\ saca\\ la\\ constante\\ que\\ este\\ acompa\\tilde{n}ando\\ a\\ la\\ funcion\\ osea\\ no\\ actua\\ la\\ derivada\\ sobre\\ la\\ constante$"
   ]
  },
  {
   "cell_type": "markdown",
   "metadata": {
    "id": "jTXQrzWn5DlF"
   },
   "source": [
    "### <font color='purple'>CUARTO PUNTO. PUNTO B\n",
    "    \n",
    "$\\large \\hat{A}f(x)=f^*(x) forma\\ la\\ compleja\\ conjugada\\ de\\ \\large f(x)$"
   ]
  },
  {
   "cell_type": "code",
   "execution_count": 22,
   "metadata": {
    "id": "y6yzbxbs5DlF",
    "outputId": "87777807-e410-4a80-dda3-c4ac4f11861a"
   },
   "outputs": [
    {
     "data": {
      "image/png": "[encoded data removed]",
      "text/latex": [
       "$\\displaystyle \\left( f{\\left(x \\right)}, \\  s{\\left(x \\right)}\\right)$"
      ],
      "text/plain": [
       "(f(x), s(x))"
      ]
     },
     "execution_count": 22,
     "metadata": {},
     "output_type": "execute_result"
    }
   ],
   "source": [
    "x, a, b, c=sp.symbols('x a b c', complex=True)\n",
    "f=sp.Function('f')(x)\n",
    "s=sp.Function('s')(x)\n",
    "f, s"
   ]
  },
  {
   "cell_type": "code",
   "execution_count": 23,
   "metadata": {
    "id": "gjDwytsL5DlF",
    "outputId": "9eab59c5-1345-4d1d-afe5-af4041a91483"
   },
   "outputs": [
    {
     "data": {
      "image/png": "[encoded data removed]",
      "text/latex": [
       "$\\displaystyle a f{\\left(x \\right)}$"
      ],
      "text/plain": [
       "a⋅f(x)"
      ]
     },
     "execution_count": 23,
     "metadata": {},
     "output_type": "execute_result"
    }
   ],
   "source": [
    "c1=a*f\n",
    "c1.conjugate()\n",
    "c1"
   ]
  },
  {
   "cell_type": "code",
   "execution_count": 24,
   "metadata": {
    "id": "oZvZV6eu5DlF",
    "outputId": "fa8c6a57-5298-4ba6-cead-468f50c3f79e"
   },
   "outputs": [
    {
     "data": {
      "image/png": "[encoded data removed]",
      "text/latex": [
       "$\\displaystyle \\overline{a} \\overline{f{\\left(x \\right)}} + \\overline{b} \\overline{s{\\left(x \\right)}}$"
      ],
      "text/plain": [
       "_ ____   _ ____\n",
       "a⋅f(x) + b⋅s(x)"
      ]
     },
     "execution_count": 24,
     "metadata": {},
     "output_type": "execute_result"
    }
   ],
   "source": [
    "c1=a*f\n",
    "c2=b*s\n",
    "c3=c1+c2\n",
    "c3.conjugate()"
   ]
  },
  {
   "cell_type": "markdown",
   "metadata": {
    "id": "PfOGn1HC5DlF"
   },
   "source": [
    "$ No\\ es\\ un\\ operador\\ lineal\\ ya\\ que\\ si\\ la\\ constante\\ es\\ compleja\\ este\\ operador\\ si\\ actuara\\ sobre\\ ella$"
   ]
  },
  {
   "cell_type": "markdown",
   "metadata": {
    "id": "JJRliasJ5DlF"
   },
   "source": [
    "### <font color='purple'>CUARTO PUNTO. PUNTO C\n",
    "    \n",
    "$\\large \\hat{A}f(x)=ln f(x)\\ toma\\ el\\ logaritmo\\ de\\ \\large f(x)$"
   ]
  },
  {
   "cell_type": "code",
   "execution_count": 25,
   "metadata": {
    "id": "CLgqoFAY5DlF",
    "outputId": "34780d96-e8f0-47ac-84e3-5a27b76c765c"
   },
   "outputs": [
    {
     "data": {
      "image/png": "[encoded data removed]",
      "text/latex": [
       "$\\displaystyle \\left( f{\\left(x \\right)}, \\  s{\\left(x \\right)}, \\  p{\\left(x \\right)}\\right)$"
      ],
      "text/plain": [
       "(f(x), s(x), p(x))"
      ]
     },
     "execution_count": 25,
     "metadata": {},
     "output_type": "execute_result"
    }
   ],
   "source": [
    "x, a, b, c=sp.symbols('x a b c', complex=True)\n",
    "f=sp.Function('f')(x)\n",
    "s=sp.Function('s')(x)\n",
    "p=sp.Function('p')(x)\n",
    "f, s, p"
   ]
  },
  {
   "cell_type": "code",
   "execution_count": 26,
   "metadata": {
    "id": "kiSTUTzj5DlF",
    "outputId": "58a20830-9acc-49ab-b5d0-91c3280f67c3"
   },
   "outputs": [
    {
     "data": {
      "image/png": "[encoded data removed]",
      "text/latex": [
       "$\\displaystyle \\left( \\log{\\left(a f{\\left(x \\right)} \\right)}, \\  \\log{\\left(a f{\\left(x \\right)} \\right)}\\right)$"
      ],
      "text/plain": [
       "(log(a⋅f(x)), log(a⋅f(x)))"
      ]
     },
     "execution_count": 26,
     "metadata": {},
     "output_type": "execute_result"
    }
   ],
   "source": [
    "L1=sp.log(a*f)\n",
    "L1, L1.doit()"
   ]
  },
  {
   "cell_type": "markdown",
   "metadata": {
    "id": "z9wDfu4G5DlG"
   },
   "source": [
    "$ No\\ es\\ un\\ operador\\ lineal\\ ya\\ que\\ la\\ constante\\ actua\\ sobre\\ el\\ operador$"
   ]
  },
  {
   "cell_type": "markdown",
   "metadata": {
    "id": "w94RiRfg5DlG"
   },
   "source": [
    "### <font color='purple'>CUARTO PUNTO. PUNTO D\n",
    "    \n",
    "$\\large \\hat{A}f(x)= \\int f(x)dx\\ integral\\ de\\ \\large f(x)$"
   ]
  },
  {
   "cell_type": "code",
   "execution_count": 27,
   "metadata": {
    "id": "jjSHkECE5DlG",
    "outputId": "cb29304b-cabc-435b-d461-bf4b72a9d2fa"
   },
   "outputs": [
    {
     "data": {
      "image/png": "[encoded data removed]",
      "text/latex": [
       "$\\displaystyle \\left( f{\\left(x \\right)}, \\  s{\\left(x \\right)}, \\  p{\\left(x \\right)}\\right)$"
      ],
      "text/plain": [
       "(f(x), s(x), p(x))"
      ]
     },
     "execution_count": 27,
     "metadata": {},
     "output_type": "execute_result"
    }
   ],
   "source": [
    "x, a, b, c=sp.symbols('x a b c', complex=True)\n",
    "f=sp.Function('f')(x)\n",
    "s=sp.Function('s')(x)\n",
    "p=sp.Function('p')(x)\n",
    "f, s, p"
   ]
  },
  {
   "cell_type": "code",
   "execution_count": 28,
   "metadata": {
    "id": "9LEJSreu5DlG",
    "outputId": "67e289dc-e692-44f5-d1a2-3a7c09c84099"
   },
   "outputs": [
    {
     "data": {
      "image/png": "[encoded data removed]",
      "text/latex": [
       "$\\displaystyle \\left( \\int a f{\\left(x \\right)}\\, dx, \\  a \\int f{\\left(x \\right)}\\, dx\\right)$"
      ],
      "text/plain": [
       "⎛⌠              ⌠        ⎞\n",
       "⎜⎮ a⋅f(x) dx, a⋅⎮ f(x) dx⎟\n",
       "⎝⌡              ⌡        ⎠"
      ]
     },
     "execution_count": 28,
     "metadata": {},
     "output_type": "execute_result"
    }
   ],
   "source": [
    "I1=sp.Integral(a*f, x)\n",
    "I1, I1.doit()"
   ]
  },
  {
   "cell_type": "code",
   "execution_count": 29,
   "metadata": {
    "id": "okbSgkkv5DlG",
    "outputId": "131986ec-9fef-4be3-8378-745541625989"
   },
   "outputs": [
    {
     "data": {
      "image/png": "[encoded data removed]",
      "text/latex": [
       "$\\displaystyle \\left( \\int \\left(a f{\\left(x \\right)} + b s{\\left(x \\right)} + c p{\\left(x \\right)}\\right)\\, dx, \\  \\int \\left(a f{\\left(x \\right)} + b s{\\left(x \\right)} + c p{\\left(x \\right)}\\right)\\, dx\\right)$"
      ],
      "text/plain": [
       "⎛⌠                                ⌠                              ⎞\n",
       "⎜⎮ (a⋅f(x) + b⋅s(x) + c⋅p(x)) dx, ⎮ (a⋅f(x) + b⋅s(x) + c⋅p(x)) dx⎟\n",
       "⎝⌡                                ⌡                              ⎠"
      ]
     },
     "execution_count": 29,
     "metadata": {},
     "output_type": "execute_result"
    }
   ],
   "source": [
    "I1=sp.Integral((a*f+b*s+c*p), x)\n",
    "I1, I1.doit()"
   ]
  },
  {
   "cell_type": "markdown",
   "metadata": {
    "id": "4XiaDmqT5DlG"
   },
   "source": [
    "$ No\\ es\\ un\\ operador\\ lineal\\ ya\\ que\\ saca\\ la\\ constante\\ que\\ este\\ acompa\\tilde{n}ando\\ a\\ la\\ funcion\\ pero\\ solo\\ cuando\\ esta\\ sola\\ no\\ en\\ una\\ combinacion\\ lineal$"
   ]
  },
  {
   "cell_type": "markdown",
   "metadata": {
    "id": "y2nCBuuR5DlG"
   },
   "source": [
    "### <font color='purple'>QUINTO PUNTO. PUNTO A"
   ]
  },
  {
   "cell_type": "code",
   "execution_count": 30,
   "metadata": {
    "id": "UOOe0b-w5DlG",
    "outputId": "c7b8129c-4af6-4ae3-82c5-4cdae5b30838"
   },
   "outputs": [
    {
     "data": {
      "image/png": "[encoded data removed]",
      "text/latex": [
       "$\\displaystyle \\left( \\frac{\\partial}{\\partial x} e^{i k x}, \\  i k e^{i k x}, \\  \\frac{\\partial^{2}}{\\partial x^{2}} e^{i k x}, \\  - k^{2} e^{i k x}\\right)$"
      ],
      "text/plain": [
       "⎛                          2                    ⎞\n",
       "⎜∂ ⎛ ⅈ⋅k⋅x⎞       ⅈ⋅k⋅x   ∂ ⎛ ⅈ⋅k⋅x⎞    2  ⅈ⋅k⋅x⎟\n",
       "⎜──⎝ℯ     ⎠, ⅈ⋅k⋅ℯ     , ───⎝ℯ     ⎠, -k ⋅ℯ     ⎟\n",
       "⎜∂x                        2                    ⎟\n",
       "⎝                        ∂x                     ⎠"
      ]
     },
     "execution_count": 30,
     "metadata": {},
     "output_type": "execute_result"
    }
   ],
   "source": [
    "x, k=sp.symbols('x k')\n",
    "f=sp.exp(sp.I*k*x)\n",
    "D1=sp.Derivative(f, x)\n",
    "D2=sp.Derivative(f, x, 2)\n",
    "D1, D1.doit(), D2, D2.doit()"
   ]
  },
  {
   "cell_type": "markdown",
   "metadata": {
    "id": "FyuiO8zL5DlG"
   },
   "source": [
    "$ La\\ funcion\\ e^{ikx}\\ es\\ una\\ funcion\\ propia\\ del\\ operador\\ primera\\ derivada\\ y\\ del\\ operador\\ segunda\\ derivada$"
   ]
  },
  {
   "cell_type": "markdown",
   "metadata": {
    "id": "nGOJn9Jd5DlG"
   },
   "source": [
    "### <font color='purple'>PUNTO B"
   ]
  },
  {
   "cell_type": "code",
   "execution_count": 31,
   "metadata": {
    "id": "xCTDMv6k5DlG",
    "outputId": "e725c761-793a-413f-bf4d-dca5f50a4093"
   },
   "outputs": [
    {
     "data": {
      "image/png": "[encoded data removed]",
      "text/latex": [
       "$\\displaystyle \\left( \\frac{\\partial}{\\partial x} \\cos{\\left(k x \\right)}, \\  - k \\sin{\\left(k x \\right)}, \\  \\frac{\\partial^{2}}{\\partial x^{2}} \\cos{\\left(k x \\right)}, \\  - k^{2} \\cos{\\left(k x \\right)}\\right)$"
      ],
      "text/plain": [
       "⎛                             2                        ⎞\n",
       "⎜∂                           ∂               2         ⎟\n",
       "⎜──(cos(k⋅x)), -k⋅sin(k⋅x), ───(cos(k⋅x)), -k ⋅cos(k⋅x)⎟\n",
       "⎜∂x                           2                        ⎟\n",
       "⎝                           ∂x                         ⎠"
      ]
     },
     "execution_count": 31,
     "metadata": {},
     "output_type": "execute_result"
    }
   ],
   "source": [
    "x, k=sp.symbols('x k')\n",
    "f=sp.cos(k*x)\n",
    "D1=sp.Derivative(f, x)\n",
    "D2=sp.Derivative(f, x, 2)\n",
    "D1, D1.doit(), D2, D2.doit()"
   ]
  },
  {
   "cell_type": "markdown",
   "metadata": {
    "id": "0SpMEEzV5DlH"
   },
   "source": [
    "$ La\\ funcion\\ cos(kx)\\ no\\ es\\ una\\ funcion\\ propia\\ del\\ operador\\ primera\\ derivada\\ pero\\ si\\ funcion\\ propia\\ del\\ operador\\ segunda\\ derivada$"
   ]
  },
  {
   "cell_type": "markdown",
   "metadata": {
    "id": "3oGhsUqw5DlH"
   },
   "source": [
    "### <font color='purple'>PUNTO C"
   ]
  },
  {
   "cell_type": "code",
   "execution_count": 32,
   "metadata": {
    "id": "upoTL0R_5DlH",
    "outputId": "6956c5cf-e1d0-4097-bcba-eaf33d1d647e"
   },
   "outputs": [
    {
     "data": {
      "image/png": "[encoded data removed]",
      "text/latex": [
       "$\\displaystyle \\left( \\frac{d}{d x}  k, \\  0, \\  \\frac{d^{2}}{d x^{2}}  k, \\  0\\right)$"
      ],
      "text/plain": [
       "⎛             2       ⎞\n",
       "⎜d           d        ⎟\n",
       "⎜──( k), 0, ───( k), 0⎟\n",
       "⎜dx           2       ⎟\n",
       "⎝           dx        ⎠"
      ]
     },
     "execution_count": 32,
     "metadata": {},
     "output_type": "execute_result"
    }
   ],
   "source": [
    "k=sp.Symbol(' k')\n",
    "f=k\n",
    "D1=sp.Derivative(f, x)\n",
    "D2=sp.Derivative(f, x, 2)\n",
    "D1, D1.doit(), D2, D2.doit()"
   ]
  },
  {
   "cell_type": "markdown",
   "metadata": {
    "id": "8T8T7kCO5DlH"
   },
   "source": [
    "$ La\\ funcion\\ k\\ no\\ es\\ una\\ funcion\\ propia\\ del\\ operador\\ primera\\ derivada\\ ni\\ del\\ operador\\ segunda\\ derivada$"
   ]
  },
  {
   "cell_type": "markdown",
   "metadata": {
    "id": "SkpQX3yt5DlH"
   },
   "source": [
    "### <font color='purple'>PUNTO D"
   ]
  },
  {
   "cell_type": "code",
   "execution_count": 33,
   "metadata": {
    "id": "dS-jOF8D5DlH",
    "outputId": "e3877175-18d4-457d-c08c-4bec0a708585"
   },
   "outputs": [
    {
     "data": {
      "image/png": "[encoded data removed]",
      "text/latex": [
       "$\\displaystyle \\left( \\frac{\\partial}{\\partial x} k x, \\  k, \\  0\\right)$"
      ],
      "text/plain": [
       "⎛∂            ⎞\n",
       "⎜──(k⋅x), k, 0⎟\n",
       "⎝∂x           ⎠"
      ]
     },
     "execution_count": 33,
     "metadata": {},
     "output_type": "execute_result"
    }
   ],
   "source": [
    "x, k=sp.symbols('x k')\n",
    "f=k*x\n",
    "D1=sp.Derivative(f, x)\n",
    "D2=sp.Derivative(f, x, 2)\n",
    "D1, D1.doit(), D2.doit()"
   ]
  },
  {
   "cell_type": "markdown",
   "metadata": {
    "id": "JvLrtvfH5DlH"
   },
   "source": [
    "$ La\\ funcion\\ kx\\ no\\ es\\ una\\ funcion\\ propia\\ del\\ operador\\ primera\\ derivada\\ ni\\ del\\ operador\\ segunda\\ derivada$"
   ]
  },
  {
   "cell_type": "markdown",
   "metadata": {
    "id": "ZiQQ5da_5DlH"
   },
   "source": [
    "### <font color='purple'>PUNTO E"
   ]
  },
  {
   "cell_type": "code",
   "execution_count": 34,
   "metadata": {
    "id": "P_FJgWKn5DlH",
    "outputId": "2ad9a2ff-63e7-4745-b397-ee6e25e7ac6c"
   },
   "outputs": [
    {
     "data": {
      "image/png": "[encoded data removed]",
      "text/latex": [
       "$\\displaystyle \\left( \\frac{\\partial}{\\partial x} e^{- a x^{2}}, \\  - 2 a x e^{- a x^{2}}, \\  2 a \\left(2 a x^{2} - 1\\right) e^{- a x^{2}}\\right)$"
      ],
      "text/plain": [
       "⎛  ⎛     2⎞              2                        2⎞\n",
       "⎜∂ ⎜ -a⋅x ⎟          -a⋅x       ⎛     2    ⎞  -a⋅x ⎟\n",
       "⎜──⎝ℯ     ⎠, -2⋅a⋅x⋅ℯ     , 2⋅a⋅⎝2⋅a⋅x  - 1⎠⋅ℯ     ⎟\n",
       "⎝∂x                                                ⎠"
      ]
     },
     "execution_count": 34,
     "metadata": {},
     "output_type": "execute_result"
    }
   ],
   "source": [
    "x, a=sp.symbols('x a')\n",
    "f=sp.exp(-a*(x**2))\n",
    "D1=sp.Derivative(f, x)\n",
    "D2=sp.Derivative(f, x, 2)\n",
    "D1, D1.doit(), D2.doit()"
   ]
  },
  {
   "cell_type": "markdown",
   "metadata": {
    "id": "qc0cy69O5DlH"
   },
   "source": [
    "$ La\\ funcion\\ e^{-ax^2}\\ es\\ una\\ funcion\\ propia\\ del\\ operador\\ primera\\ derivada\\ y\\ del\\ operador\\ segunda\\ derivada$"
   ]
  },
  {
   "cell_type": "markdown",
   "metadata": {
    "id": "FsbyKRP55DlH"
   },
   "source": [
    "### <font color='purple'>SEXTO PUNTO. PUNTO A\n",
    "    \n",
    "$\\large [\\hat{x}^2,\\frac{d^2}{dx^2}]$"
   ]
  },
  {
   "cell_type": "code",
   "execution_count": 35,
   "metadata": {
    "colab": {
     "base_uri": "https://localhost:8080/",
     "height": 38
    },
    "executionInfo": {
     "elapsed": 617,
     "status": "ok",
     "timestamp": 1606603676632,
     "user": {
      "displayName": "Zaireth García",
      "photoUrl": "",
      "userId": "06306681959425171384"
     },
     "user_tz": 300
    },
    "id": "g8tSz3d55DlH",
    "outputId": "7bc83c2a-afe7-41b6-b1cb-ea1684c809af"
   },
   "outputs": [
    {
     "data": {
      "image/png": "[encoded data removed]",
      "text/latex": [
       "$\\displaystyle - 4 x \\frac{d}{d x} f{\\left(x \\right)} - 2 f{\\left(x \\right)}$"
      ],
      "text/plain": [
       "      d                \n",
       "- 4⋅x⋅──(f(x)) - 2⋅f(x)\n",
       "      dx               "
      ]
     },
     "execution_count": 35,
     "metadata": {},
     "output_type": "execute_result"
    }
   ],
   "source": [
    "x, hbar=sp.symbols('x hbar')\n",
    "f=sp.Function('f')(x)\n",
    "c1=(x**2)*sp.Derivative(f, x, 2)\n",
    "c2=sp.Derivative((x**2)*f, x, 2)\n",
    "c3=c1.doit()\n",
    "c4=c2.doit()\n",
    "sp.simplify(c3-c4)"
   ]
  },
  {
   "cell_type": "markdown",
   "metadata": {
    "id": "4tJj3iWA5DlI"
   },
   "source": [
    "$$ \\large [\\hat{x^{2}},\\frac{d^2}{dx^2}]f(x)=-4x\\frac{d}{dx}f(x)- 2f(x)\\ por\\ tanto\\ el\\ conmutador\\ \\large [\\hat{x^{2}},\\frac{d^2}{dx^2}]=-4x\\frac{d}{dx}- 2 $$"
   ]
  },
  {
   "cell_type": "markdown",
   "metadata": {
    "id": "JjB6BDci5DlI"
   },
   "source": [
    "### <font color='purple'>SEXTO PUNTO. PUNTO B\n",
    "    \n",
    "$\\large [\\hat{x},\\hat{p}_x]$"
   ]
  },
  {
   "cell_type": "code",
   "execution_count": 36,
   "metadata": {
    "id": "JNcycn6H5DlI",
    "outputId": "7627e1cc-9ea1-429a-959b-b5f453237feb"
   },
   "outputs": [
    {
     "data": {
      "image/png": "[encoded data removed]",
      "text/latex": [
       "$\\displaystyle i \\hbar f{\\left(x \\right)}$"
      ],
      "text/plain": [
       "ⅈ⋅h̅⋅f(x)"
      ]
     },
     "execution_count": 36,
     "metadata": {},
     "output_type": "execute_result"
    }
   ],
   "source": [
    "x, hhat=sp.symbols('x hhat')\n",
    "f=sp.Function('f')(x)\n",
    "c1=(-sp.I*hbar)*x*sp.Derivative(f, x)\n",
    "c2=(-sp.I*hbar)*sp.Derivative(x*f, x)\n",
    "c3=c1.doit()\n",
    "c4=c2.doit()\n",
    "sp.simplify(c3-c4)"
   ]
  },
  {
   "cell_type": "markdown",
   "metadata": {
    "id": "fqQX4DvP5DlI"
   },
   "source": [
    "$$ \\large [\\hat{x},\\hat{p}_x]f(x)=i\\hbar f(x)\\ por\\ tanto\\ el\\ conmutador\\ \\large [\\hat{x},\\hat{p}_x]=i\\hbar$$"
   ]
  },
  {
   "cell_type": "markdown",
   "metadata": {
    "id": "Ndc2L8Q35DlI"
   },
   "source": [
    "### <font color='purple'>SEXTO PUNTO. PUNTO C\n",
    "    \n",
    "$\\large [\\hat{p}_x,\\hat{H}_x]$"
   ]
  },
  {
   "cell_type": "code",
   "execution_count": 37,
   "metadata": {
    "colab": {
     "base_uri": "https://localhost:8080/",
     "height": 38
    },
    "executionInfo": {
     "elapsed": 561,
     "status": "ok",
     "timestamp": 1606603983204,
     "user": {
      "displayName": "Zaireth García",
      "photoUrl": "",
      "userId": "06306681959425171384"
     },
     "user_tz": 300
    },
    "id": "eCY-sOon5DlI",
    "outputId": "09e9d291-0a58-4953-87d4-6f96777fefd9"
   },
   "outputs": [
    {
     "data": {
      "image/png": "[encoded data removed]",
      "text/latex": [
       "$\\displaystyle - i \\hbar f{\\left(x \\right)} \\frac{d}{d x} v{\\left(x \\right)}$"
      ],
      "text/plain": [
       "          d       \n",
       "-ⅈ⋅h̅⋅f(x)⋅──(v(x))\n",
       "          dx      "
      ]
     },
     "execution_count": 37,
     "metadata": {},
     "output_type": "execute_result"
    }
   ],
   "source": [
    "x, hbar, m=sp.symbols('x hbar m')\n",
    "f=sp.Function('f')(x)\n",
    "v=sp.Function('v')(x)\n",
    "c1=((sp.I*hbar**3)/(2*m))*sp.Derivative(sp.Derivative(f, x, 2), x) - sp.I*hbar*sp.Derivative(v*f,x)\n",
    "c2=((sp.I*hbar**3)/(2*m))*sp.Derivative(sp.Derivative(f, x, 2), x) - sp.I*hbar*v*sp.Derivative(f,x)\n",
    "c3=c1.doit()\n",
    "c4=c2.doit()\n",
    "sp.simplify(c3-c4)"
   ]
  },
  {
   "cell_type": "markdown",
   "metadata": {
    "id": "lfABdGiT5DlI"
   },
   "source": [
    "$$ \\large [\\hat{p}_x,\\hat{H}_x]f(x)=-i\\hbar\\frac{d}{dx}v(x) f(x)\\ por\\ tanto\\ el\\ conmutador\\ \\large [\\hat{p}_x,\\hat{H}_x] =-i\\hbar\\frac{d}{dx}v(x)$$"
   ]
  },
  {
   "cell_type": "markdown",
   "metadata": {
    "id": "QuKSoW3U5DlI"
   },
   "source": [
    "### <font color='purple'>SEPTIMO PUNTO. \n",
    "  \n",
    "$\\large [\\hat{x}^2,\\frac{d^2}{dx^2}](e^{x^2}+cos(2x))$"
   ]
  },
  {
   "cell_type": "code",
   "execution_count": 38,
   "metadata": {
    "id": "MTDcc9cP5DlI",
    "outputId": "ef0d6e60-7c3f-4fd7-e195-8ea7c47134aa"
   },
   "outputs": [
    {
     "data": {
      "image/png": "[encoded data removed]",
      "text/latex": [
       "$\\displaystyle - 8 x \\left(x e^{x^{2}} - \\sin{\\left(2 x \\right)}\\right) - 2 e^{x^{2}} - 2 \\cos{\\left(2 x \\right)}$"
      ],
      "text/plain": [
       "      ⎛   ⎛ 2⎞           ⎞      ⎛ 2⎞             \n",
       "      ⎜   ⎝x ⎠           ⎟      ⎝x ⎠             \n",
       "- 8⋅x⋅⎝x⋅ℯ     - sin(2⋅x)⎠ - 2⋅ℯ     - 2⋅cos(2⋅x)"
      ]
     },
     "execution_count": 38,
     "metadata": {},
     "output_type": "execute_result"
    }
   ],
   "source": [
    "x=sp.symbols('x')\n",
    "f=sp.exp(x**2)+cos(2*x)\n",
    "c1=(x**2)*sp.Derivative(f, x, 2)\n",
    "c2=sp.Derivative((x**2)*f, x, 2)\n",
    "c3=c1.doit()\n",
    "c4=c2.doit()\n",
    "sp.simplify(c3-c4)"
   ]
  },
  {
   "cell_type": "markdown",
   "metadata": {
    "id": "faImoOPa5DlI"
   },
   "source": [
    "$ El\\ calculo\\ es\\ igual\\ a:$ \n",
    "\n",
    "$$\\large [\\hat{x}^2,\\frac{d^2}{dx^2}](e^{x^2}+cos(2x))= -8x(xe^{x^{2}}-sin(2x))-2e^{x^{2}}-2cos(2x)$$"
   ]
  },
  {
   "cell_type": "markdown",
   "metadata": {
    "id": "6f4OCkFf5DlI"
   },
   "source": [
    "### <font color='purple'>OCTAVO PUNTO. PUNTO A\n",
    "$\\large \\hat{A}\\hat{B}g(x)$"
   ]
  },
  {
   "cell_type": "markdown",
   "metadata": {
    "id": "26aIbZPZ5DlJ"
   },
   "source": [
    "$ Es\\ una\\ funcion\\ porque\\ los\\ dos\\ operadores\\ se\\ multiplican\\ y\\ da\\ un\\ operador,\\ y\\ este\\ operador\\ al\\ estar\\ actuando\\ sobre\\ una\\ funcion\\ se\\ convierte\\ en\\ funcion$ "
   ]
  },
  {
   "cell_type": "markdown",
   "metadata": {
    "id": "ZWQTeldZ5DlJ"
   },
   "source": [
    "### <font color='purple'>OCTAVO PUNTO. PUNTO B\n",
    "$\\large \\hat{A}\\hat{B}+\\hat{B}\\hat{A}$"
   ]
  },
  {
   "cell_type": "markdown",
   "metadata": {
    "id": "mYZYCj8Z5DlJ"
   },
   "source": [
    "$ Es\\ una\\ operador\\ porque\\ la\\ suma\\ y\\ multiplicacion\\ de\\ dos\\ operadores\\ da\\ un\\ operador$"
   ]
  },
  {
   "cell_type": "markdown",
   "metadata": {
    "id": "8YxSynfF5DlJ"
   },
   "source": [
    "### <font color='purple'>OCTAVO PUNTO. PUNTO C\n",
    " $\\large \\hat{B^2}f(x)$"
   ]
  },
  {
   "cell_type": "markdown",
   "metadata": {
    "id": "DRqF7XHn5DlJ"
   },
   "source": [
    "$ Es\\ una\\ funcion\\ porque\\ el\\ operador\\ al\\ estar\\ actuando\\ sobre\\ una\\ funcion\\ se\\ convierte\\ en\\ funcion$ "
   ]
  },
  {
   "cell_type": "markdown",
   "metadata": {
    "id": "LbWTSbVA5DlJ"
   },
   "source": [
    "### <font color='purple'>OCTAVO PUNTO. PUNTO D\n",
    "$\\large f(x)^*\\hat{A}f(x)$"
   ]
  },
  {
   "cell_type": "markdown",
   "metadata": {
    "id": "kXIRFUnM5DlJ"
   },
   "source": [
    "$ Es\\ una\\ funcion\\ porque\\ el\\ operador\\ al\\ estar\\ actuando\\ sobre\\ una\\ funcion\\ se\\ convierte\\ en\\ funcion,\\ y\\ la\\ multiplicacion\\ de\\ una\\ funcion\\ por\\ otra\\ es\\ una\\ funcion$ "
   ]
  },
  {
   "cell_type": "markdown",
   "metadata": {
    "id": "hw3-U-kt5DlJ"
   },
   "source": [
    "### <font color='purple'>NOVENO PUNTO.\n",
    "###Datos:\n",
    "    \n",
    "$ \\triangle(x)\\triangle(p)\\geq(\\frac{\\hbar}{2})$\n",
    "\n",
    "$ \\triangle(v)\\geq(\\frac{\\hbar}{2*M_e})$\n",
    "    \n",
    "$ \\triangle(x)= 1*10^{-3}$"
   ]
  },
  {
   "cell_type": "code",
   "execution_count": 39,
   "metadata": {
    "colab": {
     "base_uri": "https://localhost:8080/",
     "height": 38
    },
    "executionInfo": {
     "elapsed": 812,
     "status": "ok",
     "timestamp": 1606670172499,
     "user": {
      "displayName": "Yenny Velandia",
      "photoUrl": "https://lh3.googleusercontent.com/a-/AOh14GiJIA0AkPnU2mQac-S8Piph1CFmfay0Wnz1Z0XFxX8=s64",
      "userId": "00840882074132216599"
     },
     "user_tz": 300
    },
    "id": "v_t2EDj05DlJ",
    "outputId": "3e5d77ce-b967-4541-b3d2-5f85c63a4d11"
   },
   "outputs": [
    {
     "data": {
      "image/png": "[encoded data removed]",
      "text/latex": [
       "$\\displaystyle 5.275e-22$"
      ],
      "text/plain": [
       "5.275e-22"
      ]
     },
     "execution_count": 39,
     "metadata": {},
     "output_type": "execute_result"
    }
   ],
   "source": [
    "hbar=1.055E-34\n",
    "p=hbar/(2E-13)\n",
    "p"
   ]
  },
  {
   "cell_type": "markdown",
   "metadata": {
    "id": "bFinCxN05DlJ"
   },
   "source": [
    "$ La\\ máxima\\ expresión\\ para\\ la\\ precisión\\ del\\ momento\\ es:$\n",
    "\n",
    "$$ \\triangle(p)=5.275E-22\\ kg*m/s$$"
   ]
  },
  {
   "cell_type": "markdown",
   "metadata": {
    "id": "PUJTe-YJ5DlJ"
   },
   "source": [
    "### <font color='purple'>DECIMO PUNTO\n",
    "    \n",
    "$\\large e^{in(x)}$"
   ]
  },
  {
   "cell_type": "code",
   "execution_count": 40,
   "metadata": {
    "id": "3OsMos_S5DlJ",
    "outputId": "8f9804f1-14de-4a26-ae6e-e30e1ea0e018"
   },
   "outputs": [
    {
     "data": {
      "image/png": "[encoded data removed]",
      "text/latex": [
       "$\\displaystyle \\left( \\int\\limits_{0}^{2 \\pi} 1\\, dx, \\  2 \\pi\\right)$"
      ],
      "text/plain": [
       "⎛2⋅π          ⎞\n",
       "⎜ ⌠           ⎟\n",
       "⎜ ⎮  1 dx, 2⋅π⎟\n",
       "⎜ ⌡           ⎟\n",
       "⎝ 0           ⎠"
      ]
     },
     "execution_count": 40,
     "metadata": {},
     "output_type": "execute_result"
    }
   ],
   "source": [
    "tetha, n=sp.symbols('tetha n')\n",
    "Y1=sp.exp(sp.I*n*x)\n",
    "Y2=sp.exp(-sp.I*n*x)\n",
    "I=sp.Integral(Y1*Y2,(x, 0, 2*sp.pi))\n",
    "I, I.doit()"
   ]
  },
  {
   "cell_type": "markdown",
   "metadata": {
    "id": "Wg9dwVHH5DlJ"
   },
   "source": [
    "###  La constante de normalización para este conjunto de funciones es:\n",
    "$$\\large A=\\frac{1}{\\sqrt{b}}$$\n",
    "$$\\large A=\\frac{1}{\\sqrt{2\\pi}}$$"
   ]
  },
  {
   "cell_type": "markdown",
   "metadata": {
    "id": "u355iHiJ5DlJ"
   },
   "source": [
    "$ Entonces\\ la\\ función\\ normalizada\\ sería:\\ \\Psi=\\frac{1}{\\sqrt{2\\pi}}e^{in(x)}$"
   ]
  },
  {
   "cell_type": "code",
   "execution_count": null,
   "metadata": {
    "id": "pKEIOOi85DlJ"
   },
   "outputs": [],
   "source": []
  }
 ],
 "metadata": {
  "colab": {
   "name": "Taller Cuántica #1.ipynb",
   "provenance": []
  },
  "kernelspec": {
   "display_name": "Python 3",
   "language": "python",
   "name": "python3"
  },
  "language_info": {
   "codemirror_mode": {
    "name": "ipython",
    "version": 3
   },
   "file_extension": ".py",
   "mimetype": "text/x-python",
   "name": "python",
   "nbconvert_exporter": "python",
   "pygments_lexer": "ipython3",
   "version": "3.8.3"
  }
 },
 "nbformat": 4,
 "nbformat_minor": 4
}

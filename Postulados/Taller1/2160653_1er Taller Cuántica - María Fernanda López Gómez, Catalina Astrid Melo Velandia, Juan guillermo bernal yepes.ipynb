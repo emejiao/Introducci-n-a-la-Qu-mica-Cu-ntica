{
 "cells": [
  {
   "cell_type": "code",
   "execution_count": 1,
   "metadata": {},
   "outputs": [],
   "source": [
    "from IPython.display import HTML"
   ]
  },
  {
   "cell_type": "code",
   "execution_count": 2,
   "metadata": {},
   "outputs": [],
   "source": [
    "from IPython.display import HTML\n",
    "import matplotlib as mpl \n",
    "import matplotlib.pylab as plt\n",
    "import numpy as np\n",
    "import sympy as sp\n",
    "import pylab as pl\n",
    "from scipy import interpolate, signal\n",
    "import matplotlib.font_manager as fm\n",
    "from sympy import *\n",
    "init_printing(use_unicode=true)\n",
    "#k, m, n = symbols ('k m n', integer=true)\n",
    "#f, g, h = symbols ('f g h' cls=Function)"
   ]
  },
  {
   "cell_type": "markdown",
   "metadata": {},
   "source": [
    "**Nombres:** \n",
    "* *María Fernanda López Gómez* \n",
    "* *Catalina Astrid Melo Velandia*\n",
    "* *Juan guillermo bernal yepes*"
   ]
  },
  {
   "cell_type": "markdown",
   "metadata": {},
   "source": [
    "## <font color=red> NOTA: 3.5"
   ]
  },
  {
   "cell_type": "markdown",
   "metadata": {},
   "source": [
    "### **<font color=red> Cuando se resuelven problemas físicos a través o con el uso de la matemática, es necesario explicar y comentar el desarrollo de la solucion y el resultado del mismo**"
   ]
  },
  {
   "cell_type": "markdown",
   "metadata": {},
   "source": [
    "<div class=\"alert alert-success\" role=\"alert\">\n",
    "  <h2 class=\"alert-heading\">Introducción a la Química Cuántica: Taller 1-Postulados de la Mecánica Cuántica</h2>\n",
    "  <h3 class=\"alert-heading\">Prof. Enrique Mejía Ospino, emejia@uis.edu.co</h3>\n",
    "  <h3 class=\"alert-heading\">Escuela de Química</h3>\n",
    "  <h3 class=\"alert-heading\">Universidad Industrial de Santander</h3>\n",
    "  <p>\n",
    "  </div>"
   ]
  },
  {
   "cell_type": "markdown",
   "metadata": {},
   "source": [
    "### <div class=\"alert alert-info\"><font color='blue'> <h2 class=\"alert-heading\">Preguntas</h2>\n",
    "    "
   ]
  },
  {
   "cell_type": "markdown",
   "metadata": {},
   "source": [
    "**<div class=\"alert alert-warning\">1. Determinar cuáles de las siguientes funciones son aceptables como funciones de onda, definidas en los intervalos indicados.**\n",
    "**<div class=\"alert alert-warning\">a) $\\large \\frac{1}{x} [0,\\infty)$**\n",
    "**<div class=\"alert alert-warning\">b) $\\large e^{-|x|} (-\\infty, +\\infty)$**\n",
    "**<div class=\"alert alert-warning\">c) $\\large sen(x) [-4π, 4π]$**\n",
    "**<div class=\"alert alert-warning\">d) $\\large e^{-x} [0, \\infty)$**\n",
    "**<div class=\"alert alert-warning\">e) $\\large e^{-x}sen(x) [0, \\infty)$**\n",
    "\n",
    "**<div class=\"alert alert-info\">2. De las siguientes funciones, normalice aquellas en que la normalización sea posible:**\n",
    "**<div class=\"alert alert-info\">a) $\\large e^{-x} [0, \\infty)$**\n",
    "**<div class=\"alert alert-info\">b) $\\large e^{i\\theta} [0, 2\\pi]$**\n",
    "**<div class=\"alert alert-info\">c) $\\large xe^{-x} [0, \\infty)$**\n",
    "\n",
    "\n",
    "**<div class=\"alert alert-warning\">3. La función de onda para una partícula en un sistema monodimensional definido entre $\\large x = 0$ y $\\large x = \\infty$, a $\\large t=0$ es $\\large \\Psi = \\sqrt{\\frac{2}{a}}e^{\\frac{-x}{a}}$ donde $\\large a$ es 1.0 nm. A $\\large t=0$ se mide la posición de la partícula.\n",
    "a) Calcular la probabilidad de que la partícula se encuentre entre $\\large x=1.5000 nm$ y $\\large x=1.5001\n",
    "nm$. b) Calcular la probabilidad de que la partícula se encuentre entre $\\large x=0$ y $\\large x=2 nm$. c)\n",
    "Verifique que la función de onda está normalizada.**\n",
    "\n",
    "**<div class=\"alert alert-warning\">4. Indique cuál de los siguientes operadores es lineal:**\n",
    "**<div class=\"alert alert-warning\">a) $\\large \\hat{A}f(x)=\\frac{df(x)}{dx}$ (derivada de $\\large f(x)$)**\n",
    "**<div class=\"alert alert-warning\">b) $\\large \\hat{A}f(x)=f^*(x)$ (forma la compleja conjugada de $\\large f(x)$)**\n",
    "**<div class=\"alert alert-warning\">c) $\\large \\hat{A}f(x)=ln f(x)$ (toma el logaritmo de $\\large f(x)$)**\n",
    "**<div class=\"alert alert-warning\">d) $\\large \\hat{A}f(x)= \\int f(x)dx$ (f (integral de $\\large f(x)$)**\n",
    "    \n",
    "**<div class=\"alert alert-success\">5. a) Cuál de las siguientes funciones es autofunción del operador $\\large d/dx$:** \n",
    "**<div class=\"alert alert-success\">a) $\\large e^{ikx}$ ; b) $\\large cos(kx)$ ; c) $\\large k$, d) $\\large kx$ ; e) $\\large e^{−ax^{2}}$. ¿Cuáles son sus autovalores? b) Determine cuáles de las funciones anteriores es también autofunción del operador $\\large \\frac{d^2}{dx^2}$ y dé los autovalores correspondientes.**\n",
    "    \n",
    "**<div class=\"alert alert-success\">6. Halle los conmutadores siguientes:**\n",
    "**<div class=\"alert alert-success\">a) $\\large [\\hat{x}^2,\\frac{d^2}{dx^2}]$**\n",
    "**<div class=\"alert alert-success\">b) $\\large [\\hat{x},\\hat{p}_x]$**\n",
    "**<div class=\"alert alert-success\">c) $\\large [\\hat{p}_x,\\hat{H}_x]$**\n",
    "    \n",
    "**<div class=\"alert alert-danger\">7. Calcule $\\large [\\hat{x}^2,\\frac{d^2}{dx^2}](e^{x^2}+cos(2x))$:**\n",
    "\n",
    "**<div class=\"alert alert-danger\">8. Deduzca si cada una de las expresiones siguientes es un operador o una función.**\n",
    "**<div class=\"alert alert-danger\">a) $\\large \\hat{A}\\hat{B}g(x)$ ; b) $\\large \\hat{A}\\hat{B}+\\hat{B}\\hat{A}$ ; c) $\\large \\hat{B^2}f(x)$, d) $\\large f(x)^*\\hat{A}f(x)$**\n",
    "    \n",
    "**<div class=\"alert alert-danger\">9. Si la posición de un electrón se mide con una precisión de ±0.001 Å ¿Cuál será la máxima precisión para el momento?**\n",
    "\n",
    "**<div class=\"alert alert-danger\">10. Demuestre que en el intervalo 0 ≤ θ ≤ 2π, las funciones $\\large e^{inθ}$, donde n=0, ±1, ±2, ..., forman un conjunto de funciones ortogonales. Halle la constante de normalización para este conjunto de funciones.**"
   ]
  },
  {
   "cell_type": "markdown",
   "metadata": {},
   "source": [
    "<font color= purple><H1 align=\"center\"> DESARROLLO DEL TALLER 1 </H1>\n",
    "    "
   ]
  },
  {
   "cell_type": "markdown",
   "metadata": {},
   "source": [
    "**1. *Determinar cuáles de las siguientes funciones son aceptables como funciones de onda, definidas en los intervalos indicados.***\n",
    "\n",
    "*Las funciones bien comportadas como función de onda son:*\n",
    "* *$\\large e^{-x}sen(x)$*\n",
    "* *$\\large sen(x)$*\n",
    "* *$\\large e^{-x}$*\n",
    "   "
   ]
  },
  {
   "cell_type": "markdown",
   "metadata": {},
   "source": [
    "1. *Univaluable*\n",
    "2. *Continuas*"
   ]
  },
  {
   "cell_type": "code",
   "execution_count": 3,
   "metadata": {
    "scrolled": true
   },
   "outputs": [
    {
     "name": "stderr",
     "output_type": "stream",
     "text": [
      "<ipython-input-3-186fefea08c8>:5: RuntimeWarning: divide by zero encountered in true_divide\n",
      "  Y= 1/(x)\n"
     ]
    },
    {
     "data": {
      "image/png": "[encoded data removed]",
      "text/plain": [
       "<Figure size 432x288 with 5 Axes>"
      ]
     },
     "metadata": {
      "needs_background": "light"
     },
     "output_type": "display_data"
    }
   ],
   "source": [
    "from matplotlib.font_manager import FontProperties\n",
    "from pylab import *\n",
    "\n",
    "def f(x):\n",
    "    Y= 1/(x)\n",
    "    return Y\n",
    "\n",
    "x= arange(0.0, 5.0, 0.1)\n",
    "\n",
    "subplot(151)\n",
    "plot(x, f(x), 'g-', linewidth=3)\n",
    "title('$f(x)=1/X$', fontsize=35)\n",
    "\n",
    "\n",
    "def f(x):\n",
    "    Y1 = exp(-abs(x))\n",
    "    return Y1\n",
    "\n",
    "x1 = arange(-5.0, 5.0, 0.1)\n",
    "\n",
    "subplot(152)\n",
    "plot(x1, f(x1), 'm-', linewidth=3)\n",
    "title('$f(x)=e^-|x|$', fontsize=35)\n",
    "\n",
    "def f(x):\n",
    "    Y2 = sin(x)\n",
    "    return Y2\n",
    "\n",
    "x2 = arange(-4*pi, 4*pi, 0.1)\n",
    "\n",
    "subplot(153)\n",
    "plot(x2, f(x2), 'y', linewidth=3)\n",
    "title('$f(x)= sen(x)$', fontsize=35)\n",
    "\n",
    "def f(x):\n",
    "    Y3 = exp(-x)\n",
    "    return Y3\n",
    "\n",
    "x3 = arange(-5.0, 5.0, 0.1)\n",
    "\n",
    "subplot(154)\n",
    "plot(x3, f(x3), 'r-', linewidth=3)\n",
    "title('$f(x)= e^{-x}$', fontsize=35)\n",
    "\n",
    "def f(x):\n",
    "    s1 = exp(-x)\n",
    "    s2 = sin(x)\n",
    "    return multiply(s1,s2)\n",
    "\n",
    "x4 = arange(-5.0, 5.0, 0.1)\n",
    "\n",
    "subplot(155)\n",
    "plot(x4, f(x4), 'c-', linewidth=3)\n",
    "title('$f(x)= e^{-x}sen(x)$', fontsize=35)\n",
    "\n",
    "plt.subplots_adjust(wspace=0.1, hspace=0.1, top=1.5, right=5)\n",
    "show()"
   ]
  },
  {
   "cell_type": "markdown",
   "metadata": {},
   "source": [
    "3. *Diferenciable*"
   ]
  },
  {
   "cell_type": "markdown",
   "metadata": {},
   "source": [
    "<div class=\"alert alert-info\" role=\"alert\">$\\large \\frac{1}{x}$\n",
    "    "
   ]
  },
  {
   "cell_type": "code",
   "execution_count": 4,
   "metadata": {},
   "outputs": [
    {
     "data": {
      "image/png": "[encoded data removed]",
      "text/latex": [
       "$\\displaystyle \\left( - \\frac{1}{x^{2}}, \\  \\frac{2}{x^{3}}\\right)$"
      ],
      "text/plain": [
       "⎛-1   2 ⎞\n",
       "⎜───, ──⎟\n",
       "⎜  2   3⎟\n",
       "⎝ x   x ⎠"
      ]
     },
     "execution_count": 4,
     "metadata": {},
     "output_type": "execute_result"
    }
   ],
   "source": [
    "x = sp.Symbol('x') \n",
    "y = 1/(x)\n",
    "sp.diff(y,x), sp.diff(y,x,2)"
   ]
  },
  {
   "cell_type": "markdown",
   "metadata": {},
   "source": [
    "<div class=\"alert alert-info\" role=\"alert\">$\\large e^{-|x|}$"
   ]
  },
  {
   "cell_type": "code",
   "execution_count": 5,
   "metadata": {},
   "outputs": [
    {
     "data": {
      "image/png": "[encoded data removed]",
      "text/latex": [
       "$\\displaystyle \\left( - \\frac{\\left(\\operatorname{re}{\\left(x\\right)} \\frac{d}{d x} \\operatorname{re}{\\left(x\\right)} + \\operatorname{im}{\\left(x\\right)} \\frac{d}{d x} \\operatorname{im}{\\left(x\\right)}\\right) e^{- \\left|{x}\\right|} \\operatorname{sign}{\\left(x \\right)}}{x}, \\  \\frac{\\left(- \\left(\\operatorname{re}{\\left(x\\right)} \\frac{d}{d x} \\operatorname{re}{\\left(x\\right)} + \\operatorname{im}{\\left(x\\right)} \\frac{d}{d x} \\operatorname{im}{\\left(x\\right)}\\right) \\frac{d}{d x} \\operatorname{sign}{\\left(x \\right)} - \\left(\\operatorname{re}{\\left(x\\right)} \\frac{d^{2}}{d x^{2}} \\operatorname{re}{\\left(x\\right)} + \\operatorname{im}{\\left(x\\right)} \\frac{d^{2}}{d x^{2}} \\operatorname{im}{\\left(x\\right)} + \\left(\\frac{d}{d x} \\operatorname{re}{\\left(x\\right)}\\right)^{2} + \\left(\\frac{d}{d x} \\operatorname{im}{\\left(x\\right)}\\right)^{2}\\right) \\operatorname{sign}{\\left(x \\right)} + \\frac{\\left(\\operatorname{re}{\\left(x\\right)} \\frac{d}{d x} \\operatorname{re}{\\left(x\\right)} + \\operatorname{im}{\\left(x\\right)} \\frac{d}{d x} \\operatorname{im}{\\left(x\\right)}\\right)^{2} \\operatorname{sign}^{2}{\\left(x \\right)}}{x} + \\frac{\\left(\\operatorname{re}{\\left(x\\right)} \\frac{d}{d x} \\operatorname{re}{\\left(x\\right)} + \\operatorname{im}{\\left(x\\right)} \\frac{d}{d x} \\operatorname{im}{\\left(x\\right)}\\right) \\operatorname{sign}{\\left(x \\right)}}{x}\\right) e^{- \\left|{x}\\right|}}{x}\\right)$"
      ],
      "text/plain": [
       "⎛                                                     ⎛                       \n",
       "⎜                                                     ⎜                       \n",
       "⎜                                                     ⎜                       \n",
       "⎜                                                     ⎜  ⎛      d             \n",
       "⎜ ⎛      d                 d        ⎞  -│x│           ⎜- ⎜re(x)⋅──(re(x)) + im\n",
       "⎜-⎜re(x)⋅──(re(x)) + im(x)⋅──(im(x))⎟⋅ℯ    ⋅sign(x)   ⎜  ⎝      dx            \n",
       "⎜ ⎝      dx                dx       ⎠                 ⎝                       \n",
       "⎜───────────────────────────────────────────────────, ────────────────────────\n",
       "⎝                         x                                                   \n",
       "\n",
       "                                                                              \n",
       "                                                                              \n",
       "                             ⎛        2                  2                    \n",
       "    d        ⎞ d             ⎜       d                  d           ⎛d        \n",
       "(x)⋅──(im(x))⎟⋅──(sign(x)) - ⎜re(x)⋅───(re(x)) + im(x)⋅───(im(x)) + ⎜──(re(x))\n",
       "    dx       ⎠ dx            ⎜        2                  2          ⎝dx       \n",
       "                             ⎝      dx                 dx                     \n",
       "──────────────────────────────────────────────────────────────────────────────\n",
       "                                                                              \n",
       "\n",
       "                                                                2             \n",
       "                             ⎛      d                 d        ⎞      2      ⎛\n",
       " 2              2⎞           ⎜re(x)⋅──(re(x)) + im(x)⋅──(im(x))⎟ ⋅sign (x)   ⎜\n",
       "⎞    ⎛d        ⎞ ⎟           ⎝      dx                dx       ⎠             ⎝\n",
       "⎟  + ⎜──(im(x))⎟ ⎟⋅sign(x) + ───────────────────────────────────────────── + ─\n",
       "⎠    ⎝dx       ⎠ ⎟                                 x                          \n",
       "                 ⎠                                                            \n",
       "──────────────────────────────────────────────────────────────────────────────\n",
       "            x                                                                 \n",
       "\n",
       "                                          ⎞      ⎞\n",
       "      d                 d        ⎞        ⎟      ⎟\n",
       "re(x)⋅──(re(x)) + im(x)⋅──(im(x))⎟⋅sign(x)⎟      ⎟\n",
       "      dx                dx       ⎠        ⎟  -│x│⎟\n",
       "──────────────────────────────────────────⎟⋅ℯ    ⎟\n",
       "                    x                     ⎟      ⎟\n",
       "                                          ⎠      ⎟\n",
       "─────────────────────────────────────────────────⎟\n",
       "                                                 ⎠"
      ]
     },
     "execution_count": 5,
     "metadata": {},
     "output_type": "execute_result"
    }
   ],
   "source": [
    "x = sp.Symbol('x') \n",
    "y = sp.exp(-abs(x))\n",
    "sp.diff(y,x), sp.diff(y,x,2)"
   ]
  },
  {
   "cell_type": "markdown",
   "metadata": {},
   "source": [
    "**No es continua, No es derivable**"
   ]
  },
  {
   "cell_type": "markdown",
   "metadata": {},
   "source": [
    "<div class=\"alert alert-info\" role=\"alert\">$\\large sen(x)$\n"
   ]
  },
  {
   "cell_type": "code",
   "execution_count": 6,
   "metadata": {},
   "outputs": [
    {
     "data": {
      "image/png": "[encoded data removed]",
      "text/latex": [
       "$\\displaystyle \\left( \\cos{\\left(x \\right)}, \\  - \\sin{\\left(x \\right)}\\right)$"
      ],
      "text/plain": [
       "(cos(x), -sin(x))"
      ]
     },
     "execution_count": 6,
     "metadata": {},
     "output_type": "execute_result"
    }
   ],
   "source": [
    "x = sp.Symbol('x') \n",
    "y = sp.sin(x)\n",
    "sp.diff(y,x), sp.diff(y,x,2)"
   ]
  },
  {
   "cell_type": "markdown",
   "metadata": {},
   "source": [
    "<div class=\"alert alert-info\" role=\"alert\">$\\large e^{-x}$"
   ]
  },
  {
   "cell_type": "code",
   "execution_count": 7,
   "metadata": {},
   "outputs": [
    {
     "data": {
      "image/png": "[encoded data removed]",
      "text/latex": [
       "$\\displaystyle \\left( - e^{- x}, \\  e^{- x}\\right)$"
      ],
      "text/plain": [
       "⎛  -x   -x⎞\n",
       "⎝-ℯ  , ℯ  ⎠"
      ]
     },
     "execution_count": 7,
     "metadata": {},
     "output_type": "execute_result"
    }
   ],
   "source": [
    "x = sp.Symbol('x') \n",
    "y = sp.exp(-x)\n",
    "sp.diff(y,x), sp.diff(y,x,2)"
   ]
  },
  {
   "cell_type": "markdown",
   "metadata": {},
   "source": [
    "<div class=\"alert alert-info\" role=\"alert\">$\\large e^{-x}sen(x)$"
   ]
  },
  {
   "cell_type": "code",
   "execution_count": 8,
   "metadata": {},
   "outputs": [
    {
     "data": {
      "image/png": "[encoded data removed]",
      "text/latex": [
       "$\\displaystyle \\left( - e^{- x} \\sin{\\left(x \\right)} + e^{- x} \\cos{\\left(x \\right)}, \\  - 2 e^{- x} \\cos{\\left(x \\right)}\\right)$"
      ],
      "text/plain": [
       "⎛   -x           -x             -x       ⎞\n",
       "⎝- ℯ  ⋅sin(x) + ℯ  ⋅cos(x), -2⋅ℯ  ⋅cos(x)⎠"
      ]
     },
     "execution_count": 8,
     "metadata": {},
     "output_type": "execute_result"
    }
   ],
   "source": [
    "x = sp.Symbol('x') \n",
    "y = sp.exp(-x)*sp.sin(x)\n",
    "sp.diff(y,x), sp.diff(y,x,2)"
   ]
  },
  {
   "cell_type": "markdown",
   "metadata": {},
   "source": [
    "4. *Cuadrados Integrables*"
   ]
  },
  {
   "cell_type": "markdown",
   "metadata": {},
   "source": [
    "<div class=\"alert alert-warning\">$$\\large \\int^{\\infty}_{0} |{\\frac{1}{x}}|^2dx$$"
   ]
  },
  {
   "cell_type": "code",
   "execution_count": 9,
   "metadata": {},
   "outputs": [
    {
     "data": {
      "image/png": "[encoded data removed]",
      "text/latex": [
       "$\\displaystyle \\infty$"
      ],
      "text/plain": [
       "∞"
      ]
     },
     "execution_count": 9,
     "metadata": {},
     "output_type": "execute_result"
    }
   ],
   "source": [
    "x, y, z, t, j = symbols('x y z t j')\n",
    "k, m, n = symbols('k m n', integer=True)\n",
    "f, g, h = symbols('f g h', cls=Function)\n",
    "\n",
    "sp.integrate((1/x)**2, (x, 0, oo))"
   ]
  },
  {
   "cell_type": "markdown",
   "metadata": {},
   "source": [
    "<div class=\"alert alert-warning\">$$\\large \\int^{\\infty}_{-\\infty} |e^{-|x|}|^2dx$$"
   ]
  },
  {
   "cell_type": "code",
   "execution_count": 10,
   "metadata": {},
   "outputs": [
    {
     "data": {
      "image/png": "[encoded data removed]",
      "text/latex": [
       "$\\displaystyle 1$"
      ],
      "text/plain": [
       "1"
      ]
     },
     "execution_count": 10,
     "metadata": {},
     "output_type": "execute_result"
    }
   ],
   "source": [
    "x, y, z, t, j = symbols('x y z t j')\n",
    "k, m, n = symbols('k m n', integer=True)\n",
    "f, g, h = symbols('f g h', cls=Function)\n",
    "\n",
    "sp.integrate((sp.exp(-abs(x)))**2, (x, -oo, +oo))"
   ]
  },
  {
   "cell_type": "markdown",
   "metadata": {},
   "source": [
    "<div class=\"alert alert-warning\">$$\\large \\int^{4\\pi}_{-4\\pi} |sen(x)|^2dx$$ "
   ]
  },
  {
   "cell_type": "code",
   "execution_count": 11,
   "metadata": {},
   "outputs": [
    {
     "data": {
      "image/png": "[encoded data removed]",
      "text/latex": [
       "$\\displaystyle 4 \\pi$"
      ],
      "text/plain": [
       "4⋅π"
      ]
     },
     "execution_count": 11,
     "metadata": {},
     "output_type": "execute_result"
    }
   ],
   "source": [
    "from sympy import *\n",
    "x, y, z, t, j = symbols('x y z t j')\n",
    "k, m, n = symbols('k m n', integer=True)\n",
    "f, g, h = symbols('f g h', cls=Function)\n",
    "\n",
    "sp.integrate((sp.sin(x))**2, (x, -4*pi, 4*pi))"
   ]
  },
  {
   "cell_type": "markdown",
   "metadata": {},
   "source": [
    "<div class=\"alert alert-warning\">$$\\large \\int^{\\infty}_{0} |e^{-x}|^2dx$$\n"
   ]
  },
  {
   "cell_type": "code",
   "execution_count": 12,
   "metadata": {},
   "outputs": [
    {
     "data": {
      "image/png": "[encoded data removed]",
      "text/latex": [
       "$\\displaystyle \\frac{1}{2}$"
      ],
      "text/plain": [
       "1/2"
      ]
     },
     "execution_count": 12,
     "metadata": {},
     "output_type": "execute_result"
    }
   ],
   "source": [
    "from sympy import *\n",
    "x, y, z, t, j = symbols('x y z t j')\n",
    "k, m, n = symbols('k m n', integer=True)\n",
    "f, g, h = symbols('f g h', cls=Function)\n",
    "\n",
    "sp.integrate((sp.exp(-x))**2, (x, 0, oo))"
   ]
  },
  {
   "cell_type": "markdown",
   "metadata": {},
   "source": [
    "<div class=\"alert alert-warning\">$$\\large \\int^{\\infty}_{0} |e^{-x}sen(x)|^2dx$$"
   ]
  },
  {
   "cell_type": "code",
   "execution_count": 13,
   "metadata": {},
   "outputs": [
    {
     "data": {
      "image/png": "[encoded data removed]",
      "text/latex": [
       "$\\displaystyle \\frac{1}{8}$"
      ],
      "text/plain": [
       "1/8"
      ]
     },
     "execution_count": 13,
     "metadata": {},
     "output_type": "execute_result"
    }
   ],
   "source": [
    "from sympy import *\n",
    "x, y, z, t, j = symbols('x y z t j')\n",
    "k, m, n = symbols('k m n', integer=True)\n",
    "f, g, h = symbols('f g h', cls=Function)\n",
    "\n",
    "sp.integrate((sp.exp(-x)*sp.sin(x))**2, (x, 0, oo))"
   ]
  },
  {
   "cell_type": "markdown",
   "metadata": {},
   "source": [
    "## **<font color=red> Explique adecuadamente (a la luz del postulado 1) los resultados matemáticos obtenidos!!**"
   ]
  },
  {
   "cell_type": "markdown",
   "metadata": {},
   "source": [
    "**2. *De las siguientes funciones, normalice aquellas en que la normalización sea posible:***"
   ]
  },
  {
   "cell_type": "markdown",
   "metadata": {},
   "source": [
    "<div class=\"alert alert-danger\" role=\"alert\">$$\\large \\int^{\\infty}_{0} |e^{-x}|^2dx=\\frac {1}{2}$$"
   ]
  },
  {
   "cell_type": "code",
   "execution_count": 14,
   "metadata": {},
   "outputs": [
    {
     "data": {
      "image/png": "[encoded data removed]",
      "text/latex": [
       "$\\displaystyle \\frac{1}{2}$"
      ],
      "text/plain": [
       "1/2"
      ]
     },
     "execution_count": 14,
     "metadata": {},
     "output_type": "execute_result"
    }
   ],
   "source": [
    "x, y, z, t, j = symbols('x y z t j')\n",
    "k, m, n = symbols('k m n', integer=True)\n",
    "f, g, h = symbols('f g h', cls=Function)\n",
    "\n",
    "sp.integrate((sp.exp(-x))**2, (x, 0, +oo))"
   ]
  },
  {
   "cell_type": "markdown",
   "metadata": {},
   "source": [
    "$N={\\sqrt(2)}$, entonces la función normalizada sería: $\\Psi=\\sqrt(2)e^{-x}$"
   ]
  },
  {
   "cell_type": "markdown",
   "metadata": {},
   "source": [
    "<div class=\"alert alert-danger\" role=\"alert\">$$\\large \\int^{\\infty}_{0} |e^{ix}|^2dx= 2\\pi$$"
   ]
  },
  {
   "cell_type": "code",
   "execution_count": 15,
   "metadata": {},
   "outputs": [
    {
     "data": {
      "image/png": "[encoded data removed]",
      "text/latex": [
       "$\\displaystyle \\int\\limits_{0}^{2 \\pi} 1\\, dtetha$"
      ],
      "text/plain": [
       "2⋅π           \n",
       " ⌠            \n",
       " ⎮  1 d(tetha)\n",
       " ⌡            \n",
       " 0            "
      ]
     },
     "execution_count": 15,
     "metadata": {},
     "output_type": "execute_result"
    }
   ],
   "source": [
    "tetha=Symbol('tetha')\n",
    "Y1=exp(I*tetha)\n",
    "Y1C=exp(-I*tetha)\n",
    "I1=Integral(Y1*Y1C,(tetha, 0, 2*pi))\n",
    "I1"
   ]
  },
  {
   "cell_type": "code",
   "execution_count": 16,
   "metadata": {},
   "outputs": [
    {
     "data": {
      "image/png": "[encoded data removed]",
      "text/latex": [
       "$\\displaystyle 2 \\pi$"
      ],
      "text/plain": [
       "2⋅π"
      ]
     },
     "execution_count": 16,
     "metadata": {},
     "output_type": "execute_result"
    }
   ],
   "source": [
    "I1.doit()"
   ]
  },
  {
   "cell_type": "markdown",
   "metadata": {},
   "source": [
    "$N=\\frac{1}{\\sqrt(2\\pi)}$, entonces la función normalizada sería: $\\Psi=\\frac{1}{\\sqrt(2\\pi)}e^{i\\theta}$"
   ]
  },
  {
   "cell_type": "markdown",
   "metadata": {},
   "source": [
    "<div class=\"alert alert-danger\" role=\"alert\">$$\\large \\int^{\\infty}_{0} |x e^{-x}|^2dx=\\frac {1}{4}$$"
   ]
  },
  {
   "cell_type": "code",
   "execution_count": 17,
   "metadata": {},
   "outputs": [
    {
     "data": {
      "image/png": "[encoded data removed]",
      "text/latex": [
       "$\\displaystyle \\frac{1}{4}$"
      ],
      "text/plain": [
       "1/4"
      ]
     },
     "execution_count": 17,
     "metadata": {},
     "output_type": "execute_result"
    }
   ],
   "source": [
    "x, y, z, t, j = symbols('x y z t j')\n",
    "k, m, n = symbols('k m n', integer=True)\n",
    "f, g, h = symbols('f g h', cls=Function)\n",
    "\n",
    "sp.integrate((x*sp.exp(-x))**2, (x, 0, +oo))"
   ]
  },
  {
   "cell_type": "markdown",
   "metadata": {},
   "source": [
    "$N=2$, entonces la función normalizada sería: $\\Psi=2(x)e^{-x}$"
   ]
  },
  {
   "cell_type": "markdown",
   "metadata": {},
   "source": [
    "**3. *La función de onda para una partícula en un sistema monodimensional definido entre $\\large x = 0$ y $\\large x = \\infty$, a $\\large t=0$ es $\\large \\Psi = \\sqrt{\\frac{2}{a}}e^{\\frac{-x}{a}}$ donde $\\large a$ es 1.0 nm. A $\\large t=0$ se mide la posición de la partícula.\n",
    "nm.***"
   ]
  },
  {
   "cell_type": "markdown",
   "metadata": {},
   "source": [
    "<div class=\"alert alert-info\" role=\"alert\"> a) Calcular la probabilidad de que la partícula se encuentre entre $\\large x=1.5000 nm$ y $\\large x=1.5001nm$"
   ]
  },
  {
   "cell_type": "code",
   "execution_count": 18,
   "metadata": {},
   "outputs": [
    {
     "data": {
      "image/png": "[encoded data removed]",
      "text/latex": [
       "$\\displaystyle \\int\\limits_{1.5}^{1.5001} 2.0 e^{- 2 x}\\, dx$"
      ],
      "text/plain": [
       "1.5001             \n",
       "  ⌠                \n",
       "  ⎮         -2⋅x   \n",
       "  ⎮    2.0⋅ℯ     dx\n",
       "  ⌡                \n",
       " 1.5               "
      ]
     },
     "execution_count": 18,
     "metadata": {},
     "output_type": "execute_result"
    }
   ],
   "source": [
    "x, a =symbols('x a')\n",
    "a=1\n",
    "Y2=(sqrt(2/a))*exp(-x/a)\n",
    "I2=Integral(Y2**2, (x, 1.5000, 1.5001))\n",
    "I2"
   ]
  },
  {
   "cell_type": "code",
   "execution_count": 19,
   "metadata": {},
   "outputs": [
    {
     "data": {
      "image/png": "[encoded data removed]",
      "text/latex": [
       "$\\displaystyle 9.9564179985856 \\cdot 10^{-6}$"
      ],
      "text/plain": [
       "9.95641799858560e-6"
      ]
     },
     "execution_count": 19,
     "metadata": {},
     "output_type": "execute_result"
    }
   ],
   "source": [
    "I2.doit()"
   ]
  },
  {
   "cell_type": "markdown",
   "metadata": {},
   "source": [
    "### **<font color=red> Explique o comente adecuadamente los resultados matemáticos obtenidos!!**"
   ]
  },
  {
   "cell_type": "markdown",
   "metadata": {},
   "source": [
    "<div class=\"alert alert-info\" role=\"alert\"> b) Calcular la probabilidad de que la partícula se encuentre entre $\\large x=0$ y $\\large x=2 nm$."
   ]
  },
  {
   "cell_type": "code",
   "execution_count": 20,
   "metadata": {},
   "outputs": [
    {
     "data": {
      "image/png": "[encoded data removed]",
      "text/latex": [
       "$\\displaystyle \\int\\limits_{0}^{2} 2.0 e^{- 2 x}\\, dx$"
      ],
      "text/plain": [
       "2             \n",
       "⌠             \n",
       "⎮      -2⋅x   \n",
       "⎮ 2.0⋅ℯ     dx\n",
       "⌡             \n",
       "0             "
      ]
     },
     "execution_count": 20,
     "metadata": {},
     "output_type": "execute_result"
    }
   ],
   "source": [
    "x, a =symbols('x a')\n",
    "a=1\n",
    "Y3=(sqrt(2/a))*exp(-x/a)\n",
    "I3=Integral(Y3**2, (x, 0, 2))\n",
    "I3"
   ]
  },
  {
   "cell_type": "code",
   "execution_count": 21,
   "metadata": {},
   "outputs": [
    {
     "data": {
      "image/png": "[encoded data removed]",
      "text/latex": [
       "$\\displaystyle 1.0 - \\frac{1.0}{e^{4}}$"
      ],
      "text/plain": [
       "           -4\n",
       "1.0 - 1.0⋅ℯ  "
      ]
     },
     "execution_count": 21,
     "metadata": {},
     "output_type": "execute_result"
    }
   ],
   "source": [
    "I3.doit()"
   ]
  },
  {
   "cell_type": "markdown",
   "metadata": {},
   "source": [
    "### **<font color=red> Expliquen el resultado!!!**"
   ]
  },
  {
   "cell_type": "markdown",
   "metadata": {},
   "source": [
    "<div class=\"alert alert-info\" role=\"alert\">c)\n",
    "Verifique que la función de onda está normalizada.\n"
   ]
  },
  {
   "cell_type": "code",
   "execution_count": 55,
   "metadata": {},
   "outputs": [
    {
     "data": {
      "image/png": "[encoded data removed]",
      "text/latex": [
       "$\\displaystyle \\int\\limits_{0}^{\\infty} 2.0 e^{- 2 x}\\, dx$"
      ],
      "text/plain": [
       "∞             \n",
       "⌠             \n",
       "⎮      -2⋅x   \n",
       "⎮ 2.0⋅ℯ     dx\n",
       "⌡             \n",
       "0             "
      ]
     },
     "execution_count": 55,
     "metadata": {},
     "output_type": "execute_result"
    }
   ],
   "source": [
    "x, a =symbols('x a')\n",
    "a=1\n",
    "Y4=(sqrt(2/a))*exp(-x/a)\n",
    "I4=Integral(Y4**2, (x, 0, oo))\n",
    "I4"
   ]
  },
  {
   "cell_type": "code",
   "execution_count": 56,
   "metadata": {},
   "outputs": [
    {
     "data": {
      "image/png": "[encoded data removed]",
      "text/latex": [
       "$\\displaystyle 1.0$"
      ],
      "text/plain": [
       "1.00000000000000"
      ]
     },
     "execution_count": 56,
     "metadata": {},
     "output_type": "execute_result"
    }
   ],
   "source": [
    "I4.doit()"
   ]
  },
  {
   "cell_type": "markdown",
   "metadata": {},
   "source": [
    "### **<font color=red>¿¿¿¿????**"
   ]
  },
  {
   "cell_type": "markdown",
   "metadata": {},
   "source": [
    "**4. *Indique cuál de los siguientes operadores es lineal:***"
   ]
  },
  {
   "cell_type": "markdown",
   "metadata": {},
   "source": [
    "<div class=\"alert alert-warning\">a) $\\large \\hat{A}f(x)=\\frac{df(x)}{dx}$ (derivada de $\\large f(x)$)"
   ]
  },
  {
   "cell_type": "markdown",
   "metadata": {},
   "source": [
    "<H1 align=\"center\">$\\large \\frac{d(f(x)+g(x))}{dx} = \\frac{df(x)}{dx} + \\frac{dg(x)}{dx}$ \n",
    "    <H1 align=\"center\">$\\large \\frac{d(cf(x))}{dx} = c\\frac{df(x)}{dx}$"
   ]
  },
  {
   "cell_type": "markdown",
   "metadata": {},
   "source": [
    "<font color= violet><H1 align=\"center\"> *operador lineal* </H1>"
   ]
  },
  {
   "cell_type": "markdown",
   "metadata": {},
   "source": [
    "<div class=\"alert alert-warning\">b) $\\large \\hat{A}f(x)=f^*(x)$ (forma la compleja conjugada de $\\large f(x)$)"
   ]
  },
  {
   "cell_type": "markdown",
   "metadata": {},
   "source": [
    "<H1 align=\"center\">$ f(x)= \\alpha + {\\beta}i, f^*(x)=\\alpha - {\\beta}i$\n",
    "    <H1 align=\"center\">$ g(x)= \\chi + {\\kappa}i, g^*(x)=\\chi - {\\kappa}i$\n",
    "        <H1 align=\"center\">$ \\large f^*(x) + g^*(x) = (f(x) + g(x))^*$"
   ]
  },
  {
   "cell_type": "markdown",
   "metadata": {},
   "source": [
    "<font color= violet><H1 align=\"center\"> *operador lineal* </H1>\n",
    "\n",
    "**<font color=red> No es correcto!!!$**"
   ]
  },
  {
   "cell_type": "markdown",
   "metadata": {},
   "source": [
    "<div class=\"alert alert-warning\">c) $\\large \\hat{A}f(x)=ln f(x)$ (toma el logaritmo de $\\large f(x)$)\n",
    " \n",
    "    "
   ]
  },
  {
   "cell_type": "markdown",
   "metadata": {},
   "source": [
    "<H1 align=\"center\"> $\\large ln f(x) + ln g(x)= ln((f(x)(g(x)))$ \n",
    "    "
   ]
  },
  {
   "cell_type": "markdown",
   "metadata": {},
   "source": [
    "## **<font color=red> ????**"
   ]
  },
  {
   "cell_type": "markdown",
   "metadata": {},
   "source": [
    "<div class=\"alert alert-warning\">d) $\\large \\hat{A}f(x)= \\int f(x)dx$ (f (integral de $\\large f(x)$)"
   ]
  },
  {
   "cell_type": "markdown",
   "metadata": {},
   "source": [
    "<H1 align=\"center\"> $\\large \\int[f(x) + g(x)]dx = \\int f(x)dx + \\int g(x)dx$"
   ]
  },
  {
   "cell_type": "markdown",
   "metadata": {},
   "source": [
    "<font color= violet><H1 align=\"center\"> *operador lineal* </H1>"
   ]
  },
  {
   "cell_type": "markdown",
   "metadata": {},
   "source": [
    "**5. *a) Cuál de las siguientes funciones es autofunción del operador $\\large d/dx$:***\n",
    "* $\\large e^{ikx}$\n",
    "* $\\large cos(kx)$  \n",
    "* $\\large k$\n",
    "* $\\large kx$ \n",
    "* $\\large e^{−ax^{2}}$\n",
    "\n",
    "***¿Cuáles son sus autovalores?***"
   ]
  },
  {
   "cell_type": "markdown",
   "metadata": {},
   "source": [
    "* $\\large e^{ikx}$ *Si es función propia y su autovalor es ik*"
   ]
  },
  {
   "cell_type": "code",
   "execution_count": 22,
   "metadata": {
    "scrolled": true
   },
   "outputs": [
    {
     "data": {
      "image/png": "[encoded data removed]",
      "text/latex": [
       "$\\displaystyle i k e^{i k x}$"
      ],
      "text/plain": [
       "     ⅈ⋅k⋅x\n",
       "ⅈ⋅k⋅ℯ     "
      ]
     },
     "execution_count": 22,
     "metadata": {},
     "output_type": "execute_result"
    }
   ],
   "source": [
    "diff(exp(1*I*k*x),x)"
   ]
  },
  {
   "cell_type": "markdown",
   "metadata": {},
   "source": [
    "* $\\large cos(kx)$ *No es una función propia*"
   ]
  },
  {
   "cell_type": "code",
   "execution_count": 23,
   "metadata": {},
   "outputs": [
    {
     "data": {
      "image/png": "[encoded data removed]",
      "text/latex": [
       "$\\displaystyle - k \\sin{\\left(k x \\right)}$"
      ],
      "text/plain": [
       "-k⋅sin(k⋅x)"
      ]
     },
     "execution_count": 23,
     "metadata": {},
     "output_type": "execute_result"
    }
   ],
   "source": [
    "diff(cos(k*x),x)"
   ]
  },
  {
   "cell_type": "markdown",
   "metadata": {},
   "source": [
    "* $\\large k$ *Si es una función propia y su autovalor es 0*"
   ]
  },
  {
   "cell_type": "code",
   "execution_count": 24,
   "metadata": {},
   "outputs": [
    {
     "data": {
      "image/png": "[encoded data removed]",
      "text/latex": [
       "$\\displaystyle 0$"
      ],
      "text/plain": [
       "0"
      ]
     },
     "execution_count": 24,
     "metadata": {},
     "output_type": "execute_result"
    }
   ],
   "source": [
    "diff(k,x)"
   ]
  },
  {
   "cell_type": "markdown",
   "metadata": {},
   "source": [
    "* $\\large kx$ *No es una función propia*"
   ]
  },
  {
   "cell_type": "code",
   "execution_count": 25,
   "metadata": {},
   "outputs": [
    {
     "data": {
      "image/png": "[encoded data removed]",
      "text/latex": [
       "$\\displaystyle k$"
      ],
      "text/plain": [
       "k"
      ]
     },
     "execution_count": 25,
     "metadata": {},
     "output_type": "execute_result"
    }
   ],
   "source": [
    "diff(k*x,x)"
   ]
  },
  {
   "cell_type": "markdown",
   "metadata": {},
   "source": [
    "* $\\large e^{−ax^{2}}$ *No es una función propia*"
   ]
  },
  {
   "cell_type": "code",
   "execution_count": 26,
   "metadata": {},
   "outputs": [
    {
     "data": {
      "image/png": "[encoded data removed]",
      "text/latex": [
       "$\\displaystyle - 2 x e^{- x^{2}}$"
      ],
      "text/plain": [
       "        2\n",
       "      -x \n",
       "-2⋅x⋅ℯ   "
      ]
     },
     "execution_count": 26,
     "metadata": {},
     "output_type": "execute_result"
    }
   ],
   "source": [
    "diff(exp(-a*x**2),x)"
   ]
  },
  {
   "cell_type": "markdown",
   "metadata": {},
   "source": [
    "***b) Determine cuáles de las funciones anteriores es también autofunción del operador $\\large \\frac{d^2}{dx^2}$ y dé los autovalores correspondientes.***"
   ]
  },
  {
   "cell_type": "markdown",
   "metadata": {},
   "source": [
    "* $\\large e^{ikx}$ *Si es función propia y su autovalor es $-k^2$*"
   ]
  },
  {
   "cell_type": "code",
   "execution_count": 27,
   "metadata": {},
   "outputs": [
    {
     "data": {
      "image/png": "[encoded data removed]",
      "text/latex": [
       "$\\displaystyle - k^{2} e^{i k x}$"
      ],
      "text/plain": [
       "  2  ⅈ⋅k⋅x\n",
       "-k ⋅ℯ     "
      ]
     },
     "execution_count": 27,
     "metadata": {},
     "output_type": "execute_result"
    }
   ],
   "source": [
    "diff(exp(1*I*k*x),x,2) "
   ]
  },
  {
   "cell_type": "markdown",
   "metadata": {},
   "source": [
    "* $\\large cos(kx)$ *Si es una función propia y su autovalor es $-k^2$*"
   ]
  },
  {
   "cell_type": "code",
   "execution_count": 28,
   "metadata": {},
   "outputs": [
    {
     "data": {
      "image/png": "[encoded data removed]",
      "text/latex": [
       "$\\displaystyle - k^{2} \\cos{\\left(k x \\right)}$"
      ],
      "text/plain": [
       "  2         \n",
       "-k ⋅cos(k⋅x)"
      ]
     },
     "execution_count": 28,
     "metadata": {},
     "output_type": "execute_result"
    }
   ],
   "source": [
    "diff(cos(k*x),x,2) "
   ]
  },
  {
   "cell_type": "markdown",
   "metadata": {},
   "source": [
    "* $\\large k$ *Si es una función propia y su autovalor es 0*"
   ]
  },
  {
   "cell_type": "code",
   "execution_count": 29,
   "metadata": {},
   "outputs": [
    {
     "data": {
      "image/png": "[encoded data removed]",
      "text/latex": [
       "$\\displaystyle 0$"
      ],
      "text/plain": [
       "0"
      ]
     },
     "execution_count": 29,
     "metadata": {},
     "output_type": "execute_result"
    }
   ],
   "source": [
    "diff(k,x,2)"
   ]
  },
  {
   "cell_type": "markdown",
   "metadata": {},
   "source": [
    "* $\\large kx$ *Si es una función propia y su autovalor es 0*"
   ]
  },
  {
   "cell_type": "code",
   "execution_count": 30,
   "metadata": {},
   "outputs": [
    {
     "data": {
      "image/png": "[encoded data removed]",
      "text/latex": [
       "$\\displaystyle 0$"
      ],
      "text/plain": [
       "0"
      ]
     },
     "execution_count": 30,
     "metadata": {},
     "output_type": "execute_result"
    }
   ],
   "source": [
    "diff(k*x,x,2)"
   ]
  },
  {
   "cell_type": "markdown",
   "metadata": {},
   "source": [
    "* $\\large e^{−ax^{2}}$ *No es una función propia*"
   ]
  },
  {
   "cell_type": "code",
   "execution_count": 31,
   "metadata": {},
   "outputs": [
    {
     "data": {
      "image/png": "[encoded data removed]",
      "text/latex": [
       "$\\displaystyle 2 \\left(2 x^{2} - 1\\right) e^{- x^{2}}$"
      ],
      "text/plain": [
       "                2\n",
       "  ⎛   2    ⎞  -x \n",
       "2⋅⎝2⋅x  - 1⎠⋅ℯ   "
      ]
     },
     "execution_count": 31,
     "metadata": {},
     "output_type": "execute_result"
    }
   ],
   "source": [
    "diff(exp(-a*x**2),x,2)"
   ]
  },
  {
   "cell_type": "markdown",
   "metadata": {},
   "source": [
    "**6. *Halle los conmutadores siguientes:***"
   ]
  },
  {
   "cell_type": "markdown",
   "metadata": {},
   "source": [
    "<div class=\"alert alert-danger\" role=\"alert\"><H1 align=\"center\"> $\\large [\\hat{x}^2,\\frac{d^2}{dx^2}] =-4x\\frac{d}{dx}-2 $"
   ]
  },
  {
   "cell_type": "code",
   "execution_count": 32,
   "metadata": {},
   "outputs": [
    {
     "data": {
      "image/png": "[encoded data removed]",
      "text/latex": [
       "$\\displaystyle f{\\left(x \\right)}$"
      ],
      "text/plain": [
       "f(x)"
      ]
     },
     "execution_count": 32,
     "metadata": {},
     "output_type": "execute_result"
    }
   ],
   "source": [
    "x =symbols ('x')\n",
    "f=Function('f')(x)\n",
    "f"
   ]
  },
  {
   "cell_type": "code",
   "execution_count": 33,
   "metadata": {},
   "outputs": [
    {
     "data": {
      "image/png": "[encoded data removed]",
      "text/latex": [
       "$\\displaystyle x^{2} \\frac{d^{2}}{d x^{2}} f{\\left(x \\right)}$"
      ],
      "text/plain": [
       "     2      \n",
       " 2  d       \n",
       "x ⋅───(f(x))\n",
       "     2      \n",
       "   dx       "
      ]
     },
     "execution_count": 33,
     "metadata": {},
     "output_type": "execute_result"
    }
   ],
   "source": [
    "D1=x**2*Derivative(f,x,2)\n",
    "D1"
   ]
  },
  {
   "cell_type": "code",
   "execution_count": 34,
   "metadata": {},
   "outputs": [
    {
     "data": {
      "image/png": "[encoded data removed]",
      "text/latex": [
       "$\\displaystyle \\frac{d^{2}}{d x^{2}} x^{2} f{\\left(x \\right)}$"
      ],
      "text/plain": [
       "  2         \n",
       " d ⎛ 2     ⎞\n",
       "───⎝x ⋅f(x)⎠\n",
       "  2         \n",
       "dx          "
      ]
     },
     "execution_count": 34,
     "metadata": {},
     "output_type": "execute_result"
    }
   ],
   "source": [
    "D2=Derivative(x**2*f,x,2)\n",
    "D2"
   ]
  },
  {
   "cell_type": "code",
   "execution_count": 35,
   "metadata": {},
   "outputs": [
    {
     "data": {
      "image/png": "[encoded data removed]",
      "text/latex": [
       "$\\displaystyle x^{2} \\frac{d^{2}}{d x^{2}} f{\\left(x \\right)}$"
      ],
      "text/plain": [
       "     2      \n",
       " 2  d       \n",
       "x ⋅───(f(x))\n",
       "     2      \n",
       "   dx       "
      ]
     },
     "execution_count": 35,
     "metadata": {},
     "output_type": "execute_result"
    }
   ],
   "source": [
    "D3=D1.doit()\n",
    "D3"
   ]
  },
  {
   "cell_type": "code",
   "execution_count": 36,
   "metadata": {},
   "outputs": [
    {
     "data": {
      "image/png": "[encoded data removed]",
      "text/latex": [
       "$\\displaystyle x^{2} \\frac{d^{2}}{d x^{2}} f{\\left(x \\right)} + 4 x \\frac{d}{d x} f{\\left(x \\right)} + 2 f{\\left(x \\right)}$"
      ],
      "text/plain": [
       "     2                              \n",
       " 2  d              d                \n",
       "x ⋅───(f(x)) + 4⋅x⋅──(f(x)) + 2⋅f(x)\n",
       "     2             dx               \n",
       "   dx                               "
      ]
     },
     "execution_count": 36,
     "metadata": {},
     "output_type": "execute_result"
    }
   ],
   "source": [
    "D4=D2.doit()\n",
    "D4"
   ]
  },
  {
   "cell_type": "code",
   "execution_count": 37,
   "metadata": {},
   "outputs": [
    {
     "data": {
      "image/png": "[encoded data removed]",
      "text/latex": [
       "$\\displaystyle - 4 x \\frac{d}{d x} f{\\left(x \\right)} - 2 f{\\left(x \\right)}$"
      ],
      "text/plain": [
       "      d                \n",
       "- 4⋅x⋅──(f(x)) - 2⋅f(x)\n",
       "      dx               "
      ]
     },
     "execution_count": 37,
     "metadata": {},
     "output_type": "execute_result"
    }
   ],
   "source": [
    "D3-D4"
   ]
  },
  {
   "cell_type": "code",
   "execution_count": 38,
   "metadata": {},
   "outputs": [
    {
     "data": {
      "image/png": "[encoded data removed]",
      "text/latex": [
       "$\\displaystyle - 4 x \\frac{d}{d x} f{\\left(x \\right)} - 2 f{\\left(x \\right)}$"
      ],
      "text/plain": [
       "      d                \n",
       "- 4⋅x⋅──(f(x)) - 2⋅f(x)\n",
       "      dx               "
      ]
     },
     "execution_count": 38,
     "metadata": {},
     "output_type": "execute_result"
    }
   ],
   "source": [
    "simplify(D3-D4)"
   ]
  },
  {
   "cell_type": "markdown",
   "metadata": {},
   "source": [
    "<div class=\"alert alert-danger\" role=\"alert\"><H1 align=\"center\"> $\\large [\\hat{x},\\hat{p}_x] = i\\hbar$"
   ]
  },
  {
   "cell_type": "code",
   "execution_count": 39,
   "metadata": {},
   "outputs": [
    {
     "data": {
      "image/png": "[encoded data removed]",
      "text/latex": [
       "$\\displaystyle f{\\left(x \\right)}$"
      ],
      "text/plain": [
       "f(x)"
      ]
     },
     "execution_count": 39,
     "metadata": {},
     "output_type": "execute_result"
    }
   ],
   "source": [
    "x, hbar=symbols('x hbar')\n",
    "f=Function('f')(x)\n",
    "f "
   ]
  },
  {
   "cell_type": "code",
   "execution_count": 40,
   "metadata": {},
   "outputs": [
    {
     "data": {
      "image/png": "[encoded data removed]",
      "text/latex": [
       "$\\displaystyle - i \\hbar x \\frac{d}{d x} f{\\left(x \\right)}$"
      ],
      "text/plain": [
       "       d       \n",
       "-ⅈ⋅h̅⋅x⋅──(f(x))\n",
       "       dx      "
      ]
     },
     "execution_count": 40,
     "metadata": {},
     "output_type": "execute_result"
    }
   ],
   "source": [
    "c1=(-I*hbar)*x*Derivative(f,x)\n",
    "c1"
   ]
  },
  {
   "cell_type": "code",
   "execution_count": 41,
   "metadata": {},
   "outputs": [
    {
     "data": {
      "image/png": "[encoded data removed]",
      "text/latex": [
       "$\\displaystyle - i \\hbar \\frac{d}{d x} x f{\\left(x \\right)}$"
      ],
      "text/plain": [
       "     d         \n",
       "-ⅈ⋅h̅⋅──(x⋅f(x))\n",
       "     dx        "
      ]
     },
     "execution_count": 41,
     "metadata": {},
     "output_type": "execute_result"
    }
   ],
   "source": [
    "c2=(-I*hbar)*Derivative(x*f,x)\n",
    "c2"
   ]
  },
  {
   "cell_type": "code",
   "execution_count": 42,
   "metadata": {},
   "outputs": [
    {
     "data": {
      "image/png": "[encoded data removed]",
      "text/latex": [
       "$\\displaystyle - i \\hbar x \\frac{d}{d x} f{\\left(x \\right)}$"
      ],
      "text/plain": [
       "       d       \n",
       "-ⅈ⋅h̅⋅x⋅──(f(x))\n",
       "       dx      "
      ]
     },
     "execution_count": 42,
     "metadata": {},
     "output_type": "execute_result"
    }
   ],
   "source": [
    "c3=c1.doit()\n",
    "c3"
   ]
  },
  {
   "cell_type": "code",
   "execution_count": 43,
   "metadata": {},
   "outputs": [
    {
     "data": {
      "image/png": "[encoded data removed]",
      "text/latex": [
       "$\\displaystyle - i \\hbar \\left(x \\frac{d}{d x} f{\\left(x \\right)} + f{\\left(x \\right)}\\right)$"
      ],
      "text/plain": [
       "     ⎛  d              ⎞\n",
       "-ⅈ⋅h̅⋅⎜x⋅──(f(x)) + f(x)⎟\n",
       "     ⎝  dx             ⎠"
      ]
     },
     "execution_count": 43,
     "metadata": {},
     "output_type": "execute_result"
    }
   ],
   "source": [
    "c4=c2.doit()\n",
    "c4"
   ]
  },
  {
   "cell_type": "code",
   "execution_count": 44,
   "metadata": {},
   "outputs": [
    {
     "data": {
      "image/png": "[encoded data removed]",
      "text/latex": [
       "$\\displaystyle - i \\hbar x \\frac{d}{d x} f{\\left(x \\right)} + i \\hbar \\left(x \\frac{d}{d x} f{\\left(x \\right)} + f{\\left(x \\right)}\\right)$"
      ],
      "text/plain": [
       "        d              ⎛  d              ⎞\n",
       "- ⅈ⋅h̅⋅x⋅──(f(x)) + ⅈ⋅h̅⋅⎜x⋅──(f(x)) + f(x)⎟\n",
       "        dx             ⎝  dx             ⎠"
      ]
     },
     "execution_count": 44,
     "metadata": {},
     "output_type": "execute_result"
    }
   ],
   "source": [
    "c3-c4"
   ]
  },
  {
   "cell_type": "code",
   "execution_count": 45,
   "metadata": {},
   "outputs": [
    {
     "data": {
      "image/png": "[encoded data removed]",
      "text/latex": [
       "$\\displaystyle i \\hbar f{\\left(x \\right)}$"
      ],
      "text/plain": [
       "ⅈ⋅h̅⋅f(x)"
      ]
     },
     "execution_count": 45,
     "metadata": {},
     "output_type": "execute_result"
    }
   ],
   "source": [
    "simplify(c3-c4)"
   ]
  },
  {
   "cell_type": "markdown",
   "metadata": {},
   "source": [
    "<div class=\"alert alert-danger\" role=\"alert\"><H1 align=\"center\"> $\\large [\\hat{p}_x,\\hat{H}_x] = -i\\hbar \\frac{d}{dx} v(x) $"
   ]
  },
  {
   "cell_type": "code",
   "execution_count": 46,
   "metadata": {},
   "outputs": [
    {
     "data": {
      "image/png": "[encoded data removed]",
      "text/latex": [
       "$\\displaystyle f{\\left(x \\right)}$"
      ],
      "text/plain": [
       "f(x)"
      ]
     },
     "execution_count": 46,
     "metadata": {},
     "output_type": "execute_result"
    }
   ],
   "source": [
    "x, hbar, m =symbols('x hbar m')\n",
    "f=Function('f')(x)\n",
    "f"
   ]
  },
  {
   "cell_type": "code",
   "execution_count": 47,
   "metadata": {},
   "outputs": [
    {
     "data": {
      "image/png": "[encoded data removed]",
      "text/latex": [
       "$\\displaystyle v{\\left(x \\right)}$"
      ],
      "text/plain": [
       "v(x)"
      ]
     },
     "execution_count": 47,
     "metadata": {},
     "output_type": "execute_result"
    }
   ],
   "source": [
    "v=Function('v')(x)\n",
    "v"
   ]
  },
  {
   "cell_type": "code",
   "execution_count": 48,
   "metadata": {},
   "outputs": [
    {
     "data": {
      "image/png": "[encoded data removed]",
      "text/latex": [
       "$\\displaystyle - \\frac{\\hbar^{2}}{2 m}$"
      ],
      "text/plain": [
       "  2 \n",
       "-h̅  \n",
       "────\n",
       "2⋅m "
      ]
     },
     "execution_count": 48,
     "metadata": {},
     "output_type": "execute_result"
    }
   ],
   "source": [
    "R1=(-hbar**2/(2*m))\n",
    "R1"
   ]
  },
  {
   "cell_type": "code",
   "execution_count": 49,
   "metadata": {},
   "outputs": [
    {
     "data": {
      "image/png": "[encoded data removed]",
      "text/latex": [
       "$\\displaystyle \\frac{d^{2}}{d x^{2}} f{\\left(x \\right)}$"
      ],
      "text/plain": [
       "  2      \n",
       " d       \n",
       "───(f(x))\n",
       "  2      \n",
       "dx       "
      ]
     },
     "execution_count": 49,
     "metadata": {},
     "output_type": "execute_result"
    }
   ],
   "source": [
    "R2=Derivative(f,x,x)\n",
    "R2"
   ]
  },
  {
   "cell_type": "code",
   "execution_count": 50,
   "metadata": {},
   "outputs": [
    {
     "data": {
      "image/png": "[encoded data removed]",
      "text/latex": [
       "$\\displaystyle f{\\left(x \\right)} v{\\left(x \\right)}$"
      ],
      "text/plain": [
       "f(x)⋅v(x)"
      ]
     },
     "execution_count": 50,
     "metadata": {},
     "output_type": "execute_result"
    }
   ],
   "source": [
    "R3=v*f\n",
    "R3"
   ]
  },
  {
   "cell_type": "code",
   "execution_count": 51,
   "metadata": {},
   "outputs": [
    {
     "data": {
      "image/png": "[encoded data removed]",
      "text/latex": [
       "$\\displaystyle f{\\left(x \\right)} \\frac{d}{d x} v{\\left(x \\right)} + v{\\left(x \\right)} \\frac{d}{d x} f{\\left(x \\right)}$"
      ],
      "text/plain": [
       "     d               d       \n",
       "f(x)⋅──(v(x)) + v(x)⋅──(f(x))\n",
       "     dx              dx      "
      ]
     },
     "execution_count": 51,
     "metadata": {},
     "output_type": "execute_result"
    }
   ],
   "source": [
    "R4=Derivative(R3,x)\n",
    "R5=simplify(R4)\n",
    "R5"
   ]
  },
  {
   "cell_type": "code",
   "execution_count": 52,
   "metadata": {},
   "outputs": [
    {
     "data": {
      "image/png": "[encoded data removed]",
      "text/latex": [
       "$\\displaystyle - i \\hbar \\left(- \\frac{\\hbar^{2} \\frac{d^{3}}{d x^{3}} f{\\left(x \\right)}}{2 m} + f{\\left(x \\right)} \\frac{d}{d x} v{\\left(x \\right)} + v{\\left(x \\right)} \\frac{d}{d x} f{\\left(x \\right)}\\right)$"
      ],
      "text/plain": [
       "     ⎛       3                                      ⎞\n",
       "     ⎜   2  d                                       ⎟\n",
       "     ⎜  h̅ ⋅───(f(x))                                ⎟\n",
       "     ⎜       3                                      ⎟\n",
       "     ⎜     dx               d               d       ⎟\n",
       "-ⅈ⋅h̅⋅⎜- ──────────── + f(x)⋅──(v(x)) + v(x)⋅──(f(x))⎟\n",
       "     ⎝      2⋅m             dx              dx      ⎠"
      ]
     },
     "execution_count": 52,
     "metadata": {},
     "output_type": "execute_result"
    }
   ],
   "source": [
    "R6=(-I*hbar)*(-(hbar)**2/(2*m)*Derivative(R2,x)+R5)\n",
    "R6"
   ]
  },
  {
   "cell_type": "code",
   "execution_count": 53,
   "metadata": {},
   "outputs": [
    {
     "data": {
      "image/png": "[encoded data removed]",
      "text/latex": [
       "$\\displaystyle \\frac{d}{d x} f{\\left(x \\right)}$"
      ],
      "text/plain": [
       "d       \n",
       "──(f(x))\n",
       "dx      "
      ]
     },
     "execution_count": 53,
     "metadata": {},
     "output_type": "execute_result"
    }
   ],
   "source": [
    "R7=Derivative(f,x)\n",
    "R7"
   ]
  },
  {
   "cell_type": "code",
   "execution_count": 54,
   "metadata": {},
   "outputs": [
    {
     "data": {
      "image/png": "[encoded data removed]",
      "text/latex": [
       "$\\displaystyle - \\frac{\\hbar^{2} \\frac{d^{3}}{d x^{3}} f{\\left(x \\right)}}{2 m} + v{\\left(x \\right)} \\frac{d}{d x} f{\\left(x \\right)}$"
      ],
      "text/plain": [
       "       3                      \n",
       "   2  d                       \n",
       "  h̅ ⋅───(f(x))                \n",
       "       3                      \n",
       "     dx               d       \n",
       "- ──────────── + v(x)⋅──(f(x))\n",
       "      2⋅m             dx      "
      ]
     },
     "execution_count": 54,
     "metadata": {},
     "output_type": "execute_result"
    }
   ],
   "source": [
    "R8=(-(hbar)**2/(2*m))*Derivative(R7,x,x)+(v*Derivative(f,x))\n",
    "R8"
   ]
  },
  {
   "cell_type": "code",
   "execution_count": 55,
   "metadata": {},
   "outputs": [
    {
     "data": {
      "image/png": "[encoded data removed]",
      "text/latex": [
       "$\\displaystyle - i \\hbar \\left(- \\frac{\\hbar^{2} \\frac{d^{3}}{d x^{3}} f{\\left(x \\right)}}{2 m} + v{\\left(x \\right)} \\frac{d}{d x} f{\\left(x \\right)}\\right)$"
      ],
      "text/plain": [
       "     ⎛       3                      ⎞\n",
       "     ⎜   2  d                       ⎟\n",
       "     ⎜  h̅ ⋅───(f(x))                ⎟\n",
       "     ⎜       3                      ⎟\n",
       "     ⎜     dx               d       ⎟\n",
       "-ⅈ⋅h̅⋅⎜- ──────────── + v(x)⋅──(f(x))⎟\n",
       "     ⎝      2⋅m             dx      ⎠"
      ]
     },
     "execution_count": 55,
     "metadata": {},
     "output_type": "execute_result"
    }
   ],
   "source": [
    "R9=(-I*hbar)*R8\n",
    "R9"
   ]
  },
  {
   "cell_type": "code",
   "execution_count": 56,
   "metadata": {},
   "outputs": [
    {
     "data": {
      "image/png": "[encoded data removed]",
      "text/latex": [
       "$\\displaystyle - i \\hbar f{\\left(x \\right)} \\frac{d}{d x} v{\\left(x \\right)}$"
      ],
      "text/plain": [
       "          d       \n",
       "-ⅈ⋅h̅⋅f(x)⋅──(v(x))\n",
       "          dx      "
      ]
     },
     "execution_count": 56,
     "metadata": {},
     "output_type": "execute_result"
    }
   ],
   "source": [
    "simplify(R6-R9)\n"
   ]
  },
  {
   "cell_type": "markdown",
   "metadata": {},
   "source": [
    "**7. *Calcule $\\large [\\hat{x}^2,\\frac{d^2}{dx^2}](e^{x^2}+cos(2x))=-8x(xe^{x^2}-sin(2x))-2e^{x^2}-2cos(2x)$***"
   ]
  },
  {
   "cell_type": "code",
   "execution_count": 57,
   "metadata": {},
   "outputs": [
    {
     "data": {
      "image/png": "[encoded data removed]",
      "text/latex": [
       "$\\displaystyle e^{x^{2}} + \\cos{\\left(2 x \\right)}$"
      ],
      "text/plain": [
       " ⎛ 2⎞           \n",
       " ⎝x ⎠           \n",
       "ℯ     + cos(2⋅x)"
      ]
     },
     "execution_count": 57,
     "metadata": {},
     "output_type": "execute_result"
    }
   ],
   "source": [
    "x =symbols ('x')\n",
    "f= exp(x**2)+cos(2*x)\n",
    "f"
   ]
  },
  {
   "cell_type": "code",
   "execution_count": 58,
   "metadata": {},
   "outputs": [
    {
     "data": {
      "image/png": "[encoded data removed]",
      "text/latex": [
       "$\\displaystyle x^{2} \\frac{d^{2}}{d x^{2}} \\left(e^{x^{2}} + \\cos{\\left(2 x \\right)}\\right)$"
      ],
      "text/plain": [
       "     2⎛ ⎛ 2⎞           ⎞\n",
       " 2  d ⎜ ⎝x ⎠           ⎟\n",
       "x ⋅───⎝ℯ     + cos(2⋅x)⎠\n",
       "     2                  \n",
       "   dx                   "
      ]
     },
     "execution_count": 58,
     "metadata": {},
     "output_type": "execute_result"
    }
   ],
   "source": [
    "Y1=x**2*Derivative(f,x,2)\n",
    "Y1"
   ]
  },
  {
   "cell_type": "code",
   "execution_count": 59,
   "metadata": {},
   "outputs": [
    {
     "data": {
      "image/png": "[encoded data removed]",
      "text/latex": [
       "$\\displaystyle \\frac{d^{2}}{d x^{2}} x^{2} \\left(e^{x^{2}} + \\cos{\\left(2 x \\right)}\\right)$"
      ],
      "text/plain": [
       "  2⎛   ⎛ ⎛ 2⎞           ⎞⎞\n",
       " d ⎜ 2 ⎜ ⎝x ⎠           ⎟⎟\n",
       "───⎝x ⋅⎝ℯ     + cos(2⋅x)⎠⎠\n",
       "  2                       \n",
       "dx                        "
      ]
     },
     "execution_count": 59,
     "metadata": {},
     "output_type": "execute_result"
    }
   ],
   "source": [
    "Y2=Derivative(x**2*f,x,2)\n",
    "Y2"
   ]
  },
  {
   "cell_type": "code",
   "execution_count": 60,
   "metadata": {},
   "outputs": [
    {
     "data": {
      "image/png": "[encoded data removed]",
      "text/latex": [
       "$\\displaystyle 2 x^{2} \\left(2 x^{2} e^{x^{2}} + e^{x^{2}} - 2 \\cos{\\left(2 x \\right)}\\right)$"
      ],
      "text/plain": [
       "     ⎛      ⎛ 2⎞    ⎛ 2⎞             ⎞\n",
       "   2 ⎜   2  ⎝x ⎠    ⎝x ⎠             ⎟\n",
       "2⋅x ⋅⎝2⋅x ⋅ℯ     + ℯ     - 2⋅cos(2⋅x)⎠"
      ]
     },
     "execution_count": 60,
     "metadata": {},
     "output_type": "execute_result"
    }
   ],
   "source": [
    "Y3=Y1.doit()\n",
    "Y3"
   ]
  },
  {
   "cell_type": "code",
   "execution_count": 61,
   "metadata": {},
   "outputs": [
    {
     "data": {
      "image/png": "[encoded data removed]",
      "text/latex": [
       "$\\displaystyle 2 \\left(x^{2} \\left(2 x^{2} e^{x^{2}} + e^{x^{2}} - 2 \\cos{\\left(2 x \\right)}\\right) + 4 x \\left(x e^{x^{2}} - \\sin{\\left(2 x \\right)}\\right) + e^{x^{2}} + \\cos{\\left(2 x \\right)}\\right)$"
      ],
      "text/plain": [
       "  ⎛   ⎛      ⎛ 2⎞    ⎛ 2⎞             ⎞       ⎛   ⎛ 2⎞           ⎞    ⎛ 2⎞    \n",
       "  ⎜ 2 ⎜   2  ⎝x ⎠    ⎝x ⎠             ⎟       ⎜   ⎝x ⎠           ⎟    ⎝x ⎠    \n",
       "2⋅⎝x ⋅⎝2⋅x ⋅ℯ     + ℯ     - 2⋅cos(2⋅x)⎠ + 4⋅x⋅⎝x⋅ℯ     - sin(2⋅x)⎠ + ℯ     + c\n",
       "\n",
       "       ⎞\n",
       "       ⎟\n",
       "os(2⋅x)⎠"
      ]
     },
     "execution_count": 61,
     "metadata": {},
     "output_type": "execute_result"
    }
   ],
   "source": [
    "Y4=Y2.doit()\n",
    "Y4"
   ]
  },
  {
   "cell_type": "code",
   "execution_count": 62,
   "metadata": {},
   "outputs": [
    {
     "data": {
      "image/png": "[encoded data removed]",
      "text/latex": [
       "$\\displaystyle 2 x^{2} \\left(2 x^{2} e^{x^{2}} + e^{x^{2}} - 2 \\cos{\\left(2 x \\right)}\\right) - 2 \\left(x^{2} \\left(2 x^{2} e^{x^{2}} + e^{x^{2}} - 2 \\cos{\\left(2 x \\right)}\\right) + 4 x \\left(x e^{x^{2}} - \\sin{\\left(2 x \\right)}\\right) + e^{x^{2}} + \\cos{\\left(2 x \\right)}\\right)$"
      ],
      "text/plain": [
       "     ⎛      ⎛ 2⎞    ⎛ 2⎞             ⎞     ⎛   ⎛      ⎛ 2⎞    ⎛ 2⎞            \n",
       "   2 ⎜   2  ⎝x ⎠    ⎝x ⎠             ⎟     ⎜ 2 ⎜   2  ⎝x ⎠    ⎝x ⎠            \n",
       "2⋅x ⋅⎝2⋅x ⋅ℯ     + ℯ     - 2⋅cos(2⋅x)⎠ - 2⋅⎝x ⋅⎝2⋅x ⋅ℯ     + ℯ     - 2⋅cos(2⋅x\n",
       "\n",
       " ⎞       ⎛   ⎛ 2⎞           ⎞    ⎛ 2⎞           ⎞\n",
       " ⎟       ⎜   ⎝x ⎠           ⎟    ⎝x ⎠           ⎟\n",
       ")⎠ + 4⋅x⋅⎝x⋅ℯ     - sin(2⋅x)⎠ + ℯ     + cos(2⋅x)⎠"
      ]
     },
     "execution_count": 62,
     "metadata": {},
     "output_type": "execute_result"
    }
   ],
   "source": [
    "Y3-Y4"
   ]
  },
  {
   "cell_type": "code",
   "execution_count": 63,
   "metadata": {},
   "outputs": [
    {
     "data": {
      "image/png": "[encoded data removed]",
      "text/latex": [
       "$\\displaystyle - 8 x \\left(x e^{x^{2}} - \\sin{\\left(2 x \\right)}\\right) - 2 e^{x^{2}} - 2 \\cos{\\left(2 x \\right)}$"
      ],
      "text/plain": [
       "      ⎛   ⎛ 2⎞           ⎞      ⎛ 2⎞             \n",
       "      ⎜   ⎝x ⎠           ⎟      ⎝x ⎠             \n",
       "- 8⋅x⋅⎝x⋅ℯ     - sin(2⋅x)⎠ - 2⋅ℯ     - 2⋅cos(2⋅x)"
      ]
     },
     "execution_count": 63,
     "metadata": {},
     "output_type": "execute_result"
    }
   ],
   "source": [
    "simplify(Y3-Y4)"
   ]
  },
  {
   "cell_type": "markdown",
   "metadata": {},
   "source": [
    "**8. *Deduzca si cada una de las expresiones siguientes es un operador o una función.***"
   ]
  },
  {
   "cell_type": "markdown",
   "metadata": {},
   "source": [
    "<div class=\"alert alert-info\" role=\"alert\">$\\large \\hat{A}\\hat{B}g(x) = Función $"
   ]
  },
  {
   "cell_type": "markdown",
   "metadata": {},
   "source": [
    "<div class=\"alert alert-info\" role=\"alert\">$\\large \\hat{A}\\hat{B}+\\hat{B}\\hat{A} = Operador$"
   ]
  },
  {
   "cell_type": "markdown",
   "metadata": {},
   "source": [
    "<div class=\"alert alert-info\" role=\"alert\">$\\large \\hat{B^2}f(x)= Función$"
   ]
  },
  {
   "cell_type": "markdown",
   "metadata": {},
   "source": [
    "<div class=\"alert alert-info\" role=\"alert\">$\\large f(x)^*\\hat{A}f(x) = Función$"
   ]
  },
  {
   "cell_type": "markdown",
   "metadata": {},
   "source": [
    "**9. *Si la posición de un electrón se mide con una precisión de ±0.001 Å ¿Cuál será la máxima precisión para el momento?***"
   ]
  },
  {
   "cell_type": "code",
   "execution_count": 64,
   "metadata": {},
   "outputs": [
    {
     "name": "stdout",
     "output_type": "stream",
     "text": [
      "5.275e-22\n"
     ]
    }
   ],
   "source": [
    "x=1*10**-13\n",
    "h=1.055*10**-34\n",
    "p= (h/(2*x))\n",
    "print(p)\n"
   ]
  },
  {
   "cell_type": "markdown",
   "metadata": {},
   "source": [
    "**10. *Demuestre que en el intervalo 0 ≤ θ ≤ 2π, las funciones $\\large e^{inθ}$, donde n=0, ±1, ±2, ..., forman un conjunto de funciones ortogonales. Halle la constante de normalización para este conjunto de funciones.***"
   ]
  },
  {
   "cell_type": "code",
   "execution_count": 65,
   "metadata": {},
   "outputs": [
    {
     "data": {
      "text/latex": [
       "$\\displaystyle \\left( \\int\\limits_{0}^{2 \\pi} e^{i n x} e^{- i n_{1} x}\\, dx, \\  \\begin{cases} - \\frac{i e^{2 i \\pi n}}{n e^{2 i \\pi n_{1}} - n_{1} e^{2 i \\pi n_{1}}} + \\frac{i}{n - n_{1}} & \\text{for}\\: n \\neq n_{1} \\\\2 \\pi & \\text{otherwise} \\end{cases}\\right)$"
      ],
      "text/plain": [
       "⎛2⋅π                     ⎧             2⋅ⅈ⋅π⋅n                             ⎞\n",
       "⎜ ⌠                      ⎪          ⅈ⋅ℯ                    ⅈ               ⎟\n",
       "⎜ ⎮   ⅈ⋅n⋅x  -ⅈ⋅n₁⋅x     ⎪- ────────────────────────── + ──────  for n ≠ n₁⎟\n",
       "⎜ ⎮  ℯ     ⋅ℯ        dx, ⎨     2⋅ⅈ⋅π⋅n₁       2⋅ⅈ⋅π⋅n₁   n - n₁            ⎟\n",
       "⎜ ⌡                      ⎪  n⋅ℯ         - n₁⋅ℯ                             ⎟\n",
       "⎜ 0                      ⎪                                                 ⎟\n",
       "⎝                        ⎩                 2⋅π                   otherwise ⎠"
      ]
     },
     "execution_count": 65,
     "metadata": {},
     "output_type": "execute_result"
    }
   ],
   "source": [
    "x, n, n1=sp.symbols('x n n1')\n",
    "f1=sp.exp(sp.I*n*x)\n",
    "f2=sp.exp(-sp.I*n1*x)\n",
    "ft=sp.Integral(f1*f2, (x,0,2*sp.pi))\n",
    "ft, ft.doit()\n"
   ]
  },
  {
   "cell_type": "code",
   "execution_count": null,
   "metadata": {},
   "outputs": [],
   "source": []
  }
 ],
 "metadata": {
  "kernelspec": {
   "display_name": "Python 3",
   "language": "python",
   "name": "python3"
  },
  "language_info": {
   "codemirror_mode": {
    "name": "ipython",
    "version": 3
   },
   "file_extension": ".py",
   "mimetype": "text/x-python",
   "name": "python",
   "nbconvert_exporter": "python",
   "pygments_lexer": "ipython3",
   "version": "3.8.3"
  }
 },
 "nbformat": 4,
 "nbformat_minor": 4
}

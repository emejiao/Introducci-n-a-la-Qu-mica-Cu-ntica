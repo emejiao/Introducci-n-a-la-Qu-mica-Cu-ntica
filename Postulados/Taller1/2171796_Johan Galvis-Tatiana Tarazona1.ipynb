{
 "cells": [
  {
   "cell_type": "code",
   "execution_count": 1,
   "metadata": {},
   "outputs": [],
   "source": [
    "from IPython.display import HTML"
   ]
  },
  {
   "cell_type": "markdown",
   "metadata": {},
   "source": [
    "<div class=\"alert alert-success\" role=\"alert\">\n",
    "  <h2 class=\"alert-heading\">Introducción a la Química Cuántica: Taller 1-Postulados de la Mecánica Cuántica</h2>\n",
    "  <h3 class=\"alert-heading\">~Tatiana Tarazona Cáceres 2171796</h3>\n",
    "  <h3 class= \"alert-heading\">~Johan Sebastian Galvis Mejia 2171813</h3>\n",
    "  <h3 class=\"alert-heading\">Escuela de Química</h3>\n",
    "  <h3 class=\"alert-heading\">Universidad Industrial de Santander</h3>\n",
    "  <p>\n",
    "  </div>"
   ]
  },
  {
   "cell_type": "markdown",
   "metadata": {},
   "source": [
    "## <font color=red> NOTA: 4.0"
   ]
  },
  {
   "cell_type": "markdown",
   "metadata": {},
   "source": [
    "**<div class=\"alert alert-warning\">1. Determinar cuáles de las siguientes funciones son aceptables como funciones de onda, definidas en los intervalos indicados.**\n",
    "**<div class=\"alert alert-warning\">a) $\\large \\frac{1}{x} [0,\\infty)$**"
   ]
  },
  {
   "cell_type": "markdown",
   "metadata": {},
   "source": [
    "Teniendo en cuenta el postulado uno:\n",
    "\n",
    "Todas las propiedades observables de un sistema físico están contenidas en su función de onda, $\\Psi(q, t)$ , dependiente de las coordenadas de posición $(q)$ de las partículas que componen el sistema, y del tiempo $(t)$. Esta función debe ser univaluada, continúa, con derivadas continúas, y de cuadrado integrable. "
   ]
  },
  {
   "cell_type": "code",
   "execution_count": 2,
   "metadata": {},
   "outputs": [],
   "source": [
    "import matplotlib as mpl #matplotlib library for plotting and visualization\n",
    "import matplotlib.pylab as plt #matplotlib library for plotting and visulization\n",
    "import numpy as np #numpy library for numetical manipulation, especially for data arrays\n",
    "import sympy as sp\n",
    "sp.init_printing(use_unicode=True)\n",
    "from matplotlib.font_manager import FontProperties\n",
    "from pylab import *"
   ]
  },
  {
   "cell_type": "code",
   "execution_count": 3,
   "metadata": {},
   "outputs": [
    {
     "data": {
      "image/png": "[encoded data removed]",
      "text/plain": [
       "<Figure size 432x288 with 1 Axes>"
      ]
     },
     "metadata": {
      "needs_background": "light"
     },
     "output_type": "display_data"
    }
   ],
   "source": [
    "def f(x):\n",
    "    return 1/x\n",
    "\n",
    "x=np.arange(0.1,2,0.01)\n",
    "plt.plot(x,f(x),linewidth=2)\n",
    "plt.title(\"f(x)=1/x\",fontsize=15)\n",
    "plt.show()"
   ]
  },
  {
   "cell_type": "markdown",
   "metadata": {},
   "source": [
    "La función es univaluada, por lo tanto cumple con el primer requisito."
   ]
  },
  {
   "cell_type": "code",
   "execution_count": 4,
   "metadata": {},
   "outputs": [
    {
     "data": {
      "image/png": "[encoded data removed]",
      "text/latex": [
       "$\\displaystyle - \\frac{1}{x^{2}}$"
      ],
      "text/plain": [
       "-1 \n",
       "───\n",
       "  2\n",
       " x "
      ]
     },
     "execution_count": 4,
     "metadata": {},
     "output_type": "execute_result"
    }
   ],
   "source": [
    "x=sp.Symbol('x')\n",
    "Df=sp.Derivative(1/x, x)\n",
    "#Df, Df.doit()\n",
    "sp.diff(1/x, x, 1)"
   ]
  },
  {
   "cell_type": "markdown",
   "metadata": {},
   "source": [
    "La función es continua"
   ]
  },
  {
   "cell_type": "code",
   "execution_count": 5,
   "metadata": {},
   "outputs": [
    {
     "data": {
      "image/png": "[encoded data removed]",
      "text/latex": [
       "$\\displaystyle \\left( \\frac{d^{2}}{d x^{2}} \\frac{1}{x}, \\  \\frac{2}{x^{3}}\\right)$"
      ],
      "text/plain": [
       "⎛  2       ⎞\n",
       "⎜ d ⎛1⎞  2 ⎟\n",
       "⎜───⎜─⎟, ──⎟\n",
       "⎜  2⎝x⎠   3⎟\n",
       "⎝dx      x ⎠"
      ]
     },
     "execution_count": 5,
     "metadata": {},
     "output_type": "execute_result"
    }
   ],
   "source": [
    "x=sp.Symbol('x')\n",
    "D2f=sp.Derivative(1/x, x, 2)\n",
    "D2f, D2f.doit()"
   ]
  },
  {
   "cell_type": "markdown",
   "metadata": {},
   "source": [
    "Posee derivada continua."
   ]
  },
  {
   "cell_type": "code",
   "execution_count": 6,
   "metadata": {},
   "outputs": [
    {
     "data": {
      "image/png": "[encoded data removed]",
      "text/latex": [
       "$\\displaystyle \\left( \\int\\limits_{0}^{\\infty} \\frac{1}{x^{2}}\\, dx, \\  \\infty\\right)$"
      ],
      "text/plain": [
       "⎛∞         ⎞\n",
       "⎜⌠         ⎟\n",
       "⎜⎮ 1       ⎟\n",
       "⎜⎮ ── dx, ∞⎟\n",
       "⎜⎮  2      ⎟\n",
       "⎜⎮ x       ⎟\n",
       "⎜⌡         ⎟\n",
       "⎝0         ⎠"
      ]
     },
     "execution_count": 6,
     "metadata": {},
     "output_type": "execute_result"
    }
   ],
   "source": [
    "x=sp.Symbol('x')\n",
    "Df=sp.Integral((1/x)**2,(x, 0, sp.oo))\n",
    "Df, Df.doit()"
   ]
  },
  {
   "cell_type": "markdown",
   "metadata": {},
   "source": [
    "El cuadrado integrable de la función no es un número finito, por lo cual no es función de onda **<font color=red> aceptable o bien comportada**.."
   ]
  },
  {
   "cell_type": "markdown",
   "metadata": {},
   "source": [
    "**<div class=\"alert alert-warning\">b) $\\large e^{-|x|} (-\\infty, +\\infty)$**"
   ]
  },
  {
   "cell_type": "code",
   "execution_count": 7,
   "metadata": {},
   "outputs": [
    {
     "data": {
      "image/png": "[encoded data removed]",
      "text/plain": [
       "<Figure size 432x288 with 1 Axes>"
      ]
     },
     "metadata": {
      "needs_background": "light"
     },
     "output_type": "display_data"
    }
   ],
   "source": [
    "def f(x):\n",
    "    return np.exp(-abs(x))\n",
    "\n",
    "x=np.linspace(-10,10)\n",
    "plt.plot(x,f(x),linewidth=2)\n",
    "plt.title('$f(x)=e^{-|x|}$',fontsize=15)\n",
    "plt.xlabel('x')\n",
    "plt.ylabel('f(x)')\n",
    "plt.show()"
   ]
  },
  {
   "cell_type": "markdown",
   "metadata": {},
   "source": [
    "La función es univaluable."
   ]
  },
  {
   "cell_type": "code",
   "execution_count": 8,
   "metadata": {},
   "outputs": [
    {
     "data": {
      "image/png": "[encoded data removed]",
      "text/latex": [
       "$\\displaystyle \\left( \\frac{d}{d x} e^{- \\left|{x}\\right|}, \\  - \\frac{\\left(\\operatorname{re}{\\left(x\\right)} \\frac{d}{d x} \\operatorname{re}{\\left(x\\right)} + \\operatorname{im}{\\left(x\\right)} \\frac{d}{d x} \\operatorname{im}{\\left(x\\right)}\\right) e^{- \\left|{x}\\right|} \\operatorname{sign}{\\left(x \\right)}}{x}\\right)$"
      ],
      "text/plain": [
       "⎛            ⎛      d                 d        ⎞  -│x│         ⎞\n",
       "⎜           -⎜re(x)⋅──(re(x)) + im(x)⋅──(im(x))⎟⋅ℯ    ⋅sign(x) ⎟\n",
       "⎜d ⎛ -│x│⎞   ⎝      dx                dx       ⎠               ⎟\n",
       "⎜──⎝ℯ    ⎠, ───────────────────────────────────────────────────⎟\n",
       "⎝dx                                  x                         ⎠"
      ]
     },
     "execution_count": 8,
     "metadata": {},
     "output_type": "execute_result"
    }
   ],
   "source": [
    "x=sp.Symbol('x')\n",
    "DF=sp.Derivative (sp.exp(-abs(x)),x)\n",
    "DF,DF.doit()"
   ]
  },
  {
   "cell_type": "markdown",
   "metadata": {},
   "source": [
    "La Función no es derivable en el intervalo, no es una función de onda **<font color=red> aceptable o bien comportada**."
   ]
  },
  {
   "cell_type": "markdown",
   "metadata": {},
   "source": [
    "**<div class=\"alert alert-warning\">c) $\\large sen(x) [-4π, 4π]$**\n"
   ]
  },
  {
   "cell_type": "code",
   "execution_count": 9,
   "metadata": {},
   "outputs": [
    {
     "data": {
      "image/png": "[encoded data removed]",
      "text/plain": [
       "<Figure size 432x288 with 1 Axes>"
      ]
     },
     "metadata": {
      "needs_background": "light"
     },
     "output_type": "display_data"
    }
   ],
   "source": [
    "def f(x):\n",
    "    return np.sin(x)\n",
    "\n",
    "x=np.arange(-4*np.pi,4*np.pi,0.01)\n",
    "plt.plot(x,f(x),linewidth=2)\n",
    "plt.title(\"f(x)=sen(x)\",fontsize=15)\n",
    "plt.xlabel('x')\n",
    "plt.ylabel('f(x)')\n",
    "plt.show()"
   ]
  },
  {
   "cell_type": "markdown",
   "metadata": {},
   "source": [
    "Función univaluada, cumple este requisito."
   ]
  },
  {
   "cell_type": "code",
   "execution_count": 10,
   "metadata": {},
   "outputs": [
    {
     "data": {
      "image/png": "[encoded data removed]",
      "text/latex": [
       "$\\displaystyle \\left( \\frac{d}{d x} \\sin{\\left(x \\right)}, \\  \\cos{\\left(x \\right)}\\right)$"
      ],
      "text/plain": [
       "⎛d                 ⎞\n",
       "⎜──(sin(x)), cos(x)⎟\n",
       "⎝dx                ⎠"
      ]
     },
     "execution_count": 10,
     "metadata": {},
     "output_type": "execute_result"
    }
   ],
   "source": [
    "x=sp.Symbol('x')\n",
    "Df=sp.Derivative(sp.sin(x), x)\n",
    "Df, Df.doit()"
   ]
  },
  {
   "cell_type": "markdown",
   "metadata": {},
   "source": [
    "Es derivable."
   ]
  },
  {
   "cell_type": "code",
   "execution_count": 11,
   "metadata": {},
   "outputs": [
    {
     "data": {
      "image/png": "[encoded data removed]",
      "text/latex": [
       "$\\displaystyle \\left( \\frac{d^{2}}{d x^{2}} \\sin{\\left(x \\right)}, \\  - \\sin{\\left(x \\right)}\\right)$"
      ],
      "text/plain": [
       "⎛  2                 ⎞\n",
       "⎜ d                  ⎟\n",
       "⎜───(sin(x)), -sin(x)⎟\n",
       "⎜  2                 ⎟\n",
       "⎝dx                  ⎠"
      ]
     },
     "execution_count": 11,
     "metadata": {},
     "output_type": "execute_result"
    }
   ],
   "source": [
    "x=sp.Symbol('x')\n",
    "D2f=sp.Derivative(sp.sin(x), x, 2)\n",
    "D2f, D2f.doit()"
   ]
  },
  {
   "cell_type": "markdown",
   "metadata": {},
   "source": [
    "Tiene derivadas continuas."
   ]
  },
  {
   "cell_type": "code",
   "execution_count": 12,
   "metadata": {},
   "outputs": [
    {
     "data": {
      "image/png": "[encoded data removed]",
      "text/latex": [
       "$\\displaystyle \\left( \\int\\limits_{- 4 \\pi}^{4 \\pi} \\sin^{2}{\\left(x \\right)}\\, dx, \\  4 \\pi\\right)$"
      ],
      "text/plain": [
       "⎛4⋅π                 ⎞\n",
       "⎜ ⌠                  ⎟\n",
       "⎜ ⎮      2           ⎟\n",
       "⎜ ⎮   sin (x) dx, 4⋅π⎟\n",
       "⎜ ⌡                  ⎟\n",
       "⎝-4⋅π                ⎠"
      ]
     },
     "execution_count": 12,
     "metadata": {},
     "output_type": "execute_result"
    }
   ],
   "source": [
    "x=sp.Symbol('x')\n",
    "If=sp.Integral(sp.sin(x)**2, (x, -4*sp.pi, 4*sp.pi))\n",
    "If, If.doit()"
   ]
  },
  {
   "cell_type": "markdown",
   "metadata": {},
   "source": [
    "El cuadrado de la función es integrable y finito, cumple con las condiciones en el postulado uno, por lo cual es función de onda en dicho intervalo."
   ]
  },
  {
   "cell_type": "markdown",
   "metadata": {},
   "source": [
    "**<div class=\"alert alert-warning\">d) $\\large e^{-x} [0, \\infty)$**"
   ]
  },
  {
   "cell_type": "code",
   "execution_count": 13,
   "metadata": {},
   "outputs": [
    {
     "data": {
      "image/png": "[encoded data removed]",
      "text/plain": [
       "<Figure size 432x288 with 1 Axes>"
      ]
     },
     "metadata": {
      "needs_background": "light"
     },
     "output_type": "display_data"
    }
   ],
   "source": [
    "def f(x):\n",
    "    return np.exp(-x)\n",
    "\n",
    "x=np.linspace(-3,3)\n",
    "plt.plot(x,f(x),linewidth=2)\n",
    "plt.title(\"$f(x)=e^{-x}$\",fontsize=15)\n",
    "plt.show()"
   ]
  },
  {
   "cell_type": "markdown",
   "metadata": {},
   "source": [
    "La expresión es univaluada."
   ]
  },
  {
   "cell_type": "code",
   "execution_count": 14,
   "metadata": {},
   "outputs": [
    {
     "data": {
      "image/png": "[encoded data removed]",
      "text/latex": [
       "$\\displaystyle \\left( \\frac{d}{d x} e^{- x}, \\  - e^{- x}\\right)$"
      ],
      "text/plain": [
       "⎛d ⎛ -x⎞    -x⎞\n",
       "⎜──⎝ℯ  ⎠, -ℯ  ⎟\n",
       "⎝dx           ⎠"
      ]
     },
     "execution_count": 14,
     "metadata": {},
     "output_type": "execute_result"
    }
   ],
   "source": [
    "x=sp.Symbol('x')\n",
    "Df=sp.Derivative(sp.exp(-x), x)\n",
    "Df, Df.doit()"
   ]
  },
  {
   "cell_type": "markdown",
   "metadata": {},
   "source": [
    "Es derivable y continua."
   ]
  },
  {
   "cell_type": "code",
   "execution_count": 15,
   "metadata": {},
   "outputs": [
    {
     "data": {
      "image/png": "[encoded data removed]",
      "text/latex": [
       "$\\displaystyle \\left( \\frac{d^{2}}{d x^{2}} e^{- x}, \\  e^{- x}\\right)$"
      ],
      "text/plain": [
       "⎛  2          ⎞\n",
       "⎜ d ⎛ -x⎞   -x⎟\n",
       "⎜───⎝ℯ  ⎠, ℯ  ⎟\n",
       "⎜  2          ⎟\n",
       "⎝dx           ⎠"
      ]
     },
     "execution_count": 15,
     "metadata": {},
     "output_type": "execute_result"
    }
   ],
   "source": [
    "x=sp.Symbol('x')\n",
    "D2f=sp.Derivative(sp.exp(-x),x,2)\n",
    "D2f, D2f.doit()"
   ]
  },
  {
   "cell_type": "code",
   "execution_count": 16,
   "metadata": {},
   "outputs": [
    {
     "data": {
      "image/png": "[encoded data removed]",
      "text/latex": [
       "$\\displaystyle \\left( \\int\\limits_{0}^{\\infty} e^{- 2 x}\\, dx, \\  \\frac{1}{2}\\right)$"
      ],
      "text/plain": [
       "⎛∞              ⎞\n",
       "⎜⌠              ⎟\n",
       "⎜⎮  -2⋅x        ⎟\n",
       "⎜⎮ ℯ     dx, 1/2⎟\n",
       "⎜⌡              ⎟\n",
       "⎝0              ⎠"
      ]
     },
     "execution_count": 16,
     "metadata": {},
     "output_type": "execute_result"
    }
   ],
   "source": [
    "x=sp.Symbol('x')\n",
    "If=sp.Integral(sp.exp(-x)**2,(x, 0, sp.oo))\n",
    "If, If.doit()"
   ]
  },
  {
   "cell_type": "markdown",
   "metadata": {},
   "source": [
    "La función es integrable y finita, la expresión dada es función de onda en el intervalo."
   ]
  },
  {
   "cell_type": "markdown",
   "metadata": {},
   "source": [
    "**<div class=\"alert alert-warning\">e) $\\large e^{-x}sen(x) [0, \\infty)$**"
   ]
  },
  {
   "cell_type": "code",
   "execution_count": 17,
   "metadata": {},
   "outputs": [
    {
     "data": {
      "image/png": "[encoded data removed]",
      "text/plain": [
       "<Figure size 432x288 with 1 Axes>"
      ]
     },
     "metadata": {
      "needs_background": "light"
     },
     "output_type": "display_data"
    }
   ],
   "source": [
    "x=np.arange(-5, 5, 0.001)\n",
    "f=e**(-x)*np.sin(x)\n",
    "plt.plot(x, f, 'r-',linewidth=2)\n",
    "plt.title(\"$f(x)=e^{-x}sin(x)$\",fontsize=15)\n",
    "plt.show()"
   ]
  },
  {
   "cell_type": "markdown",
   "metadata": {},
   "source": [
    "Es univaluable."
   ]
  },
  {
   "cell_type": "code",
   "execution_count": 18,
   "metadata": {},
   "outputs": [
    {
     "data": {
      "image/png": "[encoded data removed]",
      "text/latex": [
       "$\\displaystyle \\left( \\frac{d}{d x} e^{- x} \\sin{\\left(x \\right)}, \\  - e^{- x} \\sin{\\left(x \\right)} + e^{- x} \\cos{\\left(x \\right)}\\right)$"
      ],
      "text/plain": [
       "⎛d ⎛ -x       ⎞     -x           -x       ⎞\n",
       "⎜──⎝ℯ  ⋅sin(x)⎠, - ℯ  ⋅sin(x) + ℯ  ⋅cos(x)⎟\n",
       "⎝dx                                       ⎠"
      ]
     },
     "execution_count": 18,
     "metadata": {},
     "output_type": "execute_result"
    }
   ],
   "source": [
    "x=sp.Symbol('x')\n",
    "Df=sp.Derivative(sp.exp(-x)*sp.sin(x),x)\n",
    "Df, Df.doit()"
   ]
  },
  {
   "cell_type": "code",
   "execution_count": 19,
   "metadata": {},
   "outputs": [
    {
     "data": {
      "image/png": "[encoded data removed]",
      "text/latex": [
       "$\\displaystyle \\left( \\frac{d^{2}}{d x^{2}} e^{- x} \\sin{\\left(x \\right)}, \\  - 2 e^{- x} \\cos{\\left(x \\right)}\\right)$"
      ],
      "text/plain": [
       "⎛  2                           ⎞\n",
       "⎜ d ⎛ -x       ⎞      -x       ⎟\n",
       "⎜───⎝ℯ  ⋅sin(x)⎠, -2⋅ℯ  ⋅cos(x)⎟\n",
       "⎜  2                           ⎟\n",
       "⎝dx                            ⎠"
      ]
     },
     "execution_count": 19,
     "metadata": {},
     "output_type": "execute_result"
    }
   ],
   "source": [
    "x=sp.Symbol('x')\n",
    "D2f=sp.Derivative(sp.exp(-x)*sp.sin(x), x, 2)\n",
    "D2f, D2f.doit()"
   ]
  },
  {
   "cell_type": "markdown",
   "metadata": {},
   "source": [
    "La expresión es continua, con derivadas continuas."
   ]
  },
  {
   "cell_type": "code",
   "execution_count": 20,
   "metadata": {},
   "outputs": [
    {
     "data": {
      "image/png": "[encoded data removed]",
      "text/latex": [
       "$\\displaystyle \\left( \\int\\limits_{0}^{\\infty} e^{- 2 x} \\sin^{2}{\\left(x \\right)}\\, dx, \\  \\frac{1}{8}\\right)$"
      ],
      "text/plain": [
       "⎛∞                      ⎞\n",
       "⎜⌠                      ⎟\n",
       "⎜⎮  -2⋅x    2           ⎟\n",
       "⎜⎮ ℯ    ⋅sin (x) dx, 1/8⎟\n",
       "⎜⌡                      ⎟\n",
       "⎝0                      ⎠"
      ]
     },
     "execution_count": 20,
     "metadata": {},
     "output_type": "execute_result"
    }
   ],
   "source": [
    "x=sp.Symbol('x')\n",
    "If=sp.Integral((sp.exp(-x)*sp.sin(x))**2, (x, 0 , sp.oo))\n",
    "If, If.doit()"
   ]
  },
  {
   "cell_type": "markdown",
   "metadata": {},
   "source": [
    "Es función de onda, ya que cumple con los requisitos descritos en el postulado uno."
   ]
  },
  {
   "cell_type": "markdown",
   "metadata": {},
   "source": [
    "**<div class=\"alert alert-info\">2. De las siguientes funciones, normalice aquellas en que la normalización sea posible:**"
   ]
  },
  {
   "cell_type": "markdown",
   "metadata": {},
   "source": [
    "**<div class=\"alert alert-info\">a) $\\large e^{-x} [0, \\infty)$**"
   ]
  },
  {
   "cell_type": "code",
   "execution_count": 49,
   "metadata": {},
   "outputs": [
    {
     "data": {
      "image/png": "[encoded data removed]",
      "text/latex": [
       "$\\displaystyle \\left( \\int\\limits_{0}^{\\infty} e^{- 2 x}\\, dx, \\  \\frac{1}{2}\\right)$"
      ],
      "text/plain": [
       "⎛∞              ⎞\n",
       "⎜⌠              ⎟\n",
       "⎜⎮  -2⋅x        ⎟\n",
       "⎜⎮ ℯ     dx, 1/2⎟\n",
       "⎜⌡              ⎟\n",
       "⎝0              ⎠"
      ]
     },
     "execution_count": 49,
     "metadata": {},
     "output_type": "execute_result"
    }
   ],
   "source": [
    "x=sp.Symbol('x')\n",
    "If=sp.Integral(sp.exp(-x)**2,(x, 0, sp.oo))\n",
    "If, If.doit()"
   ]
  },
  {
   "cell_type": "markdown",
   "metadata": {},
   "source": [
    "El cuadrado es integrable en dicho espacio, por lo tanto:"
   ]
  },
  {
   "cell_type": "markdown",
   "metadata": {},
   "source": [
    "$A=\\frac{1}{\\sqrt{1/2}}$"
   ]
  },
  {
   "cell_type": "markdown",
   "metadata": {},
   "source": [
    "La Función normalizada esta dada por la expresión:\n",
    "$\\Psi=\\frac{1}{\\sqrt{1/2}}e^{-x}$\n",
    "**<font color=red> o $\\sqrt{2}e^{-x}$**"
   ]
  },
  {
   "cell_type": "markdown",
   "metadata": {},
   "source": [
    "**<div class=\"alert alert-info\">b) $\\large e^{i\\theta} [0, 2\\pi]$**"
   ]
  },
  {
   "cell_type": "code",
   "execution_count": 21,
   "metadata": {},
   "outputs": [],
   "source": [
    "import matplotlib as npl \n",
    "import matplotlib.pylab as plit\n",
    "import numpy as np \n",
    "import sympy as sp\n",
    "from sympy import*\n",
    "init_printing(use_unicode=True)"
   ]
  },
  {
   "cell_type": "code",
   "execution_count": 22,
   "metadata": {},
   "outputs": [
    {
     "data": {
      "image/png": "[encoded data removed]",
      "text/latex": [
       "$\\displaystyle \\int\\limits_{0}^{2 \\pi} 1\\, dtetha$"
      ],
      "text/plain": [
       "2⋅π           \n",
       " ⌠            \n",
       " ⎮  1 d(tetha)\n",
       " ⌡            \n",
       " 0            "
      ]
     },
     "execution_count": 22,
     "metadata": {},
     "output_type": "execute_result"
    }
   ],
   "source": [
    "tetha=Symbol(\"tetha\")\n",
    "Y2=exp(I*tetha)\n",
    "Y2C=exp(-I*tetha)\n",
    "I2=Integral(Y2*Y2C,(tetha, 0, 2*pi))\n",
    "I2"
   ]
  },
  {
   "cell_type": "code",
   "execution_count": 23,
   "metadata": {},
   "outputs": [
    {
     "data": {
      "image/png": "[encoded data removed]",
      "text/latex": [
       "$\\displaystyle 2 \\pi$"
      ],
      "text/plain": [
       "2⋅π"
      ]
     },
     "execution_count": 23,
     "metadata": {},
     "output_type": "execute_result"
    }
   ],
   "source": [
    "I2.doit()"
   ]
  },
  {
   "cell_type": "markdown",
   "metadata": {},
   "source": [
    "La función esta definida, entonces:"
   ]
  },
  {
   "cell_type": "markdown",
   "metadata": {},
   "source": [
    "$A=\\frac{1}{\\sqrt{2\\pi}}$"
   ]
  },
  {
   "cell_type": "markdown",
   "metadata": {},
   "source": [
    "La normalización en este caso es: $\\Psi=\\frac{1}{\\sqrt{2\\pi}}e^{i\\theta}$"
   ]
  },
  {
   "cell_type": "markdown",
   "metadata": {},
   "source": [
    "**<div class=\"alert alert-info\">c) $\\large xe^{-x} [0, \\infty)$**"
   ]
  },
  {
   "cell_type": "code",
   "execution_count": 25,
   "metadata": {},
   "outputs": [
    {
     "data": {
      "image/png": "[encoded data removed]",
      "text/latex": [
       "$\\displaystyle \\left( \\int\\limits_{0}^{\\infty} x^{2} e^{- 2 x}\\, dx, \\  \\frac{1}{4}\\right)$"
      ],
      "text/plain": [
       "⎛∞                 ⎞\n",
       "⎜⌠                 ⎟\n",
       "⎜⎮  2  -2⋅x        ⎟\n",
       "⎜⎮ x ⋅ℯ     dx, 1/4⎟\n",
       "⎜⌡                 ⎟\n",
       "⎝0                 ⎠"
      ]
     },
     "execution_count": 25,
     "metadata": {},
     "output_type": "execute_result"
    }
   ],
   "source": [
    "x=sp.Symbol('x')\n",
    "If=sp.Integral((x*sp.exp(-x))**2,(x, 0, sp.oo))\n",
    "If, If.doit()"
   ]
  },
  {
   "cell_type": "markdown",
   "metadata": {},
   "source": [
    "El cuadrado de la integral esta definido y es diferente de cero, por lo cual:"
   ]
  },
  {
   "cell_type": "markdown",
   "metadata": {},
   "source": [
    "$A=\\frac{1}{\\sqrt{1/4}}$"
   ]
  },
  {
   "cell_type": "markdown",
   "metadata": {},
   "source": [
    "$\\Psi=\\frac{1}{\\sqrt{1/4}}xe^{-x}$\n",
    "Corresponde a la función normalizada."
   ]
  },
  {
   "cell_type": "markdown",
   "metadata": {},
   "source": [
    "<div class=\"alert alert-warning\">3. La función de onda para una partícula en un sistema monodimensional definido entre $\\large x = 0$ y $\\large x = \\infty$, a $\\large t=0$ es $\\large \\Psi = \\sqrt{\\frac{2}{a}}e^{\\frac{-x}{a}}$ donde $\\large a$ es 1.0 nm. A $\\large t=0$ se mide la posición de la partícula."
   ]
  },
  {
   "cell_type": "markdown",
   "metadata": {},
   "source": [
    "<div class=\"alert alert-warning\">a) Calcular la probabilidad de que la partícula se encuentre entre $\\large x=1.5000 nm$ y $\\large x=1.5001\n",
    "nm$. "
   ]
  },
  {
   "cell_type": "code",
   "execution_count": 26,
   "metadata": {},
   "outputs": [
    {
     "data": {
      "image/png": "[encoded data removed]",
      "text/latex": [
       "$\\displaystyle \\left( \\int\\limits_{1.5}^{1.5001} 2.0 e^{- 2 x}\\, dx, \\  9.9564179985856 \\cdot 10^{-6}\\right)$"
      ],
      "text/plain": [
       "⎛1.5001                                 ⎞\n",
       "⎜  ⌠                                    ⎟\n",
       "⎜  ⎮         -2⋅x                       ⎟\n",
       "⎜  ⎮    2.0⋅ℯ     dx, 9.9564179985856e-6⎟\n",
       "⎜  ⌡                                    ⎟\n",
       "⎝ 1.5                                   ⎠"
      ]
     },
     "execution_count": 26,
     "metadata": {},
     "output_type": "execute_result"
    }
   ],
   "source": [
    "x=sp.Symbol('x')\n",
    "a=1\n",
    "If=sp.Integral((sqrt(2/a)*sp.exp(-x/a))**2, (x, 1.5000 , 1.5001))\n",
    "If, If.doit()"
   ]
  },
  {
   "cell_type": "markdown",
   "metadata": {},
   "source": [
    "La partícula se encontrará en dicho intervalo con una probabilidad de 9.9564179985856 x 10^-6"
   ]
  },
  {
   "cell_type": "markdown",
   "metadata": {},
   "source": [
    "<div class=\"alert alert-warning\">b) Calcular la probabilidad de que la partícula se encuentre entre $\\large x=0$ y $\\large x=2 nm$."
   ]
  },
  {
   "cell_type": "code",
   "execution_count": 27,
   "metadata": {},
   "outputs": [
    {
     "data": {
      "image/png": "[encoded data removed]",
      "text/latex": [
       "$\\displaystyle \\left( \\int\\limits_{0}^{2} 2.0 e^{- 2 x}\\, dx, \\  1.0 - \\frac{1.0}{e^{4}}\\right)$"
      ],
      "text/plain": [
       "⎛2                            ⎞\n",
       "⎜⌠                            ⎟\n",
       "⎜⎮      -2⋅x                -4⎟\n",
       "⎜⎮ 2.0⋅ℯ     dx, 1.0 - 1.0⋅ℯ  ⎟\n",
       "⎜⌡                            ⎟\n",
       "⎝0                            ⎠"
      ]
     },
     "execution_count": 27,
     "metadata": {},
     "output_type": "execute_result"
    }
   ],
   "source": [
    "x=sp.Symbol('x')\n",
    "a=1\n",
    "If=sp.Integral((sqrt(2/a)*sp.exp(-x/a))**2, (x, 0 , 2))\n",
    "If, If.doit()"
   ]
  },
  {
   "cell_type": "markdown",
   "metadata": {},
   "source": [
    "El resultado corresponde a la probalidad de que la particula se encuentre entre x=0 y x=2nm\n",
    "\n",
    "**<font color=red> Se espera un comentario sobre el valor de la probabilidad en el intervalo utilizado, la probailidad es baja, alta, intermedia, despreciable, etc**"
   ]
  },
  {
   "cell_type": "markdown",
   "metadata": {},
   "source": [
    " <div class=\"alert alert-warning\">c)\n",
    "Verifique que la función de onda está normalizada."
   ]
  },
  {
   "cell_type": "code",
   "execution_count": 28,
   "metadata": {},
   "outputs": [
    {
     "data": {
      "image/png": "[encoded data removed]",
      "text/latex": [
       "$\\displaystyle \\left( \\int\\limits_{0}^{\\infty} 2.0 e^{- 2 x}\\, dx, \\  1.0\\right)$"
      ],
      "text/plain": [
       "⎛∞                  ⎞\n",
       "⎜⌠                  ⎟\n",
       "⎜⎮      -2⋅x        ⎟\n",
       "⎜⎮ 2.0⋅ℯ     dx, 1.0⎟\n",
       "⎜⌡                  ⎟\n",
       "⎝0                  ⎠"
      ]
     },
     "execution_count": 28,
     "metadata": {},
     "output_type": "execute_result"
    }
   ],
   "source": [
    "x=sp.Symbol('x')\n",
    "a=1\n",
    "If=sp.Integral((sqrt(2/a)*sp.exp(-x/a))**2, (x, 0 , sp.oo))\n",
    "If, If.doit()"
   ]
  },
  {
   "cell_type": "markdown",
   "metadata": {},
   "source": [
    "La función esta normalizada en el sistema monodimensional definido, ya que es igual a uno."
   ]
  },
  {
   "cell_type": "markdown",
   "metadata": {},
   "source": [
    "**<div class=\"alert alert-warning\">4. Indique cuál de los siguientes operadores es lineal:**"
   ]
  },
  {
   "cell_type": "markdown",
   "metadata": {},
   "source": [
    "**<div class=\"alert alert-warning\">a) $\\large \\hat{A}f(x)=\\frac{df(x)}{dx}$ (derivada de $\\large f(x)$)**"
   ]
  },
  {
   "cell_type": "markdown",
   "metadata": {},
   "source": [
    "Para identificar si es un operador lineal debe cumplir con las siguientes condiciones:"
   ]
  },
  {
   "cell_type": "markdown",
   "metadata": {},
   "source": [
    "1) $ \\hat{A}[f(x)+g(x)]=\\hat{A}f(x) + \\hat{A}g(x)$ "
   ]
  },
  {
   "cell_type": "markdown",
   "metadata": {},
   "source": [
    " $\\frac{df(x)+dg(x)}{dx}= \\frac{df(x)}{dx}f(x) + \\frac{dg(x)}{dx}g(x) $"
   ]
  },
  {
   "cell_type": "markdown",
   "metadata": {},
   "source": [
    "El operador satisface la condición."
   ]
  },
  {
   "cell_type": "markdown",
   "metadata": {},
   "source": [
    "2) $\\hat{A}(cf(x))=c*(\\hat{A}f(x))$"
   ]
  },
  {
   "cell_type": "markdown",
   "metadata": {},
   "source": [
    " $\\frac{dcf(x)}{dx}=c*\\frac{df(x)}{dx}$"
   ]
  },
  {
   "cell_type": "markdown",
   "metadata": {},
   "source": [
    "Ya que cumple con ambas condiciones, la expresión es un operador lineal."
   ]
  },
  {
   "cell_type": "markdown",
   "metadata": {},
   "source": [
    "**<div class=\"alert alert-warning\">b) $\\large \\hat{A}f(x)=f^*(x)$ (forma la compleja conjugada de $\\large f(x)$)**"
   ]
  },
  {
   "cell_type": "markdown",
   "metadata": {},
   "source": [
    "1) $ \\hat{A}[f(x)+g(x)]=\\hat{A}f(x) + \\hat{A}g(x)$ "
   ]
  },
  {
   "cell_type": "markdown",
   "metadata": {},
   "source": [
    "En este caso es necesario analizar la forma compleja conjugada de las funciones. En donde en la parte imaginaria de dicho conjugado se cambia el signo, así:"
   ]
  },
  {
   "cell_type": "markdown",
   "metadata": {},
   "source": [
    "$f^*(x)=\\alpha-\\beta i$  y $g^*(x)=\\theta-\\phi i$ "
   ]
  },
  {
   "cell_type": "markdown",
   "metadata": {},
   "source": [
    "Luego:"
   ]
  },
  {
   "cell_type": "markdown",
   "metadata": {},
   "source": [
    "$(f(x)+g(x))^*= ((𝛼+𝛽i) + (𝜃+\\phi𝑖))^*= 𝛼−𝛽i+𝜃−\\phi𝑖 $"
   ]
  },
  {
   "cell_type": "markdown",
   "metadata": {},
   "source": [
    "$ f^*(x)+g^*(x)=𝛼−𝛽i+𝜃−\\phi𝑖$"
   ]
  },
  {
   "cell_type": "markdown",
   "metadata": {},
   "source": [
    "$(f(x)+g(x))^*=f^*(x)+g^*(x)$"
   ]
  },
  {
   "cell_type": "markdown",
   "metadata": {},
   "source": [
    "Cumple con la condición."
   ]
  },
  {
   "cell_type": "markdown",
   "metadata": {},
   "source": [
    "2) $\\hat{A}(cf(x))=c*(\\hat{A}f(x))$"
   ]
  },
  {
   "cell_type": "markdown",
   "metadata": {},
   "source": [
    "$(cf(x))^*=c*(f(x))^*$"
   ]
  },
  {
   "cell_type": "markdown",
   "metadata": {},
   "source": [
    "Satisface la segunda condición por lo cual es un operador lineal.\n",
    "\n",
    "**<font color=red> Este operador podría afectar la constante si esta es una constante compleja**"
   ]
  },
  {
   "cell_type": "markdown",
   "metadata": {},
   "source": [
    "**<div class=\"alert alert-warning\">c) $\\large \\hat{A}f(x)=ln f(x)$ (toma el logaritmo de $\\large f(x)$)**"
   ]
  },
  {
   "cell_type": "markdown",
   "metadata": {},
   "source": [
    "1) $ \\hat{A}[f(x)+g(x)]=\\hat{A}f(x) + \\hat{A}g(x)$ "
   ]
  },
  {
   "cell_type": "markdown",
   "metadata": {},
   "source": [
    "$ Ln[f(x)+g(x)] $"
   ]
  },
  {
   "cell_type": "markdown",
   "metadata": {},
   "source": [
    "En este caso las propiedades que posee la función logaritmo no es posible separar la expresión."
   ]
  },
  {
   "cell_type": "markdown",
   "metadata": {},
   "source": [
    "Propiedad: $ Ln[f(x)*g(x)]=Ln[f(x)] + Ln[g(x)] $"
   ]
  },
  {
   "cell_type": "markdown",
   "metadata": {},
   "source": [
    "No cumple esta condición, razón por la cual no es un operador lineal."
   ]
  },
  {
   "cell_type": "markdown",
   "metadata": {},
   "source": [
    "**<div class=\"alert alert-warning\">d) $\\large \\hat{A}f(x)= \\int f(x)dx$ (f (integral de $\\large f(x)$)**"
   ]
  },
  {
   "cell_type": "markdown",
   "metadata": {},
   "source": [
    "1) $ \\hat{A}[f(x)+g(x)]=\\hat{A}f(x) + \\hat{A}g(x)$ "
   ]
  },
  {
   "cell_type": "markdown",
   "metadata": {},
   "source": [
    "$ \\int(f(x)+g(x))dx =  \\int f(x)dx + \\int g(x)dx$"
   ]
  },
  {
   "cell_type": "markdown",
   "metadata": {},
   "source": [
    "Cumple con esta condición."
   ]
  },
  {
   "cell_type": "markdown",
   "metadata": {},
   "source": [
    "2) $\\hat{A}(cf(x))=c*(\\hat{A}f(x))$"
   ]
  },
  {
   "cell_type": "markdown",
   "metadata": {},
   "source": [
    "$ \\int(c*f(x))dx = c * \\int f(x)dx $"
   ]
  },
  {
   "cell_type": "markdown",
   "metadata": {},
   "source": [
    "En este caso las propiedades de las integrales cumplen con la condicion, por lo tanto es operador lineal."
   ]
  },
  {
   "cell_type": "markdown",
   "metadata": {},
   "source": [
    "**<div class=\"alert alert-success\">5. a) Cuál de las siguientes funciones es autofunción del operador $\\large d/dx$:** "
   ]
  },
  {
   "cell_type": "markdown",
   "metadata": {},
   "source": [
    "Para determinar si las funciones corresponden a una autofunción del operador $d/dx$, es necesario tener en cuenta la ecuación de valor propio:\n",
    "\n",
    "Una medida única, individual, de la propiedad física, asociada al operador $\\hat{A}$ debe dar como resultado uno de los valores propios del operador. Decimos que $\\Psi_n$  es una función propia del operador $\\hat{A}$, con valor propio $a_n$ si\n",
    "    $$\\large \\hat{A}\\Psi_{n}=a_n\\Psi_{n}$$"
   ]
  },
  {
   "cell_type": "markdown",
   "metadata": {},
   "source": [
    "a) $\\large e^{ikx}$ ¿Cuál es su autovalor?"
   ]
  },
  {
   "cell_type": "code",
   "execution_count": 29,
   "metadata": {},
   "outputs": [
    {
     "data": {
      "image/png": "[encoded data removed]",
      "text/latex": [
       "$\\displaystyle \\left( \\frac{\\partial}{\\partial x} e^{i k x}, \\  i k e^{i k x}\\right)$"
      ],
      "text/plain": [
       "⎛∂ ⎛ ⅈ⋅k⋅x⎞       ⅈ⋅k⋅x⎞\n",
       "⎜──⎝ℯ     ⎠, ⅈ⋅k⋅ℯ     ⎟\n",
       "⎝∂x                    ⎠"
      ]
     },
     "execution_count": 29,
     "metadata": {},
     "output_type": "execute_result"
    }
   ],
   "source": [
    "x, k=sp.symbols('x k')\n",
    "f=sp.exp(sp.I*k*x)\n",
    "D1=sp.Derivative(f, x)\n",
    "D1, D1.doit()"
   ]
  },
  {
   "cell_type": "markdown",
   "metadata": {},
   "source": [
    "Esta expresión es una autofunción del operador dado, y su valor propio es ik."
   ]
  },
  {
   "cell_type": "markdown",
   "metadata": {},
   "source": [
    "b) $\\large cos(kx)$ ¿Cuál es su autovalor?"
   ]
  },
  {
   "cell_type": "code",
   "execution_count": 30,
   "metadata": {},
   "outputs": [
    {
     "data": {
      "image/png": "[encoded data removed]",
      "text/latex": [
       "$\\displaystyle \\left( \\frac{\\partial}{\\partial x} \\cos{\\left(k x \\right)}, \\  - k \\sin{\\left(k x \\right)}\\right)$"
      ],
      "text/plain": [
       "⎛∂                        ⎞\n",
       "⎜──(cos(k⋅x)), -k⋅sin(k⋅x)⎟\n",
       "⎝∂x                       ⎠"
      ]
     },
     "execution_count": 30,
     "metadata": {},
     "output_type": "execute_result"
    }
   ],
   "source": [
    "x, k=sp.symbols('x k')\n",
    "f=sp.cos(k*x)\n",
    "D1=sp.Derivative(f, x)\n",
    "D1, D1.doit()"
   ]
  },
  {
   "cell_type": "markdown",
   "metadata": {},
   "source": [
    "La función no cumple la ecuación propia, por lo tanto no es autofunción del operador."
   ]
  },
  {
   "cell_type": "markdown",
   "metadata": {},
   "source": [
    "c) $\\large k$ ¿Cuál es su autovalor?"
   ]
  },
  {
   "cell_type": "code",
   "execution_count": 31,
   "metadata": {},
   "outputs": [
    {
     "data": {
      "image/png": "[encoded data removed]",
      "text/latex": [
       "$\\displaystyle \\left( \\frac{d}{d x} k, \\  0\\right)$"
      ],
      "text/plain": [
       "⎛d       ⎞\n",
       "⎜──(k), 0⎟\n",
       "⎝dx      ⎠"
      ]
     },
     "execution_count": 31,
     "metadata": {},
     "output_type": "execute_result"
    }
   ],
   "source": [
    "x, k=sp.symbols('x k')\n",
    "f=k\n",
    "D1=sp.Derivative(f, x)\n",
    "D1, D1.doit()"
   ]
  },
  {
   "cell_type": "markdown",
   "metadata": {},
   "source": [
    "No es autofunción del operador $d/dx$ "
   ]
  },
  {
   "cell_type": "markdown",
   "metadata": {},
   "source": [
    "d) $\\large kx$ ¿Cuál es su autovalor?"
   ]
  },
  {
   "cell_type": "code",
   "execution_count": 32,
   "metadata": {},
   "outputs": [
    {
     "data": {
      "image/png": "[encoded data removed]",
      "text/latex": [
       "$\\displaystyle \\left( \\frac{\\partial}{\\partial x} k x, \\  k\\right)$"
      ],
      "text/plain": [
       "⎛∂         ⎞\n",
       "⎜──(k⋅x), k⎟\n",
       "⎝∂x        ⎠"
      ]
     },
     "execution_count": 32,
     "metadata": {},
     "output_type": "execute_result"
    }
   ],
   "source": [
    "x, k=sp.symbols('x k')\n",
    "f=k*x\n",
    "D1=sp.Derivative(f, x)\n",
    "D1, D1.doit()"
   ]
  },
  {
   "cell_type": "markdown",
   "metadata": {},
   "source": [
    "No cumple con los requisitos descritos, no es función propia del operador."
   ]
  },
  {
   "cell_type": "markdown",
   "metadata": {},
   "source": [
    "e) $\\large e^{−ax^{2}}$ ¿Cuál es su autovalor?"
   ]
  },
  {
   "cell_type": "code",
   "execution_count": 33,
   "metadata": {},
   "outputs": [
    {
     "data": {
      "image/png": "[encoded data removed]",
      "text/latex": [
       "$\\displaystyle \\left( \\frac{\\partial}{\\partial x} e^{- a x^{2}}, \\  - 2 a x e^{- a x^{2}}\\right)$"
      ],
      "text/plain": [
       "⎛  ⎛     2⎞              2⎞\n",
       "⎜∂ ⎜ -a⋅x ⎟          -a⋅x ⎟\n",
       "⎜──⎝ℯ     ⎠, -2⋅a⋅x⋅ℯ     ⎟\n",
       "⎝∂x                       ⎠"
      ]
     },
     "execution_count": 33,
     "metadata": {},
     "output_type": "execute_result"
    }
   ],
   "source": [
    "x, a=sp.symbols('x a')\n",
    "f=sp.exp((-a)*(x)**2)\n",
    "D1=sp.Derivative(f, x)\n",
    "D1, D1.doit()"
   ]
  },
  {
   "cell_type": "markdown",
   "metadata": {},
   "source": [
    "<div class=\"alert alert-success\">b) Determine cuáles de las funciones anteriores es también autofunción del operador $\\large \\frac{d^2}{dx^2}$ y dé los autovalores correspondientes."
   ]
  },
  {
   "cell_type": "code",
   "execution_count": 34,
   "metadata": {},
   "outputs": [],
   "source": [
    "import matplotlib as npl \n",
    "import matplotlib.pylab as plit\n",
    "import numpy as np \n",
    "import sympy as sp\n",
    "from sympy import*\n",
    "init_printing(use_unicode=True)"
   ]
  },
  {
   "cell_type": "markdown",
   "metadata": {},
   "source": [
    "a) $\\large e^{ikx}$ "
   ]
  },
  {
   "cell_type": "code",
   "execution_count": 35,
   "metadata": {},
   "outputs": [
    {
     "data": {
      "image/png": "[encoded data removed]",
      "text/latex": [
       "$\\displaystyle \\left( \\frac{\\partial^{2}}{\\partial x^{2}} e^{i k x}, \\  - k^{2} e^{i k x}\\right)$"
      ],
      "text/plain": [
       "⎛  2                    ⎞\n",
       "⎜ ∂ ⎛ ⅈ⋅k⋅x⎞    2  ⅈ⋅k⋅x⎟\n",
       "⎜───⎝ℯ     ⎠, -k ⋅ℯ     ⎟\n",
       "⎜  2                    ⎟\n",
       "⎝∂x                     ⎠"
      ]
     },
     "execution_count": 35,
     "metadata": {},
     "output_type": "execute_result"
    }
   ],
   "source": [
    "x, k=sp.symbols('x k')\n",
    "f=sp.exp(sp.I*k*x)\n",
    "D2=sp.Derivative(f, x, 2)\n",
    "D2, D2.doit()"
   ]
  },
  {
   "cell_type": "markdown",
   "metadata": {},
   "source": [
    "Es autofunción del operador, y su valor corresponde a -K^2"
   ]
  },
  {
   "cell_type": "markdown",
   "metadata": {},
   "source": [
    "b) $\\large cos(kx)$ "
   ]
  },
  {
   "cell_type": "code",
   "execution_count": 36,
   "metadata": {},
   "outputs": [
    {
     "data": {
      "image/png": "[encoded data removed]",
      "text/latex": [
       "$\\displaystyle \\left( \\frac{\\partial^{2}}{\\partial x^{2}} \\cos{\\left(k x \\right)}, \\  - k^{2} \\cos{\\left(k x \\right)}\\right)$"
      ],
      "text/plain": [
       "⎛  2                        ⎞\n",
       "⎜ ∂               2         ⎟\n",
       "⎜───(cos(k⋅x)), -k ⋅cos(k⋅x)⎟\n",
       "⎜  2                        ⎟\n",
       "⎝∂x                         ⎠"
      ]
     },
     "execution_count": 36,
     "metadata": {},
     "output_type": "execute_result"
    }
   ],
   "source": [
    "x, k=sp.symbols('x k')\n",
    "f=sp.cos(k*x)\n",
    "D1=sp.Derivative(f, x, 2)\n",
    "D1, D1.doit()"
   ]
  },
  {
   "cell_type": "markdown",
   "metadata": {},
   "source": [
    "Esta expresión si es autofunción del operador $\\frac{d^2}{dx^2}$ y su valor propio es igual a -k^2"
   ]
  },
  {
   "cell_type": "markdown",
   "metadata": {},
   "source": [
    "c) $\\large k$ "
   ]
  },
  {
   "cell_type": "code",
   "execution_count": 37,
   "metadata": {},
   "outputs": [
    {
     "data": {
      "image/png": "[encoded data removed]",
      "text/latex": [
       "$\\displaystyle \\left( \\frac{d^{2}}{d x^{2}} k, \\  0\\right)$"
      ],
      "text/plain": [
       "⎛  2      ⎞\n",
       "⎜ d       ⎟\n",
       "⎜───(k), 0⎟\n",
       "⎜  2      ⎟\n",
       "⎝dx       ⎠"
      ]
     },
     "execution_count": 37,
     "metadata": {},
     "output_type": "execute_result"
    }
   ],
   "source": [
    "x, k=sp.symbols('x k')\n",
    "f=k\n",
    "D1=sp.Derivative(f, x, 2)\n",
    "D1, D1.doit()"
   ]
  },
  {
   "cell_type": "markdown",
   "metadata": {},
   "source": [
    "No cumple por lo cual no es autofunción del operador."
   ]
  },
  {
   "cell_type": "markdown",
   "metadata": {},
   "source": [
    "d) $\\large kx$ "
   ]
  },
  {
   "cell_type": "code",
   "execution_count": 38,
   "metadata": {},
   "outputs": [
    {
     "data": {
      "image/png": "[encoded data removed]",
      "text/latex": [
       "$\\displaystyle \\left( \\frac{\\partial^{2}}{\\partial x^{2}} k x, \\  0\\right)$"
      ],
      "text/plain": [
       "⎛  2        ⎞\n",
       "⎜ ∂         ⎟\n",
       "⎜───(k⋅x), 0⎟\n",
       "⎜  2        ⎟\n",
       "⎝∂x         ⎠"
      ]
     },
     "execution_count": 38,
     "metadata": {},
     "output_type": "execute_result"
    }
   ],
   "source": [
    "x, k=sp.symbols('x k')\n",
    "f=k*x\n",
    "D1=sp.Derivative(f, x, 2)\n",
    "D1, D1.doit()"
   ]
  },
  {
   "cell_type": "markdown",
   "metadata": {},
   "source": [
    "La expresión no satisface los requisitos descritos en la ecuación propia."
   ]
  },
  {
   "cell_type": "markdown",
   "metadata": {},
   "source": [
    "e) $\\large e^{−ax^{2}}$"
   ]
  },
  {
   "cell_type": "code",
   "execution_count": 39,
   "metadata": {},
   "outputs": [
    {
     "data": {
      "image/png": "[encoded data removed]",
      "text/latex": [
       "$\\displaystyle \\left( \\frac{\\partial^{2}}{\\partial x^{2}} e^{- a x^{2}}, \\  2 a \\left(2 a x^{2} - 1\\right) e^{- a x^{2}}\\right)$"
      ],
      "text/plain": [
       "⎛  2⎛     2⎞                        2⎞\n",
       "⎜ ∂ ⎜ -a⋅x ⎟      ⎛     2    ⎞  -a⋅x ⎟\n",
       "⎜───⎝ℯ     ⎠, 2⋅a⋅⎝2⋅a⋅x  - 1⎠⋅ℯ     ⎟\n",
       "⎜  2                                 ⎟\n",
       "⎝∂x                                  ⎠"
      ]
     },
     "execution_count": 39,
     "metadata": {},
     "output_type": "execute_result"
    }
   ],
   "source": [
    "x, a=sp.symbols('x a')\n",
    "f=sp.exp((-a)*(x)**2)\n",
    "D1=sp.Derivative(f, x, 2)\n",
    "D1, D1.doit()"
   ]
  },
  {
   "cell_type": "markdown",
   "metadata": {},
   "source": [
    "No es una autofunción para el operador dado."
   ]
  },
  {
   "cell_type": "markdown",
   "metadata": {},
   "source": [
    "**<div class=\"alert alert-success\">6. Halle los conmutadores siguientes:**"
   ]
  },
  {
   "cell_type": "markdown",
   "metadata": {},
   "source": [
    "**<div class=\"alert alert-success\">a) $\\large [\\hat{x}^2,\\frac{d^2}{dx^2}]$**"
   ]
  },
  {
   "cell_type": "code",
   "execution_count": 40,
   "metadata": {},
   "outputs": [
    {
     "data": {
      "image/png": "[encoded data removed]",
      "text/latex": [
       "$\\displaystyle f{\\left(x \\right)}$"
      ],
      "text/plain": [
       "f(x)"
      ]
     },
     "execution_count": 40,
     "metadata": {},
     "output_type": "execute_result"
    }
   ],
   "source": [
    "x, hbar=sp.symbols('x hbar')\n",
    "f=sp.Function('f')(x)\n",
    "f"
   ]
  },
  {
   "cell_type": "code",
   "execution_count": 41,
   "metadata": {},
   "outputs": [
    {
     "data": {
      "image/png": "[encoded data removed]",
      "text/latex": [
       "$\\displaystyle x^{2} \\frac{d^{2}}{d x^{2}} f{\\left(x \\right)} - \\frac{d^{2}}{d x^{2}} x^{2} f{\\left(x \\right)}$"
      ],
      "text/plain": [
       "     2           2         \n",
       " 2  d           d ⎛ 2     ⎞\n",
       "x ⋅───(f(x)) - ───⎝x ⋅f(x)⎠\n",
       "     2           2         \n",
       "   dx          dx          "
      ]
     },
     "execution_count": 41,
     "metadata": {},
     "output_type": "execute_result"
    }
   ],
   "source": [
    "c1=(x**2)*sp.Derivative(f,x,2)-sp.Derivative(f*x**2,x,2)\n",
    "c1"
   ]
  },
  {
   "cell_type": "code",
   "execution_count": 42,
   "metadata": {},
   "outputs": [
    {
     "data": {
      "image/png": "[encoded data removed]",
      "text/latex": [
       "$\\displaystyle - 4 x \\frac{d}{d x} f{\\left(x \\right)} - 2 f{\\left(x \\right)}$"
      ],
      "text/plain": [
       "      d                \n",
       "- 4⋅x⋅──(f(x)) - 2⋅f(x)\n",
       "      dx               "
      ]
     },
     "execution_count": 42,
     "metadata": {},
     "output_type": "execute_result"
    }
   ],
   "source": [
    "c2=c1.doit()\n",
    "c2"
   ]
  },
  {
   "cell_type": "code",
   "execution_count": 43,
   "metadata": {},
   "outputs": [
    {
     "data": {
      "image/png": "[encoded data removed]",
      "text/latex": [
       "$\\displaystyle - 4 x \\frac{d}{d x} f{\\left(x \\right)} - 2 f{\\left(x \\right)}$"
      ],
      "text/plain": [
       "      d                \n",
       "- 4⋅x⋅──(f(x)) - 2⋅f(x)\n",
       "      dx               "
      ]
     },
     "execution_count": 43,
     "metadata": {},
     "output_type": "execute_result"
    }
   ],
   "source": [
    "sp.simplify(c2)"
   ]
  },
  {
   "cell_type": "markdown",
   "metadata": {},
   "source": [
    "Por lo tanto el conmutador para esta expresión es:"
   ]
  },
  {
   "cell_type": "markdown",
   "metadata": {},
   "source": [
    "$[x, p]=-4x\\frac{d}{dx}-2$ "
   ]
  },
  {
   "cell_type": "markdown",
   "metadata": {},
   "source": [
    "**<div class=\"alert alert-success\">b) $\\large [\\hat{x},\\hat{p}_x]$**"
   ]
  },
  {
   "cell_type": "code",
   "execution_count": 44,
   "metadata": {},
   "outputs": [],
   "source": [
    "import matplotlib as npl \n",
    "import matplotlib.pylab as plit\n",
    "import numpy as np \n",
    "import sympy as sp\n",
    "from sympy import*\n",
    "init_printing(use_unicode=True)"
   ]
  },
  {
   "cell_type": "code",
   "execution_count": 45,
   "metadata": {},
   "outputs": [
    {
     "data": {
      "image/png": "[encoded data removed]",
      "text/latex": [
       "$\\displaystyle f{\\left(x \\right)}$"
      ],
      "text/plain": [
       "f(x)"
      ]
     },
     "execution_count": 45,
     "metadata": {},
     "output_type": "execute_result"
    }
   ],
   "source": [
    "x, hbar=sp.symbols('x hbar')\n",
    "f=sp.Function('f')(x)\n",
    "f"
   ]
  },
  {
   "cell_type": "code",
   "execution_count": 46,
   "metadata": {},
   "outputs": [
    {
     "data": {
      "image/png": "[encoded data removed]",
      "text/latex": [
       "$\\displaystyle - i \\hbar x \\frac{d}{d x} f{\\left(x \\right)} + i \\hbar \\frac{d}{d x} x f{\\left(x \\right)}$"
      ],
      "text/plain": [
       "        d              d         \n",
       "- ⅈ⋅h̅⋅x⋅──(f(x)) + ⅈ⋅h̅⋅──(x⋅f(x))\n",
       "        dx             dx        "
      ]
     },
     "execution_count": 46,
     "metadata": {},
     "output_type": "execute_result"
    }
   ],
   "source": [
    "c1=(-sp.I*hbar)*x*sp.Derivative(f,x)-(-sp.I*hbar)*sp.Derivative(x*f,x)\n",
    "c1"
   ]
  },
  {
   "cell_type": "code",
   "execution_count": 47,
   "metadata": {},
   "outputs": [
    {
     "data": {
      "image/png": "[encoded data removed]",
      "text/latex": [
       "$\\displaystyle - i \\hbar x \\frac{d}{d x} f{\\left(x \\right)} + i \\hbar \\left(x \\frac{d}{d x} f{\\left(x \\right)} + f{\\left(x \\right)}\\right)$"
      ],
      "text/plain": [
       "        d              ⎛  d              ⎞\n",
       "- ⅈ⋅h̅⋅x⋅──(f(x)) + ⅈ⋅h̅⋅⎜x⋅──(f(x)) + f(x)⎟\n",
       "        dx             ⎝  dx             ⎠"
      ]
     },
     "execution_count": 47,
     "metadata": {},
     "output_type": "execute_result"
    }
   ],
   "source": [
    "c2=c1.doit()\n",
    "c2"
   ]
  },
  {
   "cell_type": "code",
   "execution_count": 48,
   "metadata": {},
   "outputs": [
    {
     "data": {
      "image/png": "[encoded data removed]",
      "text/latex": [
       "$\\displaystyle i \\hbar f{\\left(x \\right)}$"
      ],
      "text/plain": [
       "ⅈ⋅h̅⋅f(x)"
      ]
     },
     "execution_count": 48,
     "metadata": {},
     "output_type": "execute_result"
    }
   ],
   "source": [
    "sp.simplify(c2)"
   ]
  },
  {
   "cell_type": "markdown",
   "metadata": {},
   "source": [
    "En este caso el conmutador es:"
   ]
  },
  {
   "cell_type": "markdown",
   "metadata": {},
   "source": [
    "$[x, p]=i\\hbar$ "
   ]
  },
  {
   "cell_type": "markdown",
   "metadata": {},
   "source": [
    "**<div class=\"alert alert-success\">c) $\\large [\\hat{p}_x,\\hat{H}_x]$**"
   ]
  },
  {
   "cell_type": "markdown",
   "metadata": {},
   "source": [
    "En este caso, primero es necesario tener en cuenta:"
   ]
  },
  {
   "cell_type": "markdown",
   "metadata": {},
   "source": [
    "$$\\hat{H}=-\\frac{\\hbar^2}{2m}\\frac{\\partial^2}{\\partial x^2} + \\hat V(x)$$ y que $$\\large \\hat{p_x}=-{i}{\\hbar}\\frac{\\partial}{\\partial x}$$\n",
    "\n",
    "Entonces, \n",
    "\n",
    "$$[\\hat{p}_x,\\hat{H}_x][f(x)]= -{i}{\\hbar}\\frac{\\partial}{\\partial x}[-\\frac{\\hbar^2}{2m}\\frac{\\partial^2}{\\partial x^2} + \\hat V(x)][{f(x)}]\n",
    "- [-\\frac{\\hbar^2}{2m}\\frac{\\partial^2}{\\partial x^2} + \\hat V(x)][-{i}{\\hbar}\\frac{\\partial}{\\partial x}] f(x)$$"
   ]
  },
  {
   "cell_type": "code",
   "execution_count": 50,
   "metadata": {},
   "outputs": [
    {
     "data": {
      "image/png": "[encoded data removed]",
      "text/latex": [
       "$\\displaystyle v{\\left(x \\right)}$"
      ],
      "text/plain": [
       "v(x)"
      ]
     },
     "execution_count": 50,
     "metadata": {},
     "output_type": "execute_result"
    }
   ],
   "source": [
    "x, hbar, m =symbols('x hbar m')\n",
    "f = Function('f')(x)\n",
    "v = Function('v')(x)\n",
    "v"
   ]
  },
  {
   "cell_type": "code",
   "execution_count": 51,
   "metadata": {},
   "outputs": [
    {
     "data": {
      "image/png": "[encoded data removed]",
      "text/latex": [
       "$\\displaystyle - \\frac{\\hbar^{2} \\frac{d^{3}}{d x^{3}} f{\\left(x \\right)}}{2 m}$"
      ],
      "text/plain": [
       "      3       \n",
       "  2  d        \n",
       "-h̅ ⋅───(f(x)) \n",
       "      3       \n",
       "    dx        \n",
       "──────────────\n",
       "     2⋅m      "
      ]
     },
     "execution_count": 51,
     "metadata": {},
     "output_type": "execute_result"
    }
   ],
   "source": [
    "c1=(((-(hbar)**2)/(2*m))*(Derivative(f, x, 3)))\n",
    "c1"
   ]
  },
  {
   "cell_type": "code",
   "execution_count": 52,
   "metadata": {},
   "outputs": [
    {
     "data": {
      "image/png": "[encoded data removed]",
      "text/latex": [
       "$\\displaystyle f{\\left(x \\right)} \\frac{d}{d x} v{\\left(x \\right)} + v{\\left(x \\right)} \\frac{d}{d x} f{\\left(x \\right)}$"
      ],
      "text/plain": [
       "     d               d       \n",
       "f(x)⋅──(v(x)) + v(x)⋅──(f(x))\n",
       "     dx              dx      "
      ]
     },
     "execution_count": 52,
     "metadata": {},
     "output_type": "execute_result"
    }
   ],
   "source": [
    "c2=f*Derivative(v,x)+v*Derivative(f,x)\n",
    "c2"
   ]
  },
  {
   "cell_type": "code",
   "execution_count": 53,
   "metadata": {},
   "outputs": [
    {
     "data": {
      "image/png": "[encoded data removed]",
      "text/latex": [
       "$\\displaystyle - i \\hbar \\left(- \\frac{\\hbar^{2} \\frac{d^{3}}{d x^{3}} f{\\left(x \\right)}}{2 m} + f{\\left(x \\right)} \\frac{d}{d x} v{\\left(x \\right)} + v{\\left(x \\right)} \\frac{d}{d x} f{\\left(x \\right)}\\right)$"
      ],
      "text/plain": [
       "     ⎛       3                                      ⎞\n",
       "     ⎜   2  d                                       ⎟\n",
       "     ⎜  h̅ ⋅───(f(x))                                ⎟\n",
       "     ⎜       3                                      ⎟\n",
       "     ⎜     dx               d               d       ⎟\n",
       "-ⅈ⋅h̅⋅⎜- ──────────── + f(x)⋅──(v(x)) + v(x)⋅──(f(x))⎟\n",
       "     ⎝      2⋅m             dx              dx      ⎠"
      ]
     },
     "execution_count": 53,
     "metadata": {},
     "output_type": "execute_result"
    }
   ],
   "source": [
    "c3=(-I*hbar)*(c1+c2)\n",
    "c3"
   ]
  },
  {
   "cell_type": "code",
   "execution_count": 54,
   "metadata": {},
   "outputs": [
    {
     "data": {
      "image/png": "[encoded data removed]",
      "text/latex": [
       "$\\displaystyle - \\frac{\\hbar^{2} \\frac{d^{3}}{d x^{3}} f{\\left(x \\right)}}{2 m} + v{\\left(x \\right)} \\frac{d}{d x} f{\\left(x \\right)}$"
      ],
      "text/plain": [
       "       3                      \n",
       "   2  d                       \n",
       "  h̅ ⋅───(f(x))                \n",
       "       3                      \n",
       "     dx               d       \n",
       "- ──────────── + v(x)⋅──(f(x))\n",
       "      2⋅m             dx      "
      ]
     },
     "execution_count": 54,
     "metadata": {},
     "output_type": "execute_result"
    }
   ],
   "source": [
    "c4=(((-(hbar)**2)/(2*m))*(Derivative(f, x, 3))+v*Derivative(f,x))\n",
    "c4"
   ]
  },
  {
   "cell_type": "code",
   "execution_count": 55,
   "metadata": {},
   "outputs": [
    {
     "data": {
      "image/png": "[encoded data removed]",
      "text/latex": [
       "$\\displaystyle - i \\hbar \\left(- \\frac{\\hbar^{2} \\frac{d^{3}}{d x^{3}} f{\\left(x \\right)}}{2 m} + v{\\left(x \\right)} \\frac{d}{d x} f{\\left(x \\right)}\\right)$"
      ],
      "text/plain": [
       "     ⎛       3                      ⎞\n",
       "     ⎜   2  d                       ⎟\n",
       "     ⎜  h̅ ⋅───(f(x))                ⎟\n",
       "     ⎜       3                      ⎟\n",
       "     ⎜     dx               d       ⎟\n",
       "-ⅈ⋅h̅⋅⎜- ──────────── + v(x)⋅──(f(x))⎟\n",
       "     ⎝      2⋅m             dx      ⎠"
      ]
     },
     "execution_count": 55,
     "metadata": {},
     "output_type": "execute_result"
    }
   ],
   "source": [
    "c5=((-I*hbar)*c4)\n",
    "c5"
   ]
  },
  {
   "cell_type": "code",
   "execution_count": 56,
   "metadata": {},
   "outputs": [
    {
     "data": {
      "image/png": "[encoded data removed]",
      "text/latex": [
       "$\\displaystyle i \\hbar \\left(- \\frac{\\hbar^{2} \\frac{d^{3}}{d x^{3}} f{\\left(x \\right)}}{2 m} + v{\\left(x \\right)} \\frac{d}{d x} f{\\left(x \\right)}\\right) - i \\hbar \\left(- \\frac{\\hbar^{2} \\frac{d^{3}}{d x^{3}} f{\\left(x \\right)}}{2 m} + f{\\left(x \\right)} \\frac{d}{d x} v{\\left(x \\right)} + v{\\left(x \\right)} \\frac{d}{d x} f{\\left(x \\right)}\\right)$"
      ],
      "text/plain": [
       "    ⎛       3                      ⎞       ⎛       3                          \n",
       "    ⎜   2  d                       ⎟       ⎜   2  d                           \n",
       "    ⎜  h̅ ⋅───(f(x))                ⎟       ⎜  h̅ ⋅───(f(x))                  \n",
       "    ⎜       3                      ⎟       ⎜       3                          \n",
       "    ⎜     dx               d       ⎟       ⎜     dx               d           \n",
       "ⅈ⋅h̅⋅⎜- ──────────── + v(x)⋅──(f(x))⎟ - ⅈ⋅h̅⋅⎜- ──────────── + f(x)⋅──(v(x)) +\n",
       "    ⎝      2⋅m             dx      ⎠       ⎝      2⋅m             dx          \n",
       "\n",
       "            ⎞\n",
       "            ⎟\n",
       "              ⎟\n",
       "            ⎟\n",
       "    d       ⎟\n",
       " v(x)⋅──(f(x))⎟\n",
       "    dx      ⎠"
      ]
     },
     "execution_count": 56,
     "metadata": {},
     "output_type": "execute_result"
    }
   ],
   "source": [
    "c6=c3-c5\n",
    "c6"
   ]
  },
  {
   "cell_type": "code",
   "execution_count": 57,
   "metadata": {},
   "outputs": [
    {
     "data": {
      "image/png": "[encoded data removed]",
      "text/latex": [
       "$\\displaystyle - i \\hbar f{\\left(x \\right)} \\frac{d}{d x} v{\\left(x \\right)}$"
      ],
      "text/plain": [
       "          d       \n",
       "-ⅈ⋅h̅⋅f(x)⋅──(v(x))\n",
       "          dx      "
      ]
     },
     "execution_count": 57,
     "metadata": {},
     "output_type": "execute_result"
    }
   ],
   "source": [
    "simplify(c3-c5)"
   ]
  },
  {
   "cell_type": "markdown",
   "metadata": {},
   "source": [
    "Entonces el conmutador en este caso corresponde a:"
   ]
  },
  {
   "cell_type": "markdown",
   "metadata": {},
   "source": [
    "$-{i}{\\hbar}\\frac{d}{dx}v(x)$"
   ]
  },
  {
   "cell_type": "markdown",
   "metadata": {},
   "source": [
    "**<div class=\"alert alert-danger\">7. Calcule $\\large [\\hat{x}^2,\\frac{d^2}{dx^2}](e^{x^2}+cos(2x))$:**"
   ]
  },
  {
   "cell_type": "code",
   "execution_count": 58,
   "metadata": {},
   "outputs": [],
   "source": [
    "import matplotlib as npl \n",
    "import matplotlib.pylab as plit\n",
    "import numpy as np \n",
    "import sympy as sp\n",
    "from sympy import*\n",
    "init_printing(use_unicode=True)"
   ]
  },
  {
   "cell_type": "code",
   "execution_count": 59,
   "metadata": {},
   "outputs": [
    {
     "data": {
      "image/png": "[encoded data removed]",
      "text/latex": [
       "$\\displaystyle e^{x^{2}} + \\cos{\\left(2 x \\right)}$"
      ],
      "text/plain": [
       " ⎛ 2⎞           \n",
       " ⎝x ⎠           \n",
       "ℯ     + cos(2⋅x)"
      ]
     },
     "execution_count": 59,
     "metadata": {},
     "output_type": "execute_result"
    }
   ],
   "source": [
    "x= symbols ('x')\n",
    "f= exp(x**2)+cos(2*x)\n",
    "f"
   ]
  },
  {
   "cell_type": "code",
   "execution_count": 60,
   "metadata": {},
   "outputs": [
    {
     "data": {
      "image/png": "[encoded data removed]",
      "text/latex": [
       "$\\displaystyle x^{2} \\frac{d^{2}}{d x^{2}} \\left(e^{x^{2}} + \\cos{\\left(2 x \\right)}\\right)$"
      ],
      "text/plain": [
       "     2⎛ ⎛ 2⎞           ⎞\n",
       " 2  d ⎜ ⎝x ⎠           ⎟\n",
       "x ⋅───⎝ℯ     + cos(2⋅x)⎠\n",
       "     2                  \n",
       "   dx                   "
      ]
     },
     "execution_count": 60,
     "metadata": {},
     "output_type": "execute_result"
    }
   ],
   "source": [
    "Y1=x**2*Derivative(f,x,2)\n",
    "Y1"
   ]
  },
  {
   "cell_type": "code",
   "execution_count": 61,
   "metadata": {},
   "outputs": [
    {
     "data": {
      "image/png": "[encoded data removed]",
      "text/latex": [
       "$\\displaystyle \\frac{d^{2}}{d x^{2}} x^{2} \\left(e^{x^{2}} + \\cos{\\left(2 x \\right)}\\right)$"
      ],
      "text/plain": [
       "  2⎛   ⎛ ⎛ 2⎞           ⎞⎞\n",
       " d ⎜ 2 ⎜ ⎝x ⎠           ⎟⎟\n",
       "───⎝x ⋅⎝ℯ     + cos(2⋅x)⎠⎠\n",
       "  2                       \n",
       "dx                        "
      ]
     },
     "execution_count": 61,
     "metadata": {},
     "output_type": "execute_result"
    }
   ],
   "source": [
    "Y2=Derivative(x**2*f,x,2)\n",
    "Y2"
   ]
  },
  {
   "cell_type": "code",
   "execution_count": 62,
   "metadata": {},
   "outputs": [
    {
     "data": {
      "image/png": "[encoded data removed]",
      "text/latex": [
       "$\\displaystyle 2 x^{2} \\left(2 x^{2} e^{x^{2}} + e^{x^{2}} - 2 \\cos{\\left(2 x \\right)}\\right)$"
      ],
      "text/plain": [
       "     ⎛      ⎛ 2⎞    ⎛ 2⎞             ⎞\n",
       "   2 ⎜   2  ⎝x ⎠    ⎝x ⎠             ⎟\n",
       "2⋅x ⋅⎝2⋅x ⋅ℯ     + ℯ     - 2⋅cos(2⋅x)⎠"
      ]
     },
     "execution_count": 62,
     "metadata": {},
     "output_type": "execute_result"
    }
   ],
   "source": [
    "Y3=Y1.doit()\n",
    "Y3"
   ]
  },
  {
   "cell_type": "code",
   "execution_count": 63,
   "metadata": {},
   "outputs": [
    {
     "data": {
      "image/png": "[encoded data removed]",
      "text/latex": [
       "$\\displaystyle 2 \\left(x^{2} \\left(2 x^{2} e^{x^{2}} + e^{x^{2}} - 2 \\cos{\\left(2 x \\right)}\\right) + 4 x \\left(x e^{x^{2}} - \\sin{\\left(2 x \\right)}\\right) + e^{x^{2}} + \\cos{\\left(2 x \\right)}\\right)$"
      ],
      "text/plain": [
       "  ⎛   ⎛      ⎛ 2⎞    ⎛ 2⎞             ⎞       ⎛   ⎛ 2⎞           ⎞    ⎛ 2⎞    \n",
       "  ⎜ 2 ⎜   2  ⎝x ⎠    ⎝x ⎠             ⎟       ⎜   ⎝x ⎠           ⎟    ⎝x ⎠    \n",
       "2⋅⎝x ⋅⎝2⋅x ⋅ℯ     + ℯ     - 2⋅cos(2⋅x)⎠ + 4⋅x⋅⎝x⋅ℯ     - sin(2⋅x)⎠ + ℯ     + c\n",
       "\n",
       "       ⎞\n",
       "       ⎟\n",
       "os(2⋅x)⎠"
      ]
     },
     "execution_count": 63,
     "metadata": {},
     "output_type": "execute_result"
    }
   ],
   "source": [
    "Y4=Y2.doit()\n",
    "Y4"
   ]
  },
  {
   "cell_type": "code",
   "execution_count": 64,
   "metadata": {},
   "outputs": [
    {
     "data": {
      "image/png": "[encoded data removed]",
      "text/latex": [
       "$\\displaystyle 2 x^{2} \\left(2 x^{2} e^{x^{2}} + e^{x^{2}} - 2 \\cos{\\left(2 x \\right)}\\right) - 2 \\left(x^{2} \\left(2 x^{2} e^{x^{2}} + e^{x^{2}} - 2 \\cos{\\left(2 x \\right)}\\right) + 4 x \\left(x e^{x^{2}} - \\sin{\\left(2 x \\right)}\\right) + e^{x^{2}} + \\cos{\\left(2 x \\right)}\\right)$"
      ],
      "text/plain": [
       "     ⎛      ⎛ 2⎞    ⎛ 2⎞             ⎞     ⎛   ⎛      ⎛ 2⎞    ⎛ 2⎞            \n",
       "   2 ⎜   2  ⎝x ⎠    ⎝x ⎠             ⎟     ⎜ 2 ⎜   2  ⎝x ⎠    ⎝x ⎠            \n",
       "2⋅x ⋅⎝2⋅x ⋅ℯ     + ℯ     - 2⋅cos(2⋅x)⎠ - 2⋅⎝x ⋅⎝2⋅x ⋅ℯ     + ℯ     - 2⋅cos(2⋅x\n",
       "\n",
       " ⎞       ⎛   ⎛ 2⎞           ⎞    ⎛ 2⎞           ⎞\n",
       " ⎟       ⎜   ⎝x ⎠           ⎟    ⎝x ⎠           ⎟\n",
       ")⎠ + 4⋅x⋅⎝x⋅ℯ     - sin(2⋅x)⎠ + ℯ     + cos(2⋅x)⎠"
      ]
     },
     "execution_count": 64,
     "metadata": {},
     "output_type": "execute_result"
    }
   ],
   "source": [
    "Y3-Y4"
   ]
  },
  {
   "cell_type": "code",
   "execution_count": 65,
   "metadata": {},
   "outputs": [
    {
     "data": {
      "image/png": "[encoded data removed]",
      "text/latex": [
       "$\\displaystyle - 8 x \\left(x e^{x^{2}} - \\sin{\\left(2 x \\right)}\\right) - 2 e^{x^{2}} - 2 \\cos{\\left(2 x \\right)}$"
      ],
      "text/plain": [
       "      ⎛   ⎛ 2⎞           ⎞      ⎛ 2⎞             \n",
       "      ⎜   ⎝x ⎠           ⎟      ⎝x ⎠             \n",
       "- 8⋅x⋅⎝x⋅ℯ     - sin(2⋅x)⎠ - 2⋅ℯ     - 2⋅cos(2⋅x)"
      ]
     },
     "execution_count": 65,
     "metadata": {},
     "output_type": "execute_result"
    }
   ],
   "source": [
    "simplify(Y3-Y4)"
   ]
  },
  {
   "cell_type": "markdown",
   "metadata": {},
   "source": [
    "### Entonces:\n",
    "$\\large [\\hat{x}^2,\\frac{d^2}{dx^2}](e^{x^2}+cos(2x))=-8x(e^{x^2}-sin(2x))-2e^{x^2}-2cos(2x))$"
   ]
  },
  {
   "cell_type": "markdown",
   "metadata": {},
   "source": [
    "**<div class=\"alert alert-success\"> 8. Deduzca si cada una de las expresiones siguientes es un operador o una función.**"
   ]
  },
  {
   "cell_type": "markdown",
   "metadata": {},
   "source": [
    "<div class=\"alert alert-success\">a) $\\large \\hat{A}\\hat{B}g(x)$ "
   ]
  },
  {
   "cell_type": "markdown",
   "metadata": {},
   "source": [
    "Es una función, debido a que cuando el operador actúa sobre una función el resultado de esto es una función.\n",
    "\n",
    "En primer lugar se tiene el producto de dos operadores y el resutado es otro operador, pero despues al multiplicarlo por una función el resultado ahora es una función.\n"
   ]
  },
  {
   "cell_type": "markdown",
   "metadata": {},
   "source": [
    "<div class=\"alert alert-success\">b) $\\large \\hat{A}\\hat{B}+\\hat{B}\\hat{A}$ "
   ]
  },
  {
   "cell_type": "markdown",
   "metadata": {},
   "source": [
    "Es un operador, debido a que cuando se realizan operaciones entre operadores siempre dan como resultado otro operador.\n",
    "\n",
    "En este caso se tiene el producto de dos operadores sumado al producto de otros dos operadores y esto da como resultado un operador."
   ]
  },
  {
   "cell_type": "markdown",
   "metadata": {},
   "source": [
    "<div class=\"alert alert-success\">c) $\\large \\hat{B^2}f(x)$"
   ]
  },
  {
   "cell_type": "markdown",
   "metadata": {},
   "source": [
    "Es una función, ya que se esta multiplicando un operador por una función."
   ]
  },
  {
   "cell_type": "markdown",
   "metadata": {},
   "source": [
    "<div class=\"alert alert-success\">d) $\\large f(x)^*\\hat{A}f(x)$"
   ]
  },
  {
   "cell_type": "markdown",
   "metadata": {},
   "source": [
    "Es una función debido a que al multiplicar un operador por una función da como resultado otra función, la cual al multiplicarse nuevamente por una cuarta función, da como resultado otra."
   ]
  },
  {
   "cell_type": "markdown",
   "metadata": {},
   "source": [
    "**<div class=\"alert alert-warning\">9. Si la posición de un electrón se mide con una precisión de ±0.001 Å ¿Cuál será la máxima precisión para el momento?**"
   ]
  },
  {
   "cell_type": "markdown",
   "metadata": {},
   "source": [
    "Para conocer la máxima precisión del momento teniendo en cuenta la precisión de la posición se usa la ecuación del pricipio de incertidumbre de Heisenberg:"
   ]
  },
  {
   "cell_type": "markdown",
   "metadata": {},
   "source": [
    "$\\Delta x*\\Delta p\\geq(\\hslash/2)$"
   ]
  },
  {
   "cell_type": "markdown",
   "metadata": {},
   "source": [
    "$\\hbar=\\frac{h}{2pi}=\\frac{6.626x10^{-34}}{2pi}=1.054x10^{-10}$"
   ]
  },
  {
   "cell_type": "markdown",
   "metadata": {},
   "source": [
    "$\\Delta x=0.001 Å = 0.001 x 10^{-10}m$"
   ]
  },
  {
   "cell_type": "markdown",
   "metadata": {},
   "source": [
    "$\\Delta p\\geq(\\frac{\\frac{h}{2}}{0.001x10^{-10}})=5.27x10^{-22}kg * m/s$"
   ]
  },
  {
   "cell_type": "markdown",
   "metadata": {},
   "source": [
    "Este valor corresponde a la precisión máxima del electrón."
   ]
  },
  {
   "cell_type": "markdown",
   "metadata": {},
   "source": [
    "**<div class=\"alert alert-danger\">10. Demuestre que en el intervalo 0 ≤ θ ≤ 2π, las funciones $\\large e^{inθ}$, donde n=0, ±1, ±2, ..., forman un conjunto de funciones ortogonales. Halle la constante de normalización para este conjunto de funciones.**"
   ]
  },
  {
   "cell_type": "markdown",
   "metadata": {},
   "source": [
    "Para determinar si son funciones ortogonales, es necesario evaluar la integral en el intervalo establecido así:"
   ]
  },
  {
   "cell_type": "markdown",
   "metadata": {},
   "source": [
    "Con n=1 y 2"
   ]
  },
  {
   "cell_type": "code",
   "execution_count": 67,
   "metadata": {},
   "outputs": [
    {
     "data": {
      "image/png": "[encoded data removed]",
      "text/latex": [
       "$\\displaystyle \\int\\limits_{0}^{2 \\pi} e^{3 i tetha}\\, dtetha$"
      ],
      "text/plain": [
       "2⋅π                    \n",
       " ⌠                     \n",
       " ⎮   3⋅ⅈ⋅tetha         \n",
       " ⎮  ℯ          d(tetha)\n",
       " ⌡                     \n",
       " 0                     "
      ]
     },
     "execution_count": 67,
     "metadata": {},
     "output_type": "execute_result"
    }
   ],
   "source": [
    "tetha=Symbol(\"tetha\")\n",
    "Y2=exp(I*1*tetha)\n",
    "Y2C=exp(I*2*tetha)\n",
    "I2=Integral(Y2*Y2C,(tetha, 0, 2*pi))\n",
    "I2"
   ]
  },
  {
   "cell_type": "code",
   "execution_count": 68,
   "metadata": {},
   "outputs": [
    {
     "data": {
      "image/png": "[encoded data removed]",
      "text/latex": [
       "$\\displaystyle 0$"
      ],
      "text/plain": [
       "0"
      ]
     },
     "execution_count": 68,
     "metadata": {},
     "output_type": "execute_result"
    }
   ],
   "source": [
    "I2.doit()"
   ]
  },
  {
   "cell_type": "markdown",
   "metadata": {},
   "source": [
    "Ahora con n=2 y 3"
   ]
  },
  {
   "cell_type": "code",
   "execution_count": 76,
   "metadata": {},
   "outputs": [
    {
     "data": {
      "image/png": "[encoded data removed]",
      "text/latex": [
       "$\\displaystyle \\int\\limits_{0}^{2 \\pi} e^{5 i tetha}\\, dtetha$"
      ],
      "text/plain": [
       "2⋅π                    \n",
       " ⌠                     \n",
       " ⎮   5⋅ⅈ⋅tetha         \n",
       " ⎮  ℯ          d(tetha)\n",
       " ⌡                     \n",
       " 0                     "
      ]
     },
     "execution_count": 76,
     "metadata": {},
     "output_type": "execute_result"
    }
   ],
   "source": [
    "tetha=Symbol(\"tetha\")\n",
    "Y2=exp(I*2*tetha)\n",
    "Y2C=exp(I*3*tetha)\n",
    "I2=Integral(Y2*Y2C,(tetha, 0, 2*pi))\n",
    "I2"
   ]
  },
  {
   "cell_type": "code",
   "execution_count": 77,
   "metadata": {},
   "outputs": [
    {
     "data": {
      "image/png": "[encoded data removed]",
      "text/latex": [
       "$\\displaystyle 0$"
      ],
      "text/plain": [
       "0"
      ]
     },
     "execution_count": 77,
     "metadata": {},
     "output_type": "execute_result"
    }
   ],
   "source": [
    "I2.doit()"
   ]
  },
  {
   "cell_type": "markdown",
   "metadata": {},
   "source": [
    "Se evidencia que en el intervalo, sí se forma un conjunto de funciones ortogonales"
   ]
  },
  {
   "cell_type": "markdown",
   "metadata": {},
   "source": [
    "Para hallar la constante de normalización:"
   ]
  },
  {
   "cell_type": "markdown",
   "metadata": {},
   "source": [
    "$\\int^{2pi}_{0} \\Psi^*\\Psi dtetha$"
   ]
  },
  {
   "cell_type": "markdown",
   "metadata": {},
   "source": [
    "$\\int^{2pi}_{0} \\ e^{-inθ}*e^{inθ} dtetha = b$"
   ]
  },
  {
   "cell_type": "markdown",
   "metadata": {},
   "source": [
    "La constante de normanlización esta dada por la expresión: $A=\\frac{1}{\\sqrt{b}}$"
   ]
  },
  {
   "cell_type": "code",
   "execution_count": 81,
   "metadata": {},
   "outputs": [
    {
     "data": {
      "image/png": "[encoded data removed]",
      "text/latex": [
       "$\\displaystyle \\left( \\int\\limits_{0}^{2 \\pi} 1\\, dtetha, \\  2 \\pi\\right)$"
      ],
      "text/plain": [
       "⎛2⋅π                ⎞\n",
       "⎜ ⌠                 ⎟\n",
       "⎜ ⎮  1 d(tetha), 2⋅π⎟\n",
       "⎜ ⌡                 ⎟\n",
       "⎝ 0                 ⎠"
      ]
     },
     "execution_count": 81,
     "metadata": {},
     "output_type": "execute_result"
    }
   ],
   "source": [
    "tetha=Symbol(\"tetha\")\n",
    "Y2=exp(I*1*tetha)\n",
    "Y2C=exp(-I*1*tetha)\n",
    "I2=Integral(Y2*Y2C,(tetha, 0, 2*pi))\n",
    "I2, I2.doit()"
   ]
  },
  {
   "cell_type": "markdown",
   "metadata": {},
   "source": [
    "$A=\\frac{1}{\\sqrt{2\\pi}}=0.399$"
   ]
  },
  {
   "cell_type": "markdown",
   "metadata": {},
   "source": [
    "Este valor corresponde a la constante de normalización para este conjunto de funciones."
   ]
  }
 ],
 "metadata": {
  "kernelspec": {
   "display_name": "Python 3",
   "language": "python",
   "name": "python3"
  },
  "language_info": {
   "codemirror_mode": {
    "name": "ipython",
    "version": 3
   },
   "file_extension": ".py",
   "mimetype": "text/x-python",
   "name": "python",
   "nbconvert_exporter": "python",
   "pygments_lexer": "ipython3",
   "version": "3.8.3"
  }
 },
 "nbformat": 4,
 "nbformat_minor": 4
}

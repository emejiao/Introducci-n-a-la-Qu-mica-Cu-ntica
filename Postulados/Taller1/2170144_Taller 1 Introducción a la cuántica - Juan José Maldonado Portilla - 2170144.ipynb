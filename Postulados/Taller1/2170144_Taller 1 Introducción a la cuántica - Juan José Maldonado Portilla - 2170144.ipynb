{
 "cells": [
  {
   "cell_type": "markdown",
   "metadata": {},
   "source": [
    "# <div class=\"alert alert-info\"><font color='Pink'> <h2 class=\"alert-heading\">Taller 1 Química Cuántica</h2>"
   ]
  },
  {
   "cell_type": "markdown",
   "metadata": {},
   "source": [
    "##  <div class=\"alert alert-info\"><font color='black'> <h2 class=\"alert-heading\">Juan José Maldonado Portilla - 2170144 </h2>"
   ]
  },
  {
   "cell_type": "markdown",
   "metadata": {},
   "source": [
    "## <font color=red> NOTA: 3.0"
   ]
  },
  {
   "cell_type": "code",
   "execution_count": 1,
   "metadata": {},
   "outputs": [],
   "source": [
    "import matplotlib as mpl\n",
    "import matplotlib.pylab as plt \n",
    "import numpy as np \n",
    "import sympy as sp\n",
    "from sympy import *"
   ]
  },
  {
   "cell_type": "markdown",
   "metadata": {},
   "source": [
    "**<div class=\"alert alert-warning\">1. Determinar cuáles de las siguientes funciones son aceptables como funciones de onda, definidas en los intervalos indicados.**\n",
    "**<div class=\"alert alert-warning\">a) $\\large \\frac{1}{x} [0,\\infty)$**\n",
    "**<div class=\"alert alert-warning\">b) $\\large e^{-|x|} (-\\infty, +\\infty)$**\n",
    "**<div class=\"alert alert-warning\">c) $\\large sen(x) [-4π, 4π]$**\n",
    "**<div class=\"alert alert-warning\">d) $\\large e^{-x} [0, \\infty)$**\n",
    "**<div class=\"alert alert-warning\">e) $\\large e^{-x}sen(x) [0, \\infty)$**\n",
    "<font color='blue'> Una función de onda es aceptable en un intervalo si esta es continua, derivable, si su derivada es continua y si su cuadrado del valor absoluto es integrable.  Si una función es derivable, es continua.  Para este punto voy a derivar las funciones dos veces e integrar su cuadrado. La primera derivada me dirá si es derivable, sí es continua.  Si la segunda derivada existe, la primera derivada es continua. "
   ]
  },
  {
   "cell_type": "code",
   "execution_count": 31,
   "metadata": {
    "scrolled": true
   },
   "outputs": [
    {
     "name": "stdout",
     "output_type": "stream",
     "text": [
      "Primera derivada: -1/x**2\n",
      "Segunda derivada: 2/x**3\n",
      "Integral: oo\n",
      "No es función de onda\n"
     ]
    }
   ],
   "source": [
    "x = sp.Symbol('x')\n",
    "y = 1/x\n",
    "z = sp.diff(y,x) \n",
    "w = sp.diff(z,x)\n",
    "v = sp.integrate(sp.sqrt((y)**2**2), (x, 0, +oo))\n",
    "print(\"Primera derivada:\", z)\n",
    "print(\"Segunda derivada:\", w)\n",
    "print(\"Integral:\", v)\n",
    "print(\"No es función de onda\")"
   ]
  },
  {
   "cell_type": "markdown",
   "metadata": {},
   "source": [
    "**<font color=red> No es una función de onda bien comportada, no cumple con las condiciones del postulado 1**"
   ]
  },
  {
   "cell_type": "code",
   "execution_count": 4,
   "metadata": {},
   "outputs": [
    {
     "name": "stdout",
     "output_type": "stream",
     "text": [
      "Primera derivada: -sqrt(x**2)*exp(-sqrt(x**2))/x\n",
      "Segunda derivada: x**2*exp(-sqrt(x**2))/x**2\n",
      "Integral: 1\n",
      "Sí es función de onda\n"
     ]
    }
   ],
   "source": [
    "x = sp.Symbol('x')\n",
    "y = sp.exp(-(sp.sqrt((x)**2)))\n",
    "z = sp.diff(y,x) \n",
    "w = sp.diff(z,x)\n",
    "v = sp.integrate(sp.sqrt((y)**2**2), (x, -oo, +oo))\n",
    "print(\"Primera derivada:\", z)\n",
    "print(\"Segunda derivada:\", w)\n",
    "print(\"Integral:\", v)\n",
    "print(\"Sí es función de onda\")"
   ]
  },
  {
   "cell_type": "code",
   "execution_count": 5,
   "metadata": {},
   "outputs": [
    {
     "name": "stdout",
     "output_type": "stream",
     "text": [
      "Primera derivada: cos(x)\n",
      "Segunda derivada: -sin(x)\n",
      "Integral: 4*pi\n",
      "Sí es función de onda\n"
     ]
    }
   ],
   "source": [
    "x = sp.Symbol('x')\n",
    "y = sp.sin(x)\n",
    "z = sp.diff(y,x) \n",
    "w = sp.diff(z,x)\n",
    "v = sp.integrate(sp.sqrt((y)**2**2), (x, -4*sp.pi, +4*sp.pi))\n",
    "print(\"Primera derivada:\", z)\n",
    "print(\"Segunda derivada:\", w)\n",
    "print(\"Integral:\", v)\n",
    "print(\"Sí es función de onda\")"
   ]
  },
  {
   "cell_type": "code",
   "execution_count": 6,
   "metadata": {
    "scrolled": true
   },
   "outputs": [
    {
     "name": "stdout",
     "output_type": "stream",
     "text": [
      "Primera derivada: -exp(-x)\n",
      "Segunda derivada: exp(-x)\n",
      "Integral: 1/2\n",
      "Sí es función de onda\n"
     ]
    }
   ],
   "source": [
    "x = sp.Symbol('x')\n",
    "y = sp.exp(-x)\n",
    "z = sp.diff(y,x) \n",
    "w = sp.diff(z,x)\n",
    "v = sp.integrate(sp.sqrt((y)**2**2), (x, 0, +oo))\n",
    "print(\"Primera derivada:\", z)\n",
    "print(\"Segunda derivada:\", w)\n",
    "print(\"Integral:\", v)\n",
    "print(\"Sí es función de onda\")"
   ]
  },
  {
   "cell_type": "code",
   "execution_count": 7,
   "metadata": {},
   "outputs": [
    {
     "name": "stdout",
     "output_type": "stream",
     "text": [
      "Primera derivada: -exp(-x)*sin(x) + exp(-x)*cos(x)\n",
      "Segunda derivada: -2*exp(-x)*cos(x)\n",
      "Integral: 1/8\n",
      "Sí es función de onda\n"
     ]
    }
   ],
   "source": [
    "x = sp.Symbol('x')\n",
    "y = sp.exp(-x)*sp.sin(x)\n",
    "z = sp.diff(y,x) \n",
    "w = sp.diff(z,x)\n",
    "v = sp.integrate(sp.sqrt((y)**2**2), (x, 0, +oo))\n",
    "print(\"Primera derivada:\", z)\n",
    "print(\"Segunda derivada:\", w)\n",
    "print(\"Integral:\", v)\n",
    "print(\"Sí es función de onda\")"
   ]
  },
  {
   "cell_type": "markdown",
   "metadata": {},
   "source": [
    "**<div class=\"alert alert-info\">2. De las siguientes funciones, normalice aquellas en que la normalización sea posible:**\n",
    "**<div class=\"alert alert-info\">a) $\\large e^{-x} [0, \\infty)$**\n",
    "**<div class=\"alert alert-info\">b) $\\large e^{i\\theta} [0, 2\\pi]$**\n",
    "**<div class=\"alert alert-info\">c) $\\large xe^{-x} [0, \\infty)$**"
   ]
  },
  {
   "cell_type": "code",
   "execution_count": 12,
   "metadata": {},
   "outputs": [
    {
     "name": "stdout",
     "output_type": "stream",
     "text": [
      "1/2\n",
      "Constante de normalización: sqrt(2)\n"
     ]
    }
   ],
   "source": [
    "x = sp.Symbol('x')\n",
    "y = sp.exp(-x)\n",
    "b = sp.integrate(sp.sqrt((y)**2**2), (x, 0, +oo))\n",
    "print(b) \n",
    "A = 1/sp.sqrt(b)\n",
    "print(\"Constante de normalización:\", A)"
   ]
  },
  {
   "cell_type": "code",
   "execution_count": 13,
   "metadata": {},
   "outputs": [
    {
     "name": "stdout",
     "output_type": "stream",
     "text": [
      "0\n",
      "Constante de normalización: zoo\n",
      "No es posible normalizarla\n"
     ]
    }
   ],
   "source": [
    "x = sp.Symbol('x')\n",
    "y = sp.exp(2*x*I)\n",
    "b = sp.integrate(sp.sqrt((y)**2), (x, 0, 2*sp.pi))\n",
    "print(b)\n",
    "A = 1/sp.sqrt(b)\n",
    "print(\"Constante de normalización:\", A)\n",
    "print(\"No es posible normalizarla\")"
   ]
  },
  {
   "cell_type": "markdown",
   "metadata": {},
   "source": [
    "**<font color=red> Si es posible normalizar, el producto conjugado es 1 y su integral es $2\\pi$**"
   ]
  },
  {
   "cell_type": "code",
   "execution_count": 14,
   "metadata": {
    "scrolled": true
   },
   "outputs": [
    {
     "name": "stdout",
     "output_type": "stream",
     "text": [
      "1/4\n",
      "Constante de normalización: 2\n"
     ]
    }
   ],
   "source": [
    "x = sp.Symbol('x')\n",
    "y = x*sp.exp(-x)\n",
    "b = sp.integrate(sp.sqrt((y)**2**2), (x, 0, +oo))\n",
    "print(b)\n",
    "A = 1/sp.sqrt(b)\n",
    "print(\"Constante de normalización:\", A)"
   ]
  },
  {
   "cell_type": "markdown",
   "metadata": {},
   "source": [
    "**<div class=\"alert alert-warning\">3. La función de onda para una partícula en un sistema monodimensional definido entre $\\large x = 0$ y $\\large x = \\infty$, a $\\large t=0$ es $\\large \\Psi = \\sqrt{\\frac{2}{a}}e^{\\frac{-x}{a}}$ donde $\\large a$ es 1.0 nm. A $\\large t=0$ se mide la posición de la partícula.\n",
    "a) Calcular la probabilidad de que la partícula se encuentre entre $\\large x=1.5000 nm$ y $\\large x=1.5001\n",
    "nm$. b) Calcular la probabilidad de que la partícula se encuentre entre $\\large x=0$ y $\\large x=2 nm$. c)\n",
    "Verifique que la función de onda está normalizada.**"
   ]
  },
  {
   "cell_type": "code",
   "execution_count": 18,
   "metadata": {},
   "outputs": [
    {
     "name": "stdout",
     "output_type": "stream",
     "text": [
      "9.95641799858560e-6\n"
     ]
    }
   ],
   "source": [
    "x = sp.Symbol('x')\n",
    "y = (sp.sqrt(2)*sp.exp(-x))\n",
    "z = sp.integrate(sp.sqrt((y)**2**2), (x, 1.5, 1.5001))\n",
    "print(z)"
   ]
  },
  {
   "cell_type": "markdown",
   "metadata": {},
   "source": [
    "**<font color=red> El cuadrado conjugado de la función no está bien utilizado, es el producto de la función por su conjugada. Cual es el analisis de este resulyado? Adicionalmente faltaba un parentesis en la evaluación de la integral**"
   ]
  },
  {
   "cell_type": "code",
   "execution_count": 19,
   "metadata": {},
   "outputs": [
    {
     "name": "stdout",
     "output_type": "stream",
     "text": [
      "1 - exp(-4)\n"
     ]
    }
   ],
   "source": [
    "x = sp.Symbol('x')\n",
    "y = (sp.sqrt(2)*sp.exp(-x))\n",
    "z = sp.integrate(sp.sqrt((y)**2**2), (x, 0, 2))\n",
    "print(z)"
   ]
  },
  {
   "cell_type": "markdown",
   "metadata": {},
   "source": [
    "**<font color=red> Nada que decir del resultado? explique!!!**"
   ]
  },
  {
   "cell_type": "code",
   "execution_count": 20,
   "metadata": {},
   "outputs": [
    {
     "name": "stdout",
     "output_type": "stream",
     "text": [
      "1\n"
     ]
    }
   ],
   "source": [
    "x = sp.Symbol('x')\n",
    "y = (sp.sqrt(2)*sp.exp(-x))\n",
    "z = sp.integrate(sp.sqrt((y)**2**2), (x, 0, +oo))\n",
    "print(z)"
   ]
  },
  {
   "cell_type": "markdown",
   "metadata": {},
   "source": [
    "**<font color=red> ???**"
   ]
  },
  {
   "cell_type": "markdown",
   "metadata": {},
   "source": [
    "**<div class=\"alert alert-warning\">4. Indique cuál de los siguientes operadores es lineal:**\n",
    "**<div class=\"alert alert-warning\">a) $\\large \\hat{A}f(x)=\\frac{df(x)}{dx}$ (derivada de $\\large f(x)$)**\n",
    "**<div class=\"alert alert-warning\">b) $\\large \\hat{A}f(x)=f^*(x)$ (forma la compleja conjugada de $\\large f(x)$)**\n",
    "**<div class=\"alert alert-warning\">c) $\\large \\hat{A}f(x)=ln f(x)$ (toma el logaritmo de $\\large f(x)$)**\n",
    "**<div class=\"alert alert-warning\">d) $\\large \\hat{A}f(x)= \\int f(x)dx$ (f (integral de $\\large f(x)$)**"
   ]
  },
  {
   "cell_type": "code",
   "execution_count": 21,
   "metadata": {
    "scrolled": true
   },
   "outputs": [
    {
     "name": "stdout",
     "output_type": "stream",
     "text": [
      "5*exp(x) - 3*exp(-x)\n",
      "5*exp(x) - 3*exp(-x)\n",
      "Es líneal\n"
     ]
    }
   ],
   "source": [
    "x = sp.Symbol('x')\n",
    "y = 5*sp.exp(x)\n",
    "z = 3*sp.exp(-x)\n",
    "w = sp.diff(y+z)\n",
    "v = sp.diff(y)+sp.diff(z)\n",
    "print(w)\n",
    "print(v)\n",
    "print(\"Es líneal\")"
   ]
  },
  {
   "cell_type": "code",
   "execution_count": 22,
   "metadata": {},
   "outputs": [
    {
     "name": "stdout",
     "output_type": "stream",
     "text": [
      "5*exp(x) + 3*exp(-x)\n",
      "5*exp(x) + 3*exp(-x)\n",
      "Es líneal\n"
     ]
    }
   ],
   "source": [
    "x = sp.Symbol('x')\n",
    "y = 5*sp.exp(x)\n",
    "z = 3*sp.exp(-x)\n",
    "w = (y+z)\n",
    "v = (y)+(z)\n",
    "print(w)\n",
    "print(v)\n",
    "print(\"Es líneal\")"
   ]
  },
  {
   "cell_type": "markdown",
   "metadata": {},
   "source": [
    "**<font color=red> No es correcta esta evaluación!**"
   ]
  },
  {
   "cell_type": "code",
   "execution_count": 21,
   "metadata": {},
   "outputs": [
    {
     "name": "stdout",
     "output_type": "stream",
     "text": [
      "log(5*exp(x) + 3*exp(-x))\n",
      "log(3*exp(-x)) + log(5*exp(x))\n",
      "No es líneal\n"
     ]
    }
   ],
   "source": [
    "x = sp.Symbol('x')\n",
    "y = 5*sp.exp(x)\n",
    "z = 3*sp.exp(-x)\n",
    "w = sp.ln(y+z)\n",
    "v = sp.ln(y)+ln(z)\n",
    "print(w)\n",
    "print(v)\n",
    "print(\"No es líneal\")"
   ]
  },
  {
   "cell_type": "markdown",
   "metadata": {},
   "source": [
    "**<font color=red> Porqué? Explique!**"
   ]
  },
  {
   "cell_type": "code",
   "execution_count": 23,
   "metadata": {},
   "outputs": [
    {
     "name": "stdout",
     "output_type": "stream",
     "text": [
      "5*exp(x) - 3*exp(-x)\n",
      "5*exp(x) - 3*exp(-x)\n",
      "Es líneal\n"
     ]
    }
   ],
   "source": [
    "x = sp.Symbol('x')\n",
    "y = 5*sp.exp(x)\n",
    "z = 3*sp.exp(-x)\n",
    "w = sp.integrate(y+z)\n",
    "v = sp.integrate(y)+sp.integrate(z)\n",
    "print(w)\n",
    "print(v)\n",
    "print(\"Es líneal\")"
   ]
  },
  {
   "cell_type": "markdown",
   "metadata": {},
   "source": [
    "**<div class=\"alert alert-success\">5. a) Cuál de las siguientes funciones es autofunción del operador $\\large d/dx$:** \n",
    "**<div class=\"alert alert-success\">a) $\\large e^{ikx}$ ; b) $\\large cos(kx)$ ; c) $\\large k$, d) $\\large kx$ ; e) $\\large e^{−ax^{2}}$. ¿Cuáles son sus autovalores? b) Determine cuáles de las funciones anteriores es también autofunción del operador $\\large \\frac{d^2}{dx^2}$ y dé los autovalores correspondientes.**\n",
    "    \n",
    "<font color='Red'> Voy a tomar k=5 y a=2 <font color='Red'>"
   ]
  },
  {
   "cell_type": "markdown",
   "metadata": {},
   "source": [
    "**<font color=blue> No es necesario asignarle valores a las constantes para comprobar la ecuación de valor propio**"
   ]
  },
  {
   "cell_type": "code",
   "execution_count": 24,
   "metadata": {},
   "outputs": [
    {
     "name": "stdout",
     "output_type": "stream",
     "text": [
      "Autofunción a: 5*I*exp(5*I*x)\n",
      "Autofunción b: -25*exp(5*I*x)\n",
      "El autovalor es -25\n"
     ]
    }
   ],
   "source": [
    "x = sp.Symbol('x')\n",
    "y = sp.exp(x*sp.sqrt(-1)*5)\n",
    "z = sp.diff(y)\n",
    "j = sp.diff(z)\n",
    "print(\"Autofunción a:\", z)\n",
    "print(\"Autofunción b:\", j)\n",
    "print(\"El autovalor es -25\")"
   ]
  },
  {
   "cell_type": "code",
   "execution_count": 25,
   "metadata": {},
   "outputs": [
    {
     "name": "stdout",
     "output_type": "stream",
     "text": [
      "Este resultado no es autofunción -5*sin(5*x)\n",
      "Autofunción b: -25*cos(5*x)\n",
      "El autovalor es -25\n"
     ]
    }
   ],
   "source": [
    "x = sp.Symbol('x')\n",
    "y = sp.cos(x*5)\n",
    "z = sp.diff(y)\n",
    "j = sp.diff(z)\n",
    "print(\"Este resultado no es autofunción\", z)\n",
    "print(\"Autofunción b:\", j)\n",
    "print(\"El autovalor es -25\")"
   ]
  },
  {
   "cell_type": "code",
   "execution_count": 26,
   "metadata": {},
   "outputs": [
    {
     "name": "stdout",
     "output_type": "stream",
     "text": [
      "Autofunción a: 0\n",
      "Autofunción b: 0\n",
      "Aquí no hay autofunción ni autovalor\n"
     ]
    }
   ],
   "source": [
    "x = sp.Symbol('x')\n",
    "y = 5\n",
    "z = sp.diff(y)\n",
    "j = sp.diff(z)\n",
    "print(\"Autofunción a:\", z)\n",
    "print(\"Autofunción b:\", j)\n",
    "print(\"Aquí no hay autofunción ni autovalor\")"
   ]
  },
  {
   "cell_type": "code",
   "execution_count": 27,
   "metadata": {},
   "outputs": [
    {
     "name": "stdout",
     "output_type": "stream",
     "text": [
      "Autofunción a: 5\n",
      "Autofunción b: 0\n",
      "Aquí no hay autofunción ni autovalor\n"
     ]
    }
   ],
   "source": [
    "x = sp.Symbol('x')\n",
    "y = x*5\n",
    "z = sp.diff(y)\n",
    "j = sp.diff(z)\n",
    "print(\"Autofunción a:\", z)\n",
    "print(\"Autofunción b:\", j)\n",
    "print(\"Aquí no hay autofunción ni autovalor\")"
   ]
  },
  {
   "cell_type": "code",
   "execution_count": 28,
   "metadata": {},
   "outputs": [
    {
     "name": "stdout",
     "output_type": "stream",
     "text": [
      "Autofunción a: -4*x*exp(-2*x**2)\n",
      "Autofunción b: 16*x**2*exp(-2*x**2) - 4*exp(-2*x**2)\n",
      "Aquí no hay autofunción ni autovalor\n"
     ]
    }
   ],
   "source": [
    "x = sp.Symbol('x')\n",
    "y = sp.exp(-(x**2)*2)\n",
    "z = sp.diff(y)\n",
    "j = sp.diff(z)\n",
    "print(\"Autofunción a:\", z)\n",
    "print(\"Autofunción b:\", j)\n",
    "print(\"Aquí no hay autofunción ni autovalor\")"
   ]
  },
  {
   "cell_type": "markdown",
   "metadata": {},
   "source": [
    "**<div class=\"alert alert-success\">6. Halle los conmutadores siguientes:**\n",
    "**<div class=\"alert alert-success\">a) $\\large [\\hat{x}^2,\\frac{d^2}{dx^2}]$**\n",
    "**<div class=\"alert alert-success\">b) $\\large [\\hat{x},\\hat{p}_x]$**\n",
    "**<div class=\"alert alert-success\">c) $\\large [\\hat{p}_x,\\hat{H}_x]$**\n",
    "    \n"
   ]
  },
  {
   "cell_type": "code",
   "execution_count": 41,
   "metadata": {},
   "outputs": [
    {
     "name": "stdout",
     "output_type": "stream",
     "text": [
      "-82*x**20\n"
     ]
    }
   ],
   "source": [
    "x = sp.Symbol('x')\n",
    "y = x**20\n",
    "z = x**2\n",
    "## j = sp.diff(sp.diff(variable))\n",
    "c = z*sp.diff(sp.diff(y))-sp.diff(sp.diff(z*y))\n",
    "print(c)"
   ]
  },
  {
   "cell_type": "markdown",
   "metadata": {},
   "source": [
    "**<font color=red> No es la forma correcta de resolver este problemas**"
   ]
  },
  {
   "cell_type": "code",
   "execution_count": 29,
   "metadata": {},
   "outputs": [
    {
     "name": "stdout",
     "output_type": "stream",
     "text": [
      "5*I*x**20\n"
     ]
    }
   ],
   "source": [
    "x = sp.Symbol('x')\n",
    "y = x**20\n",
    "z = x\n",
    "##  j = ( h barra cuadrado que remplazaré por una constante cualquiera / I ) * sp.diff(variable)\n",
    "c = z*((5/sp.sqrt(-1)))*sp.diff(y)-(5/sp.sqrt(-1))*sp.diff(y*z)\n",
    "print(c)"
   ]
  },
  {
   "cell_type": "markdown",
   "metadata": {},
   "source": [
    "**<font color=red> No es la forma correcta de resolver este problemas**"
   ]
  },
  {
   "cell_type": "code",
   "execution_count": 30,
   "metadata": {},
   "outputs": [
    {
     "ename": "SyntaxError",
     "evalue": "invalid syntax (<ipython-input-30-84ffc6665d32>, line 5)",
     "output_type": "error",
     "traceback": [
      "\u001b[1;36m  File \u001b[1;32m\"<ipython-input-30-84ffc6665d32>\"\u001b[1;36m, line \u001b[1;32m5\u001b[0m\n\u001b[1;33m    c = (5/sp.sqrt(-1))*sp.diff((-25/2)*sp.diff(sp.diff(y*))))\u001b[0m\n\u001b[1;37m                                                          ^\u001b[0m\n\u001b[1;31mSyntaxError\u001b[0m\u001b[1;31m:\u001b[0m invalid syntax\n"
     ]
    }
   ],
   "source": [
    "x = sp.Symbol('x')\n",
    "y = x**20\n",
    "##  z = ( h barra cuadrado que remplazaré por una constante cualquiera / I ) * sp.diff(variable)\n",
    "##  j = sp.diff(sp.diff(x**2))*-h barra**2 / masa (2) + potencial\n",
    "c = (5/sp.sqrt(-1))*sp.diff((-25/2)*sp.diff(sp.diff(y*))))\n",
    "print(c)\n",
    "# Profe no pude"
   ]
  },
  {
   "cell_type": "markdown",
   "metadata": {},
   "source": [
    "**<font color=red> No es la forma correcta de resolver este problemas**"
   ]
  },
  {
   "cell_type": "markdown",
   "metadata": {},
   "source": [
    "**<div class=\"alert alert-danger\">7. Calcule $\\large [\\hat{x}^2,\\frac{d^2}{dx^2}](e^{x^2}+cos(2x))$:**\n",
    "\n"
   ]
  },
  {
   "cell_type": "code",
   "execution_count": 60,
   "metadata": {},
   "outputs": [
    {
     "name": "stdout",
     "output_type": "stream",
     "text": [
      "-4*x*(2*x*exp(x**2) - 2*sin(2*x)) - 2*exp(x**2) - 2*cos(2*x)\n"
     ]
    }
   ],
   "source": [
    "x = sp.Symbol('x')\n",
    "y = (sp.exp(x**2))+(sp.cos(2*x))\n",
    "z = x**2\n",
    "# j = sp.diff(sp.diff(variable))\n",
    "c = z*sp.diff(sp.diff(y))-sp.diff(sp.diff(z*y))\n",
    "print(c)"
   ]
  },
  {
   "cell_type": "markdown",
   "metadata": {},
   "source": [
    "**<font color=red> No es la forma correcta de resolver este problemas**"
   ]
  },
  {
   "cell_type": "markdown",
   "metadata": {},
   "source": [
    "**<div class=\"alert alert-danger\">8. Deduzca si cada una de las expresiones siguientes es un operador o una función.**\n",
    "**<div class=\"alert alert-danger\">a) $\\large \\hat{A}\\hat{B}g(x)$ ; b) $\\large \\hat{A}\\hat{B}+\\hat{B}\\hat{A}$ ; c) $\\large \\hat{B^2}f(x)$, d) $\\large f(x)^*\\hat{A}f(x)$**\n",
    "    \n"
   ]
  },
  {
   "cell_type": "code",
   "execution_count": null,
   "metadata": {},
   "outputs": [],
   "source": []
  },
  {
   "cell_type": "markdown",
   "metadata": {},
   "source": [
    "**<div class=\"alert alert-danger\">9. Si la posición de un electrón se mide con una precisión de ±0.001 Å ¿Cuál será la máxima precisión para el momento?**\n",
    "\n"
   ]
  },
  {
   "cell_type": "code",
   "execution_count": 65,
   "metadata": {},
   "outputs": [
    {
     "name": "stdout",
     "output_type": "stream",
     "text": [
      "10000000000000.0\n"
     ]
    }
   ],
   "source": [
    "# (Delta de p * Delta de x) ≥ hbarra**2\n",
    "# Delta de p ≥ hbarra**2 / Delta de x\n",
    "# Delta de X = ±0.001 *10**-10\n",
    "## y = Delta de X\n",
    "x = sp.Symbol('x')\n",
    "y = (1)/(0.001*10**-10)\n",
    "print(y)"
   ]
  },
  {
   "cell_type": "markdown",
   "metadata": {},
   "source": [
    "**<div class=\"alert alert-danger\">10. Demuestre que en el intervalo 0 ≤ θ ≤ 2π, las funciones $\\large e^{inθ}$, donde n=0, ±1, ±2, ..., forman un conjunto de funciones ortogonales. Halle la constante de normalización para este conjunto de funciones.**"
   ]
  },
  {
   "cell_type": "code",
   "execution_count": 76,
   "metadata": {
    "scrolled": true
   },
   "outputs": [
    {
     "data": {
      "text/latex": [
       "$\\displaystyle 0$"
      ],
      "text/plain": [
       "0"
      ]
     },
     "execution_count": 76,
     "metadata": {},
     "output_type": "execute_result"
    }
   ],
   "source": [
    "x = sp.Symbol('x')\n",
    "y = sp.Symbol('y')\n",
    "# Teta constante = 4\n",
    "# N constante = 6\n",
    "sp.integrate(sp.sqrt((0)**2**2), (x, -oo, +oo))"
   ]
  },
  {
   "cell_type": "code",
   "execution_count": 75,
   "metadata": {},
   "outputs": [
    {
     "name": "stdout",
     "output_type": "stream",
     "text": [
      "2*pi\n",
      "A:2𝜋**-1/2\n"
     ]
    }
   ],
   "source": [
    "x = sp.Symbol('x')\n",
    "y = sp.Symbol('y')\n",
    "# Teta constante = 4\n",
    "# N constante = 6\n",
    "z = sp.integrate(sp.sqrt((1)**2**2), (x, 0, 2*sp.pi))\n",
    "print(z)\n",
    "print(\"A:2𝜋**-1/2\")"
   ]
  }
 ],
 "metadata": {
  "kernelspec": {
   "display_name": "Python 3",
   "language": "python",
   "name": "python3"
  },
  "language_info": {
   "codemirror_mode": {
    "name": "ipython",
    "version": 3
   },
   "file_extension": ".py",
   "mimetype": "text/x-python",
   "name": "python",
   "nbconvert_exporter": "python",
   "pygments_lexer": "ipython3",
   "version": "3.8.3"
  }
 },
 "nbformat": 4,
 "nbformat_minor": 4
}

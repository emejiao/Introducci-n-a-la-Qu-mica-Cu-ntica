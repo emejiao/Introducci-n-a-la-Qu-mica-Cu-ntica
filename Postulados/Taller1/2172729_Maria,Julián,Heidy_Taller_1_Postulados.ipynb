{
 "cells": [
  {
   "cell_type": "code",
   "execution_count": 1,
   "metadata": {},
   "outputs": [],
   "source": [
    "from IPython.display import HTML"
   ]
  },
  {
   "cell_type": "markdown",
   "metadata": {},
   "source": [
    "# Maria Cecilia Oñate Gutiérrez - 2172729\n",
    "\n",
    "# Julián Esteban Gomez Lozano - 2172051\n",
    "\n",
    "# Heidy Liliana Alfonso Ortiz - 2162174"
   ]
  },
  {
   "cell_type": "markdown",
   "metadata": {},
   "source": [
    "## <font color=red> NOTA: 3.0"
   ]
  },
  {
   "cell_type": "markdown",
   "metadata": {},
   "source": [
    "### **<font color=red> Cuando se resuelven problemas físicos a través o con el uso de la matemática, es necesario explicar y comentar el desarrollo de la solucion y el resultado del mismo**"
   ]
  },
  {
   "cell_type": "markdown",
   "metadata": {
    "slideshow": {
     "slide_type": "slide"
    }
   },
   "source": [
    "### <div class=\"alert alert-info\"><font color='blue'> <h2 class=\"alert-heading\">Preguntas</h2>"
   ]
  },
  {
   "cell_type": "markdown",
   "metadata": {
    "slideshow": {
     "slide_type": "slide"
    }
   },
   "source": [
    "<div class=\"alert alert-success\" role=\"alert\">\n",
    "  <h2 class=\"alert-heading\">Introducción a la Química Cuántica: Taller 1-Postulados de la Mecánica Cuántica</h2>\n",
    "  <h3 class=\"alert-heading\">Prof. Enrique Mejía Ospino, emejia@uis.edu.co</h3>\n",
    "  <h3 class=\"alert-heading\">Escuela de Química</h3>\n",
    "  <h3 class=\"alert-heading\">Universidad Industrial de Santander</h3>\n",
    "  <p>\n",
    "  </div>"
   ]
  },
  {
   "cell_type": "markdown",
   "metadata": {
    "slideshow": {
     "slide_type": "subslide"
    }
   },
   "source": [
    "**<div class=\"alert alert-warning\">1. Determinar cuáles de las siguientes funciones son aceptables como funciones de onda, definidas en los intervalos indicados.**\n",
    "**<div class=\"alert alert-warning\">a) $\\large \\frac{1}{x} [0,\\infty)$**\n",
    "**<div class=\"alert alert-warning\">b) $\\large e^{-|x|} (-\\infty, +\\infty)$**\n",
    "**<div class=\"alert alert-warning\">c) $\\large sen(x) [-4π, 4π]$**\n",
    "**<div class=\"alert alert-warning\">d) $\\large e^{-x} [0, \\infty)$**\n",
    "**<div class=\"alert alert-warning\">e) $\\large e^{-x}sen(x) [0, \\infty)$**\n",
    "\n",
    "**<div class=\"alert alert-info\">2. De las siguientes funciones, normalice aquellas en que la normalización sea posible:**\n",
    "**<div class=\"alert alert-info\">a) $\\large e^{-x} [0, \\infty)$**\n",
    "**<div class=\"alert alert-info\">b) $\\large e^{i\\theta} [0, 2\\pi]$**\n",
    "**<div class=\"alert alert-info\">c) $\\large xe^{-x} [0, \\infty)$**\n",
    "\n",
    "\n",
    "**<div class=\"alert alert-warning\">3. La función de onda para una partícula en un sistema monodimensional definido entre $\\large x = 0$ y $\\large x = \\infty$, a $\\large t=0$ es $\\large \\Psi = \\sqrt{\\frac{2}{a}}e^{\\frac{-x}{a}}$ donde $\\large a$ es 1.0 nm. A $\\large t=0$ se mide la posición de la partícula.\n",
    "a) Calcular la probabilidad de que la partícula se encuentre entre $\\large x=1.5000 nm$ y $\\large x=1.5001\n",
    "nm$. b) Calcular la probabilidad de que la partícula se encuentre entre $\\large x=0$ y $\\large x=2 nm$. c)\n",
    "Verifique que la función de onda está normalizada.**\n",
    "\n",
    "**<div class=\"alert alert-warning\">4. Indique cuál de los siguientes operadores es lineal:**\n",
    "**<div class=\"alert alert-warning\">a) $\\large \\hat{A}f(x)=\\frac{df(x)}{dx}$ (derivada de $\\large f(x)$)**\n",
    "**<div class=\"alert alert-warning\">b) $\\large \\hat{A}f(x)=f^*(x)$ (forma la compleja conjugada de $\\large f(x)$)**\n",
    "**<div class=\"alert alert-warning\">c) $\\large \\hat{A}f(x)=ln f(x)$ (toma el logaritmo de $\\large f(x)$)**\n",
    "**<div class=\"alert alert-warning\">d) $\\large \\hat{A}f(x)= \\int f(x)dx$ (f (integral de $\\large f(x)$)**\n",
    "    \n",
    "**<div class=\"alert alert-success\">5. a) Cuál de las siguientes funciones es autofunción del operador $\\large d/dx$:** \n",
    "**<div class=\"alert alert-success\">a) $\\large e^{ikx}$ ; b) $\\large cos(kx)$ ; c) $\\large k$, d) $\\large kx$ ; e) $\\large e^{−ax^{2}}$. ¿Cuáles son sus autovalores? b) Determine cuáles de las funciones anteriores es también autofunción del operador $\\large \\frac{d^2}{dx^2}$ y dé los autovalores correspondientes.**\n",
    "    \n",
    "**<div class=\"alert alert-success\">6. Halle los conmutadores siguientes:**\n",
    "**<div class=\"alert alert-success\">a) $\\large [\\hat{x}^2,\\frac{d^2}{dx^2}]$**\n",
    "**<div class=\"alert alert-success\">b) $\\large [\\hat{x},\\hat{p}_x]$**\n",
    "**<div class=\"alert alert-success\">c) $\\large [\\hat{p}_x,\\hat{H}_x]$**\n",
    "    \n",
    "**<div class=\"alert alert-danger\">7. Calcule $\\large [\\hat{x}^2,\\frac{d^2}{dx^2}](e^{x^2}+cos(2x))$:**\n",
    "\n",
    "**<div class=\"alert alert-danger\">8. Deduzca si cada una de las expresiones siguientes es un operador o una función.**\n",
    "**<div class=\"alert alert-danger\">a) $\\large \\hat{A}\\hat{B}g(x)$ ; b) $\\large \\hat{A}\\hat{B}+\\hat{B}\\hat{A}$ ; c) $\\large \\hat{B^2}f(x)$, d) $\\large f(x)^*\\hat{A}f(x)$**\n",
    "    \n",
    "**<div class=\"alert alert-danger\">9. Si la posición de un electrón se mide con una precisión de ±0.001 Å ¿Cuál será la máxima precisión para el momento?**\n",
    "\n",
    "**<div class=\"alert alert-danger\">10. Demuestre que en el intervalo 0 ≤ θ ≤ 2π, las funciones $\\large e^{inθ}$, donde n=0, ±1, ±2, ..., forman un conjunto de funciones ortogonales. Halle la constante de normalización para este conjunto de funciones.**"
   ]
  },
  {
   "cell_type": "markdown",
   "metadata": {},
   "source": [
    "# **<div class=\"alert alert-warning\" role=\"alert\">PRIMER PUNTO**"
   ]
  },
  {
   "cell_type": "markdown",
   "metadata": {},
   "source": [
    "**<div class=\"alert alert-warning\" role=\"alert\">Verificando que sea una función**"
   ]
  },
  {
   "cell_type": "code",
   "execution_count": 2,
   "metadata": {},
   "outputs": [],
   "source": [
    "import matplotlib as mpl # matplotlib library for plotting and visualization \n",
    "import matplotlib.pylab as plt # matplotlib library for plotting and visualization \n",
    "import numpy as np # numpy for numerical manipulation, especially suited for data arrays\n",
    "import sympy as sp "
   ]
  },
  {
   "cell_type": "code",
   "execution_count": 3,
   "metadata": {
    "scrolled": true
   },
   "outputs": [
    {
     "data": {
      "image/png": "[encoded data removed]",
      "text/plain": [
       "<Figure size 432x288 with 5 Axes>"
      ]
     },
     "metadata": {
      "needs_background": "light"
     },
     "output_type": "display_data"
    }
   ],
   "source": [
    "import matplotlib as mpl \n",
    "import matplotlib.pylab as plt\n",
    "import numpy as np\n",
    "import sympy as sp\n",
    "\n",
    "def f1(x):\n",
    "    S1=(1/x)\n",
    "    return S1\n",
    "\n",
    "def f2(x): \n",
    "    S2=np.exp(-1*np.abs(x))\n",
    "    return S2\n",
    "def f3(x):\n",
    "    S3=np.sin(x)\n",
    "    return S3\n",
    "def f4(x):\n",
    "    S4=np.exp(-1*x)\n",
    "    return S4\n",
    "def f5(x):\n",
    "    S5=np.exp(-1*x)*np.sin(x)\n",
    "    return S5\n",
    "\n",
    "x1 = np.arange(1,20,1)\n",
    "x2 = np.arange(-20,21,1)\n",
    "x3 = np.arange(-4*np.pi,4*np.pi,0.1*np.pi)\n",
    "x4 = np.arange(0,30,1)\n",
    "x5 = np.arange(0,30,1)\n",
    "fuente =\"20\"\n",
    "plt.figure()\n",
    "\n",
    "plt.subplot(151)\n",
    "plt.plot(x1,f1(x1),color= 'r')\n",
    "plt.grid(True)\n",
    "plt.title('$ \\ 1/x $' , fontsize=fuente)\n",
    "\n",
    "plt.subplot(152)\n",
    "plt.plot(x2, f2(x2),color='r')\n",
    "plt.grid(True)\n",
    "plt.title('$ \\exp^{-|x|} $',fontsize=fuente)\n",
    "\n",
    "plt.subplot(153)\n",
    "plt.plot(x3, f3(x3),color='r')\n",
    "plt.grid(True)\n",
    "plt.title('$ \\sin{x} $',fontsize=fuente)\n",
    "\n",
    "plt.subplot(154)\n",
    "plt.plot(x4, f4(x4),color='r')\n",
    "plt.grid(True)\n",
    "plt.title('$ \\exp^{-x} $',fontsize=fuente)\n",
    "\n",
    "plt.subplot(155)\n",
    "plt.plot(x5, f5(x5),color='r')\n",
    "plt.grid(True)\n",
    "plt.title('$ \\exp^{-x}\\sin{x} $',fontsize=fuente)\n",
    "\n",
    "plt.subplots_adjust(wspace=0.8, hspace=0.8, left=0.2, top=0.7, right=2.5, bottom=0.2)\n",
    "plt.show()"
   ]
  },
  {
   "cell_type": "markdown",
   "metadata": {},
   "source": [
    "#### <div class=\"alert alert-success\" role=\"alert\">Verificando la continuidad, la continuidad de la derivada y el cuadrado integrable "
   ]
  },
  {
   "cell_type": "markdown",
   "metadata": {},
   "source": [
    "# Ítem a)"
   ]
  },
  {
   "cell_type": "markdown",
   "metadata": {},
   "source": [
    "$$\\Large f(x)=1/x$$\n",
    "$$\\Large \\frac{df(x)}{dx}$$"
   ]
  },
  {
   "cell_type": "code",
   "execution_count": 4,
   "metadata": {
    "scrolled": true
   },
   "outputs": [
    {
     "data": {
      "text/latex": [
       "$\\displaystyle - \\frac{1}{x^{2}}$"
      ],
      "text/plain": [
       "-1/x**2"
      ]
     },
     "execution_count": 4,
     "metadata": {},
     "output_type": "execute_result"
    }
   ],
   "source": [
    "x = sp.Symbol('x')\n",
    "y = 1/x\n",
    "sp.diff(y,x)"
   ]
  },
  {
   "cell_type": "markdown",
   "metadata": {},
   "source": [
    "$$\\large f(x)=1/x$$\n",
    "$$\\large \\frac{d^2f(x)}{dx^2}$$"
   ]
  },
  {
   "cell_type": "code",
   "execution_count": 5,
   "metadata": {},
   "outputs": [
    {
     "data": {
      "text/latex": [
       "$\\displaystyle \\frac{2}{x^{3}}$"
      ],
      "text/plain": [
       "2/x**3"
      ]
     },
     "execution_count": 5,
     "metadata": {},
     "output_type": "execute_result"
    }
   ],
   "source": [
    "x = sp.Symbol('x')\n",
    "y = 1/x\n",
    "sp.diff(y,x,2)"
   ]
  },
  {
   "cell_type": "markdown",
   "metadata": {},
   "source": [
    "$$\\large \\int^{6}_{0} |1/x|^2dx$$"
   ]
  },
  {
   "cell_type": "code",
   "execution_count": 6,
   "metadata": {},
   "outputs": [
    {
     "data": {
      "text/latex": [
       "$\\displaystyle \\infty$"
      ],
      "text/plain": [
       "oo"
      ]
     },
     "execution_count": 6,
     "metadata": {},
     "output_type": "execute_result"
    }
   ],
   "source": [
    "import sympy as sp \n",
    "x = sp.Symbol('x')\n",
    "f = sp.Symbol('f')\n",
    "\n",
    "sp.integrate((1/x)**2, (x,0,6))"
   ]
  },
  {
   "cell_type": "markdown",
   "metadata": {},
   "source": [
    "**<div class=\"alert alert-danger\" role=\"alert\">No es una función de onda, debido a que no cumple el requisito de ser un cuadrado integrable en el limite de integración 0, pues en el intervalo en el cual esta evaluado presenta una discontinuidad que tiende al infinito.**"
   ]
  },
  {
   "cell_type": "markdown",
   "metadata": {},
   "source": [
    "# ítem b)"
   ]
  },
  {
   "cell_type": "markdown",
   "metadata": {},
   "source": [
    "$$\\Large f(x)=e^{-|x|}$$\n",
    "$$\\Large \\frac{df(x)}{dx}$$"
   ]
  },
  {
   "cell_type": "code",
   "execution_count": 7,
   "metadata": {},
   "outputs": [
    {
     "data": {
      "text/latex": [
       "$\\displaystyle - \\frac{\\left(\\operatorname{re}{\\left(x\\right)} \\frac{d}{d x} \\operatorname{re}{\\left(x\\right)} + \\operatorname{im}{\\left(x\\right)} \\frac{d}{d x} \\operatorname{im}{\\left(x\\right)}\\right) e^{- \\left|{x}\\right|} \\operatorname{sign}{\\left(x \\right)}}{x}$"
      ],
      "text/plain": [
       "-(re(x)*Derivative(re(x), x) + im(x)*Derivative(im(x), x))*exp(-Abs(x))*sign(x)/x"
      ]
     },
     "execution_count": 7,
     "metadata": {},
     "output_type": "execute_result"
    }
   ],
   "source": [
    "x = sp.Symbol('x')\n",
    "y = sp.exp(-1*np.abs(x))\n",
    "sp.diff(y,x)"
   ]
  },
  {
   "cell_type": "markdown",
   "metadata": {},
   "source": [
    "$$\\large f(x)=e^{-|x|}$$\n",
    "$$\\large \\frac{d^2f(x)}{dx^2}$$"
   ]
  },
  {
   "cell_type": "code",
   "execution_count": 8,
   "metadata": {},
   "outputs": [
    {
     "data": {
      "text/latex": [
       "$\\displaystyle \\frac{\\left(- \\left(\\operatorname{re}{\\left(x\\right)} \\frac{d}{d x} \\operatorname{re}{\\left(x\\right)} + \\operatorname{im}{\\left(x\\right)} \\frac{d}{d x} \\operatorname{im}{\\left(x\\right)}\\right) \\frac{d}{d x} \\operatorname{sign}{\\left(x \\right)} - \\left(\\operatorname{re}{\\left(x\\right)} \\frac{d^{2}}{d x^{2}} \\operatorname{re}{\\left(x\\right)} + \\operatorname{im}{\\left(x\\right)} \\frac{d^{2}}{d x^{2}} \\operatorname{im}{\\left(x\\right)} + \\left(\\frac{d}{d x} \\operatorname{re}{\\left(x\\right)}\\right)^{2} + \\left(\\frac{d}{d x} \\operatorname{im}{\\left(x\\right)}\\right)^{2}\\right) \\operatorname{sign}{\\left(x \\right)} + \\frac{\\left(\\operatorname{re}{\\left(x\\right)} \\frac{d}{d x} \\operatorname{re}{\\left(x\\right)} + \\operatorname{im}{\\left(x\\right)} \\frac{d}{d x} \\operatorname{im}{\\left(x\\right)}\\right)^{2} \\operatorname{sign}^{2}{\\left(x \\right)}}{x} + \\frac{\\left(\\operatorname{re}{\\left(x\\right)} \\frac{d}{d x} \\operatorname{re}{\\left(x\\right)} + \\operatorname{im}{\\left(x\\right)} \\frac{d}{d x} \\operatorname{im}{\\left(x\\right)}\\right) \\operatorname{sign}{\\left(x \\right)}}{x}\\right) e^{- \\left|{x}\\right|}}{x}$"
      ],
      "text/plain": [
       "(-(re(x)*Derivative(re(x), x) + im(x)*Derivative(im(x), x))*Derivative(sign(x), x) - (re(x)*Derivative(re(x), (x, 2)) + im(x)*Derivative(im(x), (x, 2)) + Derivative(re(x), x)**2 + Derivative(im(x), x)**2)*sign(x) + (re(x)*Derivative(re(x), x) + im(x)*Derivative(im(x), x))**2*sign(x)**2/x + (re(x)*Derivative(re(x), x) + im(x)*Derivative(im(x), x))*sign(x)/x)*exp(-Abs(x))/x"
      ]
     },
     "execution_count": 8,
     "metadata": {},
     "output_type": "execute_result"
    }
   ],
   "source": [
    "x = sp.Symbol('x')\n",
    "y = sp.exp(-1*np.abs(x))\n",
    "sp.diff(y,x,2)"
   ]
  },
  {
   "cell_type": "markdown",
   "metadata": {},
   "source": [
    "$$\\large \\int^{+\\infty}_{-\\infty} |e^{-|x|}|^2dx$$"
   ]
  },
  {
   "cell_type": "code",
   "execution_count": 9,
   "metadata": {},
   "outputs": [
    {
     "ename": "NameError",
     "evalue": "name 'oo' is not defined",
     "output_type": "error",
     "traceback": [
      "\u001b[1;31m---------------------------------------------------------------------------\u001b[0m",
      "\u001b[1;31mNameError\u001b[0m                                 Traceback (most recent call last)",
      "\u001b[1;32m<ipython-input-9-fa472d473505>\u001b[0m in \u001b[0;36m<module>\u001b[1;34m\u001b[0m\n\u001b[0;32m      4\u001b[0m \u001b[0mf\u001b[0m \u001b[1;33m=\u001b[0m \u001b[0msp\u001b[0m\u001b[1;33m.\u001b[0m\u001b[0mSymbol\u001b[0m\u001b[1;33m(\u001b[0m\u001b[1;34m'f'\u001b[0m\u001b[1;33m)\u001b[0m\u001b[1;33m\u001b[0m\u001b[1;33m\u001b[0m\u001b[0m\n\u001b[0;32m      5\u001b[0m \u001b[1;33m\u001b[0m\u001b[0m\n\u001b[1;32m----> 6\u001b[1;33m \u001b[0msp\u001b[0m\u001b[1;33m.\u001b[0m\u001b[0mintegrate\u001b[0m\u001b[1;33m(\u001b[0m\u001b[1;33m(\u001b[0m\u001b[0msp\u001b[0m\u001b[1;33m.\u001b[0m\u001b[0mexp\u001b[0m\u001b[1;33m(\u001b[0m\u001b[1;33m-\u001b[0m\u001b[1;36m1\u001b[0m\u001b[1;33m*\u001b[0m\u001b[0mnp\u001b[0m\u001b[1;33m.\u001b[0m\u001b[0mabs\u001b[0m\u001b[1;33m(\u001b[0m\u001b[0mx\u001b[0m\u001b[1;33m)\u001b[0m\u001b[1;33m)\u001b[0m\u001b[1;33m**\u001b[0m\u001b[1;36m2\u001b[0m\u001b[1;33m)\u001b[0m\u001b[1;33m,\u001b[0m \u001b[1;33m(\u001b[0m\u001b[0mx\u001b[0m\u001b[1;33m,\u001b[0m\u001b[1;33m-\u001b[0m\u001b[0moo\u001b[0m\u001b[1;33m,\u001b[0m\u001b[0moo\u001b[0m\u001b[1;33m)\u001b[0m\u001b[1;33m)\u001b[0m\u001b[1;33m\u001b[0m\u001b[1;33m\u001b[0m\u001b[0m\n\u001b[0m",
      "\u001b[1;31mNameError\u001b[0m: name 'oo' is not defined"
     ]
    }
   ],
   "source": [
    "import sympy as sp \n",
    "import numpy as np\n",
    "x = sp.Symbol('x')\n",
    "f = sp.Symbol('f')\n",
    "\n",
    "sp.integrate((sp.exp(-1*np.abs(x))**2), (x,-oo,oo))"
   ]
  },
  {
   "cell_type": "markdown",
   "metadata": {},
   "source": [
    "**<font color=red> Esta celda no se puede ejecutar**"
   ]
  },
  {
   "cell_type": "markdown",
   "metadata": {},
   "source": [
    "**<div class=\"alert alert-danger\" role=\"alert\">No es una funcíon de onda, ya que el valor absoluto no es una función continua.**"
   ]
  },
  {
   "cell_type": "markdown",
   "metadata": {},
   "source": [
    "# ítem c) "
   ]
  },
  {
   "cell_type": "markdown",
   "metadata": {},
   "source": [
    "$$\\Large f(x)=sin(x)$$\n",
    "$$\\Large \\frac{df(x)}{dx}$$"
   ]
  },
  {
   "cell_type": "code",
   "execution_count": 11,
   "metadata": {},
   "outputs": [
    {
     "data": {
      "text/latex": [
       "$\\displaystyle \\cos{\\left(x \\right)}$"
      ],
      "text/plain": [
       "cos(x)"
      ]
     },
     "execution_count": 11,
     "metadata": {},
     "output_type": "execute_result"
    }
   ],
   "source": [
    "x = sp.Symbol('x')\n",
    "y = sp.sin(x)\n",
    "sp.diff(y,x)"
   ]
  },
  {
   "cell_type": "markdown",
   "metadata": {},
   "source": [
    "$$\\Large f(x)=sin(x)$$\n",
    "$$\\Large \\frac{d^2f(x)}{dx^2}$$"
   ]
  },
  {
   "cell_type": "code",
   "execution_count": 12,
   "metadata": {},
   "outputs": [
    {
     "data": {
      "text/latex": [
       "$\\displaystyle - \\sin{\\left(x \\right)}$"
      ],
      "text/plain": [
       "-sin(x)"
      ]
     },
     "execution_count": 12,
     "metadata": {},
     "output_type": "execute_result"
    }
   ],
   "source": [
    "x = sp.Symbol('x')\n",
    "y = sp.sin(x)\n",
    "sp.diff(y,x,2) "
   ]
  },
  {
   "cell_type": "markdown",
   "metadata": {},
   "source": [
    "$$\\large \\int^{4\\pi}_{-4\\pi} |sin(x)|^2dx$$"
   ]
  },
  {
   "cell_type": "code",
   "execution_count": 13,
   "metadata": {},
   "outputs": [
    {
     "data": {
      "text/latex": [
       "$\\displaystyle 4 \\pi$"
      ],
      "text/plain": [
       "4*pi"
      ]
     },
     "execution_count": 13,
     "metadata": {},
     "output_type": "execute_result"
    }
   ],
   "source": [
    "import sympy as sp \n",
    "x = sp.Symbol('x')\n",
    "f = sp.Symbol('f')\n",
    "\n",
    "sp.integrate((sp.sin(x))**2, (x,-4*sp.pi,4*sp.pi))"
   ]
  },
  {
   "cell_type": "markdown",
   "metadata": {},
   "source": [
    "**<div class=\"alert alert-danger\" role=\"alert\"> Es una función de oda, pues cumple los cuatro requerimientos.**"
   ]
  },
  {
   "cell_type": "markdown",
   "metadata": {},
   "source": [
    "# Ítem d)"
   ]
  },
  {
   "cell_type": "markdown",
   "metadata": {},
   "source": [
    "$$\\Large f(x)=e^{-x}$$\n",
    "$$\\Large \\frac{df(x)}{dx}$$"
   ]
  },
  {
   "cell_type": "code",
   "execution_count": 14,
   "metadata": {},
   "outputs": [
    {
     "data": {
      "text/latex": [
       "$\\displaystyle - e^{- x}$"
      ],
      "text/plain": [
       "-exp(-x)"
      ]
     },
     "execution_count": 14,
     "metadata": {},
     "output_type": "execute_result"
    }
   ],
   "source": [
    "x = sp.Symbol('x')\n",
    "y = sp.exp(-x)\n",
    "sp.diff(y,x) "
   ]
  },
  {
   "cell_type": "markdown",
   "metadata": {},
   "source": [
    "$$\\Large f(x)=e^{-x}$$\n",
    "$$\\Large \\frac{d^2f(x)}{dx^2}$$"
   ]
  },
  {
   "cell_type": "code",
   "execution_count": 15,
   "metadata": {},
   "outputs": [
    {
     "data": {
      "text/latex": [
       "$\\displaystyle e^{- x}$"
      ],
      "text/plain": [
       "exp(-x)"
      ]
     },
     "execution_count": 15,
     "metadata": {},
     "output_type": "execute_result"
    }
   ],
   "source": [
    "x = sp.Symbol('x')\n",
    "y = sp.exp(-x)\n",
    "sp.diff(y,x,2) "
   ]
  },
  {
   "cell_type": "markdown",
   "metadata": {},
   "source": [
    "$$\\large \\int^{30}_{0} |e^{-x}|^2dx$$"
   ]
  },
  {
   "cell_type": "code",
   "execution_count": 101,
   "metadata": {},
   "outputs": [
    {
     "data": {
      "text/latex": [
       "$\\displaystyle \\frac{1}{2} - \\frac{1}{2 e^{60}}$"
      ],
      "text/plain": [
       "1/2 - exp(-60)/2"
      ]
     },
     "execution_count": 101,
     "metadata": {},
     "output_type": "execute_result"
    }
   ],
   "source": [
    "import sympy as sp \n",
    "x = sp.Symbol('x')\n",
    "f = sp.Symbol('f')\n",
    "\n",
    "sp.integrate((sp.exp(-x)**2), (x,0,30))"
   ]
  },
  {
   "cell_type": "markdown",
   "metadata": {},
   "source": [
    "**<div class=\"alert alert-danger\" role=\"alert\">Es una función de onda.**\n",
    "    \n",
    "**<font color=red> Hay que determinar si es aceptable o bien comportada**"
   ]
  },
  {
   "cell_type": "markdown",
   "metadata": {},
   "source": [
    "# Ítem e)"
   ]
  },
  {
   "cell_type": "markdown",
   "metadata": {},
   "source": [
    "$$\\Large f(x)=e^{-x}sin(x)$$\n",
    "$$\\Large \\frac{df(x)}{dx}$$"
   ]
  },
  {
   "cell_type": "code",
   "execution_count": 18,
   "metadata": {},
   "outputs": [
    {
     "data": {
      "text/latex": [
       "$\\displaystyle - e^{- x} \\sin{\\left(x \\right)} + e^{- x} \\cos{\\left(x \\right)}$"
      ],
      "text/plain": [
       "-exp(-x)*sin(x) + exp(-x)*cos(x)"
      ]
     },
     "execution_count": 18,
     "metadata": {},
     "output_type": "execute_result"
    }
   ],
   "source": [
    "x = sp.Symbol('x')\n",
    "y = sp.exp(-x)*sp.sin(x)\n",
    "sp.diff(y,x) "
   ]
  },
  {
   "cell_type": "markdown",
   "metadata": {},
   "source": [
    "$$\\Large f(x)=e^{-x}sin(x)$$\n",
    "$$\\Large \\frac{d^2f(x)}{dx^2}$$"
   ]
  },
  {
   "cell_type": "code",
   "execution_count": 19,
   "metadata": {},
   "outputs": [
    {
     "data": {
      "text/latex": [
       "$\\displaystyle - 2 e^{- x} \\cos{\\left(x \\right)}$"
      ],
      "text/plain": [
       "-2*exp(-x)*cos(x)"
      ]
     },
     "execution_count": 19,
     "metadata": {},
     "output_type": "execute_result"
    }
   ],
   "source": [
    "x = sp.Symbol('x')\n",
    "y = sp.exp(-x)*sp.sin(x)\n",
    "sp.diff(y,x,2) "
   ]
  },
  {
   "cell_type": "markdown",
   "metadata": {},
   "source": [
    "$$\\large \\int^{30}_{0} |e^{-x}sin(x)|^2dx$$"
   ]
  },
  {
   "cell_type": "code",
   "execution_count": 20,
   "metadata": {},
   "outputs": [
    {
     "data": {
      "text/latex": [
       "$\\displaystyle - \\frac{3 \\sin^{2}{\\left(30 \\right)}}{8 e^{60}} - \\frac{\\cos^{2}{\\left(30 \\right)}}{8 e^{60}} - \\frac{\\sin{\\left(30 \\right)} \\cos{\\left(30 \\right)}}{4 e^{60}} + \\frac{1}{8}$"
      ],
      "text/plain": [
       "-3*exp(-60)*sin(30)**2/8 - exp(-60)*cos(30)**2/8 - exp(-60)*sin(30)*cos(30)/4 + 1/8"
      ]
     },
     "execution_count": 20,
     "metadata": {},
     "output_type": "execute_result"
    }
   ],
   "source": [
    "import sympy as sp \n",
    "x = sp.Symbol('x')\n",
    "f = sp.Symbol('f')\n",
    "\n",
    "sp.integrate(((sp.exp(-x)*sp.sin(x))**2), (x,0,30))"
   ]
  },
  {
   "cell_type": "markdown",
   "metadata": {},
   "source": [
    "**<div class=\"alert alert-danger\" role=\"alert\">Es una función de onda.**\n",
    "    \n",
    "**<font color=red> Hay que determinar si es aceptable o bien comportada**"
   ]
  },
  {
   "cell_type": "markdown",
   "metadata": {},
   "source": [
    "# **<div class=\"alert alert-warning\" role=\"alert\">SEGUNDO PUNTO**"
   ]
  },
  {
   "cell_type": "markdown",
   "metadata": {},
   "source": [
    "# Ítem a) "
   ]
  },
  {
   "cell_type": "markdown",
   "metadata": {},
   "source": [
    "<div class=\"alert alert-success\" role=\"alert\">Primero se busca la norma de una función.\n",
    "    $$\\large \\int^{\\infty}_{0} |e^{-x}|^2dx$$"
   ]
  },
  {
   "cell_type": "code",
   "execution_count": 21,
   "metadata": {},
   "outputs": [
    {
     "data": {
      "text/latex": [
       "$\\displaystyle \\frac{1}{2}$"
      ],
      "text/plain": [
       "1/2"
      ]
     },
     "execution_count": 21,
     "metadata": {},
     "output_type": "execute_result"
    }
   ],
   "source": [
    "import numpy as np\n",
    "import sympy as sp\n",
    "x = sp.Symbol('x')\n",
    "f = sp.Symbol('f')\n",
    "sp.integrate((sp.exp(-x)**2), (x,0,sp.oo))"
   ]
  },
  {
   "cell_type": "markdown",
   "metadata": {},
   "source": [
    "<div class=\"alert alert-success\" role=\"alert\"> Despues se busca la constante de normalización (A) y por último se multiplica esa constante de normalización por la integral de la función de onda al cuadrado.\n",
    "    $$\\large A=\\frac{1}{\\sqrt{b}}$$"
   ]
  },
  {
   "cell_type": "code",
   "execution_count": 22,
   "metadata": {},
   "outputs": [
    {
     "data": {
      "text/latex": [
       "$\\displaystyle 1.0$"
      ],
      "text/plain": [
       "1.00000000000000"
      ]
     },
     "execution_count": 22,
     "metadata": {},
     "output_type": "execute_result"
    }
   ],
   "source": [
    "A = 1/np.sqrt(0.5)\n",
    "fn = A*sp.exp(-x)\n",
    "sp.integrate(fn**2,(x,0,sp.oo))"
   ]
  },
  {
   "cell_type": "markdown",
   "metadata": {},
   "source": [
    "**<div class=\"alert alert-success\" role=\"alert\">La función normalizada será entonces $ f(x) = \\large \\frac{1}{\\sqrt{0.5}} e^{-x}$**"
   ]
  },
  {
   "cell_type": "markdown",
   "metadata": {},
   "source": [
    "# Ítem b)"
   ]
  },
  {
   "cell_type": "markdown",
   "metadata": {},
   "source": [
    "<div class=\"alert alert-danger\" role=\"alert\">Primero se busca la norma de una función.\n",
    "    $$\\large \\int^{2\\pi}_{0} |e^{ix}|^2dx$$"
   ]
  },
  {
   "cell_type": "code",
   "execution_count": 23,
   "metadata": {},
   "outputs": [
    {
     "data": {
      "text/latex": [
       "$\\displaystyle 2 \\pi$"
      ],
      "text/plain": [
       "2*pi"
      ]
     },
     "execution_count": 23,
     "metadata": {},
     "output_type": "execute_result"
    }
   ],
   "source": [
    "x = sp.Symbol('x')\n",
    "sp.integrate((sp.exp(x*1j)*sp.exp(x*-1j)), (x,0,2*sp.pi))"
   ]
  },
  {
   "cell_type": "markdown",
   "metadata": {},
   "source": [
    "<div class=\"alert alert-danger\" role=\"alert\"> Despues se busca la constante de normalización (A) y por último se multiplica esa constante de normalización por la integral de la función de onda al cuadrado.\n",
    "    $$\\large A=\\frac{1}{\\sqrt{b}}$$"
   ]
  },
  {
   "cell_type": "code",
   "execution_count": 24,
   "metadata": {},
   "outputs": [
    {
     "data": {
      "text/latex": [
       "$\\displaystyle 1$"
      ],
      "text/plain": [
       "1"
      ]
     },
     "execution_count": 24,
     "metadata": {},
     "output_type": "execute_result"
    }
   ],
   "source": [
    "A = 1/sp.sqrt(2*sp.pi)\n",
    "sp.integrate((A*sp.exp(x*1j))*(A*sp.exp(x*-1j)),(x,0,2*sp.pi))"
   ]
  },
  {
   "cell_type": "markdown",
   "metadata": {},
   "source": [
    "**<div class=\"alert alert-danger\" role=\"alert\">La función normalizada será entonces $ f(x) = \\large \\frac{1}{\\sqrt{2\\pi}} e^{ix}$**"
   ]
  },
  {
   "cell_type": "markdown",
   "metadata": {},
   "source": [
    "# Ítem c)"
   ]
  },
  {
   "cell_type": "markdown",
   "metadata": {},
   "source": [
    "<div class=\"alert alert-info\" role=\"alert\">Primero se busca la norma de una función.\n",
    "    $$\\large \\int^{2\\pi}_{0} |xe^{-x}|^2dx$$"
   ]
  },
  {
   "cell_type": "code",
   "execution_count": 25,
   "metadata": {},
   "outputs": [
    {
     "data": {
      "text/latex": [
       "$\\displaystyle \\frac{1}{4}$"
      ],
      "text/plain": [
       "1/4"
      ]
     },
     "execution_count": 25,
     "metadata": {},
     "output_type": "execute_result"
    }
   ],
   "source": [
    "x = sp.Symbol('x')\n",
    "sp.integrate((x*sp.exp(-x))**2, (x,0,sp.oo))"
   ]
  },
  {
   "cell_type": "markdown",
   "metadata": {},
   "source": [
    "<div class=\"alert alert-info\" role=\"alert\"> Despues se busca la constante de normalización (A) y por último se multiplica esa constante de normalización por la integral de la función de onda al cuadrado.\n",
    "    $$\\large A=\\frac{1}{\\sqrt{b}}$$"
   ]
  },
  {
   "cell_type": "code",
   "execution_count": 26,
   "metadata": {},
   "outputs": [
    {
     "data": {
      "text/latex": [
       "$\\displaystyle 1.0$"
      ],
      "text/plain": [
       "1.00000000000000"
      ]
     },
     "execution_count": 26,
     "metadata": {},
     "output_type": "execute_result"
    }
   ],
   "source": [
    "A = 1/sp.sqrt(1/4)\n",
    "sp.integrate((A*x*sp.exp(-x))**2, (x,0,sp.oo))"
   ]
  },
  {
   "cell_type": "markdown",
   "metadata": {},
   "source": [
    "**<div class=\"alert alert-info\" role=\"alert\">La función normalizada será entonces $ f(x) = \\large \\frac{1}{\\sqrt{0.25}} xe^{-x}$**"
   ]
  },
  {
   "cell_type": "markdown",
   "metadata": {},
   "source": [
    "# **<div class=\"alert alert-warning\" role=\"alert\">TERCER PUNTO**"
   ]
  },
  {
   "cell_type": "markdown",
   "metadata": {},
   "source": [
    "# Ítem a)"
   ]
  },
  {
   "cell_type": "markdown",
   "metadata": {},
   "source": [
    "$$ \\large\\int^{1.5001x10^{-9}}_{1.5000x10^{-9}} |\\sqrt{\\frac{2}{a}} e^{\\frac{-x}{a}}|^{2}dx $$"
   ]
  },
  {
   "cell_type": "code",
   "execution_count": 27,
   "metadata": {},
   "outputs": [
    {
     "data": {
      "text/latex": [
       "$\\displaystyle 9.95641799856478 \\cdot 10^{-6}$"
      ],
      "text/plain": [
       "9.95641799856478e-6"
      ]
     },
     "execution_count": 27,
     "metadata": {},
     "output_type": "execute_result"
    }
   ],
   "source": [
    "x = sp.Symbol('x')\n",
    "sp.integrate((sp.sqrt(2/(1*10**-9))*sp.exp(-x/(1*10**-9)))**2, (x,1.5000*10**-9,1.5001*10**-9))"
   ]
  },
  {
   "cell_type": "markdown",
   "metadata": {},
   "source": [
    "**<font color=red> Qué significado tiene el resultado encontrado?**"
   ]
  },
  {
   "cell_type": "markdown",
   "metadata": {},
   "source": [
    "# Ítem b)"
   ]
  },
  {
   "cell_type": "markdown",
   "metadata": {},
   "source": [
    "$$ \\large\\int^{2x10^{-9}}_{0} |\\sqrt{\\frac{2}{a}} e^{\\frac{-x}{a}}|^{2}dx $$"
   ]
  },
  {
   "cell_type": "code",
   "execution_count": 102,
   "metadata": {},
   "outputs": [
    {
     "data": {
      "text/latex": [
       "$\\displaystyle 0.981684361111266$"
      ],
      "text/plain": [
       "0.981684361111266"
      ]
     },
     "execution_count": 102,
     "metadata": {},
     "output_type": "execute_result"
    }
   ],
   "source": [
    "x = sp.Symbol('x')\n",
    "sp.integrate((sp.sqrt(2/(1*10**-9))*sp.exp(-x/(1*10**-9)))**2, (x,0,2*10**-9))"
   ]
  },
  {
   "cell_type": "markdown",
   "metadata": {},
   "source": [
    "**<font color=red> Ningún comentario! Qué significado tiene el resultado encontrado?**"
   ]
  },
  {
   "cell_type": "markdown",
   "metadata": {},
   "source": [
    "# Ítem c)"
   ]
  },
  {
   "cell_type": "markdown",
   "metadata": {},
   "source": [
    "$$ \\large\\int^{\\infty}_{0} |\\sqrt{\\frac{2}{a}} e^{\\frac{-x}{a}}|^{2}dx $$"
   ]
  },
  {
   "cell_type": "code",
   "execution_count": 28,
   "metadata": {},
   "outputs": [
    {
     "data": {
      "text/latex": [
       "$\\displaystyle 1.0$"
      ],
      "text/plain": [
       "1.00000000000000"
      ]
     },
     "execution_count": 28,
     "metadata": {},
     "output_type": "execute_result"
    }
   ],
   "source": [
    "x = sp.Symbol('x')\n",
    "sp.integrate((sp.sqrt(2/(1*10**-9))*sp.exp(-x/(1*10**-9)))**2, (x,0,sp.oo))"
   ]
  },
  {
   "cell_type": "markdown",
   "metadata": {},
   "source": [
    "**<div class=\"alert alert-success\" role=\"alert\">Se verifica que la función de onda está normalizada, ya que la integral cuadrada de la función de onda es igual a 1.**"
   ]
  },
  {
   "cell_type": "markdown",
   "metadata": {},
   "source": [
    "# **<div class=\"alert alert-warning\" role=\"alert\">CUARTO PUNTO**"
   ]
  },
  {
   "cell_type": "markdown",
   "metadata": {},
   "source": [
    "# Ítem a)"
   ]
  },
  {
   "cell_type": "markdown",
   "metadata": {},
   "source": [
    "$\\large \\hat{A}f(x)=\\frac{df(x)}{dx}$ (derivada de $\\large f(x)$)"
   ]
  },
  {
   "cell_type": "code",
   "execution_count": 29,
   "metadata": {},
   "outputs": [
    {
     "data": {
      "text/latex": [
       "$\\displaystyle f{\\left(x \\right)}$"
      ],
      "text/plain": [
       "f(x)"
      ]
     },
     "execution_count": 29,
     "metadata": {},
     "output_type": "execute_result"
    }
   ],
   "source": [
    "import sympy as sp \n",
    "import numpy as np\n",
    "x, k = sp.symbols('x k')\n",
    "f = sp.Function('f')(x)\n",
    "f"
   ]
  },
  {
   "cell_type": "code",
   "execution_count": 30,
   "metadata": {},
   "outputs": [
    {
     "data": {
      "text/latex": [
       "$\\displaystyle k \\frac{d}{d x} f{\\left(x \\right)}$"
      ],
      "text/plain": [
       "k*Derivative(f(x), x)"
      ]
     },
     "execution_count": 30,
     "metadata": {},
     "output_type": "execute_result"
    }
   ],
   "source": [
    "c1=k*sp.diff(f,x)\n",
    "c1"
   ]
  },
  {
   "cell_type": "code",
   "execution_count": 31,
   "metadata": {},
   "outputs": [
    {
     "data": {
      "text/latex": [
       "$\\displaystyle k f{\\left(x \\right)}$"
      ],
      "text/plain": [
       "k*f(x)"
      ]
     },
     "execution_count": 31,
     "metadata": {},
     "output_type": "execute_result"
    }
   ],
   "source": [
    "import sympy as sp \n",
    "import numpy as np\n",
    "x, k = sp.symbols('x k')\n",
    "f = k*(sp.Function('f')(x))\n",
    "f"
   ]
  },
  {
   "cell_type": "code",
   "execution_count": 32,
   "metadata": {
    "scrolled": true
   },
   "outputs": [
    {
     "data": {
      "text/latex": [
       "$\\displaystyle k \\frac{d}{d x} f{\\left(x \\right)}$"
      ],
      "text/plain": [
       "k*Derivative(f(x), x)"
      ]
     },
     "execution_count": 32,
     "metadata": {},
     "output_type": "execute_result"
    }
   ],
   "source": [
    "c2=sp.diff(f,x)\n",
    "c2"
   ]
  },
  {
   "cell_type": "markdown",
   "metadata": {},
   "source": [
    "<div class=\"alert alert-warning\" role=\"alert\">Se cumple que  $\\large \\hat{A}kf(x)= k \\hat{A}f(x) $ y tambien que $\\large \\hat{A} (c_1f_1+c_2f_2+...+c_nf_n)=c_1\\hat{A} f_1+c_2\\hat{A}f_2+...+c_n\\hat{A}f_n $, por tanto el operador derivada es un operador lineal. "
   ]
  },
  {
   "cell_type": "markdown",
   "metadata": {},
   "source": [
    "# Ítem b)"
   ]
  },
  {
   "cell_type": "markdown",
   "metadata": {},
   "source": [
    "  $\\large \\hat{A}f(x)=f^*(x)$ (forma la compleja conjugada de $\\large f(x)$"
   ]
  },
  {
   "cell_type": "code",
   "execution_count": 33,
   "metadata": {},
   "outputs": [
    {
     "data": {
      "text/latex": [
       "$\\displaystyle 1.0 i k f{\\left(x \\right)}$"
      ],
      "text/plain": [
       "1.0*I*k*f(x)"
      ]
     },
     "execution_count": 33,
     "metadata": {},
     "output_type": "execute_result"
    }
   ],
   "source": [
    "import sympy as sp \n",
    "import numpy as np\n",
    "x, k = sp.symbols('x k')\n",
    "f = k*1j*(sp.Function('f')(x))\n",
    "f"
   ]
  },
  {
   "cell_type": "code",
   "execution_count": 34,
   "metadata": {},
   "outputs": [
    {
     "data": {
      "text/latex": [
       "$\\displaystyle - 1.0 i f{\\left(x \\right)}$"
      ],
      "text/plain": [
       "-1.0*I*f(x)"
      ]
     },
     "execution_count": 34,
     "metadata": {},
     "output_type": "execute_result"
    }
   ],
   "source": [
    "import sympy as sp \n",
    "import numpy as np\n",
    "x, k = sp.symbols('x k')\n",
    "f1 = (-1j)*(sp.Function('f')(x))\n",
    "f1"
   ]
  },
  {
   "cell_type": "code",
   "execution_count": 35,
   "metadata": {},
   "outputs": [
    {
     "data": {
      "text/latex": [
       "$\\displaystyle 1.0 k f^{2}{\\left(x \\right)}$"
      ],
      "text/plain": [
       "1.0*k*f(x)**2"
      ]
     },
     "execution_count": 35,
     "metadata": {},
     "output_type": "execute_result"
    }
   ],
   "source": [
    "c3=f*f1\n",
    "c3"
   ]
  },
  {
   "cell_type": "code",
   "execution_count": 36,
   "metadata": {},
   "outputs": [
    {
     "data": {
      "text/latex": [
       "$\\displaystyle 1.0 i f{\\left(x \\right)}$"
      ],
      "text/plain": [
       "1.0*I*f(x)"
      ]
     },
     "execution_count": 36,
     "metadata": {},
     "output_type": "execute_result"
    }
   ],
   "source": [
    "import sympy as sp \n",
    "import numpy as np\n",
    "x, k = sp.symbols('x k')\n",
    "f2 = 1j*(sp.Function('f')(x))\n",
    "f2"
   ]
  },
  {
   "cell_type": "code",
   "execution_count": 37,
   "metadata": {},
   "outputs": [
    {
     "data": {
      "text/latex": [
       "$\\displaystyle - 1.0 i f{\\left(x \\right)}$"
      ],
      "text/plain": [
       "-1.0*I*f(x)"
      ]
     },
     "execution_count": 37,
     "metadata": {},
     "output_type": "execute_result"
    }
   ],
   "source": [
    "import sympy as sp \n",
    "import numpy as np\n",
    "x, k = sp.symbols('x k')\n",
    "f3 = (-1j)*(sp.Function('f')(x))\n",
    "f3"
   ]
  },
  {
   "cell_type": "code",
   "execution_count": 38,
   "metadata": {},
   "outputs": [
    {
     "data": {
      "text/latex": [
       "$\\displaystyle 1.0 k f^{2}{\\left(x \\right)}$"
      ],
      "text/plain": [
       "1.0*k*f(x)**2"
      ]
     },
     "execution_count": 38,
     "metadata": {},
     "output_type": "execute_result"
    }
   ],
   "source": [
    "c4=k*f2*f3\n",
    "c4"
   ]
  },
  {
   "cell_type": "markdown",
   "metadata": {},
   "source": [
    "<div class=\"alert alert-warning\" role=\"alert\">Se cumple que  $\\large \\hat{A}kf(x)= k \\hat{A}f(x) $ y tambien que $\\large \\hat{A} (c_1f_1+c_2f_2+...+c_nf_n)=c_1\\hat{A} f_1+c_2\\hat{A}f_2+...+c_n\\hat{A}f_n $, por tanto el operador conjugado complejo es un operador lineal. "
   ]
  },
  {
   "cell_type": "markdown",
   "metadata": {},
   "source": [
    "# Ítem c)"
   ]
  },
  {
   "cell_type": "markdown",
   "metadata": {},
   "source": [
    "$\\large \\hat{A}f(x)=ln f(x)$ (toma el logaritmo de $\\large f(x)$)"
   ]
  },
  {
   "cell_type": "code",
   "execution_count": 39,
   "metadata": {},
   "outputs": [
    {
     "data": {
      "text/latex": [
       "$\\displaystyle f{\\left(x \\right)}$"
      ],
      "text/plain": [
       "f(x)"
      ]
     },
     "execution_count": 39,
     "metadata": {},
     "output_type": "execute_result"
    }
   ],
   "source": [
    "import sympy as sp \n",
    "import numpy as np\n",
    "x, k = sp.symbols('x k')\n",
    "f = (sp.Function('f')(x))\n",
    "f"
   ]
  },
  {
   "cell_type": "code",
   "execution_count": 40,
   "metadata": {},
   "outputs": [
    {
     "data": {
      "text/latex": [
       "$\\displaystyle k \\log{\\left(f{\\left(x \\right)} \\right)}$"
      ],
      "text/plain": [
       "k*log(f(x))"
      ]
     },
     "execution_count": 40,
     "metadata": {},
     "output_type": "execute_result"
    }
   ],
   "source": [
    "c5=k*sp.ln(f)\n",
    "c5"
   ]
  },
  {
   "cell_type": "code",
   "execution_count": 41,
   "metadata": {},
   "outputs": [
    {
     "data": {
      "text/latex": [
       "$\\displaystyle k f{\\left(x \\right)}$"
      ],
      "text/plain": [
       "k*f(x)"
      ]
     },
     "execution_count": 41,
     "metadata": {},
     "output_type": "execute_result"
    }
   ],
   "source": [
    "import sympy as sp \n",
    "import numpy as np\n",
    "x, k = sp.symbols('x k')\n",
    "f = k*(sp.Function('f')(x))\n",
    "f"
   ]
  },
  {
   "cell_type": "code",
   "execution_count": 42,
   "metadata": {},
   "outputs": [
    {
     "data": {
      "text/latex": [
       "$\\displaystyle \\log{\\left(k f{\\left(x \\right)} \\right)}$"
      ],
      "text/plain": [
       "log(k*f(x))"
      ]
     },
     "execution_count": 42,
     "metadata": {},
     "output_type": "execute_result"
    }
   ],
   "source": [
    "c6=sp.ln(f)\n",
    "c6"
   ]
  },
  {
   "cell_type": "markdown",
   "metadata": {},
   "source": [
    "<div class=\"alert alert-warning\" role=\"alert\">No se cumple que  $\\large \\hat{A}kf(x)= k \\hat{A}f(x) $, por lo tanto el operador logarigmo no es un operador lineal. "
   ]
  },
  {
   "cell_type": "markdown",
   "metadata": {},
   "source": [
    "# Ítem d)"
   ]
  },
  {
   "cell_type": "markdown",
   "metadata": {},
   "source": [
    " $\\large \\hat{A}f(x)= \\int f(x)dx$  (integral de $\\large f(x)$)"
   ]
  },
  {
   "cell_type": "code",
   "execution_count": 43,
   "metadata": {},
   "outputs": [
    {
     "data": {
      "text/latex": [
       "$\\displaystyle f{\\left(x \\right)}$"
      ],
      "text/plain": [
       "f(x)"
      ]
     },
     "execution_count": 43,
     "metadata": {},
     "output_type": "execute_result"
    }
   ],
   "source": [
    "import sympy as sp \n",
    "import numpy as np\n",
    "x, k = sp.symbols('x k')\n",
    "f = (sp.Function('f')(x))\n",
    "f"
   ]
  },
  {
   "cell_type": "code",
   "execution_count": 44,
   "metadata": {},
   "outputs": [
    {
     "data": {
      "text/latex": [
       "$\\displaystyle k \\int f{\\left(x \\right)}\\, dx$"
      ],
      "text/plain": [
       "k*Integral(f(x), x)"
      ]
     },
     "execution_count": 44,
     "metadata": {},
     "output_type": "execute_result"
    }
   ],
   "source": [
    "c7=k*sp.integrate(f)\n",
    "c7"
   ]
  },
  {
   "cell_type": "markdown",
   "metadata": {},
   "source": [
    "<div class=\"alert alert-warning\" role=\"alert\">Se cumple que  $\\large \\hat{A}kf(x)= k \\hat{A}f(x) $ y tambien que $\\large \\hat{A} (c_1f_1+c_2f_2+...+c_nf_n)=c_1\\hat{A} f_1+c_2\\hat{A}f_2+...+c_n\\hat{A}f_n $, por tanto el operador integral es un operador lineal. "
   ]
  },
  {
   "cell_type": "markdown",
   "metadata": {},
   "source": [
    "# **<div class=\"alert alert-warning\" role=\"alert\">QUINTO PUNTO**"
   ]
  },
  {
   "cell_type": "markdown",
   "metadata": {},
   "source": [
    "# Ítem a)"
   ]
  },
  {
   "cell_type": "markdown",
   "metadata": {},
   "source": [
    "$$\\Large f(x)=e^{ikx}$$\n",
    "$$\\Large \\frac{df(x)}{dx}$$"
   ]
  },
  {
   "cell_type": "code",
   "execution_count": 45,
   "metadata": {},
   "outputs": [
    {
     "data": {
      "text/latex": [
       "$\\displaystyle 1.0 i k e^{1.0 i k x}$"
      ],
      "text/plain": [
       "1.0*I*k*exp(1.0*I*k*x)"
      ]
     },
     "execution_count": 45,
     "metadata": {},
     "output_type": "execute_result"
    }
   ],
   "source": [
    "import numpy as np\n",
    "import sympy as sp \n",
    "x, k = sp.symbols('x k')\n",
    "f = sp.exp(1j*k*x)\n",
    "sp.diff(f,x)"
   ]
  },
  {
   "cell_type": "markdown",
   "metadata": {},
   "source": [
    "<div class=\"alert alert-danger\" role=\"alert\">$\\Large e^{ikx}$ es una funcion propia del operador $\\Large \\frac{df(x)}{dx}$, con valor propio de $\\Large 1.0ik$"
   ]
  },
  {
   "cell_type": "markdown",
   "metadata": {},
   "source": [
    "$$\\Large f(x)=e^{ikx}$$\n",
    "$$\\Large \\frac{d^2f(x)}{dx^2}$$"
   ]
  },
  {
   "cell_type": "code",
   "execution_count": 46,
   "metadata": {},
   "outputs": [
    {
     "data": {
      "text/latex": [
       "$\\displaystyle - 1.0 k^{2} e^{1.0 i k x}$"
      ],
      "text/plain": [
       "-1.0*k**2*exp(1.0*I*k*x)"
      ]
     },
     "execution_count": 46,
     "metadata": {},
     "output_type": "execute_result"
    }
   ],
   "source": [
    "x, k = sp.symbols('x k')\n",
    "f = sp.exp(1j*k*x)\n",
    "sp.diff(f,x,2)"
   ]
  },
  {
   "cell_type": "markdown",
   "metadata": {},
   "source": [
    "<div class=\"alert alert-danger\" role=\"alert\">$\\Large e^{ikx}$ es una funcion propia del operador $\\Large \\frac{d^2f(x)}{dx^2}$, con valor propio de $\\Large -1.0{k}^2$"
   ]
  },
  {
   "cell_type": "markdown",
   "metadata": {},
   "source": [
    "# Ítem b)"
   ]
  },
  {
   "cell_type": "markdown",
   "metadata": {},
   "source": [
    "$$\\Large f(x)=cos(kx)$$\n",
    "$$\\Large \\frac{df(x)}{dx}$$"
   ]
  },
  {
   "cell_type": "code",
   "execution_count": 47,
   "metadata": {},
   "outputs": [
    {
     "data": {
      "text/latex": [
       "$\\displaystyle - k \\sin{\\left(k x \\right)}$"
      ],
      "text/plain": [
       "-k*sin(k*x)"
      ]
     },
     "execution_count": 47,
     "metadata": {},
     "output_type": "execute_result"
    }
   ],
   "source": [
    "import numpy as np\n",
    "import sympy as sp \n",
    "x, k = sp.symbols('x k')\n",
    "f = sp.cos(k*x)\n",
    "sp.diff(f,x)"
   ]
  },
  {
   "cell_type": "markdown",
   "metadata": {},
   "source": [
    "<div class=\"alert alert-danger\" role=\"alert\">$\\Large cos(kx)$ no es una función propia del operador $\\Large \\frac{df(x)}{dx}$"
   ]
  },
  {
   "cell_type": "markdown",
   "metadata": {},
   "source": [
    "$$\\Large f(x)=cos(kx)$$\n",
    "$$\\Large \\frac{d^2f(x)}{dx^2}$$"
   ]
  },
  {
   "cell_type": "code",
   "execution_count": 48,
   "metadata": {},
   "outputs": [
    {
     "data": {
      "text/latex": [
       "$\\displaystyle - k^{2} \\cos{\\left(k x \\right)}$"
      ],
      "text/plain": [
       "-k**2*cos(k*x)"
      ]
     },
     "execution_count": 48,
     "metadata": {},
     "output_type": "execute_result"
    }
   ],
   "source": [
    "x, k = sp.symbols('x k')\n",
    "f = sp.cos(k*x)\n",
    "sp.diff(f,x,2)"
   ]
  },
  {
   "cell_type": "markdown",
   "metadata": {},
   "source": [
    "<div class=\"alert alert-danger\" role=\"alert\">$\\Large cos(kx)$ es una función propio de $\\Large \\frac{d^2f(x)}{dx^2}$, con un valor propio de $\\large-k^2$"
   ]
  },
  {
   "cell_type": "markdown",
   "metadata": {},
   "source": [
    "# Ítem c)"
   ]
  },
  {
   "cell_type": "markdown",
   "metadata": {},
   "source": [
    "$$\\Large f(x)=k$$\n",
    "$$\\Large \\frac{df(x)}{dx}$$"
   ]
  },
  {
   "cell_type": "code",
   "execution_count": 49,
   "metadata": {},
   "outputs": [
    {
     "data": {
      "text/latex": [
       "$\\displaystyle 0$"
      ],
      "text/plain": [
       "0"
      ]
     },
     "execution_count": 49,
     "metadata": {},
     "output_type": "execute_result"
    }
   ],
   "source": [
    "import numpy as np\n",
    "import sympy as sp \n",
    "x, k = sp.symbols('x k')\n",
    "f = k\n",
    "sp.diff(f,x)"
   ]
  },
  {
   "cell_type": "markdown",
   "metadata": {},
   "source": [
    "<div class=\"alert alert-danger\" role=\"alert\">$\\Large k$ no es una función propia de $\\Large \\frac{df(x)}{dx}$, ya que su derivada es cero."
   ]
  },
  {
   "cell_type": "markdown",
   "metadata": {},
   "source": [
    "$$\\Large f(x)=k$$\n",
    "$$\\Large \\frac{d^2f(x)}{dx^2}$$"
   ]
  },
  {
   "cell_type": "code",
   "execution_count": 50,
   "metadata": {},
   "outputs": [
    {
     "data": {
      "text/latex": [
       "$\\displaystyle 0$"
      ],
      "text/plain": [
       "0"
      ]
     },
     "execution_count": 50,
     "metadata": {},
     "output_type": "execute_result"
    }
   ],
   "source": [
    "x, k = sp.symbols('x k')\n",
    "f = k\n",
    "sp.diff(f,x,2)"
   ]
  },
  {
   "cell_type": "markdown",
   "metadata": {},
   "source": [
    "<div class=\"alert alert-danger\" role=\"alert\">$\\Large k$ no es una función propia de $\\Large \\frac{d^2f(x)}{dx^2}$"
   ]
  },
  {
   "cell_type": "markdown",
   "metadata": {},
   "source": [
    "# Ítem d)"
   ]
  },
  {
   "cell_type": "markdown",
   "metadata": {},
   "source": [
    "$$\\Large f(x)=kx$$\n",
    "$$\\Large \\frac{df(x)}{dx}$$"
   ]
  },
  {
   "cell_type": "code",
   "execution_count": 51,
   "metadata": {},
   "outputs": [
    {
     "data": {
      "text/latex": [
       "$\\displaystyle k$"
      ],
      "text/plain": [
       "k"
      ]
     },
     "execution_count": 51,
     "metadata": {},
     "output_type": "execute_result"
    }
   ],
   "source": [
    "x, k = sp.symbols('x k')\n",
    "f = k*x\n",
    "sp.diff(f,x)"
   ]
  },
  {
   "cell_type": "markdown",
   "metadata": {},
   "source": [
    "<div class=\"alert alert-danger\" role=\"alert\">$\\Large kx$ no es una función propia de $\\Large \\frac{df(x)}{dx}$, porque la constante no está acompañada por la función de onda."
   ]
  },
  {
   "cell_type": "markdown",
   "metadata": {},
   "source": [
    "$$\\Large f(x)=kx$$\n",
    "$$\\Large \\frac{d^2f(x)}{dx^2}$$"
   ]
  },
  {
   "cell_type": "code",
   "execution_count": 52,
   "metadata": {},
   "outputs": [
    {
     "data": {
      "text/latex": [
       "$\\displaystyle 0$"
      ],
      "text/plain": [
       "0"
      ]
     },
     "execution_count": 52,
     "metadata": {},
     "output_type": "execute_result"
    }
   ],
   "source": [
    "x, k = sp.symbols('x k')\n",
    "f = k*x\n",
    "sp.diff(f,x,2)"
   ]
  },
  {
   "cell_type": "markdown",
   "metadata": {},
   "source": [
    "<div class=\"alert alert-danger\" role=\"alert\">$\\Large kx$ no es una función propia de $\\Large \\frac{d^2f(x)}{dx^2}$, porque es cero."
   ]
  },
  {
   "cell_type": "markdown",
   "metadata": {},
   "source": [
    "# Ítem e)"
   ]
  },
  {
   "cell_type": "markdown",
   "metadata": {},
   "source": [
    "$$\\Large f(x)=e^{-a{x}^2}$$\n",
    "$$\\Large \\frac{df(x)}{dx}$$"
   ]
  },
  {
   "cell_type": "code",
   "execution_count": 53,
   "metadata": {},
   "outputs": [
    {
     "data": {
      "text/latex": [
       "$\\displaystyle - 2 a x e^{- a x^{2}}$"
      ],
      "text/plain": [
       "-2*a*x*exp(-a*x**2)"
      ]
     },
     "execution_count": 53,
     "metadata": {},
     "output_type": "execute_result"
    }
   ],
   "source": [
    "import numpy as np\n",
    "import sympy as sp \n",
    "x, a = sp.symbols('x a')\n",
    "f = sp.exp(-a*(x)**2)\n",
    "sp.diff(f,x)"
   ]
  },
  {
   "cell_type": "markdown",
   "metadata": {},
   "source": [
    "<div class=\"alert alert-danger\" role=\"alert\">$\\Large e^{-a{x}^2}$ no es un función propia de $\\Large \\frac{df(x)}{dx}$, debido a que la función de onda esta acompañado de otra función en este caso x y por lo tanto se genera otra nueva función."
   ]
  },
  {
   "cell_type": "markdown",
   "metadata": {},
   "source": [
    "$$\\Large f(x)=e^{-a{x}^2}$$\n",
    "$$\\Large \\frac{d^2f(x)}{dx^2}$$"
   ]
  },
  {
   "cell_type": "code",
   "execution_count": 54,
   "metadata": {},
   "outputs": [
    {
     "data": {
      "text/latex": [
       "$\\displaystyle 2 a \\left(2 a x^{2} - 1\\right) e^{- a x^{2}}$"
      ],
      "text/plain": [
       "2*a*(2*a*x**2 - 1)*exp(-a*x**2)"
      ]
     },
     "execution_count": 54,
     "metadata": {},
     "output_type": "execute_result"
    }
   ],
   "source": [
    "import numpy as np\n",
    "import sympy as sp \n",
    "x, a = sp.symbols('x a')\n",
    "f = sp.exp(-a*(x)**2)\n",
    "sp.diff(f,x,2)"
   ]
  },
  {
   "cell_type": "markdown",
   "metadata": {},
   "source": [
    "<div class=\"alert alert-danger\" role=\"alert\">$\\Large e^{-a{x}^2}$ no es un función propia de $\\Large \\frac{df(x)}{dx}$,pues se genera una función diferente a la original. "
   ]
  },
  {
   "cell_type": "markdown",
   "metadata": {},
   "source": [
    "# **<div class=\"alert alert-warning\" role=\"alert\">SEXTO PUNTO**"
   ]
  },
  {
   "cell_type": "markdown",
   "metadata": {},
   "source": [
    "# Ítem a)"
   ]
  },
  {
   "cell_type": "markdown",
   "metadata": {},
   "source": [
    "<div class=\"alert alert-warning\" role=\"alert\">$$\\large [\\hat{x}^2,\\frac{d^2}{dx^2}]= \\large(\\hat{x}^2 \\frac{d^2}{dx^2} - \\frac{d^2}{dx^2}\\hat{x}^2)f(x)$$"
   ]
  },
  {
   "cell_type": "markdown",
   "metadata": {},
   "source": [
    "<div class=\"alert alert-warning\" role=\"alert\">Primero se busca $\\large \\hat{x}^2 (\\frac{d^2}{dx^2}f(x)) $"
   ]
  },
  {
   "cell_type": "code",
   "execution_count": 55,
   "metadata": {},
   "outputs": [
    {
     "data": {
      "text/latex": [
       "$\\displaystyle f{\\left(x \\right)}$"
      ],
      "text/plain": [
       "f(x)"
      ]
     },
     "execution_count": 55,
     "metadata": {},
     "output_type": "execute_result"
    }
   ],
   "source": [
    "import sympy as sp \n",
    "import numpy as np\n",
    "x = sp.symbols('x')\n",
    "f = sp.Function('f')(x)\n",
    "f"
   ]
  },
  {
   "cell_type": "code",
   "execution_count": 56,
   "metadata": {},
   "outputs": [
    {
     "data": {
      "text/latex": [
       "$\\displaystyle x^{2} \\frac{d^{2}}{d x^{2}} f{\\left(x \\right)}$"
      ],
      "text/plain": [
       "x**2*Derivative(f(x), (x, 2))"
      ]
     },
     "execution_count": 56,
     "metadata": {},
     "output_type": "execute_result"
    }
   ],
   "source": [
    "x = sp.symbols('x')\n",
    "c1 = x**2*sp.diff(f,x,2)\n",
    "c1"
   ]
  },
  {
   "cell_type": "code",
   "execution_count": 57,
   "metadata": {},
   "outputs": [
    {
     "data": {
      "text/latex": [
       "$\\displaystyle x^{2} \\frac{d^{2}}{d x^{2}} f{\\left(x \\right)} + 4 x \\frac{d}{d x} f{\\left(x \\right)} + 2 f{\\left(x \\right)}$"
      ],
      "text/plain": [
       "x**2*Derivative(f(x), (x, 2)) + 4*x*Derivative(f(x), x) + 2*f(x)"
      ]
     },
     "execution_count": 57,
     "metadata": {},
     "output_type": "execute_result"
    }
   ],
   "source": [
    "x = sp.symbols('x')\n",
    "c2 =sp.diff((x**2)*f,x,2)\n",
    "c2"
   ]
  },
  {
   "cell_type": "markdown",
   "metadata": {},
   "source": [
    "<div class=\"alert alert-warning\" role=\"alert\">Y después $ \\large \\frac{d^2}{dx^2}(\\hat{x}^2f(x))$"
   ]
  },
  {
   "cell_type": "code",
   "execution_count": 58,
   "metadata": {},
   "outputs": [
    {
     "data": {
      "text/latex": [
       "$\\displaystyle - 4 x \\frac{d}{d x} f{\\left(x \\right)} - 2 f{\\left(x \\right)}$"
      ],
      "text/plain": [
       "-4*x*Derivative(f(x), x) - 2*f(x)"
      ]
     },
     "execution_count": 58,
     "metadata": {},
     "output_type": "execute_result"
    }
   ],
   "source": [
    "c3=c1-c2\n",
    "c3"
   ]
  },
  {
   "cell_type": "markdown",
   "metadata": {},
   "source": [
    "**<div class=\"alert alert-warning\" role=\"alert\"> De está forma se observa que los operadores NO conmutan.**"
   ]
  },
  {
   "cell_type": "markdown",
   "metadata": {},
   "source": [
    "# Ítem b)"
   ]
  },
  {
   "cell_type": "markdown",
   "metadata": {},
   "source": [
    "<div class=\"alert alert-success\" role=\"alert\">$$\\large [\\hat{x},\\hat{p}_x] = \\large (\\hat{x} \\hat{p}_x -\\hat{p}_x \\hat{x}  )f(x)$$"
   ]
  },
  {
   "cell_type": "markdown",
   "metadata": {},
   "source": [
    "<div class=\"alert alert-success\" role=\"alert\">Primero se busca $\\large \\hat{x} (\\hat{p}_xf(x)) $, teniendo en cuenta que el operador momento lineal es $\\large \\hat{p_x}= {-i}\\hbar \\frac{d}{dx}$ y el operador de la posición es la multiplicación por $\\large x $"
   ]
  },
  {
   "cell_type": "code",
   "execution_count": 15,
   "metadata": {},
   "outputs": [
    {
     "data": {
      "text/latex": [
       "$\\displaystyle f{\\left(x \\right)}$"
      ],
      "text/plain": [
       "f(x)"
      ]
     },
     "execution_count": 15,
     "metadata": {},
     "output_type": "execute_result"
    }
   ],
   "source": [
    "import sympy as sp \n",
    "import numpy as np\n",
    "x, hbar = sp.symbols('x hbar')\n",
    "f = sp.Function('f')(x)\n",
    "f"
   ]
  },
  {
   "cell_type": "code",
   "execution_count": 16,
   "metadata": {},
   "outputs": [
    {
     "data": {
      "text/latex": [
       "$\\displaystyle - 1.0 i \\hbar x \\frac{d}{d x} f{\\left(x \\right)}$"
      ],
      "text/plain": [
       "-1.0*I*hbar*x*Derivative(f(x), x)"
      ]
     },
     "execution_count": 16,
     "metadata": {},
     "output_type": "execute_result"
    }
   ],
   "source": [
    "x, hbar = sp.symbols('x hbar')\n",
    "c1=(x)*(-1j*hbar)*(sp.diff(f,x))\n",
    "c1"
   ]
  },
  {
   "cell_type": "markdown",
   "metadata": {},
   "source": [
    "<div class=\"alert alert-success\" role=\"alert\">Y despues se busca $\\large \\hat{p}_x (\\hat{x} f(x))$"
   ]
  },
  {
   "cell_type": "code",
   "execution_count": 18,
   "metadata": {},
   "outputs": [
    {
     "data": {
      "text/latex": [
       "$\\displaystyle - 1.0 i \\hbar \\left(x \\frac{d}{d x} f{\\left(x \\right)} + f{\\left(x \\right)}\\right)$"
      ],
      "text/plain": [
       "-1.0*I*hbar*(x*Derivative(f(x), x) + f(x))"
      ]
     },
     "execution_count": 18,
     "metadata": {},
     "output_type": "execute_result"
    }
   ],
   "source": [
    "c2=(-1j*hbar)*sp.diff(x*f,x)\n",
    "c2"
   ]
  },
  {
   "cell_type": "markdown",
   "metadata": {},
   "source": [
    "<div class=\"alert alert-success\" role=\"alert\">Por último se restan los dos resultados."
   ]
  },
  {
   "cell_type": "code",
   "execution_count": 19,
   "metadata": {},
   "outputs": [
    {
     "data": {
      "text/latex": [
       "$\\displaystyle - 1.0 i \\hbar x \\frac{d}{d x} f{\\left(x \\right)} + 1.0 i \\hbar \\left(x \\frac{d}{d x} f{\\left(x \\right)} + f{\\left(x \\right)}\\right)$"
      ],
      "text/plain": [
       "-1.0*I*hbar*x*Derivative(f(x), x) + 1.0*I*hbar*(x*Derivative(f(x), x) + f(x))"
      ]
     },
     "execution_count": 19,
     "metadata": {},
     "output_type": "execute_result"
    }
   ],
   "source": [
    "c1-c2"
   ]
  },
  {
   "cell_type": "code",
   "execution_count": 20,
   "metadata": {},
   "outputs": [
    {
     "data": {
      "text/latex": [
       "$\\displaystyle 1.0 i \\hbar f{\\left(x \\right)}$"
      ],
      "text/plain": [
       "1.0*I*hbar*f(x)"
      ]
     },
     "execution_count": 20,
     "metadata": {},
     "output_type": "execute_result"
    }
   ],
   "source": [
    "sp.simplify(c1-c2)"
   ]
  },
  {
   "cell_type": "markdown",
   "metadata": {},
   "source": [
    "**<div class=\"alert alert-success\" role=\"alert\">Al mirar el resultado se puede concluir que los dos operadores NO conmutan, es decir que los observables de momento lineal y de posición no se pueden conocer de forma precisa al medirse simultaneamente, ya que a medida que se conozca de manera presisa uno de los observable el otro perderá precisión en su medida.**"
   ]
  },
  {
   "cell_type": "markdown",
   "metadata": {},
   "source": [
    "# Ítem c)"
   ]
  },
  {
   "cell_type": "markdown",
   "metadata": {},
   "source": [
    " <div class=\"alert alert-info\" role=\"alert\">$$\\large [\\hat{p}_x,\\hat{H}_x] = \\large (\\hat{p}_x \\hat{H}_x -\\hat{H}_x \\hat{p}_x  )f(x)$$"
   ]
  },
  {
   "cell_type": "markdown",
   "metadata": {},
   "source": [
    "<div class=\"alert alert-info\" role=\"alert\">Primero se busca $\\large \\hat{p}_x (\\hat{H}_xf(x)) $, teniendo en cuenta que el operador momento lineal es $\\large \\hat{p_x}= {-i}\\hbar \\frac{d}{dx}$ y el operador de energia o hamiltoniano es $\\large \\hat{H_x}=-\\frac{\\hbar^2}{2m}\\frac{d^2}{dx^2} + V(x)$"
   ]
  },
  {
   "cell_type": "code",
   "execution_count": 66,
   "metadata": {},
   "outputs": [
    {
     "data": {
      "text/latex": [
       "$\\displaystyle f{\\left(x \\right)}$"
      ],
      "text/plain": [
       "f(x)"
      ]
     },
     "execution_count": 66,
     "metadata": {},
     "output_type": "execute_result"
    }
   ],
   "source": [
    "import sympy as sp \n",
    "import numpy as np\n",
    "x, hbar = sp.symbols('x hbar')\n",
    "f = sp.Function('f')(x)\n",
    "f"
   ]
  },
  {
   "cell_type": "code",
   "execution_count": 67,
   "metadata": {},
   "outputs": [
    {
     "data": {
      "text/latex": [
       "$\\displaystyle V{\\left(x \\right)}$"
      ],
      "text/plain": [
       "V(x)"
      ]
     },
     "execution_count": 67,
     "metadata": {},
     "output_type": "execute_result"
    }
   ],
   "source": [
    "V = sp.Function('V')(x)\n",
    "V"
   ]
  },
  {
   "cell_type": "code",
   "execution_count": 68,
   "metadata": {},
   "outputs": [
    {
     "data": {
      "text/latex": [
       "$\\displaystyle - \\frac{\\hbar^{2} \\frac{d^{2}}{d x^{2}} f{\\left(x \\right)}}{2 m}$"
      ],
      "text/plain": [
       "-hbar**2*Derivative(f(x), (x, 2))/(2*m)"
      ]
     },
     "execution_count": 68,
     "metadata": {},
     "output_type": "execute_result"
    }
   ],
   "source": [
    "x, hbar, m = sp.symbols('x hbar m')\n",
    "c1=((-(hbar)**2/(2*m))*sp.diff(f,x,2))\n",
    "c1"
   ]
  },
  {
   "cell_type": "code",
   "execution_count": 69,
   "metadata": {},
   "outputs": [
    {
     "data": {
      "text/latex": [
       "$\\displaystyle V{\\left(x \\right)} f{\\left(x \\right)}$"
      ],
      "text/plain": [
       "V(x)*f(x)"
      ]
     },
     "execution_count": 69,
     "metadata": {},
     "output_type": "execute_result"
    }
   ],
   "source": [
    "c2=V*f\n",
    "c2"
   ]
  },
  {
   "cell_type": "code",
   "execution_count": 70,
   "metadata": {},
   "outputs": [
    {
     "data": {
      "text/latex": [
       "$\\displaystyle - 1.0 i \\hbar \\left(- \\frac{\\hbar^{2} \\frac{d^{3}}{d x^{3}} f{\\left(x \\right)}}{2 m} - V{\\left(x \\right)} \\frac{d}{d x} f{\\left(x \\right)} - f{\\left(x \\right)} \\frac{d}{d x} V{\\left(x \\right)}\\right)$"
      ],
      "text/plain": [
       "-1.0*I*hbar*(-hbar**2*Derivative(f(x), (x, 3))/(2*m) - V(x)*Derivative(f(x), x) - f(x)*Derivative(V(x), x))"
      ]
     },
     "execution_count": 70,
     "metadata": {},
     "output_type": "execute_result"
    }
   ],
   "source": [
    "x, hbar, m = sp.symbols('x hbar m')\n",
    "c3=(-1j*hbar)*(sp.diff(c1,x) - sp.diff(c2,x))\n",
    "c3"
   ]
  },
  {
   "cell_type": "markdown",
   "metadata": {},
   "source": [
    "<div class=\"alert alert-info\" role=\"alert\">Y despues se busca $\\large \\hat{H}_x (\\hat{p}_x  f(x))$"
   ]
  },
  {
   "cell_type": "code",
   "execution_count": 71,
   "metadata": {},
   "outputs": [
    {
     "data": {
      "text/latex": [
       "$\\displaystyle - 1.0 i \\hbar \\frac{d}{d x} f{\\left(x \\right)}$"
      ],
      "text/plain": [
       "-1.0*I*hbar*Derivative(f(x), x)"
      ]
     },
     "execution_count": 71,
     "metadata": {},
     "output_type": "execute_result"
    }
   ],
   "source": [
    "x, hbar, m = sp.symbols('x hbar m')\n",
    "c4 = (-1j)*hbar*sp.diff(f,x)\n",
    "c4"
   ]
  },
  {
   "cell_type": "code",
   "execution_count": 72,
   "metadata": {},
   "outputs": [
    {
     "data": {
      "text/latex": [
       "$\\displaystyle \\frac{0.5 i \\hbar^{3} \\frac{d^{3}}{d x^{3}} f{\\left(x \\right)}}{m} - 1.0 i \\hbar V{\\left(x \\right)} \\frac{d}{d x} f{\\left(x \\right)}$"
      ],
      "text/plain": [
       "0.5*I*hbar**3*Derivative(f(x), (x, 3))/m - 1.0*I*hbar*V(x)*Derivative(f(x), x)"
      ]
     },
     "execution_count": 72,
     "metadata": {},
     "output_type": "execute_result"
    }
   ],
   "source": [
    "x, hbar, m = sp.symbols('x hbar m')\n",
    "c5=(-(hbar)**2/(2*m)*sp.diff(c4,x,2)+ V*c4)\n",
    "c5"
   ]
  },
  {
   "cell_type": "markdown",
   "metadata": {},
   "source": [
    "<div class=\"alert alert-info\" role=\"alert\">Por último se restan los dos resultados."
   ]
  },
  {
   "cell_type": "code",
   "execution_count": 73,
   "metadata": {},
   "outputs": [
    {
     "data": {
      "text/latex": [
       "$\\displaystyle - \\frac{0.5 i \\hbar^{3} \\frac{d^{3}}{d x^{3}} f{\\left(x \\right)}}{m} - 1.0 i \\hbar \\left(- \\frac{\\hbar^{2} \\frac{d^{3}}{d x^{3}} f{\\left(x \\right)}}{2 m} - V{\\left(x \\right)} \\frac{d}{d x} f{\\left(x \\right)} - f{\\left(x \\right)} \\frac{d}{d x} V{\\left(x \\right)}\\right) + 1.0 i \\hbar V{\\left(x \\right)} \\frac{d}{d x} f{\\left(x \\right)}$"
      ],
      "text/plain": [
       "-0.5*I*hbar**3*Derivative(f(x), (x, 3))/m - 1.0*I*hbar*(-hbar**2*Derivative(f(x), (x, 3))/(2*m) - V(x)*Derivative(f(x), x) - f(x)*Derivative(V(x), x)) + 1.0*I*hbar*V(x)*Derivative(f(x), x)"
      ]
     },
     "execution_count": 73,
     "metadata": {},
     "output_type": "execute_result"
    }
   ],
   "source": [
    "c6=c3-(c5)\n",
    "c6"
   ]
  },
  {
   "cell_type": "code",
   "execution_count": 74,
   "metadata": {},
   "outputs": [
    {
     "data": {
      "text/latex": [
       "$\\displaystyle i \\hbar \\left(2.0 V{\\left(x \\right)} \\frac{d}{d x} f{\\left(x \\right)} + 1.0 f{\\left(x \\right)} \\frac{d}{d x} V{\\left(x \\right)}\\right)$"
      ],
      "text/plain": [
       "I*hbar*(2.0*V(x)*Derivative(f(x), x) + 1.0*f(x)*Derivative(V(x), x))"
      ]
     },
     "execution_count": 74,
     "metadata": {},
     "output_type": "execute_result"
    }
   ],
   "source": [
    "sp.simplify(c6)"
   ]
  },
  {
   "cell_type": "markdown",
   "metadata": {},
   "source": [
    "**<div class=\"alert alert-info\" role=\"alert\">Al mirar el resultado se puede concluir que los dos operadores NO conmutan, es decir que los observables de momento lineal y de energia total no se pueden conocer de forma precisa al medirse simultaneamente.** "
   ]
  },
  {
   "cell_type": "markdown",
   "metadata": {},
   "source": [
    "# **<div class=\"alert alert-warning\" role=\"alert\">SEPTIMO PUNTO**"
   ]
  },
  {
   "cell_type": "markdown",
   "metadata": {},
   "source": [
    "$$\\large [\\hat{x}^2,\\frac{d^2}{dx^2}](e^{x^2}+cos(2x))$$"
   ]
  },
  {
   "cell_type": "code",
   "execution_count": 80,
   "metadata": {},
   "outputs": [
    {
     "data": {
      "text/latex": [
       "$\\displaystyle e^{x^{2}} + \\cos{\\left(2 x \\right)}$"
      ],
      "text/plain": [
       "exp(x**2) + cos(2*x)"
      ]
     },
     "execution_count": 80,
     "metadata": {},
     "output_type": "execute_result"
    }
   ],
   "source": [
    "import sympy as sp \n",
    "import numpy as np\n",
    "x = sp.symbols('x')\n",
    "f = sp.exp(x**2)+ sp.cos(2*x)\n",
    "f"
   ]
  },
  {
   "cell_type": "markdown",
   "metadata": {},
   "source": [
    "<div class=\"alert alert-danger\" role=\"alert\">Primero se busca $\\large \\hat{x}^2 (\\frac{d^2}{dx^2}[e^{x^2}+cos(2x)]) $"
   ]
  },
  {
   "cell_type": "code",
   "execution_count": 83,
   "metadata": {},
   "outputs": [
    {
     "data": {
      "text/latex": [
       "$\\displaystyle 2 x^{2} \\left(2 x^{2} e^{x^{2}} + e^{x^{2}} - 2 \\cos{\\left(2 x \\right)}\\right)$"
      ],
      "text/plain": [
       "2*x**2*(2*x**2*exp(x**2) + exp(x**2) - 2*cos(2*x))"
      ]
     },
     "execution_count": 83,
     "metadata": {},
     "output_type": "execute_result"
    }
   ],
   "source": [
    "x = sp.symbols('x')\n",
    "c1 = x**2*sp.diff(f,x,2)\n",
    "c1"
   ]
  },
  {
   "cell_type": "markdown",
   "metadata": {},
   "source": [
    "<div class=\"alert alert-danger\" role=\"alert\">Y después $ \\large \\frac{d^2}{dx^2}(\\hat{x}^2 [e^{x^2}+cos(2x)])$"
   ]
  },
  {
   "cell_type": "code",
   "execution_count": 82,
   "metadata": {},
   "outputs": [
    {
     "data": {
      "text/latex": [
       "$\\displaystyle 2 \\left(x^{2} \\left(2 x^{2} e^{x^{2}} + e^{x^{2}} - 2 \\cos{\\left(2 x \\right)}\\right) + 4 x \\left(x e^{x^{2}} - \\sin{\\left(2 x \\right)}\\right) + e^{x^{2}} + \\cos{\\left(2 x \\right)}\\right)$"
      ],
      "text/plain": [
       "2*(x**2*(2*x**2*exp(x**2) + exp(x**2) - 2*cos(2*x)) + 4*x*(x*exp(x**2) - sin(2*x)) + exp(x**2) + cos(2*x))"
      ]
     },
     "execution_count": 82,
     "metadata": {},
     "output_type": "execute_result"
    }
   ],
   "source": [
    "x = sp.symbols('x')\n",
    "c2 =sp.diff((x**2)*f,x,2)\n",
    "c2"
   ]
  },
  {
   "cell_type": "markdown",
   "metadata": {},
   "source": [
    "<div class=\"alert alert-danger\" role=\"alert\">Por último se restan "
   ]
  },
  {
   "cell_type": "code",
   "execution_count": 84,
   "metadata": {},
   "outputs": [
    {
     "data": {
      "text/latex": [
       "$\\displaystyle 2 x^{2} \\left(2 x^{2} e^{x^{2}} + e^{x^{2}} - 2 \\cos{\\left(2 x \\right)}\\right) - 2 \\left(x^{2} \\left(2 x^{2} e^{x^{2}} + e^{x^{2}} - 2 \\cos{\\left(2 x \\right)}\\right) + 4 x \\left(x e^{x^{2}} - \\sin{\\left(2 x \\right)}\\right) + e^{x^{2}} + \\cos{\\left(2 x \\right)}\\right)$"
      ],
      "text/plain": [
       "2*x**2*(2*x**2*exp(x**2) + exp(x**2) - 2*cos(2*x)) - 2*(x**2*(2*x**2*exp(x**2) + exp(x**2) - 2*cos(2*x)) + 4*x*(x*exp(x**2) - sin(2*x)) + exp(x**2) + cos(2*x))"
      ]
     },
     "execution_count": 84,
     "metadata": {},
     "output_type": "execute_result"
    }
   ],
   "source": [
    "c3=c1-c2\n",
    "c3"
   ]
  },
  {
   "cell_type": "code",
   "execution_count": 85,
   "metadata": {},
   "outputs": [
    {
     "data": {
      "text/latex": [
       "$\\displaystyle - 8 x \\left(x e^{x^{2}} - \\sin{\\left(2 x \\right)}\\right) - 2 e^{x^{2}} - 2 \\cos{\\left(2 x \\right)}$"
      ],
      "text/plain": [
       "-8*x*(x*exp(x**2) - sin(2*x)) - 2*exp(x**2) - 2*cos(2*x)"
      ]
     },
     "execution_count": 85,
     "metadata": {},
     "output_type": "execute_result"
    }
   ],
   "source": [
    "sp.simplify(c3)"
   ]
  },
  {
   "cell_type": "markdown",
   "metadata": {},
   "source": [
    "**<div class=\"alert alert-danger\" role=\"alert\"> Se observa que los operadores no conmutan.**"
   ]
  },
  {
   "cell_type": "markdown",
   "metadata": {},
   "source": [
    "# **<div class=\"alert alert-warning\" role=\"alert\">OCTAVO PUNTO**"
   ]
  },
  {
   "cell_type": "markdown",
   "metadata": {},
   "source": [
    "# Ítem a)"
   ]
  },
  {
   "cell_type": "markdown",
   "metadata": {},
   "source": [
    "$\\large \\hat{A}\\hat{B}g(x)$ es una función ya que al aplicar la operación a la función está queda como una nueva función y a esa nueva función si se le aplica otra operación se genera otra función.  "
   ]
  },
  {
   "cell_type": "markdown",
   "metadata": {},
   "source": [
    "# Ítem b)"
   ]
  },
  {
   "cell_type": "markdown",
   "metadata": {},
   "source": [
    "$\\large \\hat{A}\\hat{B}+\\hat{B}\\hat{A}$ es un operador ya que entre las operaciones que se realizan NO hay una función en la cual se puedan aplicar."
   ]
  },
  {
   "cell_type": "markdown",
   "metadata": {},
   "source": [
    "# Ítem c)"
   ]
  },
  {
   "cell_type": "markdown",
   "metadata": {},
   "source": [
    " $\\large \\hat{B^2}f(x)$ es una función, pues se le aplica una operación a una función y se genera una nueva función."
   ]
  },
  {
   "cell_type": "markdown",
   "metadata": {},
   "source": [
    "# Ítem d)"
   ]
  },
  {
   "cell_type": "markdown",
   "metadata": {},
   "source": [
    "$\\large f(x)^*\\hat{A}f(x)$ es una función, puede ser compleja o real, eso dependerá de la operación que se le aplique. "
   ]
  },
  {
   "cell_type": "markdown",
   "metadata": {},
   "source": [
    "# **<div class=\"alert alert-warning\" role=\"alert\">NOVENO PUNTO**"
   ]
  },
  {
   "cell_type": "markdown",
   "metadata": {},
   "source": [
    "Con la siguiente expreción $ \\large \\Delta{x}\\Delta{p} \\geq \\frac{h}{2\\pi}$ se despeja para conocer la presición para del momento lineal."
   ]
  },
  {
   "cell_type": "code",
   "execution_count": 89,
   "metadata": {},
   "outputs": [
    {
     "data": {
      "text/latex": [
       "$\\displaystyle \\frac{3.315 \\cdot 10^{-31}}{\\pi}$"
      ],
      "text/plain": [
       "3.315e-31/pi"
      ]
     },
     "execution_count": 89,
     "metadata": {},
     "output_type": "execute_result"
    }
   ],
   "source": [
    "import sympy as sp \n",
    "p=(6.63*10**-34)/(2*sp.pi*10**-3)\n",
    "p"
   ]
  },
  {
   "cell_type": "markdown",
   "metadata": {},
   "source": [
    "**<div class=\"alert alert-success\" role=\"alert\">Entonces se tiene que la precisión con la cual se conoce el momento del electrón es mucho menor con respecto a la precisión de la posición del electrón.** "
   ]
  },
  {
   "cell_type": "markdown",
   "metadata": {},
   "source": [
    "# **<div class=\"alert alert-warning\" role=\"alert\">DÉCIMO PUNTO**"
   ]
  },
  {
   "cell_type": "markdown",
   "metadata": {},
   "source": [
    "Primero se toma un operador $\\Large \\frac{d^2f(x)}{dx^2}$ y se toma un par de funciones de las funciones $\\Large f(x)=e^{inx}$ $\\large n=0,\\pm1,\\pm2,...$"
   ]
  },
  {
   "cell_type": "code",
   "execution_count": 52,
   "metadata": {},
   "outputs": [
    {
     "data": {
      "text/latex": [
       "$\\displaystyle - 1.0 e^{1.0 i x}$"
      ],
      "text/plain": [
       "-1.0*exp(1.0*I*x)"
      ]
     },
     "execution_count": 52,
     "metadata": {},
     "output_type": "execute_result"
    }
   ],
   "source": [
    "x, n = sp.symbols('x n')\n",
    "f = sp.exp(1j*1*x)\n",
    "sp.diff(f,x,2)"
   ]
  },
  {
   "cell_type": "code",
   "execution_count": 53,
   "metadata": {},
   "outputs": [
    {
     "data": {
      "text/latex": [
       "$\\displaystyle - 4.0 e^{2.0 i x}$"
      ],
      "text/plain": [
       "-4.0*exp(2.0*I*x)"
      ]
     },
     "execution_count": 53,
     "metadata": {},
     "output_type": "execute_result"
    }
   ],
   "source": [
    "x, n = sp.symbols('x n')\n",
    "f = sp.exp(1j*2*x)\n",
    "sp.diff(f,x,2)"
   ]
  },
  {
   "cell_type": "markdown",
   "metadata": {},
   "source": [
    "<div class=\"alert alert-danger\" role=\"alert\">Se puede mirar que las dos funciones $\\Large f(x)=e^{1ix}$ y $\\Large f(x)=e^{2ix}$ son funciones propias del mismo operador $\\Large \\frac{d^2f(x)}{dx^2}$, con valores propios distintos, esto quiere decir que son funciones ortogonales entre si y que para cualquier conjunto de funciones con $\\Large f(x)=e^{inx}$ $\\large n=0,\\pm1,\\pm2,...$ , se tendra un conjunto de todas las funciones propias independientes o también llamado conjunto completo."
   ]
  },
  {
   "cell_type": "markdown",
   "metadata": {},
   "source": [
    "$$ \\large\\int^{2\\pi}_{0}| e^{inx}|^{2}dx $$ "
   ]
  },
  {
   "cell_type": "code",
   "execution_count": 54,
   "metadata": {},
   "outputs": [
    {
     "data": {
      "text/latex": [
       "$\\displaystyle 2 \\pi$"
      ],
      "text/plain": [
       "2*pi"
      ]
     },
     "execution_count": 54,
     "metadata": {},
     "output_type": "execute_result"
    }
   ],
   "source": [
    "import sympy as sp \n",
    "import numpy as np\n",
    "x, n= sp.symbols('x n')\n",
    "sp.integrate(sp.exp(1j*n*x)*sp.exp(-1j*n*x), (x,0,2*sp.pi))"
   ]
  },
  {
   "cell_type": "markdown",
   "metadata": {},
   "source": [
    " $$\\large A=\\frac{1}{\\sqrt{b}}$$"
   ]
  },
  {
   "cell_type": "code",
   "execution_count": 28,
   "metadata": {},
   "outputs": [
    {
     "data": {
      "text/latex": [
       "$\\displaystyle \\frac{\\sqrt{2}}{2 \\sqrt{\\pi}}$"
      ],
      "text/plain": [
       "sqrt(2)/(2*sqrt(pi))"
      ]
     },
     "execution_count": 28,
     "metadata": {},
     "output_type": "execute_result"
    }
   ],
   "source": [
    "A = sp.sqrt(1/(2*sp.pi))\n",
    "A"
   ]
  },
  {
   "cell_type": "markdown",
   "metadata": {},
   "source": [
    "**<div class=\"alert alert-danger\" role=\"alert\">De está forma se halla la constante de normalización para el conjunto de funciones, de esta forma representa como tal un conjunto completo, pues se tiene un cojunto ortonormal.**"
   ]
  },
  {
   "cell_type": "code",
   "execution_count": null,
   "metadata": {},
   "outputs": [],
   "source": []
  }
 ],
 "metadata": {
  "kernelspec": {
   "display_name": "Python 3",
   "language": "python",
   "name": "python3"
  },
  "language_info": {
   "codemirror_mode": {
    "name": "ipython",
    "version": 3
   },
   "file_extension": ".py",
   "mimetype": "text/x-python",
   "name": "python",
   "nbconvert_exporter": "python",
   "pygments_lexer": "ipython3",
   "version": "3.8.3"
  }
 },
 "nbformat": 4,
 "nbformat_minor": 4
}

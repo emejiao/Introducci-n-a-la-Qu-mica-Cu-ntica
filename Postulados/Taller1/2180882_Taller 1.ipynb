{
 "cells": [
  {
   "cell_type": "markdown",
   "metadata": {
    "slideshow": {
     "slide_type": "slide"
    }
   },
   "source": [
    "<div class=\"alert alert-success\" role=\"alert\">\n",
    "  <h2 class=\"alert-heading\">Introducción a la Química Cuántica: Solución del Taller 1-Postulados de la Mecánica Cuántica</h2>\n",
    "  <h3 class=\"alert-heading\">Prof. Enrique Mejía Ospino</h3>\n",
    "  <h3 class=\"alert-heading\">Escuela de Química</h3>\n",
    "  <h3 class=\"alert-heading\">Universidad Industrial de Santander</h3>\n",
    "  <h3 class=\"alert-heading\">Yulieth Daniela Herreño Amaya - 2181815,Nicole Katherine Pineda Rojas - 2180882,María Paula Turizo Vargas - 2180084\n",
    "  </h3>\n",
    "  <p>\n",
    "  </div>"
   ]
  },
  {
   "cell_type": "markdown",
   "metadata": {},
   "source": [
    "## <font color=red> NOTA: 3.5"
   ]
  },
  {
   "cell_type": "markdown",
   "metadata": {
    "slideshow": {
     "slide_type": "slide"
    }
   },
   "source": [
    "### **<div class=\"alert alert-info\"> Preguntas**"
   ]
  },
  {
   "cell_type": "markdown",
   "metadata": {
    "slideshow": {
     "slide_type": "subslide"
    }
   },
   "source": [
    "**<div class=\"alert alert-warning\">1. Determinar cuáles de las siguientes funciones son aceptables como funciones de onda, definidas en los intervalos indicados.**\n",
    "**<div class=\"alert alert-warning\">a) $\\large \\frac{1}{x} [0,\\infty)$**\n",
    "**<div class=\"alert alert-warning\">b) $\\large e^{-|x|} (-\\infty, +\\infty)$**\n",
    "**<div class=\"alert alert-warning\">c) $\\large sen(x) [-4π, 4π]$**\n",
    "**<div class=\"alert alert-warning\">d) $\\large e^{-x} [0, \\infty)$**\n",
    "**<div class=\"alert alert-warning\">e) $\\large e^{-x}sen(x) [0, \\infty)$**\n",
    "\n",
    "**<div class=\"alert alert-info\">2. De las siguientes funciones, normalice aquellas en que la normalización sea posible:**\n",
    "**<div class=\"alert alert-info\">a) $\\large e^{-x} [0, \\infty)$**\n",
    "**<div class=\"alert alert-info\">b) $\\large e^{i\\theta} [0, 2\\pi]$**\n",
    "**<div class=\"alert alert-info\">c) $\\large xe^{-x} [0, \\infty)$**\n",
    "\n",
    "\n",
    "**<div class=\"alert alert-warning\">3. La función de onda para una partícula en un sistema monodimensional definido entre $\\large x = 0$ y $\\large x = \\infty$, a $\\large t=0$ es $\\large \\Psi = \\sqrt{\\frac{2}{a}}e^{\\frac{-x}{a}}$ donde $\\large a$ es 1.0 nm. A $\\large t=0$ se mide la posición de la partícula.\n",
    "a) Calcular la probabilidad de que la partícula se encuentre entre $\\large x=1.5000 nm$ y $\\large x=1.5001\n",
    "nm$. b) Calcular la probabilidad de que la partícula se encuentre entre $\\large x=0$ y $\\large x=2 nm$. c)\n",
    "Verifique que la función de onda está normalizada.**\n",
    "\n",
    "**<div class=\"alert alert-warning\">4. Indique cuál de los siguientes operadores es lineal:**\n",
    "**<div class=\"alert alert-warning\">a) $\\large \\hat{A}f(x)=\\frac{df(x)}{dx}$ (derivada de $\\large f(x)$)**\n",
    "**<div class=\"alert alert-warning\">b) $\\large \\hat{A}f(x)=f^*(x)$ (forma la compleja conjugada de $\\large f(x)$)**\n",
    "**<div class=\"alert alert-warning\">c) $\\large \\hat{A}f(x)=ln f(x)$ (toma el logaritmo de $\\large f(x)$)**\n",
    "**<div class=\"alert alert-warning\">d) $\\large \\hat{A}f(x)= \\int f(x)dx$ (f (integral de $\\large f(x)$)**\n",
    "    \n",
    "**<div class=\"alert alert-success\">5. a) Cuál de las siguientes funciones es autofunción del operador $\\large d/dx$:** \n",
    "**<div class=\"alert alert-success\">a) $\\large e^{ikx}$ ; b) $\\large cos(kx)$ ; c) $\\large k$, d) $\\large kx$ ; e) $\\large e^{−ax^{2}}$. ¿Cuáles son sus autovalores? b) Determine cuáles de las funciones anteriores es también autofunción del operador $\\large \\frac{d^2}{dx^2}$ y dé los autovalores correspondientes.**\n",
    "    \n",
    "**<div class=\"alert alert-success\">6. Halle los conmutadores siguientes:**\n",
    "**<div class=\"alert alert-success\">a) $\\large [\\hat{x}^2,\\frac{d^2}{dx^2}]$**\n",
    "**<div class=\"alert alert-success\">b) $\\large [\\hat{x},\\hat{p}_x]$**\n",
    "**<div class=\"alert alert-success\">c) $\\large [\\hat{p}_x,\\hat{H}_x]$**\n",
    "    \n",
    "**<div class=\"alert alert-danger\">7. Calcule $\\large [\\hat{x}^2,\\frac{d^2}{dx^2}](e^{x^2}+cos(2x))$:**\n",
    "\n",
    "**<div class=\"alert alert-danger\">8. Deduzca si cada una de las expresiones siguientes es un operador o una función.**\n",
    "**<div class=\"alert alert-danger\">a) $\\large \\hat{A}\\hat{B}g(x)$ ; b) $\\large \\hat{A}\\hat{B}+\\hat{B}\\hat{A}$ ; c) $\\large \\hat{B^2}f(x)$, d) $\\large f(x)^*\\hat{A}f(x)$**\n",
    "    \n",
    "**<div class=\"alert alert-danger\">9. Si la posición de un electrón se mide con una precisión de ±0.001 Å ¿Cuál será la máxima precisión para el momento?**\n",
    "\n",
    "**<div class=\"alert alert-danger\">10. Demuestre que en el intervalo 0 ≤ θ ≤ 2π, las funciones $\\large e^{inθ}$, donde n=0, ±1, ±2, ..., forman un conjunto de funciones ortogonales. Halle la constante de normalización para este conjunto de funciones.**"
   ]
  },
  {
   "cell_type": "markdown",
   "metadata": {},
   "source": [
    "# Solución del taller 1"
   ]
  },
  {
   "cell_type": "code",
   "execution_count": 1,
   "metadata": {},
   "outputs": [],
   "source": [
    "import numpy as np\n",
    "import sympy as sp\n",
    "from scipy import interpolate, signal\n",
    "import matplotlib as mpl\n",
    "import matplotlib.pylab as plt\n",
    "import sympy as sp\n",
    "import math\n",
    "sp.init_printing(use_unicode=True)"
   ]
  },
  {
   "cell_type": "code",
   "execution_count": 2,
   "metadata": {},
   "outputs": [],
   "source": [
    "from numpy import *\n",
    "from sympy import *\n",
    "import sympy as sp\n",
    "import numpy as np\n",
    "from sympy.abc import *"
   ]
  },
  {
   "cell_type": "markdown",
   "metadata": {},
   "source": [
    "### **<div class=\"alert alert-info\"> Punto 1. Determinar cuáles de las siguientes funciones son aceptables como funciones de onda, definidas en los intervalos indicados.**"
   ]
  },
  {
   "cell_type": "markdown",
   "metadata": {},
   "source": [
    "**<div class=\"alert alert-warning\">a) $\\large \\frac{1}{x} [0,\\infty)$**"
   ]
  },
  {
   "cell_type": "code",
   "execution_count": 3,
   "metadata": {},
   "outputs": [
    {
     "data": {
      "image/png": "[encoded data removed]",
      "text/plain": [
       "<Figure size 432x288 with 1 Axes>"
      ]
     },
     "metadata": {
      "needs_background": "light"
     },
     "output_type": "display_data"
    }
   ],
   "source": [
    "x = np.linspace(1, 20)\n",
    "line, = plt.plot(x, 1/x, 'b-', linewidth=3)\n",
    "plt.title('$f(x)=1/x$', fontsize=35)\n",
    "\n",
    "plt.subplots_adjust(wspace=0.1, hspace=0.1, top=1.5, right=5)\n",
    "plt.show()"
   ]
  },
  {
   "cell_type": "code",
   "execution_count": 4,
   "metadata": {},
   "outputs": [
    {
     "data": {
      "image/png": "[encoded data removed]",
      "text/latex": [
       "$\\displaystyle \\left( \\frac{d}{d x} \\frac{1}{x}, \\  - \\frac{1}{x^{2}}\\right)$"
      ],
      "text/plain": [
       "⎛d ⎛1⎞  -1 ⎞\n",
       "⎜──⎜─⎟, ───⎟\n",
       "⎜dx⎝x⎠    2⎟\n",
       "⎝        x ⎠"
      ]
     },
     "execution_count": 4,
     "metadata": {},
     "output_type": "execute_result"
    }
   ],
   "source": [
    "from sympy import Derivative, diff, simplify\n",
    "\n",
    "x=sp.Symbol('x')\n",
    "D1f=sp.Derivative(1/x, x)\n",
    "D1f, D1f.doit()"
   ]
  },
  {
   "cell_type": "code",
   "execution_count": 5,
   "metadata": {},
   "outputs": [
    {
     "data": {
      "image/png": "[encoded data removed]",
      "text/latex": [
       "$\\displaystyle \\left( \\frac{d^{2}}{d x^{2}} \\frac{1}{x}, \\  \\frac{2}{x^{3}}\\right)$"
      ],
      "text/plain": [
       "⎛  2       ⎞\n",
       "⎜ d ⎛1⎞  2 ⎟\n",
       "⎜───⎜─⎟, ──⎟\n",
       "⎜  2⎝x⎠   3⎟\n",
       "⎝dx      x ⎠"
      ]
     },
     "execution_count": 5,
     "metadata": {},
     "output_type": "execute_result"
    }
   ],
   "source": [
    "x=sp.Symbol('x')\n",
    "D2f=sp.Derivative(1/x, x, 2)\n",
    "D2f, D2f.doit()\n"
   ]
  },
  {
   "cell_type": "markdown",
   "metadata": {},
   "source": [
    "<div class=\"alert alert-warning\" role=\"alert\">La función tiene segunda derivada continua en el intervalo dado\n"
   ]
  },
  {
   "cell_type": "code",
   "execution_count": 6,
   "metadata": {},
   "outputs": [
    {
     "data": {
      "image/png": "[encoded data removed]",
      "text/latex": [
       "$\\displaystyle \\infty$"
      ],
      "text/plain": [
       "∞"
      ]
     },
     "execution_count": 6,
     "metadata": {},
     "output_type": "execute_result"
    }
   ],
   "source": [
    "from sympy import Integral, integrate\n",
    "fx=(1/x)**2\n",
    "Integral(fx, (x, 0, sp.oo)).doit()"
   ]
  },
  {
   "cell_type": "markdown",
   "metadata": {},
   "source": [
    "<div class=\"alert alert-warning\" role=\"alert\">La función es univaluada, tiene primera y segunda derivada continuas en el intervalo dado, pero no tiene cuadrado integrable, por lo que no cumple el primer postulado de la mecánica cuántica"
   ]
  },
  {
   "cell_type": "markdown",
   "metadata": {},
   "source": [
    "**<div class=\"alert alert-warning\">b) $\\large e^{-|x|} (-\\infty, +\\infty)$**"
   ]
  },
  {
   "cell_type": "code",
   "execution_count": 7,
   "metadata": {},
   "outputs": [
    {
     "data": {
      "image/png": "[encoded data removed]",
      "text/plain": [
       "<Figure size 432x288 with 1 Axes>"
      ]
     },
     "metadata": {
      "needs_background": "light"
     },
     "output_type": "display_data"
    }
   ],
   "source": [
    "x = np.linspace(-10, 10)\n",
    "line, = plt.plot(x, np.exp(-abs(x)), 'r-', linewidth=3)\n",
    "plt.title('$f(x)=e^{-x}$', fontsize=35)\n",
    "plt.xlabel('x')\n",
    "plt.ylabel('f(x)')\n",
    "plt.subplots_adjust(wspace=0.1, hspace=0.1, top=1.5, right=5)\n",
    "plt.show()"
   ]
  },
  {
   "cell_type": "code",
   "execution_count": 8,
   "metadata": {},
   "outputs": [
    {
     "data": {
      "image/png": "[encoded data removed]",
      "text/latex": [
       "$\\displaystyle - \\frac{\\left(\\operatorname{re}{\\left(x\\right)} \\frac{d}{d x} \\operatorname{re}{\\left(x\\right)} + \\operatorname{im}{\\left(x\\right)} \\frac{d}{d x} \\operatorname{im}{\\left(x\\right)}\\right) e^{- \\left|{x}\\right|} \\operatorname{sign}{\\left(x \\right)}}{x}$"
      ],
      "text/plain": [
       " ⎛      d                 d        ⎞  -│x│         \n",
       "-⎜re(x)⋅──(re(x)) + im(x)⋅──(im(x))⎟⋅ℯ    ⋅sign(x) \n",
       " ⎝      dx                dx       ⎠               \n",
       "───────────────────────────────────────────────────\n",
       "                         x                         "
      ]
     },
     "execution_count": 8,
     "metadata": {},
     "output_type": "execute_result"
    }
   ],
   "source": [
    "x=sp.Symbol('x')\n",
    "y=sp.exp(-abs(x)) \n",
    "sp.diff(y,x)                 "
   ]
  },
  {
   "cell_type": "code",
   "execution_count": 9,
   "metadata": {},
   "outputs": [
    {
     "data": {
      "image/png": "[encoded data removed]",
      "text/latex": [
       "$\\displaystyle \\frac{\\left(- \\left(\\operatorname{re}{\\left(x\\right)} \\frac{d}{d x} \\operatorname{re}{\\left(x\\right)} + \\operatorname{im}{\\left(x\\right)} \\frac{d}{d x} \\operatorname{im}{\\left(x\\right)}\\right) \\frac{d}{d x} \\operatorname{sign}{\\left(x \\right)} - \\left(\\operatorname{re}{\\left(x\\right)} \\frac{d^{2}}{d x^{2}} \\operatorname{re}{\\left(x\\right)} + \\operatorname{im}{\\left(x\\right)} \\frac{d^{2}}{d x^{2}} \\operatorname{im}{\\left(x\\right)} + \\left(\\frac{d}{d x} \\operatorname{re}{\\left(x\\right)}\\right)^{2} + \\left(\\frac{d}{d x} \\operatorname{im}{\\left(x\\right)}\\right)^{2}\\right) \\operatorname{sign}{\\left(x \\right)} + \\frac{\\left(\\operatorname{re}{\\left(x\\right)} \\frac{d}{d x} \\operatorname{re}{\\left(x\\right)} + \\operatorname{im}{\\left(x\\right)} \\frac{d}{d x} \\operatorname{im}{\\left(x\\right)}\\right)^{2} \\operatorname{sign}^{2}{\\left(x \\right)}}{x} + \\frac{\\left(\\operatorname{re}{\\left(x\\right)} \\frac{d}{d x} \\operatorname{re}{\\left(x\\right)} + \\operatorname{im}{\\left(x\\right)} \\frac{d}{d x} \\operatorname{im}{\\left(x\\right)}\\right) \\operatorname{sign}{\\left(x \\right)}}{x}\\right) e^{- \\left|{x}\\right|}}{x}$"
      ],
      "text/plain": [
       "⎛                                                                             \n",
       "⎜                                                                             \n",
       "⎜                                                    ⎛        2               \n",
       "⎜  ⎛      d                 d        ⎞ d             ⎜       d                \n",
       "⎜- ⎜re(x)⋅──(re(x)) + im(x)⋅──(im(x))⎟⋅──(sign(x)) - ⎜re(x)⋅───(re(x)) + im(x)\n",
       "⎜  ⎝      dx                dx       ⎠ dx            ⎜        2               \n",
       "⎝                                                    ⎝      dx                \n",
       "──────────────────────────────────────────────────────────────────────────────\n",
       "                                                                              \n",
       "\n",
       "                                                                              \n",
       "                                                     ⎛      d                 \n",
       "   2                     2              2⎞           ⎜re(x)⋅──(re(x)) + im(x)⋅\n",
       "  d           ⎛d        ⎞    ⎛d        ⎞ ⎟           ⎝      dx                \n",
       "⋅───(im(x)) + ⎜──(re(x))⎟  + ⎜──(im(x))⎟ ⎟⋅sign(x) + ─────────────────────────\n",
       "   2          ⎝dx       ⎠    ⎝dx       ⎠ ⎟                                 x  \n",
       " dx                                      ⎠                                    \n",
       "──────────────────────────────────────────────────────────────────────────────\n",
       "                                    x                                         \n",
       "\n",
       "          2                                                       ⎞      \n",
       "d        ⎞      2      ⎛      d                 d        ⎞        ⎟      \n",
       "──(im(x))⎟ ⋅sign (x)   ⎜re(x)⋅──(re(x)) + im(x)⋅──(im(x))⎟⋅sign(x)⎟      \n",
       "dx       ⎠             ⎝      dx                dx       ⎠        ⎟  -│x│\n",
       "──────────────────── + ───────────────────────────────────────────⎟⋅ℯ    \n",
       "                                            x                     ⎟      \n",
       "                                                                  ⎠      \n",
       "─────────────────────────────────────────────────────────────────────────\n",
       "                                                                         "
      ]
     },
     "execution_count": 9,
     "metadata": {},
     "output_type": "execute_result"
    }
   ],
   "source": [
    "from sympy import Derivative, diff, simplify\n",
    "\n",
    "Derivative(y, x, 2).doit()"
   ]
  },
  {
   "cell_type": "code",
   "execution_count": 10,
   "metadata": {},
   "outputs": [
    {
     "data": {
      "image/png": "[encoded data removed]",
      "text/latex": [
       "$\\displaystyle 1$"
      ],
      "text/plain": [
       "1"
      ]
     },
     "execution_count": 10,
     "metadata": {},
     "output_type": "execute_result"
    }
   ],
   "source": [
    "from sympy import Integral, integrate\n",
    "fx=(sp.exp(-abs(x)))**2\n",
    "Integral(fx, (x, -sp.oo, sp.oo)).doit()"
   ]
  },
  {
   "cell_type": "markdown",
   "metadata": {},
   "source": [
    "<div class=\"alert alert-warning\" role=\"alert\">La función es univaluable y tiene cuadrado integrable, pero no tiene ni primera, ni segunda derivada, por lo que no cumple con el primer postulado de la mecánica cuántica."
   ]
  },
  {
   "cell_type": "markdown",
   "metadata": {},
   "source": [
    "**<div class=\"alert alert-warning\">c) $\\large sen(x) [-4π, 4π]$**"
   ]
  },
  {
   "cell_type": "code",
   "execution_count": 11,
   "metadata": {
    "scrolled": true
   },
   "outputs": [
    {
     "data": {
      "image/png": "[encoded data removed]",
      "text/plain": [
       "<Figure size 432x288 with 1 Axes>"
      ]
     },
     "metadata": {
      "needs_background": "light"
     },
     "output_type": "display_data"
    }
   ],
   "source": [
    "x = np.linspace(-10, 5)\n",
    "line, = plt.plot(x, np.exp(-(x))*np.sin(x), 'g-', linewidth=3)\n",
    "plt.title('$f(x)=e^{-x}sen(x)$', fontsize=35)\n",
    "\n",
    "plt.subplots_adjust(wspace=0.1, hspace=0.1, top=1.5, right=5)\n",
    "plt.show()"
   ]
  },
  {
   "cell_type": "code",
   "execution_count": 12,
   "metadata": {},
   "outputs": [
    {
     "data": {
      "image/png": "[encoded data removed]",
      "text/latex": [
       "$\\displaystyle \\left( \\frac{d}{d x} e^{- x} \\sin{\\left(x \\right)}, \\  - e^{- x} \\sin{\\left(x \\right)} + e^{- x} \\cos{\\left(x \\right)}\\right)$"
      ],
      "text/plain": [
       "⎛d ⎛ -x       ⎞     -x           -x       ⎞\n",
       "⎜──⎝ℯ  ⋅sin(x)⎠, - ℯ  ⋅sin(x) + ℯ  ⋅cos(x)⎟\n",
       "⎝dx                                       ⎠"
      ]
     },
     "execution_count": 12,
     "metadata": {},
     "output_type": "execute_result"
    }
   ],
   "source": [
    "from sympy import Derivative, diff, simplify\n",
    "\n",
    "x=sp.Symbol('x')\n",
    "D1f=sp.Derivative(sp.exp(-(x))*sp.sin(x), x)\n",
    "D1f, D1f.doit()"
   ]
  },
  {
   "cell_type": "code",
   "execution_count": 13,
   "metadata": {},
   "outputs": [
    {
     "data": {
      "image/png": "[encoded data removed]",
      "text/latex": [
       "$\\displaystyle \\left( \\frac{d^{2}}{d x^{2}} e^{- x} \\sin{\\left(x \\right)}, \\  - 2 e^{- x} \\cos{\\left(x \\right)}\\right)$"
      ],
      "text/plain": [
       "⎛  2                           ⎞\n",
       "⎜ d ⎛ -x       ⎞      -x       ⎟\n",
       "⎜───⎝ℯ  ⋅sin(x)⎠, -2⋅ℯ  ⋅cos(x)⎟\n",
       "⎜  2                           ⎟\n",
       "⎝dx                            ⎠"
      ]
     },
     "execution_count": 13,
     "metadata": {},
     "output_type": "execute_result"
    }
   ],
   "source": [
    "from sympy import Derivative, diff, simplify\n",
    "\n",
    "x=sp.Symbol('x')\n",
    "D2f=sp.Derivative(sp.exp(-(x))*sp.sin(x), x, 2)\n",
    "D2f, D2f.doit()"
   ]
  },
  {
   "cell_type": "code",
   "execution_count": 14,
   "metadata": {},
   "outputs": [
    {
     "data": {
      "image/png": "[encoded data removed]",
      "text/latex": [
       "$\\displaystyle \\frac{1}{8}$"
      ],
      "text/plain": [
       "1/8"
      ]
     },
     "execution_count": 14,
     "metadata": {},
     "output_type": "execute_result"
    }
   ],
   "source": [
    "from sympy import Integral, integrate\n",
    "fx=(sp.exp(-(x))*sp.sin(x))**2\n",
    "Integral(fx, (x, 0, sp.oo)).doit()"
   ]
  },
  {
   "cell_type": "markdown",
   "metadata": {},
   "source": [
    "<div class=\"alert alert-warning\" role=\"alert\">La función tiene cuadrado integrable, es univaluada y tiene primera y segunda derivada continuas, por lo que cumple con el primer postulado de la mecánica cuántica."
   ]
  },
  {
   "cell_type": "markdown",
   "metadata": {},
   "source": [
    "**<div class=\"alert alert-warning\">d) $\\large e^{-x} [0, \\infty)$**"
   ]
  },
  {
   "cell_type": "code",
   "execution_count": 15,
   "metadata": {},
   "outputs": [
    {
     "data": {
      "image/png": "[encoded data removed]",
      "text/plain": [
       "<Figure size 432x288 with 1 Axes>"
      ]
     },
     "metadata": {
      "needs_background": "light"
     },
     "output_type": "display_data"
    }
   ],
   "source": [
    "x = np.linspace(-10, 5)\n",
    "line, = plt.plot(x, np.sin(x), 'y-', linewidth=3)\n",
    "plt.title('$f(x)=sen(x)$', fontsize=35)\n",
    "plt.subplots_adjust(wspace=0.1, hspace=0.1, top=1.5, right=5)\n",
    "plt.show()"
   ]
  },
  {
   "cell_type": "code",
   "execution_count": 16,
   "metadata": {},
   "outputs": [
    {
     "data": {
      "image/png": "[encoded data removed]",
      "text/latex": [
       "$\\displaystyle \\left( \\frac{d}{d x} \\sin{\\left(x \\right)}, \\  \\cos{\\left(x \\right)}\\right)$"
      ],
      "text/plain": [
       "⎛d                 ⎞\n",
       "⎜──(sin(x)), cos(x)⎟\n",
       "⎝dx                ⎠"
      ]
     },
     "execution_count": 16,
     "metadata": {},
     "output_type": "execute_result"
    }
   ],
   "source": [
    "from sympy import Derivative, diff, simplify\n",
    "\n",
    "x=sp.Symbol('x')\n",
    "D1f=sp.Derivative(sp.sin(x), x)\n",
    "D1f, D1f.doit()\n"
   ]
  },
  {
   "cell_type": "code",
   "execution_count": 17,
   "metadata": {},
   "outputs": [
    {
     "data": {
      "image/png": "[encoded data removed]",
      "text/latex": [
       "$\\displaystyle \\left( \\frac{d^{2}}{d x^{2}} \\sin{\\left(x \\right)}, \\  - \\sin{\\left(x \\right)}\\right)$"
      ],
      "text/plain": [
       "⎛  2                 ⎞\n",
       "⎜ d                  ⎟\n",
       "⎜───(sin(x)), -sin(x)⎟\n",
       "⎜  2                 ⎟\n",
       "⎝dx                  ⎠"
      ]
     },
     "execution_count": 17,
     "metadata": {},
     "output_type": "execute_result"
    }
   ],
   "source": [
    "from sympy import Derivative, diff, simplify\n",
    "\n",
    "x=sp.Symbol('x')\n",
    "D2f=sp.Derivative(sp.sin(x), x, 2)\n",
    "D2f, D2f.doit()\n"
   ]
  },
  {
   "cell_type": "code",
   "execution_count": 18,
   "metadata": {},
   "outputs": [
    {
     "data": {
      "image/png": "[encoded data removed]",
      "text/latex": [
       "$\\displaystyle 12.5663706143592$"
      ],
      "text/plain": [
       "12.5663706143592"
      ]
     },
     "execution_count": 18,
     "metadata": {},
     "output_type": "execute_result"
    }
   ],
   "source": [
    "from sympy import Integral, integrate\n",
    "fx=(sp.sin(x))**2\n",
    "Integral(fx, (x, -4*np.pi, 4*np.pi)).doit()"
   ]
  },
  {
   "cell_type": "markdown",
   "metadata": {},
   "source": [
    "<div class=\"alert alert-warning\" role=\"alert\">La función es univaluada, tiene primera y segunda derivadas continuas y cuadrado integrable, por lo que cumple con el primer postulado de la mecánica cuántica."
   ]
  },
  {
   "cell_type": "markdown",
   "metadata": {},
   "source": [
    "**<div class=\"alert alert-warning\">e) $\\large e^{-x}sen(x) [0, \\infty)$**"
   ]
  },
  {
   "cell_type": "code",
   "execution_count": 19,
   "metadata": {},
   "outputs": [
    {
     "data": {
      "image/png": "[encoded data removed]",
      "text/plain": [
       "<Figure size 432x288 with 1 Axes>"
      ]
     },
     "metadata": {
      "needs_background": "light"
     },
     "output_type": "display_data"
    }
   ],
   "source": [
    "x = np.linspace(-10, 10)\n",
    "line, = plt.plot(x, np.exp(-(x)), 'c-', linewidth=3)\n",
    "plt.title('$f(x)=e^{-x}$', fontsize=35)\n",
    "plt.subplots_adjust(wspace=0.1, hspace=0.1, top=1.5, right=5)\n",
    "plt.show()\n",
    "\n"
   ]
  },
  {
   "cell_type": "code",
   "execution_count": 20,
   "metadata": {},
   "outputs": [
    {
     "data": {
      "image/png": "[encoded data removed]",
      "text/latex": [
       "$\\displaystyle \\left( \\frac{d}{d x} e^{- x}, \\  - e^{- x}\\right)$"
      ],
      "text/plain": [
       "⎛d ⎛ -x⎞    -x⎞\n",
       "⎜──⎝ℯ  ⎠, -ℯ  ⎟\n",
       "⎝dx           ⎠"
      ]
     },
     "execution_count": 20,
     "metadata": {},
     "output_type": "execute_result"
    }
   ],
   "source": [
    "from sympy import Derivative, diff, simplify\n",
    "\n",
    "x=sp.Symbol('x')\n",
    "D1f=sp.Derivative(sp.exp(-(x)), x)\n",
    "D1f, D1f.doit()\n"
   ]
  },
  {
   "cell_type": "code",
   "execution_count": 21,
   "metadata": {},
   "outputs": [
    {
     "data": {
      "image/png": "[encoded data removed]",
      "text/latex": [
       "$\\displaystyle \\left( \\frac{d^{2}}{d x^{2}} e^{- x}, \\  e^{- x}\\right)$"
      ],
      "text/plain": [
       "⎛  2          ⎞\n",
       "⎜ d ⎛ -x⎞   -x⎟\n",
       "⎜───⎝ℯ  ⎠, ℯ  ⎟\n",
       "⎜  2          ⎟\n",
       "⎝dx           ⎠"
      ]
     },
     "execution_count": 21,
     "metadata": {},
     "output_type": "execute_result"
    }
   ],
   "source": [
    "x=sp.Symbol('x')\n",
    "D2f=sp.Derivative(sp.exp(-(x)), x, 2)\n",
    "D2f, D2f.doit()\n"
   ]
  },
  {
   "cell_type": "code",
   "execution_count": 22,
   "metadata": {},
   "outputs": [
    {
     "data": {
      "image/png": "[encoded data removed]",
      "text/latex": [
       "$\\displaystyle \\frac{1}{2}$"
      ],
      "text/plain": [
       "1/2"
      ]
     },
     "execution_count": 22,
     "metadata": {},
     "output_type": "execute_result"
    }
   ],
   "source": [
    "from sympy import Integral, integrate\n",
    "fx=(sp.exp(-(x)))**2\n",
    "Integral(fx, (x, 0, sp.oo)).doit()"
   ]
  },
  {
   "cell_type": "markdown",
   "metadata": {},
   "source": [
    "<div class=\"alert alert-warning\" role=\"alert\">La función es univaluada, tiene primera y segunda derivada continuas y cuadrado integrable, por lo que cumple el primer postulado de la mecánica cuántica.\n"
   ]
  },
  {
   "cell_type": "markdown",
   "metadata": {},
   "source": [
    "### **<div class=\"alert alert-info\">Punto 2. De las siguientes funciones, normalice aquellas en que la normalización sea posible:**"
   ]
  },
  {
   "cell_type": "markdown",
   "metadata": {},
   "source": [
    "**<div class=\"alert alert-warning\">a) $\\large e^{-x} [0, \\infty)$**"
   ]
  },
  {
   "cell_type": "code",
   "execution_count": 23,
   "metadata": {},
   "outputs": [
    {
     "data": {
      "image/png": "[encoded data removed]",
      "text/latex": [
       "$\\displaystyle 1.0$"
      ],
      "text/plain": [
       "1.00000000000000"
      ]
     },
     "execution_count": 23,
     "metadata": {},
     "output_type": "execute_result"
    }
   ],
   "source": [
    "A= 1/((0.5)**0.5)\n",
    "fn=A*sp.exp(-(x))\n",
    "Integral(fn**2, (x, 0, sp.oo)).doit()"
   ]
  },
  {
   "cell_type": "markdown",
   "metadata": {},
   "source": [
    "\n",
    "$$\\large  A=\\frac{1}{\\sqrt{0.5}}$$\n",
    "$$\\large  Función = e^{-x} $$\n",
    "$$\\large  Función-normalizada=\\sqrt{2}e^{-x} $$"
   ]
  },
  {
   "cell_type": "markdown",
   "metadata": {},
   "source": [
    "**<div class=\"alert alert-warning\">b) $\\large e^{i\\theta} [0, 2\\pi]$**"
   ]
  },
  {
   "cell_type": "markdown",
   "metadata": {},
   "source": [
    "#### <div class=\"alert alert-warning\" role=\"alert\"> Revisión de cuadrado integrable:"
   ]
  },
  {
   "cell_type": "code",
   "execution_count": 24,
   "metadata": {},
   "outputs": [
    {
     "data": {
      "image/png": "[encoded data removed]",
      "text/latex": [
       "$\\displaystyle 2 \\pi$"
      ],
      "text/plain": [
       "2⋅π"
      ]
     },
     "execution_count": 24,
     "metadata": {},
     "output_type": "execute_result"
    }
   ],
   "source": [
    "from sympy import Integral, integrate\n",
    "fx=(sp.exp((1j*x))*(sp.exp(-1j*x)))\n",
    "Integral(fx, (x, 0, 2*sp.pi)).doit()"
   ]
  },
  {
   "cell_type": "code",
   "execution_count": 25,
   "metadata": {},
   "outputs": [
    {
     "data": {
      "image/png": "[encoded data removed]",
      "text/latex": [
       "$\\displaystyle - \\frac{0.707106781186547 i}{\\pi^{0.5}} + \\frac{0.707106781186547 i e^{- 2.0 i \\pi}}{\\pi^{0.5}}$"
      ],
      "text/plain": [
       "                       -0.5                        -0.5  -2.0⋅ⅈ⋅π\n",
       "- 0.707106781186547⋅ⅈ⋅π     + 0.707106781186547⋅ⅈ⋅π    ⋅ℯ        "
      ]
     },
     "execution_count": 25,
     "metadata": {},
     "output_type": "execute_result"
    }
   ],
   "source": [
    "A= 1/((2*sp.pi)**0.5)\n",
    "fn=A*sp.exp(-(1j*x))\n",
    "Integral(fn, (x, 0, 2*sp.pi)).doit()"
   ]
  },
  {
   "cell_type": "markdown",
   "metadata": {},
   "source": [
    "$$\\large  A=\\frac{1}{\\sqrt{2\\pi}}$$\n",
    "$$\\large Función= xe^{-x}$$\n",
    "$$\\large Función-normalizada= \\frac{1}{\\sqrt{2\\pi}}e^{i\\theta} $$"
   ]
  },
  {
   "cell_type": "markdown",
   "metadata": {},
   "source": [
    "**<div class=\"alert alert-warning\">c) $\\large xe^{-x} [0, \\infty)$**"
   ]
  },
  {
   "cell_type": "markdown",
   "metadata": {},
   "source": [
    "#### <div class=\"alert alert-warning\" role=\"alert\"> Revisión de cuadrado integrable:"
   ]
  },
  {
   "cell_type": "code",
   "execution_count": 26,
   "metadata": {},
   "outputs": [
    {
     "data": {
      "image/png": "[encoded data removed]",
      "text/latex": [
       "$\\displaystyle \\frac{1}{4}$"
      ],
      "text/plain": [
       "1/4"
      ]
     },
     "execution_count": 26,
     "metadata": {},
     "output_type": "execute_result"
    }
   ],
   "source": [
    "from sympy import Integral, integrate\n",
    "fx=(x*sp.exp((-x))**2)\n",
    "Integral(fx, (x, 0, sp.oo)).doit()"
   ]
  },
  {
   "cell_type": "code",
   "execution_count": 27,
   "metadata": {},
   "outputs": [
    {
     "data": {
      "image/png": "[encoded data removed]",
      "text/latex": [
       "$\\displaystyle 1.0$"
      ],
      "text/plain": [
       "1.00000000000000"
      ]
     },
     "execution_count": 27,
     "metadata": {},
     "output_type": "execute_result"
    }
   ],
   "source": [
    "A= 1/((0.25)**0.5)\n",
    "fn=A*x*sp.exp(-(x))\n",
    "Integral(fn**2, (x, 0, sp.oo)).doit()"
   ]
  },
  {
   "cell_type": "markdown",
   "metadata": {},
   "source": [
    "$$\\large  A=\\frac{1}{\\sqrt{0.25}}$$\n",
    "$$\\large  Función = xe^{-x} $$\n",
    "$$\\large  Función-normalizada=\\sqrt{4}xe^{-x} = 2xe^{-x} $$"
   ]
  },
  {
   "cell_type": "markdown",
   "metadata": {},
   "source": [
    "### <div class=\"alert alert-info\"> Punto 3. La función de onda para una partícula en un sistema monodimensional definido entre $\\large x = 0$ y $\\large x = \\infty$, a $\\large t=0$ es $\\large \\Psi = \\sqrt{\\frac{2}{a}}e^{\\frac{-x}{a}}$ donde $\\large a$ es 1.0 nm. A $\\large t=0$ se mide la posición de la partícula.\n"
   ]
  },
  {
   "cell_type": "markdown",
   "metadata": {},
   "source": [
    "**<div class=\"alert alert-warning\">a) Calcular la probabilidad de que la partícula se encuentre entre $\\large x=1.5000 nm$ y $\\large x=1.5001 nm$.**"
   ]
  },
  {
   "cell_type": "code",
   "execution_count": 28,
   "metadata": {},
   "outputs": [
    {
     "data": {
      "image/png": "[encoded data removed]",
      "text/latex": [
       "$\\displaystyle \\int\\limits_{1.5}^{1.5001} 2.0 e^{- 2 x}\\, dx$"
      ],
      "text/plain": [
       "1.5001             \n",
       "  ⌠                \n",
       "  ⎮         -2⋅x   \n",
       "  ⎮    2.0⋅ℯ     dx\n",
       "  ⌡                \n",
       " 1.5               "
      ]
     },
     "execution_count": 28,
     "metadata": {},
     "output_type": "execute_result"
    }
   ],
   "source": [
    "from sympy import *\n",
    "x, a=symbols('x a')\n",
    "a=1\n",
    "Y2=(sqrt(2/a))*exp(-x/a)\n",
    "I2=Integral(Y2**2,(x,1.500,1.5001))\n",
    "I2"
   ]
  },
  {
   "cell_type": "code",
   "execution_count": 29,
   "metadata": {},
   "outputs": [
    {
     "data": {
      "image/png": "[encoded data removed]",
      "text/latex": [
       "$\\displaystyle 9.9564179985856 \\cdot 10^{-6}$"
      ],
      "text/plain": [
       "9.95641799858560e-6"
      ]
     },
     "execution_count": 29,
     "metadata": {},
     "output_type": "execute_result"
    }
   ],
   "source": [
    "sp.integrate(((2**(1/2)*sp.exp(-x))**2), (x, 1.5000, 1.5001))"
   ]
  },
  {
   "cell_type": "markdown",
   "metadata": {},
   "source": [
    "<div class=\"alert alert-warning\">La partícula tiene una probabilidad de encontrarse muy pequeña en este rango."
   ]
  },
  {
   "cell_type": "markdown",
   "metadata": {},
   "source": [
    "**<div class=\"alert alert-warning\">b) Calcular la probabilidad de que la partícula se encuentre entre $\\large x=0$ y $\\large x=2 nm$.**"
   ]
  },
  {
   "cell_type": "code",
   "execution_count": 30,
   "metadata": {},
   "outputs": [
    {
     "data": {
      "image/png": "[encoded data removed]",
      "text/latex": [
       "$\\displaystyle \\int\\limits_{0}^{2} 2.0 e^{- 2 x}\\, dx$"
      ],
      "text/plain": [
       "2             \n",
       "⌠             \n",
       "⎮      -2⋅x   \n",
       "⎮ 2.0⋅ℯ     dx\n",
       "⌡             \n",
       "0             "
      ]
     },
     "execution_count": 30,
     "metadata": {},
     "output_type": "execute_result"
    }
   ],
   "source": [
    "x, a=symbols('x a')\n",
    "a=1\n",
    "Y3=(sqrt(2/a))*exp(-x/a)\n",
    "I3=Integral(Y3**2,(x,0,2))\n",
    "I3"
   ]
  },
  {
   "cell_type": "code",
   "execution_count": 31,
   "metadata": {},
   "outputs": [
    {
     "data": {
      "image/png": "[encoded data removed]",
      "text/latex": [
       "$\\displaystyle 1.0 - \\frac{1.0}{e^{4}}$"
      ],
      "text/plain": [
       "           -4\n",
       "1.0 - 1.0⋅ℯ  "
      ]
     },
     "execution_count": 31,
     "metadata": {},
     "output_type": "execute_result"
    }
   ],
   "source": [
    "sp.integrate(((2**(1/2)*sp.exp(-x))**2), (x, 0, 2))"
   ]
  },
  {
   "cell_type": "markdown",
   "metadata": {},
   "source": [
    "<div class=\"alert alert-warning\">La probabilidad de encontrar la patícula en los intervalos x=0 y x=2 es alta, esto se debe a que el valor se aproxima a 1."
   ]
  },
  {
   "cell_type": "markdown",
   "metadata": {},
   "source": [
    "**<div class=\"alert alert-warning\">c)Verifique que la función de onda está normalizada.**"
   ]
  },
  {
   "cell_type": "code",
   "execution_count": 32,
   "metadata": {},
   "outputs": [
    {
     "data": {
      "image/png": "[encoded data removed]",
      "text/latex": [
       "$\\displaystyle \\int\\limits_{0}^{\\infty} 2.0 e^{- 2 x}\\, dx$"
      ],
      "text/plain": [
       "∞             \n",
       "⌠             \n",
       "⎮      -2⋅x   \n",
       "⎮ 2.0⋅ℯ     dx\n",
       "⌡             \n",
       "0             "
      ]
     },
     "execution_count": 32,
     "metadata": {},
     "output_type": "execute_result"
    }
   ],
   "source": [
    "x, a=symbols('x a')\n",
    "a=1\n",
    "Y2=(sqrt(2/a))*exp(-x/a)\n",
    "I2=Integral(Y2**2,(x,0,+oo))\n",
    "I2"
   ]
  },
  {
   "cell_type": "code",
   "execution_count": 33,
   "metadata": {},
   "outputs": [
    {
     "data": {
      "image/png": "[encoded data removed]",
      "text/latex": [
       "$\\displaystyle 1.0$"
      ],
      "text/plain": [
       "1.00000000000000"
      ]
     },
     "execution_count": 33,
     "metadata": {},
     "output_type": "execute_result"
    }
   ],
   "source": [
    "sp.integrate(((2**(1/2)*sp.exp(-x))**2), (x, 0, +oo))"
   ]
  },
  {
   "cell_type": "markdown",
   "metadata": {},
   "source": [
    "<div class=\"alert alert-warning\"> Esta función de onda si se encuntra normalizada."
   ]
  },
  {
   "cell_type": "markdown",
   "metadata": {},
   "source": [
    "### **<div class=\"alert alert-info\">Punto 4. Indique cuál de los siguientes operadores es lineal:**"
   ]
  },
  {
   "cell_type": "markdown",
   "metadata": {},
   "source": [
    "**<div class=\"alert alert-warning\">a) $\\large \\hat{A}f(x)=\\frac{df(x)}{dx}$ (derivada de $\\large f(x)$)**"
   ]
  },
  {
   "cell_type": "markdown",
   "metadata": {},
   "source": [
    "$\\hat{A}(f(x)+g(x))= \\large \\frac{df(x)+g(x)}{dx} = \\frac{df(x)}{dx} + \\frac{dg(x)}{dx}$"
   ]
  },
  {
   "cell_type": "markdown",
   "metadata": {},
   "source": [
    "$\\hat{A}(f(x)+g(x))= \\hat{A}*f(x) + \\hat{A}*g(x) \\ $ **SÍ se cumple el primer postulado**"
   ]
  },
  {
   "cell_type": "markdown",
   "metadata": {},
   "source": [
    "$\\hat{A}(cf(x))= \\large \\frac{dcf(x)}{dx} = c * \\frac{df(x)}{dx}$ "
   ]
  },
  {
   "cell_type": "markdown",
   "metadata": {},
   "source": [
    "$\\hat{A}(cf(x))= c * (\\hat{A}f(x)) \\ $ \n",
    "\n",
    "**Como el postulado se cumple, se puede decir que es lineal**"
   ]
  },
  {
   "cell_type": "markdown",
   "metadata": {},
   "source": [
    "**<div class=\"alert alert-warning\">b) $\\large \\hat{A}f(x)=f^*(x)$ (forma la compleja conjugada de $\\large f(x)$)**"
   ]
  },
  {
   "cell_type": "markdown",
   "metadata": {},
   "source": [
    "$\\hat{A}(f(x)+g(x))= (f(x)+g(x))^*$"
   ]
  },
  {
   "cell_type": "markdown",
   "metadata": {},
   "source": [
    "**Definimos f(x) y g(x)**\n",
    "\n",
    "$f(x) = \\alpha + \\beta i \\ ; f^*(x) = \\alpha - \\beta i $\n",
    "\n",
    "$ g(x)= \\theta + \\gamma i \\ ; g^*(x)=\\theta - \\gamma i$ "
   ]
  },
  {
   "cell_type": "markdown",
   "metadata": {},
   "source": [
    "$f^*(x)+g^*(x) = \\alpha - \\beta i = \\theta - \\gamma i =(f(x)+g(x))^* \\ $ **Sí se cumple**"
   ]
  },
  {
   "cell_type": "markdown",
   "metadata": {},
   "source": [
    "$\\hat{A}(cf(x))= (cf(x))^* =c^*f^*(x)$"
   ]
  },
  {
   "cell_type": "markdown",
   "metadata": {},
   "source": [
    "$c^* =c $  **entonces,**  \n",
    "\n",
    "$\\hat{A}(cf(x))=c*\\hat{A}(f(x)) \\ $ **Sí cumple, por lo tanto es lineal**"
   ]
  },
  {
   "cell_type": "markdown",
   "metadata": {},
   "source": [
    "**<font color=red> Esto es cierto si la constante $c$ es real, si la constante $c$ es compleja, el operador actuaría sobre ella y por tanto el operador no sería lineal**"
   ]
  },
  {
   "cell_type": "markdown",
   "metadata": {},
   "source": [
    "**<div class=\"alert alert-warning\">c) $\\large \\hat{A}f(x)=ln f(x)$ (toma el logaritmo de $\\large f(x)$)**"
   ]
  },
  {
   "cell_type": "markdown",
   "metadata": {},
   "source": [
    "$\\hat{A}(f(x)+g(x))= ln(f(x))+ln(g(x))$"
   ]
  },
  {
   "cell_type": "markdown",
   "metadata": {},
   "source": [
    "$\\hat{A}(f(x)+g(x))= ln(f(x)*g(x))$ \n",
    "\n",
    "**No cumple, por lo tanto no es lineal**\n",
    "\n",
    "**<font color=red> Porqué?  Explique**"
   ]
  },
  {
   "cell_type": "markdown",
   "metadata": {},
   "source": [
    "**<div class=\"alert alert-warning\">d) $\\large \\hat{A}f(x)= \\int f(x)dx$ (f (integral de $\\large f(x)$)**"
   ]
  },
  {
   "cell_type": "markdown",
   "metadata": {},
   "source": [
    "$\\hat{A}(f(x)+g(x))=\\int (f(x)+g(x))dx $"
   ]
  },
  {
   "cell_type": "markdown",
   "metadata": {},
   "source": [
    "$\\hat{A}(f(x)+g(x))=\\int f(x)dx + \\int g(x)dx $ **Sí se cumple**"
   ]
  },
  {
   "cell_type": "markdown",
   "metadata": {},
   "source": [
    "$\\hat{A}(cf(x))= \\int cf(x)dx =c \\int f(x)dx \\ $ **Sí se cumple, por lo tanto es lineal**"
   ]
  },
  {
   "cell_type": "markdown",
   "metadata": {},
   "source": [
    "### **<div class=\"alert alert-info\">Punto 5. Cuál de las siguientes funciones es autofunción del operador $\\large d/dx$:**"
   ]
  },
  {
   "cell_type": "markdown",
   "metadata": {},
   "source": [
    "**<div class=\"alert alert-warning\">a) $\\large e^{ikx}$**"
   ]
  },
  {
   "cell_type": "code",
   "execution_count": 34,
   "metadata": {},
   "outputs": [
    {
     "data": {
      "image/png": "[encoded data removed]",
      "text/latex": [
       "$\\displaystyle 1.0 i k e^{1.0 i k x}$"
      ],
      "text/plain": [
       "         1.0⋅ⅈ⋅k⋅x\n",
       "1.0⋅ⅈ⋅k⋅ℯ         "
      ]
     },
     "execution_count": 34,
     "metadata": {},
     "output_type": "execute_result"
    }
   ],
   "source": [
    "sp.diff(sp.exp(1J*k*x), (x))"
   ]
  },
  {
   "cell_type": "markdown",
   "metadata": {},
   "source": [
    "#### Sí es una función propia"
   ]
  },
  {
   "cell_type": "markdown",
   "metadata": {},
   "source": [
    "**<div class=\"alert alert-warning\">b) $\\large cos(kx)$**"
   ]
  },
  {
   "cell_type": "code",
   "execution_count": 35,
   "metadata": {},
   "outputs": [
    {
     "data": {
      "image/png": "[encoded data removed]",
      "text/latex": [
       "$\\displaystyle - k \\sin{\\left(k x \\right)}$"
      ],
      "text/plain": [
       "-k⋅sin(k⋅x)"
      ]
     },
     "execution_count": 35,
     "metadata": {},
     "output_type": "execute_result"
    }
   ],
   "source": [
    "sp.diff(sp.cos(k*x), (x))"
   ]
  },
  {
   "cell_type": "markdown",
   "metadata": {},
   "source": [
    "#### No es una función propia **<font color=red> del operador $\\frac{d}{dx}$**"
   ]
  },
  {
   "cell_type": "markdown",
   "metadata": {},
   "source": [
    "**<div class=\"alert alert-warning\">c) $\\large k$**"
   ]
  },
  {
   "cell_type": "code",
   "execution_count": 36,
   "metadata": {},
   "outputs": [
    {
     "data": {
      "image/png": "[encoded data removed]",
      "text/latex": [
       "$\\displaystyle 0$"
      ],
      "text/plain": [
       "0"
      ]
     },
     "execution_count": 36,
     "metadata": {},
     "output_type": "execute_result"
    }
   ],
   "source": [
    "sp.diff((k), (x))"
   ]
  },
  {
   "cell_type": "markdown",
   "metadata": {},
   "source": [
    "#### No es una función propia **<font color=red> del operador $\\frac{d}{dx}$**"
   ]
  },
  {
   "cell_type": "markdown",
   "metadata": {},
   "source": [
    "**<div class=\"alert alert-warning\">d) $\\large kx$**"
   ]
  },
  {
   "cell_type": "code",
   "execution_count": 37,
   "metadata": {},
   "outputs": [
    {
     "data": {
      "image/png": "[encoded data removed]",
      "text/latex": [
       "$\\displaystyle k$"
      ],
      "text/plain": [
       "k"
      ]
     },
     "execution_count": 37,
     "metadata": {},
     "output_type": "execute_result"
    }
   ],
   "source": [
    "sp.diff((k*x), (x))"
   ]
  },
  {
   "cell_type": "markdown",
   "metadata": {},
   "source": [
    "**<div class=\"alert alert-warning\">e) $\\large e^{−ax^{2}}$**"
   ]
  },
  {
   "cell_type": "code",
   "execution_count": 38,
   "metadata": {},
   "outputs": [
    {
     "data": {
      "image/png": "[encoded data removed]",
      "text/latex": [
       "$\\displaystyle - 2 x e^{- x^{2}}$"
      ],
      "text/plain": [
       "        2\n",
       "      -x \n",
       "-2⋅x⋅ℯ   "
      ]
     },
     "execution_count": 38,
     "metadata": {},
     "output_type": "execute_result"
    }
   ],
   "source": [
    "sp.diff(sp.exp(-a*x**2),(x))"
   ]
  },
  {
   "cell_type": "markdown",
   "metadata": {},
   "source": [
    "##### Si es función propia **<font color=red> del operador $\\frac{d}{dx}$**"
   ]
  },
  {
   "cell_type": "markdown",
   "metadata": {},
   "source": [
    "**<div class=\"alert alert-warning\">b) Determine cuáles de las funciones anteriores es también autofunción del operador $\\large \\frac{d^2}{dx^2}$ y dé los autovalores correspondientes.**"
   ]
  },
  {
   "cell_type": "code",
   "execution_count": 39,
   "metadata": {},
   "outputs": [
    {
     "data": {
      "image/png": "[encoded data removed]",
      "text/latex": [
       "$\\displaystyle - 1.0 k^{2} e^{1.0 i k x}$"
      ],
      "text/plain": [
       "      2  1.0⋅ⅈ⋅k⋅x\n",
       "-1.0⋅k ⋅ℯ         "
      ]
     },
     "execution_count": 39,
     "metadata": {},
     "output_type": "execute_result"
    }
   ],
   "source": [
    "sp.diff(sp.exp(1J*k*x), (x), 2)"
   ]
  },
  {
   "cell_type": "markdown",
   "metadata": {},
   "source": [
    "#### Sí es una función propia **<font color=red> del operador $\\frac{d}{dx}$**"
   ]
  },
  {
   "cell_type": "code",
   "execution_count": 40,
   "metadata": {},
   "outputs": [
    {
     "data": {
      "image/png": "[encoded data removed]",
      "text/latex": [
       "$\\displaystyle - k^{2} \\cos{\\left(k x \\right)}$"
      ],
      "text/plain": [
       "  2         \n",
       "-k ⋅cos(k⋅x)"
      ]
     },
     "execution_count": 40,
     "metadata": {},
     "output_type": "execute_result"
    }
   ],
   "source": [
    "sp.diff(sp.cos(k*x), (x), 2)"
   ]
  },
  {
   "cell_type": "markdown",
   "metadata": {},
   "source": [
    "#### Sí es una función propia"
   ]
  },
  {
   "cell_type": "code",
   "execution_count": 41,
   "metadata": {},
   "outputs": [
    {
     "data": {
      "image/png": "[encoded data removed]",
      "text/latex": [
       "$\\displaystyle 0$"
      ],
      "text/plain": [
       "0"
      ]
     },
     "execution_count": 41,
     "metadata": {},
     "output_type": "execute_result"
    }
   ],
   "source": [
    "sp.diff((k), (x), 2)"
   ]
  },
  {
   "cell_type": "markdown",
   "metadata": {},
   "source": [
    "#### No es una función propia"
   ]
  },
  {
   "cell_type": "code",
   "execution_count": 42,
   "metadata": {},
   "outputs": [
    {
     "data": {
      "image/png": "[encoded data removed]",
      "text/latex": [
       "$\\displaystyle 0$"
      ],
      "text/plain": [
       "0"
      ]
     },
     "execution_count": 42,
     "metadata": {},
     "output_type": "execute_result"
    }
   ],
   "source": [
    "sp.diff((k*x), (x), 2)"
   ]
  },
  {
   "cell_type": "markdown",
   "metadata": {},
   "source": [
    "#### No es una función propia"
   ]
  },
  {
   "cell_type": "code",
   "execution_count": 43,
   "metadata": {},
   "outputs": [
    {
     "data": {
      "image/png": "[encoded data removed]",
      "text/latex": [
       "$\\displaystyle 2 \\left(2 x^{2} - 1\\right) e^{- x^{2}}$"
      ],
      "text/plain": [
       "                2\n",
       "  ⎛   2    ⎞  -x \n",
       "2⋅⎝2⋅x  - 1⎠⋅ℯ   "
      ]
     },
     "execution_count": 43,
     "metadata": {},
     "output_type": "execute_result"
    }
   ],
   "source": [
    "sp.diff(sp.exp(-a*x**2), (x), 2)"
   ]
  },
  {
   "cell_type": "markdown",
   "metadata": {},
   "source": [
    "#### Sí es una función propia"
   ]
  },
  {
   "cell_type": "markdown",
   "metadata": {},
   "source": [
    "### **<div class=\"alert alert-info\">Punto 6. Halle los conmutadores siguientes:**"
   ]
  },
  {
   "cell_type": "markdown",
   "metadata": {},
   "source": [
    "**<div class=\"alert alert-warning\">a) $\\large [\\hat{x}^2,\\frac{d^2}{dx^2}]$**"
   ]
  },
  {
   "cell_type": "markdown",
   "metadata": {},
   "source": [
    "<div class=\"alert alert-warning\">Función sobre la que actuan los operadores "
   ]
  },
  {
   "cell_type": "code",
   "execution_count": 44,
   "metadata": {},
   "outputs": [
    {
     "data": {
      "image/png": "[encoded data removed]",
      "text/latex": [
       "$\\displaystyle f{\\left(x \\right)}$"
      ],
      "text/plain": [
       "f(x)"
      ]
     },
     "execution_count": 44,
     "metadata": {},
     "output_type": "execute_result"
    }
   ],
   "source": [
    "x, hbar=symbols('x hbar')\n",
    "f=Function('f')(x)\n",
    "f"
   ]
  },
  {
   "cell_type": "markdown",
   "metadata": {},
   "source": [
    "##### <div class=\"alert alert-warning\"> Primer operador"
   ]
  },
  {
   "cell_type": "code",
   "execution_count": 45,
   "metadata": {},
   "outputs": [
    {
     "data": {
      "image/png": "[encoded data removed]",
      "text/latex": [
       "$\\displaystyle x^{2} \\frac{d^{2}}{d x^{2}} f{\\left(x \\right)}$"
      ],
      "text/plain": [
       "     2      \n",
       " 2  d       \n",
       "x ⋅───(f(x))\n",
       "     2      \n",
       "   dx       "
      ]
     },
     "execution_count": 45,
     "metadata": {},
     "output_type": "execute_result"
    }
   ],
   "source": [
    "c1=(x**2)*Derivative(f,x,2)\n",
    "c1"
   ]
  },
  {
   "cell_type": "markdown",
   "metadata": {},
   "source": [
    "##### <div class=\"alert alert-warning\"> Segundo operador"
   ]
  },
  {
   "cell_type": "code",
   "execution_count": 46,
   "metadata": {},
   "outputs": [
    {
     "data": {
      "image/png": "[encoded data removed]",
      "text/latex": [
       "$\\displaystyle \\frac{d^{2}}{d x^{2}} x^{2} f{\\left(x \\right)}$"
      ],
      "text/plain": [
       "  2         \n",
       " d ⎛ 2     ⎞\n",
       "───⎝x ⋅f(x)⎠\n",
       "  2         \n",
       "dx          "
      ]
     },
     "execution_count": 46,
     "metadata": {},
     "output_type": "execute_result"
    }
   ],
   "source": [
    "c2=Derivative(x**2*f,x,2)\n",
    "c2"
   ]
  },
  {
   "cell_type": "code",
   "execution_count": 47,
   "metadata": {},
   "outputs": [
    {
     "data": {
      "image/png": "[encoded data removed]",
      "text/latex": [
       "$\\displaystyle x^{2} \\frac{d^{2}}{d x^{2}} f{\\left(x \\right)} - \\frac{d^{2}}{d x^{2}} x^{2} f{\\left(x \\right)}$"
      ],
      "text/plain": [
       "     2           2         \n",
       " 2  d           d ⎛ 2     ⎞\n",
       "x ⋅───(f(x)) - ───⎝x ⋅f(x)⎠\n",
       "     2           2         \n",
       "   dx          dx          "
      ]
     },
     "execution_count": 47,
     "metadata": {},
     "output_type": "execute_result"
    }
   ],
   "source": [
    "c3=(c1-c2)\n",
    "c3"
   ]
  },
  {
   "cell_type": "code",
   "execution_count": 48,
   "metadata": {},
   "outputs": [
    {
     "data": {
      "image/png": "[encoded data removed]",
      "text/latex": [
       "$\\displaystyle x^{2} \\frac{d^{2}}{d x^{2}} f{\\left(x \\right)} + 4 x \\frac{d}{d x} f{\\left(x \\right)} + 2 f{\\left(x \\right)}$"
      ],
      "text/plain": [
       "     2                              \n",
       " 2  d              d                \n",
       "x ⋅───(f(x)) + 4⋅x⋅──(f(x)) + 2⋅f(x)\n",
       "     2             dx               \n",
       "   dx                               "
      ]
     },
     "execution_count": 48,
     "metadata": {},
     "output_type": "execute_result"
    }
   ],
   "source": [
    "c4= c2.doit() \n",
    "c4"
   ]
  },
  {
   "cell_type": "code",
   "execution_count": 49,
   "metadata": {},
   "outputs": [
    {
     "data": {
      "image/png": "[encoded data removed]",
      "text/latex": [
       "$\\displaystyle - 4 x \\frac{d}{d x} f{\\left(x \\right)} - 2 f{\\left(x \\right)}$"
      ],
      "text/plain": [
       "      d                \n",
       "- 4⋅x⋅──(f(x)) - 2⋅f(x)\n",
       "      dx               "
      ]
     },
     "execution_count": 49,
     "metadata": {},
     "output_type": "execute_result"
    }
   ],
   "source": [
    "c5=simplify(c1-c2)\n",
    "c5"
   ]
  },
  {
   "cell_type": "markdown",
   "metadata": {},
   "source": [
    "##### <div class=\"alert alert-warning\"> Conmutador"
   ]
  },
  {
   "cell_type": "markdown",
   "metadata": {},
   "source": [
    "$\\large [\\hat{x}^2,\\frac{d^2}{dx^2}]f(x)$ $=$ $\\large \\hat{x}^2·\\frac{d^2}{dx^2} f(x) - \\frac{d^2}{dx^2}·\\hat{x}^2 f(x)$ $=$ $\\large -4x\\frac{d}{dx}f(x)-2f(x)$"
   ]
  },
  {
   "cell_type": "markdown",
   "metadata": {},
   "source": [
    "##### Cancelando f(x) a ambos lados"
   ]
  },
  {
   "cell_type": "markdown",
   "metadata": {},
   "source": [
    "$\\large [\\hat{x}^2,\\frac{d^2}{dx^2}]= (-4x\\frac{d}{dx}-2)$"
   ]
  },
  {
   "cell_type": "markdown",
   "metadata": {},
   "source": [
    "**<font color=red> Ningún comentario a cerca del resultado!** "
   ]
  },
  {
   "cell_type": "markdown",
   "metadata": {},
   "source": [
    "**<div class=\"alert alert-warning\">b) $\\large [\\hat{x},\\hat{p}_x]$**"
   ]
  },
  {
   "cell_type": "markdown",
   "metadata": {},
   "source": [
    "<div class=\"alert alert-warning\">Función sobre la que actuan los operadores "
   ]
  },
  {
   "cell_type": "code",
   "execution_count": 50,
   "metadata": {},
   "outputs": [
    {
     "data": {
      "image/png": "[encoded data removed]",
      "text/latex": [
       "$\\displaystyle g{\\left(x \\right)}$"
      ],
      "text/plain": [
       "g(x)"
      ]
     },
     "execution_count": 50,
     "metadata": {},
     "output_type": "execute_result"
    }
   ],
   "source": [
    "x, hbar=symbols('x hbar')\n",
    "g=Function('g')(x)\n",
    "g"
   ]
  },
  {
   "cell_type": "code",
   "execution_count": 51,
   "metadata": {},
   "outputs": [],
   "source": [
    "x,hbar,i=symbols('x hbar i')"
   ]
  },
  {
   "cell_type": "markdown",
   "metadata": {},
   "source": [
    "##### <div class=\"alert alert-warning\"> Primer operador"
   ]
  },
  {
   "cell_type": "code",
   "execution_count": 52,
   "metadata": {},
   "outputs": [
    {
     "data": {
      "image/png": "[encoded data removed]",
      "text/latex": [
       "$\\displaystyle - i \\hbar x \\frac{d}{d x} g{\\left(x \\right)}$"
      ],
      "text/plain": [
       "       d       \n",
       "-ⅈ⋅h̅⋅x⋅──(g(x))\n",
       "       dx      "
      ]
     },
     "execution_count": 52,
     "metadata": {},
     "output_type": "execute_result"
    }
   ],
   "source": [
    "c6=(-I*hbar)*Derivative(g,x)*x\n",
    "c6"
   ]
  },
  {
   "cell_type": "markdown",
   "metadata": {},
   "source": [
    "##### <div class=\"alert alert-warning\"> Segundo operador"
   ]
  },
  {
   "cell_type": "code",
   "execution_count": 53,
   "metadata": {},
   "outputs": [
    {
     "data": {
      "image/png": "[encoded data removed]",
      "text/latex": [
       "$\\displaystyle - i \\hbar \\frac{d}{d x} x g{\\left(x \\right)}$"
      ],
      "text/plain": [
       "     d         \n",
       "-ⅈ⋅h̅⋅──(x⋅g(x))\n",
       "     dx        "
      ]
     },
     "execution_count": 53,
     "metadata": {},
     "output_type": "execute_result"
    }
   ],
   "source": [
    "c7=(-I*hbar)*Derivative(x*g,x)\n",
    "c7"
   ]
  },
  {
   "cell_type": "code",
   "execution_count": 54,
   "metadata": {},
   "outputs": [
    {
     "data": {
      "image/png": "[encoded data removed]",
      "text/latex": [
       "$\\displaystyle - i \\hbar x \\frac{d}{d x} g{\\left(x \\right)} + i \\hbar \\frac{d}{d x} x g{\\left(x \\right)}$"
      ],
      "text/plain": [
       "        d              d         \n",
       "- ⅈ⋅h̅⋅x⋅──(g(x)) + ⅈ⋅h̅⋅──(x⋅g(x))\n",
       "        dx             dx        "
      ]
     },
     "execution_count": 54,
     "metadata": {},
     "output_type": "execute_result"
    }
   ],
   "source": [
    "c8=(c6-c7)\n",
    "c8"
   ]
  },
  {
   "cell_type": "code",
   "execution_count": 55,
   "metadata": {},
   "outputs": [
    {
     "data": {
      "image/png": "[encoded data removed]",
      "text/latex": [
       "$\\displaystyle - i \\hbar \\left(x \\frac{d}{d x} g{\\left(x \\right)} + g{\\left(x \\right)}\\right)$"
      ],
      "text/plain": [
       "     ⎛  d              ⎞\n",
       "-ⅈ⋅h̅⋅⎜x⋅──(g(x)) + g(x)⎟\n",
       "     ⎝  dx             ⎠"
      ]
     },
     "execution_count": 55,
     "metadata": {},
     "output_type": "execute_result"
    }
   ],
   "source": [
    "c9=c7.doit()\n",
    "c9"
   ]
  },
  {
   "cell_type": "code",
   "execution_count": 56,
   "metadata": {},
   "outputs": [
    {
     "data": {
      "image/png": "[encoded data removed]",
      "text/latex": [
       "$\\displaystyle i \\hbar g{\\left(x \\right)}$"
      ],
      "text/plain": [
       "ⅈ⋅h̅⋅g(x)"
      ]
     },
     "execution_count": 56,
     "metadata": {},
     "output_type": "execute_result"
    }
   ],
   "source": [
    "c10=simplify(c6-c7)\n",
    "c10"
   ]
  },
  {
   "cell_type": "markdown",
   "metadata": {},
   "source": [
    "##### <div class=\"alert alert-warning\"> Conmutador"
   ]
  },
  {
   "cell_type": "markdown",
   "metadata": {},
   "source": [
    "$\\large [\\hat{x},\\hat{p}_x]g(x)$ $=$ $\\large \\hat{x}·\\hat{p}_x g(x) - \\hat{p}_x·\\hat{x} g(x)$ $=$ $\\large i\\hbar g(x)$"
   ]
  },
  {
   "cell_type": "markdown",
   "metadata": {},
   "source": [
    "##### Cancelando g(x) a ambos lados"
   ]
  },
  {
   "cell_type": "markdown",
   "metadata": {},
   "source": [
    "$\\large [\\hat{x},\\hat{p}_x]$ $=$ $\\large i\\hbar $"
   ]
  },
  {
   "cell_type": "markdown",
   "metadata": {},
   "source": [
    "**<font color=red> Ningún comentario a cerca del resultado!** "
   ]
  },
  {
   "cell_type": "markdown",
   "metadata": {},
   "source": [
    "<div class=\"alert alert-warning\">c) $\\large [\\hat{p}_x,\\hat{H}_x]$"
   ]
  },
  {
   "cell_type": "code",
   "execution_count": 57,
   "metadata": {},
   "outputs": [
    {
     "data": {
      "image/png": "[encoded data removed]",
      "text/latex": [
       "$\\displaystyle j{\\left(x \\right)}$"
      ],
      "text/plain": [
       "j(x)"
      ]
     },
     "execution_count": 57,
     "metadata": {},
     "output_type": "execute_result"
    }
   ],
   "source": [
    "x, hbar=symbols('x hbar')\n",
    "j=Function('j')(x)\n",
    "j"
   ]
  },
  {
   "cell_type": "code",
   "execution_count": 58,
   "metadata": {},
   "outputs": [
    {
     "data": {
      "image/png": "[encoded data removed]",
      "text/latex": [
       "$\\displaystyle y{\\left(x \\right)}$"
      ],
      "text/plain": [
       "y(x)"
      ]
     },
     "execution_count": 58,
     "metadata": {},
     "output_type": "execute_result"
    }
   ],
   "source": [
    "y=Function('y')(x)\n",
    "y"
   ]
  },
  {
   "cell_type": "code",
   "execution_count": 59,
   "metadata": {},
   "outputs": [],
   "source": [
    "x,hbar, m=symbols('x hbar m')"
   ]
  },
  {
   "cell_type": "code",
   "execution_count": 60,
   "metadata": {},
   "outputs": [
    {
     "data": {
      "image/png": "[encoded data removed]",
      "text/latex": [
       "$\\displaystyle - \\frac{\\hbar^{2}}{2 m}$"
      ],
      "text/plain": [
       "  2 \n",
       "-h̅  \n",
       "────\n",
       "2⋅m "
      ]
     },
     "execution_count": 60,
     "metadata": {},
     "output_type": "execute_result"
    }
   ],
   "source": [
    "c11=(-(hbar)**2)/(2*m)\n",
    "c11"
   ]
  },
  {
   "cell_type": "code",
   "execution_count": 61,
   "metadata": {},
   "outputs": [
    {
     "data": {
      "image/png": "[encoded data removed]",
      "text/latex": [
       "$\\displaystyle \\frac{d^{2}}{d x^{2}} j{\\left(x \\right)}$"
      ],
      "text/plain": [
       "  2      \n",
       " d       \n",
       "───(j(x))\n",
       "  2      \n",
       "dx       "
      ]
     },
     "execution_count": 61,
     "metadata": {},
     "output_type": "execute_result"
    }
   ],
   "source": [
    "c12=Derivative(j,x,x)\n",
    "c12"
   ]
  },
  {
   "cell_type": "code",
   "execution_count": 62,
   "metadata": {},
   "outputs": [
    {
     "data": {
      "image/png": "[encoded data removed]",
      "text/latex": [
       "$\\displaystyle j{\\left(x \\right)} y{\\left(x \\right)}$"
      ],
      "text/plain": [
       "j(x)⋅y(x)"
      ]
     },
     "execution_count": 62,
     "metadata": {},
     "output_type": "execute_result"
    }
   ],
   "source": [
    "c13=y*j\n",
    "c13"
   ]
  },
  {
   "cell_type": "code",
   "execution_count": 63,
   "metadata": {},
   "outputs": [
    {
     "data": {
      "image/png": "[encoded data removed]",
      "text/latex": [
       "$\\displaystyle j{\\left(x \\right)} \\frac{d}{d x} y{\\left(x \\right)} + y{\\left(x \\right)} \\frac{d}{d x} j{\\left(x \\right)}$"
      ],
      "text/plain": [
       "     d               d       \n",
       "j(x)⋅──(y(x)) + y(x)⋅──(j(x))\n",
       "     dx              dx      "
      ]
     },
     "execution_count": 63,
     "metadata": {},
     "output_type": "execute_result"
    }
   ],
   "source": [
    "c14=Derivative(c13,x)\n",
    "c15=simplify(c14)\n",
    "c15"
   ]
  },
  {
   "cell_type": "code",
   "execution_count": 64,
   "metadata": {},
   "outputs": [
    {
     "data": {
      "image/png": "[encoded data removed]",
      "text/latex": [
       "$\\displaystyle - \\hbar i \\left(- \\frac{\\hbar^{2} \\frac{d^{3}}{d x^{3}} j{\\left(x \\right)}}{2 m} + j{\\left(x \\right)} \\frac{d}{d x} y{\\left(x \\right)} + y{\\left(x \\right)} \\frac{d}{d x} j{\\left(x \\right)}\\right)$"
      ],
      "text/plain": [
       "     ⎛       3                                      ⎞\n",
       "     ⎜   2  d                                       ⎟\n",
       "     ⎜  h̅ ⋅───(j(x))                                ⎟\n",
       "     ⎜       3                                      ⎟\n",
       "     ⎜     dx               d               d       ⎟\n",
       "-h̅⋅i⋅⎜- ──────────── + j(x)⋅──(y(x)) + y(x)⋅──(j(x))⎟\n",
       "     ⎝      2⋅m             dx              dx      ⎠"
      ]
     },
     "execution_count": 64,
     "metadata": {},
     "output_type": "execute_result"
    }
   ],
   "source": [
    "c16=(-i*hbar)*(-(hbar)**2/(2*m)*Derivative(c12,x)+ c15)\n",
    "c16"
   ]
  },
  {
   "cell_type": "code",
   "execution_count": 65,
   "metadata": {},
   "outputs": [
    {
     "data": {
      "image/png": "[encoded data removed]",
      "text/latex": [
       "$\\displaystyle \\frac{d}{d x} j{\\left(x \\right)}$"
      ],
      "text/plain": [
       "d       \n",
       "──(j(x))\n",
       "dx      "
      ]
     },
     "execution_count": 65,
     "metadata": {},
     "output_type": "execute_result"
    }
   ],
   "source": [
    "c17=Derivative(j,x)\n",
    "c17"
   ]
  },
  {
   "cell_type": "code",
   "execution_count": 66,
   "metadata": {},
   "outputs": [
    {
     "data": {
      "image/png": "[encoded data removed]",
      "text/latex": [
       "$\\displaystyle - \\frac{\\hbar^{2} \\frac{d^{3}}{d x^{3}} j{\\left(x \\right)}}{2 m} + y{\\left(x \\right)} \\frac{d}{d x} j{\\left(x \\right)}$"
      ],
      "text/plain": [
       "       3                      \n",
       "   2  d                       \n",
       "  h̅ ⋅───(j(x))                \n",
       "       3                      \n",
       "     dx               d       \n",
       "- ──────────── + y(x)⋅──(j(x))\n",
       "      2⋅m             dx      "
      ]
     },
     "execution_count": 66,
     "metadata": {},
     "output_type": "execute_result"
    }
   ],
   "source": [
    "c18=(-(hbar)**2/(2*m))*Derivative(c17,x,x)+ (y*Derivative(j,x))\n",
    "c18"
   ]
  },
  {
   "cell_type": "code",
   "execution_count": 67,
   "metadata": {},
   "outputs": [
    {
     "data": {
      "image/png": "[encoded data removed]",
      "text/latex": [
       "$\\displaystyle - \\hbar i \\left(- \\frac{\\hbar^{2} \\frac{d^{3}}{d x^{3}} j{\\left(x \\right)}}{2 m} + y{\\left(x \\right)} \\frac{d}{d x} j{\\left(x \\right)}\\right)$"
      ],
      "text/plain": [
       "     ⎛       3                      ⎞\n",
       "     ⎜   2  d                       ⎟\n",
       "     ⎜  h̅ ⋅───(j(x))                ⎟\n",
       "     ⎜       3                      ⎟\n",
       "     ⎜     dx               d       ⎟\n",
       "-h̅⋅i⋅⎜- ──────────── + y(x)⋅──(j(x))⎟\n",
       "     ⎝      2⋅m             dx      ⎠"
      ]
     },
     "execution_count": 67,
     "metadata": {},
     "output_type": "execute_result"
    }
   ],
   "source": [
    "c19=(-i*hbar)*c18\n",
    "c19"
   ]
  },
  {
   "cell_type": "code",
   "execution_count": 68,
   "metadata": {},
   "outputs": [
    {
     "data": {
      "image/png": "[encoded data removed]",
      "text/latex": [
       "$\\displaystyle - \\hbar i j{\\left(x \\right)} \\frac{d}{d x} y{\\left(x \\right)}$"
      ],
      "text/plain": [
       "          d       \n",
       "-h̅⋅i⋅j(x)⋅──(y(x))\n",
       "          dx      "
      ]
     },
     "execution_count": 68,
     "metadata": {},
     "output_type": "execute_result"
    }
   ],
   "source": [
    "simplify(c16-c19)"
   ]
  },
  {
   "cell_type": "markdown",
   "metadata": {},
   "source": [
    "##### <div class=\"alert alert-warning\"> Conmutador"
   ]
  },
  {
   "cell_type": "markdown",
   "metadata": {},
   "source": [
    "$ \\quad \\large [\\hat{p}_x,\\hat{H}_x]=-i\\hbar\\frac{d}{dx}V(x)$"
   ]
  },
  {
   "cell_type": "markdown",
   "metadata": {},
   "source": [
    "### **<div class=\"alert alert-info\">Punto 7. Calcule $\\large [\\hat{x}^2,\\frac{d^2}{dx^2}](e^{x^2}+cos(2x))$:**\n"
   ]
  },
  {
   "cell_type": "code",
   "execution_count": 69,
   "metadata": {},
   "outputs": [
    {
     "data": {
      "image/png": "[encoded data removed]",
      "text/latex": [
       "$\\displaystyle e^{x^{2}} + \\cos{\\left(2 x \\right)}$"
      ],
      "text/plain": [
       " ⎛ 2⎞           \n",
       " ⎝x ⎠           \n",
       "ℯ     + cos(2⋅x)"
      ]
     },
     "execution_count": 69,
     "metadata": {},
     "output_type": "execute_result"
    }
   ],
   "source": [
    "x=symbols('x')\n",
    "f=exp(x**2)+cos(2*x)\n",
    "f"
   ]
  },
  {
   "cell_type": "code",
   "execution_count": 70,
   "metadata": {},
   "outputs": [
    {
     "data": {
      "image/png": "[encoded data removed]",
      "text/latex": [
       "$\\displaystyle x^{2} \\frac{d^{2}}{d x^{2}} \\left(e^{x^{2}} + \\cos{\\left(2 x \\right)}\\right)$"
      ],
      "text/plain": [
       "     2⎛ ⎛ 2⎞           ⎞\n",
       " 2  d ⎜ ⎝x ⎠           ⎟\n",
       "x ⋅───⎝ℯ     + cos(2⋅x)⎠\n",
       "     2                  \n",
       "   dx                   "
      ]
     },
     "execution_count": 70,
     "metadata": {},
     "output_type": "execute_result"
    }
   ],
   "source": [
    "y1=x**2*Derivative(f,x,2)\n",
    "y1"
   ]
  },
  {
   "cell_type": "code",
   "execution_count": 71,
   "metadata": {},
   "outputs": [
    {
     "data": {
      "image/png": "[encoded data removed]",
      "text/latex": [
       "$\\displaystyle \\frac{d^{2}}{d x^{2}} x^{2} \\left(e^{x^{2}} + \\cos{\\left(2 x \\right)}\\right)$"
      ],
      "text/plain": [
       "  2⎛   ⎛ ⎛ 2⎞           ⎞⎞\n",
       " d ⎜ 2 ⎜ ⎝x ⎠           ⎟⎟\n",
       "───⎝x ⋅⎝ℯ     + cos(2⋅x)⎠⎠\n",
       "  2                       \n",
       "dx                        "
      ]
     },
     "execution_count": 71,
     "metadata": {},
     "output_type": "execute_result"
    }
   ],
   "source": [
    "y2=Derivative(x**2*f,x,2)\n",
    "y2"
   ]
  },
  {
   "cell_type": "code",
   "execution_count": 72,
   "metadata": {},
   "outputs": [
    {
     "data": {
      "image/png": "[encoded data removed]",
      "text/latex": [
       "$\\displaystyle 2 x^{2} \\left(2 x^{2} e^{x^{2}} + e^{x^{2}} - 2 \\cos{\\left(2 x \\right)}\\right)$"
      ],
      "text/plain": [
       "     ⎛      ⎛ 2⎞    ⎛ 2⎞             ⎞\n",
       "   2 ⎜   2  ⎝x ⎠    ⎝x ⎠             ⎟\n",
       "2⋅x ⋅⎝2⋅x ⋅ℯ     + ℯ     - 2⋅cos(2⋅x)⎠"
      ]
     },
     "execution_count": 72,
     "metadata": {},
     "output_type": "execute_result"
    }
   ],
   "source": [
    "y3=y1.doit()\n",
    "y3"
   ]
  },
  {
   "cell_type": "code",
   "execution_count": 73,
   "metadata": {},
   "outputs": [
    {
     "data": {
      "image/png": "[encoded data removed]",
      "text/latex": [
       "$\\displaystyle 2 \\left(x^{2} \\left(2 x^{2} e^{x^{2}} + e^{x^{2}} - 2 \\cos{\\left(2 x \\right)}\\right) + 4 x \\left(x e^{x^{2}} - \\sin{\\left(2 x \\right)}\\right) + e^{x^{2}} + \\cos{\\left(2 x \\right)}\\right)$"
      ],
      "text/plain": [
       "  ⎛   ⎛      ⎛ 2⎞    ⎛ 2⎞             ⎞       ⎛   ⎛ 2⎞           ⎞    ⎛ 2⎞    \n",
       "  ⎜ 2 ⎜   2  ⎝x ⎠    ⎝x ⎠             ⎟       ⎜   ⎝x ⎠           ⎟    ⎝x ⎠    \n",
       "2⋅⎝x ⋅⎝2⋅x ⋅ℯ     + ℯ     - 2⋅cos(2⋅x)⎠ + 4⋅x⋅⎝x⋅ℯ     - sin(2⋅x)⎠ + ℯ     + c\n",
       "\n",
       "       ⎞\n",
       "       ⎟\n",
       "os(2⋅x)⎠"
      ]
     },
     "execution_count": 73,
     "metadata": {},
     "output_type": "execute_result"
    }
   ],
   "source": [
    "y4=y2.doit()\n",
    "y4"
   ]
  },
  {
   "cell_type": "code",
   "execution_count": 74,
   "metadata": {},
   "outputs": [
    {
     "data": {
      "image/png": "[encoded data removed]",
      "text/latex": [
       "$\\displaystyle 2 x^{2} \\left(2 x^{2} e^{x^{2}} + e^{x^{2}} - 2 \\cos{\\left(2 x \\right)}\\right) - 2 \\left(x^{2} \\left(2 x^{2} e^{x^{2}} + e^{x^{2}} - 2 \\cos{\\left(2 x \\right)}\\right) + 4 x \\left(x e^{x^{2}} - \\sin{\\left(2 x \\right)}\\right) + e^{x^{2}} + \\cos{\\left(2 x \\right)}\\right)$"
      ],
      "text/plain": [
       "     ⎛      ⎛ 2⎞    ⎛ 2⎞             ⎞     ⎛   ⎛      ⎛ 2⎞    ⎛ 2⎞            \n",
       "   2 ⎜   2  ⎝x ⎠    ⎝x ⎠             ⎟     ⎜ 2 ⎜   2  ⎝x ⎠    ⎝x ⎠            \n",
       "2⋅x ⋅⎝2⋅x ⋅ℯ     + ℯ     - 2⋅cos(2⋅x)⎠ - 2⋅⎝x ⋅⎝2⋅x ⋅ℯ     + ℯ     - 2⋅cos(2⋅x\n",
       "\n",
       " ⎞       ⎛   ⎛ 2⎞           ⎞    ⎛ 2⎞           ⎞\n",
       " ⎟       ⎜   ⎝x ⎠           ⎟    ⎝x ⎠           ⎟\n",
       ")⎠ + 4⋅x⋅⎝x⋅ℯ     - sin(2⋅x)⎠ + ℯ     + cos(2⋅x)⎠"
      ]
     },
     "execution_count": 74,
     "metadata": {},
     "output_type": "execute_result"
    }
   ],
   "source": [
    "y3-y4"
   ]
  },
  {
   "cell_type": "code",
   "execution_count": 75,
   "metadata": {},
   "outputs": [
    {
     "data": {
      "image/png": "[encoded data removed]",
      "text/latex": [
       "$\\displaystyle - 8 x \\left(x e^{x^{2}} - \\sin{\\left(2 x \\right)}\\right) - 2 e^{x^{2}} - 2 \\cos{\\left(2 x \\right)}$"
      ],
      "text/plain": [
       "      ⎛   ⎛ 2⎞           ⎞      ⎛ 2⎞             \n",
       "      ⎜   ⎝x ⎠           ⎟      ⎝x ⎠             \n",
       "- 8⋅x⋅⎝x⋅ℯ     - sin(2⋅x)⎠ - 2⋅ℯ     - 2⋅cos(2⋅x)"
      ]
     },
     "execution_count": 75,
     "metadata": {},
     "output_type": "execute_result"
    }
   ],
   "source": [
    "simplify(y3-y4)"
   ]
  },
  {
   "cell_type": "markdown",
   "metadata": {},
   "source": [
    "**<font color=red> Ningún comentario a cerca del resultado! Cómo se entiende el resultado?** "
   ]
  },
  {
   "cell_type": "markdown",
   "metadata": {},
   "source": [
    "### **<div class=\"alert alert-info\">Punto 8. Deduzca si cada una de las expresiones siguientes es un operador o una función.**"
   ]
  },
  {
   "cell_type": "markdown",
   "metadata": {},
   "source": [
    "**<div class=\"alert alert-warning\">a) $\\large \\hat{A}\\hat{B}g(x)$** \n",
    "\n",
    "Al realizar la operación entre los operadores $\\hat{A}*\\hat{B}$  da como resultado otro operador, sin embargo, al multiplicar estos terminos por la función g(x) se tiene como resultado una **FUNCIÓN.**"
   ]
  },
  {
   "cell_type": "markdown",
   "metadata": {},
   "source": [
    "**<div class=\"alert alert-warning\">b) $\\large \\hat{A}\\hat{B}+\\hat{B}\\hat{A}$**\n",
    "    \n",
    "En este caso se tienen multiplicaciones de operadores, que dan como resultado otro operador, y al sumarse estos dos resultados, se obtiene finalmente un **OPERADOR.**"
   ]
  },
  {
   "cell_type": "markdown",
   "metadata": {},
   "source": [
    "**<div class=\"alert alert-warning\">c) $\\large \\hat{B^2}f(x)$**\n",
    "  \n",
    "Se tiene un operador multiplicado por él mismo, sin embargo este cuadrado está siendo multiplicado por una función f(x), lo que hace que el termino se transforme en una **FUNCIÓN.**"
   ]
  },
  {
   "cell_type": "markdown",
   "metadata": {},
   "source": [
    "**<div class=\"alert alert-warning\">d) $\\large f(x)^*\\hat{A}f(x)$**\n",
    "   \n",
    "Cuando tenemos una función que está siendo multiplicada por un operador se obtiene como resultado una función, es decir, el termino $\\hat{A}f(x)$ da como resultado una función, al multiplicarla de nuevo por $f(x)$ da como resultado final una **FUNCIÓN.** "
   ]
  },
  {
   "cell_type": "markdown",
   "metadata": {},
   "source": [
    "### **<div class=\"alert alert-info\">Punto 9. Si la posición de un electrón se mide con una precisión de ±0.001 Å ¿Cuál será la máxima precisión para el momento?**"
   ]
  },
  {
   "cell_type": "markdown",
   "metadata": {},
   "source": [
    "<div class=\"alert alert-warning\"> Sí tenemos en cuenta el principio de incertidumbre $\\Delta x \\Delta p_x \\ge \\hbar/2$ , en este caso seria $\\Delta x = 0.002 Å  \\ $"
   ]
  },
  {
   "cell_type": "markdown",
   "metadata": {},
   "source": [
    "$\\Delta p_x \\ge  \\displaystyle{\\hbar \\over 2\\Delta x}$"
   ]
  },
  {
   "cell_type": "code",
   "execution_count": 59,
   "metadata": {},
   "outputs": [
    {
     "name": "stdout",
     "output_type": "stream",
     "text": [
      "5.272803264634492e-22\n"
     ]
    }
   ],
   "source": [
    "h=6.626*10**(-34) \n",
    "delta_x = 1*10**(-13)\n",
    "delta_p = (h/(4*pi*delta_x))\n",
    "print(delta_p)"
   ]
  },
  {
   "cell_type": "markdown",
   "metadata": {},
   "source": [
    "**<font color=red> Qué significado tiene este resultado?** "
   ]
  },
  {
   "cell_type": "markdown",
   "metadata": {},
   "source": [
    "### **<div class=\"alert alert-info\">10. Demuestre que en el intervalo 0 ≤ θ ≤ 2π, las funciones $\\large e^{inθ}$, donde n=0, ±1, ±2, ..., forman un conjunto de funciones ortogonales. Halle la constante de normalización para este conjunto de funciones.**"
   ]
  },
  {
   "cell_type": "markdown",
   "metadata": {},
   "source": [
    "<div class=\"alert alert-warning\">Condición: Para que sean ortogonales se debe cumplir que "
   ]
  },
  {
   "cell_type": "markdown",
   "metadata": {},
   "source": [
    "$\\large ∫(\\Psi_n){(\\Psi_a)}^{*}dr=0$ <center>"
   ]
  },
  {
   "cell_type": "code",
   "execution_count": 76,
   "metadata": {},
   "outputs": [
    {
     "data": {
      "image/png": "[encoded data removed]",
      "text/latex": [
       "$\\displaystyle \\int\\limits_{0}^{2 \\pi} e^{- i a x} e^{i n x}\\, dx$"
      ],
      "text/plain": [
       "2⋅π                  \n",
       " ⌠                   \n",
       " ⎮   -ⅈ⋅a⋅x  ⅈ⋅n⋅x   \n",
       " ⎮  ℯ      ⋅ℯ      dx\n",
       " ⌡                   \n",
       " 0                   "
      ]
     },
     "execution_count": 76,
     "metadata": {},
     "output_type": "execute_result"
    }
   ],
   "source": [
    "x, a, n =symbols('x a n')\n",
    "Y1=exp(I*n*x)\n",
    "Y2=exp(I*a*x)\n",
    "Z=exp(-I*a*x)\n",
    "I=Integral(Y1*Z, (x, 0, 2*pi))\n",
    "I"
   ]
  },
  {
   "cell_type": "code",
   "execution_count": 77,
   "metadata": {},
   "outputs": [
    {
     "data": {
      "text/latex": [
       "$\\displaystyle \\begin{cases} \\frac{i e^{2 i \\pi n}}{a e^{2 i \\pi a} - n e^{2 i \\pi a}} - \\frac{i}{a - n} & \\text{for}\\: a \\neq n \\\\2 \\pi & \\text{otherwise} \\end{cases}$"
      ],
      "text/plain": [
       "⎧          2⋅ⅈ⋅π⋅n                         \n",
       "⎪       ⅈ⋅ℯ                  ⅈ             \n",
       "⎪─────────────────────── - ─────  for a ≠ n\n",
       "⎨   2⋅ⅈ⋅π⋅a      2⋅ⅈ⋅π⋅a   a - n           \n",
       "⎪a⋅ℯ        - n⋅ℯ                          \n",
       "⎪                                          \n",
       "⎩              2⋅π                otherwise"
      ]
     },
     "execution_count": 77,
     "metadata": {},
     "output_type": "execute_result"
    }
   ],
   "source": [
    "I.doit()"
   ]
  },
  {
   "cell_type": "markdown",
   "metadata": {},
   "source": [
    "<div class=\"alert alert-warning\">Para que se cumpla la condición los valores de a y n **deben** ser diferentes.\n",
    "Ahora se evalúa en $n=1$ y $a=-2$,"
   ]
  },
  {
   "cell_type": "code",
   "execution_count": 4,
   "metadata": {},
   "outputs": [
    {
     "data": {
      "text/latex": [
       "$\\displaystyle \\begin{cases} 2 \\pi & \\text{for}\\: \\left(I = 0 \\wedge a = n\\right) \\vee I = 0 \\vee a = n \\\\- \\frac{e^{2 I n \\pi}}{I a e^{2 I a \\pi} - I n e^{2 I a \\pi}} + \\frac{1}{I a - I n} & \\text{otherwise} \\end{cases}$"
      ],
      "text/plain": [
       "Piecewise((2*pi, Eq(I, 0) | Eq(a, n) | (Eq(I, 0) & Eq(a, n))), (-exp(2*I*n*pi)/(I*a*exp(2*I*a*pi) - I*n*exp(2*I*a*pi)) + 1/(I*a - I*n), True))"
      ]
     },
     "execution_count": 4,
     "metadata": {},
     "output_type": "execute_result"
    }
   ],
   "source": [
    "Y1=(sp.exp(I*n*x))\n",
    "Y2=(sp.exp(I*a*x))\n",
    "Z=(sp.exp(-I*a*x))\n",
    "n=1\n",
    "a=-2\n",
    "I=Integral(Y1*Z, (x, 0, 2*pi))\n",
    "I.doit()"
   ]
  },
  {
   "cell_type": "code",
   "execution_count": null,
   "metadata": {},
   "outputs": [],
   "source": []
  }
 ],
 "metadata": {
  "kernelspec": {
   "display_name": "Python 3",
   "language": "python",
   "name": "python3"
  },
  "language_info": {
   "codemirror_mode": {
    "name": "ipython",
    "version": 3
   },
   "file_extension": ".py",
   "mimetype": "text/x-python",
   "name": "python",
   "nbconvert_exporter": "python",
   "pygments_lexer": "ipython3",
   "version": "3.8.3"
  }
 },
 "nbformat": 4,
 "nbformat_minor": 4
}

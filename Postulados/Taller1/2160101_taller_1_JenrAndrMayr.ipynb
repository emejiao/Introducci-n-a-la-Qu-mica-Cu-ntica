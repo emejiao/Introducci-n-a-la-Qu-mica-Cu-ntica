{
 "cells": [
  {
   "cell_type": "code",
   "execution_count": 1,
   "metadata": {},
   "outputs": [],
   "source": [
    "from IPython.display import HTML"
   ]
  },
  {
   "cell_type": "markdown",
   "metadata": {
    "slideshow": {
     "slide_type": "slide"
    }
   },
   "source": [
    "<div class=\"alert alert-success\" role=\"alert\">\n",
    "  <h2 class=\"alert-heading\">Introducción a la Química Cuántica: Taller 1-Postulados de la Mecánica Cuántica</h2>\n",
    "  <h3 class=\"alert-heading\">Integrantes:</h3>\n",
    "    <h3 class=\"alert-heading\">~ Mayra Alejandra Carreño Corzo.</h3>\n",
    "    <h3 class=\"alert-heading\">~ Andrés Felipe Villamizar Macías.</h3> \n",
    "    <h3 class=\"alert-heading\">~ Jeniffer Juliana González Vargas.</h3>\n",
    "  <h3 class=\"alert-heading\">Escuela de Química</h3>\n",
    "  <h3 class=\"alert-heading\">Universidad Industrial de Santander</h3>\n",
    "  <p>\n",
    "  </div>"
   ]
  },
  {
   "cell_type": "markdown",
   "metadata": {},
   "source": [
    "## <font color=red> NOTA: 3.0"
   ]
  },
  {
   "cell_type": "markdown",
   "metadata": {
    "slideshow": {
     "slide_type": "slide"
    }
   },
   "source": [
    "### <div class=\"alert alert-info\"><font color='blue'> <h2 class=\"alert-heading\">Preguntas</h2>"
   ]
  },
  {
   "cell_type": "markdown",
   "metadata": {
    "slideshow": {
     "slide_type": "subslide"
    }
   },
   "source": [
    "**<div class=\"alert alert-warning\">1. Determinar cuáles de las siguientes funciones son aceptables como funciones de onda, definidas en los intervalos indicados.**\n",
    "**<div class=\"alert alert-warning\">a) $\\large \\frac{1}{x} [0,\\infty)$**\n",
    "**<div class=\"alert alert-warning\">b) $\\large e^{-|x|} (-\\infty, +\\infty)$**\n",
    "**<div class=\"alert alert-warning\">c) $\\large sen(x) [-4π, 4π]$**\n",
    "**<div class=\"alert alert-warning\">d) $\\large e^{-x} [0, \\infty)$**\n",
    "**<div class=\"alert alert-warning\">e) $\\large e^{-x}sen(x) [0, \\infty)$**\n",
    "\n",
    "**<div class=\"alert alert-info\">2. De las siguientes funciones, normalice aquellas en que la normalización sea posible:**\n",
    "**<div class=\"alert alert-info\">a) $\\large e^{-x} [0, \\infty)$**\n",
    "**<div class=\"alert alert-info\">b) $\\large e^{i\\theta} [0, 2\\pi]$**\n",
    "**<div class=\"alert alert-info\">c) $\\large xe^{-x} [0, \\infty)$**\n",
    "\n",
    "\n",
    "**<div class=\"alert alert-warning\">3. La función de onda para una partícula en un sistema monodimensional definido entre $\\large x = 0$ y $\\large x = \\infty$, a $\\large t=0$ es $\\large \\Psi = \\sqrt{\\frac{2}{a}}e^{\\frac{-x}{a}}$ donde $\\large a$ es 1.0 nm. A $\\large t=0$ se mide la posición de la partícula.\n",
    "a) Calcular la probabilidad de que la partícula se encuentre entre $\\large x=1.5000 nm$ y $\\large x=1.5001\n",
    "nm$. b) Calcular la probabilidad de que la partícula se encuentre entre $\\large x=0$ y $\\large x=2 nm$. c)\n",
    "Verifique que la función de onda está normalizada.**\n",
    "\n",
    "**<div class=\"alert alert-warning\">4. Indique cuál de los siguientes operadores es lineal:**\n",
    "**<div class=\"alert alert-warning\">a) $\\large \\hat{A}f(x)=\\frac{df(x)}{dx}$ (derivada de $\\large f(x)$)**\n",
    "**<div class=\"alert alert-warning\">b) $\\large \\hat{A}f(x)=f^*(x)$ (forma la compleja conjugada de $\\large f(x)$)**\n",
    "**<div class=\"alert alert-warning\">c) $\\large \\hat{A}f(x)=ln f(x)$ (toma el logaritmo de $\\large f(x)$)**\n",
    "**<div class=\"alert alert-warning\">d) $\\large \\hat{A}f(x)= \\int f(x)dx$ (f (integral de $\\large f(x)$)**\n",
    "    \n",
    "**<div class=\"alert alert-success\">5. a) Cuál de las siguientes funciones es autofunción del operador $\\large d/dx$:** \n",
    "**<div class=\"alert alert-success\">a) $\\large e^{ikx}$ ; b) $\\large cos(kx)$ ; c) $\\large k$, d) $\\large kx$ ; e) $\\large e^{−ax^{2}}$. ¿Cuáles son sus autovalores? b) Determine cuáles de las funciones anteriores es también autofunción del operador $\\large \\frac{d^2}{dx^2}$ y dé los autovalores correspondientes.**\n",
    "    \n",
    "**<div class=\"alert alert-success\">6. Halle los conmutadores siguientes:**\n",
    "**<div class=\"alert alert-success\">a) $\\large [\\hat{x}^2,\\frac{d^2}{dx^2}]$**\n",
    "**<div class=\"alert alert-success\">b) $\\large [\\hat{x},\\hat{p}_x]$**\n",
    "**<div class=\"alert alert-success\">c) $\\large [\\hat{p}_x,\\hat{H}_x]$**\n",
    "    \n",
    "**<div class=\"alert alert-danger\">7. Calcule $\\large [\\hat{x}^2,\\frac{d^2}{dx^2}](e^{x^2}+cos(2x))$:**\n",
    "\n",
    "**<div class=\"alert alert-danger\">8. Deduzca si cada una de las expresiones siguientes es un operador o una función.**\n",
    "**<div class=\"alert alert-danger\">a) $\\large \\hat{A}\\hat{B}g(x)$ ; b) $\\large \\hat{A}\\hat{B}+\\hat{B}\\hat{A}$ ; c) $\\large \\hat{B^2}f(x)$, d) $\\large f(x)^*\\hat{A}f(x)$**\n",
    "    \n",
    "**<div class=\"alert alert-danger\">9. Si la posición de un electrón se mide con una precisión de ±0.001 Å ¿Cuál será la máxima precisión para el momento?**\n",
    "\n",
    "**<div class=\"alert alert-danger\">10. Demuestre que en el intervalo 0 ≤ θ ≤ 2π, las funciones $\\large e^{inθ}$, donde n=0, ±1, ±2, ..., forman un conjunto de funciones ortogonales. Halle la constante de normalización para este conjunto de funciones.**"
   ]
  },
  {
   "cell_type": "code",
   "execution_count": 3,
   "metadata": {},
   "outputs": [],
   "source": [
    "import matplotlib as mpl # matplotlib library for plotting and visualization\n",
    "import matplotlib.pylab as plt # matplotlib library for plotting and visualization\n",
    "import numpy as np #numpy library for numerical manipulation, especially suited for data arrays\n",
    "import sympy as sp\n",
    "from sympy import *\n",
    "sp.init_printing(use_unicode=True)\n",
    "#k, m, n = symbols('k m n', integer=True)\n",
    "#f, g, h = symbols('f g h', cls=Function)"
   ]
  },
  {
   "cell_type": "markdown",
   "metadata": {},
   "source": [
    "## solución\n"
   ]
  },
  {
   "cell_type": "markdown",
   "metadata": {},
   "source": [
    "**<div class=\"alert alert-warning\">1. Determinar cuáles de las siguientes funciones son aceptables como funciones de onda, definidas en los intervalos indicados.**\n",
    "**<div class=\"alert alert-warning\"> a) $\\large \\frac{1}{x} [0,\\infty)$**"
   ]
  },
  {
   "cell_type": "code",
   "execution_count": 4,
   "metadata": {},
   "outputs": [
    {
     "data": {
      "image/png": "[encoded data removed]",
      "text/plain": [
       "<Figure size 432x288 with 1 Axes>"
      ]
     },
     "metadata": {
      "needs_background": "light"
     },
     "output_type": "display_data"
    }
   ],
   "source": [
    "def f(x):\n",
    "    return 1/x\n",
    "\n",
    "x=np.linspace(0.1,1,100)\n",
    "plt.plot(x,f(x))\n",
    "plt.title(\"f(x)=1/x\",fontsize=20)\n",
    "plt.show()"
   ]
  },
  {
   "cell_type": "code",
   "execution_count": 6,
   "metadata": {},
   "outputs": [
    {
     "data": {
      "image/png": "[encoded data removed]",
      "text/latex": [
       "$\\displaystyle \\left( \\frac{d}{d x} \\frac{1}{x}, \\  - \\frac{1}{x^{2}}\\right)$"
      ],
      "text/plain": [
       "⎛d ⎛1⎞  -1 ⎞\n",
       "⎜──⎜─⎟, ───⎟\n",
       "⎜dx⎝x⎠    2⎟\n",
       "⎝        x ⎠"
      ]
     },
     "execution_count": 6,
     "metadata": {},
     "output_type": "execute_result"
    }
   ],
   "source": [
    "x=sp.Symbol('x')\n",
    "Df=sp.Derivative(1/x, x)\n",
    "Df, Df.doit()"
   ]
  },
  {
   "cell_type": "code",
   "execution_count": 7,
   "metadata": {},
   "outputs": [
    {
     "data": {
      "image/png": "[encoded data removed]",
      "text/latex": [
       "$\\displaystyle \\left( \\frac{d^{2}}{d x^{2}} \\frac{1}{x}, \\  \\frac{2}{x^{3}}\\right)$"
      ],
      "text/plain": [
       "⎛  2       ⎞\n",
       "⎜ d ⎛1⎞  2 ⎟\n",
       "⎜───⎜─⎟, ──⎟\n",
       "⎜  2⎝x⎠   3⎟\n",
       "⎝dx      x ⎠"
      ]
     },
     "execution_count": 7,
     "metadata": {},
     "output_type": "execute_result"
    }
   ],
   "source": [
    "x=sp.Symbol('x')\n",
    "Df=sp.Derivative(1/x, x,2)\n",
    "Df, Df.doit()"
   ]
  },
  {
   "cell_type": "code",
   "execution_count": 8,
   "metadata": {},
   "outputs": [
    {
     "data": {
      "image/png": "[encoded data removed]",
      "text/latex": [
       "$\\displaystyle \\left( \\int\\limits_{0}^{\\infty} \\frac{1}{x^{2}}\\, dx, \\  \\infty\\right)$"
      ],
      "text/plain": [
       "⎛∞         ⎞\n",
       "⎜⌠         ⎟\n",
       "⎜⎮ 1       ⎟\n",
       "⎜⎮ ── dx, ∞⎟\n",
       "⎜⎮  2      ⎟\n",
       "⎜⎮ x       ⎟\n",
       "⎜⌡         ⎟\n",
       "⎝0         ⎠"
      ]
     },
     "execution_count": 8,
     "metadata": {},
     "output_type": "execute_result"
    }
   ],
   "source": [
    "x=Symbol('x')\n",
    "If=sp.Integral((1/x)**2, (x, 0, sp.oo))\n",
    "If, If.doit()"
   ]
  },
  {
   "cell_type": "markdown",
   "metadata": {},
   "source": [
    "# No es función de onda,el cuadrado no da un valor.\n",
    "\n",
    "**<font color=red> Lo correcto es decir que no es una función de onda bien corportada o que no es aceptable como función de onda por que imcumple los requisitos del postulado 1**\n",
    "\n"
   ]
  },
  {
   "cell_type": "markdown",
   "metadata": {},
   "source": [
    "**<div class=\"alert alert-warning\">b) $\\large e^{-|x|} (-\\infty, +\\infty)$**"
   ]
  },
  {
   "cell_type": "code",
   "execution_count": 9,
   "metadata": {},
   "outputs": [
    {
     "data": {
      "image/png": "[encoded data removed]",
      "text/plain": [
       "<Figure size 432x288 with 1 Axes>"
      ]
     },
     "metadata": {
      "needs_background": "light"
     },
     "output_type": "display_data"
    }
   ],
   "source": [
    "def f(x):\n",
    "    return np.exp(-abs(x))\n",
    "\n",
    "x=np.linspace(-3,4,100)\n",
    "y=np.linspace(0,2,100)\n",
    "plt.plot(x,f(x))\n",
    "plt.title('$f(x)=e^{-|x|}$',fontsize=20)\n",
    "plt.show()"
   ]
  },
  {
   "cell_type": "code",
   "execution_count": 10,
   "metadata": {},
   "outputs": [
    {
     "data": {
      "image/png": "[encoded data removed]",
      "text/latex": [
       "$\\displaystyle \\left( \\frac{d}{d x} e^{- \\left|{x}\\right|}, \\  - \\frac{\\left(\\operatorname{re}{\\left(x\\right)} \\frac{d}{d x} \\operatorname{re}{\\left(x\\right)} + \\operatorname{im}{\\left(x\\right)} \\frac{d}{d x} \\operatorname{im}{\\left(x\\right)}\\right) e^{- \\left|{x}\\right|} \\operatorname{sign}{\\left(x \\right)}}{x}\\right)$"
      ],
      "text/plain": [
       "⎛            ⎛      d                 d        ⎞  -│x│         ⎞\n",
       "⎜           -⎜re(x)⋅──(re(x)) + im(x)⋅──(im(x))⎟⋅ℯ    ⋅sign(x) ⎟\n",
       "⎜d ⎛ -│x│⎞   ⎝      dx                dx       ⎠               ⎟\n",
       "⎜──⎝ℯ    ⎠, ───────────────────────────────────────────────────⎟\n",
       "⎝dx                                  x                         ⎠"
      ]
     },
     "execution_count": 10,
     "metadata": {},
     "output_type": "execute_result"
    }
   ],
   "source": [
    "x=sp.Symbol('x')\n",
    "Df=sp.Derivative(sp.exp(-abs(x)), x)\n",
    "Df, Df.doit()"
   ]
  },
  {
   "cell_type": "markdown",
   "metadata": {},
   "source": [
    "# La función no es continuo y no es derivable por lo tanto no es función de onda.\n",
    "\n",
    "**<font color=red> La función no es contínua! Lo correcto es decir que no es una función de onda bien corportada o que no es aceptable como función de onda por que imcumple los requisitos del postulado 1**"
   ]
  },
  {
   "cell_type": "markdown",
   "metadata": {},
   "source": [
    "**<div class=\"alert alert-warning\">c) $\\large sen(x) [-4π, 4π]$**"
   ]
  },
  {
   "cell_type": "code",
   "execution_count": 11,
   "metadata": {},
   "outputs": [
    {
     "data": {
      "image/png": "[encoded data removed]",
      "text/plain": [
       "<Figure size 432x288 with 1 Axes>"
      ]
     },
     "metadata": {
      "needs_background": "light"
     },
     "output_type": "display_data"
    }
   ],
   "source": [
    "def f(x):\n",
    "    return np.sin(x)\n",
    "\n",
    "x=np.linspace((-4*np.pi),(4*np.pi),100)\n",
    "plt.plot(x,f(x))\n",
    "plt.title(\"f(x)=sen(x)\",fontsize=20)\n",
    "plt.show()"
   ]
  },
  {
   "cell_type": "code",
   "execution_count": 12,
   "metadata": {},
   "outputs": [
    {
     "data": {
      "image/png": "[encoded data removed]",
      "text/latex": [
       "$\\displaystyle \\left( \\frac{d}{d x} \\sin{\\left(x \\right)}, \\  \\cos{\\left(x \\right)}\\right)$"
      ],
      "text/plain": [
       "⎛d                 ⎞\n",
       "⎜──(sin(x)), cos(x)⎟\n",
       "⎝dx                ⎠"
      ]
     },
     "execution_count": 12,
     "metadata": {},
     "output_type": "execute_result"
    }
   ],
   "source": [
    "x=sp.Symbol('x')\n",
    "Df=sp.Derivative(sp.sin(x), x)\n",
    "Df, Df.doit()"
   ]
  },
  {
   "cell_type": "code",
   "execution_count": 13,
   "metadata": {},
   "outputs": [
    {
     "data": {
      "image/png": "[encoded data removed]",
      "text/latex": [
       "$\\displaystyle \\left( \\frac{d^{2}}{d x^{2}} \\sin{\\left(x \\right)}, \\  - \\sin{\\left(x \\right)}\\right)$"
      ],
      "text/plain": [
       "⎛  2                 ⎞\n",
       "⎜ d                  ⎟\n",
       "⎜───(sin(x)), -sin(x)⎟\n",
       "⎜  2                 ⎟\n",
       "⎝dx                  ⎠"
      ]
     },
     "execution_count": 13,
     "metadata": {},
     "output_type": "execute_result"
    }
   ],
   "source": [
    "x=sp.Symbol('x')\n",
    "Df=sp.Derivative(sin(x), x,2)\n",
    "Df, Df.doit()"
   ]
  },
  {
   "cell_type": "code",
   "execution_count": 14,
   "metadata": {},
   "outputs": [
    {
     "data": {
      "image/png": "[encoded data removed]",
      "text/latex": [
       "$\\displaystyle \\left( \\int\\limits_{- 4 \\pi}^{4 \\pi} \\sin^{2}{\\left(x \\right)}\\, dx, \\  4 \\pi\\right)$"
      ],
      "text/plain": [
       "⎛4⋅π                 ⎞\n",
       "⎜ ⌠                  ⎟\n",
       "⎜ ⎮      2           ⎟\n",
       "⎜ ⎮   sin (x) dx, 4⋅π⎟\n",
       "⎜ ⌡                  ⎟\n",
       "⎝-4⋅π                ⎠"
      ]
     },
     "execution_count": 14,
     "metadata": {},
     "output_type": "execute_result"
    }
   ],
   "source": [
    "x=sp.Symbol('x')\n",
    "f=sp.sin(x)\n",
    "If=sp.Integral(f**2, (x, -4*pi, 4*pi))\n",
    "If, If.doit()            "
   ]
  },
  {
   "cell_type": "markdown",
   "metadata": {},
   "source": [
    "# Es función de onda,cumple todos las condiciones.\n",
    "\n",
    "**<font color=red> Por tanto es una función de onda bien comportada, cumple las condiciones del postulado 1**"
   ]
  },
  {
   "cell_type": "markdown",
   "metadata": {},
   "source": [
    "**<div class=\"alert alert-warning\">d) $\\large e^{-x} [0, \\infty)$**"
   ]
  },
  {
   "cell_type": "code",
   "execution_count": 15,
   "metadata": {},
   "outputs": [
    {
     "data": {
      "image/png": "[encoded data removed]",
      "text/plain": [
       "<Figure size 432x288 with 1 Axes>"
      ]
     },
     "metadata": {
      "needs_background": "light"
     },
     "output_type": "display_data"
    }
   ],
   "source": [
    "def f(x):\n",
    "    return np.exp(-x)\n",
    "\n",
    "x=np.linspace(0,10,100)\n",
    "plt.plot(x,f(x))\n",
    "plt.title(\"$f(x)=e^{-x}$\",fontsize=20)\n",
    "plt.show()"
   ]
  },
  {
   "cell_type": "code",
   "execution_count": 16,
   "metadata": {},
   "outputs": [
    {
     "data": {
      "image/png": "[encoded data removed]",
      "text/latex": [
       "$\\displaystyle \\left( \\frac{d}{d x} e^{- x}, \\  - e^{- x}\\right)$"
      ],
      "text/plain": [
       "⎛d ⎛ -x⎞    -x⎞\n",
       "⎜──⎝ℯ  ⎠, -ℯ  ⎟\n",
       "⎝dx           ⎠"
      ]
     },
     "execution_count": 16,
     "metadata": {},
     "output_type": "execute_result"
    }
   ],
   "source": [
    "x=sp.Symbol('x')\n",
    "Df=sp.Derivative(sp.exp(-(x)), x)\n",
    "Df, Df.doit()"
   ]
  },
  {
   "cell_type": "code",
   "execution_count": 17,
   "metadata": {},
   "outputs": [
    {
     "data": {
      "image/png": "[encoded data removed]",
      "text/latex": [
       "$\\displaystyle \\left( \\frac{d^{2}}{d x^{2}} e^{- x}, \\  e^{- x}\\right)$"
      ],
      "text/plain": [
       "⎛  2          ⎞\n",
       "⎜ d ⎛ -x⎞   -x⎟\n",
       "⎜───⎝ℯ  ⎠, ℯ  ⎟\n",
       "⎜  2          ⎟\n",
       "⎝dx           ⎠"
      ]
     },
     "execution_count": 17,
     "metadata": {},
     "output_type": "execute_result"
    }
   ],
   "source": [
    "x=sp.Symbol('x')\n",
    "Df=sp.Derivative(sp.exp(-(x)), x,2)\n",
    "Df, Df.doit()"
   ]
  },
  {
   "cell_type": "code",
   "execution_count": 18,
   "metadata": {},
   "outputs": [
    {
     "data": {
      "image/png": "[encoded data removed]",
      "text/latex": [
       "$\\displaystyle \\left( \\int\\limits_{0}^{\\infty} e^{- 2 x}\\, dx, \\  \\frac{1}{2}\\right)$"
      ],
      "text/plain": [
       "⎛∞              ⎞\n",
       "⎜⌠              ⎟\n",
       "⎜⎮  -2⋅x        ⎟\n",
       "⎜⎮ ℯ     dx, 1/2⎟\n",
       "⎜⌡              ⎟\n",
       "⎝0              ⎠"
      ]
     },
     "execution_count": 18,
     "metadata": {},
     "output_type": "execute_result"
    }
   ],
   "source": [
    "x=sp.Symbol('x')\n",
    "f=sp.exp(-(x))\n",
    "If=sp.Integral(f**2, (x, 0, sp.oo))\n",
    "If, If.doit()"
   ]
  },
  {
   "cell_type": "markdown",
   "metadata": {},
   "source": [
    "# Es función de onda,cumple todos las condiciones.\n",
    "**<font color=red> Por tanto es una función de onda bien comportada, cumple las condiciones del postulado 1**"
   ]
  },
  {
   "cell_type": "markdown",
   "metadata": {},
   "source": [
    "**<div class=\"alert alert-warning\">e) $\\large e^{-x}sen(x) [0, \\infty)$**"
   ]
  },
  {
   "cell_type": "code",
   "execution_count": 19,
   "metadata": {},
   "outputs": [
    {
     "data": {
      "image/png": "[encoded data removed]",
      "text/plain": [
       "<Figure size 432x288 with 1 Axes>"
      ]
     },
     "metadata": {
      "needs_background": "light"
     },
     "output_type": "display_data"
    }
   ],
   "source": [
    "from matplotlib.font_manager import FontProperties\n",
    "from pylab import *\n",
    "    \n",
    "def f(x):\n",
    "    s1=exp(-x)\n",
    "    e1=sin(x)\n",
    "    return multiply(s1,e1)\n",
    "\n",
    "x1=arange(-4, 5, 0.1)\n",
    "x2=arange(-4, 5, 0.02)\n",
    "plt.plot(x1,f(x1), 'b',x2,f(x2), 'k')\n",
    "plt.title(\"$f(x)=e^{-x}sin(x)$\",fontsize=20)\n",
    "plt.show()"
   ]
  },
  {
   "cell_type": "code",
   "execution_count": 20,
   "metadata": {},
   "outputs": [
    {
     "data": {
      "image/png": "[encoded data removed]",
      "text/latex": [
       "$\\displaystyle \\left( \\frac{d}{d x} e^{- x} \\sin{\\left(x \\right)}, \\  - e^{- x} \\sin{\\left(x \\right)} + e^{- x} \\cos{\\left(x \\right)}\\right)$"
      ],
      "text/plain": [
       "⎛d ⎛ -x       ⎞     -x           -x       ⎞\n",
       "⎜──⎝ℯ  ⋅sin(x)⎠, - ℯ  ⋅sin(x) + ℯ  ⋅cos(x)⎟\n",
       "⎝dx                                       ⎠"
      ]
     },
     "execution_count": 20,
     "metadata": {},
     "output_type": "execute_result"
    }
   ],
   "source": [
    "x=sp.Symbol('x')\n",
    "Df=sp.Derivative(sp.exp(-(x))*sp.sin(x), x)\n",
    "Df, Df.doit()"
   ]
  },
  {
   "cell_type": "code",
   "execution_count": 21,
   "metadata": {},
   "outputs": [
    {
     "data": {
      "image/png": "[encoded data removed]",
      "text/latex": [
       "$\\displaystyle \\left( \\frac{d^{2}}{d x^{2}} e^{- x} \\sin{\\left(x \\right)}, \\  - 2 e^{- x} \\cos{\\left(x \\right)}\\right)$"
      ],
      "text/plain": [
       "⎛  2                           ⎞\n",
       "⎜ d ⎛ -x       ⎞      -x       ⎟\n",
       "⎜───⎝ℯ  ⋅sin(x)⎠, -2⋅ℯ  ⋅cos(x)⎟\n",
       "⎜  2                           ⎟\n",
       "⎝dx                            ⎠"
      ]
     },
     "execution_count": 21,
     "metadata": {},
     "output_type": "execute_result"
    }
   ],
   "source": [
    "x=sp.Symbol('x')\n",
    "Df=sp.Derivative(sp.exp(-(x))*sp.sin(x), x,2)\n",
    "Df, Df.doit()"
   ]
  },
  {
   "cell_type": "code",
   "execution_count": 22,
   "metadata": {},
   "outputs": [
    {
     "data": {
      "image/png": "[encoded data removed]",
      "text/latex": [
       "$\\displaystyle \\left( \\int\\limits_{0}^{\\infty} e^{- 2 x} \\sin^{2}{\\left(x \\right)}\\, dx, \\  \\frac{1}{8}\\right)$"
      ],
      "text/plain": [
       "⎛∞                      ⎞\n",
       "⎜⌠                      ⎟\n",
       "⎜⎮  -2⋅x    2           ⎟\n",
       "⎜⎮ ℯ    ⋅sin (x) dx, 1/8⎟\n",
       "⎜⌡                      ⎟\n",
       "⎝0                      ⎠"
      ]
     },
     "execution_count": 22,
     "metadata": {},
     "output_type": "execute_result"
    }
   ],
   "source": [
    "x=sp.Symbol('x')\n",
    "f=sp.exp(-(x))*sp.sin(x)\n",
    "If=sp.Integral(f**2, (x, 0, sp.oo))\n",
    "If, If.doit()"
   ]
  },
  {
   "cell_type": "markdown",
   "metadata": {},
   "source": [
    "# Es función de onda,cumple todos las condiciones.\n",
    "**<font color=red> Por tanto es una función de onda bien comportada, cumple las condiciones del postulado 1**"
   ]
  },
  {
   "cell_type": "markdown",
   "metadata": {},
   "source": [
    "**<div class=\"alert alert-info\">2. De las siguientes funciones, normalice aquellas en que la normalización sea posible:**\n",
    "**<div class=\"alert alert-info\">a) $\\large e^{-x} [0, \\infty)$**"
   ]
  },
  {
   "cell_type": "code",
   "execution_count": 23,
   "metadata": {},
   "outputs": [
    {
     "data": {
      "image/png": "[encoded data removed]",
      "text/latex": [
       "$\\displaystyle \\left( \\int\\limits_{0}^{\\infty} e^{- 2 x}\\, dx, \\  \\frac{1}{2}\\right)$"
      ],
      "text/plain": [
       "⎛∞              ⎞\n",
       "⎜⌠              ⎟\n",
       "⎜⎮  -2⋅x        ⎟\n",
       "⎜⎮ ℯ     dx, 1/2⎟\n",
       "⎜⌡              ⎟\n",
       "⎝0              ⎠"
      ]
     },
     "execution_count": 23,
     "metadata": {},
     "output_type": "execute_result"
    }
   ],
   "source": [
    "x=sp.Symbol('x')\n",
    "f=sp.exp(-x)\n",
    "If=sp.Integral(f**2, (x, 0, sp.oo))\n",
    "If, If.doit()"
   ]
  },
  {
   "cell_type": "code",
   "execution_count": 24,
   "metadata": {},
   "outputs": [
    {
     "data": {
      "image/png": "[encoded data removed]",
      "text/latex": [
       "$\\displaystyle \\left( \\int\\limits_{0}^{\\infty} 2.0 e^{- 2 x}\\, dx, \\  1.0\\right)$"
      ],
      "text/plain": [
       "⎛∞                  ⎞\n",
       "⎜⌠                  ⎟\n",
       "⎜⎮      -2⋅x        ⎟\n",
       "⎜⎮ 2.0⋅ℯ     dx, 1.0⎟\n",
       "⎜⌡                  ⎟\n",
       "⎝0                  ⎠"
      ]
     },
     "execution_count": 24,
     "metadata": {},
     "output_type": "execute_result"
    }
   ],
   "source": [
    "A=1/((0.5)**0.5)\n",
    "fn=A*sp.exp(-x)\n",
    "If=sp.Integral(fn**2, (x, 0, sp.oo))\n",
    "If, If.doit()"
   ]
  },
  {
   "cell_type": "markdown",
   "metadata": {},
   "source": [
    "# constante de normalización\n"
   ]
  },
  {
   "cell_type": "markdown",
   "metadata": {},
   "source": [
    "# $A=\\frac{1}{\\sqrt b}$ \n",
    "# $A=\\frac{1}{\\sqrt (0.5)}$\n",
    "\n",
    "# $ Fn=A*sp.exp(-x) $\n",
    "**<font color=red> Se escribe así:  $F_n=Ae^{-x}$**"
   ]
  },
  {
   "cell_type": "markdown",
   "metadata": {},
   "source": [
    "**<div class=\"alert alert-info\">b) $\\large e^{i\\theta} [0, 2\\pi]$**\n"
   ]
  },
  {
   "cell_type": "code",
   "execution_count": 25,
   "metadata": {},
   "outputs": [
    {
     "data": {
      "image/png": "[encoded data removed]",
      "text/latex": [
       "$\\displaystyle \\left( \\int\\limits_{0}^{2 \\pi} e^{i tta} e^{- i \\overline{tta}}\\, dtta, \\  2 \\pi\\right)$"
      ],
      "text/plain": [
       "⎛2⋅π                           ⎞\n",
       "⎜ ⌠                            ⎟\n",
       "⎜ ⎮             ___            ⎟\n",
       "⎜ ⎮   ⅈ⋅tta  -ⅈ⋅tta            ⎟\n",
       "⎜ ⎮  ℯ     ⋅ℯ       d(tta), 2⋅π⎟\n",
       "⎜ ⌡                            ⎟\n",
       "⎝ 0                            ⎠"
      ]
     },
     "execution_count": 25,
     "metadata": {},
     "output_type": "execute_result"
    }
   ],
   "source": [
    "tta=sp.Symbol('tta')\n",
    "f=sp.exp(I*tta)\n",
    "fc=sp.exp(-I*tta)\n",
    "fc1=sp.conjugate(f)\n",
    "If=sp.Integral(f*fc1, (tta, 0, 2*sp.pi))\n",
    "If, If.doit()"
   ]
  },
  {
   "cell_type": "code",
   "execution_count": 26,
   "metadata": {},
   "outputs": [
    {
     "data": {
      "image/png": "[encoded data removed]",
      "text/latex": [
       "$\\displaystyle \\left( \\int\\limits_{0}^{2 \\pi} \\frac{0.5 e^{i tta} e^{- i \\overline{tta}}}{\\pi^{1.0}}\\, dtta, \\  1.0\\right)$"
      ],
      "text/plain": [
       "⎛2⋅π                                     ⎞\n",
       "⎜ ⌠                                      ⎟\n",
       "⎜ ⎮                       ___            ⎟\n",
       "⎜ ⎮       -1.0  ⅈ⋅tta  -ⅈ⋅tta            ⎟\n",
       "⎜ ⎮  0.5⋅π    ⋅ℯ     ⋅ℯ       d(tta), 1.0⎟\n",
       "⎜ ⌡                                      ⎟\n",
       "⎝ 0                                      ⎠"
      ]
     },
     "execution_count": 26,
     "metadata": {},
     "output_type": "execute_result"
    }
   ],
   "source": [
    "A=1/((2*sp.pi)**0.5)\n",
    "tta=sp.Symbol('tta')\n",
    "f=A*sp.exp(I*tta)\n",
    "fc=sp.exp(-I*tta)\n",
    "fc1=sp.conjugate(f)\n",
    "If=sp.Integral(f*fc1, (tta, 0, 2*sp.pi))\n",
    "If, If.doit()"
   ]
  },
  {
   "cell_type": "markdown",
   "metadata": {},
   "source": [
    "# $A=\\frac{1}{\\sqrt b}$ \n",
    "# $A=\\frac{1}{\\sqrt (2\\pi)}$\n",
    "# $Fn=\\frac{1}{\\sqrt(2\\pi)}exp(i\\theta)$"
   ]
  },
  {
   "cell_type": "markdown",
   "metadata": {},
   "source": [
    "**<div class=\"alert alert-info\">c) $\\large xe^{-x} [0, \\infty)$**"
   ]
  },
  {
   "cell_type": "code",
   "execution_count": 26,
   "metadata": {},
   "outputs": [
    {
     "data": {
      "image/png": "[encoded data removed]",
      "text/latex": [
       "$\\displaystyle \\left( \\int\\limits_{0}^{\\infty} x^{2} e^{- 2 x}\\, dx, \\  \\frac{1}{4}\\right)$"
      ],
      "text/plain": [
       "⎛∞                 ⎞\n",
       "⎜⌠                 ⎟\n",
       "⎜⎮  2  -2⋅x        ⎟\n",
       "⎜⎮ x ⋅ℯ     dx, 1/4⎟\n",
       "⎜⌡                 ⎟\n",
       "⎝0                 ⎠"
      ]
     },
     "execution_count": 26,
     "metadata": {},
     "output_type": "execute_result"
    }
   ],
   "source": [
    "x=sp.Symbol('x')\n",
    "f=sp.exp(-x)*x\n",
    "If=sp.Integral(f**2, (x, 0, sp.oo))\n",
    "If, If.doit()"
   ]
  },
  {
   "cell_type": "code",
   "execution_count": 27,
   "metadata": {},
   "outputs": [
    {
     "data": {
      "image/png": "[encoded data removed]",
      "text/latex": [
       "$\\displaystyle \\left( \\int\\limits_{0}^{\\infty} 4.0 x^{2} e^{- 2 x}\\, dx, \\  1.0\\right)$"
      ],
      "text/plain": [
       "⎛∞                     ⎞\n",
       "⎜⌠                     ⎟\n",
       "⎜⎮      2  -2⋅x        ⎟\n",
       "⎜⎮ 4.0⋅x ⋅ℯ     dx, 1.0⎟\n",
       "⎜⌡                     ⎟\n",
       "⎝0                     ⎠"
      ]
     },
     "execution_count": 27,
     "metadata": {},
     "output_type": "execute_result"
    }
   ],
   "source": [
    "A=1/((0.25)**0.5)\n",
    "fn=A*sp.exp(-x)*x\n",
    "If=sp.Integral(fn**2, (x, 0, sp.oo))\n",
    "If, If.doit()"
   ]
  },
  {
   "cell_type": "markdown",
   "metadata": {},
   "source": [
    "# Constante de normalización\n",
    "# $A=\\frac{1}{\\sqrt b}$ \n",
    "# $A=\\frac{1}{\\sqrt (0.25)}$\n",
    "# $fn=A*sp.exp(-x)*x$\n",
    "**<font color=red> Se escribe así:  $f_n=Axe^{-x}$**"
   ]
  },
  {
   "cell_type": "markdown",
   "metadata": {},
   "source": [
    "**<div class=\"alert alert-warning\">3. La función de onda para una partícula en un sistema monodimensional definido entre $\\large x = 0$ y $\\large x = \\infty$, a $\\large t=0$ es $\\large \\Psi = \\sqrt{\\frac{2}{a}}e^{\\frac{-x}{a}}$ donde $\\large a$ es 1.0 nm. A $\\large t=0$ se mide la posición de la partícula.\n",
    "a) Calcular la probabilidad de que la partícula se encuentre entre $\\large x=1.5000 nm$ y $\\large x=1.5001\n",
    "nm$. b) Calcular la probabilidad de que la partícula se encuentre entre $\\large x=0$ y $\\large x=2 nm$. c)\n",
    "Verifique que la función de onda está normalizada.**"
   ]
  },
  {
   "cell_type": "markdown",
   "metadata": {},
   "source": [
    "<div class=\"alert alert-warning\">a) Calcular la probabilidad de que la partícula se encuentre entre $\\large x=1.5000 nm$ y $\\large x=1.5001\n",
    "nm$. "
   ]
  },
  {
   "cell_type": "code",
   "execution_count": 27,
   "metadata": {},
   "outputs": [
    {
     "data": {
      "image/png": "[encoded data removed]",
      "text/latex": [
       "$\\displaystyle \\left( \\int\\limits_{1.5}^{1.5001} 2.0 e^{- 2 x}\\, dx, \\  9.9564179985856 \\cdot 10^{-6}\\right)$"
      ],
      "text/plain": [
       "⎛1.5001                                 ⎞\n",
       "⎜  ⌠                                    ⎟\n",
       "⎜  ⎮         -2⋅x                       ⎟\n",
       "⎜  ⎮    2.0⋅ℯ     dx, 9.9564179985856e-6⎟\n",
       "⎜  ⌡                                    ⎟\n",
       "⎝ 1.5                                   ⎠"
      ]
     },
     "execution_count": 27,
     "metadata": {},
     "output_type": "execute_result"
    }
   ],
   "source": [
    "x, a =symbols(\"x a\")\n",
    "a=1\n",
    "Y4=(sp.sqrt(2/a))*sp.exp(-x/a)\n",
    "I=Integral(Y4**2, (x, 1.5000, 1.5001))\n",
    "I, I.doit() "
   ]
  },
  {
   "cell_type": "markdown",
   "metadata": {},
   "source": [
    "### <font color=red> ¿Ningún comentario, qué hicieron?"
   ]
  },
  {
   "cell_type": "code",
   "execution_count": 29,
   "metadata": {},
   "outputs": [
    {
     "data": {
      "image/png": "[encoded data removed]",
      "text/latex": [
       "$\\displaystyle \\left( \\int\\limits_{1.5}^{1.5001} 202020.202020202 e^{- 2 x}\\, dx, \\  1.00569878773604\\right)$"
      ],
      "text/plain": [
       "⎛1.5001                                            ⎞\n",
       "⎜  ⌠                                               ⎟\n",
       "⎜  ⎮                      -2⋅x                     ⎟\n",
       "⎜  ⎮    202020.202020202⋅ℯ     dx, 1.00569878773604⎟\n",
       "⎜  ⌡                                               ⎟\n",
       "⎝ 1.5                                              ⎠"
      ]
     },
     "execution_count": 29,
     "metadata": {},
     "output_type": "execute_result"
    }
   ],
   "source": [
    "x, a =symbols(\"x a\")\n",
    "a=1\n",
    "A=1/((0.0000099)**0.5)\n",
    "Y4=A*(sp.sqrt(2/a))*sp.exp(-x/a)\n",
    "I=Integral(Y4**2, (x, 1.5000, 1.5001))\n",
    "I, I.doit()"
   ]
  },
  {
   "cell_type": "markdown",
   "metadata": {},
   "source": [
    "### <font color=red> ¿Ningún comentario, qué hicieron?"
   ]
  },
  {
   "cell_type": "markdown",
   "metadata": {},
   "source": [
    "<div class=\"alert alert-warning\">b) Calcular la probabilidad de que la partícula se encuentre entre $\\large x=0$ y $\\large x=2 nm$."
   ]
  },
  {
   "cell_type": "code",
   "execution_count": 30,
   "metadata": {},
   "outputs": [
    {
     "data": {
      "image/png": "[encoded data removed]",
      "text/latex": [
       "$\\displaystyle \\left( \\int\\limits_{0}^{2} 2.0 e^{- 2 x}\\, dx, \\  1.0 - \\frac{1.0}{e^{4}}\\right)$"
      ],
      "text/plain": [
       "⎛2                            ⎞\n",
       "⎜⌠                            ⎟\n",
       "⎜⎮      -2⋅x                -4⎟\n",
       "⎜⎮ 2.0⋅ℯ     dx, 1.0 - 1.0⋅ℯ  ⎟\n",
       "⎜⌡                            ⎟\n",
       "⎝0                            ⎠"
      ]
     },
     "execution_count": 30,
     "metadata": {},
     "output_type": "execute_result"
    }
   ],
   "source": [
    "x, a=symbols(\"x a\")\n",
    "a=1\n",
    "Y5=(sp.sqrt(2/a))*sp.exp(-x/a)\n",
    "I=Integral(Y5**2, (x, 0, 2))\n",
    "I, I.doit()"
   ]
  },
  {
   "cell_type": "markdown",
   "metadata": {},
   "source": [
    "### <font color=red> ¿Ningún comentario, qué hicieron?"
   ]
  },
  {
   "cell_type": "code",
   "execution_count": 31,
   "metadata": {},
   "outputs": [
    {
     "data": {
      "image/png": "[encoded data removed]",
      "text/latex": [
       "$\\displaystyle \\left( \\int\\limits_{0}^{2} 2.04081632653061 e^{- 2 x}\\, dx, \\  1.02040816326531 - \\frac{1.02040816326531}{e^{4}}\\right)$"
      ],
      "text/plain": [
       "⎛2                                                                   ⎞\n",
       "⎜⌠                                                                   ⎟\n",
       "⎜⎮                   -2⋅x                                          -4⎟\n",
       "⎜⎮ 2.04081632653061⋅ℯ     dx, 1.02040816326531 - 1.02040816326531⋅ℯ  ⎟\n",
       "⎜⌡                                                                   ⎟\n",
       "⎝0                                                                   ⎠"
      ]
     },
     "execution_count": 31,
     "metadata": {},
     "output_type": "execute_result"
    }
   ],
   "source": [
    "x, a =symbols(\"x a\")\n",
    "a=1\n",
    "A=1/((0.98)**0.5)\n",
    "Y4=A*(sp.sqrt(2/a))*sp.exp(-x/a)\n",
    "I=Integral(Y4**2, (x, 0, 2))\n",
    "I, I.doit()"
   ]
  },
  {
   "cell_type": "markdown",
   "metadata": {},
   "source": [
    "### <font color=red> ¿Ningún comentario, qué hicieron?"
   ]
  },
  {
   "cell_type": "markdown",
   "metadata": {},
   "source": [
    " <div class=\"alert alert-warning\">c)\n",
    "Verifique que la función de onda está normalizada."
   ]
  },
  {
   "cell_type": "markdown",
   "metadata": {},
   "source": [
    "# La normalización correspondiente se puede observar en cada inciso anterior.\n",
    "**<font color=red> Los resultados encontrados merecen un comentario relacionado con la pregunta que se realizó en cada caso**"
   ]
  },
  {
   "cell_type": "markdown",
   "metadata": {},
   "source": [
    "**<div class=\"alert alert-warning\">4. Indique cuál de los siguientes operadores es lineal:**\n",
    "**<div class=\"alert alert-warning\">a) $\\large \\hat{A}f(x)=\\frac{df(x)}{dx}$ (derivada de $\\large f(x)$)**"
   ]
  },
  {
   "cell_type": "code",
   "execution_count": 32,
   "metadata": {},
   "outputs": [
    {
     "data": {
      "image/png": "[encoded data removed]",
      "text/latex": [
       "$\\displaystyle \\left( c \\frac{d}{d x} f{\\left(x \\right)}, \\  c \\frac{d}{d x} f{\\left(x \\right)}\\right)$"
      ],
      "text/plain": [
       "⎛  d           d       ⎞\n",
       "⎜c⋅──(f(x)), c⋅──(f(x))⎟\n",
       "⎝  dx          dx      ⎠"
      ]
     },
     "execution_count": 32,
     "metadata": {},
     "output_type": "execute_result"
    }
   ],
   "source": [
    "c=symbols(\"c\")\n",
    "f=sp.Function('f')(x)\n",
    "A=sp.Derivative (f, x)\n",
    "#Acf=cAf <---------------------------\n",
    "#C es constante \n",
    "c*A, c*A.doit()\n"
   ]
  },
  {
   "cell_type": "markdown",
   "metadata": {},
   "source": [
    "## <font color=red> ¿Qué hicieron? Explique!"
   ]
  },
  {
   "cell_type": "code",
   "execution_count": 33,
   "metadata": {},
   "outputs": [
    {
     "data": {
      "image/png": "[encoded data removed]",
      "text/latex": [
       "$\\displaystyle \\left( \\frac{\\partial}{\\partial x} c f{\\left(x \\right)}, \\  c \\frac{d}{d x} f{\\left(x \\right)}\\right)$"
      ],
      "text/plain": [
       "⎛∂             d       ⎞\n",
       "⎜──(c⋅f(x)), c⋅──(f(x))⎟\n",
       "⎝∂x            dx      ⎠"
      ]
     },
     "execution_count": 33,
     "metadata": {},
     "output_type": "execute_result"
    }
   ],
   "source": [
    "c=symbols(\"c\")\n",
    "f=sp.Function('f')(x)\n",
    "\n",
    "B=sp.Derivative (c*f, x)\n",
    "#Acf=cAf <---------------------------\n",
    "#C es constante \n",
    "B,  B.doit()\n",
    "\n",
    "\n"
   ]
  },
  {
   "cell_type": "markdown",
   "metadata": {},
   "source": [
    "El operador derivada de f(x) sí es lineal.\n",
    "\n",
    "**<font color=red> Porqué?**"
   ]
  },
  {
   "cell_type": "markdown",
   "metadata": {},
   "source": [
    "**<div class=\"alert alert-warning\">b) $\\large \\hat{A}f(x)=f^*(x)$ (forma la compleja conjugada de $\\large f(x)$)**"
   ]
  },
  {
   "cell_type": "code",
   "execution_count": 34,
   "metadata": {},
   "outputs": [
    {
     "data": {
      "image/png": "[encoded data removed]",
      "text/latex": [
       "$\\displaystyle \\left( c \\left(\\overline{a} - i \\overline{b}\\right), \\  c \\left(\\overline{a} - i \\overline{b}\\right)\\right)$"
      ],
      "text/plain": [
       "⎛  ⎛_     _⎞    ⎛_     _⎞⎞\n",
       "⎝c⋅⎝a - ⅈ⋅b⎠, c⋅⎝a - ⅈ⋅b⎠⎠"
      ]
     },
     "execution_count": 34,
     "metadata": {},
     "output_type": "execute_result"
    }
   ],
   "source": [
    "a, b=symbols(\"a b\")\n",
    "f=((a+sp.I*b))\n",
    "A=sp.conjugate (f)\n",
    "N=c*A\n",
    "#Acf=cAf <---------------------------\n",
    "#C es constante, a y b son reales\n",
    "N, N.doit()"
   ]
  },
  {
   "cell_type": "code",
   "execution_count": 35,
   "metadata": {},
   "outputs": [
    {
     "data": {
      "image/png": "[encoded data removed]",
      "text/latex": [
       "$\\displaystyle \\left( \\left(\\overline{a} - i \\overline{b}\\right) \\overline{c}, \\  \\left(\\overline{a} - i \\overline{b}\\right) \\overline{c}\\right)$"
      ],
      "text/plain": [
       "⎛⎛_     _⎞ _  ⎛_     _⎞ _⎞\n",
       "⎝⎝a - ⅈ⋅b⎠⋅c, ⎝a - ⅈ⋅b⎠⋅c⎠"
      ]
     },
     "execution_count": 35,
     "metadata": {},
     "output_type": "execute_result"
    }
   ],
   "source": [
    "a, b=symbols(\"a b\")\n",
    "f=((a+sp.I*b))\n",
    "B=sp.conjugate (c*f)\n",
    "#Acf=cAf <---------------------------\n",
    "#C es constante, a y b son reales\n",
    "B, B.doit()"
   ]
  },
  {
   "cell_type": "markdown",
   "metadata": {},
   "source": [
    "El operador complejo conjugado de f(x) sí es lineal siempre que \"c\" sea real.\n",
    "\n",
    "**<font color=red> NO es correcto!!!**"
   ]
  },
  {
   "cell_type": "markdown",
   "metadata": {},
   "source": [
    "**<div class=\"alert alert-warning\">c) $\\large \\hat{A}f(x)=ln f(x)$ (toma el logaritmo de $\\large f(x)$)**\n"
   ]
  },
  {
   "cell_type": "code",
   "execution_count": 36,
   "metadata": {},
   "outputs": [
    {
     "data": {
      "image/png": "[encoded data removed]",
      "text/latex": [
       "$\\displaystyle \\left( c \\log{\\left(f{\\left(x \\right)} \\right)}, \\  c \\log{\\left(f{\\left(x \\right)} \\right)}\\right)$"
      ],
      "text/plain": [
       "(c⋅log(f(x)), c⋅log(f(x)))"
      ]
     },
     "execution_count": 36,
     "metadata": {},
     "output_type": "execute_result"
    }
   ],
   "source": [
    "f=sp.Function('f')(x)\n",
    "Af=sp.log(f)\n",
    "c=symbols(\"c\")\n",
    "c*Af, c*Af.doit()"
   ]
  },
  {
   "cell_type": "code",
   "execution_count": 37,
   "metadata": {},
   "outputs": [
    {
     "data": {
      "image/png": "[encoded data removed]",
      "text/latex": [
       "$\\displaystyle \\left( \\log{\\left(c f{\\left(x \\right)} \\right)}, \\  \\log{\\left(c f{\\left(x \\right)} \\right)}\\right)$"
      ],
      "text/plain": [
       "(log(c⋅f(x)), log(c⋅f(x)))"
      ]
     },
     "execution_count": 37,
     "metadata": {},
     "output_type": "execute_result"
    }
   ],
   "source": [
    "f=sp.Function('f')(x)\n",
    "n=symbols('n', real=True)\n",
    "Bf=sp.log(c*f)\n",
    "Bf, Bf.doit()"
   ]
  },
  {
   "cell_type": "markdown",
   "metadata": {},
   "source": [
    "El operador logaritmo de f(x) no es lineal.\n",
    "**<font color=red> Porqué?**"
   ]
  },
  {
   "cell_type": "markdown",
   "metadata": {},
   "source": [
    "**<div class=\"alert alert-warning\">d) $\\large \\hat{A}f(x)= \\int f(x)dx$ (f (integral de $\\large f(x)$)**"
   ]
  },
  {
   "cell_type": "code",
   "execution_count": 38,
   "metadata": {},
   "outputs": [
    {
     "data": {
      "image/png": "[encoded data removed]",
      "text/latex": [
       "$\\displaystyle \\left( c \\int f{\\left(x \\right)}\\, dx, \\  c \\int f{\\left(x \\right)}\\, dx\\right)$"
      ],
      "text/plain": [
       "⎛  ⌠            ⌠        ⎞\n",
       "⎜c⋅⎮ f(x) dx, c⋅⎮ f(x) dx⎟\n",
       "⎝  ⌡            ⌡        ⎠"
      ]
     },
     "execution_count": 38,
     "metadata": {},
     "output_type": "execute_result"
    }
   ],
   "source": [
    "c=symbols(\"c\")\n",
    "f=sp.Function('f')(x)\n",
    "If=sp.Integral(f, x)\n",
    "c*If, c*If.doit()"
   ]
  },
  {
   "cell_type": "code",
   "execution_count": 39,
   "metadata": {},
   "outputs": [
    {
     "data": {
      "image/png": "[encoded data removed]",
      "text/latex": [
       "$\\displaystyle \\left( \\int c f{\\left(x \\right)}\\, dx, \\  c \\int f{\\left(x \\right)}\\, dx\\right)$"
      ],
      "text/plain": [
       "⎛⌠              ⌠        ⎞\n",
       "⎜⎮ c⋅f(x) dx, c⋅⎮ f(x) dx⎟\n",
       "⎝⌡              ⌡        ⎠"
      ]
     },
     "execution_count": 39,
     "metadata": {},
     "output_type": "execute_result"
    }
   ],
   "source": [
    "c=symbols(\"c\")\n",
    "f=sp.Function('f')(x)\n",
    "Icf=sp.Integral(c*f, x)\n",
    "Icf, Icf.doit()"
   ]
  },
  {
   "cell_type": "markdown",
   "metadata": {},
   "source": [
    "El operador integral de f(x) sí es líneal.\n",
    "\n",
    "**<font color=red> Explique Porqué?**"
   ]
  },
  {
   "cell_type": "markdown",
   "metadata": {},
   "source": [
    "**<div class=\"alert alert-success\">5. a) Cuál de las siguientes funciones es autofunción del operador $\\large d/dx$:** \n",
    "**<div class=\"alert alert-success\">a) $\\large e^{ikx}$ ; b) $\\large cos(kx)$ ; c) $\\large k$, d) $\\large kx$ ; e) $\\large e^{−ax^{2}}$. ¿Cuáles son sus autovalores? b) Determine cuáles de las funciones anteriores es también autofunción del operador $\\large \\frac{d^2}{dx^2}$ y dé los autovalores correspondientes.**"
   ]
  },
  {
   "cell_type": "markdown",
   "metadata": {},
   "source": [
    "**$$ \\large \\hat{A}f(x)=a f(x)$$**\n",
    "# todas las funciones que cumplen con esto son funciones propias\n",
    "\n",
    "**<font color=red> Qué es esto???**"
   ]
  },
  {
   "cell_type": "markdown",
   "metadata": {},
   "source": [
    "**<div class=\"alert alert-success\">a) $\\large e^{ikx}$**"
   ]
  },
  {
   "cell_type": "code",
   "execution_count": 40,
   "metadata": {},
   "outputs": [
    {
     "data": {
      "image/png": "[encoded data removed]",
      "text/latex": [
       "$\\displaystyle \\left( \\frac{\\partial}{\\partial x} e^{i k x}, \\  i k e^{i k x}\\right)$"
      ],
      "text/plain": [
       "⎛∂ ⎛ ⅈ⋅k⋅x⎞       ⅈ⋅k⋅x⎞\n",
       "⎜──⎝ℯ     ⎠, ⅈ⋅k⋅ℯ     ⎟\n",
       "⎝∂x                    ⎠"
      ]
     },
     "execution_count": 40,
     "metadata": {},
     "output_type": "execute_result"
    }
   ],
   "source": [
    "x, k= sp.symbols('x k')\n",
    "w= sp.exp(sp.I*x*k)\n",
    "D1= sp.Derivative(w,x)\n",
    "D1,D1.doit()"
   ]
  },
  {
   "cell_type": "markdown",
   "metadata": {},
   "source": [
    "# Sí es función propia"
   ]
  },
  {
   "cell_type": "code",
   "execution_count": 41,
   "metadata": {},
   "outputs": [
    {
     "data": {
      "image/png": "[encoded data removed]",
      "text/latex": [
       "$\\displaystyle \\left( \\frac{\\partial^{2}}{\\partial x^{2}} e^{i k x}, \\  - k^{2} e^{i k x}\\right)$"
      ],
      "text/plain": [
       "⎛  2                    ⎞\n",
       "⎜ ∂ ⎛ ⅈ⋅k⋅x⎞    2  ⅈ⋅k⋅x⎟\n",
       "⎜───⎝ℯ     ⎠, -k ⋅ℯ     ⎟\n",
       "⎜  2                    ⎟\n",
       "⎝∂x                     ⎠"
      ]
     },
     "execution_count": 41,
     "metadata": {},
     "output_type": "execute_result"
    }
   ],
   "source": [
    "D2= sp.Derivative(w,x,2)\n",
    "D2,D2.doit()"
   ]
  },
  {
   "cell_type": "markdown",
   "metadata": {},
   "source": [
    "# Sí es función propia"
   ]
  },
  {
   "cell_type": "markdown",
   "metadata": {},
   "source": [
    "**<div class=\"alert alert-success\">b) $\\large cos(kx)$**"
   ]
  },
  {
   "cell_type": "code",
   "execution_count": 42,
   "metadata": {},
   "outputs": [
    {
     "data": {
      "image/png": "[encoded data removed]",
      "text/latex": [
       "$\\displaystyle \\left( \\frac{\\partial}{\\partial x} \\cos{\\left(k x \\right)}, \\  - k \\sin{\\left(k x \\right)}\\right)$"
      ],
      "text/plain": [
       "⎛∂                        ⎞\n",
       "⎜──(cos(k⋅x)), -k⋅sin(k⋅x)⎟\n",
       "⎝∂x                       ⎠"
      ]
     },
     "execution_count": 42,
     "metadata": {},
     "output_type": "execute_result"
    }
   ],
   "source": [
    "x, k= sp.symbols('x k')\n",
    "t= sp.cos(x*k)\n",
    "D1= sp.Derivative(t,x)\n",
    "D1,D1.doit()"
   ]
  },
  {
   "cell_type": "markdown",
   "metadata": {},
   "source": [
    "# No es una función propia \n",
    "**<font color=red> Porqué??**"
   ]
  },
  {
   "cell_type": "code",
   "execution_count": 43,
   "metadata": {},
   "outputs": [
    {
     "data": {
      "image/png": "[encoded data removed]",
      "text/latex": [
       "$\\displaystyle \\left( \\frac{\\partial^{2}}{\\partial x^{2}} \\cos{\\left(k x \\right)}, \\  - k^{2} \\cos{\\left(k x \\right)}\\right)$"
      ],
      "text/plain": [
       "⎛  2                        ⎞\n",
       "⎜ ∂               2         ⎟\n",
       "⎜───(cos(k⋅x)), -k ⋅cos(k⋅x)⎟\n",
       "⎜  2                        ⎟\n",
       "⎝∂x                         ⎠"
      ]
     },
     "execution_count": 43,
     "metadata": {},
     "output_type": "execute_result"
    }
   ],
   "source": [
    "D2= sp.Derivative(t,x,2)\n",
    "D2,D2.doit()"
   ]
  },
  {
   "cell_type": "markdown",
   "metadata": {},
   "source": [
    "# Sí es función propia "
   ]
  },
  {
   "cell_type": "markdown",
   "metadata": {},
   "source": [
    "**<div class=\"alert alert-success\">c) $\\large k$**"
   ]
  },
  {
   "cell_type": "code",
   "execution_count": 44,
   "metadata": {},
   "outputs": [
    {
     "data": {
      "image/png": "[encoded data removed]",
      "text/latex": [
       "$\\displaystyle \\left( \\frac{d}{d x} k, \\  0\\right)$"
      ],
      "text/plain": [
       "⎛d       ⎞\n",
       "⎜──(k), 0⎟\n",
       "⎝dx      ⎠"
      ]
     },
     "execution_count": 44,
     "metadata": {},
     "output_type": "execute_result"
    }
   ],
   "source": [
    "x, k= sp.symbols('x k')\n",
    "g= k\n",
    "D1= sp.Derivative(g,x)\n",
    "D1,D1.doit()"
   ]
  },
  {
   "cell_type": "markdown",
   "metadata": {},
   "source": [
    "# No es una función propia"
   ]
  },
  {
   "cell_type": "code",
   "execution_count": 45,
   "metadata": {},
   "outputs": [
    {
     "data": {
      "image/png": "[encoded data removed]",
      "text/latex": [
       "$\\displaystyle \\left( \\frac{d^{2}}{d x^{2}} k, \\  0\\right)$"
      ],
      "text/plain": [
       "⎛  2      ⎞\n",
       "⎜ d       ⎟\n",
       "⎜───(k), 0⎟\n",
       "⎜  2      ⎟\n",
       "⎝dx       ⎠"
      ]
     },
     "execution_count": 45,
     "metadata": {},
     "output_type": "execute_result"
    }
   ],
   "source": [
    "D2=sp.Derivative(g,x,2)\n",
    "D2,D2.doit()"
   ]
  },
  {
   "cell_type": "markdown",
   "metadata": {},
   "source": [
    "# No es una función propia"
   ]
  },
  {
   "cell_type": "markdown",
   "metadata": {},
   "source": [
    "**<div class=\"alert alert-success\">d) $\\large kx$**"
   ]
  },
  {
   "cell_type": "code",
   "execution_count": 46,
   "metadata": {},
   "outputs": [
    {
     "data": {
      "image/png": "[encoded data removed]",
      "text/latex": [
       "$\\displaystyle \\left( \\frac{\\partial}{\\partial x} k x, \\  k\\right)$"
      ],
      "text/plain": [
       "⎛∂         ⎞\n",
       "⎜──(k⋅x), k⎟\n",
       "⎝∂x        ⎠"
      ]
     },
     "execution_count": 46,
     "metadata": {},
     "output_type": "execute_result"
    }
   ],
   "source": [
    "x, k= sp.symbols('x k')\n",
    "r= k*x\n",
    "D1= sp.Derivative(r,x)\n",
    "D1,D1.doit()"
   ]
  },
  {
   "cell_type": "markdown",
   "metadata": {},
   "source": [
    "# No es una función propia"
   ]
  },
  {
   "cell_type": "code",
   "execution_count": 47,
   "metadata": {},
   "outputs": [
    {
     "data": {
      "image/png": "[encoded data removed]",
      "text/latex": [
       "$\\displaystyle \\left( \\frac{\\partial^{2}}{\\partial x^{2}} k x, \\  0\\right)$"
      ],
      "text/plain": [
       "⎛  2        ⎞\n",
       "⎜ ∂         ⎟\n",
       "⎜───(k⋅x), 0⎟\n",
       "⎜  2        ⎟\n",
       "⎝∂x         ⎠"
      ]
     },
     "execution_count": 47,
     "metadata": {},
     "output_type": "execute_result"
    }
   ],
   "source": [
    "D2=sp.Derivative(r,x,2)\n",
    "D2,D2.doit()"
   ]
  },
  {
   "cell_type": "markdown",
   "metadata": {},
   "source": [
    "# No es una función "
   ]
  },
  {
   "cell_type": "markdown",
   "metadata": {},
   "source": [
    "**<div class=\"alert alert-success\">e) $\\large e^{−ax^{2}}$**"
   ]
  },
  {
   "cell_type": "code",
   "execution_count": 48,
   "metadata": {},
   "outputs": [
    {
     "data": {
      "image/png": "[encoded data removed]",
      "text/latex": [
       "$\\displaystyle \\left( \\frac{\\partial}{\\partial x} e^{- a x^{2}}, \\  - 2 a x e^{- a x^{2}}\\right)$"
      ],
      "text/plain": [
       "⎛  ⎛     2⎞              2⎞\n",
       "⎜∂ ⎜ -a⋅x ⎟          -a⋅x ⎟\n",
       "⎜──⎝ℯ     ⎠, -2⋅a⋅x⋅ℯ     ⎟\n",
       "⎝∂x                       ⎠"
      ]
     },
     "execution_count": 48,
     "metadata": {},
     "output_type": "execute_result"
    }
   ],
   "source": [
    "x, a= sp.symbols('x a')\n",
    "q= sp.exp(-a*(x**2))\n",
    "D1= sp.Derivative(q,x)\n",
    "D1,D1.doit()"
   ]
  },
  {
   "cell_type": "markdown",
   "metadata": {},
   "source": [
    "# No es una función "
   ]
  },
  {
   "cell_type": "code",
   "execution_count": 49,
   "metadata": {},
   "outputs": [
    {
     "data": {
      "image/png": "[encoded data removed]",
      "text/latex": [
       "$\\displaystyle \\left( \\frac{\\partial^{2}}{\\partial x^{2}} e^{- a x^{2}}, \\  2 a \\left(2 a x^{2} - 1\\right) e^{- a x^{2}}\\right)$"
      ],
      "text/plain": [
       "⎛  2⎛     2⎞                        2⎞\n",
       "⎜ ∂ ⎜ -a⋅x ⎟      ⎛     2    ⎞  -a⋅x ⎟\n",
       "⎜───⎝ℯ     ⎠, 2⋅a⋅⎝2⋅a⋅x  - 1⎠⋅ℯ     ⎟\n",
       "⎜  2                                 ⎟\n",
       "⎝∂x                                  ⎠"
      ]
     },
     "execution_count": 49,
     "metadata": {},
     "output_type": "execute_result"
    }
   ],
   "source": [
    "D2=sp.Derivative(q,x,2)\n",
    "D2,D2.doit()"
   ]
  },
  {
   "cell_type": "markdown",
   "metadata": {},
   "source": [
    "# No es una función "
   ]
  },
  {
   "cell_type": "markdown",
   "metadata": {},
   "source": [
    "**<div class=\"alert alert-success\">6. Halle los conmutadores siguientes:**\n"
   ]
  },
  {
   "cell_type": "markdown",
   "metadata": {},
   "source": [
    "**<div class=\"alert alert-success\">a) $\\large [\\hat{x}^2,\\frac{d^2}{dx^2}]$**\n"
   ]
  },
  {
   "cell_type": "markdown",
   "metadata": {},
   "source": [
    "$$ \\large [\\hat{x}^2,\\frac{d^2}{dx^2}]f(x) = (\\hat{x^2{\\frac{d^2}{dx^2}}}-\\hat{{\\frac{d^2}{dx^2}}x^2})f(x)=-4x\\frac{d}{dx}f(x)-2f(x)$$"
   ]
  },
  {
   "cell_type": "code",
   "execution_count": 50,
   "metadata": {},
   "outputs": [
    {
     "data": {
      "image/png": "[encoded data removed]",
      "text/latex": [
       "$\\displaystyle \\left( x^{2} \\frac{d^{2}}{d x^{2}} f{\\left(x \\right)} - \\frac{d^{2}}{d x^{2}} x^{2} f{\\left(x \\right)}, \\  - 4 x \\frac{d}{d x} f{\\left(x \\right)} - 2 f{\\left(x \\right)}\\right)$"
      ],
      "text/plain": [
       "⎛     2           2                                  ⎞\n",
       "⎜ 2  d           d ⎛ 2     ⎞        d                ⎟\n",
       "⎜x ⋅───(f(x)) - ───⎝x ⋅f(x)⎠, - 4⋅x⋅──(f(x)) - 2⋅f(x)⎟\n",
       "⎜     2           2                 dx               ⎟\n",
       "⎝   dx          dx                                   ⎠"
      ]
     },
     "execution_count": 50,
     "metadata": {},
     "output_type": "execute_result"
    }
   ],
   "source": [
    "x=sp.symbols('x')\n",
    "f=sp.Function('f')(x)\n",
    "EqCC=x**2*sp.Derivative(f, x, 2)-sp.Derivative(((x**2)*f), x, 2)\n",
    "EqCC, EqCC.doit()"
   ]
  },
  {
   "cell_type": "markdown",
   "metadata": {},
   "source": [
    "Los operadores posición cuadrada y segunda derivada no conmutan."
   ]
  },
  {
   "cell_type": "markdown",
   "metadata": {},
   "source": [
    "**<div class=\"alert alert-success\">b) $\\large [\\hat{x},\\hat{p}_x]$**"
   ]
  },
  {
   "cell_type": "markdown",
   "metadata": {},
   "source": [
    "$$ \\large [\\hat{x},\\hat{p_x}]f(x) = (\\hat{x{p_x}}-\\hat{{p_x}x})f(x)=i\\hbar f(x)$$"
   ]
  },
  {
   "cell_type": "code",
   "execution_count": 51,
   "metadata": {},
   "outputs": [
    {
     "data": {
      "image/png": "[encoded data removed]",
      "text/latex": [
       "$\\displaystyle \\left( - i \\hbar x \\frac{d}{d x} f{\\left(x \\right)} + i \\hbar \\frac{d}{d x} x f{\\left(x \\right)}, \\  - i \\hbar x \\frac{d}{d x} f{\\left(x \\right)} + i \\hbar \\left(x \\frac{d}{d x} f{\\left(x \\right)} + f{\\left(x \\right)}\\right)\\right)$"
      ],
      "text/plain": [
       "⎛        d              d                   d              ⎛  d              ⎞\n",
       "⎜- ⅈ⋅h̅⋅x⋅──(f(x)) + ⅈ⋅h̅⋅──(x⋅f(x)), - ⅈ⋅h̅⋅x⋅──(f(x)) + ⅈ⋅h̅⋅⎜x⋅──(f(x)) + f\n",
       "⎝        dx             dx                  dx             ⎝  dx             ⎠\n",
       "\n",
       "⎞\n",
       "(x)⎟⎟\n",
       "⎠"
      ]
     },
     "execution_count": 51,
     "metadata": {},
     "output_type": "execute_result"
    }
   ],
   "source": [
    "x, hbar=sp.symbols('x hbar')\n",
    "f=sp.Function('f')(x)\n",
    "#P=-sp.I*hbar*sp.Derivative()\n",
    "EqCC=x*-sp.I*hbar*sp.Derivative(f, x)--sp.I*hbar*sp.Derivative(x*f, x)\n",
    "EqCC, EqCC.doit()"
   ]
  },
  {
   "cell_type": "markdown",
   "metadata": {},
   "source": [
    "Los operadores posición y momento no conmutan.\n",
    "\n",
    "**<font color=red> Expliquen lo que hicieron!!**"
   ]
  },
  {
   "cell_type": "markdown",
   "metadata": {},
   "source": [
    "**<div class=\"alert alert-success\">c) $\\large [\\hat{p}_x,\\hat{H}_x]$**"
   ]
  },
  {
   "cell_type": "markdown",
   "metadata": {},
   "source": [
    "**$$ \\large [\\hat{p}_x,\\hat{H}_x]=\\hat{p_x{H}_x}-\\hat{H_x{p}_x} =((-i\\hbar(\\frac{-\\hbar^2}{2m}\\frac{d^2}{dx^2})-(\\frac{-\\hbar^2}{2m}\\frac{d^2}{dx^2}(-i\\hbar)))(f(x))=0 $$**"
   ]
  },
  {
   "cell_type": "code",
   "execution_count": 52,
   "metadata": {},
   "outputs": [
    {
     "data": {
      "image/png": "[encoded data removed]",
      "text/latex": [
       "$\\displaystyle \\left( \\frac{i \\hbar^{3} \\frac{d^{2}}{d x^{2}} f{\\left(x \\right)}}{2 m} + \\frac{\\hbar^{2} \\frac{\\partial^{2}}{\\partial x^{2}} \\left(- i \\hbar f{\\left(x \\right)}\\right)}{2 m}, \\  0\\right)$"
      ],
      "text/plain": [
       "⎛       2              2              ⎞\n",
       "⎜   3  d           2  ∂               ⎟\n",
       "⎜ⅈ⋅h̅ ⋅───(f(x))   h̅ ⋅───(-ⅈ⋅h̅⋅f(x))   ⎟\n",
       "⎜       2              2              ⎟\n",
       "⎜     dx             ∂x               ⎟\n",
       "⎜────────────── + ─────────────────, 0⎟\n",
       "⎝     2⋅m                2⋅m          ⎠"
      ]
     },
     "execution_count": 52,
     "metadata": {},
     "output_type": "execute_result"
    }
   ],
   "source": [
    "x, hbar, m=sp.symbols('x hbar m')\n",
    "f=sp.Function('f')(x)\n",
    "EqCC=(-sp.I*hbar*-hbar**2/(2*m))*sp.Derivative(f, x, 2)-(-hbar**2/(2*m)*sp.Derivative(-sp.I*hbar*f, x, 2))\n",
    "EqCC, EqCC.doit()"
   ]
  },
  {
   "cell_type": "markdown",
   "metadata": {},
   "source": [
    "El operador momento y Hamiltoniano sí conmutan."
   ]
  },
  {
   "cell_type": "markdown",
   "metadata": {},
   "source": [
    "**<div class=\"alert alert-danger\">7. Calcule $\\large [\\hat{x}^2,\\frac{d^2}{dx^2}](e^{x^2}+cos(2x))$:**"
   ]
  },
  {
   "cell_type": "code",
   "execution_count": 53,
   "metadata": {},
   "outputs": [
    {
     "data": {
      "image/png": "[encoded data removed]",
      "text/latex": [
       "$\\displaystyle \\left( x^{2} \\frac{d^{2}}{d x^{2}} \\left(e^{x^{2}} + \\cos{\\left(2 x \\right)}\\right) - \\frac{d^{2}}{d x^{2}} x^{2} \\left(e^{x^{2}} + \\cos{\\left(2 x \\right)}\\right), \\  2 x^{2} \\left(2 x^{2} e^{x^{2}} + e^{x^{2}} - 2 \\cos{\\left(2 x \\right)}\\right) - 2 \\left(x^{2} \\left(2 x^{2} e^{x^{2}} + e^{x^{2}} - 2 \\cos{\\left(2 x \\right)}\\right) + 4 x \\left(x e^{x^{2}} - \\sin{\\left(2 x \\right)}\\right) + e^{x^{2}} + \\cos{\\left(2 x \\right)}\\right)\\right)$"
      ],
      "text/plain": [
       "⎛     2⎛ ⎛ 2⎞           ⎞     2⎛   ⎛ ⎛ 2⎞           ⎞⎞       ⎛      ⎛ 2⎞    ⎛ \n",
       "⎜ 2  d ⎜ ⎝x ⎠           ⎟    d ⎜ 2 ⎜ ⎝x ⎠           ⎟⎟     2 ⎜   2  ⎝x ⎠    ⎝x\n",
       "⎜x ⋅───⎝ℯ     + cos(2⋅x)⎠ - ───⎝x ⋅⎝ℯ     + cos(2⋅x)⎠⎠, 2⋅x ⋅⎝2⋅x ⋅ℯ     + ℯ  \n",
       "⎜     2                       2                                               \n",
       "⎝   dx                      dx                                                \n",
       "\n",
       "2⎞             ⎞     ⎛   ⎛      ⎛ 2⎞    ⎛ 2⎞             ⎞       ⎛   ⎛ 2⎞     \n",
       " ⎠             ⎟     ⎜ 2 ⎜   2  ⎝x ⎠    ⎝x ⎠             ⎟       ⎜   ⎝x ⎠     \n",
       "   - 2⋅cos(2⋅x)⎠ - 2⋅⎝x ⋅⎝2⋅x ⋅ℯ     + ℯ     - 2⋅cos(2⋅x)⎠ + 4⋅x⋅⎝x⋅ℯ     - si\n",
       "                                                                              \n",
       "                                                                              \n",
       "\n",
       "      ⎞    ⎛ 2⎞           ⎞⎞\n",
       "      ⎟    ⎝x ⎠           ⎟⎟\n",
       "n(2⋅x)⎠ + ℯ     + cos(2⋅x)⎠⎟\n",
       "                           ⎟\n",
       "                           ⎠"
      ]
     },
     "execution_count": 53,
     "metadata": {},
     "output_type": "execute_result"
    }
   ],
   "source": [
    "x=sp.symbols('x')\n",
    "f=sp.exp(x**2)+sp.cos(2*x)\n",
    "EqCC=x**2*sp.Derivative(f,x,2)-sp.Derivative(((x**2)*f), x, x)\n",
    "EqCC, EqCC.doit()"
   ]
  },
  {
   "cell_type": "markdown",
   "metadata": {},
   "source": [
    "\n",
    "**<div class=\"alert alert-danger\">8. Deduzca si cada una de las expresiones siguientes es un operador o una función.**\n"
   ]
  },
  {
   "cell_type": "markdown",
   "metadata": {},
   "source": [
    "**<div class=\"alert alert-danger\">a) $\\large \\hat{A}\\hat{B}g(x)$**"
   ]
  },
  {
   "cell_type": "markdown",
   "metadata": {},
   "source": [
    "# Es una función"
   ]
  },
  {
   "cell_type": "markdown",
   "metadata": {},
   "source": [
    "**<div class=\"alert alert-danger\">b) $\\large \\hat{A}\\hat{B}+\\hat{B}\\hat{A}$**"
   ]
  },
  {
   "cell_type": "markdown",
   "metadata": {},
   "source": [
    "# Es un operador"
   ]
  },
  {
   "cell_type": "markdown",
   "metadata": {},
   "source": [
    "<div class=\"alert alert-danger\">c) $\\large \\hat{B^2}f(x)$"
   ]
  },
  {
   "cell_type": "markdown",
   "metadata": {},
   "source": [
    "# Es una función"
   ]
  },
  {
   "cell_type": "markdown",
   "metadata": {},
   "source": [
    "**<div class=\"alert alert-danger\">d) $\\large f(x)^*\\hat{A}f(x)$**"
   ]
  },
  {
   "cell_type": "markdown",
   "metadata": {},
   "source": [
    "# Es una función"
   ]
  },
  {
   "cell_type": "markdown",
   "metadata": {},
   "source": [
    "**<div class=\"alert alert-danger\">9. Si la posición de un electrón se mide con una precisión de ±0.001 Å ¿Cuál será la máxima precisión para el momento?**"
   ]
  },
  {
   "cell_type": "code",
   "execution_count": 54,
   "metadata": {},
   "outputs": [
    {
     "data": {
      "image/png": "[encoded data removed]",
      "text/latex": [
       "$\\displaystyle 3.3129999999999998e-21$"
      ],
      "text/plain": [
       "3.3129999999999998e-21"
      ]
     },
     "execution_count": 54,
     "metadata": {},
     "output_type": "execute_result"
    }
   ],
   "source": [
    "h=6626*10**(-3)*10**-34\n",
    "dp=h/(2*1*10**(-3)*10**(-10))\n",
    "dp"
   ]
  },
  {
   "cell_type": "markdown",
   "metadata": {},
   "source": [
    "$$\\Delta{x}\\Delta{p}>\\frac{\\hbar}{2}, \\Delta{p}=\\frac{\\hbar}{2\\Delta{x}} $$"
   ]
  },
  {
   "cell_type": "markdown",
   "metadata": {},
   "source": [
    "**<div class=\"alert alert-danger\">10. Demuestre que en el intervalo 0 ≤ θ ≤ 2π, las funciones $\\large e^{inθ}$, donde n=0, ±1, ±2, ..., forman un conjunto de funciones ortogonales. Halle la constante de normalización para este conjunto de funciones.**"
   ]
  },
  {
   "cell_type": "code",
   "execution_count": 55,
   "metadata": {},
   "outputs": [
    {
     "data": {
      "image/png": "[encoded data removed]",
      "text/latex": [
       "$\\displaystyle \\left( \\int\\limits_{0}^{2 \\pi} e^{- 5 i tta} e^{- 5 i \\overline{tta}}\\, dtta, \\  0\\right)$"
      ],
      "text/plain": [
       "⎛2⋅π                              ⎞\n",
       "⎜ ⌠                               ⎟\n",
       "⎜ ⎮                  ___          ⎟\n",
       "⎜ ⎮   -5⋅ⅈ⋅tta  -5⋅ⅈ⋅tta          ⎟\n",
       "⎜ ⎮  ℯ        ⋅ℯ         d(tta), 0⎟\n",
       "⎜ ⌡                               ⎟\n",
       "⎝ 0                               ⎠"
      ]
     },
     "execution_count": 55,
     "metadata": {},
     "output_type": "execute_result"
    }
   ],
   "source": [
    "tta=sp.Symbol('tta')\n",
    "n=int(5)\n",
    "m=int(-5)\n",
    "f=sp.exp(sp.I*tta*n)\n",
    "g=sp.exp(sp.I*tta*m)\n",
    "fc1=sp.conjugate(f)\n",
    "If=sp.Integral(fc1*g, (tta, 0, 2*sp.pi))\n",
    "If, If.doit()"
   ]
  },
  {
   "cell_type": "markdown",
   "metadata": {},
   "source": [
    "# Para  2 funciones (con n y m enteros diferentes entre sí),  se comprueba que son ortogonales."
   ]
  },
  {
   "cell_type": "code",
   "execution_count": 56,
   "metadata": {},
   "outputs": [
    {
     "data": {
      "image/png": "[encoded data removed]",
      "text/latex": [
       "$\\displaystyle \\left( \\int\\limits_{0}^{2 \\pi} e^{5 i tta} e^{- 5 i \\overline{tta}}\\, dtta, \\  2 \\pi\\right)$"
      ],
      "text/plain": [
       "⎛2⋅π                               ⎞\n",
       "⎜ ⌠                                ⎟\n",
       "⎜ ⎮                 ___            ⎟\n",
       "⎜ ⎮   5⋅ⅈ⋅tta  -5⋅ⅈ⋅tta            ⎟\n",
       "⎜ ⎮  ℯ       ⋅ℯ         d(tta), 2⋅π⎟\n",
       "⎜ ⌡                                ⎟\n",
       "⎝ 0                                ⎠"
      ]
     },
     "execution_count": 56,
     "metadata": {},
     "output_type": "execute_result"
    }
   ],
   "source": [
    "If=sp.Integral(f*fc1, (tta, 0, 2*sp.pi))\n",
    "If, If.doit()"
   ]
  }
 ],
 "metadata": {
  "kernelspec": {
   "display_name": "Python 3",
   "language": "python",
   "name": "python3"
  },
  "language_info": {
   "codemirror_mode": {
    "name": "ipython",
    "version": 3
   },
   "file_extension": ".py",
   "mimetype": "text/x-python",
   "name": "python",
   "nbconvert_exporter": "python",
   "pygments_lexer": "ipython3",
   "version": "3.8.3"
  }
 },
 "nbformat": 4,
 "nbformat_minor": 4
}

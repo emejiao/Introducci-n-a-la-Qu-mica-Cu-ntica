{
 "cells": [
  {
   "cell_type": "code",
   "execution_count": 1,
   "metadata": {},
   "outputs": [],
   "source": [
    "from IPython.display import HTML"
   ]
  },
  {
   "cell_type": "markdown",
   "metadata": {
    "slideshow": {
     "slide_type": "slide"
    }
   },
   "source": [
    "<div class=\"alert alert-success\" role=\"alert\">\n",
    "  <h2 class=\"alert-heading\">Introducción a la Química Cuántica: Taller 1-Postulados de la Mecánica Cuántica</h2>\n",
    "  <h3 class=\"alert-heading\">Prof. Enrique Mejía Ospino, emejia@uis.edu.co</h3>\n",
    "  <h3 class=\"alert-heading\">Escuela de Química</h3>\n",
    "  <h3 class=\"alert-heading\">Universidad Industrial de Santander</h3>\n",
    "  <p>\n",
    "  </div>"
   ]
  },
  {
   "cell_type": "markdown",
   "metadata": {},
   "source": [
    "## <font color=red> NOTA: 3.0"
   ]
  },
  {
   "cell_type": "markdown",
   "metadata": {},
   "source": [
    "### **<font color=red> Cuando se resuelven problemas físicos a través o con el uso de la matemática, es necesario explicar y comentar el desarrollo de la solucion y el resultado del mismo a la luz de la teoría física que esatmos tratando**"
   ]
  },
  {
   "cell_type": "markdown",
   "metadata": {
    "slideshow": {
     "slide_type": "slide"
    }
   },
   "source": [
    "### <div class=\"alert alert-info\"><font color='blue'> <h2 class=\"alert-heading\">Preguntas</h2>"
   ]
  },
  {
   "cell_type": "markdown",
   "metadata": {
    "slideshow": {
     "slide_type": "subslide"
    }
   },
   "source": [
    "**<div class=\"alert alert-warning\">1. Determinar cuáles de las siguientes funciones son aceptables como funciones de onda, definidas en los intervalos indicados.**\n",
    "**<div class=\"alert alert-warning\">a) $\\large \\frac{1}{x} [0,\\infty)$**\n",
    "**<div class=\"alert alert-warning\">b) $\\large e^{-|x|} (-\\infty, +\\infty)$**\n",
    "**<div class=\"alert alert-warning\">c) $\\large sen(x) [-4π, 4π]$**\n",
    "**<div class=\"alert alert-warning\">d) $\\large e^{-x} [0, \\infty)$**\n",
    "**<div class=\"alert alert-warning\">e) $\\large e^{-x}sen(x) [0, \\infty)$**\n",
    "\n",
    "**<div class=\"alert alert-info\">2. De las siguientes funciones, normalice aquellas en que la normalización sea posible:**\n",
    "**<div class=\"alert alert-info\">a) $\\large e^{-x} [0, \\infty)$**\n",
    "**<div class=\"alert alert-info\">b) $\\large e^{i\\theta} [0, 2\\pi]$**\n",
    "**<div class=\"alert alert-info\">c) $\\large xe^{-x} [0, \\infty)$**\n",
    "\n",
    "\n",
    "**<div class=\"alert alert-warning\">3. La función de onda para una partícula en un sistema monodimensional definido entre $\\large x = 0$ y $\\large x = \\infty$, a $\\large t=0$ es $\\large \\Psi = \\sqrt{\\frac{2}{a}}e^{\\frac{-x}{a}}$ donde $\\large a$ es 1.0 nm. A $\\large t=0$ se mide la posición de la partícula.\n",
    "a) Calcular la probabilidad de que la partícula se encuentre entre $\\large x=1.5000 nm$ y $\\large x=1.5001\n",
    "nm$. b) Calcular la probabilidad de que la partícula se encuentre entre $\\large x=0$ y $\\large x=2 nm$. c)\n",
    "Verifique que la función de onda está normalizada.**\n",
    "\n",
    "**<div class=\"alert alert-warning\">4. Indique cuál de los siguientes operadores es lineal:**\n",
    "**<div class=\"alert alert-warning\">a) $\\large \\hat{A}f(x)=\\frac{df(x)}{dx}$ (derivada de $\\large f(x)$)**\n",
    "**<div class=\"alert alert-warning\">b) $\\large \\hat{A}f(x)=f^*(x)$ (forma la compleja conjugada de $\\large f(x)$)**\n",
    "**<div class=\"alert alert-warning\">c) $\\large \\hat{A}f(x)=ln f(x)$ (toma el logaritmo de $\\large f(x)$)**\n",
    "**<div class=\"alert alert-warning\">d) $\\large \\hat{A}f(x)= \\int f(x)dx$ (f (integral de $\\large f(x)$)**\n",
    "    \n",
    "**<div class=\"alert alert-success\">5. a) Cuál de las siguientes funciones es autofunción del operador $\\large d/dx$:** \n",
    "**<div class=\"alert alert-success\">a) $\\large e^{ikx}$ ; b) $\\large cos(kx)$ ; c) $\\large k$, d) $\\large kx$ ; e) $\\large e^{−ax^{2}}$. ¿Cuáles son sus autovalores? b) Determine cuáles de las funciones anteriores es también autofunción del operador $\\large \\frac{d^2}{dx^2}$ y dé los autovalores correspondientes.**\n",
    "    \n",
    "**<div class=\"alert alert-success\">6. Halle los conmutadores siguientes:**\n",
    "**<div class=\"alert alert-success\">a) $\\large [\\hat{x}^2,\\frac{d^2}{dx^2}]$**\n",
    "**<div class=\"alert alert-success\">b) $\\large [\\hat{x},\\hat{p}_x]$**\n",
    "**<div class=\"alert alert-success\">c) $\\large [\\hat{p}_x,\\hat{H}_x]$**\n",
    "    \n",
    "**<div class=\"alert alert-danger\">7. Calcule $\\large [\\hat{x}^2,\\frac{d^2}{dx^2}](e^{x^2}+cos(2x))$:**\n",
    "\n",
    "**<div class=\"alert alert-danger\">8. Deduzca si cada una de las expresiones siguientes es un operador o una función.**\n",
    "**<div class=\"alert alert-danger\">a) $\\large \\hat{A}\\hat{B}g(x)$ ; b) $\\large \\hat{A}\\hat{B}+\\hat{B}\\hat{A}$ ; c) $\\large \\hat{B^2}f(x)$, d) $\\large f(x)^*\\hat{A}f(x)$**\n",
    "    \n",
    "**<div class=\"alert alert-danger\">9. Si la posición de un electrón se mide con una precisión de ±0.001 Å ¿Cuál será la máxima precisión para el momento?**\n",
    "\n",
    "**<div class=\"alert alert-danger\">10. Demuestre que en el intervalo 0 ≤ θ ≤ 2π, las funciones $\\large e^{inθ}$, donde n=0, ±1, ±2, ..., forman un conjunto de funciones ortogonales. Halle la constante de normalización para este conjunto de funciones.**"
   ]
  },
  {
   "cell_type": "code",
   "execution_count": 2,
   "metadata": {},
   "outputs": [],
   "source": [
    "import matplotlib as npl\n",
    "import matplotlib.pylab as plt\n",
    "import numpy as np\n",
    "import sympy as sp\n",
    "import math \n",
    "from math import pi as pi \n",
    "from math import sqrt\n",
    "from sympy import sqrt\n",
    "from numpy import sqrt\n",
    "from math import e\n",
    "from sympy import cos\n",
    "sp.init_printing(use_unicode=True)"
   ]
  },
  {
   "cell_type": "markdown",
   "metadata": {},
   "source": [
    "\n",
    "### **<div class=\"alert alert-info\"><center> PRIMER PUNTO**"
   ]
  },
  {
   "cell_type": "markdown",
   "metadata": {},
   "source": [
    "**<div class=\"alert alert-success\">a) $\\large \\frac{1}{x} [0,\\infty)$**"
   ]
  },
  {
   "cell_type": "code",
   "execution_count": 3,
   "metadata": {},
   "outputs": [
    {
     "data": {
      "text/plain": [
       "Text(0, 0.5, 'f(x)')"
      ]
     },
     "execution_count": 3,
     "metadata": {},
     "output_type": "execute_result"
    },
    {
     "data": {
      "image/png": "[encoded data removed]",
      "text/plain": [
       "<Figure size 432x288 with 1 Axes>"
      ]
     },
     "metadata": {
      "needs_background": "light"
     },
     "output_type": "display_data"
    }
   ],
   "source": [
    "#from matplotlib.font_manager import fontproperties\n",
    "x = np.arange(0.1, 2.0, 0.01)\n",
    "f=1/x\n",
    "plt.plot(x, f, 'r-', linewidth=2)\n",
    "plt.title('$f(x)=1/x$')\n",
    "plt.xlabel('x')\n",
    "plt.ylabel('f(x)')"
   ]
  },
  {
   "cell_type": "code",
   "execution_count": 4,
   "metadata": {},
   "outputs": [
    {
     "data": {
      "image/png": "[encoded data removed]",
      "text/latex": [
       "$\\displaystyle \\left( \\frac{d}{d x} \\frac{1}{x}, \\  - \\frac{1}{x^{2}}\\right)$"
      ],
      "text/plain": [
       "⎛d ⎛1⎞  -1 ⎞\n",
       "⎜──⎜─⎟, ───⎟\n",
       "⎜dx⎝x⎠    2⎟\n",
       "⎝        x ⎠"
      ]
     },
     "execution_count": 4,
     "metadata": {},
     "output_type": "execute_result"
    }
   ],
   "source": [
    "x=sp.Symbol('x')\n",
    "Df=sp.Derivative(1/x, x)\n",
    "Df, Df.doit()"
   ]
  },
  {
   "cell_type": "code",
   "execution_count": 5,
   "metadata": {},
   "outputs": [
    {
     "data": {
      "image/png": "[encoded data removed]",
      "text/latex": [
       "$\\displaystyle \\left( \\frac{d^{2}}{d x^{2}} \\frac{1}{x}, \\  \\frac{2}{x^{3}}\\right)$"
      ],
      "text/plain": [
       "⎛  2       ⎞\n",
       "⎜ d ⎛1⎞  2 ⎟\n",
       "⎜───⎜─⎟, ──⎟\n",
       "⎜  2⎝x⎠   3⎟\n",
       "⎝dx      x ⎠"
      ]
     },
     "execution_count": 5,
     "metadata": {},
     "output_type": "execute_result"
    }
   ],
   "source": [
    "x=sp.Symbol('x')\n",
    "D2f=sp.Derivative(1/x, x, 2)\n",
    "D2f, D2f.doit()"
   ]
  },
  {
   "cell_type": "code",
   "execution_count": 6,
   "metadata": {},
   "outputs": [
    {
     "data": {
      "image/png": "[encoded data removed]",
      "text/latex": [
       "$\\displaystyle \\left( \\int\\limits_{0}^{\\infty} \\frac{1}{x^{2}}\\, dx, \\  \\infty\\right)$"
      ],
      "text/plain": [
       "⎛∞         ⎞\n",
       "⎜⌠         ⎟\n",
       "⎜⎮ 1       ⎟\n",
       "⎜⎮ ── dx, ∞⎟\n",
       "⎜⎮  2      ⎟\n",
       "⎜⎮ x       ⎟\n",
       "⎜⌡         ⎟\n",
       "⎝0         ⎠"
      ]
     },
     "execution_count": 6,
     "metadata": {},
     "output_type": "execute_result"
    }
   ],
   "source": [
    "x=sp.Symbol('x')\n",
    "If=sp.Integral((1/x)**2, (x, 0, sp.oo))\n",
    "If, If.doit()\n"
   ]
  },
  {
   "cell_type": "markdown",
   "metadata": {},
   "source": [
    "<div class=\"alert alert-warning\">No es funcion de onda \n",
    "\n",
    "**<font color=red> Debría referirse de la siguiente forma; No es una función de onda bien comportada, no cumple con las condiciones del postulado 1**"
   ]
  },
  {
   "cell_type": "markdown",
   "metadata": {},
   "source": [
    "**<div class=\"alert alert-success\">b) $\\large e^{-|x|} (-\\infty, +\\infty)$**"
   ]
  },
  {
   "cell_type": "code",
   "execution_count": 8,
   "metadata": {},
   "outputs": [
    {
     "data": {
      "text/plain": [
       "Text(0, 0.5, 'f(x)')"
      ]
     },
     "execution_count": 8,
     "metadata": {},
     "output_type": "execute_result"
    },
    {
     "data": {
      "image/png": "[encoded data removed]",
      "text/plain": [
       "<Figure size 432x288 with 1 Axes>"
      ]
     },
     "metadata": {
      "needs_background": "light"
     },
     "output_type": "display_data"
    }
   ],
   "source": [
    "#from matplotlib.font_manager import fontproperties\n",
    "x = np.arange(-4,  4, 0.01)\n",
    "f=np.exp(-abs(x))\n",
    "plt.plot(x, f, 'r-', linewidth=2)\n",
    "plt.title('$f(x)=e^{-|x|}$')\n",
    "plt.xlabel('x')\n",
    "plt.ylabel('f(x)')"
   ]
  },
  {
   "cell_type": "code",
   "execution_count": 9,
   "metadata": {},
   "outputs": [
    {
     "data": {
      "image/png": "[encoded data removed]",
      "text/latex": [
       "$\\displaystyle \\left( \\frac{d}{d x} e^{- \\left|{x}\\right|}, \\  - \\frac{\\left(\\operatorname{re}{\\left(x\\right)} \\frac{d}{d x} \\operatorname{re}{\\left(x\\right)} + \\operatorname{im}{\\left(x\\right)} \\frac{d}{d x} \\operatorname{im}{\\left(x\\right)}\\right) e^{- \\left|{x}\\right|} \\operatorname{sign}{\\left(x \\right)}}{x}\\right)$"
      ],
      "text/plain": [
       "⎛            ⎛      d                 d        ⎞  -│x│         ⎞\n",
       "⎜           -⎜re(x)⋅──(re(x)) + im(x)⋅──(im(x))⎟⋅ℯ    ⋅sign(x) ⎟\n",
       "⎜d ⎛ -│x│⎞   ⎝      dx                dx       ⎠               ⎟\n",
       "⎜──⎝ℯ    ⎠, ───────────────────────────────────────────────────⎟\n",
       "⎝dx                                  x                         ⎠"
      ]
     },
     "execution_count": 9,
     "metadata": {},
     "output_type": "execute_result"
    }
   ],
   "source": [
    "x=sp.Symbol('x')\n",
    "Df=sp.Derivative(sp.exp(-abs(x)), x)\n",
    "Df, Df.doit()"
   ]
  },
  {
   "cell_type": "code",
   "execution_count": 10,
   "metadata": {},
   "outputs": [
    {
     "data": {
      "image/png": "[encoded data removed]",
      "text/latex": [
       "$\\displaystyle \\left( \\frac{d^{2}}{d x^{2}} e^{- \\left|{x}\\right|}, \\  \\frac{\\left(- \\left(\\operatorname{re}{\\left(x\\right)} \\frac{d}{d x} \\operatorname{re}{\\left(x\\right)} + \\operatorname{im}{\\left(x\\right)} \\frac{d}{d x} \\operatorname{im}{\\left(x\\right)}\\right) \\frac{d}{d x} \\operatorname{sign}{\\left(x \\right)} - \\left(\\operatorname{re}{\\left(x\\right)} \\frac{d^{2}}{d x^{2}} \\operatorname{re}{\\left(x\\right)} + \\operatorname{im}{\\left(x\\right)} \\frac{d^{2}}{d x^{2}} \\operatorname{im}{\\left(x\\right)} + \\left(\\frac{d}{d x} \\operatorname{re}{\\left(x\\right)}\\right)^{2} + \\left(\\frac{d}{d x} \\operatorname{im}{\\left(x\\right)}\\right)^{2}\\right) \\operatorname{sign}{\\left(x \\right)} + \\frac{\\left(\\operatorname{re}{\\left(x\\right)} \\frac{d}{d x} \\operatorname{re}{\\left(x\\right)} + \\operatorname{im}{\\left(x\\right)} \\frac{d}{d x} \\operatorname{im}{\\left(x\\right)}\\right)^{2} \\operatorname{sign}^{2}{\\left(x \\right)}}{x} + \\frac{\\left(\\operatorname{re}{\\left(x\\right)} \\frac{d}{d x} \\operatorname{re}{\\left(x\\right)} + \\operatorname{im}{\\left(x\\right)} \\frac{d}{d x} \\operatorname{im}{\\left(x\\right)}\\right) \\operatorname{sign}{\\left(x \\right)}}{x}\\right) e^{- \\left|{x}\\right|}}{x}\\right)$"
      ],
      "text/plain": [
       "⎛            ⎛                                                                \n",
       "⎜            ⎜                                                                \n",
       "⎜            ⎜                                                    ⎛        2  \n",
       "⎜            ⎜  ⎛      d                 d        ⎞ d             ⎜       d   \n",
       "⎜            ⎜- ⎜re(x)⋅──(re(x)) + im(x)⋅──(im(x))⎟⋅──(sign(x)) - ⎜re(x)⋅───(r\n",
       "⎜  2         ⎜  ⎝      dx                dx       ⎠ dx            ⎜        2  \n",
       "⎜ d ⎛ -│x│⎞  ⎝                                                    ⎝      dx   \n",
       "⎜───⎝ℯ    ⎠, ─────────────────────────────────────────────────────────────────\n",
       "⎜  2                                                                          \n",
       "⎝dx                                                                           \n",
       "\n",
       "                                                                              \n",
       "                                                                  ⎛      d    \n",
       "                2                     2              2⎞           ⎜re(x)⋅──(re\n",
       "               d           ⎛d        ⎞    ⎛d        ⎞ ⎟           ⎝      dx   \n",
       "e(x)) + im(x)⋅───(im(x)) + ⎜──(re(x))⎟  + ⎜──(im(x))⎟ ⎟⋅sign(x) + ────────────\n",
       "                2          ⎝dx       ⎠    ⎝dx       ⎠ ⎟                       \n",
       "              dx                                      ⎠                       \n",
       "──────────────────────────────────────────────────────────────────────────────\n",
       "                                                 x                            \n",
       "                                                                              \n",
       "\n",
       "                       2                                                      \n",
       "             d        ⎞      2      ⎛      d                 d        ⎞       \n",
       "(x)) + im(x)⋅──(im(x))⎟ ⋅sign (x)   ⎜re(x)⋅──(re(x)) + im(x)⋅──(im(x))⎟⋅sign(x\n",
       "             dx       ⎠             ⎝      dx                dx       ⎠       \n",
       "───────────────────────────────── + ──────────────────────────────────────────\n",
       "          x                                              x                    \n",
       "                                                                              \n",
       "──────────────────────────────────────────────────────────────────────────────\n",
       "                                                                              \n",
       "                                                                              \n",
       "\n",
       " ⎞      ⎞\n",
       " ⎟      ⎟\n",
       ")⎟      ⎟\n",
       " ⎟  -│x│⎟\n",
       "─⎟⋅ℯ    ⎟\n",
       " ⎟      ⎟\n",
       " ⎠      ⎟\n",
       "────────⎟\n",
       "        ⎟\n",
       "        ⎠"
      ]
     },
     "execution_count": 10,
     "metadata": {},
     "output_type": "execute_result"
    }
   ],
   "source": [
    "x=sp.Symbol('x')\n",
    "D2f=sp.Derivative(sp.exp(-abs(x)), x, 2)\n",
    "D2f, D2f.doit()"
   ]
  },
  {
   "cell_type": "code",
   "execution_count": 11,
   "metadata": {},
   "outputs": [
    {
     "data": {
      "image/png": "[encoded data removed]",
      "text/latex": [
       "$\\displaystyle \\left( \\int\\limits_{-\\infty}^{\\infty} e^{- 2 \\left|{x}\\right|}\\, dx, \\  1\\right)$"
      ],
      "text/plain": [
       "⎛∞               ⎞\n",
       "⎜⌠               ⎟\n",
       "⎜⎮   -2⋅│x│      ⎟\n",
       "⎜⎮  ℯ       dx, 1⎟\n",
       "⎜⌡               ⎟\n",
       "⎝-∞              ⎠"
      ]
     },
     "execution_count": 11,
     "metadata": {},
     "output_type": "execute_result"
    }
   ],
   "source": [
    "x=sp.Symbol('x')\n",
    "If=sp.Integral(sp.exp(-abs(x))**2, (x, -sp.oo, sp.oo))\n",
    "If, If.doit()"
   ]
  },
  {
   "cell_type": "markdown",
   "metadata": {},
   "source": [
    "<div class=\"alert alert-warning\"> no es función de onda ya que no es una derivada continua \n",
    "\n",
    "**<font color=red> Debría referirse de la siguiente forma; No es una función de onda bien comportada, no cumple con las condiciones del postulado 1**"
   ]
  },
  {
   "cell_type": "markdown",
   "metadata": {},
   "source": [
    "**<div class=\"alert alert-success\">c) $\\large sen(x) [-4π, 4π]$**"
   ]
  },
  {
   "cell_type": "code",
   "execution_count": 12,
   "metadata": {},
   "outputs": [
    {
     "data": {
      "text/plain": [
       "Text(0, 0.5, 'f(x)')"
      ]
     },
     "execution_count": 12,
     "metadata": {},
     "output_type": "execute_result"
    },
    {
     "data": {
      "image/png": "[encoded data removed]",
      "text/plain": [
       "<Figure size 432x288 with 1 Axes>"
      ]
     },
     "metadata": {
      "needs_background": "light"
     },
     "output_type": "display_data"
    }
   ],
   "source": [
    "x = np.arange(-10,  10, 0.01)\n",
    "f=np.sin(x)\n",
    "plt.plot(x, f, 'r', linewidth=2)\n",
    "plt.title('$f(x)=sen(x)$')\n",
    "plt.xlabel('x')\n",
    "plt.ylabel('f(x)')"
   ]
  },
  {
   "cell_type": "code",
   "execution_count": 13,
   "metadata": {},
   "outputs": [
    {
     "data": {
      "image/png": "[encoded data removed]",
      "text/latex": [
       "$\\displaystyle \\left( \\frac{d}{d x} \\sin{\\left(x \\right)}, \\  \\cos{\\left(x \\right)}\\right)$"
      ],
      "text/plain": [
       "⎛d                 ⎞\n",
       "⎜──(sin(x)), cos(x)⎟\n",
       "⎝dx                ⎠"
      ]
     },
     "execution_count": 13,
     "metadata": {},
     "output_type": "execute_result"
    }
   ],
   "source": [
    "x=sp.Symbol('x')\n",
    "Df=sp.Derivative(sp.sin(x), x)\n",
    "Df, Df.doit()"
   ]
  },
  {
   "cell_type": "code",
   "execution_count": 14,
   "metadata": {},
   "outputs": [
    {
     "data": {
      "image/png": "[encoded data removed]",
      "text/latex": [
       "$\\displaystyle \\left( \\frac{d^{2}}{d x^{2}} \\sin{\\left(x \\right)}, \\  - \\sin{\\left(x \\right)}\\right)$"
      ],
      "text/plain": [
       "⎛  2                 ⎞\n",
       "⎜ d                  ⎟\n",
       "⎜───(sin(x)), -sin(x)⎟\n",
       "⎜  2                 ⎟\n",
       "⎝dx                  ⎠"
      ]
     },
     "execution_count": 14,
     "metadata": {},
     "output_type": "execute_result"
    }
   ],
   "source": [
    "x=sp.Symbol('x')\n",
    "D2f=sp.Derivative(sp.sin(x), x, 2)\n",
    "D2f, D2f.doit()"
   ]
  },
  {
   "cell_type": "code",
   "execution_count": 15,
   "metadata": {},
   "outputs": [
    {
     "data": {
      "image/png": "[encoded data removed]",
      "text/latex": [
       "$\\displaystyle \\left( \\int\\limits_{-12.5663706143592}^{12.5663706143592} \\sin^{2}{\\left(x \\right)}\\, dx, \\  12.5663706143592\\right)$"
      ],
      "text/plain": [
       "⎛ 12.5663706143592                             ⎞\n",
       "⎜        ⌠                                     ⎟\n",
       "⎜        ⎮            2                        ⎟\n",
       "⎜        ⎮         sin (x) dx, 12.5663706143592⎟\n",
       "⎜        ⌡                                     ⎟\n",
       "⎝-12.5663706143592                             ⎠"
      ]
     },
     "execution_count": 15,
     "metadata": {},
     "output_type": "execute_result"
    }
   ],
   "source": [
    "x=sp.Symbol('x')\n",
    "If=sp.Integral((sp.sin(x))**2,(x, -math.pi*4, math.pi*4))\n",
    "If, If.doit()"
   ]
  },
  {
   "cell_type": "markdown",
   "metadata": {},
   "source": [
    "<div class=\"alert alert-warning\"> si es una funcion de onda\n",
    "\n",
    "**<font color=red> Debría referirse de la siguiente forma; No es una función de onda bien comportada, no cumple con las condiciones del postulado 1, podría incluso mencionar cual condición como conclusión de la solución de este punto**"
   ]
  },
  {
   "cell_type": "markdown",
   "metadata": {},
   "source": [
    "**<div class=\"alert alert-success\">d) $\\large e^{-x} [0, \\infty)$**"
   ]
  },
  {
   "cell_type": "code",
   "execution_count": 16,
   "metadata": {},
   "outputs": [
    {
     "data": {
      "text/plain": [
       "Text(0, 0.5, 'f(x)')"
      ]
     },
     "execution_count": 16,
     "metadata": {},
     "output_type": "execute_result"
    },
    {
     "data": {
      "image/png": "[encoded data removed]",
      "text/plain": [
       "<Figure size 432x288 with 1 Axes>"
      ]
     },
     "metadata": {
      "needs_background": "light"
     },
     "output_type": "display_data"
    }
   ],
   "source": [
    "x = np.arange(0,  10, 0.01)\n",
    "f=e**(-x)\n",
    "plt.plot(x, f, 'r', linewidth=2)\n",
    "plt.title('$f(x)=e^{-x}$')\n",
    "plt.xlabel('x')\n",
    "plt.ylabel('f(x)')"
   ]
  },
  {
   "cell_type": "code",
   "execution_count": 17,
   "metadata": {},
   "outputs": [
    {
     "data": {
      "image/png": "[encoded data removed]",
      "text/latex": [
       "$\\displaystyle \\left( \\frac{d}{d x} e^{- x}, \\  - e^{- x}\\right)$"
      ],
      "text/plain": [
       "⎛d ⎛ -x⎞    -x⎞\n",
       "⎜──⎝ℯ  ⎠, -ℯ  ⎟\n",
       "⎝dx           ⎠"
      ]
     },
     "execution_count": 17,
     "metadata": {},
     "output_type": "execute_result"
    }
   ],
   "source": [
    "x=sp.Symbol('x')\n",
    "Df=sp.Derivative(sp.exp(-x), x)\n",
    "Df, Df.doit()"
   ]
  },
  {
   "cell_type": "code",
   "execution_count": 18,
   "metadata": {},
   "outputs": [
    {
     "data": {
      "image/png": "[encoded data removed]",
      "text/latex": [
       "$\\displaystyle \\left( \\frac{d^{2}}{d x^{2}} e^{- x}, \\  e^{- x}\\right)$"
      ],
      "text/plain": [
       "⎛  2          ⎞\n",
       "⎜ d ⎛ -x⎞   -x⎟\n",
       "⎜───⎝ℯ  ⎠, ℯ  ⎟\n",
       "⎜  2          ⎟\n",
       "⎝dx           ⎠"
      ]
     },
     "execution_count": 18,
     "metadata": {},
     "output_type": "execute_result"
    }
   ],
   "source": [
    "x=sp.Symbol('x')\n",
    "D2f=sp.Derivative(sp.exp(-x), x, 2)\n",
    "D2f, D2f.doit()"
   ]
  },
  {
   "cell_type": "code",
   "execution_count": 19,
   "metadata": {},
   "outputs": [
    {
     "data": {
      "image/png": "[encoded data removed]",
      "text/latex": [
       "$\\displaystyle \\left( \\int\\limits_{0}^{\\infty} e^{- 2 x}\\, dx, \\  \\frac{1}{2}\\right)$"
      ],
      "text/plain": [
       "⎛∞              ⎞\n",
       "⎜⌠              ⎟\n",
       "⎜⎮  -2⋅x        ⎟\n",
       "⎜⎮ ℯ     dx, 1/2⎟\n",
       "⎜⌡              ⎟\n",
       "⎝0              ⎠"
      ]
     },
     "execution_count": 19,
     "metadata": {},
     "output_type": "execute_result"
    }
   ],
   "source": [
    "x=sp.Symbol('x')\n",
    "If=sp.Integral((sp.exp(-x))**2, (x, 0, sp.oo))\n",
    "If, If.doit()"
   ]
  },
  {
   "cell_type": "markdown",
   "metadata": {},
   "source": [
    "<div class=\"alert alert-warning\"> si es una funcion de onda\n",
    "    \n",
    "**<font color=red> Debría referirse de la siguiente forma; No es una función de onda bien comportada, no cumple con las condiciones del postulado 1**"
   ]
  },
  {
   "cell_type": "markdown",
   "metadata": {},
   "source": [
    "**<div class=\"alert alert-success\">e) $\\large e^{-x}sen(x) [0, \\infty)$**"
   ]
  },
  {
   "cell_type": "code",
   "execution_count": 20,
   "metadata": {},
   "outputs": [
    {
     "data": {
      "text/plain": [
       "Text(0, 0.5, 'f(x)')"
      ]
     },
     "execution_count": 20,
     "metadata": {},
     "output_type": "execute_result"
    },
    {
     "data": {
      "image/png": "[encoded data removed]",
      "text/plain": [
       "<Figure size 432x288 with 1 Axes>"
      ]
     },
     "metadata": {
      "needs_background": "light"
     },
     "output_type": "display_data"
    }
   ],
   "source": [
    "x = np.arange(0,  10, 0.01)\n",
    "f=e**(-x)*np.sin(x)\n",
    "plt.plot(x, f, 'r-', linewidth=2)\n",
    "fontsize=35\n",
    "plt.title('$f(x)=e^{-x}sen(x)$')\n",
    "plt.xlabel('x')\n",
    "plt.ylabel('f(x)')"
   ]
  },
  {
   "cell_type": "code",
   "execution_count": 21,
   "metadata": {},
   "outputs": [
    {
     "data": {
      "image/png": "[encoded data removed]",
      "text/latex": [
       "$\\displaystyle \\left( \\frac{d}{d x} e^{- x} \\sin{\\left(x \\right)}, \\  - e^{- x} \\sin{\\left(x \\right)} + e^{- x} \\cos{\\left(x \\right)}\\right)$"
      ],
      "text/plain": [
       "⎛d ⎛ -x       ⎞     -x           -x       ⎞\n",
       "⎜──⎝ℯ  ⋅sin(x)⎠, - ℯ  ⋅sin(x) + ℯ  ⋅cos(x)⎟\n",
       "⎝dx                                       ⎠"
      ]
     },
     "execution_count": 21,
     "metadata": {},
     "output_type": "execute_result"
    }
   ],
   "source": [
    "x=sp.Symbol('x')\n",
    "Df=sp.Derivative(sp.exp(-x)*sp.sin(x), x)\n",
    "Df, Df.doit()"
   ]
  },
  {
   "cell_type": "code",
   "execution_count": 22,
   "metadata": {},
   "outputs": [
    {
     "data": {
      "image/png": "[encoded data removed]",
      "text/latex": [
       "$\\displaystyle \\left( \\frac{d^{2}}{d x^{2}} e^{- x} \\sin{\\left(x \\right)}, \\  - 2 e^{- x} \\cos{\\left(x \\right)}\\right)$"
      ],
      "text/plain": [
       "⎛  2                           ⎞\n",
       "⎜ d ⎛ -x       ⎞      -x       ⎟\n",
       "⎜───⎝ℯ  ⋅sin(x)⎠, -2⋅ℯ  ⋅cos(x)⎟\n",
       "⎜  2                           ⎟\n",
       "⎝dx                            ⎠"
      ]
     },
     "execution_count": 22,
     "metadata": {},
     "output_type": "execute_result"
    }
   ],
   "source": [
    "x=sp.Symbol('x')\n",
    "Df=sp.Derivative(sp.exp(-x)*sp.sin(x), x, 2)\n",
    "Df, Df.doit()"
   ]
  },
  {
   "cell_type": "code",
   "execution_count": 23,
   "metadata": {},
   "outputs": [
    {
     "data": {
      "image/png": "[encoded data removed]",
      "text/latex": [
       "$\\displaystyle \\left( \\int\\limits_{0}^{\\infty} e^{- 2 x} \\sin^{2}{\\left(x \\right)}\\, dx, \\  \\frac{1}{8}\\right)$"
      ],
      "text/plain": [
       "⎛∞                      ⎞\n",
       "⎜⌠                      ⎟\n",
       "⎜⎮  -2⋅x    2           ⎟\n",
       "⎜⎮ ℯ    ⋅sin (x) dx, 1/8⎟\n",
       "⎜⌡                      ⎟\n",
       "⎝0                      ⎠"
      ]
     },
     "execution_count": 23,
     "metadata": {},
     "output_type": "execute_result"
    }
   ],
   "source": [
    "x=sp.Symbol('x')\n",
    "If=sp.Integral((sp.exp(-x)*sp.sin(x))**2, (x, 0, sp.oo))\n",
    "If, If.doit()"
   ]
  },
  {
   "cell_type": "markdown",
   "metadata": {},
   "source": [
    "<div class=\"alert alert-warning\"> si es una funcion de onda\n",
    "\n",
    "**<font color=red> Debría referirse de la siguiente forma; No es una función de onda bien comportada, no cumple con las condiciones del postulado 1**"
   ]
  },
  {
   "cell_type": "markdown",
   "metadata": {},
   "source": [
    "### **<div class=\"alert alert-info\"><center> SEGUNDO PUNTO**"
   ]
  },
  {
   "cell_type": "markdown",
   "metadata": {},
   "source": [
    "**<div class=\"alert alert-success\">a) $\\large e^{-x} [0, \\infty)$**"
   ]
  },
  {
   "cell_type": "code",
   "execution_count": 24,
   "metadata": {},
   "outputs": [
    {
     "data": {
      "image/png": "[encoded data removed]",
      "text/latex": [
       "$\\displaystyle \\left( \\int\\limits_{0}^{\\infty} e^{- 2 x}\\, dx, \\  \\frac{1}{2}\\right)$"
      ],
      "text/plain": [
       "⎛∞              ⎞\n",
       "⎜⌠              ⎟\n",
       "⎜⎮  -2⋅x        ⎟\n",
       "⎜⎮ ℯ     dx, 1/2⎟\n",
       "⎜⌡              ⎟\n",
       "⎝0              ⎠"
      ]
     },
     "execution_count": 24,
     "metadata": {},
     "output_type": "execute_result"
    }
   ],
   "source": [
    "x=sp.Symbol('x')\n",
    "If=sp.Integral((sp.exp(-x))**2, (x, 0, sp.oo))\n",
    "If, If.doit()"
   ]
  },
  {
   "cell_type": "markdown",
   "metadata": {},
   "source": [
    "### constante de normalización \n",
    "$$\\large A=\\frac{1}{\\sqrt{b}}$$\n",
    "$$\\large A=\\frac{1}{\\sqrt{0.5}}$$\n",
    "$$\\large Fn=\\sqrt{2}e^{-x}$$"
   ]
  },
  {
   "cell_type": "code",
   "execution_count": 25,
   "metadata": {},
   "outputs": [
    {
     "data": {
      "image/png": "[encoded data removed]",
      "text/latex": [
       "$\\displaystyle \\left( \\int\\limits_{0}^{\\infty} 2.0 e^{- 2 x}\\, dx, \\  1.0\\right)$"
      ],
      "text/plain": [
       "⎛∞                  ⎞\n",
       "⎜⌠                  ⎟\n",
       "⎜⎮      -2⋅x        ⎟\n",
       "⎜⎮ 2.0⋅ℯ     dx, 1.0⎟\n",
       "⎜⌡                  ⎟\n",
       "⎝0                  ⎠"
      ]
     },
     "execution_count": 25,
     "metadata": {},
     "output_type": "execute_result"
    }
   ],
   "source": [
    "A=1/((0.5)**0.5)\n",
    "fn=A*sp.exp(-x)\n",
    "If=sp.Integral((A*sp.exp(-x))**2, (x, 0, sp.oo))\n",
    "If, If.doit()"
   ]
  },
  {
   "cell_type": "markdown",
   "metadata": {},
   "source": [
    "**<div class=\"alert alert-success\">b) $\\large e^{i\\theta} [0, 2\\pi]$**"
   ]
  },
  {
   "cell_type": "code",
   "execution_count": 26,
   "metadata": {},
   "outputs": [
    {
     "data": {
      "image/png": "[encoded data removed]",
      "text/latex": [
       "$\\displaystyle \\left( \\int\\limits_{0}^{6.28318530717959} e^{2.0 i tetha}\\, dx, \\  6.28318530717959 e^{2.0 i tetha}\\right)$"
      ],
      "text/plain": [
       "⎛6.28318530717959                                               ⎞\n",
       "⎜       ⌠                                                       ⎟\n",
       "⎜       ⎮          2.0⋅ⅈ⋅tetha                       2.0⋅ⅈ⋅tetha⎟\n",
       "⎜       ⎮         ℯ            dx, 6.28318530717959⋅ℯ           ⎟\n",
       "⎜       ⌡                                                       ⎟\n",
       "⎝       0                                                       ⎠"
      ]
     },
     "execution_count": 26,
     "metadata": {},
     "output_type": "execute_result"
    }
   ],
   "source": [
    "tetha=sp.Symbol('tetha')\n",
    "z=1j\n",
    "If=sp.Integral((sp.exp(tetha*z))**2, (x, 0 , math.pi*2))\n",
    "If, If.doit()"
   ]
  },
  {
   "cell_type": "markdown",
   "metadata": {},
   "source": [
    "**<font color=red> No utilizó el cuadrado conjugado sobre en la integración**"
   ]
  },
  {
   "cell_type": "markdown",
   "metadata": {},
   "source": [
    "### constante de normalización \n",
    "$$\\large A=\\frac{1}{\\sqrt{b}}$$\n",
    "$$\\large A=\\frac{1}{\\sqrt{2\\pi}{e^{2itetha}}}$$\n",
    "$$\\large Fn=\\frac{1}{\\sqrt{2\\pi}{e^{2itetha}}xe^{-x}}$$\n",
    "\n",
    "**<font color=red> Quedaría mejor escrito así: $F_n=\\frac{1}{\\sqrt{2\\pi}}e^{i\\theta}$, La función que aquí pone no tiena nada que ver con la del problema**"
   ]
  },
  {
   "cell_type": "code",
   "execution_count": 617,
   "metadata": {},
   "outputs": [
    {
     "data": {
      "image/png": "[encoded data removed]",
      "text/latex": [
       "$\\displaystyle \\left( \\int\\limits_{0}^{6.28318530717959} \\frac{0.398942280401433 e^{2.0 i tetha}}{\\left(e^{2.0 i tetha}\\right)^{0.5}}\\, dx, \\  \\frac{2.506628274631 e^{2.0 i tetha}}{\\left(e^{2.0 i tetha}\\right)^{0.5}}\\right)$"
      ],
      "text/plain": [
       "⎛6.28318530717959                                                             \n",
       "⎜       ⌠                                                                     \n",
       "⎜       ⎮                                         -0.5                        \n",
       "⎜       ⎮                           ⎛ 2.0⋅ⅈ⋅tetha⎞      2.0⋅ⅈ⋅tetha           \n",
       "⎜       ⎮         0.398942280401433⋅⎝ℯ           ⎠    ⋅ℯ            dx, 2.5066\n",
       "⎜       ⌡                                                                     \n",
       "⎝       0                                                                     \n",
       "\n",
       "                                        ⎞\n",
       "                                        ⎟\n",
       "                       -0.5             ⎟\n",
       "         ⎛ 2.0⋅ⅈ⋅tetha⎞      2.0⋅ⅈ⋅tetha⎟\n",
       "28274631⋅⎝ℯ           ⎠    ⋅ℯ           ⎟\n",
       "                                        ⎟\n",
       "                                        ⎠"
      ]
     },
     "execution_count": 617,
     "metadata": {},
     "output_type": "execute_result"
    }
   ],
   "source": [
    "tetha=sp.Symbol('tetha')\n",
    "z=1j\n",
    "A=(1/sp.sqrt((pi*2)*sp.exp(2*tetha*z)))**0.5\n",
    "If=sp.Integral((A*sp.exp(tetha*z))**2, (x, 0 , math.pi*2))\n",
    "If, If.doit()"
   ]
  },
  {
   "cell_type": "markdown",
   "metadata": {},
   "source": [
    "<div class=\"alert alert-warning\"> No se puede normalizar\n",
    "\n",
    "**<font color=red> Porqué?**"
   ]
  },
  {
   "cell_type": "markdown",
   "metadata": {},
   "source": [
    "**<div class=\"alert alert-success\">c) $\\large xe^{-x} [0, \\infty)$**"
   ]
  },
  {
   "cell_type": "code",
   "execution_count": 27,
   "metadata": {},
   "outputs": [
    {
     "data": {
      "image/png": "[encoded data removed]",
      "text/latex": [
       "$\\displaystyle \\left( \\int\\limits_{0}^{\\infty} x^{2} e^{- 2 x}\\, dx, \\  \\frac{1}{4}\\right)$"
      ],
      "text/plain": [
       "⎛∞                 ⎞\n",
       "⎜⌠                 ⎟\n",
       "⎜⎮  2  -2⋅x        ⎟\n",
       "⎜⎮ x ⋅ℯ     dx, 1/4⎟\n",
       "⎜⌡                 ⎟\n",
       "⎝0                 ⎠"
      ]
     },
     "execution_count": 27,
     "metadata": {},
     "output_type": "execute_result"
    }
   ],
   "source": [
    "x=sp.Symbol('x')\n",
    "If=sp.Integral((x*sp.exp(-x))**2, (x, 0, sp.oo))\n",
    "If, If.doit()"
   ]
  },
  {
   "cell_type": "markdown",
   "metadata": {},
   "source": [
    "### constante de normalización \n",
    "$$\\large A=\\frac{1}{\\sqrt{b}}$$\n",
    "$$\\large A=\\frac{1}{\\sqrt{0.25}}$$\n",
    "$$\\large Fn={2}xe^{-x}$$"
   ]
  },
  {
   "cell_type": "code",
   "execution_count": 28,
   "metadata": {},
   "outputs": [
    {
     "data": {
      "image/png": "[encoded data removed]",
      "text/latex": [
       "$\\displaystyle \\left( \\int\\limits_{0}^{\\infty} 4 x^{2} e^{- 2 x}\\, dx, \\  1\\right)$"
      ],
      "text/plain": [
       "⎛∞                 ⎞\n",
       "⎜⌠                 ⎟\n",
       "⎜⎮    2  -2⋅x      ⎟\n",
       "⎜⎮ 4⋅x ⋅ℯ     dx, 1⎟\n",
       "⎜⌡                 ⎟\n",
       "⎝0                 ⎠"
      ]
     },
     "execution_count": 28,
     "metadata": {},
     "output_type": "execute_result"
    }
   ],
   "source": [
    "A=2\n",
    "x=sp.Symbol('x')\n",
    "If=sp.Integral ((2*x*sp.exp(-x))**2, (x, 0, sp.oo))\n",
    "If, If.doit()"
   ]
  },
  {
   "cell_type": "markdown",
   "metadata": {},
   "source": [
    "### **<div class=\"alert alert-info\"><center> TERCER PUNTO**"
   ]
  },
  {
   "cell_type": "markdown",
   "metadata": {},
   "source": [
    "<div class=\"alert alert-warning\"> . a) Calcular la probabilidad de que la partícula se encuentre entre  𝑥=1.5000𝑛𝑚  y  𝑥=1.5001𝑛𝑚 ."
   ]
  },
  {
   "cell_type": "code",
   "execution_count": 29,
   "metadata": {},
   "outputs": [
    {
     "data": {
      "image/png": "[encoded data removed]",
      "text/latex": [
       "$\\displaystyle \\left( \\int\\limits_{1.5}^{1.5001} 2 e^{- 2 x}\\, dx, \\  9.9564179985856 \\cdot 10^{-6}\\right)$"
      ],
      "text/plain": [
       "⎛1.5001                               ⎞\n",
       "⎜  ⌠                                  ⎟\n",
       "⎜  ⎮       -2⋅x                       ⎟\n",
       "⎜  ⎮    2⋅ℯ     dx, 9.9564179985856e-6⎟\n",
       "⎜  ⌡                                  ⎟\n",
       "⎝ 1.5                                 ⎠"
      ]
     },
     "execution_count": 29,
     "metadata": {},
     "output_type": "execute_result"
    }
   ],
   "source": [
    "x=sp.Symbol('x')\n",
    "If=sp.Integral(((sp.sqrt(2))*sp.exp(-x))**2, (x, 1.5000, 1.5001))\n",
    "If, If.doit()"
   ]
  },
  {
   "cell_type": "markdown",
   "metadata": {},
   "source": [
    "**<font color=red> Ningún comentario! Qué se puede decir del resultado?**"
   ]
  },
  {
   "cell_type": "markdown",
   "metadata": {},
   "source": [
    "<div class=\"alert alert-warning\"> b) Calcular la probabilidad de que la partícula se encuentre entre  𝑥=0  y  𝑥=2𝑛𝑚 ."
   ]
  },
  {
   "cell_type": "code",
   "execution_count": 30,
   "metadata": {},
   "outputs": [
    {
     "data": {
      "image/png": "[encoded data removed]",
      "text/latex": [
       "$\\displaystyle \\left( \\int\\limits_{0}^{2} 2.0 e^{- 2 x}\\, dx, \\  1.0 - \\frac{1.0}{e^{4}}\\right)$"
      ],
      "text/plain": [
       "⎛2                            ⎞\n",
       "⎜⌠                            ⎟\n",
       "⎜⎮      -2⋅x                -4⎟\n",
       "⎜⎮ 2.0⋅ℯ     dx, 1.0 - 1.0⋅ℯ  ⎟\n",
       "⎜⌡                            ⎟\n",
       "⎝0                            ⎠"
      ]
     },
     "execution_count": 30,
     "metadata": {},
     "output_type": "execute_result"
    }
   ],
   "source": [
    "x=sp.Symbol('x')\n",
    "If=sp.Integral(((math.sqrt(2))*sp.exp(-x))**2, (x, 0, 2))\n",
    "If, If.doit()"
   ]
  },
  {
   "cell_type": "markdown",
   "metadata": {},
   "source": [
    "**<font color=red> Ningún comentario! Qué se puede decir del resultado?**"
   ]
  },
  {
   "cell_type": "markdown",
   "metadata": {},
   "source": [
    "<div class=\"alert alert-warning\">  c) Verifique que la función de onda está normalizada."
   ]
  },
  {
   "cell_type": "code",
   "execution_count": 31,
   "metadata": {},
   "outputs": [
    {
     "data": {
      "image/png": "[encoded data removed]",
      "text/latex": [
       "$\\displaystyle \\left( \\int\\limits_{0}^{\\infty} 2.0 e^{- 2 x}\\, dx, \\  1.0\\right)$"
      ],
      "text/plain": [
       "⎛∞                  ⎞\n",
       "⎜⌠                  ⎟\n",
       "⎜⎮      -2⋅x        ⎟\n",
       "⎜⎮ 2.0⋅ℯ     dx, 1.0⎟\n",
       "⎜⌡                  ⎟\n",
       "⎝0                  ⎠"
      ]
     },
     "execution_count": 31,
     "metadata": {},
     "output_type": "execute_result"
    }
   ],
   "source": [
    "x=sp.Symbol('x')\n",
    "If=sp.Integral(((math.sqrt(2))*sp.exp(-x))**2, (x, 0, sp.oo))\n",
    "If, If.doit()"
   ]
  },
  {
   "cell_type": "markdown",
   "metadata": {},
   "source": [
    "**<font color=red> Ningún comentario! Qué se puede decir del resultado?**"
   ]
  },
  {
   "cell_type": "markdown",
   "metadata": {},
   "source": [
    "### **<div class=\"alert alert-info\"><center> CUARTO PUNTO**"
   ]
  },
  {
   "cell_type": "markdown",
   "metadata": {},
   "source": [
    "### **<div class=\"alert alert-danger\">a) $\\large \\hat{A}f(x)=\\frac{df(x)}{dx}$ (derivada de $\\large f(x)$)  ----> LINEAL**\n",
    "### **<div class=\"alert alert-danger\">b) $\\large \\hat{A}f(x)=f^*(x)$ (forma la compleja conjugada de $\\large f(x)$) ---->  NO LINEAL** \n",
    "### **<div class=\"alert alert-danger\">c) $\\large \\hat{A}f(x)=ln f(x)$ (toma el logaritmo de $\\large f(x)$) -----> LINEAL**\n",
    "### **<div class=\"alert alert-danger\">d) $\\large \\hat{A}f(x)= \\int f(x)dx$ (f (integral de $\\large f(x)$)-----> LINEAL**"
   ]
  },
  {
   "cell_type": "markdown",
   "metadata": {},
   "source": [
    "**<font color=red> Por favor, desarrolle, comente, concluya**"
   ]
  },
  {
   "cell_type": "markdown",
   "metadata": {},
   "source": [
    "### **<div class=\"alert alert-info\"><center> QUINTO PUNTO**"
   ]
  },
  {
   "cell_type": "markdown",
   "metadata": {},
   "source": [
    "### <div class=\"alert alert-success\">a) $\\large e^{ikx}$"
   ]
  },
  {
   "cell_type": "code",
   "execution_count": 32,
   "metadata": {},
   "outputs": [
    {
     "data": {
      "image/png": "[encoded data removed]",
      "text/latex": [
       "$\\displaystyle \\left( \\frac{\\partial}{\\partial x} e^{1.0 i k x}, \\  1.0 i k e^{1.0 i k x}\\right)$"
      ],
      "text/plain": [
       "⎛∂ ⎛ 1.0⋅ⅈ⋅k⋅x⎞           1.0⋅ⅈ⋅k⋅x⎞\n",
       "⎜──⎝ℯ         ⎠, 1.0⋅ⅈ⋅k⋅ℯ         ⎟\n",
       "⎝∂x                                ⎠"
      ]
     },
     "execution_count": 32,
     "metadata": {},
     "output_type": "execute_result"
    }
   ],
   "source": [
    "x , k=sp.symbols('x k')\n",
    "z=1j\n",
    "f=sp.exp(z*k*x)\n",
    "Df=sp.Derivative(f, x)\n",
    "Df, Df.doit()"
   ]
  },
  {
   "cell_type": "markdown",
   "metadata": {},
   "source": [
    "<div class=\"alert alert-warning\"> Es una función propia de el operador primera derivada"
   ]
  },
  {
   "cell_type": "code",
   "execution_count": 33,
   "metadata": {},
   "outputs": [
    {
     "data": {
      "image/png": "[encoded data removed]",
      "text/latex": [
       "$\\displaystyle \\left( \\frac{\\partial^{2}}{\\partial x^{2}} e^{1.0 i k x}, \\  - 1.0 k^{2} e^{1.0 i k x}\\right)$"
      ],
      "text/plain": [
       "⎛  2                                ⎞\n",
       "⎜ ∂ ⎛ 1.0⋅ⅈ⋅k⋅x⎞        2  1.0⋅ⅈ⋅k⋅x⎟\n",
       "⎜───⎝ℯ         ⎠, -1.0⋅k ⋅ℯ         ⎟\n",
       "⎜  2                                ⎟\n",
       "⎝∂x                                 ⎠"
      ]
     },
     "execution_count": 33,
     "metadata": {},
     "output_type": "execute_result"
    }
   ],
   "source": [
    "x , k=sp.symbols('x k')\n",
    "z=1j\n",
    "f=sp.exp(z*k*x)\n",
    "Df=sp.Derivative(f, x, 2)\n",
    "Df, Df.doit()"
   ]
  },
  {
   "cell_type": "markdown",
   "metadata": {},
   "source": [
    "<div class=\"alert alert-warning\"> Es una función propia de el operador segunda derivada"
   ]
  },
  {
   "cell_type": "markdown",
   "metadata": {},
   "source": [
    "###  <div class=\"alert alert-success\">b) $\\large cos(kx)$"
   ]
  },
  {
   "cell_type": "code",
   "execution_count": 34,
   "metadata": {},
   "outputs": [
    {
     "data": {
      "image/png": "[encoded data removed]",
      "text/latex": [
       "$\\displaystyle \\left( \\frac{\\partial}{\\partial x} \\cos{\\left(k x \\right)}, \\  - k \\sin{\\left(k x \\right)}\\right)$"
      ],
      "text/plain": [
       "⎛∂                        ⎞\n",
       "⎜──(cos(k⋅x)), -k⋅sin(k⋅x)⎟\n",
       "⎝∂x                       ⎠"
      ]
     },
     "execution_count": 34,
     "metadata": {},
     "output_type": "execute_result"
    }
   ],
   "source": [
    "x , k=sp.symbols('x k')\n",
    "f=sp.cos(k*x)\n",
    "Df=sp.Derivative(f, x)\n",
    "Df, Df.doit()"
   ]
  },
  {
   "cell_type": "markdown",
   "metadata": {},
   "source": [
    "<div class=\"alert alert-warning\"> No es una función propia de el operador primera derivada "
   ]
  },
  {
   "cell_type": "code",
   "execution_count": 35,
   "metadata": {},
   "outputs": [
    {
     "data": {
      "image/png": "[encoded data removed]",
      "text/latex": [
       "$\\displaystyle \\left( \\frac{\\partial^{2}}{\\partial x^{2}} \\cos{\\left(k x \\right)}, \\  - k^{2} \\cos{\\left(k x \\right)}\\right)$"
      ],
      "text/plain": [
       "⎛  2                        ⎞\n",
       "⎜ ∂               2         ⎟\n",
       "⎜───(cos(k⋅x)), -k ⋅cos(k⋅x)⎟\n",
       "⎜  2                        ⎟\n",
       "⎝∂x                         ⎠"
      ]
     },
     "execution_count": 35,
     "metadata": {},
     "output_type": "execute_result"
    }
   ],
   "source": [
    "x , k=sp.symbols('x k')\n",
    "f=sp.cos(k*x)\n",
    "D2f=sp.Derivative(f, x, 2)\n",
    "D2f, D2f.doit()"
   ]
  },
  {
   "cell_type": "markdown",
   "metadata": {},
   "source": [
    "<div class=\"alert alert-warning\"> Es una función propia de el operador segunda derivada"
   ]
  },
  {
   "cell_type": "markdown",
   "metadata": {},
   "source": [
    "###  <div class=\"alert alert-success\"> c) $\\large k$"
   ]
  },
  {
   "cell_type": "code",
   "execution_count": 36,
   "metadata": {},
   "outputs": [
    {
     "data": {
      "image/png": "[encoded data removed]",
      "text/latex": [
       "$\\displaystyle \\left( \\frac{d}{d x} k, \\  0\\right)$"
      ],
      "text/plain": [
       "⎛d       ⎞\n",
       "⎜──(k), 0⎟\n",
       "⎝dx      ⎠"
      ]
     },
     "execution_count": 36,
     "metadata": {},
     "output_type": "execute_result"
    }
   ],
   "source": [
    "x , k=sp.symbols('x k')\n",
    "f=k\n",
    "Df=sp.Derivative(f, x)\n",
    "Df, Df.doit()"
   ]
  },
  {
   "cell_type": "markdown",
   "metadata": {},
   "source": [
    "<div class=\"alert alert-warning\"> No es una función propia de el operador primera derivada"
   ]
  },
  {
   "cell_type": "code",
   "execution_count": 37,
   "metadata": {},
   "outputs": [
    {
     "data": {
      "image/png": "[encoded data removed]",
      "text/latex": [
       "$\\displaystyle \\left( \\frac{d^{2}}{d x^{2}} k, \\  0\\right)$"
      ],
      "text/plain": [
       "⎛  2      ⎞\n",
       "⎜ d       ⎟\n",
       "⎜───(k), 0⎟\n",
       "⎜  2      ⎟\n",
       "⎝dx       ⎠"
      ]
     },
     "execution_count": 37,
     "metadata": {},
     "output_type": "execute_result"
    }
   ],
   "source": [
    "x , k=sp.symbols('x k')\n",
    "f=k\n",
    "D2f=sp.Derivative(f, x, 2)\n",
    "D2f, D2f.doit()"
   ]
  },
  {
   "cell_type": "markdown",
   "metadata": {},
   "source": [
    "<div class=\"alert alert-warning\"> No es una función propia de el operador segunda derivada"
   ]
  },
  {
   "cell_type": "markdown",
   "metadata": {},
   "source": [
    "###  <div class=\"alert alert-success\"> d) $\\large kx$ "
   ]
  },
  {
   "cell_type": "code",
   "execution_count": 38,
   "metadata": {},
   "outputs": [
    {
     "data": {
      "image/png": "[encoded data removed]",
      "text/latex": [
       "$\\displaystyle \\left( \\frac{\\partial}{\\partial x} k x, \\  k\\right)$"
      ],
      "text/plain": [
       "⎛∂         ⎞\n",
       "⎜──(k⋅x), k⎟\n",
       "⎝∂x        ⎠"
      ]
     },
     "execution_count": 38,
     "metadata": {},
     "output_type": "execute_result"
    }
   ],
   "source": [
    "x , k=sp.symbols('x k')\n",
    "f=k*x\n",
    "Df=sp.Derivative(f, x)\n",
    "Df, Df.doit()"
   ]
  },
  {
   "cell_type": "markdown",
   "metadata": {},
   "source": [
    "<div class=\"alert alert-warning\"> No es una función propia de el operador primera derivada"
   ]
  },
  {
   "cell_type": "code",
   "execution_count": 39,
   "metadata": {},
   "outputs": [
    {
     "data": {
      "image/png": "[encoded data removed]",
      "text/latex": [
       "$\\displaystyle \\left( \\frac{\\partial^{2}}{\\partial x^{2}} k x, \\  0\\right)$"
      ],
      "text/plain": [
       "⎛  2        ⎞\n",
       "⎜ ∂         ⎟\n",
       "⎜───(k⋅x), 0⎟\n",
       "⎜  2        ⎟\n",
       "⎝∂x         ⎠"
      ]
     },
     "execution_count": 39,
     "metadata": {},
     "output_type": "execute_result"
    }
   ],
   "source": [
    "x , k=sp.symbols('x k')\n",
    "f=k*x\n",
    "D2f=sp.Derivative(f, x, 2)\n",
    "D2f, D2f.doit()"
   ]
  },
  {
   "cell_type": "markdown",
   "metadata": {},
   "source": [
    "<div class=\"alert alert-warning\"> No es una función propia de el operador segunda derivada"
   ]
  },
  {
   "cell_type": "markdown",
   "metadata": {},
   "source": [
    " ###  <div class=\"alert alert-success\"> e) $\\large e^{−ax^{2}}$"
   ]
  },
  {
   "cell_type": "code",
   "execution_count": 40,
   "metadata": {},
   "outputs": [
    {
     "data": {
      "image/png": "[encoded data removed]",
      "text/latex": [
       "$\\displaystyle \\left( \\frac{\\partial}{\\partial x} e^{- k x^{2}}, \\  - 2 k x e^{- k x^{2}}\\right)$"
      ],
      "text/plain": [
       "⎛  ⎛     2⎞              2⎞\n",
       "⎜∂ ⎜ -k⋅x ⎟          -k⋅x ⎟\n",
       "⎜──⎝ℯ     ⎠, -2⋅k⋅x⋅ℯ     ⎟\n",
       "⎝∂x                       ⎠"
      ]
     },
     "execution_count": 40,
     "metadata": {},
     "output_type": "execute_result"
    }
   ],
   "source": [
    "x=sp.Symbol('x')\n",
    "Df=sp.Derivative(sp.exp(-k*x**2), x)\n",
    "Df, Df.doit()"
   ]
  },
  {
   "cell_type": "markdown",
   "metadata": {},
   "source": [
    "<div class=\"alert alert-warning\">  No es una función propia de el operador primera derivada"
   ]
  },
  {
   "cell_type": "code",
   "execution_count": 41,
   "metadata": {},
   "outputs": [
    {
     "data": {
      "image/png": "[encoded data removed]",
      "text/latex": [
       "$\\displaystyle \\left( \\frac{\\partial^{2}}{\\partial x^{2}} e^{- k x^{2}}, \\  2 k \\left(2 k x^{2} - 1\\right) e^{- k x^{2}}\\right)$"
      ],
      "text/plain": [
       "⎛  2⎛     2⎞                        2⎞\n",
       "⎜ ∂ ⎜ -k⋅x ⎟      ⎛     2    ⎞  -k⋅x ⎟\n",
       "⎜───⎝ℯ     ⎠, 2⋅k⋅⎝2⋅k⋅x  - 1⎠⋅ℯ     ⎟\n",
       "⎜  2                                 ⎟\n",
       "⎝∂x                                  ⎠"
      ]
     },
     "execution_count": 41,
     "metadata": {},
     "output_type": "execute_result"
    }
   ],
   "source": [
    "x=sp.Symbol('x')\n",
    "D2f=sp.Derivative(sp.exp(-k*x**2), x,2)\n",
    "D2f, D2f.doit()"
   ]
  },
  {
   "cell_type": "markdown",
   "metadata": {},
   "source": [
    "<div class=\"alert alert-warning\">  No es una función propia de el operador segunda derivada"
   ]
  },
  {
   "cell_type": "markdown",
   "metadata": {},
   "source": [
    "### **<div class=\"alert alert-info\"><center> SEXTO PUNTO**"
   ]
  },
  {
   "cell_type": "markdown",
   "metadata": {},
   "source": [
    "**<div class=\"alert alert-success\">a) $\\large [\\hat{x}^2,\\frac{d^2}{dx^2}]$**"
   ]
  },
  {
   "cell_type": "code",
   "execution_count": 42,
   "metadata": {},
   "outputs": [
    {
     "data": {
      "image/png": "[encoded data removed]",
      "text/latex": [
       "$\\displaystyle f{\\left(x \\right)}$"
      ],
      "text/plain": [
       "f(x)"
      ]
     },
     "execution_count": 42,
     "metadata": {},
     "output_type": "execute_result"
    }
   ],
   "source": [
    "x=sp.Symbol('x')\n",
    "f=sp.Function('f')(x)\n",
    "f"
   ]
  },
  {
   "cell_type": "code",
   "execution_count": 43,
   "metadata": {},
   "outputs": [
    {
     "data": {
      "image/png": "[encoded data removed]",
      "text/latex": [
       "$\\displaystyle x^{2} \\frac{d^{2}}{d x^{2}} f{\\left(x \\right)}$"
      ],
      "text/plain": [
       "     2      \n",
       " 2  d       \n",
       "x ⋅───(f(x))\n",
       "     2      \n",
       "   dx       "
      ]
     },
     "execution_count": 43,
     "metadata": {},
     "output_type": "execute_result"
    }
   ],
   "source": [
    "c1=x**2*sp.Derivative(f,x,2)\n",
    "c1"
   ]
  },
  {
   "cell_type": "code",
   "execution_count": 44,
   "metadata": {},
   "outputs": [
    {
     "data": {
      "image/png": "[encoded data removed]",
      "text/latex": [
       "$\\displaystyle \\frac{d^{2}}{d x^{2}} x^{2} f{\\left(x \\right)}$"
      ],
      "text/plain": [
       "  2         \n",
       " d ⎛ 2     ⎞\n",
       "───⎝x ⋅f(x)⎠\n",
       "  2         \n",
       "dx          "
      ]
     },
     "execution_count": 44,
     "metadata": {},
     "output_type": "execute_result"
    }
   ],
   "source": [
    "c2=sp.Derivative(x**2*f,x,2)\n",
    "c2"
   ]
  },
  {
   "cell_type": "code",
   "execution_count": 45,
   "metadata": {},
   "outputs": [
    {
     "data": {
      "image/png": "[encoded data removed]",
      "text/latex": [
       "$\\displaystyle x^{2} \\frac{d^{2}}{d x^{2}} f{\\left(x \\right)}$"
      ],
      "text/plain": [
       "     2      \n",
       " 2  d       \n",
       "x ⋅───(f(x))\n",
       "     2      \n",
       "   dx       "
      ]
     },
     "execution_count": 45,
     "metadata": {},
     "output_type": "execute_result"
    }
   ],
   "source": [
    "c5=c1.doit()\n",
    "c5"
   ]
  },
  {
   "cell_type": "code",
   "execution_count": 46,
   "metadata": {},
   "outputs": [
    {
     "data": {
      "image/png": "[encoded data removed]",
      "text/latex": [
       "$\\displaystyle x^{2} \\frac{d^{2}}{d x^{2}} f{\\left(x \\right)} + 4 x \\frac{d}{d x} f{\\left(x \\right)} + 2 f{\\left(x \\right)}$"
      ],
      "text/plain": [
       "     2                              \n",
       " 2  d              d                \n",
       "x ⋅───(f(x)) + 4⋅x⋅──(f(x)) + 2⋅f(x)\n",
       "     2             dx               \n",
       "   dx                               "
      ]
     },
     "execution_count": 46,
     "metadata": {},
     "output_type": "execute_result"
    }
   ],
   "source": [
    "c6=c2.doit()\n",
    "c6"
   ]
  },
  {
   "cell_type": "code",
   "execution_count": 47,
   "metadata": {},
   "outputs": [
    {
     "data": {
      "image/png": "[encoded data removed]",
      "text/latex": [
       "$\\displaystyle - 4 x \\frac{d}{d x} f{\\left(x \\right)} - 2 f{\\left(x \\right)}$"
      ],
      "text/plain": [
       "      d                \n",
       "- 4⋅x⋅──(f(x)) - 2⋅f(x)\n",
       "      dx               "
      ]
     },
     "execution_count": 47,
     "metadata": {},
     "output_type": "execute_result"
    }
   ],
   "source": [
    "c5-c6"
   ]
  },
  {
   "cell_type": "code",
   "execution_count": 48,
   "metadata": {},
   "outputs": [
    {
     "data": {
      "image/png": "[encoded data removed]",
      "text/latex": [
       "$\\displaystyle - 4 x \\frac{d}{d x} f{\\left(x \\right)} - 2 f{\\left(x \\right)}$"
      ],
      "text/plain": [
       "      d                \n",
       "- 4⋅x⋅──(f(x)) - 2⋅f(x)\n",
       "      dx               "
      ]
     },
     "execution_count": 48,
     "metadata": {},
     "output_type": "execute_result"
    }
   ],
   "source": [
    "sp.simplify(c5-c6)"
   ]
  },
  {
   "cell_type": "markdown",
   "metadata": {},
   "source": [
    "<div class=\"alert alert-warning\"> por lo tanto el conmutador es $\\large [\\hat{x}^2,\\frac{d^2}{dx^2}] =-4x\\frac{d}{dx}-2$ "
   ]
  },
  {
   "cell_type": "markdown",
   "metadata": {},
   "source": [
    "**<font color=red> Cúal es entonces su significado?**"
   ]
  },
  {
   "cell_type": "markdown",
   "metadata": {},
   "source": [
    "**<div class=\"alert alert-success\">b) $\\large [\\hat{x},\\hat{p}_x]$**"
   ]
  },
  {
   "cell_type": "code",
   "execution_count": 49,
   "metadata": {},
   "outputs": [
    {
     "data": {
      "image/png": "[encoded data removed]",
      "text/latex": [
       "$\\displaystyle f{\\left(x \\right)}$"
      ],
      "text/plain": [
       "f(x)"
      ]
     },
     "execution_count": 49,
     "metadata": {},
     "output_type": "execute_result"
    }
   ],
   "source": [
    "x=sp.Symbol('x')\n",
    "hbar=sp.Symbol('hbar')\n",
    "f=sp.Function('f')(x)\n",
    "f"
   ]
  },
  {
   "cell_type": "code",
   "execution_count": 50,
   "metadata": {},
   "outputs": [
    {
     "data": {
      "image/png": "[encoded data removed]",
      "text/latex": [
       "$\\displaystyle - i \\hbar x \\frac{d}{d x} f{\\left(x \\right)}$"
      ],
      "text/plain": [
       "       d       \n",
       "-ⅈ⋅h̅⋅x⋅──(f(x))\n",
       "       dx      "
      ]
     },
     "execution_count": 50,
     "metadata": {},
     "output_type": "execute_result"
    }
   ],
   "source": [
    "c1=(-sp.I*hbar)*x*sp.Derivative(f,x)\n",
    "c1"
   ]
  },
  {
   "cell_type": "code",
   "execution_count": 51,
   "metadata": {},
   "outputs": [
    {
     "data": {
      "image/png": "[encoded data removed]",
      "text/latex": [
       "$\\displaystyle - i \\hbar \\frac{d}{d x} x f{\\left(x \\right)}$"
      ],
      "text/plain": [
       "     d         \n",
       "-ⅈ⋅h̅⋅──(x⋅f(x))\n",
       "     dx        "
      ]
     },
     "execution_count": 51,
     "metadata": {},
     "output_type": "execute_result"
    }
   ],
   "source": [
    "c2=(-sp.I*hbar)*sp.Derivative(x*f,x)\n",
    "c2"
   ]
  },
  {
   "cell_type": "code",
   "execution_count": 52,
   "metadata": {},
   "outputs": [
    {
     "data": {
      "image/png": "[encoded data removed]",
      "text/latex": [
       "$\\displaystyle - i \\hbar x \\frac{d}{d x} f{\\left(x \\right)}$"
      ],
      "text/plain": [
       "       d       \n",
       "-ⅈ⋅h̅⋅x⋅──(f(x))\n",
       "       dx      "
      ]
     },
     "execution_count": 52,
     "metadata": {},
     "output_type": "execute_result"
    }
   ],
   "source": [
    "c3=c1.doit()\n",
    "c3"
   ]
  },
  {
   "cell_type": "code",
   "execution_count": 53,
   "metadata": {},
   "outputs": [
    {
     "data": {
      "image/png": "[encoded data removed]",
      "text/latex": [
       "$\\displaystyle - i \\hbar \\left(x \\frac{d}{d x} f{\\left(x \\right)} + f{\\left(x \\right)}\\right)$"
      ],
      "text/plain": [
       "     ⎛  d              ⎞\n",
       "-ⅈ⋅h̅⋅⎜x⋅──(f(x)) + f(x)⎟\n",
       "     ⎝  dx             ⎠"
      ]
     },
     "execution_count": 53,
     "metadata": {},
     "output_type": "execute_result"
    }
   ],
   "source": [
    "c4=c2.doit()\n",
    "c4"
   ]
  },
  {
   "cell_type": "code",
   "execution_count": 54,
   "metadata": {},
   "outputs": [
    {
     "data": {
      "image/png": "[encoded data removed]",
      "text/latex": [
       "$\\displaystyle - i \\hbar x \\frac{d}{d x} f{\\left(x \\right)} + i \\hbar \\left(x \\frac{d}{d x} f{\\left(x \\right)} + f{\\left(x \\right)}\\right)$"
      ],
      "text/plain": [
       "        d              ⎛  d              ⎞\n",
       "- ⅈ⋅h̅⋅x⋅──(f(x)) + ⅈ⋅h̅⋅⎜x⋅──(f(x)) + f(x)⎟\n",
       "        dx             ⎝  dx             ⎠"
      ]
     },
     "execution_count": 54,
     "metadata": {},
     "output_type": "execute_result"
    }
   ],
   "source": [
    "c3-c4"
   ]
  },
  {
   "cell_type": "code",
   "execution_count": 55,
   "metadata": {},
   "outputs": [
    {
     "data": {
      "image/png": "[encoded data removed]",
      "text/latex": [
       "$\\displaystyle i \\hbar f{\\left(x \\right)}$"
      ],
      "text/plain": [
       "ⅈ⋅h̅⋅f(x)"
      ]
     },
     "execution_count": 55,
     "metadata": {},
     "output_type": "execute_result"
    }
   ],
   "source": [
    "sp.simplify(c3-c4)"
   ]
  },
  {
   "cell_type": "markdown",
   "metadata": {},
   "source": [
    "<div class=\"alert alert-warning\"> por lo tanto el conmutador es $\\large [\\hat{x},\\hat{p}_x]=i\\hbar$"
   ]
  },
  {
   "cell_type": "markdown",
   "metadata": {},
   "source": [
    "**<font color=red> Por favor concluya algo del resultado**"
   ]
  },
  {
   "cell_type": "markdown",
   "metadata": {},
   "source": [
    "**<div class=\"alert alert-success\">c) $\\large [\\hat{p}_x,\\hat{H}_x]$**"
   ]
  },
  {
   "cell_type": "code",
   "execution_count": 56,
   "metadata": {},
   "outputs": [
    {
     "data": {
      "image/png": "[encoded data removed]",
      "text/latex": [
       "$\\displaystyle \\left( f{\\left(x \\right)}, \\  v{\\left(x \\right)}\\right)$"
      ],
      "text/plain": [
       "(f(x), v(x))"
      ]
     },
     "execution_count": 56,
     "metadata": {},
     "output_type": "execute_result"
    }
   ],
   "source": [
    "x, hbar= sp.symbols ('x hbar')\n",
    "f=sp.Function('f')(x)\n",
    "v=sp.Function('v')(x)\n",
    "f, v"
   ]
  },
  {
   "cell_type": "code",
   "execution_count": 57,
   "metadata": {},
   "outputs": [
    {
     "data": {
      "image/png": "[encoded data removed]",
      "text/latex": [
       "$\\displaystyle \\frac{i \\hbar^{3} \\frac{d}{d x} f{\\left(x \\right)} \\frac{d^{2}}{d x^{2}} f{\\left(x \\right)}}{2 m} - i \\hbar \\frac{d}{d x} f{\\left(x \\right)} v{\\left(x \\right)}$"
      ],
      "text/plain": [
       "                2                          \n",
       "   3 d         d                           \n",
       "ⅈ⋅h̅ ⋅──(f(x))⋅───(f(x))                    \n",
       "     dx         2                          \n",
       "              dx              d            \n",
       "─────────────────────── - ⅈ⋅h̅⋅──(f(x)⋅v(x))\n",
       "          2⋅m                 dx           "
      ]
     },
     "execution_count": 57,
     "metadata": {},
     "output_type": "execute_result"
    }
   ],
   "source": [
    "x= sp.symbols('x')\n",
    "hbar=sp.symbols('hbar')\n",
    "m= sp.symbols('m')\n",
    "c4=sp.I*(hbar**3/(2*m))*sp.Derivative(f)*sp.Derivative(f,x,2)-(sp.I*hbar*sp.Derivative((v)*(f)))\n",
    "c4"
   ]
  },
  {
   "cell_type": "code",
   "execution_count": 58,
   "metadata": {},
   "outputs": [
    {
     "data": {
      "image/png": "[encoded data removed]",
      "text/latex": [
       "$\\displaystyle - \\frac{i \\hbar^{3} \\frac{d}{d x} f{\\left(x \\right)} \\frac{d^{2}}{d x^{2}} f{\\left(x \\right)}}{2 m} + i \\hbar v{\\left(x \\right)} \\frac{d}{d x} f{\\left(x \\right)}$"
      ],
      "text/plain": [
       "                  2                          \n",
       "     3 d         d                           \n",
       "  ⅈ⋅h̅ ⋅──(f(x))⋅───(f(x))                    \n",
       "       dx         2                          \n",
       "                dx                   d       \n",
       "- ─────────────────────── + ⅈ⋅h̅⋅v(x)⋅──(f(x))\n",
       "            2⋅m                      dx      "
      ]
     },
     "execution_count": 58,
     "metadata": {},
     "output_type": "execute_result"
    }
   ],
   "source": [
    "x= sp.symbols('x')\n",
    "hbar=sp.symbols('hbar')\n",
    "c5=-sp.I*(hbar**3/(2*m))*sp.Derivative(f)*sp.Derivative(f,x,2)+(sp.I*hbar*(v)*sp.Derivative(f))\n",
    "c5"
   ]
  },
  {
   "cell_type": "code",
   "execution_count": 59,
   "metadata": {},
   "outputs": [
    {
     "data": {
      "image/png": "[encoded data removed]",
      "text/latex": [
       "$\\displaystyle i \\hbar v{\\left(x \\right)} \\frac{d}{d x} f{\\left(x \\right)} - i \\hbar \\frac{d}{d x} f{\\left(x \\right)} v{\\left(x \\right)}$"
      ],
      "text/plain": [
       "         d              d            \n",
       "ⅈ⋅h̅⋅v(x)⋅──(f(x)) - ⅈ⋅h̅⋅──(f(x)⋅v(x))\n",
       "         dx             dx           "
      ]
     },
     "execution_count": 59,
     "metadata": {},
     "output_type": "execute_result"
    }
   ],
   "source": [
    "c3=c4+c5\n",
    "c3"
   ]
  },
  {
   "cell_type": "code",
   "execution_count": 60,
   "metadata": {},
   "outputs": [
    {
     "data": {
      "image/png": "[encoded data removed]",
      "text/latex": [
       "$\\displaystyle - i \\hbar f{\\left(x \\right)} \\frac{d}{d x} v{\\left(x \\right)}$"
      ],
      "text/plain": [
       "          d       \n",
       "-ⅈ⋅h̅⋅f(x)⋅──(v(x))\n",
       "          dx      "
      ]
     },
     "execution_count": 60,
     "metadata": {},
     "output_type": "execute_result"
    }
   ],
   "source": [
    "sp.simplify(c3)"
   ]
  },
  {
   "cell_type": "markdown",
   "metadata": {},
   "source": [
    "<div class=\"alert alert-warning\"> por lo tanto el conmutador es $\\large [\\hat{P}_x,\\hat{H}_x]=-i\\hbar\\frac{d}{dx}v(x)$"
   ]
  },
  {
   "cell_type": "markdown",
   "metadata": {},
   "source": [
    "**<font color=red> ¿¿¿¿¿??????**"
   ]
  },
  {
   "cell_type": "markdown",
   "metadata": {},
   "source": [
    "### **<div class=\"alert alert-info\"><center> SÉPTIMO PUNTO**"
   ]
  },
  {
   "cell_type": "markdown",
   "metadata": {},
   "source": [
    "**<div class=\"alert alert-success\"> Calcule $\\large [\\hat{x}^2,\\frac{d^2}{dx^2}](e^{x^2}+cos(2x))$:**"
   ]
  },
  {
   "cell_type": "code",
   "execution_count": 61,
   "metadata": {},
   "outputs": [
    {
     "data": {
      "image/png": "[encoded data removed]",
      "text/latex": [
       "$\\displaystyle x^{2} \\frac{d^{2}}{d x^{2}} \\left(e^{x^{2}} + \\cos{\\left(2 x \\right)}\\right)$"
      ],
      "text/plain": [
       "     2⎛ ⎛ 2⎞           ⎞\n",
       " 2  d ⎜ ⎝x ⎠           ⎟\n",
       "x ⋅───⎝ℯ     + cos(2⋅x)⎠\n",
       "     2                  \n",
       "   dx                   "
      ]
     },
     "execution_count": 61,
     "metadata": {},
     "output_type": "execute_result"
    }
   ],
   "source": [
    "x=sp.Symbol('x')\n",
    "f=sp.exp(x**2)+sp.cos(2*x)\n",
    "c1=x**2*sp.Derivative(f,x,2)\n",
    "c1"
   ]
  },
  {
   "cell_type": "code",
   "execution_count": 62,
   "metadata": {},
   "outputs": [
    {
     "data": {
      "image/png": "[encoded data removed]",
      "text/latex": [
       "$\\displaystyle \\frac{d^{2}}{d x^{2}} x^{2} \\left(e^{x^{2}} + \\cos{\\left(2 x \\right)}\\right)$"
      ],
      "text/plain": [
       "  2⎛   ⎛ ⎛ 2⎞           ⎞⎞\n",
       " d ⎜ 2 ⎜ ⎝x ⎠           ⎟⎟\n",
       "───⎝x ⋅⎝ℯ     + cos(2⋅x)⎠⎠\n",
       "  2                       \n",
       "dx                        "
      ]
     },
     "execution_count": 62,
     "metadata": {},
     "output_type": "execute_result"
    }
   ],
   "source": [
    "c2=sp.Derivative(x**2*f,x,2)\n",
    "c2"
   ]
  },
  {
   "cell_type": "code",
   "execution_count": 63,
   "metadata": {},
   "outputs": [
    {
     "data": {
      "image/png": "[encoded data removed]",
      "text/latex": [
       "$\\displaystyle 2 x^{2} \\left(2 x^{2} e^{x^{2}} + e^{x^{2}} - 2 \\cos{\\left(2 x \\right)}\\right)$"
      ],
      "text/plain": [
       "     ⎛      ⎛ 2⎞    ⎛ 2⎞             ⎞\n",
       "   2 ⎜   2  ⎝x ⎠    ⎝x ⎠             ⎟\n",
       "2⋅x ⋅⎝2⋅x ⋅ℯ     + ℯ     - 2⋅cos(2⋅x)⎠"
      ]
     },
     "execution_count": 63,
     "metadata": {},
     "output_type": "execute_result"
    }
   ],
   "source": [
    "c3=c1.doit()\n",
    "c3"
   ]
  },
  {
   "cell_type": "code",
   "execution_count": 64,
   "metadata": {},
   "outputs": [
    {
     "data": {
      "image/png": "[encoded data removed]",
      "text/latex": [
       "$\\displaystyle 2 \\left(x^{2} \\left(2 x^{2} e^{x^{2}} + e^{x^{2}} - 2 \\cos{\\left(2 x \\right)}\\right) + 4 x \\left(x e^{x^{2}} - \\sin{\\left(2 x \\right)}\\right) + e^{x^{2}} + \\cos{\\left(2 x \\right)}\\right)$"
      ],
      "text/plain": [
       "  ⎛   ⎛      ⎛ 2⎞    ⎛ 2⎞             ⎞       ⎛   ⎛ 2⎞           ⎞    ⎛ 2⎞    \n",
       "  ⎜ 2 ⎜   2  ⎝x ⎠    ⎝x ⎠             ⎟       ⎜   ⎝x ⎠           ⎟    ⎝x ⎠    \n",
       "2⋅⎝x ⋅⎝2⋅x ⋅ℯ     + ℯ     - 2⋅cos(2⋅x)⎠ + 4⋅x⋅⎝x⋅ℯ     - sin(2⋅x)⎠ + ℯ     + c\n",
       "\n",
       "       ⎞\n",
       "       ⎟\n",
       "os(2⋅x)⎠"
      ]
     },
     "execution_count": 64,
     "metadata": {},
     "output_type": "execute_result"
    }
   ],
   "source": [
    "c4=c2.doit()\n",
    "c4"
   ]
  },
  {
   "cell_type": "code",
   "execution_count": 65,
   "metadata": {},
   "outputs": [
    {
     "data": {
      "image/png": "[encoded data removed]",
      "text/latex": [
       "$\\displaystyle 2 x^{2} \\left(2 x^{2} e^{x^{2}} + e^{x^{2}} - 2 \\cos{\\left(2 x \\right)}\\right) - 2 \\left(x^{2} \\left(2 x^{2} e^{x^{2}} + e^{x^{2}} - 2 \\cos{\\left(2 x \\right)}\\right) + 4 x \\left(x e^{x^{2}} - \\sin{\\left(2 x \\right)}\\right) + e^{x^{2}} + \\cos{\\left(2 x \\right)}\\right)$"
      ],
      "text/plain": [
       "     ⎛      ⎛ 2⎞    ⎛ 2⎞             ⎞     ⎛   ⎛      ⎛ 2⎞    ⎛ 2⎞            \n",
       "   2 ⎜   2  ⎝x ⎠    ⎝x ⎠             ⎟     ⎜ 2 ⎜   2  ⎝x ⎠    ⎝x ⎠            \n",
       "2⋅x ⋅⎝2⋅x ⋅ℯ     + ℯ     - 2⋅cos(2⋅x)⎠ - 2⋅⎝x ⋅⎝2⋅x ⋅ℯ     + ℯ     - 2⋅cos(2⋅x\n",
       "\n",
       " ⎞       ⎛   ⎛ 2⎞           ⎞    ⎛ 2⎞           ⎞\n",
       " ⎟       ⎜   ⎝x ⎠           ⎟    ⎝x ⎠           ⎟\n",
       ")⎠ + 4⋅x⋅⎝x⋅ℯ     - sin(2⋅x)⎠ + ℯ     + cos(2⋅x)⎠"
      ]
     },
     "execution_count": 65,
     "metadata": {},
     "output_type": "execute_result"
    }
   ],
   "source": [
    "c3-c4"
   ]
  },
  {
   "cell_type": "code",
   "execution_count": 66,
   "metadata": {},
   "outputs": [
    {
     "data": {
      "image/png": "[encoded data removed]",
      "text/latex": [
       "$\\displaystyle - 8 x \\left(x e^{x^{2}} - \\sin{\\left(2 x \\right)}\\right) - 2 e^{x^{2}} - 2 \\cos{\\left(2 x \\right)}$"
      ],
      "text/plain": [
       "      ⎛   ⎛ 2⎞           ⎞      ⎛ 2⎞             \n",
       "      ⎜   ⎝x ⎠           ⎟      ⎝x ⎠             \n",
       "- 8⋅x⋅⎝x⋅ℯ     - sin(2⋅x)⎠ - 2⋅ℯ     - 2⋅cos(2⋅x)"
      ]
     },
     "execution_count": 66,
     "metadata": {},
     "output_type": "execute_result"
    }
   ],
   "source": [
    "sp.simplify(c3-c4)"
   ]
  },
  {
   "cell_type": "markdown",
   "metadata": {},
   "source": [
    "### **<div class=\"alert alert-info\"><center> OCTAVO PUNTO**"
   ]
  },
  {
   "cell_type": "markdown",
   "metadata": {},
   "source": [
    "### **<div class=\"alert alert-danger\"> a) $\\large \\hat{A}\\hat{B}g(x)$----> FUNCIÓN**\n",
    "### **<div class=\"alert alert-danger\">b) $\\large\\hat{A}\\hat{B}+\\hat{B}\\hat{A}$---->OPERADOR**\n",
    "### **<div class=\"alert alert-danger\">c) $\\large \\hat{B^2}f(x)$---->FUNCIÓN**\n",
    "### **<div class=\"alert alert-danger\">d)$\\large f(x)^*\\hat{A}f(x)$---->FUNCIÓN**"
   ]
  },
  {
   "cell_type": "markdown",
   "metadata": {},
   "source": [
    "### **<div class=\"alert alert-info\"><center> NOVENO PUNTO**"
   ]
  },
  {
   "cell_type": "markdown",
   "metadata": {},
   "source": [
    "**<div class=\"alert alert-warning\"><center> $\\large [\\Delta x \\Delta p]=\\hbar/2 $**\n"
   ]
  },
  {
   "cell_type": "code",
   "execution_count": 67,
   "metadata": {},
   "outputs": [
    {
     "data": {
      "image/png": "[encoded data removed]",
      "text/latex": [
       "$\\displaystyle \\frac{1.6565176875 \\cdot 10^{-21}}{\\pi}$"
      ],
      "text/plain": [
       "1.6565176875e-21\n",
       "────────────────\n",
       "       π        "
      ]
     },
     "execution_count": 67,
     "metadata": {},
     "output_type": "execute_result"
    }
   ],
   "source": [
    "hbar=6.62607075*(10**-34)/(2*sp.pi)\n",
    "x=1.0*10**(-13)\n",
    "p=hbar/(x*2)\n",
    "p.doit()"
   ]
  },
  {
   "cell_type": "markdown",
   "metadata": {},
   "source": [
    "### **<div class=\"alert alert-info\"><center> DECIMO PUNTO**"
   ]
  },
  {
   "cell_type": "markdown",
   "metadata": {},
   "source": [
    "**<div class=\"alert alert-success\"> $\\large e^{i n \\theta} [0, 2\\pi]$**"
   ]
  },
  {
   "cell_type": "code",
   "execution_count": 68,
   "metadata": {},
   "outputs": [
    {
     "data": {
      "image/png": "[encoded data removed]",
      "text/latex": [
       "$\\displaystyle e^{i n \\theta}$"
      ],
      "text/plain": [
       " ⅈ⋅n⋅θ\n",
       "ℯ     "
      ]
     },
     "execution_count": 68,
     "metadata": {},
     "output_type": "execute_result"
    }
   ],
   "source": [
    "thetha = sp.Symbol('theta')\n",
    "n=sp.Symbol('n')\n",
    "f1=sp.exp(sp.I*n*thetha)\n",
    "f1\n"
   ]
  },
  {
   "cell_type": "code",
   "execution_count": 69,
   "metadata": {},
   "outputs": [
    {
     "data": {
      "image/png": "[encoded data removed]",
      "text/latex": [
       "$\\displaystyle e^{- i n \\theta}$"
      ],
      "text/plain": [
       " -ⅈ⋅n⋅θ\n",
       "ℯ      "
      ]
     },
     "execution_count": 69,
     "metadata": {},
     "output_type": "execute_result"
    }
   ],
   "source": [
    "f2=sp.exp(-sp.I*n*thetha)\n",
    "f2"
   ]
  },
  {
   "cell_type": "code",
   "execution_count": 70,
   "metadata": {},
   "outputs": [
    {
     "data": {
      "image/png": "[encoded data removed]",
      "text/latex": [
       "$\\displaystyle \\left( \\int\\limits_{0}^{2 \\pi} 1\\, d\\theta, \\  2 \\pi\\right)$"
      ],
      "text/plain": [
       "⎛2⋅π          ⎞\n",
       "⎜ ⌠           ⎟\n",
       "⎜ ⎮  1 dθ, 2⋅π⎟\n",
       "⎜ ⌡           ⎟\n",
       "⎝ 0           ⎠"
      ]
     },
     "execution_count": 70,
     "metadata": {},
     "output_type": "execute_result"
    }
   ],
   "source": [
    "x=sp.Symbol('x')\n",
    "f1=sp.exp(sp.I*n*thetha)\n",
    "f2=sp.exp(-sp.I*n*thetha)\n",
    "If=sp.Integral((sp.exp(sp.I*n*thetha)*sp.exp(-sp.I*n*thetha))**2, (thetha, 0, 2*sp.pi))\n",
    "If, If.doit()"
   ]
  },
  {
   "cell_type": "markdown",
   "metadata": {},
   "source": [
    "### constante de normalización \n",
    "$$\\large A=\\frac{1}{\\sqrt{b}}$$\n",
    "$$\\large A=\\frac{1}{\\sqrt{2\\pi }}$$\n",
    "$$\\large Fn=\\frac{1}{\\sqrt{\\pi}}e^{in θ}$$"
   ]
  },
  {
   "cell_type": "code",
   "execution_count": 71,
   "metadata": {},
   "outputs": [
    {
     "data": {
      "image/png": "[encoded data removed]",
      "text/latex": [
       "$\\displaystyle \\left( \\int\\limits_{0}^{2 \\pi} \\frac{1}{2 \\pi}\\, d\\theta, \\  1\\right)$"
      ],
      "text/plain": [
       "⎛2⋅π          ⎞\n",
       "⎜ ⌠           ⎟\n",
       "⎜ ⎮   1       ⎟\n",
       "⎜ ⎮  ─── dθ, 1⎟\n",
       "⎜ ⎮  2⋅π      ⎟\n",
       "⎜ ⌡           ⎟\n",
       "⎝ 0           ⎠"
      ]
     },
     "execution_count": 71,
     "metadata": {},
     "output_type": "execute_result"
    }
   ],
   "source": [
    "x=sp.Symbol('x')\n",
    "f1=sp.exp(sp.I*n*thetha)\n",
    "f2=sp.exp(-sp.I*n*thetha)\n",
    "A=1/sp.sqrt(2*sp.pi)\n",
    "If=sp.Integral((A*(sp.exp(sp.I*n*thetha))*(sp.exp(-sp.I*n*thetha)))**2, (thetha, 0, 2*sp.pi))\n",
    "If, If.doit()"
   ]
  },
  {
   "cell_type": "code",
   "execution_count": null,
   "metadata": {},
   "outputs": [],
   "source": []
  }
 ],
 "metadata": {
  "kernelspec": {
   "display_name": "Python 3",
   "language": "python",
   "name": "python3"
  },
  "language_info": {
   "codemirror_mode": {
    "name": "ipython",
    "version": 3
   },
   "file_extension": ".py",
   "mimetype": "text/x-python",
   "name": "python",
   "nbconvert_exporter": "python",
   "pygments_lexer": "ipython3",
   "version": "3.8.3"
  }
 },
 "nbformat": 4,
 "nbformat_minor": 4
}

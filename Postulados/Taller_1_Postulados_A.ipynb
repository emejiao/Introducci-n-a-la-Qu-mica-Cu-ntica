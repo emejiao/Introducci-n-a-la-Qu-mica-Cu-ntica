{
 "cells": [
  {
   "cell_type": "code",
   "execution_count": 9,
   "metadata": {},
   "outputs": [],
   "source": [
    "from IPython.display import HTML"
   ]
  },
  {
   "cell_type": "markdown",
   "metadata": {
    "slideshow": {
     "slide_type": "slide"
    }
   },
   "source": [
    "<div class=\"alert alert-success\" role=\"alert\">\n",
    "  <h2 class=\"alert-heading\">Introducción a la Química Cuántica: Taller 1-Postulados de la Mecánica Cuántica</h2>\n",
    "  <h3 class=\"alert-heading\">Prof. Enrique Mejía Ospino, emejia@uis.edu.co</h3>\n",
    "  <h3 class=\"alert-heading\">Escuela de Química</h3>\n",
    "  <h3 class=\"alert-heading\">Universidad Industrial de Santander</h3>\n",
    "  <p>\n",
    "  </div>"
   ]
  },
  {
   "cell_type": "markdown",
   "metadata": {
    "slideshow": {
     "slide_type": "slide"
    }
   },
   "source": [
    "### <div class=\"alert alert-info\"><font color='blue'> <h2 class=\"alert-heading\">Preguntas</h2>"
   ]
  },
  {
   "cell_type": "markdown",
   "metadata": {
    "slideshow": {
     "slide_type": "subslide"
    }
   },
   "source": [
    "**<div class=\"alert alert-warning\">1. El comportamiento de una partícula libre está descrito por\n",
    "la función . Calcular el valor medio del momento lineal, .\n",
    "(Por lo indicado antes, el coeficiente C es prácticamente nulo).**\n",
    "**<div class=\"alert alert-warning\">a) $\\large \\frac{1}{x} [0,\\infty)$**\n",
    "**<div class=\"alert alert-warning\">b) $\\large e^{-|x|} (-\\infty, +\\infty)$**\n",
    "**<div class=\"alert alert-warning\">c) $\\large sen(x) [-4π, 4π]$**\n",
    "**<div class=\"alert alert-warning\">d) $\\large e^{-x} [0, \\infty)$**\n",
    "**<div class=\"alert alert-warning\">e) $\\large e^{-x}sen(x) [0, \\infty)$**\n",
    "\n",
    "**<div class=\"alert alert-info\">2. De las siguientes funciones, normalice aquellas en que la normalización sea posible:**\n",
    "**<div class=\"alert alert-info\">a) $\\large e^{-x} [0, \\infty)$**\n",
    "**<div class=\"alert alert-info\">b) $\\large e^{i\\theta} [0, 2\\pi]$**\n",
    "**<div class=\"alert alert-info\">c) $\\large xe^{-x} [0, \\infty)$**\n",
    "\n",
    "\n",
    "**<div class=\"alert alert-warning\">3. La función de onda para una partícula en un sistema monodimensional definido entre $\\large x = 0$ y $\\large x = \\infty$, a $\\large t=0$ es $\\large \\Psi = \\sqrt{\\frac{2}{a}}e^{\\frac{-x}{a}}$ donde $\\large a$ es 1.0 nm. A $\\large t=0$ se mide la posición de la partícula.\n",
    "a) Calcular la probabilidad de que la partícula se encuentre entre $\\large x=1.5000 nm$ y $\\large x=1.5001\n",
    "nm$. b) Calcular la probabilidad de que la partícula se encuentre entre $\\large x=0$ y $\\large x=2 nm$. c)\n",
    "Verifique que la función de onda está normalizada.**\n",
    "\n",
    "**<div class=\"alert alert-warning\">4. Indique cuál de los siguientes operadores es lineal:**\n",
    "**<div class=\"alert alert-warning\">a) $\\large \\hat{A}f(x)=\\frac{df(x)}{dx}$ (derivada de $\\large f(x)$)**\n",
    "**<div class=\"alert alert-warning\">b) $\\large \\hat{A}f(x)=f^*(x)$ (forma la compleja conjugada de $\\large f(x)$)**\n",
    "**<div class=\"alert alert-warning\">c) $\\large \\hat{A}f(x)=ln f(x)$ (toma el logaritmo de $\\large f(x)$)**\n",
    "**<div class=\"alert alert-warning\">d) $\\large \\hat{A}f(x)= \\int f(x)dx$ (f (integral de $\\large f(x)$)**\n",
    "    \n",
    "**<div class=\"alert alert-success\">5. a) Cuál de las siguientes funciones es autofunción del operador $\\large d/dx$:** \n",
    "**<div class=\"alert alert-success\">a) $\\large e^{ikx}$ ; b) $\\large cos(kx)$ ; c) $\\large k$, d) $\\large kx$ ; e) $\\large e^{−ax^{2}}$. ¿Cuáles son sus autovalores? b) Determine cuáles de las funciones anteriores es también autofunción del operador $\\large \\frac{d^2}{dx^2}$ y dé los autovalores correspondientes.**\n",
    "    \n",
    "**<div class=\"alert alert-success\">6. Halle los conmutadores siguientes:**\n",
    "**<div class=\"alert alert-success\">a) $\\large [\\hat{x}^2,\\frac{d^2}{dx^2}]$**\n",
    "**<div class=\"alert alert-success\">b) $\\large [\\hat{x},\\hat{p}_x]$**\n",
    "**<div class=\"alert alert-success\">c) $\\large [\\hat{p}_x,\\hat{H}_x]$**\n",
    "    \n",
    "**<div class=\"alert alert-danger\">7. Calcule $\\large [\\hat{x}^2,\\frac{d^2}{dx^2}](e^{x^2}+cos(2x))$:**\n",
    "\n",
    "**<div class=\"alert alert-danger\">8. Deduzca si cada una de las expresiones siguientes es un operador o una función.**\n",
    "**<div class=\"alert alert-danger\">a) $\\large \\hat{A}\\hat{B}g(x)$ ; b) $\\large \\hat{A}\\hat{B}+\\hat{B}\\hat{A}$ ; c) $\\large \\hat{B^2}f(x)$, d) $\\large f(x)^*\\hat{A}f(x)$**\n",
    "    \n",
    "**<div class=\"alert alert-danger\">9. Si la posición de un electrón se mide con una precisión de ±0.001 Å ¿Cuál será la máxima precisión para el momento?**\n",
    "\n",
    "**<div class=\"alert alert-danger\">10. Demuestre que en el intervalo 0 ≤ θ ≤ 2π, las funciones $\\large e^{inθ}$, donde n=0, ±1, ±2, ..., forman un conjunto de funciones ortogonales. Halle la constante de normalización para este conjunto de funciones.**"
   ]
  },
  {
   "cell_type": "markdown",
   "metadata": {},
   "source": [
    "## SOLUCIÓN"
   ]
  },
  {
   "cell_type": "markdown",
   "metadata": {},
   "source": [
    "**<div class=\"alert alert-warning\">1. Determinar cuáles de las siguientes funciones son aceptables como funciones de onda, definidas en los intervalos indicados.**\n",
    "**<div class=\"alert alert-warning\">a) $\\large \\frac{1}{x} [0,\\infty)$**\n",
    "**<div class=\"alert alert-warning\">b) $\\large e^{-|x|} (-\\infty, +\\infty)$**\n",
    "**<div class=\"alert alert-warning\">c) $\\large sen(x) [-4π, 4π]$**\n",
    "**<div class=\"alert alert-warning\">d) $\\large e^{-x} [0, \\infty)$**\n",
    "**<div class=\"alert alert-warning\">e) $\\large e^{-x}sen(x) [0, \\infty)$**"
   ]
  },
  {
   "cell_type": "code",
   "execution_count": 1,
   "metadata": {},
   "outputs": [],
   "source": [
    "import matplotlib as mpl # matplotlib library for plotting and visualization\n",
    "import matplotlib.pylab as plt # matplotlib library for plotting and visualization\n",
    "import numpy as np #numpy library for numerical manipulation, especially suited for data arrays\n",
    "import sympy as sp\n",
    "sp.init_printing(use_unicode=True)"
   ]
  },
  {
   "cell_type": "code",
   "execution_count": 2,
   "metadata": {},
   "outputs": [
    {
     "data": {
      "text/plain": [
       "Text(0, 0.5, 'f(x)')"
      ]
     },
     "execution_count": 2,
     "metadata": {},
     "output_type": "execute_result"
    },
    {
     "data": {
      "image/png": "[encoded data removed]",
      "text/plain": [
       "<Figure size 432x288 with 1 Axes>"
      ]
     },
     "metadata": {
      "needs_background": "light"
     },
     "output_type": "display_data"
    }
   ],
   "source": [
    "x = np.arange(0.1, 2.0, 0.01)\n",
    "f=1/x\n",
    "plt.plot(x, f, 'bo', linewidth=2)\n",
    "plt.title('$f(x)=1/x$')\n",
    "plt.xlabel('x')\n",
    "plt.ylabel('f(x)')"
   ]
  },
  {
   "cell_type": "code",
   "execution_count": 3,
   "metadata": {},
   "outputs": [
    {
     "data": {
      "text/plain": [
       "Text(0, 0.5, 'f(x)')"
      ]
     },
     "execution_count": 3,
     "metadata": {},
     "output_type": "execute_result"
    },
    {
     "data": {
      "image/png": "[encoded data removed]",
      "text/plain": [
       "<Figure size 432x288 with 1 Axes>"
      ]
     },
     "metadata": {
      "needs_background": "light"
     },
     "output_type": "display_data"
    }
   ],
   "source": [
    "#from matplotlib.font_manager import FontProperties\n",
    "\n",
    "x = np.arange(-4, 4, 0.01)\n",
    "f=np.sin(np.pi*x)\n",
    "plt.plot(x, f, 'b', linewidth=2)\n",
    "plt.title('$f(x)=1/x$')\n",
    "plt.xlabel('x')\n",
    "plt.ylabel('f(x)')"
   ]
  },
  {
   "cell_type": "code",
   "execution_count": null,
   "metadata": {},
   "outputs": [],
   "source": []
  },
  {
   "cell_type": "code",
   "execution_count": 4,
   "metadata": {},
   "outputs": [
    {
     "data": {
      "image/png": "[encoded data removed]",
      "text/latex": [
       "$\\displaystyle \\left( \\frac{d}{d x} \\sin{\\left(x \\right)}, \\  \\cos{\\left(x \\right)}\\right)$"
      ],
      "text/plain": [
       "⎛d                 ⎞\n",
       "⎜──(sin(x)), cos(x)⎟\n",
       "⎝dx                ⎠"
      ]
     },
     "execution_count": 4,
     "metadata": {},
     "output_type": "execute_result"
    }
   ],
   "source": [
    "x=sp.Symbol('x')\n",
    "f=sp.sin(x)\n",
    "Df=sp.Derivative(f, x)\n",
    "Df, Df.doit()\n",
    "#sp.diff(1/x, x, 1)"
   ]
  },
  {
   "cell_type": "code",
   "execution_count": 22,
   "metadata": {},
   "outputs": [
    {
     "data": {
      "image/png": "[encoded data removed]",
      "text/latex": [
       "$\\displaystyle \\left( \\frac{d^{2}}{d x^{2}} \\sin{\\left(x \\right)}, \\  - \\sin{\\left(x \\right)}\\right)$"
      ],
      "text/plain": [
       "⎛  2                 ⎞\n",
       "⎜ d                  ⎟\n",
       "⎜───(sin(x)), -sin(x)⎟\n",
       "⎜  2                 ⎟\n",
       "⎝dx                  ⎠"
      ]
     },
     "execution_count": 22,
     "metadata": {},
     "output_type": "execute_result"
    }
   ],
   "source": [
    "x=sp.Symbol('x')\n",
    "f=sp.sin(x)\n",
    "Df=sp.Derivative(f, x, 2)\n",
    "Df, Df.doit()\n",
    "#sp.diff(1/x, x, 1)"
   ]
  },
  {
   "cell_type": "code",
   "execution_count": 23,
   "metadata": {},
   "outputs": [
    {
     "data": {
      "image/png": "[encoded data removed]",
      "text/latex": [
       "$\\displaystyle \\left( \\int\\limits_{-12.5663706143592}^{12.5663706143592} \\sin^{2}{\\left(x \\right)}\\, dx, \\  12.5663706143592\\right)$"
      ],
      "text/plain": [
       "⎛ 12.5663706143592                             ⎞\n",
       "⎜        ⌠                                     ⎟\n",
       "⎜        ⎮            2                        ⎟\n",
       "⎜        ⎮         sin (x) dx, 12.5663706143592⎟\n",
       "⎜        ⌡                                     ⎟\n",
       "⎝-12.5663706143592                             ⎠"
      ]
     },
     "execution_count": 23,
     "metadata": {},
     "output_type": "execute_result"
    }
   ],
   "source": [
    "x=sp.Symbol('x')\n",
    "f=sp.sin(x)\n",
    "If=sp.Integral(f**2, (x, -4*np.pi, 4*np.pi))\n",
    "#If2=sp.integrate((1/x)**2, (x, 0, sp.oo))\n",
    "If, If.doit()"
   ]
  },
  {
   "cell_type": "code",
   "execution_count": 4,
   "metadata": {},
   "outputs": [
    {
     "data": {
      "image/png": "[encoded data removed]",
      "text/latex": [
       "$\\displaystyle - \\frac{1}{x^{2}}$"
      ],
      "text/plain": [
       "-1 \n",
       "───\n",
       "  2\n",
       " x "
      ]
     },
     "execution_count": 4,
     "metadata": {},
     "output_type": "execute_result"
    }
   ],
   "source": [
    "x=sp.Symbol('x')\n",
    "Df=sp.Derivative(1/x, x)\n",
    "#Df, Df.doit()\n",
    "sp.diff(1/x, x, 1)"
   ]
  },
  {
   "cell_type": "code",
   "execution_count": 8,
   "metadata": {},
   "outputs": [
    {
     "data": {
      "image/png": "[encoded data removed]",
      "text/latex": [
       "$\\displaystyle \\left( \\frac{d^{2}}{d x^{2}} \\frac{1}{x}, \\  \\frac{2}{x^{3}}\\right)$"
      ],
      "text/plain": [
       "⎛  2       ⎞\n",
       "⎜ d ⎛1⎞  2 ⎟\n",
       "⎜───⎜─⎟, ──⎟\n",
       "⎜  2⎝x⎠   3⎟\n",
       "⎝dx      x ⎠"
      ]
     },
     "execution_count": 8,
     "metadata": {},
     "output_type": "execute_result"
    }
   ],
   "source": [
    "x=sp.Symbol('x')\n",
    "D2f=sp.Derivative(1/x, x, 2)\n",
    "D2f, D2f.doit()"
   ]
  },
  {
   "cell_type": "code",
   "execution_count": 11,
   "metadata": {},
   "outputs": [
    {
     "data": {
      "image/png": "[encoded data removed]",
      "text/latex": [
       "$\\displaystyle \\left( \\int\\limits_{0}^{\\infty} \\frac{1}{x^{2}}\\, dx, \\  \\infty, \\  \\infty\\right)$"
      ],
      "text/plain": [
       "⎛∞            ⎞\n",
       "⎜⌠            ⎟\n",
       "⎜⎮ 1          ⎟\n",
       "⎜⎮ ── dx, ∞, ∞⎟\n",
       "⎜⎮  2         ⎟\n",
       "⎜⎮ x          ⎟\n",
       "⎜⌡            ⎟\n",
       "⎝0            ⎠"
      ]
     },
     "execution_count": 11,
     "metadata": {},
     "output_type": "execute_result"
    }
   ],
   "source": [
    "x=sp.Symbol('x')\n",
    "If=sp.Integral((1/x)**2, (x, 0, sp.oo))\n",
    "If2=sp.integrate((1/x)**2, (x, 0, sp.oo))\n",
    "If, If.doit(), If2"
   ]
  },
  {
   "cell_type": "code",
   "execution_count": 4,
   "metadata": {},
   "outputs": [
    {
     "data": {
      "image/png": "[encoded data removed]",
      "text/latex": [
       "$\\displaystyle \\int\\limits_{0}^{2 \\pi} 1\\, dtetha$"
      ],
      "text/plain": [
       "2⋅π           \n",
       " ⌠            \n",
       " ⎮  1 d(tetha)\n",
       " ⌡            \n",
       " 0            "
      ]
     },
     "execution_count": 4,
     "metadata": {},
     "output_type": "execute_result"
    }
   ],
   "source": [
    "tetha=Symbol('tetha')\n",
    "Y1=exp(I*tetha)\n",
    "Y1C=exp(-I*tetha)\n",
    "I1=Integral(Y1*Y1C,(tetha, 0, 2*pi))\n",
    "I1"
   ]
  },
  {
   "cell_type": "code",
   "execution_count": 5,
   "metadata": {},
   "outputs": [
    {
     "data": {
      "image/png": "[encoded data removed]",
      "text/latex": [
       "$\\displaystyle 2 \\pi$"
      ],
      "text/plain": [
       "2⋅π"
      ]
     },
     "execution_count": 5,
     "metadata": {},
     "output_type": "execute_result"
    }
   ],
   "source": [
    "I1.doit()"
   ]
  },
  {
   "cell_type": "markdown",
   "metadata": {},
   "source": [
    "$N=\\frac{1}{\\sqrt(2\\pi)}$, entonces la función normalizada sería: $\\Psi=\\frac{1}{\\sqrt(2\\pi)}exp(i\\theta)$"
   ]
  },
  {
   "cell_type": "code",
   "execution_count": 37,
   "metadata": {},
   "outputs": [
    {
     "data": {
      "image/png": "[encoded data removed]",
      "text/latex": [
       "$\\displaystyle 9.9564179985856 \\cdot 10^{-6}$"
      ],
      "text/plain": [
       "9.95641799858560e-6"
      ]
     },
     "execution_count": 37,
     "metadata": {},
     "output_type": "execute_result"
    }
   ],
   "source": [
    "x, a =sp.symbols('x a')\n",
    "a=1\n",
    "Y2=(sp.sqrt(2/a))*sp.exp(-x/a)\n",
    "I2=sp.integrate(Y2**2, (x, 1.5000, 1.5001))\n",
    "I2"
   ]
  },
  {
   "cell_type": "code",
   "execution_count": 38,
   "metadata": {},
   "outputs": [
    {
     "data": {
      "image/png": "[encoded data removed]",
      "text/latex": [
       "$\\displaystyle 9.9564179985856 \\cdot 10^{-6}$"
      ],
      "text/plain": [
       "9.95641799858560e-6"
      ]
     },
     "execution_count": 38,
     "metadata": {},
     "output_type": "execute_result"
    }
   ],
   "source": [
    "I2.doit()"
   ]
  },
  {
   "cell_type": "code",
   "execution_count": 54,
   "metadata": {},
   "outputs": [
    {
     "data": {
      "image/png": "[encoded data removed]",
      "text/latex": [
       "$\\displaystyle \\left( \\frac{\\partial}{\\partial x} e^{i k x}, \\  i k e^{i k x}, \\  - k^{2} e^{i k x}\\right)$"
      ],
      "text/plain": [
       "⎛∂ ⎛ ⅈ⋅k⋅x⎞       ⅈ⋅k⋅x    2  ⅈ⋅k⋅x⎞\n",
       "⎜──⎝ℯ     ⎠, ⅈ⋅k⋅ℯ     , -k ⋅ℯ     ⎟\n",
       "⎝∂x                                ⎠"
      ]
     },
     "execution_count": 54,
     "metadata": {},
     "output_type": "execute_result"
    }
   ],
   "source": [
    "x, k=sp.symbols('x k')\n",
    "Y3=sp.exp(sp.I*k*x)\n",
    "D1=sp.Derivative(Y3, x)\n",
    "D2=sp.Derivative(Y3, x, 2)\n",
    "D1, D1.doit(), D2.doit()"
   ]
  },
  {
   "cell_type": "markdown",
   "metadata": {},
   "source": [
    "**<div class=\"alert alert-success\">b) $\\large [\\hat{x},\\hat{p}_x]$**"
   ]
  },
  {
   "cell_type": "code",
   "execution_count": 58,
   "metadata": {},
   "outputs": [
    {
     "data": {
      "image/png": "[encoded data removed]",
      "text/latex": [
       "$\\displaystyle \\left( f{\\left(x \\right)}, \\  V{\\left(x \\right)}\\right)$"
      ],
      "text/plain": [
       "(f(x), V(x))"
      ]
     },
     "execution_count": 58,
     "metadata": {},
     "output_type": "execute_result"
    }
   ],
   "source": [
    "x, hbar=sp.symbols('x hbar')\n",
    "f=sp.Function('f')(x)\n",
    "V=sp.Function('V')(x)\n",
    "f, V"
   ]
  },
  {
   "cell_type": "code",
   "execution_count": 46,
   "metadata": {},
   "outputs": [
    {
     "data": {
      "image/png": "[encoded data removed]",
      "text/latex": [
       "$\\displaystyle - i \\hbar x \\frac{d}{d x} f{\\left(x \\right)}$"
      ],
      "text/plain": [
       "       d       \n",
       "-ⅈ⋅h̅⋅x⋅──(f(x))\n",
       "       dx      "
      ]
     },
     "execution_count": 46,
     "metadata": {},
     "output_type": "execute_result"
    }
   ],
   "source": [
    "c1=(-sp.I*hbar)*x*sp.Derivative(f,x)\n",
    "c1"
   ]
  },
  {
   "cell_type": "code",
   "execution_count": 47,
   "metadata": {},
   "outputs": [
    {
     "data": {
      "image/png": "[encoded data removed]",
      "text/latex": [
       "$\\displaystyle - i \\hbar \\frac{d}{d x} x f{\\left(x \\right)}$"
      ],
      "text/plain": [
       "     d         \n",
       "-ⅈ⋅h̅⋅──(x⋅f(x))\n",
       "     dx        "
      ]
     },
     "execution_count": 47,
     "metadata": {},
     "output_type": "execute_result"
    }
   ],
   "source": [
    "c2=(-sp.I*hbar)*sp.Derivative(x*f,x)\n",
    "c2"
   ]
  },
  {
   "cell_type": "code",
   "execution_count": 48,
   "metadata": {},
   "outputs": [
    {
     "data": {
      "image/png": "[encoded data removed]",
      "text/latex": [
       "$\\displaystyle - i \\hbar x \\frac{d}{d x} f{\\left(x \\right)}$"
      ],
      "text/plain": [
       "       d       \n",
       "-ⅈ⋅h̅⋅x⋅──(f(x))\n",
       "       dx      "
      ]
     },
     "execution_count": 48,
     "metadata": {},
     "output_type": "execute_result"
    }
   ],
   "source": [
    "c3=c1.doit()\n",
    "c3"
   ]
  },
  {
   "cell_type": "code",
   "execution_count": 49,
   "metadata": {},
   "outputs": [
    {
     "data": {
      "image/png": "[encoded data removed]",
      "text/latex": [
       "$\\displaystyle - i \\hbar \\left(x \\frac{d}{d x} f{\\left(x \\right)} + f{\\left(x \\right)}\\right)$"
      ],
      "text/plain": [
       "     ⎛  d              ⎞\n",
       "-ⅈ⋅h̅⋅⎜x⋅──(f(x)) + f(x)⎟\n",
       "     ⎝  dx             ⎠"
      ]
     },
     "execution_count": 49,
     "metadata": {},
     "output_type": "execute_result"
    }
   ],
   "source": [
    "c4=c2.doit()\n",
    "c4"
   ]
  },
  {
   "cell_type": "code",
   "execution_count": 50,
   "metadata": {},
   "outputs": [
    {
     "data": {
      "image/png": "[encoded data removed]",
      "text/latex": [
       "$\\displaystyle - i \\hbar x \\frac{d}{d x} f{\\left(x \\right)} + i \\hbar \\left(x \\frac{d}{d x} f{\\left(x \\right)} + f{\\left(x \\right)}\\right)$"
      ],
      "text/plain": [
       "        d              ⎛  d              ⎞\n",
       "- ⅈ⋅h̅⋅x⋅──(f(x)) + ⅈ⋅h̅⋅⎜x⋅──(f(x)) + f(x)⎟\n",
       "        dx             ⎝  dx             ⎠"
      ]
     },
     "execution_count": 50,
     "metadata": {},
     "output_type": "execute_result"
    }
   ],
   "source": [
    "c3-c4"
   ]
  },
  {
   "cell_type": "code",
   "execution_count": 52,
   "metadata": {},
   "outputs": [
    {
     "data": {
      "image/png": "[encoded data removed]",
      "text/latex": [
       "$\\displaystyle i \\hbar f{\\left(x \\right)}$"
      ],
      "text/plain": [
       "ⅈ⋅h̅⋅f(x)"
      ]
     },
     "execution_count": 52,
     "metadata": {},
     "output_type": "execute_result"
    }
   ],
   "source": [
    "sp.simplify(c3-c4)"
   ]
  },
  {
   "cell_type": "markdown",
   "metadata": {},
   "source": [
    "$[x, p]f(x)=i\\hbar f(x)$m por tanto el conmutador $[x, p]=i\\hbar$"
   ]
  },
  {
   "cell_type": "code",
   "execution_count": null,
   "metadata": {},
   "outputs": [],
   "source": []
  },
  {
   "cell_type": "code",
   "execution_count": 24,
   "metadata": {},
   "outputs": [
    {
     "data": {
      "image/png": "[encoded data removed]",
      "text/latex": [
       "$\\displaystyle \\left( \\int\\limits_{0}^{\\infty} e^{- 2 x}\\, dx, \\  \\frac{1}{2}\\right)$"
      ],
      "text/plain": [
       "⎛∞              ⎞\n",
       "⎜⌠              ⎟\n",
       "⎜⎮  -2⋅x        ⎟\n",
       "⎜⎮ ℯ     dx, 1/2⎟\n",
       "⎜⌡              ⎟\n",
       "⎝0              ⎠"
      ]
     },
     "execution_count": 24,
     "metadata": {},
     "output_type": "execute_result"
    }
   ],
   "source": [
    "tta=sp.Symbol('tta')\n",
    "f=sp.exp(-x)\n",
    "If=sp.Integral(f**2, (x, 0, sp.oo))\n",
    "If, If.doit()"
   ]
  },
  {
   "cell_type": "markdown",
   "metadata": {},
   "source": [
    "### Constante de Normalización\n",
    "$$\\large A=\\frac{1}{\\sqrt{b}}$$\n",
    "$$\\large A=\\frac{1}{\\sqrt{0.5}}$$\n",
    "$$\\large Fn=\\sqrt{2}e^{-x}$$"
   ]
  },
  {
   "cell_type": "code",
   "execution_count": 27,
   "metadata": {},
   "outputs": [
    {
     "data": {
      "image/png": "[encoded data removed]",
      "text/latex": [
       "$\\displaystyle \\left( \\int\\limits_{0}^{\\infty} 2.0 e^{- 2 x}\\, dx, \\  1.0\\right)$"
      ],
      "text/plain": [
       "⎛∞                  ⎞\n",
       "⎜⌠                  ⎟\n",
       "⎜⎮      -2⋅x        ⎟\n",
       "⎜⎮ 2.0⋅ℯ     dx, 1.0⎟\n",
       "⎜⌡                  ⎟\n",
       "⎝0                  ⎠"
      ]
     },
     "execution_count": 27,
     "metadata": {},
     "output_type": "execute_result"
    }
   ],
   "source": [
    "A=1/((0.5)**0.5)\n",
    "fn=((2)**0.5)*sp.exp(-x)\n",
    "Ifn=sp.Integral(fn**2, (x, 0, sp.oo))\n",
    "Ifn, Ifn.doit()"
   ]
  },
  {
   "cell_type": "code",
   "execution_count": 36,
   "metadata": {},
   "outputs": [
    {
     "data": {
      "image/png": "[encoded data removed]",
      "text/latex": [
       "$\\displaystyle \\left( \\int\\limits_{0}^{2 \\pi} e^{i tta} e^{- i \\overline{tta}}\\, dtta, \\  2 \\pi\\right)$"
      ],
      "text/plain": [
       "⎛2⋅π                           ⎞\n",
       "⎜ ⌠                            ⎟\n",
       "⎜ ⎮             ___            ⎟\n",
       "⎜ ⎮   ⅈ⋅tta  -ⅈ⋅tta            ⎟\n",
       "⎜ ⎮  ℯ     ⋅ℯ       d(tta), 2⋅π⎟\n",
       "⎜ ⌡                            ⎟\n",
       "⎝ 0                            ⎠"
      ]
     },
     "execution_count": 36,
     "metadata": {},
     "output_type": "execute_result"
    }
   ],
   "source": [
    "tta=sp.Symbol('tta')\n",
    "f=sp.exp(sp.I*tta)\n",
    "fc=sp.exp(-sp.I*tta)\n",
    "fc1=sp.conjugate(f)\n",
    "If=sp.Integral(fc1*f, (tta, 0, 2*sp.pi))\n",
    "If, If.doit()"
   ]
  },
  {
   "cell_type": "code",
   "execution_count": 4,
   "metadata": {},
   "outputs": [
    {
     "data": {
      "image/png": "[encoded data removed]",
      "text/latex": [
       "$\\displaystyle - \\frac{1}{x^{2}}$"
      ],
      "text/plain": [
       "-1 \n",
       "───\n",
       "  2\n",
       " x "
      ]
     },
     "execution_count": 4,
     "metadata": {},
     "output_type": "execute_result"
    }
   ],
   "source": [
    "x=sp.Symbol('x')\n",
    "f=sp.exp(s)\n",
    "Df=sp.Derivative(1/x, x)\n",
    "#Df, Df.doit()\n",
    "sp.diff(1/x, x, 1)"
   ]
  }
 ],
 "metadata": {
  "kernelspec": {
   "display_name": "Python 3",
   "language": "python",
   "name": "python3"
  },
  "language_info": {
   "codemirror_mode": {
    "name": "ipython",
    "version": 3
   },
   "file_extension": ".py",
   "mimetype": "text/x-python",
   "name": "python",
   "nbconvert_exporter": "python",
   "pygments_lexer": "ipython3",
   "version": "3.8.5"
  }
 },
 "nbformat": 4,
 "nbformat_minor": 4
}

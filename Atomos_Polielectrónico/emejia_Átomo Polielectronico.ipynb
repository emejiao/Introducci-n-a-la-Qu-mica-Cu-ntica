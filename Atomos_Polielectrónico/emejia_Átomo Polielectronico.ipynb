{
 "cells": [
  {
   "cell_type": "markdown",
   "metadata": {
    "slideshow": {
     "slide_type": "slide"
    }
   },
   "source": [
    "<div class=\"alert alert-info\" role=\"alert\">\n",
    "  <h1 class=\"alert-heading\">Introducción a la Química Cuántica</h1>\n",
    "  <h3 class=\"alert-heading\">Prof. Enrique Mejía Ospino, emejia@uis.edu.co</h3>\n",
    "  <h4 class=\"alert-heading\">Escuela de Química</h4>\n",
    "  <h5 class=\"alert-heading\">Universidad Industrial de Santander</h5>\n",
    "  <p>\n",
    "  </div>"
   ]
  },
  {
   "cell_type": "markdown",
   "metadata": {},
   "source": [
    "<div class=\"alert alert-info\"> \n",
    "\n",
    "### **<h3 class=\"alert-heading\">Átomos Polielectrónicos</h3>**"
   ]
  },
  {
   "cell_type": "code",
   "execution_count": 1,
   "metadata": {},
   "outputs": [],
   "source": [
    "from IPython.display import HTML"
   ]
  },
  {
   "cell_type": "markdown",
   "metadata": {},
   "source": [
    "### Librerias usadas:"
   ]
  },
  {
   "cell_type": "code",
   "execution_count": 2,
   "metadata": {},
   "outputs": [],
   "source": [
    "import matplotlib.pylab as plt # Libreria para graficación y visualización\n",
    "import numpy as np # Librería para manipulación numerica, especialmente para arreglos de datos\n",
    "import sympy as sp\n",
    "%matplotlib inline"
   ]
  },
  {
   "cell_type": "markdown",
   "metadata": {},
   "source": [
    "## <font color=red>**Momento angular L y S de un átomo**"
   ]
  },
  {
   "cell_type": "markdown",
   "metadata": {},
   "source": [
    "<font color=blue size=4>**Cada electrón del átomo tiene un momento angular orbital y un momento angular de espín, caracterizado por los números cuánticos ${l_i,m_i,m_{si}}$ para $i : 1, 2, . . .N$. Además, podemos hablar de un momento angular total orbital y otro espinorial para el átomo en conjunto, siendo sus operadores\n",
    "\\begin{align}\n",
    "    \\hat{L} = \\sum_{i=1}^{N} \\hat{l}_i, \\space\\space  \\hat{S} = \\sum_{i=1}^{N} \\hat{s}_i, \\space\\space \\hat{L}_z = \\sum_{i=1}^{N} \\hat{l}_{zi}, \\space\\space   \\hat{S}_z = \\sum_{i=1}^{N} \\hat{s}_{zi}\n",
    "\\end{align}**"
   ]
  },
  {
   "cell_type": "markdown",
   "metadata": {},
   "source": [
    "<font color=black size=4><p style='text-align: justify;'>**Como en el caso del acoplamiento de dos momentos angulares, podemos formar dos conjuntos de operadores compatibles:**\n",
    "* <font color=black size=4>**El conjunto no acoplado, formado por ${\\hat{l}^2_i ,\\hat{l}_{zi}, \\hat{s}^2_i, \\hat{s}_{zi}}, i=1,...N, \\hat{L}_z \\space \\space y \\space \\space \\hat{S}_z$.**\n",
    "* <font color=black size=4>**El conjunto acoplado, que forman $\\hat{L}^2, \\hat{L}_z, \\hat{S}^2 \\space \\space y \\space \\space \\hat{S}_z$.**\n",
    "    \n",
    "<font color=black size=4><p style='text-align: justify;'>**Podemos formar fácilmente funciones propias del conjunto no acoplado, como veremos en el apartado siguiente. El problema es que el conjunto no acoplado no es compatible con el Hamiltoniano del átomo. En efecto, $[\\hat{l}_{zi}, r^{−1}_{ij}] = i\\hbar (z_j − z_i)/r_{ij}$, de modo que $\\hat{H}$ no conmuta con los $\\hat{l}_{zi}$.**\n",
    "\n",
    "<font color=black size=4><p style='text-align: justify;'>**En cambio, $[\\hat{l}_{zi} + \\hat{l}_{zj} , r^{−1}_{ij} ] = 0$, de modo que $[\\hat{L}_z, \\hat{H}] = 0$. Los estados estacionarios del átomo pueden construirse con un valor definido de $L$, $S$, $M_L$ y $M_S$. La notación habitual es $|^{2S+1}L,M_L,M_S\\rangle$, donde $2S + 1$ es la multiplicidad de espín, y *se emplea una letra mayúscula* para indicar el valor del número cuántico angular total: $S, P,D, F, G, . . .$ para $L = 0, 1, 2, 3, 4, . . .$ , respectivamente.**"
   ]
  },
  {
   "cell_type": "markdown",
   "metadata": {},
   "source": [
    "<font color=red size=5><div class=\"alert alert-success\">**Átomo de Helio**"
   ]
  },
  {
   "cell_type": "markdown",
   "metadata": {},
   "source": [
    "<font color=green size=4><div class=\"alert alert-success\"><p style='text-align: justify;'>**Vamos a retomar el átomo de helio en los estados excitados de más baja energía; $1s(1)2s(2)$ o $1s(2)2s(1)$, que dan lugar a una función de onda espacial simétrica y otra antisimétrica:**\n",
    "\n",
    "**Simétrica:** $\\frac{1}{\\sqrt{2}}[1s(1)2s(2)+2s(1)1s(2)] \\space \\space \\space \\space \\space \\space \\space \\space \\space \\space \\space \\space \\space \\space \\space \\space \\space \\space $\n",
    "**Antisimétrica:** $\\frac{1}{\\sqrt{2}}[1s(1)2s(2)-2s(1)1s(2)]$\n",
    "    \n",
    "<font color=green size=4><p style='text-align: justify;'>**Por tanto, para obtener una función de onda spin-orbital antisemétrica (*principio de exclusión de Pauli*), la función espacial simétrica sólo se puede combinar con una función espinorial antisimétrica, y viceversa. Esto da lugar a cuatro posibilidades, que se pueden describir como combinación de las\n",
    "cuatro funciones determinantales siguientes:\n",
    "$$\\begin{equation} \n",
    "\t\\frac{1}{\\sqrt{2}}[1s(1)2s(2)-2s(1)1s(2)]\\alpha(1)\\alpha(2) \n",
    "\\end{equation}\\space [1]$$\n",
    "$$\\begin{equation} \n",
    "\t\\frac{1}{\\sqrt{2}}[1s(1)2s(2)-2s(1)1s(2)]\\beta(1)\\beta(2) \n",
    "\\end{equation}\\space [2]$$\n",
    "$$\\begin{equation} \n",
    "\t\\frac{1}{\\sqrt{2}}[1s(1)2s(2)-2s(1)1s(2)]\\frac{1}{\\sqrt{2}}[\\alpha(1)\\beta(2)+\\beta(1)\\alpha(2)] \n",
    "\\end{equation}\\space [3]$$**\n",
    "\n",
    "<font color=green size=4><p style='text-align: justify;'>**El siguiente nivel de energía se construye con la parte espacial simétrica, multiplicada por la única función de spin antisimétrica.\n",
    "$$\\begin{equation} \n",
    "\t\\frac{1}{\\sqrt{2}}[1s(1)2s(2)+2s(1)1s(2)]\\frac{1}{\\sqrt{2}}[\\alpha(1)\\beta(2)-\\beta(1)\\alpha(2)] \n",
    "\\end{equation}\\space [4]$$**"
   ]
  },
  {
   "cell_type": "markdown",
   "metadata": {},
   "source": [
    "<font color=blue size=4><div class=\"alert alert-info\"><p style='text-align: justify;'>**Las primeras tres funciones $[1]-[3]$ deben ser analizadas conjuntamente ya que poseen la misma parte espacial. En la función [1], $M_s = m_s(1) + m_s(2) = +\\frac{1}{2} +\\frac{1}{2} =1$, en la [2], $M_s = -\\frac{1}{2} -\\frac{1}{2} =-1$, mientras que en la [3], $Ms = -\\frac{1}{2} +\\frac{1}{2} = 0$ (usamos letras mayúsculas, $M_s$, para indicar la suma de los valores de $m_s$ correspondientes a electrones individuales). Es decir, $M_s = 0,±1$, por lo que $S = 1$. Se dice en este caso, que los electrones son antiparalelos o están desapareados $( ↑↑ )$, la multiplicidad es $2S+1 = 3$ (hay tres estados degenerados, estado triplete).\n",
    "En los primeros casos, [1] y [2], los dos electrones poseen el mismo valor de $m_s$, y como $ψ_{αβ} ≠ ψ_{βα}$, se llega a la conclusión de que los dos electrones no pueden tener sus 4 números cuánticos iguales, ya que en dicho caso, la función de onda es cero. Esta es una conclusión del principio de exclusión de Pauli**"
   ]
  },
  {
   "cell_type": "markdown",
   "metadata": {},
   "source": [
    "<font color=red size=4><div class=\"alert alert-success\"><p style='text-align: justify;'>**En la última de estas funciones $[4]$, la parte espacial es simétrica, y los electrones poseen valores de $m_s$ opuestos, se dice en este caso que los electrones son paralelos, o están apareados $( ↑↓ )$. El valor de $m_s$ total es $M_s = m_s(1) + m_s(2) = +\\frac{1}{2} -\\frac{1}{2} = 0$. Como $M_s$ varía entre $± S$, el spin total será $S = 0$. La multiplicidad del estado $2S+1$, en este caso $2S+1=1$ (singlete).**"
   ]
  },
  {
   "cell_type": "markdown",
   "metadata": {},
   "source": [
    "<font color=red size=5>**Energía del Estado Excitado del Helio**"
   ]
  },
  {
   "cell_type": "markdown",
   "metadata": {},
   "source": [
    "<font color=blue size=4><div class=\"alert alert-info\"><p style='text-align: justify;'>**Llamaremos $ψ_{1S}$, a la función que posee la parte espacial simétrica, y de spin antisimetrica, por lo que $S = 0$ ( $↑↓$ , estado singlete).\n",
    "$$\\large \\begin{equation}\\psi_{1S}=\\frac{1}{\\sqrt{2}}[1s(1)2s(2)+2s(1)1s(2)]\\frac{1}{\\sqrt{2}}[\\alpha(1)\\beta(2)-\\beta(1)\\alpha(2)]\\end{equation}$$\n",
    "y $ψ_{1T}$, a la función que se construye con la parte espacial antisimétrica y de spin simétricas, por lo que $S =1$, y los electrones están desapareados (estado triplete, $↑↑$ ). Esta función, que en realidad son tres funciones, tiene la forma:\n",
    "$$\\begin{equation} \n",
    "\t\\frac{1}{\\sqrt{2}}[1s(1)2s(2)-2s(1)1s(2)]\\alpha(1)\\alpha(2) \n",
    "\\end{equation}\\space [1]$$\n",
    "$$\\begin{equation} \n",
    "\t\\frac{1}{\\sqrt{2}}[1s(1)2s(2)-2s(1)1s(2)]\\beta(1)\\beta(2) \n",
    "\\end{equation}\\space [2]$$\n",
    "$$\\begin{equation} \n",
    "\t\\frac{1}{\\sqrt{2}}[1s(1)2s(2)-2s(1)1s(2)]\\frac{1}{\\sqrt{2}}[\\alpha(1)\\beta(2)+\\beta(1)\\alpha(2)] \n",
    "\\end{equation}\\space [3]$$\n",
    "Según la aproximación de electrones independientes, los estados $ψ_{1T}$, y $ψ_{1S}$, son degenerados, sin embargo, cuando se aplica el método de variaciones, sus energías son diferentes, así, la energía para los estados $ψ_{1T}$**    \n",
    "$$\\large \\begin{equation} W_{1T}=\\left\\langle\\psi_{1T}\\left|\\hat{H}\\right|\\psi_{1T}\\right\\rangle=\\left\\langle\\psi_{1T}|\\underbrace{-\\frac{1}{2}\\nabla_1^2-\\frac{Z}{r_1}}_{h_1}\\underbrace{-\\frac{1}{2}\\nabla_2^2-\\frac{Z}{r_2}}_{h_2}+\\frac{1}{r_{12}}|\\psi_{1T}\\right\\rangle \\end{equation}$$    \n",
    "    \n",
    "$$\\large \\begin{eqnarray} W_{1T}=\\underbrace{\\left\\langle [1s(1)2s(2)-1s(2)2s(1)]|h_1|[1s(1)2s(2)-1s(2)2s(1)]\\right\\rangle}_{h_{1}}\\underbrace{\\left\\langle \\Sigma|\\Sigma\\right\\rangle}_{1} + \\underbrace{\\left\\langle [1s(1)2s(2)-1s(2)2s(1)]|h_2|[1s(1)2s(2)-1s(2)2s(1)]\\right\\rangle}_{h_{2}}\\underbrace{\\left\\langle \\Sigma|\\Sigma\\right\\rangle}_{1} + \\underbrace{\\left\\langle [1s(1)2s(2)-1s(2)2s(1)]\\left|\\frac{1}{r_{12}} \\right|[1s(1)2s(2)-1s(2)2s(1)]\\right\\rangle}_{J_{1s,2s}-K_{1s,2s}} \\underbrace{\\left\\langle \\Sigma|\\Sigma\\right\\rangle}_{1} = 2h_{1s} + 2h_{2s} + J_{1s,2s} - K_{1s,2s} \\end{eqnarray}$$\n",
    "Para el estado $ψ_{1S}$, la energía sería:**\n",
    "$$\\large \\begin{eqnarray} W_{1S}=\\underbrace{\\left\\langle [1s(1)2s(2)+1s(2)2s(1)]|h_1|[1s(1)2s(2)+1s(2)2s(1)]\\right\\rangle}_{h_{1}}\\underbrace{\\left\\langle \\Sigma|\\Sigma\\right\\rangle}_{1} + \\underbrace{\\left\\langle [1s(1)2s(2)+1s(2)2s(1)]|h_2|[1s(1)2s(2)+1s(2)2s(1)]\\right\\rangle}_{h_{2}}\\underbrace{\\left\\langle \\Sigma|\\Sigma\\right\\rangle}_{1} + \\underbrace{\\left\\langle [1s(1)2s(2)+1s(2)2s(1)]\\left|\\frac{1}{r_{12}} \\right|[1s(1)2s(2)+1s(2)2s(1)]\\right\\rangle}_{J_{1s,2s}+K_{1s,2s}} \\underbrace{\\left\\langle \\Sigma|\\Sigma\\right\\rangle}_{1} = 2h_{1s} + 2h_{2s} + J_{1s,2s} + K_{1s,2s} \\end{eqnarray}$$\n",
    "\n",
    "<font color=green size=4><div class=\"alert alert-info\"><p style='text-align: justify;'>**Los Resultado de energía son diferentes para los estados $ψ_{1T}$ y $ψ_{1s}$. Teniendo en cuenta que $E_n = -\\frac{Z^2}{2n^2}$ y a partir de datos tabulados de $J_{1s,2s}$ y $K_{1s,2s}$, obtenemos:\n",
    "$$\\large E_{1T} = -\\frac{4}{2}-\\frac{4}{8}+0.420-0.044=-2.124 E_h\\space \\space Experimentalmente \\space \\space -2.176 E_h$$\n",
    "$$\\large E_{1S} = -\\frac{4}{2}-\\frac{4}{8}+0.420+0.044=-2.036 E_h\\space \\space Experimentalmente \\space \\space -2.146 E_h$$**"
   ]
  },
  {
   "cell_type": "markdown",
   "metadata": {},
   "source": [
    "<center><img src=\"atoms-04-00026-g001.png\" width=\"500\"></center>\n",
    "<center>Diagrama de Energía del Átomo de Helio</center>"
   ]
  },
  {
   "cell_type": "markdown",
   "metadata": {},
   "source": [
    "<font color=brown size=5><div class=\"alert alert-warning\">**Funciones Multielectrónicas**"
   ]
  },
  {
   "cell_type": "markdown",
   "metadata": {},
   "source": [
    "<font color=brown size=4><div class=\"alert alert-warning\"><p style='text-align: justify;'>**Sea un átomo de $N$ electrones y sean $N$ espinorbitales $\\chi_1$, $\\chi_2$, . . . $\\chi_N$. Un determinante de Slater ($\\Psi^{\\rm DS}$) es la función de onda N-electrónica formada por:\n",
    "\\begin{align}\n",
    "\\Psi^{\\rm SD}(\\textbf{x}_1, \\textbf{x}_2, \\cdots, \\textbf{x}_N) = \\frac{1}{\\sqrt{N!}}\n",
    "    \\begin{vmatrix}\n",
    "         \\chi_1(1) & \\chi_2(1) & \\cdots & \\chi_N(1) \\\\\n",
    "         \\chi_1(2) & \\chi_2(2) & \\cdots & \\chi_N(2) \\\\\n",
    "         \\vdots               & \\vdots  & \\vdots & \\vdots \\\\\n",
    "         \\chi_1(N) & \\chi_2(N) & \\vdots & \\chi_N(N)\n",
    "    \\end{vmatrix}.\n",
    "\\end{align}**\n",
    "\n",
    "<font color=brown size=4><p style='text-align: justify;'>**donde $\\chi_i(j)$ indica que el electrón *j-ésimo* ocupa el espinorbital *i*. Si los espinorbitales son ortonormales, $\\langle \\chi_i(1)|\\chi_j(1)\\rangle = \\delta_{ij}$ , el $\\Psi^{\\rm DS}$ está normalizado. Por su construcción, el $\\Psi^{\\rm DS}$ es antisimétrico frente al intercambio de dos electrones cualesquiera y cumple, por lo tanto, el principio de Pauli. Si dos espinorbitales fuesen idénticos dos columnas serían iguales, con lo que el determinante sería nulo. Tal determinante, por lo tanto, tiene una probabilidad nula de ocurrir. Si los espinorbitales son funciones propias de los operadores de momento angular de un electrón, el $\\Psi^{\\rm DS}$ será una función propia del conjunto no acoplado. En particular, sus valores de $M_L$ y $M_S$ se obtendrán como: $M_L =\\sum^N_{i=1} m_i$, y $M_S = \\sum^N_{i=1} m_{si}$.**\n",
    "\n",
    "<font color=brown size=4><p style='text-align: justify;'>**En general, un *determinate de Slater* no es función propia de $\\hat{L}^2$ ni de $\\hat{S}^2$. Veremos, sin embargo, cómo se pueden obtener las funciones propias del conjunto acoplado de operadores de momento angular como combinación lineal de $\\Psi^{\\rm DS}$.**\n",
    "\n",
    "<font color=brown size=4><p style='text-align: justify;'>**Dado un conjunto de $M \\geq N$ espinorbitales diferentes para $N$ electrones, podemos formar $\\large \\binom{M}{N} = \\frac{M!}{N!(M-N)!}$ determinantes de Slater. Un caso particular importante ocurre cuando todos los espinorbitales provienen de una\n",
    "determinada configuración electrónica del átomo.**"
   ]
  },
  {
   "cell_type": "markdown",
   "metadata": {},
   "source": [
    "<font color=red size=5>**Funciones multielectrónicas. Términos de Russell-Saunders**"
   ]
  },
  {
   "cell_type": "markdown",
   "metadata": {},
   "source": [
    "<font color=green size=4><div class=\"alert alert-success\"><p style='text-align: justify;'>**Ejemplo**: consideremos la configuración electrónica $2p^2$ qué dará lugar a $\\binom{6}{2} = \\frac{6!}{2!(6-2)!}=15$ determinantes:\n",
    "<img src=\"dtes1.png\">\n",
    "El determinante Slater número 13 sería $\\|p_0\\beta(1) p_1\\alpha(2)\\|$, por ejemplo."
   ]
  },
  {
   "cell_type": "markdown",
   "metadata": {},
   "source": [
    "<font color=navy size=4><div class=\"alert alert-success\"><p style='text-align: justify;'>**Se denominan *estados de Russell-Saunders* (RS) a los $|^{2S+1}L,M_L,M_S\\rangle$ que provienen de una determinada configuración electrónica. El conjunto de los $(2S+1)×(2L+1)$ estados que comparten $S$ y $L$ constituye un térrmino de $RS$.**\n",
    "\n",
    "<font color=navy size=4><p style='text-align: justify;'>**Podemos determinar los términos RS mediante un sencillo procedimiento. En primer lugar, formamos todos los determinantes de Slater (detS) posibles poblando los $M$ espinorbitales de la configuración con los $N$ electrones. Cada detS tiene un $M_L$ y un $M_S$ definido. Componemos una tabla donde las filas recorren\n",
    "los valores de $M_L$ y las columnas los valores de $M_S$. Cada celda de la tabla indica el número de detS o, equivalentemente, el número de estados $RS$ con ese valor de $M_L$ y $M_S$. Sólo detS con igual $M_L$ y $M_S$ se mezclan entre sí para dar estados $RS$. Comenzamos a identificar términos $RS$ por los valores extremos de $M_L$ y $M_S$. Una vez identificado un término, descontamos todos sus estados y repetimos la búsqueda para los nuevos valores extremos de la tabla.**"
   ]
  },
  {
   "cell_type": "markdown",
   "metadata": {},
   "source": [
    "<font color=red size=4><div class=\"alert alert-success\"><p style='text-align: justify;'>**Ejemplo**: Para la configuración $2p^2$, cuyos detS hemos obtenido en la sección anterior, tenemos:\n",
    "<img src=\"dtes2.png\">\n",
    "\n",
    "<img src=\"C-TRS.png\">"
   ]
  },
  {
   "cell_type": "code",
   "execution_count": 7,
   "metadata": {},
   "outputs": [
    {
     "data": {
      "image/png": "[encoded data removed]",
      "text/latex": [
       "$\\displaystyle - \\frac{\\frac{\\partial}{\\partial r_{1}} r_{1}^{2} \\frac{\\partial}{\\partial r_{1}} 2 \\sqrt{ξ^{3}} e^{- r_{1} ξ}}{r_{1}^{2}}$"
      ],
      "text/plain": [
       "    ⎛       ⎛     ____       ⎞⎞ \n",
       "  ∂ ⎜  2  ∂ ⎜    ╱  3   -r₁⋅ξ⎟⎟ \n",
       "-───⎜r₁ ⋅───⎝2⋅╲╱  ξ  ⋅ℯ     ⎠⎟ \n",
       " ∂r₁⎝    ∂r₁                  ⎠ \n",
       "────────────────────────────────\n",
       "                2               \n",
       "              r₁                "
      ]
     },
     "execution_count": 7,
     "metadata": {},
     "output_type": "execute_result"
    }
   ],
   "source": [
    "a, n, ξ=symbols('a n ξ')\n",
    "var(\"r1 r2 Z\")\n",
    "(r1, r2, Z)\n",
    "#R_nl(n, l, r, Z)\n",
    "na=(-1/(r1**2))*(Derivative((r1**2)*(Derivative(R_nl(1, 0, r1, ξ), r1)), r1))\n",
    "na"
   ]
  },
  {
   "cell_type": "code",
   "execution_count": 8,
   "metadata": {},
   "outputs": [
    {
     "data": {
      "image/png": "[encoded data removed]",
      "text/latex": [
       "$\\displaystyle \\left( \\int\\limits_{0}^{\\infty}\\int\\limits_{0}^{\\infty} 4 r_{1}^{2} r_{2}^{2} ξ^{3} e^{- r_{1} ξ} e^{- r_{2} ξ}\\, dr_{1}\\, dr_{2}, \\  - \\frac{\\frac{\\partial}{\\partial r_{1}} r_{1}^{2} \\frac{\\partial}{\\partial r_{1}} 2 \\sqrt{ξ^{3}} e^{- r_{1} ξ}}{r_{1}^{2}}, \\  \\frac{\\left(- 2 Z + ξ \\left(- 1.0 r_{1} ξ + 2.0\\right)\\right) \\sqrt{ξ^{3}} e^{- r_{1} ξ}}{r_{1}}, \\  \\frac{\\left(- 2 Z + ξ \\left(- 1.0 r_{2} ξ + 2.0\\right)\\right) \\sqrt{ξ^{3}} e^{- r_{2} ξ}}{r_{2}}\\right)$"
      ],
      "text/plain": [
       "⎛                                                ⎛       ⎛     ____       ⎞⎞  \n",
       "⎜∞ ∞                                           ∂ ⎜  2  ∂ ⎜    ╱  3   -r₁⋅ξ⎟⎟  \n",
       "⎜⌠ ⌠                                         -───⎜r₁ ⋅───⎝2⋅╲╱  ξ  ⋅ℯ     ⎠⎟  \n",
       "⎜⎮ ⎮     2   2  3  -r₁⋅ξ  -r₂⋅ξ               ∂r₁⎝    ∂r₁                  ⎠  \n",
       "⎜⎮ ⎮ 4⋅r₁ ⋅r₂ ⋅ξ ⋅ℯ     ⋅ℯ      d(r₁) d(r₂), ────────────────────────────────,\n",
       "⎜⌡ ⌡                                                         2                \n",
       "⎝0 0                                                       r₁                 \n",
       "\n",
       "                                                                              \n",
       "                                 ____                                         \n",
       "                                ╱  3   -r₁⋅ξ                                 ╱\n",
       " (-2⋅Z + ξ⋅(-1.0⋅r₁⋅ξ + 2.0))⋅╲╱  ξ  ⋅ℯ       (-2⋅Z + ξ⋅(-1.0⋅r₂⋅ξ + 2.0))⋅╲╱ \n",
       " ───────────────────────────────────────────, ────────────────────────────────\n",
       "                      r₁                                           r₂         \n",
       "                                                                              \n",
       "\n",
       "           ⎞\n",
       "____       ⎟\n",
       "  3   -r₂⋅ξ⎟\n",
       " ξ  ⋅ℯ     ⎟\n",
       "───────────⎟\n",
       "           ⎟\n",
       "           ⎠"
      ]
     },
     "execution_count": 8,
     "metadata": {},
     "output_type": "execute_result"
    }
   ],
   "source": [
    "a, n, ξ=symbols('a n ξ')\n",
    "var(\"r1 r2 Z\")\n",
    "(r1, r2, Z)\n",
    "#R_nl(n, l, r, Z)\n",
    "HP1=(0.5)*(-1/(r1**2))*(diff((r1**2)*(diff(R_nl(1, 0, r1, ξ), r1)), r1))-(Z/(r1))*(R_nl(1, 0, r1, ξ))\n",
    "HP2=(0.5)*(-1/(r2**2))*(diff((r2**2)*(diff(R_nl(1, 0, r2, ξ), r2)), r2))-(Z/(r2))*(R_nl(1, 0, r2, ξ))\n",
    "Pr=Integral(R_nl(1, 0, r1, ξ)*R_nl(1, 0, r2, ξ) * r1**2 * r2**2, (r1, 0, oo), (r2, 0, oo))\n",
    "nabla1=(-1/(r1**2))*(Derivative((r1**2)*(Derivative(R_nl(1, 0, r1, ξ), r1)), r1))\n",
    "Pr, nabla1, HP1.simplify(), HP2.simplify()"
   ]
  },
  {
   "cell_type": "code",
   "execution_count": 9,
   "metadata": {},
   "outputs": [
    {
     "data": {
      "text/latex": [
       "$\\displaystyle \\left( \\begin{cases} - Z ξ + 0.5 ξ^{2} & \\text{for}\\: \\left|{\\arg{\\left(ξ \\right)}}\\right| < \\frac{\\pi}{2} \\\\\\int\\limits_{0}^{\\infty} 2 r_{1}^{2} \\left(- \\frac{2 Z \\sqrt{ξ^{3}} e^{- r_{1} ξ}}{r_{1}} - \\frac{0.5 \\left(2 r_{1}^{2} ξ^{2} \\sqrt{ξ^{3}} e^{- r_{1} ξ} - 4 r_{1} ξ \\sqrt{ξ^{3}} e^{- r_{1} ξ}\\right)}{r_{1}^{2}}\\right) \\sqrt{ξ^{3}} e^{- r_{1} ξ}\\, dr_{1} & \\text{otherwise} \\end{cases}, \\  \\begin{cases} - Z ξ + 0.5 ξ^{2} & \\text{for}\\: \\left|{\\arg{\\left(ξ \\right)}}\\right| < \\frac{\\pi}{2} \\\\\\int\\limits_{0}^{\\infty} 2 r_{2}^{2} \\left(- \\frac{2 Z \\sqrt{ξ^{3}} e^{- r_{2} ξ}}{r_{2}} - \\frac{0.5 \\left(2 r_{2}^{2} ξ^{2} \\sqrt{ξ^{3}} e^{- r_{2} ξ} - 4 r_{2} ξ \\sqrt{ξ^{3}} e^{- r_{2} ξ}\\right)}{r_{2}^{2}}\\right) \\sqrt{ξ^{3}} e^{- r_{2} ξ}\\, dr_{2} & \\text{otherwise} \\end{cases}\\right)$"
      ],
      "text/plain": [
       "⎛⎧                                                           2                \n",
       "⎜⎪                                               -Z⋅ξ + 0.5⋅ξ                 \n",
       "⎜⎪                                                                            \n",
       "⎜⎪                                                                            \n",
       "⎜⎪∞                                                                           \n",
       "⎜⎪⌠                                                                           \n",
       "⎜⎪⎮       ⎛         ____              ⎛            ____                    ___\n",
       "⎜⎨⎮       ⎜        ╱  3   -r₁⋅ξ       ⎜    2  2   ╱  3   -r₁⋅ξ            ╱  3\n",
       "⎜⎪⎮     2 ⎜  2⋅Z⋅╲╱  ξ  ⋅ℯ        0.5⋅⎝2⋅r₁ ⋅ξ ⋅╲╱  ξ  ⋅ℯ      - 4⋅r₁⋅ξ⋅╲╱  ξ \n",
       "⎜⎪⎮ 2⋅r₁ ⋅⎜- ────────────────── - ────────────────────────────────────────────\n",
       "⎜⎪⎮       ⎜          r₁                                      2                \n",
       "⎜⎪⎮       ⎝                                                r₁                 \n",
       "⎜⎪⌡                                                                           \n",
       "⎜⎪0                                                                           \n",
       "⎝⎩                                                                            \n",
       "\n",
       "                                                π  ⎧                          \n",
       "                                 for │arg(ξ)│ < ─  ⎪                          \n",
       "                                                2  ⎪                          \n",
       "                                                   ⎪                          \n",
       "                                                   ⎪∞                         \n",
       "                                                   ⎪⌠                         \n",
       "_       ⎞⎞                                         ⎪⎮       ⎛         ____    \n",
       "   -r₁⋅ξ⎟⎟    ____                               , ⎨⎮       ⎜        ╱  3   -r\n",
       " ⋅ℯ     ⎠⎟   ╱  3   -r₁⋅ξ                          ⎪⎮     2 ⎜  2⋅Z⋅╲╱  ξ  ⋅ℯ  \n",
       "─────────⎟⋅╲╱  ξ  ⋅ℯ      d(r₁)     otherwise      ⎪⎮ 2⋅r₂ ⋅⎜- ───────────────\n",
       "         ⎟                                         ⎪⎮       ⎜          r₂     \n",
       "         ⎠                                         ⎪⎮       ⎝                 \n",
       "                                                   ⎪⌡                         \n",
       "                                                   ⎪0                         \n",
       "                                                   ⎩                          \n",
       "\n",
       "                                 2                                            \n",
       "                     -Z⋅ξ + 0.5⋅ξ                                             \n",
       "                                                                              \n",
       "                                                                              \n",
       "                                                                              \n",
       "                                                                              \n",
       "          ⎛            ____                    ____       ⎞⎞                  \n",
       "₂⋅ξ       ⎜    2  2   ╱  3   -r₂⋅ξ            ╱  3   -r₂⋅ξ⎟⎟    ____          \n",
       "      0.5⋅⎝2⋅r₂ ⋅ξ ⋅╲╱  ξ  ⋅ℯ      - 4⋅r₂⋅ξ⋅╲╱  ξ  ⋅ℯ     ⎠⎟   ╱  3   -r₂⋅ξ   \n",
       "─── - ─────────────────────────────────────────────────────⎟⋅╲╱  ξ  ⋅ℯ      d(\n",
       "                                 2                         ⎟                  \n",
       "                               r₂                          ⎠                  \n",
       "                                                                              \n",
       "                                                                              \n",
       "                                                                              \n",
       "\n",
       "                    π⎞\n",
       "     for │arg(ξ)│ < ─⎟\n",
       "                    2⎟\n",
       "                     ⎟\n",
       "                     ⎟\n",
       "                     ⎟\n",
       "                     ⎟\n",
       "                     ⎟\n",
       "                     ⎟\n",
       "r₂)     otherwise    ⎟\n",
       "                     ⎟\n",
       "                     ⎟\n",
       "                     ⎟\n",
       "                     ⎟\n",
       "                     ⎠"
      ]
     },
     "execution_count": 9,
     "metadata": {},
     "output_type": "execute_result"
    }
   ],
   "source": [
    "H1=Integral(R_nl(1, 0, r1, ξ)*HP1*r1**2, (r1, 0, oo))\n",
    "H2=Integral(R_nl(1, 0, r2, ξ)*HP2*r2**2, (r2, 0, oo))\n",
    "H1.doit(), H2.doit()"
   ]
  },
  {
   "cell_type": "code",
   "execution_count": 10,
   "metadata": {},
   "outputs": [
    {
     "data": {
      "image/png": "[encoded data removed]",
      "text/latex": [
       "$\\displaystyle \\left( - 2 Z + 2.0 ξ + 0.625, \\  \\left[ Z - 0.3125\\right]\\right)$"
      ],
      "text/plain": [
       "(-2⋅Z + 2.0⋅ξ + 0.625, [Z - 0.3125])"
      ]
     },
     "execution_count": 10,
     "metadata": {},
     "output_type": "execute_result"
    }
   ],
   "source": [
    "W=0.5*ξ**2 - Z*ξ + 0.5*ξ**2 - Z*ξ + (5/8)*ξ\n",
    "Wmin=diff(W, ξ)\n",
    "ξopt=solve(Wmin, ξ)\n",
    "Wmin, ξopt"
   ]
  },
  {
   "cell_type": "code",
   "execution_count": null,
   "metadata": {},
   "outputs": [],
   "source": []
  }
 ],
 "metadata": {
  "kernelspec": {
   "display_name": "Python 3 (ipykernel)",
   "language": "python",
   "name": "python3"
  },
  "language_info": {
   "codemirror_mode": {
    "name": "ipython",
    "version": 3
   },
   "file_extension": ".py",
   "mimetype": "text/x-python",
   "name": "python",
   "nbconvert_exporter": "python",
   "pygments_lexer": "ipython3",
   "version": "3.7.16"
  }
 },
 "nbformat": 4,
 "nbformat_minor": 4
}

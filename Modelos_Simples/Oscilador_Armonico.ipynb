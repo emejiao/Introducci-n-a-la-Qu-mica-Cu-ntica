{
 "cells": [
  {
   "cell_type": "markdown",
   "metadata": {
    "slideshow": {
     "slide_type": "slide"
    }
   },
   "source": [
    "<div class=\"alert alert-success\" role=\"alert\">\n",
    "  <h1 class=\"alert-heading\">Introducción a la Química Cuántica</h1>\n",
    "  <h3 class=\"alert-heading\">Prof. Enrique Mejía Ospino, emejia@uis.edu.co</h3>\n",
    "  <h4 class=\"alert-heading\">Escuela de Química</h4>\n",
    "  <h5 class=\"alert-heading\">Universidad Industrial de Santander</h5>\n",
    "  <p>\n",
    "  </div>"
   ]
  },
  {
   "cell_type": "markdown",
   "metadata": {},
   "source": [
    "### <div class=\"alert alert-success\"> <h3 class=\"alert-heading\"> Solución de la ecuación de Schrödinger de Modelos Simples:</h3> <h4 class=\"alert-heading\">Modelo Oscilador Armónico</h4><p>"
   ]
  },
  {
   "cell_type": "code",
   "execution_count": 1,
   "metadata": {},
   "outputs": [],
   "source": [
    "from IPython.display import HTML"
   ]
  },
  {
   "cell_type": "markdown",
   "metadata": {},
   "source": [
    "### Librerias usadas:"
   ]
  },
  {
   "cell_type": "code",
   "execution_count": 2,
   "metadata": {},
   "outputs": [],
   "source": [
    "import matplotlib as mpl # Libreria para graficación y visualización\n",
    "import matplotlib.pylab as plt # Libreria para graficación y visualización\n",
    "import numpy as np # Librería para manipulación numerica, especialmente para arreglos de datos\n",
    "import sympy as sp\n",
    "sp.init_printing()"
   ]
  },
  {
   "cell_type": "markdown",
   "metadata": {},
   "source": [
    "<div class=\"alert alert-warning\">La siguiente celda configura `matplotlib` para mostrar las graficas embebidads en Notebook en lugar de abrirlas en una nueva ventana."
   ]
  },
  {
   "cell_type": "code",
   "execution_count": 3,
   "metadata": {},
   "outputs": [],
   "source": [
    "%matplotlib inline"
   ]
  },
  {
   "cell_type": "markdown",
   "metadata": {},
   "source": [
    "<p style=\"text-align:justify\">\n",
    "<div class=\"alert alert-info\">\n",
    "\n",
    "## Oscilador Armónico\n",
    "### 1. Oscilador armónico Clásico:</div></p>"
   ]
  },
  {
   "cell_type": "markdown",
   "metadata": {
    "colab_type": "text",
    "id": "KwXUce9Wfef3"
   },
   "source": [
    "<center>\n",
    "    <figure>\n",
    "        <img id=\"fig001\" style=\"width:50%\" src=\"https://github.com/zodiacfireworks/quantum-harmonic-oscillator/blob/master/notebooks/resources/img/fig001.png?raw=1\" alt=\"Esquema típico de representación de un sistema tipo oscilador lineal.\"/>\n",
    "        <caption><strong>Figura 1.</strong> Esquema típico de representación de un sistema tipo oscilador lineal.</caption>\n",
    "    </figure>\n",
    "</center>"
   ]
  },
  {
   "cell_type": "markdown",
   "metadata": {},
   "source": [
    "<div class=\"alert alert-info\">Un sistema de gran importancia en la Física es el oscilador armónico u oscilador lineal cuya ecuación clásica es\n",
    "\n",
    "$$\\large F=-kx \\longrightarrow mẍ=-kx     (1)$$\n",
    " \n",
    "donde el término  $-kx$  representa la fuerza restauradora en la oscilación. Generalmente se visualiza el modelo del oscilador lineal como el de un cuerpo de masa $m$ sujeto por un resorte _ideal_ de contante elástica $k$ de modo que el desplazamiento del cuerpo en las vecindades de su punto de equilibrio (P.E.) genera un movimiento oscilatorio cuya ecuación de movimiento viene a ser la ec. (1). Este modelo es el que se muestra en la fig. (1)."
   ]
  },
  {
   "cell_type": "markdown",
   "metadata": {
    "colab_type": "text",
    "id": "f6MOLzXOfef3"
   },
   "source": [
    "<p style=\"text-align:justify\"><div class=\"alert alert-info\">\n",
    "Un método clásico de solución para la <em>ec.</em> (<a style=\"text-decoration:none;\" href=\"#ec001\">1</a>) es el que se muestra a continuación. Considérmos en primer lugar la introducción del parámetro $\\omega$, definido como\n",
    " $$\\large \\omega = \\sqrt{\\frac{k}{m}}$$ <p style=\"text-align:justify\">\n",
    "en la <em>ec.</em> (<a style=\"text-decoration:none;\" href=\"#ec001\">1</a>) con lo cual esta puede expresarse, en una dimensión, como\n",
    "</p>\n",
    "$$\\large \\ddot{x}+{\\omega}^{2}\\,x=0\n",
    "$$\n",
    "<p style=\"text-align:justify\">\n",
    "Nótese que los coeficientes de la <em>ec.</em> (<a style=\"text-decoration:none;\" href=\"#ec003\">3</a>) son $1$ y $\\omega^2$ que, por ser funciones constantes, son analíticas sobre $\\mathbb{C}$ y por tanto lo son sobre $\\mathbb{R}$. Resulta válido entonces procurar una solución analítica desarrollada en torno a la posición de equilibrio que se toma en  $x(t=0)$ de modo que resulta\n",
    "\n",
    "\n",
    "$$\\large a = - \\omega^2 (x-x_{eq}) $$\n",
    "\n",
    "$$\\large \\ddot{x}(t) = - \\omega^2 (x-x_{eq}) $$\n",
    "    \n",
    "La expresión final puede reordenarse en una ecuación diferencial homogénea de segundo orden, y puede resolverse con los métodos que hemos utilizado anteriormente</p>"
   ]
  },
  {
   "cell_type": "markdown",
   "metadata": {},
   "source": [
    "<p style=\"text-align:justify\"><div class=\"alert alert-info\">\n",
    "\n",
    "**Nota** esta vez definimos algunas de las propiedades de los símbolos. A saber, que la frecuencia es siempre positiva y real y las posiciones son siempre reales</p>"
   ]
  },
  {
   "cell_type": "code",
   "execution_count": 4,
   "metadata": {},
   "outputs": [
    {
     "data": {
      "image/png": "[encoded data removed]",
      "text/latex": [
       "$\\displaystyle \\left( x{\\left(t \\right)}, \\  \\omega\\right)$"
      ],
      "text/plain": [
       "(x(t), ω)"
      ]
     },
     "execution_count": 4,
     "metadata": {},
     "output_type": "execute_result"
    }
   ],
   "source": [
    "omega,t=sp.symbols(\"omega,t\",positive=True,nonnegative=True,real=True)\n",
    "xeq=sp.symbols(\"x_{eq}\",real=True)\n",
    "x=sp.Function(\"x\",real=True)\n",
    "x(t),omega"
   ]
  },
  {
   "cell_type": "code",
   "execution_count": 5,
   "metadata": {},
   "outputs": [
    {
     "data": {
      "image/png": "[encoded data removed]",
      "text/latex": [
       "$\\displaystyle \\omega^{2} \\left(- x_{eq} + x{\\left(t \\right)}\\right) + \\frac{d^{2}}{d t^{2}} x{\\left(t \\right)}$"
      ],
      "text/plain": [
       "                        2      \n",
       " 2                     d       \n",
       "ω ⋅(-x_{eq} + x(t)) + ───(x(t))\n",
       "                        2      \n",
       "                      dt       "
      ]
     },
     "execution_count": 5,
     "metadata": {},
     "output_type": "execute_result"
    }
   ],
   "source": [
    "dfeq=sp.Derivative(x(t),t,2)+omega**2*(x(t)-xeq)\n",
    "dfeq"
   ]
  },
  {
   "cell_type": "code",
   "execution_count": 6,
   "metadata": {},
   "outputs": [
    {
     "data": {
      "image/png": "[encoded data removed]",
      "text/latex": [
       "$\\displaystyle x{\\left(t \\right)} = C_{1} \\sin{\\left(\\omega t \\right)} + C_{2} \\cos{\\left(\\omega t \\right)} + x_{eq}$"
      ],
      "text/plain": [
       "x(t) = C₁⋅sin(ω⋅t) + C₂⋅cos(ω⋅t) + x_{eq}"
      ]
     },
     "execution_count": 6,
     "metadata": {},
     "output_type": "execute_result"
    }
   ],
   "source": [
    "sol = sp.dsolve(dfeq)\n",
    "sol"
   ]
  },
  {
   "cell_type": "markdown",
   "metadata": {},
   "source": [
    "<div class=\"alert alert-danger\">\n",
    "\n",
    "## 2. El oscilador Armónico en Mecánica Cuántica\n",
    "<p style=\"text-align:justify\">\n",
    "De igual forma que en mecánica clásica los potenciales del tipo oscilador juegan un papel central en mecánica cuántica (y luego en teoría cuántica de campos). Así pues resulta un ejemplo bastante ilustrativo, y en cierto grado sencillo, el resolver la ecuación del oscilador armónico en mecánica cuántica dado que es de importancia en la teoría general por estar en las bases de la teoría de la radiación.\n",
    "Empecemos planteando la forma del potencial para el oscilador armónico. Consideremos que la descripción se hace en términos de una coordenada $q$ y su momento conjugado $p$ cuyos operadores asociados se representan como $\\widehat{q}$ y $\\widehat{q}$ respectivamente. Haciendo uso del parámetro $\\omega$ definido en la física clásica podemos expresar el operador de energía potencial como\n",
    "\n",
    "El problema cuántico es conservativo, de modo que los estados estacionarios ser´an funciones propias\n",
    "del operador de Hamilton:\n",
    "$$\\large \\hat{H} = \\hat{T} + \\hat{V} = \\frac{p(x)^2}{2 m} + V(x)=\\frac{-\\hbar^2}{2m}\\frac{\\partial^2}{\\partial{x}^2} + \\frac{1}{2}kx^2$$  $$\\large ⇒ \\frac{-\\hbar^2}{2m}\\frac{\\partial^2 \\Psi(x)}{\\partial{x}^2} + \\frac{1}{2}kx^2 \\Psi(x)= E\\Psi(x) $$ $$\\large ⇒ \\frac{\\partial^2 \\Psi(x)}{\\partial{x}^2} - \\frac{mk}{\\hbar^2}x^2\\Psi(x)  + \\frac{2mE}{\\hbar^2}\\Psi(x)=0$$\n",
    "\n",
    "donde $x ∈ (−∞, ∞)$. Podemos simplificar la ecuación de Schrödinger definiendo \n",
    "$$\\large \\alpha=\\frac{2mE}{2}, \\beta = \\frac{\\sqrt{mk}}{\\hbar}=\\frac{m\\omega}{\\hbar}, \\xi =\\sqrt{\\beta}x ⇒ \\frac{\\partial^2}{\\partial{x}^2} = \\beta \\frac{\\partial^2}{\\partial{\\xi}^2}$$\n",
    "con lo que la ecuación de Schrödinger se convierte en la ecuación diferencial de **Hermite-Gauss**:\n",
    "$$\\large \\frac{\\partial^2 \\Psi(\\xi)}{\\partial{\\xi}^2} + \\{{\\frac{\\alpha}{\\beta}- \\xi^2}\\}\\Psi(\\xi)=0 $$    </p>\n",
    " "
   ]
  },
  {
   "cell_type": "code",
   "execution_count": 7,
   "metadata": {},
   "outputs": [
    {
     "data": {
      "image/png": "[encoded data removed]",
      "text/latex": [
       "$\\displaystyle \\left(\\frac{\\alpha}{\\beta} - \\xi^{2}\\right) \\Psi{\\left(\\xi \\right)} + \\frac{d^{2}}{d \\xi^{2}} \\Psi{\\left(\\xi \\right)} = 0$"
      ],
      "text/plain": [
       "                  2          \n",
       "⎛α    2⎞         d           \n",
       "⎜─ - ξ ⎟⋅Ψ(ξ) + ───(Ψ(ξ)) = 0\n",
       "⎝β     ⎠          2          \n",
       "                dξ           "
      ]
     },
     "metadata": {},
     "output_type": "display_data"
    },
    {
     "data": {
      "image/png": "[encoded data removed]",
      "text/latex": [
       "$\\displaystyle \\Psi{\\left(\\xi \\right)} = - \\frac{\\alpha \\xi^{5} r{\\left(3 \\right)}}{20 \\beta} + C_{2} \\left(\\frac{\\alpha^{2} \\xi^{4}}{24 \\beta^{2}} - \\frac{\\alpha \\xi^{2}}{2 \\beta} + \\frac{\\xi^{4}}{12} + 1\\right) + C_{1} \\xi \\left(\\frac{\\xi^{4}}{20} + 1\\right) + O\\left(\\xi^{6}\\right)$"
      ],
      "text/plain": [
       "            5           ⎛ 2  4      2    4    ⎞        ⎛ 4    ⎞        \n",
       "         α⋅ξ ⋅r(3)      ⎜α ⋅ξ    α⋅ξ    ξ     ⎟        ⎜ξ     ⎟    ⎛ 6⎞\n",
       "Ψ(ξ) = - ───────── + C₂⋅⎜───── - ──── + ── + 1⎟ + C₁⋅ξ⋅⎜── + 1⎟ + O⎝ξ ⎠\n",
       "            20⋅β        ⎜    2   2⋅β    12    ⎟        ⎝20    ⎠        \n",
       "                        ⎝24⋅β                 ⎠                        "
      ]
     },
     "execution_count": 7,
     "metadata": {},
     "output_type": "execute_result"
    }
   ],
   "source": [
    "omega, alpha, beta, xi=sp.symbols(\"omega alpha beta xi\",positive=True,nonnegative=True,real=True)\n",
    "xeq=sp.symbols(\"x_{eq}\",real=True)\n",
    "Psi = sp.Function('Psi', complex=True)(xi)\n",
    "Ec_Sch = sp.Eq(Psi.diff(xi, xi)+((alpha/beta)-(xi)**2)*Psi,0)\n",
    "display(Ec_Sch)\n",
    "sol=sp.dsolve(Ec_Sch, Psi)\n",
    "sol"
   ]
  },
  {
   "cell_type": "markdown",
   "metadata": {},
   "source": [
    "<div class=\"alert alert-warning\">\n",
    "\n",
    "La función de onda debe de cumplir las condiciones de contorno o frontera del problema:\n",
    "\n",
    "1. cuando $\\xi → ±∞$ el término ${α/β − ξ^2} → −ξ^2$, con lo que la ecuación de **Hermite-Gauss** tiende a ser $ψ'' − ψξ^2=0$, de donde se deduce una solución de la forma $ψ ∝ e^{\\frac{±ξ^2}{2}}$;\n",
    "    \n",
    "2. la función debe de estar acotada y ser normalizable, lo que excluye a $e^{\\frac{+ξ^2}{2}}$;\n",
    "    \n",
    "3. $ψ(ξ)$ debe ser contínua y derivable.\n",
    "Esto conduce a buscar una solución de la forma \n",
    "$$\\large ψ(ξ) = NH(ξ)e^{\\frac{−ξ^2}{2}}$$\n",
    "donde $N$ es una constante de normalización y $H(ξ)$ un polinomio, que habría de ser necesariamente\n",
    "de grado finito para asegurar que $ψ(ξ)$ sea acotada en $ξ → ±∞$ y normalizable. Pero:\n",
    "$$\\large ψ'(ξ) = N(H' - ξH)e^{\\frac{−ξ^2}{2}}$$\n",
    "$$\\large ψ'(ξ) = N\\{H''-2ξH'+(ξ^2-1)H\\}e^{\\frac{−ξ^2}{2}}$$\n",
    "\n",
    "que al sustituir en la ecuación de **Hermite-Gauss** obtenemo la ecuacion diferencial de **Hermite**:    \n",
    "$$\\large \\frac{\\partial^2 H(\\xi)}{\\partial{\\xi}^2} + 2\\xi \\frac{\\partial H(\\xi)}{\\partial{\\xi}} +\\{{\\frac{\\alpha}{\\beta}- 1}\\}H(\\xi)=0 $$ \n",
    "$$\\large H'' + 2\\xi H' +\\{{\\frac{\\alpha}{\\beta}- 1}\\}H=0 $$\n",
    "\n",
    "Las soluciones a esta ecuación diferencial son los polinomios de Hermite, y las funciones $ψ(ξ)$ se\n",
    "denominan **funciones de Hermite-Gauss**\n",
    "$$\\large H(\\xi) = \\sum_{i=0} a_{i} \\xi^i$$\n",
    "$$\\large H'(\\xi) = \\sum_{i=1} a_{i} i \\xi^{i-1}=\\sum_{i=0} a_{i} i \\xi^{i-1}  \\textrm{\\{el término con i=0 es nulo}$$\n",
    "$$ \\large H''(\\xi) = \\sum_{i=2} a_{i} i(i-1) \\xi^{i-2}= \\left\\{ \\begin{array}{ll}\n",
    "& \\textrm{usando:}\\\\\n",
    "& \\textrm{$j=i-2$}\n",
    "\\end{array} \\right.=\\sum_{j=0} a_{j+2} (j+1)(j+2) \\xi^{j} $$ \n",
    "donde hemos de tener en cuanta que el nombre que demos al índice del sumatorio es arbitrario y\n",
    "sólo es importante tener en cuenta sus límites. Sustituyendo en la ecuación de Hermite:\n",
    "$$\\large \\sum_{k=0} \\{a_{k+2} (k+1)(k+2) - 2a_{k}k + (\\frac{\\alpha}{\\beta}-1)a_{k}\\} \\xi^{k}=0$$ \n",
    "Puesto que esta ecuación debe cumplirse para cualquier valor de $ξ$, cada uno de los términos que\n",
    "multiplica a $ξ^k$ debe ser nulo. De aquí deducimos la relación siguiente entre los coeficientes del\n",
    "***polinomio de Hermite***\n",
    "    \n",
    "$$\\large a_{k+2}=\\frac{2k-(\\frac{\\alpha}{\\beta}-1)}{(k+1)(k+2)}a_{k}$$\n",
    "Como ya hemos discutido, $H(ξ)$ debe ser de grado finito para asegurar que la gaussiana domina el\n",
    "comportamiento cuando $ξ → ±∞$ y la función de **Hermite-Gauss** tiende asintóticamente a cero en ese caso. Supongamos que $v$ es el grado máximo de un polinomio. Eso quiere decir que $a_v \\neq 0$,\n",
    "mientras que $a_{v+1} = a_{v+2} = 0$. Dada la relación de recurrencia entre coeficientes, $a_{v+1} = 0$\n",
    "significa que todos los coeficientes de diferente paridad que $a_v$ serán nulos. Además,\n",
    "$$\\large a_{v+2}=0=\\frac{2v-(\\frac{\\alpha}{\\beta}-1)}{(v+1)(v+2)}a_{v} \\Longrightarrow \\frac{\\alpha}{\\beta}-1 = 2v $$\n",
    "$$\\large \\Longrightarrow E=(v + \\frac{1}{2})\\hbar \\omega = (v + \\frac{1}{2})h\\nu$$\n",
    "    donde $\\omega = 2\\pi \\nu = \\sqrt{\\frac{k}{m}}$ es la frecuencia clásica del oscilador armónico.</p>\n",
    " "
   ]
  },
  {
   "cell_type": "markdown",
   "metadata": {},
   "source": [
    "<div class=\"alert alert-success\">\n",
    "\n",
    "Se deduce, por lo tanto, que\n",
    "1. la energía del oscilador armónico esta cuantizada con arreglo a un número cuántico de vibración $v = 0, 1, 2, ...,$ que no es sino el grado máximo del **polinomio de Hermite**.\n",
    "2. el estado fundamental, $v = 0$, posee una energía de punto cero que es mayor que cero.\n",
    "3. los niveles del oscilador se hallan equiespaciados, siendo $h\\nu$ la diferencia de energía entre los\n",
    "niveles $v$ y $v ± 1$.\n",
    "\n",
    "Volviendo a los polinomios de Hermite, se elige $a_v = 2^v$ como coeficiente de mayor grado de un\n",
    "polinomio, de modo que todos los coeficientes son números enteros. La relación de recurrencia nos\n",
    "permite obtener la siguiente expresión explícita para un polinomio arbitrario:\n",
    "$$\\large H(\\xi)_v=\\sum_{k=0}^{ent(\\frac{v}{2})}\\frac{(-1)^{k}v!}{k!(v-2k)!}(2{\\xi})^{v-2k}$$</p>"
   ]
  },
  {
   "cell_type": "markdown",
   "metadata": {},
   "source": [
    "<div class=\"alert alert-danger\">\n",
    "    \n",
    "**Forma explícita de los primeros polinomios de Hermite**:\n",
    ":<math>\\begin{align}\n",
    "H_0(\\xi) &= 1, \\\\\n",
    "H_1(\\xi) &= 2\\xi, \\\\\n",
    "H_2(\\xi) &= 4\\xi^2 - 2, \\\\\n",
    "H_3(\\xi) &= 8\\xi^3 - 12\\xi, \\\\\n",
    "H_4(\\xi) &= 16\\xi^4 - 48\\xi^2 + 12, \\\\\n",
    "H_5(\\xi) &= 32\\xi^5 - 160\\xi^3 + 120\\xi, \\\\\n",
    "H_6(\\xi) &= 64\\xi^6 - 480\\xi^4 + 720\\xi^2 - 120, \\\\\n",
    "H_7(\\xi) &= 128\\xi^7 - 1344\\xi^5 + 3360\\xi^3 - 1680\\xi, \\\\\n",
    "H_8(\\xi) &= 256\\xi^8 - 3584\\xi^6 + 13440\\xi^4 - 13440\\xi^2 + 1680, \\\\\n",
    "H_9(\\xi) &= 512\\xi^9 - 9216\\xi^7 + 48384\\xi^5 - 80640\\xi^3 + 30240\\xi, \\\\\n",
    "H_{10}(\\xi) &= 1024\\xi^{10} - 23040\\xi^8 + 161280\\xi^6 - 403200\\xi^4 + 302400\\xi^2 - 30240.\n",
    "\\end{align}</math>\n",
    "</p>"
   ]
  },
  {
   "cell_type": "code",
   "execution_count": 8,
   "metadata": {},
   "outputs": [
    {
     "name": "stdin",
     "output_type": "stream",
     "text": [
      "Introduzca el valor del número cuántico v =  3\n"
     ]
    },
    {
     "data": {
      "image/png": "[encoded data removed]",
      "text/latex": [
       "$\\displaystyle 8 \\xi^{3} - 12 \\xi$"
      ],
      "text/plain": [
       "   3       \n",
       "8⋅ξ  - 12⋅ξ"
      ]
     },
     "execution_count": 8,
     "metadata": {},
     "output_type": "execute_result"
    }
   ],
   "source": [
    "# Sympy permite obtener los polinomios de Hermite\n",
    "v = int(input(\"Introduzca el valor del número cuántico v = \"))\n",
    "sp.hermite(v, xi)"
   ]
  },
  {
   "cell_type": "markdown",
   "metadata": {},
   "source": [
    "<div class=\"alert alert-warning\">\n",
    "    \n",
    "### **Expresiones útiles de los polinomios de Hermite y la Función de Onda**:\n",
    "**Relación de recurrencia**:\n",
    "    \n",
    "$$\\large H_v'(\\xi) = 2vH_{v-1}(\\xi) \\Longrightarrow \\xi H_v(\\xi) = \\frac{1}{2}H_{v+1}(\\xi) + vH_{v-1}(\\xi) $$\n",
    "**Fórmula de Rodrigues**:    \n",
    "$$\\large H_v(\\xi) = (-1)^v e^{\\xi^2}\\frac{d^v}{d\\xi^v}e^{-\\xi^2}$$\n",
    "\n",
    "**Función de Onda Total**\n",
    "$$\\large ψ_v(ξ) = N_vH_{v}(ξ)e^{\\frac{−ξ^2}{2}}=N_{v}e^{\\frac{−ξ^2}{2}} \\sum_{k=0}^{ent(\\frac{v}{2})}\\frac{(-1)^{k}v!}{k!(v-2k)!}(2{\\xi})^{v-2k}$$\n",
    "donde $N_v$, la **constante de normalización** es\n",
    "$$\\large N_v=\\frac{(\\frac{\\beta}{\\pi})^{\\frac{1}{4}}}{\\sqrt{2^{v}v!}}= \\frac{1}{\\sqrt{2^v\\,v!}} \\cdot \\left(\\frac{m\\omega}{\\pi \\hbar}\\right)^{1/4} \\cdot$$\n",
    "En términos de la coordenada $x$ la **función de Onda del Oscilador Armónico 1D** sería:    \n",
    "$$\\large \\Psi_v(x) = \\frac{1}{\\sqrt{2^v\\,v!}} \\cdot \\left(\\frac{m\\omega}{\\pi \\hbar}\\right)^{1/4} \\cdot e^{\n",
    "- \\frac{m\\omega x^2}{2 \\hbar}} \\cdot H_v\\left(\\sqrt{\\frac{m\\omega}{\\hbar}} x \\right), \\qquad v = 0,1,2,\\ldots.$$\n",
    "\n",
    "**Ortogonalidad**\n",
    "$$\\large \\left\\langle v \\mid v' \\right\\rangle = N_v N_{v'}\\int_{-\\infty}^\\infty H_v(\\xi) H_{v'}(\\xi)\\, e^{-\\xi^2} \\,d\\xi = \\delta_{vv'}$$\n",
    "donde **$\\delta_{vv'}$** es el delta Kronecker que solo puede tomar dos valores; $1$ si $v=v'$ o $0$ si $v \\neq v'$\n",
    "    \n",
    "**Relaciones de recurrencia de las Funciones de Onda**\n",
    "$$\\large x \\Psi_v(x) = \\sqrt{\\frac{v}{2\\beta}}\\Psi_{v-1}(x) + \\sqrt{\\frac{v+1}{2\\beta}}\\Psi_{v+1}(x) $$\n",
    "</p>"
   ]
  },
  {
   "cell_type": "code",
   "execution_count": 9,
   "metadata": {},
   "outputs": [],
   "source": [
    "import matplotlib.pyplot as mpl\n",
    "import matplotlib.pylab as plt\n",
    "material_palette = {\n",
    "    -1: \"#212121\",\n",
    "    0: \"#F44336\",\n",
    "    1: \"#E91E63\",\n",
    "    2: \"#9C27B0\",\n",
    "    3: \"#673AB7\",\n",
    "    4: \"#3F51B5\",\n",
    "    5: \"#2196F3\",\n",
    "    6: \"#03A9F4\",\n",
    "    7: \"#00BCD4\",\n",
    "    8: \"#009688\",\n",
    "    9: \"#4CAF50\",\n",
    "    10: \"#8BC34A\",\n",
    "    11: \"#CDDC39\",\n",
    "    12: \"#FFEB3B\",\n",
    "    13: \"#FFC107\",\n",
    "    14: \"#FF9800\",\n",
    "    15: \"#FF5722\",\n",
    "}"
   ]
  },
  {
   "cell_type": "code",
   "execution_count": 11,
   "metadata": {},
   "outputs": [
    {
     "name": "stdin",
     "output_type": "stream",
     "text": [
      "Introduzca el valor del número cuántico v =  2\n"
     ]
    },
    {
     "ename": "TypeError",
     "evalue": "unsupported operand type(s) for ** or pow(): 'UndefinedFunction' and 'Integer'",
     "output_type": "error",
     "traceback": [
      "\u001b[1;31m---------------------------------------------------------------------------\u001b[0m",
      "\u001b[1;31mTypeError\u001b[0m                                 Traceback (most recent call last)",
      "\u001b[1;32m<ipython-input-11-725bcc70aea0>\u001b[0m in \u001b[0;36m<module>\u001b[1;34m\u001b[0m\n\u001b[0;32m      6\u001b[0m \u001b[1;31m#k = float(input(\"Introduzca el valor de la constante del oscilador, k, en Angstroms = \"))\u001b[0m\u001b[1;33m\u001b[0m\u001b[1;33m\u001b[0m\u001b[1;33m\u001b[0m\u001b[0m\n\u001b[0;32m      7\u001b[0m \u001b[0mx_vals\u001b[0m \u001b[1;33m=\u001b[0m \u001b[0mnp\u001b[0m\u001b[1;33m.\u001b[0m\u001b[0mlinspace\u001b[0m\u001b[1;33m(\u001b[0m\u001b[1;33m-\u001b[0m\u001b[1;36m5\u001b[0m\u001b[1;33m,\u001b[0m \u001b[1;36m5\u001b[0m\u001b[1;33m,\u001b[0m \u001b[1;36m500\u001b[0m\u001b[1;33m)\u001b[0m\u001b[1;33m\u001b[0m\u001b[1;33m\u001b[0m\u001b[0m\n\u001b[1;32m----> 8\u001b[1;33m \u001b[0mpsiv\u001b[0m\u001b[1;33m=\u001b[0m\u001b[0mpsi\u001b[0m\u001b[1;33m(\u001b[0m\u001b[0mx\u001b[0m\u001b[1;33m,\u001b[0m\u001b[0mv\u001b[0m\u001b[1;33m)\u001b[0m\u001b[1;33m+\u001b[0m\u001b[1;33m(\u001b[0m\u001b[0mv\u001b[0m\u001b[1;33m+\u001b[0m\u001b[1;36m0.5\u001b[0m\u001b[1;33m)\u001b[0m\u001b[1;33m\u001b[0m\u001b[1;33m\u001b[0m\u001b[0m\n\u001b[0m\u001b[0;32m      9\u001b[0m \u001b[0mpsiv2\u001b[0m\u001b[1;33m=\u001b[0m\u001b[0mpsi\u001b[0m\u001b[1;33m(\u001b[0m\u001b[0mx\u001b[0m\u001b[1;33m,\u001b[0m\u001b[0mv\u001b[0m\u001b[1;33m)\u001b[0m\u001b[1;33m**\u001b[0m\u001b[1;36m2\u001b[0m \u001b[1;33m+\u001b[0m \u001b[1;33m(\u001b[0m\u001b[0mv\u001b[0m\u001b[1;33m+\u001b[0m\u001b[1;36m0.5\u001b[0m\u001b[1;33m)\u001b[0m\u001b[1;33m\u001b[0m\u001b[1;33m\u001b[0m\u001b[0m\n\u001b[0;32m     10\u001b[0m \u001b[0mlam_psi1\u001b[0m \u001b[1;33m=\u001b[0m \u001b[0msp\u001b[0m\u001b[1;33m.\u001b[0m\u001b[0mlambdify\u001b[0m\u001b[1;33m(\u001b[0m\u001b[0mx\u001b[0m\u001b[1;33m,\u001b[0m \u001b[0mpsiv\u001b[0m\u001b[1;33m,\u001b[0m \u001b[0mmodules\u001b[0m\u001b[1;33m=\u001b[0m\u001b[1;33m[\u001b[0m\u001b[1;34m'numpy'\u001b[0m\u001b[1;33m]\u001b[0m\u001b[1;33m)\u001b[0m\u001b[1;33m\u001b[0m\u001b[1;33m\u001b[0m\u001b[0m\n",
      "\u001b[1;32m<ipython-input-11-725bcc70aea0>\u001b[0m in \u001b[0;36mpsi\u001b[1;34m(x, v)\u001b[0m\n\u001b[0;32m      1\u001b[0m \u001b[1;31m# Definimos la función de onda\u001b[0m\u001b[1;33m\u001b[0m\u001b[1;33m\u001b[0m\u001b[1;33m\u001b[0m\u001b[0m\n\u001b[1;32m----> 2\u001b[1;33m \u001b[1;32mdef\u001b[0m \u001b[0mpsi\u001b[0m\u001b[1;33m(\u001b[0m\u001b[0mx\u001b[0m\u001b[1;33m,\u001b[0m\u001b[0mv\u001b[0m\u001b[1;33m)\u001b[0m\u001b[1;33m:\u001b[0m \u001b[1;32mreturn\u001b[0m \u001b[1;33m(\u001b[0m\u001b[0msp\u001b[0m\u001b[1;33m.\u001b[0m\u001b[0mpi\u001b[0m\u001b[1;33m**\u001b[0m\u001b[1;33m(\u001b[0m\u001b[1;33m-\u001b[0m\u001b[1;36m0.25\u001b[0m\u001b[1;33m)\u001b[0m\u001b[1;33m)\u001b[0m\u001b[1;33m*\u001b[0m\u001b[1;33m(\u001b[0m\u001b[1;36m2\u001b[0m\u001b[1;33m**\u001b[0m\u001b[1;33m(\u001b[0m\u001b[1;33m-\u001b[0m\u001b[1;36m0.5\u001b[0m\u001b[1;33m*\u001b[0m\u001b[0mv\u001b[0m\u001b[1;33m)\u001b[0m\u001b[1;33m)\u001b[0m\u001b[1;33m*\u001b[0m\u001b[1;33m(\u001b[0m\u001b[1;33m(\u001b[0m\u001b[0msp\u001b[0m\u001b[1;33m.\u001b[0m\u001b[0mfactorial\u001b[0m\u001b[1;33m(\u001b[0m\u001b[0mv\u001b[0m\u001b[1;33m)\u001b[0m\u001b[1;33m)\u001b[0m\u001b[1;33m**\u001b[0m\u001b[1;33m(\u001b[0m\u001b[1;33m-\u001b[0m\u001b[1;36m0.5\u001b[0m\u001b[1;33m)\u001b[0m\u001b[1;33m)\u001b[0m\u001b[1;33m*\u001b[0m\u001b[1;33m(\u001b[0m\u001b[0msp\u001b[0m\u001b[1;33m.\u001b[0m\u001b[0mhermite\u001b[0m\u001b[1;33m(\u001b[0m\u001b[0mv\u001b[0m\u001b[1;33m,\u001b[0m \u001b[0mx\u001b[0m\u001b[1;33m)\u001b[0m\u001b[1;33m*\u001b[0m\u001b[0msp\u001b[0m\u001b[1;33m.\u001b[0m\u001b[0mexp\u001b[0m\u001b[1;33m(\u001b[0m\u001b[1;33m-\u001b[0m\u001b[1;33m(\u001b[0m\u001b[0mx\u001b[0m\u001b[1;33m**\u001b[0m\u001b[1;36m2\u001b[0m\u001b[1;33m)\u001b[0m\u001b[1;33m/\u001b[0m\u001b[1;36m2\u001b[0m\u001b[1;33m)\u001b[0m\u001b[1;33m)\u001b[0m\u001b[1;33m\u001b[0m\u001b[1;33m\u001b[0m\u001b[0m\n\u001b[0m\u001b[0;32m      3\u001b[0m \u001b[1;33m\u001b[0m\u001b[0m\n\u001b[0;32m      4\u001b[0m \u001b[1;31m# Leemos los valores del número cuántico v intrducidos por el usuario\u001b[0m\u001b[1;33m\u001b[0m\u001b[1;33m\u001b[0m\u001b[1;33m\u001b[0m\u001b[0m\n\u001b[0;32m      5\u001b[0m \u001b[0mv\u001b[0m \u001b[1;33m=\u001b[0m \u001b[0mint\u001b[0m\u001b[1;33m(\u001b[0m\u001b[0minput\u001b[0m\u001b[1;33m(\u001b[0m\u001b[1;34m\"Introduzca el valor del número cuántico v = \"\u001b[0m\u001b[1;33m)\u001b[0m\u001b[1;33m)\u001b[0m\u001b[1;33m\u001b[0m\u001b[1;33m\u001b[0m\u001b[0m\n",
      "\u001b[1;32m~\\anaconda3\\lib\\site-packages\\sympy\\core\\function.py\u001b[0m in \u001b[0;36m__new__\u001b[1;34m(cls, *args, **options)\u001b[0m\n\u001b[0;32m    463\u001b[0m \u001b[1;33m\u001b[0m\u001b[0m\n\u001b[0;32m    464\u001b[0m         \u001b[0mevaluate\u001b[0m \u001b[1;33m=\u001b[0m \u001b[0moptions\u001b[0m\u001b[1;33m.\u001b[0m\u001b[0mget\u001b[0m\u001b[1;33m(\u001b[0m\u001b[1;34m'evaluate'\u001b[0m\u001b[1;33m,\u001b[0m \u001b[0mglobal_parameters\u001b[0m\u001b[1;33m.\u001b[0m\u001b[0mevaluate\u001b[0m\u001b[1;33m)\u001b[0m\u001b[1;33m\u001b[0m\u001b[1;33m\u001b[0m\u001b[0m\n\u001b[1;32m--> 465\u001b[1;33m         \u001b[0mresult\u001b[0m \u001b[1;33m=\u001b[0m \u001b[0msuper\u001b[0m\u001b[1;33m(\u001b[0m\u001b[1;33m)\u001b[0m\u001b[1;33m.\u001b[0m\u001b[0m__new__\u001b[0m\u001b[1;33m(\u001b[0m\u001b[0mcls\u001b[0m\u001b[1;33m,\u001b[0m \u001b[1;33m*\u001b[0m\u001b[0margs\u001b[0m\u001b[1;33m,\u001b[0m \u001b[1;33m**\u001b[0m\u001b[0moptions\u001b[0m\u001b[1;33m)\u001b[0m\u001b[1;33m\u001b[0m\u001b[1;33m\u001b[0m\u001b[0m\n\u001b[0m\u001b[0;32m    466\u001b[0m         \u001b[1;32mif\u001b[0m \u001b[0mevaluate\u001b[0m \u001b[1;32mand\u001b[0m \u001b[0misinstance\u001b[0m\u001b[1;33m(\u001b[0m\u001b[0mresult\u001b[0m\u001b[1;33m,\u001b[0m \u001b[0mcls\u001b[0m\u001b[1;33m)\u001b[0m \u001b[1;32mand\u001b[0m \u001b[0mresult\u001b[0m\u001b[1;33m.\u001b[0m\u001b[0margs\u001b[0m\u001b[1;33m:\u001b[0m\u001b[1;33m\u001b[0m\u001b[1;33m\u001b[0m\u001b[0m\n\u001b[0;32m    467\u001b[0m             \u001b[0mpr2\u001b[0m \u001b[1;33m=\u001b[0m \u001b[0mmin\u001b[0m\u001b[1;33m(\u001b[0m\u001b[0mcls\u001b[0m\u001b[1;33m.\u001b[0m\u001b[0m_should_evalf\u001b[0m\u001b[1;33m(\u001b[0m\u001b[0ma\u001b[0m\u001b[1;33m)\u001b[0m \u001b[1;32mfor\u001b[0m \u001b[0ma\u001b[0m \u001b[1;32min\u001b[0m \u001b[0mresult\u001b[0m\u001b[1;33m.\u001b[0m\u001b[0margs\u001b[0m\u001b[1;33m)\u001b[0m\u001b[1;33m\u001b[0m\u001b[1;33m\u001b[0m\u001b[0m\n",
      "\u001b[1;32m~\\anaconda3\\lib\\site-packages\\sympy\\core\\function.py\u001b[0m in \u001b[0;36m__new__\u001b[1;34m(cls, *args, **options)\u001b[0m\n\u001b[0;32m    278\u001b[0m \u001b[1;33m\u001b[0m\u001b[0m\n\u001b[0;32m    279\u001b[0m         \u001b[1;32mif\u001b[0m \u001b[0mevaluate\u001b[0m\u001b[1;33m:\u001b[0m\u001b[1;33m\u001b[0m\u001b[1;33m\u001b[0m\u001b[0m\n\u001b[1;32m--> 280\u001b[1;33m             \u001b[0mevaluated\u001b[0m \u001b[1;33m=\u001b[0m \u001b[0mcls\u001b[0m\u001b[1;33m.\u001b[0m\u001b[0meval\u001b[0m\u001b[1;33m(\u001b[0m\u001b[1;33m*\u001b[0m\u001b[0margs\u001b[0m\u001b[1;33m)\u001b[0m\u001b[1;33m\u001b[0m\u001b[1;33m\u001b[0m\u001b[0m\n\u001b[0m\u001b[0;32m    281\u001b[0m             \u001b[1;32mif\u001b[0m \u001b[0mevaluated\u001b[0m \u001b[1;32mis\u001b[0m \u001b[1;32mnot\u001b[0m \u001b[1;32mNone\u001b[0m\u001b[1;33m:\u001b[0m\u001b[1;33m\u001b[0m\u001b[1;33m\u001b[0m\u001b[0m\n\u001b[0;32m    282\u001b[0m                 \u001b[1;32mreturn\u001b[0m \u001b[0mevaluated\u001b[0m\u001b[1;33m\u001b[0m\u001b[1;33m\u001b[0m\u001b[0m\n",
      "\u001b[1;32m~\\anaconda3\\lib\\site-packages\\sympy\\functions\\special\\polynomials.py\u001b[0m in \u001b[0;36meval\u001b[1;34m(cls, n, x)\u001b[0m\n\u001b[0;32m   1035\u001b[0m                     \"The index n must be nonnegative integer (got %r)\" % n)\n\u001b[0;32m   1036\u001b[0m             \u001b[1;32melse\u001b[0m\u001b[1;33m:\u001b[0m\u001b[1;33m\u001b[0m\u001b[1;33m\u001b[0m\u001b[0m\n\u001b[1;32m-> 1037\u001b[1;33m                 \u001b[1;32mreturn\u001b[0m \u001b[0mcls\u001b[0m\u001b[1;33m.\u001b[0m\u001b[0m_eval_at_order\u001b[0m\u001b[1;33m(\u001b[0m\u001b[0mn\u001b[0m\u001b[1;33m,\u001b[0m \u001b[0mx\u001b[0m\u001b[1;33m)\u001b[0m\u001b[1;33m\u001b[0m\u001b[1;33m\u001b[0m\u001b[0m\n\u001b[0m\u001b[0;32m   1038\u001b[0m \u001b[1;33m\u001b[0m\u001b[0m\n\u001b[0;32m   1039\u001b[0m     \u001b[1;32mdef\u001b[0m \u001b[0mfdiff\u001b[0m\u001b[1;33m(\u001b[0m\u001b[0mself\u001b[0m\u001b[1;33m,\u001b[0m \u001b[0margindex\u001b[0m\u001b[1;33m=\u001b[0m\u001b[1;36m2\u001b[0m\u001b[1;33m)\u001b[0m\u001b[1;33m:\u001b[0m\u001b[1;33m\u001b[0m\u001b[1;33m\u001b[0m\u001b[0m\n",
      "\u001b[1;32m~\\anaconda3\\lib\\site-packages\\sympy\\functions\\special\\polynomials.py\u001b[0m in \u001b[0;36m_eval_at_order\u001b[1;34m(cls, n, x)\u001b[0m\n\u001b[0;32m     40\u001b[0m     \u001b[1;32mdef\u001b[0m \u001b[0m_eval_at_order\u001b[0m\u001b[1;33m(\u001b[0m\u001b[0mcls\u001b[0m\u001b[1;33m,\u001b[0m \u001b[0mn\u001b[0m\u001b[1;33m,\u001b[0m \u001b[0mx\u001b[0m\u001b[1;33m)\u001b[0m\u001b[1;33m:\u001b[0m\u001b[1;33m\u001b[0m\u001b[1;33m\u001b[0m\u001b[0m\n\u001b[0;32m     41\u001b[0m         \u001b[1;32mif\u001b[0m \u001b[0mn\u001b[0m\u001b[1;33m.\u001b[0m\u001b[0mis_integer\u001b[0m \u001b[1;32mand\u001b[0m \u001b[0mn\u001b[0m \u001b[1;33m>=\u001b[0m \u001b[1;36m0\u001b[0m\u001b[1;33m:\u001b[0m\u001b[1;33m\u001b[0m\u001b[1;33m\u001b[0m\u001b[0m\n\u001b[1;32m---> 42\u001b[1;33m             \u001b[1;32mreturn\u001b[0m \u001b[0mcls\u001b[0m\u001b[1;33m.\u001b[0m\u001b[0m_ortho_poly\u001b[0m\u001b[1;33m(\u001b[0m\u001b[0mint\u001b[0m\u001b[1;33m(\u001b[0m\u001b[0mn\u001b[0m\u001b[1;33m)\u001b[0m\u001b[1;33m,\u001b[0m \u001b[0m_x\u001b[0m\u001b[1;33m)\u001b[0m\u001b[1;33m.\u001b[0m\u001b[0msubs\u001b[0m\u001b[1;33m(\u001b[0m\u001b[0m_x\u001b[0m\u001b[1;33m,\u001b[0m \u001b[0mx\u001b[0m\u001b[1;33m)\u001b[0m\u001b[1;33m\u001b[0m\u001b[1;33m\u001b[0m\u001b[0m\n\u001b[0m\u001b[0;32m     43\u001b[0m \u001b[1;33m\u001b[0m\u001b[0m\n\u001b[0;32m     44\u001b[0m     \u001b[1;32mdef\u001b[0m \u001b[0m_eval_conjugate\u001b[0m\u001b[1;33m(\u001b[0m\u001b[0mself\u001b[0m\u001b[1;33m)\u001b[0m\u001b[1;33m:\u001b[0m\u001b[1;33m\u001b[0m\u001b[1;33m\u001b[0m\u001b[0m\n",
      "\u001b[1;32m~\\anaconda3\\lib\\site-packages\\sympy\\core\\basic.py\u001b[0m in \u001b[0;36msubs\u001b[1;34m(self, *args, **kwargs)\u001b[0m\n\u001b[0;32m    976\u001b[0m             \u001b[0mrv\u001b[0m \u001b[1;33m=\u001b[0m \u001b[0mself\u001b[0m\u001b[1;33m\u001b[0m\u001b[1;33m\u001b[0m\u001b[0m\n\u001b[0;32m    977\u001b[0m             \u001b[1;32mfor\u001b[0m \u001b[0mold\u001b[0m\u001b[1;33m,\u001b[0m \u001b[0mnew\u001b[0m \u001b[1;32min\u001b[0m \u001b[0msequence\u001b[0m\u001b[1;33m:\u001b[0m\u001b[1;33m\u001b[0m\u001b[1;33m\u001b[0m\u001b[0m\n\u001b[1;32m--> 978\u001b[1;33m                 \u001b[0mrv\u001b[0m \u001b[1;33m=\u001b[0m \u001b[0mrv\u001b[0m\u001b[1;33m.\u001b[0m\u001b[0m_subs\u001b[0m\u001b[1;33m(\u001b[0m\u001b[0mold\u001b[0m\u001b[1;33m,\u001b[0m \u001b[0mnew\u001b[0m\u001b[1;33m,\u001b[0m \u001b[1;33m**\u001b[0m\u001b[0mkwargs\u001b[0m\u001b[1;33m)\u001b[0m\u001b[1;33m\u001b[0m\u001b[1;33m\u001b[0m\u001b[0m\n\u001b[0m\u001b[0;32m    979\u001b[0m                 \u001b[1;32mif\u001b[0m \u001b[1;32mnot\u001b[0m \u001b[0misinstance\u001b[0m\u001b[1;33m(\u001b[0m\u001b[0mrv\u001b[0m\u001b[1;33m,\u001b[0m \u001b[0mBasic\u001b[0m\u001b[1;33m)\u001b[0m\u001b[1;33m:\u001b[0m\u001b[1;33m\u001b[0m\u001b[1;33m\u001b[0m\u001b[0m\n\u001b[0;32m    980\u001b[0m                     \u001b[1;32mbreak\u001b[0m\u001b[1;33m\u001b[0m\u001b[1;33m\u001b[0m\u001b[0m\n",
      "\u001b[1;32m~\\anaconda3\\lib\\site-packages\\sympy\\core\\basic.py\u001b[0m in \u001b[0;36m_subs\u001b[1;34m(self, old, new, **hints)\u001b[0m\n\u001b[0;32m   1090\u001b[0m         \u001b[0mrv\u001b[0m \u001b[1;33m=\u001b[0m \u001b[0mself\u001b[0m\u001b[1;33m.\u001b[0m\u001b[0m_eval_subs\u001b[0m\u001b[1;33m(\u001b[0m\u001b[0mold\u001b[0m\u001b[1;33m,\u001b[0m \u001b[0mnew\u001b[0m\u001b[1;33m)\u001b[0m\u001b[1;33m\u001b[0m\u001b[1;33m\u001b[0m\u001b[0m\n\u001b[0;32m   1091\u001b[0m         \u001b[1;32mif\u001b[0m \u001b[0mrv\u001b[0m \u001b[1;32mis\u001b[0m \u001b[1;32mNone\u001b[0m\u001b[1;33m:\u001b[0m\u001b[1;33m\u001b[0m\u001b[1;33m\u001b[0m\u001b[0m\n\u001b[1;32m-> 1092\u001b[1;33m             \u001b[0mrv\u001b[0m \u001b[1;33m=\u001b[0m \u001b[0mfallback\u001b[0m\u001b[1;33m(\u001b[0m\u001b[0mself\u001b[0m\u001b[1;33m,\u001b[0m \u001b[0mold\u001b[0m\u001b[1;33m,\u001b[0m \u001b[0mnew\u001b[0m\u001b[1;33m)\u001b[0m\u001b[1;33m\u001b[0m\u001b[1;33m\u001b[0m\u001b[0m\n\u001b[0m\u001b[0;32m   1093\u001b[0m         \u001b[1;32mreturn\u001b[0m \u001b[0mrv\u001b[0m\u001b[1;33m\u001b[0m\u001b[1;33m\u001b[0m\u001b[0m\n\u001b[0;32m   1094\u001b[0m \u001b[1;33m\u001b[0m\u001b[0m\n",
      "\u001b[1;32m~\\anaconda3\\lib\\site-packages\\sympy\\core\\basic.py\u001b[0m in \u001b[0;36mfallback\u001b[1;34m(self, old, new)\u001b[0m\n\u001b[0;32m   1062\u001b[0m                 \u001b[1;32mif\u001b[0m \u001b[1;32mnot\u001b[0m \u001b[0mhasattr\u001b[0m\u001b[1;33m(\u001b[0m\u001b[0marg\u001b[0m\u001b[1;33m,\u001b[0m \u001b[1;34m'_eval_subs'\u001b[0m\u001b[1;33m)\u001b[0m\u001b[1;33m:\u001b[0m\u001b[1;33m\u001b[0m\u001b[1;33m\u001b[0m\u001b[0m\n\u001b[0;32m   1063\u001b[0m                     \u001b[1;32mcontinue\u001b[0m\u001b[1;33m\u001b[0m\u001b[1;33m\u001b[0m\u001b[0m\n\u001b[1;32m-> 1064\u001b[1;33m                 \u001b[0marg\u001b[0m \u001b[1;33m=\u001b[0m \u001b[0marg\u001b[0m\u001b[1;33m.\u001b[0m\u001b[0m_subs\u001b[0m\u001b[1;33m(\u001b[0m\u001b[0mold\u001b[0m\u001b[1;33m,\u001b[0m \u001b[0mnew\u001b[0m\u001b[1;33m,\u001b[0m \u001b[1;33m**\u001b[0m\u001b[0mhints\u001b[0m\u001b[1;33m)\u001b[0m\u001b[1;33m\u001b[0m\u001b[1;33m\u001b[0m\u001b[0m\n\u001b[0m\u001b[0;32m   1065\u001b[0m                 \u001b[1;32mif\u001b[0m \u001b[1;32mnot\u001b[0m \u001b[0m_aresame\u001b[0m\u001b[1;33m(\u001b[0m\u001b[0marg\u001b[0m\u001b[1;33m,\u001b[0m \u001b[0margs\u001b[0m\u001b[1;33m[\u001b[0m\u001b[0mi\u001b[0m\u001b[1;33m]\u001b[0m\u001b[1;33m)\u001b[0m\u001b[1;33m:\u001b[0m\u001b[1;33m\u001b[0m\u001b[1;33m\u001b[0m\u001b[0m\n\u001b[0;32m   1066\u001b[0m                     \u001b[0mhit\u001b[0m \u001b[1;33m=\u001b[0m \u001b[1;32mTrue\u001b[0m\u001b[1;33m\u001b[0m\u001b[1;33m\u001b[0m\u001b[0m\n",
      "\u001b[1;32m~\\anaconda3\\lib\\site-packages\\sympy\\core\\basic.py\u001b[0m in \u001b[0;36m_subs\u001b[1;34m(self, old, new, **hints)\u001b[0m\n\u001b[0;32m   1090\u001b[0m         \u001b[0mrv\u001b[0m \u001b[1;33m=\u001b[0m \u001b[0mself\u001b[0m\u001b[1;33m.\u001b[0m\u001b[0m_eval_subs\u001b[0m\u001b[1;33m(\u001b[0m\u001b[0mold\u001b[0m\u001b[1;33m,\u001b[0m \u001b[0mnew\u001b[0m\u001b[1;33m)\u001b[0m\u001b[1;33m\u001b[0m\u001b[1;33m\u001b[0m\u001b[0m\n\u001b[0;32m   1091\u001b[0m         \u001b[1;32mif\u001b[0m \u001b[0mrv\u001b[0m \u001b[1;32mis\u001b[0m \u001b[1;32mNone\u001b[0m\u001b[1;33m:\u001b[0m\u001b[1;33m\u001b[0m\u001b[1;33m\u001b[0m\u001b[0m\n\u001b[1;32m-> 1092\u001b[1;33m             \u001b[0mrv\u001b[0m \u001b[1;33m=\u001b[0m \u001b[0mfallback\u001b[0m\u001b[1;33m(\u001b[0m\u001b[0mself\u001b[0m\u001b[1;33m,\u001b[0m \u001b[0mold\u001b[0m\u001b[1;33m,\u001b[0m \u001b[0mnew\u001b[0m\u001b[1;33m)\u001b[0m\u001b[1;33m\u001b[0m\u001b[1;33m\u001b[0m\u001b[0m\n\u001b[0m\u001b[0;32m   1093\u001b[0m         \u001b[1;32mreturn\u001b[0m \u001b[0mrv\u001b[0m\u001b[1;33m\u001b[0m\u001b[1;33m\u001b[0m\u001b[0m\n\u001b[0;32m   1094\u001b[0m \u001b[1;33m\u001b[0m\u001b[0m\n",
      "\u001b[1;32m~\\anaconda3\\lib\\site-packages\\sympy\\core\\basic.py\u001b[0m in \u001b[0;36mfallback\u001b[1;34m(self, old, new)\u001b[0m\n\u001b[0;32m   1062\u001b[0m                 \u001b[1;32mif\u001b[0m \u001b[1;32mnot\u001b[0m \u001b[0mhasattr\u001b[0m\u001b[1;33m(\u001b[0m\u001b[0marg\u001b[0m\u001b[1;33m,\u001b[0m \u001b[1;34m'_eval_subs'\u001b[0m\u001b[1;33m)\u001b[0m\u001b[1;33m:\u001b[0m\u001b[1;33m\u001b[0m\u001b[1;33m\u001b[0m\u001b[0m\n\u001b[0;32m   1063\u001b[0m                     \u001b[1;32mcontinue\u001b[0m\u001b[1;33m\u001b[0m\u001b[1;33m\u001b[0m\u001b[0m\n\u001b[1;32m-> 1064\u001b[1;33m                 \u001b[0marg\u001b[0m \u001b[1;33m=\u001b[0m \u001b[0marg\u001b[0m\u001b[1;33m.\u001b[0m\u001b[0m_subs\u001b[0m\u001b[1;33m(\u001b[0m\u001b[0mold\u001b[0m\u001b[1;33m,\u001b[0m \u001b[0mnew\u001b[0m\u001b[1;33m,\u001b[0m \u001b[1;33m**\u001b[0m\u001b[0mhints\u001b[0m\u001b[1;33m)\u001b[0m\u001b[1;33m\u001b[0m\u001b[1;33m\u001b[0m\u001b[0m\n\u001b[0m\u001b[0;32m   1065\u001b[0m                 \u001b[1;32mif\u001b[0m \u001b[1;32mnot\u001b[0m \u001b[0m_aresame\u001b[0m\u001b[1;33m(\u001b[0m\u001b[0marg\u001b[0m\u001b[1;33m,\u001b[0m \u001b[0margs\u001b[0m\u001b[1;33m[\u001b[0m\u001b[0mi\u001b[0m\u001b[1;33m]\u001b[0m\u001b[1;33m)\u001b[0m\u001b[1;33m:\u001b[0m\u001b[1;33m\u001b[0m\u001b[1;33m\u001b[0m\u001b[0m\n\u001b[0;32m   1066\u001b[0m                     \u001b[0mhit\u001b[0m \u001b[1;33m=\u001b[0m \u001b[1;32mTrue\u001b[0m\u001b[1;33m\u001b[0m\u001b[1;33m\u001b[0m\u001b[0m\n",
      "\u001b[1;32m~\\anaconda3\\lib\\site-packages\\sympy\\core\\basic.py\u001b[0m in \u001b[0;36m_subs\u001b[1;34m(self, old, new, **hints)\u001b[0m\n\u001b[0;32m   1088\u001b[0m             \u001b[1;32mreturn\u001b[0m \u001b[0mnew\u001b[0m\u001b[1;33m\u001b[0m\u001b[1;33m\u001b[0m\u001b[0m\n\u001b[0;32m   1089\u001b[0m \u001b[1;33m\u001b[0m\u001b[0m\n\u001b[1;32m-> 1090\u001b[1;33m         \u001b[0mrv\u001b[0m \u001b[1;33m=\u001b[0m \u001b[0mself\u001b[0m\u001b[1;33m.\u001b[0m\u001b[0m_eval_subs\u001b[0m\u001b[1;33m(\u001b[0m\u001b[0mold\u001b[0m\u001b[1;33m,\u001b[0m \u001b[0mnew\u001b[0m\u001b[1;33m)\u001b[0m\u001b[1;33m\u001b[0m\u001b[1;33m\u001b[0m\u001b[0m\n\u001b[0m\u001b[0;32m   1091\u001b[0m         \u001b[1;32mif\u001b[0m \u001b[0mrv\u001b[0m \u001b[1;32mis\u001b[0m \u001b[1;32mNone\u001b[0m\u001b[1;33m:\u001b[0m\u001b[1;33m\u001b[0m\u001b[1;33m\u001b[0m\u001b[0m\n\u001b[0;32m   1092\u001b[0m             \u001b[0mrv\u001b[0m \u001b[1;33m=\u001b[0m \u001b[0mfallback\u001b[0m\u001b[1;33m(\u001b[0m\u001b[0mself\u001b[0m\u001b[1;33m,\u001b[0m \u001b[0mold\u001b[0m\u001b[1;33m,\u001b[0m \u001b[0mnew\u001b[0m\u001b[1;33m)\u001b[0m\u001b[1;33m\u001b[0m\u001b[1;33m\u001b[0m\u001b[0m\n",
      "\u001b[1;32m~\\anaconda3\\lib\\site-packages\\sympy\\core\\power.py\u001b[0m in \u001b[0;36m_eval_subs\u001b[1;34m(self, old, new)\u001b[0m\n\u001b[0;32m    802\u001b[0m \u001b[1;33m\u001b[0m\u001b[0m\n\u001b[0;32m    803\u001b[0m         \u001b[1;32mif\u001b[0m \u001b[0mold\u001b[0m \u001b[1;33m==\u001b[0m \u001b[0mself\u001b[0m\u001b[1;33m.\u001b[0m\u001b[0mbase\u001b[0m\u001b[1;33m:\u001b[0m\u001b[1;33m\u001b[0m\u001b[1;33m\u001b[0m\u001b[0m\n\u001b[1;32m--> 804\u001b[1;33m             \u001b[1;32mreturn\u001b[0m \u001b[0mnew\u001b[0m\u001b[1;33m**\u001b[0m\u001b[0mself\u001b[0m\u001b[1;33m.\u001b[0m\u001b[0mexp\u001b[0m\u001b[1;33m.\u001b[0m\u001b[0m_subs\u001b[0m\u001b[1;33m(\u001b[0m\u001b[0mold\u001b[0m\u001b[1;33m,\u001b[0m \u001b[0mnew\u001b[0m\u001b[1;33m)\u001b[0m\u001b[1;33m\u001b[0m\u001b[1;33m\u001b[0m\u001b[0m\n\u001b[0m\u001b[0;32m    805\u001b[0m \u001b[1;33m\u001b[0m\u001b[0m\n\u001b[0;32m    806\u001b[0m         \u001b[1;31m# issue 10829: (4**x - 3*y + 2).subs(2**x, y) -> y**2 - 3*y + 2\u001b[0m\u001b[1;33m\u001b[0m\u001b[1;33m\u001b[0m\u001b[1;33m\u001b[0m\u001b[0m\n",
      "\u001b[1;31mTypeError\u001b[0m: unsupported operand type(s) for ** or pow(): 'UndefinedFunction' and 'Integer'"
     ]
    }
   ],
   "source": [
    "# Definimos la función de onda\n",
    "def psi(x,v): return (sp.pi**(-0.25))*(2**(-0.5*v))*((sp.factorial(v))**(-0.5))*(sp.hermite(v, x)*sp.exp(-(x**2)/2))\n",
    "\n",
    "# Leemos los valores del número cuántico v intrducidos por el usuario\n",
    "v = int(input(\"Introduzca el valor del número cuántico v = \"))\n",
    "#k = float(input(\"Introduzca el valor de la constante del oscilador, k, en Angstroms = \"))\n",
    "x_vals = np.linspace(-5, 5, 500)\n",
    "psiv=psi(x,v)+(v+0.5)\n",
    "psiv2=psi(x,v)**2 + (v+0.5)\n",
    "lam_psi1 = sp.lambdify(x, psiv, modules=['numpy'])\n",
    "lam_psi2 = sp.lambdify(x, psiv2, modules=['numpy'])\n",
    "x_vals = np.linspace(-5, 5, 500)\n",
    "y1_vals = lam_psi1(x_vals)\n",
    "y2_vals = lam_psi2(x_vals)\n",
    "str3=r\"$E_v = \"+str(v+0.5)+r\"$ $h \\nu$\"\n",
    "str0=\"$V(x)=1/2kx^2$\"\n",
    "str1=\"$\\Psi_v(x)$\"\n",
    "str2=\"$\\Psi_v(x)^2$\"\n",
    "\n",
    "fig, ax = plt.subplots(figsize=(8,9))\n",
    "plt.rcParams.update({'font.size': 18, 'font.family': 'STIXGeneral', 'mathtext.fontset': 'stix'})\n",
    "ax.plot(x_vals, 0.5*(x_vals)**2, 'b--', label=str0, linewidth=2.5, alpha=0.3)\n",
    "ax.plot(x_vals, (y1_vals), 'r', label=str1, linewidth=2.5)#, x_vals, y1_vals+1.5, 'g')\n",
    "ax.plot(x_vals, y2_vals, 'g', label=str2, linewidth=2.5, alpha=0.5)\n",
    "ax.fill_between(x_vals, v+0.5, y2_vals, facecolor=material_palette[n%16], alpha=0.5, color=material_palette[n%16] )\n",
    "ax.hlines(v+0.5, -6, 6, linewidth=1.8, linestyle='--', color=\"black\", label=str3)\n",
    "ax.legend(loc=2);\n",
    "ax.set_xlabel(r'$x$')\n",
    "ax.set_ylabel(r'$E_v(h\\nu)$')\n",
    "ax.set_yticks(np.linspace(-0.5,13.5,15))\n",
    "plt.title('Función de onda')\n",
    "plt.legend(bbox_to_anchor=(1.1, 1), loc=2, borderaxespad=0.0)\n",
    "plt.show()"
   ]
  },
  {
   "cell_type": "code",
   "execution_count": 12,
   "metadata": {},
   "outputs": [
    {
     "ename": "TypeError",
     "evalue": "unsupported operand type(s) for ** or pow(): 'UndefinedFunction' and 'int'",
     "output_type": "error",
     "traceback": [
      "\u001b[1;31m---------------------------------------------------------------------------\u001b[0m",
      "\u001b[1;31mTypeError\u001b[0m                                 Traceback (most recent call last)",
      "\u001b[1;32m<ipython-input-12-5d12932a65b7>\u001b[0m in \u001b[0;36m<module>\u001b[1;34m\u001b[0m\n\u001b[0;32m      5\u001b[0m \u001b[0mv\u001b[0m \u001b[1;33m=\u001b[0m \u001b[1;36m0\u001b[0m \u001b[1;31m#int(input(\"Introduzca el valor del número cuántico v = \"))\u001b[0m\u001b[1;33m\u001b[0m\u001b[1;33m\u001b[0m\u001b[0m\n\u001b[0;32m      6\u001b[0m \u001b[1;31m#k = float(input(\"Introduzca el valor de la constante del oscilador, k, en Angstroms = \"))\u001b[0m\u001b[1;33m\u001b[0m\u001b[1;33m\u001b[0m\u001b[1;33m\u001b[0m\u001b[0m\n\u001b[1;32m----> 7\u001b[1;33m \u001b[0mpsiv0\u001b[0m\u001b[1;33m=\u001b[0m\u001b[0mpsi\u001b[0m\u001b[1;33m(\u001b[0m\u001b[0mx\u001b[0m\u001b[1;33m,\u001b[0m\u001b[0mv\u001b[0m\u001b[1;33m)\u001b[0m\u001b[1;33m+\u001b[0m\u001b[1;33m(\u001b[0m\u001b[0mv\u001b[0m\u001b[1;33m+\u001b[0m\u001b[1;36m0.5\u001b[0m\u001b[1;33m)\u001b[0m\u001b[1;33m\u001b[0m\u001b[1;33m\u001b[0m\u001b[0m\n\u001b[0m\u001b[0;32m      8\u001b[0m \u001b[0mpsiv1\u001b[0m\u001b[1;33m=\u001b[0m\u001b[0mpsi\u001b[0m\u001b[1;33m(\u001b[0m\u001b[0mx\u001b[0m\u001b[1;33m,\u001b[0m\u001b[0mv\u001b[0m\u001b[1;33m+\u001b[0m\u001b[1;36m1\u001b[0m\u001b[1;33m)\u001b[0m\u001b[1;33m+\u001b[0m\u001b[1;33m(\u001b[0m\u001b[0mv\u001b[0m\u001b[1;33m+\u001b[0m\u001b[1;36m1.5\u001b[0m\u001b[1;33m)\u001b[0m\u001b[1;33m\u001b[0m\u001b[1;33m\u001b[0m\u001b[0m\n\u001b[0;32m      9\u001b[0m \u001b[0mpsiv2\u001b[0m\u001b[1;33m=\u001b[0m\u001b[0mpsi\u001b[0m\u001b[1;33m(\u001b[0m\u001b[0mx\u001b[0m\u001b[1;33m,\u001b[0m\u001b[0mv\u001b[0m\u001b[1;33m+\u001b[0m\u001b[1;36m2\u001b[0m\u001b[1;33m)\u001b[0m\u001b[1;33m+\u001b[0m\u001b[1;33m(\u001b[0m\u001b[0mv\u001b[0m\u001b[1;33m+\u001b[0m\u001b[1;36m2.5\u001b[0m\u001b[1;33m)\u001b[0m\u001b[1;33m\u001b[0m\u001b[1;33m\u001b[0m\u001b[0m\n",
      "\u001b[1;32m<ipython-input-12-5d12932a65b7>\u001b[0m in \u001b[0;36mpsi\u001b[1;34m(x, v)\u001b[0m\n\u001b[0;32m      1\u001b[0m \u001b[1;31m# Definimos la función de onda\u001b[0m\u001b[1;33m\u001b[0m\u001b[1;33m\u001b[0m\u001b[1;33m\u001b[0m\u001b[0m\n\u001b[1;32m----> 2\u001b[1;33m \u001b[1;32mdef\u001b[0m \u001b[0mpsi\u001b[0m\u001b[1;33m(\u001b[0m\u001b[0mx\u001b[0m\u001b[1;33m,\u001b[0m\u001b[0mv\u001b[0m\u001b[1;33m)\u001b[0m\u001b[1;33m:\u001b[0m \u001b[1;32mreturn\u001b[0m \u001b[1;33m(\u001b[0m\u001b[0msp\u001b[0m\u001b[1;33m.\u001b[0m\u001b[0mpi\u001b[0m\u001b[1;33m**\u001b[0m\u001b[1;33m(\u001b[0m\u001b[1;33m-\u001b[0m\u001b[1;36m0.25\u001b[0m\u001b[1;33m)\u001b[0m\u001b[1;33m)\u001b[0m\u001b[1;33m*\u001b[0m\u001b[1;33m(\u001b[0m\u001b[1;36m2\u001b[0m\u001b[1;33m**\u001b[0m\u001b[1;33m(\u001b[0m\u001b[1;33m-\u001b[0m\u001b[1;36m0.5\u001b[0m\u001b[1;33m*\u001b[0m\u001b[0mv\u001b[0m\u001b[1;33m)\u001b[0m\u001b[1;33m)\u001b[0m\u001b[1;33m*\u001b[0m\u001b[1;33m(\u001b[0m\u001b[1;33m(\u001b[0m\u001b[0msp\u001b[0m\u001b[1;33m.\u001b[0m\u001b[0mfactorial\u001b[0m\u001b[1;33m(\u001b[0m\u001b[0mv\u001b[0m\u001b[1;33m)\u001b[0m\u001b[1;33m)\u001b[0m\u001b[1;33m**\u001b[0m\u001b[1;33m(\u001b[0m\u001b[1;33m-\u001b[0m\u001b[1;36m0.5\u001b[0m\u001b[1;33m)\u001b[0m\u001b[1;33m)\u001b[0m\u001b[1;33m*\u001b[0m\u001b[1;33m(\u001b[0m\u001b[0msp\u001b[0m\u001b[1;33m.\u001b[0m\u001b[0mhermite\u001b[0m\u001b[1;33m(\u001b[0m\u001b[0mv\u001b[0m\u001b[1;33m,\u001b[0m \u001b[0mx\u001b[0m\u001b[1;33m)\u001b[0m\u001b[1;33m*\u001b[0m\u001b[0msp\u001b[0m\u001b[1;33m.\u001b[0m\u001b[0mexp\u001b[0m\u001b[1;33m(\u001b[0m\u001b[1;33m-\u001b[0m\u001b[1;33m(\u001b[0m\u001b[0mx\u001b[0m\u001b[1;33m**\u001b[0m\u001b[1;36m2\u001b[0m\u001b[1;33m)\u001b[0m\u001b[1;33m/\u001b[0m\u001b[1;36m2\u001b[0m\u001b[1;33m)\u001b[0m\u001b[1;33m)\u001b[0m\u001b[1;33m\u001b[0m\u001b[1;33m\u001b[0m\u001b[0m\n\u001b[0m\u001b[0;32m      3\u001b[0m \u001b[1;33m\u001b[0m\u001b[0m\n\u001b[0;32m      4\u001b[0m \u001b[1;31m# Leemos los valores del número cuántico v intrducidos por el usuario\u001b[0m\u001b[1;33m\u001b[0m\u001b[1;33m\u001b[0m\u001b[1;33m\u001b[0m\u001b[0m\n\u001b[0;32m      5\u001b[0m \u001b[0mv\u001b[0m \u001b[1;33m=\u001b[0m \u001b[1;36m0\u001b[0m \u001b[1;31m#int(input(\"Introduzca el valor del número cuántico v = \"))\u001b[0m\u001b[1;33m\u001b[0m\u001b[1;33m\u001b[0m\u001b[0m\n",
      "\u001b[1;31mTypeError\u001b[0m: unsupported operand type(s) for ** or pow(): 'UndefinedFunction' and 'int'"
     ]
    }
   ],
   "source": [
    "# Definimos la función de onda\n",
    "def psi(x,v): return (sp.pi**(-0.25))*(2**(-0.5*v))*((sp.factorial(v))**(-0.5))*(sp.hermite(v, x)*sp.exp(-(x**2)/2))\n",
    "\n",
    "# Leemos los valores del número cuántico v intrducidos por el usuario\n",
    "v = 0 #int(input(\"Introduzca el valor del número cuántico v = \"))\n",
    "#k = float(input(\"Introduzca el valor de la constante del oscilador, k, en Angstroms = \"))\n",
    "psiv0=psi(x,v)+(v+0.5)\n",
    "psiv1=psi(x,v+1)+(v+1.5)\n",
    "psiv2=psi(x,v+2)+(v+2.5)\n",
    "psiv3=psi(x,v+3)+(v+3.5)\n",
    "psiv4=psi(x,v+4)+(v+4.5)\n",
    "psiv5=psi(x,v+5)+(v+5.5)\n",
    "psiv6=psi(x,v+6)+(v+6.5)\n",
    "psiv7=psi(x,v+7)+(v+7.5)\n",
    "psiv8=psi(x,v+8)+(v+8.5)\n",
    "psiv9=psi(x,v+9)+(v+9.5)\n",
    "psiv10=psi(x,v+10)+(v+10.5)\n",
    "psivc2=psi(x,v)**2 + (v+0.5)\n",
    "lpsi0 = sp.lambdify(x, psiv0, modules=['numpy'])\n",
    "lpsi1 = sp.lambdify(x, psiv1, modules=['numpy'])\n",
    "lpsi2 = sp.lambdify(x, psiv2, modules=['numpy'])\n",
    "lpsi3 = sp.lambdify(x, psiv3, modules=['numpy'])\n",
    "lpsi4 = sp.lambdify(x, psiv4, modules=['numpy'])\n",
    "lpsi5 = sp.lambdify(x, psiv5, modules=['numpy'])\n",
    "lpsi6 = sp.lambdify(x, psiv6, modules=['numpy'])\n",
    "lpsi7 = sp.lambdify(x, psiv7, modules=['numpy'])\n",
    "lpsi8 = sp.lambdify(x, psiv8, modules=['numpy'])\n",
    "lpsi9 = sp.lambdify(x, psiv9, modules=['numpy'])\n",
    "lpsi10 = sp.lambdify(x, psiv10, modules=['numpy'])\n",
    "\n",
    "x_vals = np.linspace(-5, 5, 500)\n",
    "y1_vals = lam_psi1(x_vals)\n",
    "y2_vals = lam_psi2(x_vals)\n",
    "str3=r\"$E_v = \"+str(v+0.5)+r\"$ $h \\nu$\"\n",
    "str0=\"$V(x)=1/2kx^2$\"\n",
    "str1=\"$\\Psi_v(x)$\"\n",
    "str2=\"$\\Psi_v(x)^2$\"\n",
    "\n",
    "fig, ax = plt.subplots(figsize=(8,9))\n",
    "plt.rcParams.update({'font.size': 18, 'font.family': 'STIXGeneral', 'mathtext.fontset': 'stix'})\n",
    "ax.plot(x_vals, 0.5*(x_vals)**2, 'b', label=str0, linewidth=2.5, alpha=0.3)\n",
    "ax.plot(x_vals, lpsi0(x_vals), color=material_palette[n%16], label=\"$\\Psi_0(x)$\", linewidth=2.5)#, x_vals, y1_vals+1.5, 'g')\n",
    "ax.plot(x_vals, lpsi1(x_vals), 'g', label=\"$\\Psi_1(x)$\", linewidth=2.5, alpha=0.8)\n",
    "ax.plot(x_vals, lpsi2(x_vals), 'b', label=\"$\\Psi_2(x)$\", linewidth=2.5, alpha=0.8)\n",
    "ax.plot(x_vals, lpsi3(x_vals), 'y', label=\"$\\Psi_3(x)$\", linewidth=2.5)#, x_vals, y1_vals+1.5, 'g')\n",
    "ax.plot(x_vals, lpsi4(x_vals), 'c', label=\"$\\Psi_4(x)$\", linewidth=2.5, alpha=0.8)\n",
    "ax.plot(x_vals, lpsi5(x_vals), 'm', label=\"$\\Psi_5(x)$\", linewidth=2.5, alpha=0.8)\n",
    "ax.plot(x_vals, lpsi6(x_vals), 'r', label=\"$\\Psi_6(x)$\", linewidth=2.5)#, x_vals, y1_vals+1.5, 'g')\n",
    "ax.plot(x_vals, lpsi7(x_vals), 'g', label=\"$\\Psi_7(x)$\", linewidth=2.5, alpha=0.8)\n",
    "ax.plot(x_vals, lpsi8(x_vals), 'k', label=\"$\\Psi_8(x)$\", linewidth=2.5, alpha=0.8)\n",
    "ax.plot(x_vals, lpsi9(x_vals), 'r', label=\"$\\Psi_9(x)$\", linewidth=2.5)#, x_vals, y1_vals+1.5, 'g')\n",
    "ax.plot(x_vals, lpsi10(x_vals), 'g', label=\"$\\Psi_{10}(x)$\", linewidth=2.5, alpha=0.8)\n",
    "\n",
    "#ax.fill_between(x_vals, v+0.5, y2_vals, facecolor=material_palette[n%16], alpha=0.5, color=material_palette[n%16] )\n",
    "ax.hlines(0.5, -6, 6, linewidth=1.8, linestyle='--', color=\"black\")\n",
    "ax.hlines(1.5, -6, 6, linewidth=1.8, linestyle='--', color=\"black\")\n",
    "ax.hlines(2.5, -6, 6, linewidth=1.8, linestyle='--', color=\"black\")\n",
    "ax.hlines(3.5, -6, 6, linewidth=1.8, linestyle='--', color=\"black\")\n",
    "ax.hlines(4.5, -6, 6, linewidth=1.8, linestyle='--', color=\"black\")\n",
    "ax.hlines(5.5, -6, 6, linewidth=1.8, linestyle='--', color=\"black\")\n",
    "ax.hlines(6.5, -6, 6, linewidth=1.8, linestyle='--', color=\"black\")\n",
    "ax.hlines(7.5, -6, 6, linewidth=1.8, linestyle='--', color=\"black\")\n",
    "ax.hlines(8.5, -6, 6, linewidth=1.8, linestyle='--', color=\"black\")\n",
    "ax.hlines(9.5, -6, 6, linewidth=1.8, linestyle='--', color=\"black\")\n",
    "ax.hlines(10.5, -6, 6, linewidth=1.8, linestyle='--', color=\"black\")\n",
    "ax.vlines(0, 0, 13.5, linewidth=1.8, linestyle='--', color=\"r\", alpha=0.2)\n",
    "ax.legend(loc=2);\n",
    "ax.set_xlabel(r'$x$')\n",
    "ax.set_ylabel(r'$E_v(h\\nu)$')\n",
    "ax.set_yticks(np.linspace(-0.5,13.5,15))\n",
    "plt.title('Funcione de onda, $\\Psi_v(x)$')\n",
    "plt.legend(bbox_to_anchor=(1.1, 1), loc=2, borderaxespad=0.0)\n",
    "plt.show()"
   ]
  },
  {
   "cell_type": "markdown",
   "metadata": {},
   "source": [
    "<div class=\"alert alert-success\">\n",
    "    \n",
    "#### Estados energéticos del oscilador armóico 1D\n",
    "\n",
    "1. Niveles y estados están determinados por el número cu´antico vibracional v. No existe degeneración.\n",
    "2. Hay una colección discreta, aunque infinita, de estados.\n",
    "3. Al aumentar $v$ se van sucediendo alternativamente funciones $ψ_v(ξ)$ simétricas y antisimétricas respecto de $ξ = 0$. La simetría o paridad de la función coincide con la paridad de $v$.\n",
    "4. $ψ_v(ξ)$ tiene tantos nodos como indique v.\n",
    "5. Efecto túnel: Según la mecánica clásica la elongación debería estar restringida a $|x| ≤ A =\\sqrt{2E/k}$.\n",
    "La solución cuántica indica, en cambio, que hay una probabilidad mayor que cero de hallar la partícula\n",
    "fuera de esa región.\n",
    "6. Las funciones del oscilador forman un conjunto completo ortonormal: $\\left\\langle v \\mid v' \\right\\rangle  = δ_{v,v'}$ .</p>"
   ]
  },
  {
   "cell_type": "code",
   "execution_count": null,
   "metadata": {},
   "outputs": [],
   "source": []
  }
 ],
 "metadata": {
  "kernelspec": {
   "display_name": "Python 3",
   "language": "python",
   "name": "python3"
  },
  "language_info": {
   "codemirror_mode": {
    "name": "ipython",
    "version": 3
   },
   "file_extension": ".py",
   "mimetype": "text/x-python",
   "name": "python",
   "nbconvert_exporter": "python",
   "pygments_lexer": "ipython3",
   "version": "3.8.3"
  }
 },
 "nbformat": 4,
 "nbformat_minor": 4
}

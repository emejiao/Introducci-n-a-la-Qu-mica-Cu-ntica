{
 "cells": [
  {
   "cell_type": "code",
   "execution_count": 9,
   "metadata": {},
   "outputs": [],
   "source": [
    "from IPython.display import HTML"
   ]
  },
  {
   "cell_type": "markdown",
   "metadata": {
    "slideshow": {
     "slide_type": "slide"
    }
   },
   "source": [
    "<div class=\"alert alert-success\" role=\"alert\">\n",
    "  <h2 class=\"alert-heading\">Introducción a la Química Cuántica: Taller 1-Postulados de la Mecánica Cuántica</h2>\n",
    "  <h3 class=\"alert-heading\">Prof. Enrique Mejía Ospino, emejia@uis.edu.co</h3>\n",
    "  <h3 class=\"alert-heading\">Escuela de Química</h3>\n",
    "  <h3 class=\"alert-heading\">Universidad Industrial de Santander</h3>\n",
    "  <p>\n",
    "  </div>"
   ]
  },
  {
   "cell_type": "markdown",
   "metadata": {
    "slideshow": {
     "slide_type": "slide"
    }
   },
   "source": [
    "### <div class=\"alert alert-info\"><font color='blue'> <h2 class=\"alert-heading\">Preguntas</h2>"
   ]
  },
  {
   "cell_type": "code",
   "execution_count": 1,
   "metadata": {},
   "outputs": [],
   "source": [
    "import matplotlib as mpl # Libreria para graficación y visualización\n",
    "import matplotlib.pylab as plt # Libreria para graficación y visualización\n",
    "import numpy as np # Librería para manipulación numerica, especialmente para arreglos de datos\n",
    "import sympy as sp\n",
    "sp.init_printing()"
   ]
  },
  {
   "cell_type": "markdown",
   "metadata": {
    "slideshow": {
     "slide_type": "subslide"
    }
   },
   "source": [
    "**<div class=\"alert alert-warning\">1. El comportamiento de una partícula libre está descrito por\n",
    "la función $\\Psi_n=Ce^{\\pm\\frac{ip_nx}{\\hbar}}$. Calcular el valor medio del momento lineal, $\\left\\langle p_x \\right\\rangle$. (Por lo indicado antes, el coeficiente $C$ es prácticamente nulo).**"
   ]
  },
  {
   "cell_type": "code",
   "execution_count": 15,
   "metadata": {},
   "outputs": [
    {
     "data": {
      "text/latex": [
       "$\\displaystyle \\left( \\text{NaN}, \\  - \\infty \\operatorname{sign}{\\left(C^{2} p \\right)}, \\  \\infty \\operatorname{sign}{\\left(C^{2} \\right)}\\right)$"
      ],
      "text/plain": [
       "⎛            ⎛ 2  ⎞        ⎛ 2⎞⎞\n",
       "⎝nan, -∞⋅sign⎝C ⋅p⎠, ∞⋅sign⎝C ⎠⎠"
      ]
     },
     "execution_count": 15,
     "metadata": {},
     "output_type": "execute_result"
    }
   ],
   "source": [
    "x, p, hbar, C = sp.symbols('x p hbar C')\n",
    "#Psi = sp.Function('Psi', complex=True)(x)\n",
    "Psi=C*sp.exp(sp.I*p*x/hbar)\n",
    "Psic=C*sp.exp(-sp.I*p*x/hbar)\n",
    "Psi2=(sp.I*hbar)*(sp.diff(Psi, x))\n",
    "PN=sp.integrate(Psic*Psi2, (x, -sp.oo, sp.oo))\n",
    "PD=sp.integrate(Psic*Psi, (x, -sp.oo, sp.oo))\n",
    "Pm=PN/PD\n",
    "Pm, PN, PD"
   ]
  },
  {
   "cell_type": "markdown",
   "metadata": {
    "slideshow": {
     "slide_type": "subslide"
    }
   },
   "source": [
    "**<div class=\"alert alert-warning\">2. Determinar la frecuencia y la longitud de onda del fotón emitido cuando una partícula de masa $2 × 10^{–26} g$ pasa del nivel $n = 3$ a $n = 2$ en una caja de potencial unidimensional de 4 nm de longitud.**"
   ]
  },
  {
   "cell_type": "code",
   "execution_count": 177,
   "metadata": {},
   "outputs": [
    {
     "name": "stdout",
     "output_type": "stream",
     "text": [
      "La longitud de onda y la frecuencia son: 1294154296875.0 Hertz, 231811.62 nm\n"
     ]
    }
   ],
   "source": [
    "h=6.62607e-34    #Constante de Planck en joules\n",
    "me=9.1093837e-31  # masa del electrón en kg\n",
    "n1=2  #Estado inicial\n",
    "n2=3 # Estado final\n",
    "m=2.0e-29 # Masa de la partícula en Kg\n",
    "L=4.0e-9 #Longitud de la caje en m\n",
    "c=3.0e8 # Velocidad de la luz en m/s\n",
    "E1=((h**2)*(n1**2))/((8*m)*(L**2))\n",
    "E2=((h**2)*(n2**2))/((8*m)*(L**2))\n",
    "DE=E2-E1 # Diferencia de energía entre las dos estados en Julios (hv)\n",
    "nu=DE/h  # Frecuencia (v) en Hertz\n",
    "l=c/nu*1e9 # Longitud de onda en nanometros\n",
    "print('La longitud de onda y la frecuencia son: ' + str(round(nu, 3)) + ' Hertz, '+ str(round(l, 2)) + ' nm' )"
   ]
  },
  {
   "cell_type": "markdown",
   "metadata": {
    "slideshow": {
     "slide_type": "subslide"
    }
   },
   "source": [
    "**<div class=\"alert alert-warning\">3. Determinar la longitud de una caja de potencial unidimensional, $a$, cuando la longitud de onda de la radiación emitida por un protón al pasar del nivel $n = 5$ al $n = 4$, es de $2.000 nm$.**"
   ]
  },
  {
   "cell_type": "code",
   "execution_count": 175,
   "metadata": {},
   "outputs": [
    {
     "name": "stdout",
     "output_type": "stream",
     "text": [
      "La longitud de la caja es: 0.55 Å\n"
     ]
    }
   ],
   "source": [
    "h=6.62607e-34    #Constante de Planck en joules\n",
    "me=9.1093837e-31  # masa del electrón en kg\n",
    "n1=4  #Estado inicial\n",
    "n2=5 # Estado final\n",
    "mp=1.67262e-27 # Masa de la partícula en Kg\n",
    "l=2e-6 # Longitud de onda en m\n",
    "c=3.0e8 # Velocidad de la luz en m/s\n",
    "#DE=((h**2)/((8*mp)*(L**2)))*(n2**2-n1**2)=hc/l # Diferencia de energía entre las dos estados en Julios (hv)\n",
    "L=sp.sqrt(((h*l)*(n2**2-n1**2))/(8*mp*c))\n",
    "\n",
    "\n",
    "print('La longitud de la caja es: ' + str(round(L*1e10, 2)) + ' Å' )"
   ]
  },
  {
   "cell_type": "markdown",
   "metadata": {
    "slideshow": {
     "slide_type": "subslide"
    }
   },
   "source": [
    "**<div class=\"alert alert-warning\">4. Calcular la densidad de probabilidad de encontrar una partícula en una caja de potencial unidimensional que está sujeta a una función de energía potencial infinita en todas partes a lo largo del eje $x$, salvo en un segmento de longitud a, en que la energía potencial vale cero. Hacer el cálculo en los casos siguientes:**"
   ]
  },
  {
   "cell_type": "markdown",
   "metadata": {
    "slideshow": {
     "slide_type": "subslide"
    }
   },
   "source": [
    "**<div class=\"alert alert-danger\">(a) cuando el número cuántico $n = 1$ en los puntos $x = \\frac{a}{4}$, $\\frac{a}{2}$ y $\\frac{3a}{4}$.\n",
    "(b) cuando el número cuántico $n = 2$ en los puntos $x = \\frac{a}{4}$, $\\frac{a}{2}$ y $\\frac{3a}{4}$.\n",
    "Calcular la probabilidad de encontrar la partícula\n",
    "(c) cuando el número cuántico $n = 1$ en los intervalos $0 ≤ x ≤ \\frac{a}{4}$ y $\\frac{a}{4} ≤ x ≤ \\frac{a}{2}$.\n",
    "(d) cuando el número cuántico $n = 2$ en los intervalos $0 ≤ x ≤ \\frac{a}{4}$ y $\\frac{a}{4} ≤ x ≤ \\frac{a}{2}$.**"
   ]
  },
  {
   "cell_type": "code",
   "execution_count": 39,
   "metadata": {},
   "outputs": [
    {
     "data": {
      "image/png": "[encoded data removed]",
      "text/latex": [
       "$\\displaystyle \\left( \\frac{1}{a}, \\  \\frac{2}{a}, \\  \\frac{1}{a}\\right)$"
      ],
      "text/plain": [
       "⎛1  2  1⎞\n",
       "⎜─, ─, ─⎟\n",
       "⎝a  a  a⎠"
      ]
     },
     "execution_count": 39,
     "metadata": {},
     "output_type": "execute_result"
    }
   ],
   "source": [
    "# a)\n",
    "n=1\n",
    "x=a/4\n",
    "P1=sp.sqrt(2/a)*sp.sin(n*sp.pi*x/a)\n",
    "x=a/2\n",
    "P2=sp.sqrt(2/a)*sp.sin(n*sp.pi*x/a)\n",
    "x=3*a/4\n",
    "P3=sp.sqrt(2/a)*sp.sin(n*sp.pi*x/a)\n",
    "P1**2, P2**2, P3**2"
   ]
  },
  {
   "cell_type": "code",
   "execution_count": 64,
   "metadata": {},
   "outputs": [
    {
     "data": {
      "image/png": "[encoded data removed]",
      "text/latex": [
       "$\\displaystyle \\left( \\frac{2}{a}, \\  0, \\  \\frac{2}{a}\\right)$"
      ],
      "text/plain": [
       "⎛2     2⎞\n",
       "⎜─, 0, ─⎟\n",
       "⎝a     a⎠"
      ]
     },
     "execution_count": 64,
     "metadata": {},
     "output_type": "execute_result"
    }
   ],
   "source": [
    "# b)\n",
    "n=2\n",
    "x=a/4\n",
    "P1=sp.sqrt(2/a)*sp.sin(n*sp.pi*x/a)\n",
    "x=a/2\n",
    "P2=sp.sqrt(2/a)*sp.sin(n*sp.pi*x/a)\n",
    "x=3*a/4\n",
    "P3=sp.sqrt(2/a)*sp.sin(n*sp.pi*x/a)\n",
    "P1**2, P2**2, P3**2"
   ]
  },
  {
   "cell_type": "code",
   "execution_count": 174,
   "metadata": {},
   "outputs": [
    {
     "data": {
      "image/png": "[encoded data removed]",
      "text/latex": [
       "$\\displaystyle \\left( 0.091, \\  0.409\\right)$"
      ],
      "text/plain": [
       "(0.091, 0.409)"
      ]
     },
     "execution_count": 174,
     "metadata": {},
     "output_type": "execute_result"
    }
   ],
   "source": [
    "# c)\n",
    "x, a= sp.symbols('x a', positive=True)\n",
    "F1=sp.sqrt(2/a)*sp.sin(np.pi*x/a)\n",
    "Pr1=sp.integrate(F1**2, (x, 0, a/4))\n",
    "Pr2=sp.integrate(F1**2, (x, a/4, a/2))\n",
    "\n",
    "round(Pr1, 3), round(Pr2, 3)"
   ]
  },
  {
   "cell_type": "code",
   "execution_count": 52,
   "metadata": {},
   "outputs": [
    {
     "data": {
      "image/png": "[encoded data removed]",
      "text/latex": [
       "$\\displaystyle \\left( \\frac{1}{4}, \\  \\frac{1}{4}\\right)$"
      ],
      "text/plain": [
       "(1/4, 1/4)"
      ]
     },
     "execution_count": 52,
     "metadata": {},
     "output_type": "execute_result"
    }
   ],
   "source": [
    "# d)\n",
    "x, a= sp.symbols('x a', positive=True)\n",
    "F1=sp.sqrt(2/a)*sp.sin(2*sp.pi*x/a)\n",
    "Pr1=sp.integrate(F1**2, (x, 0, a/4))\n",
    "Pr2=sp.integrate(F1**2, (x, a/4, a/2))\n",
    "\n",
    "sp.simplify(Pr1), sp.simplify(Pr2)"
   ]
  },
  {
   "cell_type": "markdown",
   "metadata": {
    "slideshow": {
     "slide_type": "subslide"
    }
   },
   "source": [
    "**<div class=\"alert alert-warning\">5. Indicar si las siguientes afirmaciones son verdaderas o falsas y explique su respuesta:**"
   ]
  },
  {
   "cell_type": "markdown",
   "metadata": {
    "slideshow": {
     "slide_type": "subslide"
    }
   },
   "source": [
    "**<div class=\"alert alert-danger\"> (a). El número cuántico del estado fundamental de la partícula en una\n",
    "caja es $n = 0$.\n",
    "(b). Las funciones de onda estacionarias de la partícula en la caja son discontinuas en ciertos puntos.\n",
    "(c). La primera derivada de cada función de onda estacionaria de la partícula en la caja es discontinua en ciertos puntos.\n",
    "(d). El máximo de densidad de probabilidad para todos los estados estacionarios de la partícula en la caja está en el centro de la caja.\n",
    "(e). Para el estado estacionario $n = 2$ de la partícula en la caja, la probabilidad de encontrar la partícula en el cuarto izquierdo de la caja es igual a la probabilidad de encontrarla en el cuarto derecho.\n",
    "(f). Para el estado estacionario $n = 1$ de la partícula en la caja, la probabilidad de encontrar la partícula en el tercio izquierdo de la caja es igual a la probabilidad de encontrarla en el tercio medio.\n",
    "(g). El número de ondas de una transición de absorción de una partícula en una caja que pasa desde el estado con número cuántico $n$ al $n+1$, disminuye conforme aumenta el número cuántico $n$.**"
   ]
  },
  {
   "cell_type": "markdown",
   "metadata": {
    "slideshow": {
     "slide_type": "subslide"
    }
   },
   "source": [
    "**<div class=\"alert alert-success\">6. Considerar un electrón en una caja unidimensional, de longitud $a$. Hallar la longitud de la caja cuando la energía en el punto cero (energía residual) es $E_1 = m_ec^2$. Expresar los resultados en unidades de longitud de onda de Compton ($λ_c = \\frac{h}{m_ec}$).**"
   ]
  },
  {
   "cell_type": "markdown",
   "metadata": {
    "slideshow": {
     "slide_type": "subslide"
    }
   },
   "source": [
    "**<div class=\"alert alert-warning\">7. La banda más intensa del espectro infrarrojo de la molécula monóxido de carbono ($CO$), aparece a $\\hat{\\nu}= 2143\\space cm^{–1}$. Calcular la constante de fuerza de la molécula.**"
   ]
  },
  {
   "cell_type": "code",
   "execution_count": 173,
   "metadata": {},
   "outputs": [
    {
     "name": "stdout",
     "output_type": "stream",
     "text": [
      "La constante de fuerza de la molécula es: 1857.97 N/m\n"
     ]
    }
   ],
   "source": [
    "no=2143 #Numero de onda en cm-1\n",
    "c=3e10 # Velocidad de la luz en cm/s\n",
    "mr=((12*16)/(12+16))*(1/6.02214e26)\n",
    "DV=h*c*no # DEv=hv=h*(1/2pi)sqrt(k/mr)\n",
    "k=(DV**2)*mr*4*np.pi**2/h**2\n",
    "print('La constante de fuerza de la molécula es: ' + str(round(k, 2)) + ' N/m' )"
   ]
  },
  {
   "cell_type": "markdown",
   "metadata": {
    "slideshow": {
     "slide_type": "subslide"
    }
   },
   "source": [
    "**<div class=\"alert alert-warning\">8. Hallar las primeras cuatro funciones propias del oscilador armónico y representar $ψ_υ(x)$ y $ψ_υ(x)^*ψ_υ(x)$ sobre los correspondientes niveles de energía.**"
   ]
  },
  {
   "cell_type": "code",
   "execution_count": 89,
   "metadata": {},
   "outputs": [
    {
     "data": {
      "image/png": "[encoded data removed]",
      "text/latex": [
       "$\\displaystyle \\frac{1.0 \\beta^{0.25} e^{- \\frac{ξ^{2}}{2}}}{\\pi^{0.25}}$"
      ],
      "text/plain": [
       "                    2 \n",
       "                  -ξ  \n",
       "                  ────\n",
       "     -0.25  0.25   2  \n",
       "1.0⋅π     ⋅β    ⋅ℯ    "
      ]
     },
     "execution_count": 89,
     "metadata": {},
     "output_type": "execute_result"
    }
   ],
   "source": [
    "#Sympy permite obtener los Polinomios de Hermite y por tanto la Función de Onda vibracional\n",
    "#v = int(input(\"Introduzca el valor del número cuántico v = \"))\n",
    "x, ξ, N, hbar, beta, omega, m = sp.symbols('x ξ N hbar beta omega m')\n",
    "v=0\n",
    "H_v=sp.hermite(v, ξ)\n",
    "G=sp.exp(-(ξ**2)/2)\n",
    "N=((sp.pi)**(-0.25))*(2**(-0.5*v))*((sp.factorial(v))**(-0.5))*((beta)**(0.25))\n",
    "ψ_v=N*H_v*G\n",
    "ψ_v"
   ]
  },
  {
   "cell_type": "markdown",
   "metadata": {
    "slideshow": {
     "slide_type": "subslide"
    }
   },
   "source": [
    "**<div class=\"alert alert-warning\">9. Para el estado fundamental del oscilador armónico, determinar el valor medio de:**"
   ]
  },
  {
   "cell_type": "code",
   "execution_count": 96,
   "metadata": {},
   "outputs": [
    {
     "data": {
      "image/png": "[encoded data removed]",
      "text/latex": [
       "$\\displaystyle \\left( \\frac{1.0 k m}{\\beta^{2.0} \\hbar^{2}}, \\  \\frac{0.25 k}{\\beta}, \\  \\frac{0.25 \\beta^{1.0} \\hbar^{2}}{m}\\right)$"
      ],
      "text/plain": [
       "⎛     -2.0                    1.0  2⎞\n",
       "⎜1.0⋅β    ⋅k⋅m  0.25⋅k  0.25⋅β   ⋅h̅ ⎟\n",
       "⎜─────────────, ──────, ────────────⎟\n",
       "⎜       2         β          m      ⎟\n",
       "⎝     h̅                            ⎠"
      ]
     },
     "execution_count": 96,
     "metadata": {},
     "output_type": "execute_result"
    }
   ],
   "source": [
    "x, ξ, N, hbar, beta, omega, m = sp.symbols('x ξ N hbar beta omega m')\n",
    "#Psi = sp.Function('Psi', complex=True)(x)\n",
    "Psi2=(-beta*hbar**2/(2*m))*(sp.diff(ψ_v, ξ, 2))\n",
    "PN=sp.integrate((beta**(-0.5))*ψ_v**2*(0.5*k*ξ**2/beta), (ξ, -sp.oo, sp.oo))\n",
    "PD=sp.integrate((beta**(-0.5))*ψ_v*Psi2, (ξ, -sp.oo, sp.oo))\n",
    "Pm=PN/PD\n",
    "Pm, PN, PD"
   ]
  },
  {
   "cell_type": "markdown",
   "metadata": {
    "slideshow": {
     "slide_type": "subslide"
    }
   },
   "source": [
    "<div class=\"alert alert-danger\">\n",
    "\n",
    "- la energía cinética\n",
    "- la energía potencial\n",
    "- Obtener la relación entre $E_1$, $\\left\\langle T_1 \\right\\rangle$ y $\\left\\langle V_1 \\right\\rangle$"
   ]
  },
  {
   "cell_type": "markdown",
   "metadata": {},
   "source": [
    "$$\\large \\alpha=\\frac{2mE}{2}, \\beta = \\frac{\\sqrt{mk}}{\\hbar}=\\frac{m\\omega}{\\hbar}, \\xi =\\sqrt{\\beta}x ⇒ \\frac{\\partial^2}{\\partial{x}^2} = \\beta \\frac{\\partial^2}{\\partial{\\xi}^2}$$\n",
    "$$\\large k=\\frac{\\beta^2\\hbar^2}{m}$$"
   ]
  },
  {
   "cell_type": "markdown",
   "metadata": {
    "slideshow": {
     "slide_type": "subslide"
    }
   },
   "source": [
    "**<div class=\"alert alert-warning\">10. Verificar que las dos primeras funciones propias del oscilador armónico simple $ψ_0(x)$ y $ψ_1(x)$ son ortogonales.**"
   ]
  },
  {
   "cell_type": "code",
   "execution_count": 98,
   "metadata": {},
   "outputs": [
    {
     "data": {
      "image/png": "[encoded data removed]",
      "text/latex": [
       "$\\displaystyle 0$"
      ],
      "text/plain": [
       "0"
      ]
     },
     "execution_count": 98,
     "metadata": {},
     "output_type": "execute_result"
    }
   ],
   "source": [
    "x, ξ, N, hbar, beta, omega, m = sp.symbols('x ξ N hbar beta omega m')\n",
    "#Psi = sp.Function('Psi', complex=True)(x)\n",
    "H0=sp.hermite(0, ξ)\n",
    "G=sp.exp(-(ξ**2)/2)\n",
    "N0=((sp.pi)**(-0.25))*(2**(-0.5*0))*((sp.factorial(0))**(-0.5))*((beta)**(0.25))\n",
    "ψ0=N0*H0*G\n",
    "H1=sp.hermite(1, ξ)\n",
    "G=sp.exp(-(ξ**2)/2)\n",
    "N1=((sp.pi)**(-0.25))*(2**(-0.5*1))*((sp.factorial(1))**(-0.5))*((beta)**(0.25))\n",
    "ψ1=N1*H1*G\n",
    "PN1=sp.integrate(ψ0*ψ1, (ξ, -sp.oo, sp.oo))\n",
    "#PD1=sp.integrate((beta**(-0.5))*ψ_v*Psi2, (ξ, -sp.oo, sp.oo))\n",
    "\n",
    "PN1"
   ]
  },
  {
   "cell_type": "markdown",
   "metadata": {
    "slideshow": {
     "slide_type": "subslide"
    }
   },
   "source": [
    "**<div class=\"alert alert-warning\">11. Encontrar la posición promedio $\\left\\langle x \\right\\rangle$ para el oscilador armónico simple en el estado fundamental.**"
   ]
  },
  {
   "cell_type": "code",
   "execution_count": 101,
   "metadata": {},
   "outputs": [
    {
     "data": {
      "image/png": "[encoded data removed]",
      "text/latex": [
       "$\\displaystyle 0$"
      ],
      "text/plain": [
       "0"
      ]
     },
     "execution_count": 101,
     "metadata": {},
     "output_type": "execute_result"
    }
   ],
   "source": [
    "x, ξ, N, hbar, beta, omega, m = sp.symbols('x ξ N hbar beta omega m')\n",
    "\n",
    "Pm1=sp.integrate((beta)*ξ*ψ0**2, (ξ, -sp.oo, sp.oo))\n",
    "\n",
    "Pm1"
   ]
  },
  {
   "cell_type": "markdown",
   "metadata": {
    "slideshow": {
     "slide_type": "subslide"
    }
   },
   "source": [
    "**<div class=\"alert alert-warning\">12. La oscilación de los átomos alrededor de su posición de equilibrio en la molécula de HI se asemeja al oscilador armónico simple de masa $m ≈ m_H$ (la masa del átomo de yodo es muy grande comparado con la del hidrógeno, y por lo tanto su movimiento es despreciable) y con una constante de fuerza $k = 313,8\\space N\\space m^{–1}$.**"
   ]
  },
  {
   "cell_type": "markdown",
   "metadata": {
    "slideshow": {
     "slide_type": "subslide"
    }
   },
   "source": [
    "<div class=\"alert alert-warning\">\n",
    "\n",
    "- (a) Evaluar la separación de los niveles de energía.\n",
    "- (b) Predecir la longitud de onda de la luz necesaria para inducir una transición entre niveles de energía contiguos."
   ]
  },
  {
   "cell_type": "code",
   "execution_count": 172,
   "metadata": {},
   "outputs": [
    {
     "name": "stdout",
     "output_type": "stream",
     "text": [
      "La diferencia de energía es: 4.58435292904588e-20 J\n",
      "La longitud de onda en micrones es: 433.61 um\n"
     ]
    }
   ],
   "source": [
    "k=313.8 # Constante de fuerza en Nm-1\n",
    "c=3e10 # Velocidad de la luz en cm/s\n",
    "m=(1)*(1/6.02214e26) # Masa del hidrogeno en kg\n",
    "DV=h*sp.sqrt(k/m)/(2*np.pi) # DEv=hv=h*(1/2pi)sqrt(k/mr)\n",
    "l=h*c/DV\n",
    "print('La diferencia de energía es: ' + str((DV)) + ' J' )\n",
    "print('La longitud de onda en micrones es: ' + str(round(l*1e6, 2)) + ' um' )"
   ]
  },
  {
   "cell_type": "markdown",
   "metadata": {
    "slideshow": {
     "slide_type": "subslide"
    }
   },
   "source": [
    "<div class=\"alert alert-warning\">14. Determinar las funciones propias y los valores propios de para\n",
    "- (a) $l = 0$\n",
    "- (b) $l = 1$"
   ]
  },
  {
   "cell_type": "code",
   "execution_count": 113,
   "metadata": {},
   "outputs": [
    {
     "name": "stdin",
     "output_type": "stream",
     "text": [
      "Introduzca el valor del número cuántico l =  1\n",
      "Introduzca el valor del número cuántico m =  0\n"
     ]
    },
    {
     "data": {
      "image/png": "[encoded data removed]",
      "text/latex": [
       "$\\displaystyle \\frac{\\sqrt{3} \\cos{\\left(\\theta \\right)}}{2 \\sqrt{\\pi}}$"
      ],
      "text/plain": [
       "√3⋅cos(θ)\n",
       "─────────\n",
       "   2⋅√π  "
      ]
     },
     "execution_count": 113,
     "metadata": {},
     "output_type": "execute_result"
    }
   ],
   "source": [
    "l = int(input(\"Introduzca el valor del número cuántico l = \"))\n",
    "m = int(input(\"Introduzca el valor del número cuántico m = \"))\n",
    "theta, phi = sp.symbols('theta phi')\n",
    "sp.simplify(sp.Ynm(l, m, theta, phi).expand(func=True))"
   ]
  },
  {
   "cell_type": "markdown",
   "metadata": {
    "slideshow": {
     "slide_type": "subslide"
    }
   },
   "source": [
    "**<div class=\"alert alert-danger\">15. El espectro de vibración del <sup>12</sup>C<sup>16</sup>O consiste aproximadamente en única una línea intensa a 2169.196 $cm^{-1}$. Utilizando la aproximación del oscilador armónico, determine la constante de fuerza del enlace de esta molécula.**"
   ]
  },
  {
   "cell_type": "code",
   "execution_count": 167,
   "metadata": {},
   "outputs": [
    {
     "name": "stdout",
     "output_type": "stream",
     "text": [
      "La constante de fuerza de la molécula es: 1903.67 N/m\n"
     ]
    }
   ],
   "source": [
    "no=2169.196 #Numero de onda en cm-1\n",
    "c=3e10 # Velocidad de la luz en cm/s\n",
    "mr=((12*16)/(12+16))*(1/6.02214e26)\n",
    "DV=h*c*no # DEv=hv=h*(1/2pi)sqrt(k/mr)\n",
    "k=(DV**2)*mr*4*np.pi**2/h**2\n",
    "print('La constante de fuerza de la molécula es: ' + str(round(k, 2)) + ' N/m' )"
   ]
  },
  {
   "cell_type": "markdown",
   "metadata": {
    "slideshow": {
     "slide_type": "subslide"
    }
   },
   "source": [
    "**<div class=\"alert alert-danger\">16. Determinar si es verdadero o falso y explicar? a) La energía en el estado basal de una partícula en una caja es cero. b) Los niveles de energía de la partícula en una caja están equi-espaciados. c) El aumento de la energía de los estados estacionarios de la partícula en una caja corresponde al aumento del número de nodos en su función de onda. d) Cada solución de la ecuación de Schrödinger independiente del tiempo para la partícula en una caja es una función de onda estacionaria de un estado estacionario permitido. e) La transición de la partícula en una caja que absorbe el fotón de mayor longitud de onda es del nivel $n = 1$ al nivel $n = 2$.**"
   ]
  },
  {
   "cell_type": "markdown",
   "metadata": {
    "slideshow": {
     "slide_type": "subslide"
    }
   },
   "source": [
    "**<div class=\"alert alert-danger\">17. Para una partícula en una caja unidimensional de longitud $l$, considere un intervalo infinitesimal de longitud $dl$ que se encuentra dentro de la caja. Para cada uno de los siguientes estados estacionarios, indique qué ubicación(es) de este intervalo da una probabilidad máxima y que da una probabilidad mínima de encontrar la partícula. (a) $n = 1$; (b) $n = 2$; (c) $n = 3$.**"
   ]
  },
  {
   "cell_type": "code",
   "execution_count": 134,
   "metadata": {},
   "outputs": [
    {
     "data": {
      "image/png": "[encoded data removed]",
      "text/latex": [
       "$\\displaystyle \\left( \\frac{4 \\pi \\sin{\\left(\\frac{\\pi x}{L} \\right)} \\cos{\\left(\\frac{\\pi x}{L} \\right)}}{L^{2}}, \\  \\left[ \\frac{L}{2}, \\  L, \\  \\frac{3 L}{2}\\right], \\  \\frac{2}{L}\\right)$"
      ],
      "text/plain": [
       "⎛       ⎛π⋅x⎞    ⎛π⋅x⎞                ⎞\n",
       "⎜4⋅π⋅sin⎜───⎟⋅cos⎜───⎟                ⎟\n",
       "⎜       ⎝ L ⎠    ⎝ L ⎠  ⎡L     3⋅L⎤  2⎟\n",
       "⎜─────────────────────, ⎢─, L, ───⎥, ─⎟\n",
       "⎜           2           ⎣2      2 ⎦  L⎟\n",
       "⎝          L                          ⎠"
      ]
     },
     "execution_count": 134,
     "metadata": {},
     "output_type": "execute_result"
    }
   ],
   "source": [
    "# d)\n",
    "x, L= sp.symbols('x L', positive=True)\n",
    "F12=(sp.sqrt(2/L)*sp.sin(sp.pi*x/L))**2\n",
    "Pr=sp.integrate(F1**2, (x, 0, L))\n",
    "DFPr=sp.diff(F12, x)#Pr2=sp.integrate(F1**2, (x, /4, a/2))\n",
    "RDF=sp.solve(DFPr, x)\n",
    "eval1 = F12.subs(x, RDF[0])\n",
    "DFPr, RDF, eval1"
   ]
  },
  {
   "cell_type": "markdown",
   "metadata": {
    "slideshow": {
     "slide_type": "subslide"
    }
   },
   "source": [
    "**<div class=\"alert alert-danger\">18. Consideremos una partícula con número cuántico $n$ que se mueve en una caja unidimensional de longitud $l$. \n",
    "a) Determine la probabilidad de encontrar la partícula en el cuarto izquierdo de la caja. b) ¿Para qué valor de $n$ es esta probabilidad un máximo? c) ¿Cuál es el límite de esta probabilidad para $n \\rightarrow \\infty$?**"
   ]
  },
  {
   "cell_type": "code",
   "execution_count": 150,
   "metadata": {},
   "outputs": [
    {
     "data": {
      "image/png": "[encoded data removed]",
      "text/latex": [
       "$\\displaystyle \\frac{l \\left(\\pi n - 2 \\sin{\\left(\\frac{\\pi n}{2} \\right)}\\right)}{4 \\pi a n}$"
      ],
      "text/plain": [
       "  ⎛           ⎛π⋅n⎞⎞\n",
       "l⋅⎜π⋅n - 2⋅sin⎜───⎟⎟\n",
       "  ⎝           ⎝ 2 ⎠⎠\n",
       "────────────────────\n",
       "      4⋅π⋅a⋅n       "
      ]
     },
     "execution_count": 150,
     "metadata": {},
     "output_type": "execute_result"
    }
   ],
   "source": [
    "# c)\n",
    "x, l, n= sp.symbols('x l n', positive=True)\n",
    "F1=sp.sqrt(2/a)*sp.sin(n*sp.pi*x/l)\n",
    "Pr1=sp.integrate(F1**2, (x, 0, l/4))\n",
    "#DPr1=sp.diff(Pr1, n)\n",
    "#RDF=sp.solve(Pr1, n)\n",
    "sp.simplify(Pr1)#, RDF"
   ]
  },
  {
   "cell_type": "markdown",
   "metadata": {
    "slideshow": {
     "slide_type": "subslide"
    }
   },
   "source": [
    "**<div class=\"alert alert-danger\">19. Consideremos un electrón en una caja unidimensional de 2.000 Å de longitud con el extremo izquierdo de la caja en x = 0.\n",
    "a) Supongamos que tenemos un millón de estos sistemas, cada uno en el estado n = 1, si medimos la coordenada x del electrón en cada sistema. ¿Aproximadamente cuántas veces el electrón se encuentrá en el intervalo entre 0,600 Å y 0,601 Å? Considere que el intervalo es infinitesimal. b) Supongamos que tenemos un gran número de estos sistemas, cada uno en el estado n = 1, y medimos la coordenada x del electrón en cada sistema encontrando el electrón entre 0,700 Å y 0,701 Å en 126 de las mediciones. ¿En aproximadamente cuántas mediciones se encontrará el electrón entre 1.000 Å y 1.001 Å?**"
   ]
  },
  {
   "cell_type": "code",
   "execution_count": 166,
   "metadata": {},
   "outputs": [
    {
     "data": {
      "image/png": "[encoded data removed]",
      "text/latex": [
       "$\\displaystyle \\left( 655, \\  158585, \\  159\\right)$"
      ],
      "text/plain": [
       "(655, 158585, 159)"
      ]
     },
     "execution_count": 166,
     "metadata": {},
     "output_type": "execute_result"
    }
   ],
   "source": [
    "x, l, n= sp.symbols('x l n', positive=True)\n",
    "F1=sp.sqrt(2/2)*sp.sin(np.pi*x/2)\n",
    "Pr1=sp.integrate(F1**2, (x, 0.6, 0.601))\n",
    "Pr2=sp.integrate(F1**2, (x, 0.7, 0.701))\n",
    "Pr3=sp.integrate(F1**2, (x, 1.000, 1.001))\n",
    "NP1=126/Pr2\n",
    "NP2=NP1*Pr3\n",
    "\n",
    "round(Pr1*1000000), round(NP1), round(NP2)#, RDF"
   ]
  },
  {
   "cell_type": "markdown",
   "metadata": {
    "slideshow": {
     "slide_type": "subslide"
    }
   },
   "source": [
    "**<div class=\"alert alert-danger\">20. Para un objeto macroscópico de masa $1,0\\space g$ que se mueve con una velocidad de $1,0\\space cm/s$ en una caja unidimensional de longitud $1,0\\space cm$, encuentre el número cuántico $n$.**"
   ]
  },
  {
   "cell_type": "code",
   "execution_count": 178,
   "metadata": {},
   "outputs": [
    {
     "name": "stdout",
     "output_type": "stream",
     "text": [
      "n es: 301838042761396000000000000\n"
     ]
    }
   ],
   "source": [
    "h=6.62607e-34    #Constante de Planck en joules\n",
    "me=9.1093837e-31  # masa del electrón en kg\n",
    "n1=4  #Estado inicial\n",
    "n2=5 # Estado final\n",
    "mp=1.0e-3 # Masa de la partícula en Kg\n",
    "l=1.0e-2 # Longitud de la caja en m\n",
    "v=1.0e-2 # Velocidad de la partícula en m/s\n",
    "#DE=((h**2)/((8*mp)*(L**2)))*(n2**2-n1**2)=hc/l # Diferencia de energía entre las dos estados en Julios (hv)\n",
    "n=sp.sqrt(((0.5*mp*v**2)*(8*mp*l**2))/(h**2))\n",
    "\n",
    "\n",
    "print('n es: ' + str(round(n)) + '' )"
   ]
  },
  {
   "cell_type": "markdown",
   "metadata": {
    "slideshow": {
     "slide_type": "subslide"
    }
   },
   "source": [
    "**<div class=\"alert alert-danger\">21. Cuando una partícula de masa $9,1 * 10^{-28}\\space g$ en una cierta caja unidimensional pasa del nivel $n = 5$ al nivel $n = 2$, emite un fotón de frecuencia $6,0 * 10^{14}\\space s^{-1}$. Encuentra la longitud de la caja.**"
   ]
  },
  {
   "cell_type": "code",
   "execution_count": 180,
   "metadata": {},
   "outputs": [
    {
     "name": "stdout",
     "output_type": "stream",
     "text": [
      "La longitud de la caja es: 17.85 Å\n"
     ]
    }
   ],
   "source": [
    "h=6.62607e-34    #Constante de Planck en joules\n",
    "me=9.1093837e-31  # masa del electrón en kg\n",
    "n1=2  #Estado inicial\n",
    "n2=5 # Estado final\n",
    "mp=9.1e-31 # Masa de la partícula en Kg\n",
    "v=6.0e14 # Frecuencia en Hertz\n",
    "#DE=((h**2)/((8*mp)*(L**2)))*(n2**2-n1**2)=hc/l # Diferencia de energía entre las dos estados en Julios (hv)\n",
    "L=sp.sqrt(((h)*(n2**2-n1**2))/(8*mp*v))\n",
    "\n",
    "\n",
    "print('La longitud de la caja es: ' + str(round(L*1e10, 2)) + ' Å' )"
   ]
  },
  {
   "cell_type": "markdown",
   "metadata": {
    "slideshow": {
     "slide_type": "subslide"
    }
   },
   "source": [
    "**<div class=\"alert alert-danger\">22. Cuando un electrón en un cierto nivel excitado de energía en una caja unidimensional de longitud $2.00\\space Å$ hace una transición al estado fundamental, emite un fotón de longitud de onda $8.79\\space nm$. Encuentra el número cuántico del estado inicial.**"
   ]
  },
  {
   "cell_type": "code",
   "execution_count": 181,
   "metadata": {},
   "outputs": [
    {
     "name": "stdout",
     "output_type": "stream",
     "text": [
      "n es: 4\n"
     ]
    }
   ],
   "source": [
    "h=6.62607e-34    #Constante de Planck en joules\n",
    "me=9.1093837e-31  # masa del electrón en kg\n",
    "l=2.0e-10 # Longitud de onda en m\n",
    "lo=8.79e-9 # Longitud de onda en m\n",
    "c=3.0e8 # Velocidad de la luz en m/s\n",
    "#DE=((h**2)/((8*mp)*(L**2)))*(n2**2-n1**2)=hc/l # Diferencia de energía entre las dos estados en Julios (hv)\n",
    "n=sp.sqrt(((c)*(8*me*l**2))/(lo*h)+1)\n",
    "\n",
    "print('n es: ' + str(round(n)) + '' )"
   ]
  },
  {
   "cell_type": "markdown",
   "metadata": {
    "slideshow": {
     "slide_type": "subslide"
    }
   },
   "source": [
    "**<div class=\"alert alert-danger\">23. La frecuencia de absorción de $n = 1$ a $n = 2$ para una cierta partícula en una cierta caja unidimensional es de $6.0 * 10^{12}\\space s^{-1}$. Encuentra la frecuencia de absorción de $n = 2$ a $n = 3$ para este sistema.**"
   ]
  },
  {
   "cell_type": "code",
   "execution_count": 184,
   "metadata": {},
   "outputs": [
    {
     "name": "stdout",
     "output_type": "stream",
     "text": [
      "la frecuencia es: 10000000000000 Hertz\n"
     ]
    }
   ],
   "source": [
    "n1=1\n",
    "n2=2\n",
    "n3=2\n",
    "n4=3\n",
    "v1=6.0e12\n",
    "\n",
    "v2=((n4**2-n3**2)*v1/(n2**2-n1**2))\n",
    "\n",
    "print('La frecuencia es: ' + str(round(v2)) + ' Hertz' )"
   ]
  },
  {
   "cell_type": "markdown",
   "metadata": {
    "slideshow": {
     "slide_type": "subslide"
    }
   },
   "source": [
    "**<div class=\"alert alert-danger\">24. Un electrón en estado estacionario de una caja unidimensional de $0,300\\space nm$ de longitud emite un fotón de frecuencia $5,05 * 10^{15}\\space s^{-1}$. Encuentra los números cuánticos iniciales y finales para esta transición.**"
   ]
  },
  {
   "cell_type": "code",
   "execution_count": 186,
   "metadata": {},
   "outputs": [
    {
     "name": "stdout",
     "output_type": "stream",
     "text": [
      "dn es: 5\n"
     ]
    }
   ],
   "source": [
    "h=6.62607e-34    #Constante de Planck en joules\n",
    "me=9.1093837e-31  # masa del electrón en kg\n",
    "l=3.0e-10 # Longitud de onda en m\n",
    "v=5.05e15 # Frecuencia en Hertz\n",
    "c=3.0e8 # Velocidad de la luz en m/s\n",
    "#DE=((h**2)/((8*mp)*(L**2)))*(n2**2-n1**2)=hc/l # Diferencia de energía entre las dos estados en Julios (hv)\n",
    "dn2=((v)*(8*me*l**2))/(h)\n",
    "\n",
    "print('dn es: ' + str(round(dn2)) + '' )"
   ]
  },
  {
   "cell_type": "markdown",
   "metadata": {},
   "source": [
    "**<font color='blue'>Los estados deben ser 2 y 3 porque la diferencia de sus cuadrados (4 y 9) es igua a 5**"
   ]
  },
  {
   "cell_type": "markdown",
   "metadata": {
    "slideshow": {
     "slide_type": "subslide"
    }
   },
   "source": [
    "**<div class=\"alert alert-danger\">25. Un tratamiento simple de los electrones $\\pi$ de una molécula conjugada considera que estos electrones se mueven en el potencial de una partícula en una caja unidimensional, donde la longitud de la caja es algo mayor que la longitud de la cadena conjugada. El principio de exclusión de Pauli permite que no más de dos electrones ocupen cada nivel de la caja. Para el 1,3-butadieno, $CH_2=CHCH=CH_2$, tome la longitud de la caja como $7,0\\space Å$ y utilice este modelo para estimar la longitud de onda de la luz absorbida cuando un electrón $\\pi$ es excitado desde el nivel *HOMO* hasta el nivel *LUMO*. El valor experimental es de $217\\space nm$.**"
   ]
  },
  {
   "cell_type": "code",
   "execution_count": 190,
   "metadata": {},
   "outputs": [
    {
     "name": "stdout",
     "output_type": "stream",
     "text": [
      "La longitud de onda de absorción es: 323 nm\n",
      "El error con el dato experimental es: 49 %\n"
     ]
    }
   ],
   "source": [
    "h=6.62607e-34    #Constante de Planck en joules\n",
    "me=9.1093837e-31  # masa del electrón en kg\n",
    "N=4 # Número de átomos de carbono\n",
    "L=7.0e-10 # Longitud de onda en m\n",
    "v=5.05e15 # Frecuencia en Hertz\n",
    "R=154740 # Constante de Rydberg en cm-1\n",
    "c=3.0e8 # Velocidad de la luz en m/s\n",
    "#DE=((h**2)/((8*mp)*(L**2)))*(n2**2-n1**2)=hc/l # Diferencia de energía entre las dos estados en Julios (hv)\n",
    "DE=((h**2)/((8*me)*(L**2)))*(N+1)\n",
    "#dn2=((v)*(8*me*l**2))/(h)\n",
    "nu=DE/h\n",
    "l=c/nu*1e9\n",
    "Err=(l-217)/217*100\n",
    "print('La longitud de onda de absorción es: ' + str(round(l)) + ' nm' )\n",
    "print('El error con el dato experimental es: ' + str(round(Err)) + ' %' )"
   ]
  },
  {
   "cell_type": "markdown",
   "metadata": {
    "slideshow": {
     "slide_type": "subslide"
    }
   },
   "source": [
    "**<div class=\"alert alert-danger\">26. Indicar si es verdadero o falso y explicar su respuesta a) En el estado fundamental las partículas en una caja tiene un número cuántico $n = 0$. b) Las funciones de onda estacionarias de las partículas en una caja son discontinuas en ciertos puntos. c) La primera derivada de cada función de onda de estado estacionario de la partícula en una caja es discontinua en ciertos puntos. d) El máximo de la densidad de probabilidad para cada estado estacionario de la partícula en una caja está en el centro de la caja. e) Para la partícula en una caja en el estado estacionario $n = 2$, la probabilidad de encontrar la partícula en el cuarto izquierdo de la caja es igual a la probabilidad de encontrarlo en el cuarto derecho de la caja. f) Para el estado estacionario de $n = 1$ de la partícula en una caja, la probabilidad de encontrar la partícula en el tercio izquierdo de la caja es igual a la probabilidad de encontrarla en el tercio medio. (g) La longitud de onda de la transición de absorción de la partícula en una caja desde el número cuántico $n$ a $n + 1$ disminuye a medida que el valor del número cuántico $n$ aumenta.**"
   ]
  },
  {
   "cell_type": "markdown",
   "metadata": {
    "slideshow": {
     "slide_type": "subslide"
    }
   },
   "source": [
    "**<div class=\"alert alert-danger\">27. a) El espectro de absorción vibracional del <sup>1</sup>H<sup>35</sup>Cl presenta su banda más fuerte en $8,65 * 10^{13}\\space Hz$. Calcula la constante de fuerza del enlace en esta molécula. b) Encuentre la energía vibracional de punto cero (Estado fundamental) aproximada de <sup>1</sup>H<sup>35</sup>Cl. (c) Predecir la frecuencia de la banda infrarroja más fuerte de <sup>2</sup>H<sup>35</sup>Cl.**"
   ]
  },
  {
   "cell_type": "code",
   "execution_count": 195,
   "metadata": {},
   "outputs": [
    {
     "name": "stdout",
     "output_type": "stream",
     "text": [
      "La constante de fuerza de la molécula es: 476.88 N/m\n",
      "La Energía del punto cero es: 2.865775275e-20 J\n",
      "La Frecuencia es: 62008427966598.9 Hertz\n"
     ]
    }
   ],
   "source": [
    "v1=8.65e13 # Frecuencia en Hertz\n",
    "no=2169.196 #Numero de onda en cm-1\n",
    "c=3e10 # Velocidad de la luz en cm/s\n",
    "mr1=((1*35)/(1+35))*(1/6.02214e26)\n",
    "mr2=((2*35)/(2+35))*(1/6.02214e26)\n",
    "DV=0.5*h*v1 # DEv=hv=h*(1/2pi)sqrt(k/mr)\n",
    "k1=(v**2)*mr*4*np.pi**2\n",
    "v2=sp.sqrt(mr1/mr2)*v1\n",
    "print('La constante de fuerza de la molécula es: ' + str(round(k1, 2)) + ' N/m' )\n",
    "print('La Energía del punto cero es: ' + str(DV) + ' J' )\n",
    "print('La Frecuencia es: ' + str(round(v2, 2)) + ' Hertz' )"
   ]
  },
  {
   "cell_type": "markdown",
   "metadata": {
    "slideshow": {
     "slide_type": "subslide"
    }
   },
   "source": [
    "**<div class=\"alert alert-danger\">28. a) La banda $v = 0 \\rightarrow 1$ de $LiH$ se produce a $1359\\space cm^{-1}$. Calcula la proporción de las poblaciones $v = 1$ a $v = 0$ a $25°C$ y a $200°C$. b) Haga lo mismo que en a) para el $ICl$, cuya banda infrarroja más fuerte se produce a $381\\space cm^{-1}$.**"
   ]
  },
  {
   "cell_type": "markdown",
   "metadata": {},
   "source": [
    "## SOLUCIÓN"
   ]
  },
  {
   "cell_type": "markdown",
   "metadata": {},
   "source": [
    "**<div class=\"alert alert-warning\">1. Determinar cuáles de las siguientes funciones son aceptables como funciones de onda, definidas en los intervalos indicados.**\n",
    "**<div class=\"alert alert-warning\">a) $\\large \\frac{1}{x} [0,\\infty)$**\n",
    "**<div class=\"alert alert-warning\">b) $\\large e^{-|x|} (-\\infty, +\\infty)$**\n",
    "**<div class=\"alert alert-warning\">c) $\\large sen(x) [-4π, 4π]$**\n",
    "**<div class=\"alert alert-warning\">d) $\\large e^{-x} [0, \\infty)$**\n",
    "**<div class=\"alert alert-warning\">e) $\\large e^{-x}sen(x) [0, \\infty)$**"
   ]
  },
  {
   "cell_type": "code",
   "execution_count": 2,
   "metadata": {},
   "outputs": [],
   "source": [
    "import matplotlib as mpl # matplotlib library for plotting and visualization\n",
    "import matplotlib.pylab as plt # matplotlib library for plotting and visualization\n",
    "import numpy as np #numpy library for numerical manipulation, especially suited for data arrays\n",
    "import sympy as sp\n",
    "sp.init_printing(use_unicode=True)"
   ]
  },
  {
   "cell_type": "code",
   "execution_count": 3,
   "metadata": {},
   "outputs": [
    {
     "data": {
      "text/plain": [
       "Text(0, 0.5, 'f(x)')"
      ]
     },
     "execution_count": 3,
     "metadata": {},
     "output_type": "execute_result"
    },
    {
     "data": {
      "image/png": "[encoded data removed]",
      "text/plain": [
       "<Figure size 432x288 with 1 Axes>"
      ]
     },
     "metadata": {
      "needs_background": "light"
     },
     "output_type": "display_data"
    }
   ],
   "source": [
    "#from matplotlib.font_manager import FontProperties\n",
    "\n",
    "x = np.arange(0.1, 2.0, 0.01)\n",
    "f=1/x\n",
    "plt.plot(x, f, 'b', linewidth=2)\n",
    "plt.title('$f(x)=1/x$')\n",
    "plt.xlabel('x')\n",
    "plt.ylabel('f(x)')"
   ]
  },
  {
   "cell_type": "code",
   "execution_count": 18,
   "metadata": {},
   "outputs": [
    {
     "data": {
      "text/plain": [
       "Text(0, 0.5, 'f(x)')"
      ]
     },
     "execution_count": 18,
     "metadata": {},
     "output_type": "execute_result"
    },
    {
     "data": {
      "image/png": "[encoded data removed]",
      "text/plain": [
       "<Figure size 432x288 with 1 Axes>"
      ]
     },
     "metadata": {
      "needs_background": "light"
     },
     "output_type": "display_data"
    }
   ],
   "source": [
    "#from matplotlib.font_manager import FontProperties\n",
    "\n",
    "x = np.arange(-4, 4, 0.01)\n",
    "f=np.sin(np.pi*x)\n",
    "plt.plot(x, f, 'b', linewidth=2)\n",
    "plt.title('$f(x)=1/x$')\n",
    "plt.xlabel('x')\n",
    "plt.ylabel('f(x)')"
   ]
  },
  {
   "cell_type": "code",
   "execution_count": null,
   "metadata": {},
   "outputs": [],
   "source": []
  },
  {
   "cell_type": "code",
   "execution_count": 21,
   "metadata": {},
   "outputs": [
    {
     "data": {
      "image/png": "[encoded data removed]",
      "text/latex": [
       "$\\displaystyle \\left( \\frac{d}{d x} \\sin{\\left(x \\right)}, \\  \\cos{\\left(x \\right)}\\right)$"
      ],
      "text/plain": [
       "⎛d                 ⎞\n",
       "⎜──(sin(x)), cos(x)⎟\n",
       "⎝dx                ⎠"
      ]
     },
     "execution_count": 21,
     "metadata": {},
     "output_type": "execute_result"
    }
   ],
   "source": [
    "x=sp.Symbol('x')\n",
    "f=sp.sin(x)\n",
    "Df=sp.Derivative(f, x)\n",
    "Df, Df.doit()\n",
    "#sp.diff(1/x, x, 1)"
   ]
  },
  {
   "cell_type": "code",
   "execution_count": 22,
   "metadata": {},
   "outputs": [
    {
     "data": {
      "image/png": "[encoded data removed]",
      "text/latex": [
       "$\\displaystyle \\left( \\frac{d^{2}}{d x^{2}} \\sin{\\left(x \\right)}, \\  - \\sin{\\left(x \\right)}\\right)$"
      ],
      "text/plain": [
       "⎛  2                 ⎞\n",
       "⎜ d                  ⎟\n",
       "⎜───(sin(x)), -sin(x)⎟\n",
       "⎜  2                 ⎟\n",
       "⎝dx                  ⎠"
      ]
     },
     "execution_count": 22,
     "metadata": {},
     "output_type": "execute_result"
    }
   ],
   "source": [
    "x=sp.Symbol('x')\n",
    "f=sp.sin(x)\n",
    "Df=sp.Derivative(f, x, 2)\n",
    "Df, Df.doit()\n",
    "#sp.diff(1/x, x, 1)"
   ]
  },
  {
   "cell_type": "code",
   "execution_count": 23,
   "metadata": {},
   "outputs": [
    {
     "data": {
      "image/png": "[encoded data removed]",
      "text/latex": [
       "$\\displaystyle \\left( \\int\\limits_{-12.5663706143592}^{12.5663706143592} \\sin^{2}{\\left(x \\right)}\\, dx, \\  12.5663706143592\\right)$"
      ],
      "text/plain": [
       "⎛ 12.5663706143592                             ⎞\n",
       "⎜        ⌠                                     ⎟\n",
       "⎜        ⎮            2                        ⎟\n",
       "⎜        ⎮         sin (x) dx, 12.5663706143592⎟\n",
       "⎜        ⌡                                     ⎟\n",
       "⎝-12.5663706143592                             ⎠"
      ]
     },
     "execution_count": 23,
     "metadata": {},
     "output_type": "execute_result"
    }
   ],
   "source": [
    "x=sp.Symbol('x')\n",
    "f=sp.sin(x)\n",
    "If=sp.Integral(f**2, (x, -4*np.pi, 4*np.pi))\n",
    "#If2=sp.integrate((1/x)**2, (x, 0, sp.oo))\n",
    "If, If.doit()"
   ]
  },
  {
   "cell_type": "code",
   "execution_count": 4,
   "metadata": {},
   "outputs": [
    {
     "data": {
      "image/png": "[encoded data removed]",
      "text/latex": [
       "$\\displaystyle - \\frac{1}{x^{2}}$"
      ],
      "text/plain": [
       "-1 \n",
       "───\n",
       "  2\n",
       " x "
      ]
     },
     "execution_count": 4,
     "metadata": {},
     "output_type": "execute_result"
    }
   ],
   "source": [
    "x=sp.Symbol('x')\n",
    "Df=sp.Derivative(1/x, x)\n",
    "#Df, Df.doit()\n",
    "sp.diff(1/x, x, 1)"
   ]
  },
  {
   "cell_type": "code",
   "execution_count": 8,
   "metadata": {},
   "outputs": [
    {
     "data": {
      "image/png": "[encoded data removed]",
      "text/latex": [
       "$\\displaystyle \\left( \\frac{d^{2}}{d x^{2}} \\frac{1}{x}, \\  \\frac{2}{x^{3}}\\right)$"
      ],
      "text/plain": [
       "⎛  2       ⎞\n",
       "⎜ d ⎛1⎞  2 ⎟\n",
       "⎜───⎜─⎟, ──⎟\n",
       "⎜  2⎝x⎠   3⎟\n",
       "⎝dx      x ⎠"
      ]
     },
     "execution_count": 8,
     "metadata": {},
     "output_type": "execute_result"
    }
   ],
   "source": [
    "x=sp.Symbol('x')\n",
    "D2f=sp.Derivative(1/x, x, 2)\n",
    "D2f, D2f.doit()"
   ]
  },
  {
   "cell_type": "code",
   "execution_count": 11,
   "metadata": {},
   "outputs": [
    {
     "data": {
      "image/png": "[encoded data removed]",
      "text/latex": [
       "$\\displaystyle \\left( \\int\\limits_{0}^{\\infty} \\frac{1}{x^{2}}\\, dx, \\  \\infty, \\  \\infty\\right)$"
      ],
      "text/plain": [
       "⎛∞            ⎞\n",
       "⎜⌠            ⎟\n",
       "⎜⎮ 1          ⎟\n",
       "⎜⎮ ── dx, ∞, ∞⎟\n",
       "⎜⎮  2         ⎟\n",
       "⎜⎮ x          ⎟\n",
       "⎜⌡            ⎟\n",
       "⎝0            ⎠"
      ]
     },
     "execution_count": 11,
     "metadata": {},
     "output_type": "execute_result"
    }
   ],
   "source": [
    "x=sp.Symbol('x')\n",
    "If=sp.Integral((1/x)**2, (x, 0, sp.oo))\n",
    "If2=sp.integrate((1/x)**2, (x, 0, sp.oo))\n",
    "If, If.doit(), If2"
   ]
  },
  {
   "cell_type": "code",
   "execution_count": 4,
   "metadata": {},
   "outputs": [
    {
     "data": {
      "image/png": "[encoded data removed]",
      "text/latex": [
       "$\\displaystyle \\int\\limits_{0}^{2 \\pi} 1\\, dtetha$"
      ],
      "text/plain": [
       "2⋅π           \n",
       " ⌠            \n",
       " ⎮  1 d(tetha)\n",
       " ⌡            \n",
       " 0            "
      ]
     },
     "execution_count": 4,
     "metadata": {},
     "output_type": "execute_result"
    }
   ],
   "source": [
    "tetha=Symbol('tetha')\n",
    "Y1=exp(I*tetha)\n",
    "Y1C=exp(-I*tetha)\n",
    "I1=Integral(Y1*Y1C,(tetha, 0, 2*pi))\n",
    "I1"
   ]
  },
  {
   "cell_type": "code",
   "execution_count": 5,
   "metadata": {},
   "outputs": [
    {
     "data": {
      "image/png": "[encoded data removed]",
      "text/latex": [
       "$\\displaystyle 2 \\pi$"
      ],
      "text/plain": [
       "2⋅π"
      ]
     },
     "execution_count": 5,
     "metadata": {},
     "output_type": "execute_result"
    }
   ],
   "source": [
    "I1.doit()"
   ]
  },
  {
   "cell_type": "markdown",
   "metadata": {},
   "source": [
    "$N=\\frac{1}{\\sqrt(2\\pi)}$, entonces la función normalizada sería: $\\Psi=\\frac{1}{\\sqrt(2\\pi)}exp(i\\theta)$"
   ]
  },
  {
   "cell_type": "code",
   "execution_count": 37,
   "metadata": {},
   "outputs": [
    {
     "data": {
      "image/png": "[encoded data removed]",
      "text/latex": [
       "$\\displaystyle 9.9564179985856 \\cdot 10^{-6}$"
      ],
      "text/plain": [
       "9.95641799858560e-6"
      ]
     },
     "execution_count": 37,
     "metadata": {},
     "output_type": "execute_result"
    }
   ],
   "source": [
    "x, a =sp.symbols('x a')\n",
    "a=1\n",
    "Y2=(sp.sqrt(2/a))*sp.exp(-x/a)\n",
    "I2=sp.integrate(Y2**2, (x, 1.5000, 1.5001))\n",
    "I2"
   ]
  },
  {
   "cell_type": "code",
   "execution_count": 38,
   "metadata": {},
   "outputs": [
    {
     "data": {
      "image/png": "[encoded data removed]",
      "text/latex": [
       "$\\displaystyle 9.9564179985856 \\cdot 10^{-6}$"
      ],
      "text/plain": [
       "9.95641799858560e-6"
      ]
     },
     "execution_count": 38,
     "metadata": {},
     "output_type": "execute_result"
    }
   ],
   "source": [
    "I2.doit()"
   ]
  },
  {
   "cell_type": "code",
   "execution_count": 54,
   "metadata": {},
   "outputs": [
    {
     "data": {
      "image/png": "[encoded data removed]",
      "text/latex": [
       "$\\displaystyle \\left( \\frac{\\partial}{\\partial x} e^{i k x}, \\  i k e^{i k x}, \\  - k^{2} e^{i k x}\\right)$"
      ],
      "text/plain": [
       "⎛∂ ⎛ ⅈ⋅k⋅x⎞       ⅈ⋅k⋅x    2  ⅈ⋅k⋅x⎞\n",
       "⎜──⎝ℯ     ⎠, ⅈ⋅k⋅ℯ     , -k ⋅ℯ     ⎟\n",
       "⎝∂x                                ⎠"
      ]
     },
     "execution_count": 54,
     "metadata": {},
     "output_type": "execute_result"
    }
   ],
   "source": [
    "x, k=sp.symbols('x k')\n",
    "Y3=sp.exp(sp.I*k*x)\n",
    "D1=sp.Derivative(Y3, x)\n",
    "D2=sp.Derivative(Y3, x, 2)\n",
    "D1, D1.doit(), D2.doit()"
   ]
  },
  {
   "cell_type": "markdown",
   "metadata": {},
   "source": [
    "**<div class=\"alert alert-success\">b) $\\large [\\hat{x},\\hat{p}_x]$**"
   ]
  },
  {
   "cell_type": "code",
   "execution_count": 58,
   "metadata": {},
   "outputs": [
    {
     "data": {
      "image/png": "[encoded data removed]",
      "text/latex": [
       "$\\displaystyle \\left( f{\\left(x \\right)}, \\  V{\\left(x \\right)}\\right)$"
      ],
      "text/plain": [
       "(f(x), V(x))"
      ]
     },
     "execution_count": 58,
     "metadata": {},
     "output_type": "execute_result"
    }
   ],
   "source": [
    "x, hbar=sp.symbols('x hbar')\n",
    "f=sp.Function('f')(x)\n",
    "V=sp.Function('V')(x)\n",
    "f, V"
   ]
  },
  {
   "cell_type": "code",
   "execution_count": 46,
   "metadata": {},
   "outputs": [
    {
     "data": {
      "image/png": "[encoded data removed]",
      "text/latex": [
       "$\\displaystyle - i \\hbar x \\frac{d}{d x} f{\\left(x \\right)}$"
      ],
      "text/plain": [
       "       d       \n",
       "-ⅈ⋅h̅⋅x⋅──(f(x))\n",
       "       dx      "
      ]
     },
     "execution_count": 46,
     "metadata": {},
     "output_type": "execute_result"
    }
   ],
   "source": [
    "c1=(-sp.I*hbar)*x*sp.Derivative(f,x)\n",
    "c1"
   ]
  },
  {
   "cell_type": "code",
   "execution_count": 47,
   "metadata": {},
   "outputs": [
    {
     "data": {
      "image/png": "[encoded data removed]",
      "text/latex": [
       "$\\displaystyle - i \\hbar \\frac{d}{d x} x f{\\left(x \\right)}$"
      ],
      "text/plain": [
       "     d         \n",
       "-ⅈ⋅h̅⋅──(x⋅f(x))\n",
       "     dx        "
      ]
     },
     "execution_count": 47,
     "metadata": {},
     "output_type": "execute_result"
    }
   ],
   "source": [
    "c2=(-sp.I*hbar)*sp.Derivative(x*f,x)\n",
    "c2"
   ]
  },
  {
   "cell_type": "code",
   "execution_count": 48,
   "metadata": {},
   "outputs": [
    {
     "data": {
      "image/png": "[encoded data removed]",
      "text/latex": [
       "$\\displaystyle - i \\hbar x \\frac{d}{d x} f{\\left(x \\right)}$"
      ],
      "text/plain": [
       "       d       \n",
       "-ⅈ⋅h̅⋅x⋅──(f(x))\n",
       "       dx      "
      ]
     },
     "execution_count": 48,
     "metadata": {},
     "output_type": "execute_result"
    }
   ],
   "source": [
    "c3=c1.doit()\n",
    "c3"
   ]
  },
  {
   "cell_type": "code",
   "execution_count": 49,
   "metadata": {},
   "outputs": [
    {
     "data": {
      "image/png": "[encoded data removed]",
      "text/latex": [
       "$\\displaystyle - i \\hbar \\left(x \\frac{d}{d x} f{\\left(x \\right)} + f{\\left(x \\right)}\\right)$"
      ],
      "text/plain": [
       "     ⎛  d              ⎞\n",
       "-ⅈ⋅h̅⋅⎜x⋅──(f(x)) + f(x)⎟\n",
       "     ⎝  dx             ⎠"
      ]
     },
     "execution_count": 49,
     "metadata": {},
     "output_type": "execute_result"
    }
   ],
   "source": [
    "c4=c2.doit()\n",
    "c4"
   ]
  },
  {
   "cell_type": "code",
   "execution_count": 50,
   "metadata": {},
   "outputs": [
    {
     "data": {
      "image/png": "[encoded data removed]",
      "text/latex": [
       "$\\displaystyle - i \\hbar x \\frac{d}{d x} f{\\left(x \\right)} + i \\hbar \\left(x \\frac{d}{d x} f{\\left(x \\right)} + f{\\left(x \\right)}\\right)$"
      ],
      "text/plain": [
       "        d              ⎛  d              ⎞\n",
       "- ⅈ⋅h̅⋅x⋅──(f(x)) + ⅈ⋅h̅⋅⎜x⋅──(f(x)) + f(x)⎟\n",
       "        dx             ⎝  dx             ⎠"
      ]
     },
     "execution_count": 50,
     "metadata": {},
     "output_type": "execute_result"
    }
   ],
   "source": [
    "c3-c4"
   ]
  },
  {
   "cell_type": "code",
   "execution_count": 52,
   "metadata": {},
   "outputs": [
    {
     "data": {
      "image/png": "[encoded data removed]",
      "text/latex": [
       "$\\displaystyle i \\hbar f{\\left(x \\right)}$"
      ],
      "text/plain": [
       "ⅈ⋅h̅⋅f(x)"
      ]
     },
     "execution_count": 52,
     "metadata": {},
     "output_type": "execute_result"
    }
   ],
   "source": [
    "sp.simplify(c3-c4)"
   ]
  },
  {
   "cell_type": "markdown",
   "metadata": {},
   "source": [
    "$[x, p]f(x)=i\\hbar f(x)$m por tanto el conmutador $[x, p]=i\\hbar$"
   ]
  },
  {
   "cell_type": "code",
   "execution_count": null,
   "metadata": {},
   "outputs": [],
   "source": []
  },
  {
   "cell_type": "code",
   "execution_count": 24,
   "metadata": {},
   "outputs": [
    {
     "data": {
      "image/png": "[encoded data removed]",
      "text/latex": [
       "$\\displaystyle \\left( \\int\\limits_{0}^{\\infty} e^{- 2 x}\\, dx, \\  \\frac{1}{2}\\right)$"
      ],
      "text/plain": [
       "⎛∞              ⎞\n",
       "⎜⌠              ⎟\n",
       "⎜⎮  -2⋅x        ⎟\n",
       "⎜⎮ ℯ     dx, 1/2⎟\n",
       "⎜⌡              ⎟\n",
       "⎝0              ⎠"
      ]
     },
     "execution_count": 24,
     "metadata": {},
     "output_type": "execute_result"
    }
   ],
   "source": [
    "tta=sp.Symbol('tta')\n",
    "f=sp.exp(-x)\n",
    "If=sp.Integral(f**2, (x, 0, sp.oo))\n",
    "If, If.doit()"
   ]
  },
  {
   "cell_type": "markdown",
   "metadata": {},
   "source": [
    "### Constante de Normalización\n",
    "$$\\large A=\\frac{1}{\\sqrt{b}}$$\n",
    "$$\\large A=\\frac{1}{\\sqrt{0.5}}$$\n",
    "$$\\large Fn=\\sqrt{2}e^{-x}$$"
   ]
  },
  {
   "cell_type": "code",
   "execution_count": 27,
   "metadata": {},
   "outputs": [
    {
     "data": {
      "image/png": "[encoded data removed]",
      "text/latex": [
       "$\\displaystyle \\left( \\int\\limits_{0}^{\\infty} 2.0 e^{- 2 x}\\, dx, \\  1.0\\right)$"
      ],
      "text/plain": [
       "⎛∞                  ⎞\n",
       "⎜⌠                  ⎟\n",
       "⎜⎮      -2⋅x        ⎟\n",
       "⎜⎮ 2.0⋅ℯ     dx, 1.0⎟\n",
       "⎜⌡                  ⎟\n",
       "⎝0                  ⎠"
      ]
     },
     "execution_count": 27,
     "metadata": {},
     "output_type": "execute_result"
    }
   ],
   "source": [
    "A=1/((0.5)**0.5)\n",
    "fn=((2)**0.5)*sp.exp(-x)\n",
    "Ifn=sp.Integral(fn**2, (x, 0, sp.oo))\n",
    "Ifn, Ifn.doit()"
   ]
  },
  {
   "cell_type": "code",
   "execution_count": 36,
   "metadata": {},
   "outputs": [
    {
     "data": {
      "image/png": "[encoded data removed]",
      "text/latex": [
       "$\\displaystyle \\left( \\int\\limits_{0}^{2 \\pi} e^{i tta} e^{- i \\overline{tta}}\\, dtta, \\  2 \\pi\\right)$"
      ],
      "text/plain": [
       "⎛2⋅π                           ⎞\n",
       "⎜ ⌠                            ⎟\n",
       "⎜ ⎮             ___            ⎟\n",
       "⎜ ⎮   ⅈ⋅tta  -ⅈ⋅tta            ⎟\n",
       "⎜ ⎮  ℯ     ⋅ℯ       d(tta), 2⋅π⎟\n",
       "⎜ ⌡                            ⎟\n",
       "⎝ 0                            ⎠"
      ]
     },
     "execution_count": 36,
     "metadata": {},
     "output_type": "execute_result"
    }
   ],
   "source": [
    "tta=sp.Symbol('tta')\n",
    "f=sp.exp(sp.I*tta)\n",
    "fc=sp.exp(-sp.I*tta)\n",
    "fc1=sp.conjugate(f)\n",
    "If=sp.Integral(fc1*f, (tta, 0, 2*sp.pi))\n",
    "If, If.doit()"
   ]
  },
  {
   "cell_type": "code",
   "execution_count": 4,
   "metadata": {},
   "outputs": [
    {
     "data": {
      "image/png": "[encoded data removed]",
      "text/latex": [
       "$\\displaystyle - \\frac{1}{x^{2}}$"
      ],
      "text/plain": [
       "-1 \n",
       "───\n",
       "  2\n",
       " x "
      ]
     },
     "execution_count": 4,
     "metadata": {},
     "output_type": "execute_result"
    }
   ],
   "source": [
    "x=sp.Symbol('x')\n",
    "f=sp.exp(s)\n",
    "Df=sp.Derivative(1/x, x)\n",
    "#Df, Df.doit()\n",
    "sp.diff(1/x, x, 1)"
   ]
  }
 ],
 "metadata": {
  "kernelspec": {
   "display_name": "Python 3 (ipykernel)",
   "language": "python",
   "name": "python3"
  },
  "language_info": {
   "codemirror_mode": {
    "name": "ipython",
    "version": 3
   },
   "file_extension": ".py",
   "mimetype": "text/x-python",
   "name": "python",
   "nbconvert_exporter": "python",
   "pygments_lexer": "ipython3",
   "version": "3.9.7"
  }
 },
 "nbformat": 4,
 "nbformat_minor": 4
}
